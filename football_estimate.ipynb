{
 "cells": [
  {
   "cell_type": "code",
   "execution_count": 21,
   "metadata": {},
   "outputs": [],
   "source": [
    "import pandas as pd\n",
    "import numpy as np\n",
    "import matplotlib.pyplot as plt\n",
    "import seaborn as sns\n",
    "%matplotlib inline\n",
    "import warnings\n",
    "warnings.filterwarnings('ignore')\n",
    "from sklearn.metrics import mean_squared_error\n",
    "from sklearn.ensemble import RandomForestRegressor, GradientBoostingRegressor, ExtraTreesRegressor\n",
    "from sklearn.model_selection import KFold\n",
    "from lightgbm import LGBMRegressor\n",
    "from xgboost import XGBRegressor\n",
    "from ngboost import NGBRegressor\n"
   ]
  },
  {
   "cell_type": "code",
   "execution_count": 4,
   "metadata": {},
   "outputs": [],
   "source": [
    "train=pd.read_csv('FIFA_train.csv')\n",
    "test =pd.read_csv('FIFA_test.csv')\n",
    "sub=pd.read_csv('submission.csv')"
   ]
  },
  {
   "cell_type": "code",
   "execution_count": 5,
   "metadata": {},
   "outputs": [
    {
     "data": {
      "text/html": [
       "<div>\n",
       "<style scoped>\n",
       "    .dataframe tbody tr th:only-of-type {\n",
       "        vertical-align: middle;\n",
       "    }\n",
       "\n",
       "    .dataframe tbody tr th {\n",
       "        vertical-align: top;\n",
       "    }\n",
       "\n",
       "    .dataframe thead th {\n",
       "        text-align: right;\n",
       "    }\n",
       "</style>\n",
       "<table border=\"1\" class=\"dataframe\">\n",
       "  <thead>\n",
       "    <tr style=\"text-align: right;\">\n",
       "      <th></th>\n",
       "      <th>id</th>\n",
       "      <th>name</th>\n",
       "      <th>age</th>\n",
       "      <th>continent</th>\n",
       "      <th>contract_until</th>\n",
       "      <th>position</th>\n",
       "      <th>prefer_foot</th>\n",
       "      <th>reputation</th>\n",
       "      <th>stat_overall</th>\n",
       "      <th>stat_potential</th>\n",
       "      <th>stat_skill_moves</th>\n",
       "      <th>value</th>\n",
       "    </tr>\n",
       "  </thead>\n",
       "  <tbody>\n",
       "    <tr>\n",
       "      <th>0</th>\n",
       "      <td>0</td>\n",
       "      <td>L. Messi</td>\n",
       "      <td>31</td>\n",
       "      <td>south america</td>\n",
       "      <td>2021</td>\n",
       "      <td>ST</td>\n",
       "      <td>left</td>\n",
       "      <td>5.0</td>\n",
       "      <td>94</td>\n",
       "      <td>94</td>\n",
       "      <td>4.0</td>\n",
       "      <td>110500000.0</td>\n",
       "    </tr>\n",
       "    <tr>\n",
       "      <th>1</th>\n",
       "      <td>3</td>\n",
       "      <td>De Gea</td>\n",
       "      <td>27</td>\n",
       "      <td>europe</td>\n",
       "      <td>2020</td>\n",
       "      <td>GK</td>\n",
       "      <td>right</td>\n",
       "      <td>4.0</td>\n",
       "      <td>91</td>\n",
       "      <td>93</td>\n",
       "      <td>1.0</td>\n",
       "      <td>72000000.0</td>\n",
       "    </tr>\n",
       "    <tr>\n",
       "      <th>2</th>\n",
       "      <td>7</td>\n",
       "      <td>L. Suárez</td>\n",
       "      <td>31</td>\n",
       "      <td>south america</td>\n",
       "      <td>2021</td>\n",
       "      <td>ST</td>\n",
       "      <td>right</td>\n",
       "      <td>5.0</td>\n",
       "      <td>91</td>\n",
       "      <td>91</td>\n",
       "      <td>3.0</td>\n",
       "      <td>80000000.0</td>\n",
       "    </tr>\n",
       "    <tr>\n",
       "      <th>3</th>\n",
       "      <td>8</td>\n",
       "      <td>Sergio Ramos</td>\n",
       "      <td>32</td>\n",
       "      <td>europe</td>\n",
       "      <td>2020</td>\n",
       "      <td>DF</td>\n",
       "      <td>right</td>\n",
       "      <td>4.0</td>\n",
       "      <td>91</td>\n",
       "      <td>91</td>\n",
       "      <td>3.0</td>\n",
       "      <td>51000000.0</td>\n",
       "    </tr>\n",
       "    <tr>\n",
       "      <th>4</th>\n",
       "      <td>9</td>\n",
       "      <td>J. Oblak</td>\n",
       "      <td>25</td>\n",
       "      <td>europe</td>\n",
       "      <td>2021</td>\n",
       "      <td>GK</td>\n",
       "      <td>right</td>\n",
       "      <td>3.0</td>\n",
       "      <td>90</td>\n",
       "      <td>93</td>\n",
       "      <td>1.0</td>\n",
       "      <td>68000000.0</td>\n",
       "    </tr>\n",
       "  </tbody>\n",
       "</table>\n",
       "</div>"
      ],
      "text/plain": [
       "   id          name  age      continent contract_until position prefer_foot  \\\n",
       "0   0      L. Messi   31  south america           2021       ST        left   \n",
       "1   3        De Gea   27         europe           2020       GK       right   \n",
       "2   7     L. Suárez   31  south america           2021       ST       right   \n",
       "3   8  Sergio Ramos   32         europe           2020       DF       right   \n",
       "4   9      J. Oblak   25         europe           2021       GK       right   \n",
       "\n",
       "   reputation  stat_overall  stat_potential  stat_skill_moves        value  \n",
       "0         5.0            94              94               4.0  110500000.0  \n",
       "1         4.0            91              93               1.0   72000000.0  \n",
       "2         5.0            91              91               3.0   80000000.0  \n",
       "3         4.0            91              91               3.0   51000000.0  \n",
       "4         3.0            90              93               1.0   68000000.0  "
      ]
     },
     "execution_count": 5,
     "metadata": {},
     "output_type": "execute_result"
    }
   ],
   "source": [
    "train.head()"
   ]
  },
  {
   "cell_type": "code",
   "execution_count": 6,
   "metadata": {},
   "outputs": [
    {
     "data": {
      "text/html": [
       "<div>\n",
       "<style scoped>\n",
       "    .dataframe tbody tr th:only-of-type {\n",
       "        vertical-align: middle;\n",
       "    }\n",
       "\n",
       "    .dataframe tbody tr th {\n",
       "        vertical-align: top;\n",
       "    }\n",
       "\n",
       "    .dataframe thead th {\n",
       "        text-align: right;\n",
       "    }\n",
       "</style>\n",
       "<table border=\"1\" class=\"dataframe\">\n",
       "  <thead>\n",
       "    <tr style=\"text-align: right;\">\n",
       "      <th></th>\n",
       "      <th>id</th>\n",
       "      <th>name</th>\n",
       "      <th>age</th>\n",
       "      <th>continent</th>\n",
       "      <th>contract_until</th>\n",
       "      <th>position</th>\n",
       "      <th>prefer_foot</th>\n",
       "      <th>reputation</th>\n",
       "      <th>stat_overall</th>\n",
       "      <th>stat_potential</th>\n",
       "      <th>stat_skill_moves</th>\n",
       "    </tr>\n",
       "  </thead>\n",
       "  <tbody>\n",
       "    <tr>\n",
       "      <th>0</th>\n",
       "      <td>1</td>\n",
       "      <td>Cristiano Ronaldo</td>\n",
       "      <td>33</td>\n",
       "      <td>europe</td>\n",
       "      <td>2022</td>\n",
       "      <td>ST</td>\n",
       "      <td>right</td>\n",
       "      <td>5.0</td>\n",
       "      <td>94</td>\n",
       "      <td>94</td>\n",
       "      <td>5.0</td>\n",
       "    </tr>\n",
       "    <tr>\n",
       "      <th>1</th>\n",
       "      <td>2</td>\n",
       "      <td>Neymar Jr</td>\n",
       "      <td>26</td>\n",
       "      <td>south america</td>\n",
       "      <td>2022</td>\n",
       "      <td>ST</td>\n",
       "      <td>right</td>\n",
       "      <td>5.0</td>\n",
       "      <td>92</td>\n",
       "      <td>93</td>\n",
       "      <td>5.0</td>\n",
       "    </tr>\n",
       "    <tr>\n",
       "      <th>2</th>\n",
       "      <td>4</td>\n",
       "      <td>K. De Bruyne</td>\n",
       "      <td>27</td>\n",
       "      <td>europe</td>\n",
       "      <td>2023</td>\n",
       "      <td>MF</td>\n",
       "      <td>right</td>\n",
       "      <td>4.0</td>\n",
       "      <td>91</td>\n",
       "      <td>92</td>\n",
       "      <td>4.0</td>\n",
       "    </tr>\n",
       "    <tr>\n",
       "      <th>3</th>\n",
       "      <td>5</td>\n",
       "      <td>E. Hazard</td>\n",
       "      <td>27</td>\n",
       "      <td>europe</td>\n",
       "      <td>2020</td>\n",
       "      <td>ST</td>\n",
       "      <td>right</td>\n",
       "      <td>4.0</td>\n",
       "      <td>91</td>\n",
       "      <td>91</td>\n",
       "      <td>4.0</td>\n",
       "    </tr>\n",
       "    <tr>\n",
       "      <th>4</th>\n",
       "      <td>6</td>\n",
       "      <td>L. Modrić</td>\n",
       "      <td>32</td>\n",
       "      <td>europe</td>\n",
       "      <td>2020</td>\n",
       "      <td>MF</td>\n",
       "      <td>right</td>\n",
       "      <td>4.0</td>\n",
       "      <td>91</td>\n",
       "      <td>91</td>\n",
       "      <td>4.0</td>\n",
       "    </tr>\n",
       "  </tbody>\n",
       "</table>\n",
       "</div>"
      ],
      "text/plain": [
       "   id               name  age      continent contract_until position  \\\n",
       "0   1  Cristiano Ronaldo   33         europe           2022       ST   \n",
       "1   2          Neymar Jr   26  south america           2022       ST   \n",
       "2   4       K. De Bruyne   27         europe           2023       MF   \n",
       "3   5          E. Hazard   27         europe           2020       ST   \n",
       "4   6          L. Modrić   32         europe           2020       MF   \n",
       "\n",
       "  prefer_foot  reputation  stat_overall  stat_potential  stat_skill_moves  \n",
       "0       right         5.0            94              94               5.0  \n",
       "1       right         5.0            92              93               5.0  \n",
       "2       right         4.0            91              92               4.0  \n",
       "3       right         4.0            91              91               4.0  \n",
       "4       right         4.0            91              91               4.0  "
      ]
     },
     "execution_count": 6,
     "metadata": {},
     "output_type": "execute_result"
    }
   ],
   "source": [
    "test.head()"
   ]
  },
  {
   "cell_type": "code",
   "execution_count": 13,
   "metadata": {},
   "outputs": [],
   "source": [
    "def con_period(x):\n",
    "    if x =='Dec 31, 2018':\n",
    "        return '2019'\n",
    "    elif x=='Jun 30, 2020':\n",
    "        return '2020.5'\n",
    "    elif x=='Jun 30, 2019':\n",
    "        return '2019.5'\n",
    "    elif x=='May 31, 2020':\n",
    "        return '2020.3333'\n",
    "    elif x=='May 31, 2019':\n",
    "        return '2019.3333'\n",
    "    elif x=='Jan 31, 2019':\n",
    "        return '2019.0833'\n",
    "    elif x=='Jan 1, 2019':\n",
    "        return '2019'\n",
    "    elif x=='Jan 12, 2019':\n",
    "        return '2019.034'\n",
    "    elif x=='Dec 31, 2020':\n",
    "        return '2020'\n",
    "    elif x=='Jun 1, 2019':\n",
    "        return '2019.416'\n",
    "    else:\n",
    "        return x"
   ]
  },
  {
   "cell_type": "code",
   "execution_count": 14,
   "metadata": {},
   "outputs": [],
   "source": [
    "train.contract_until = train.contract_until.apply(con_period).astype('float64') - 2018\n",
    "test.contract_until = train.contract_until.apply(con_period).astype('float64') - 2018\n"
   ]
  },
  {
   "cell_type": "code",
   "execution_count": 15,
   "metadata": {},
   "outputs": [],
   "source": [
    "train[['age', 'stat_potential']] = np.log1p(train[['age','stat_potential']])\n",
    "test[['age', 'stat_potential']] = np.log1p(test[['age','stat_potential']])"
   ]
  },
  {
   "cell_type": "code",
   "execution_count": 16,
   "metadata": {},
   "outputs": [],
   "source": [
    "X= train[['age', 'continent', 'contract_until', 'position', 'reputation', 'stat_overall', 'stat_potential', 'stat_skill_moves']]\n",
    "y= np.log1p(train['value'])"
   ]
  },
  {
   "cell_type": "code",
   "execution_count": 17,
   "metadata": {},
   "outputs": [],
   "source": [
    "#train set\n",
    "X = pd.get_dummies(columns =['continent', 'position'], data=X)"
   ]
  },
  {
   "cell_type": "code",
   "execution_count": 19,
   "metadata": {},
   "outputs": [],
   "source": [
    "#test set\n",
    "target= test[['age', 'continent', 'contract_until', 'position', 'reputation', 'stat_overall', 'stat_potential', 'stat_skill_moves']]\n",
    "target= pd.get_dummies(columns =['continent', 'position'],data=target)"
   ]
  },
  {
   "cell_type": "code",
   "execution_count": 20,
   "metadata": {},
   "outputs": [],
   "source": [
    "#10-Fold Crssvalidation\n",
    "kf= KFold(n_splits =10, random_state= 521, shuffle=True)"
   ]
  },
  {
   "cell_type": "code",
   "execution_count": 23,
   "metadata": {},
   "outputs": [],
   "source": [
    "#ngbregressor\n",
    "ngb= NGBRegressor(random_state=521, verbose =500, n_estimators =500)\n",
    "\n"
   ]
  },
  {
   "cell_type": "code",
   "execution_count": 25,
   "metadata": {},
   "outputs": [],
   "source": [
    "ngb_pred = np.zeros((target.shape[0]))"
   ]
  },
  {
   "cell_type": "code",
   "execution_count": 29,
   "metadata": {},
   "outputs": [
    {
     "name": "stdout",
     "output_type": "stream",
     "text": [
      "[iter 0] loss=-1.1775 val_loss=0.0000 scale=2.0000 norm=0.9135\n",
      "[iter 100] loss=-1.2371 val_loss=0.0000 scale=1.0000 norm=0.4654\n",
      "[iter 200] loss=-1.2772 val_loss=0.0000 scale=1.0000 norm=0.4726\n",
      "[iter 300] loss=-1.3095 val_loss=0.0000 scale=2.0000 norm=0.9571\n",
      "[iter 400] loss=-1.3356 val_loss=0.0000 scale=1.0000 norm=0.4834\n",
      "[iter 0] loss=-1.3507 val_loss=0.0000 scale=1.0000 norm=0.4882\n",
      "[iter 100] loss=-1.3725 val_loss=0.0000 scale=1.0000 norm=0.4864\n",
      "[iter 200] loss=-1.3943 val_loss=0.0000 scale=2.0000 norm=0.9715\n",
      "[iter 300] loss=-1.4158 val_loss=0.0000 scale=1.0000 norm=0.4858\n",
      "[iter 400] loss=-1.4319 val_loss=0.0000 scale=1.0000 norm=0.4878\n",
      "[iter 0] loss=-1.4051 val_loss=0.0000 scale=1.0000 norm=0.5126\n",
      "[iter 100] loss=-1.4550 val_loss=0.0000 scale=1.0000 norm=0.4885\n",
      "[iter 200] loss=-1.4714 val_loss=0.0000 scale=1.0000 norm=0.4905\n",
      "[iter 300] loss=-1.4823 val_loss=0.0000 scale=1.0000 norm=0.4919\n",
      "[iter 400] loss=-1.4918 val_loss=0.0000 scale=1.0000 norm=0.4918\n",
      "[iter 0] loss=-1.4751 val_loss=0.0000 scale=1.0000 norm=0.5084\n",
      "[iter 100] loss=-1.5062 val_loss=0.0000 scale=1.0000 norm=0.4899\n",
      "[iter 200] loss=-1.5132 val_loss=0.0000 scale=2.0000 norm=0.9821\n",
      "[iter 300] loss=-1.5214 val_loss=0.0000 scale=1.0000 norm=0.4909\n",
      "[iter 400] loss=-1.5314 val_loss=0.0000 scale=1.0000 norm=0.4906\n",
      "[iter 0] loss=-1.5288 val_loss=0.0000 scale=1.0000 norm=0.4900\n",
      "[iter 100] loss=-1.5498 val_loss=0.0000 scale=1.0000 norm=0.4855\n",
      "[iter 200] loss=-1.5583 val_loss=0.0000 scale=1.0000 norm=0.4873\n",
      "[iter 300] loss=-1.5662 val_loss=0.0000 scale=0.5000 norm=0.2441\n",
      "[iter 400] loss=-1.5736 val_loss=0.0000 scale=1.0000 norm=0.4882\n",
      "[iter 0] loss=-1.5765 val_loss=0.0000 scale=1.0000 norm=0.4928\n",
      "[iter 100] loss=-1.5837 val_loss=0.0000 scale=1.0000 norm=0.4908\n",
      "[iter 200] loss=-1.5909 val_loss=0.0000 scale=1.0000 norm=0.4904\n",
      "[iter 300] loss=-1.5990 val_loss=0.0000 scale=1.0000 norm=0.4892\n",
      "[iter 400] loss=-1.6047 val_loss=0.0000 scale=1.0000 norm=0.4893\n",
      "[iter 0] loss=-1.5746 val_loss=0.0000 scale=1.0000 norm=0.5093\n",
      "[iter 100] loss=-1.6022 val_loss=0.0000 scale=1.0000 norm=0.4903\n",
      "[iter 200] loss=-1.6146 val_loss=0.0000 scale=1.0000 norm=0.4875\n",
      "[iter 300] loss=-1.6224 val_loss=0.0000 scale=1.0000 norm=0.4878\n",
      "[iter 400] loss=-1.6286 val_loss=0.0000 scale=1.0000 norm=0.4880\n",
      "[iter 0] loss=-1.6097 val_loss=0.0000 scale=1.0000 norm=0.5054\n",
      "[iter 100] loss=-1.6512 val_loss=0.0000 scale=1.0000 norm=0.4846\n",
      "[iter 200] loss=-1.6610 val_loss=0.0000 scale=1.0000 norm=0.4868\n",
      "[iter 300] loss=-1.6662 val_loss=0.0000 scale=1.0000 norm=0.4888\n",
      "[iter 400] loss=-1.6722 val_loss=0.0000 scale=1.0000 norm=0.4890\n",
      "[iter 0] loss=-1.5946 val_loss=0.0000 scale=1.0000 norm=0.5434\n",
      "[iter 100] loss=-1.6670 val_loss=0.0000 scale=1.0000 norm=0.4874\n",
      "[iter 200] loss=-1.6807 val_loss=0.0000 scale=1.0000 norm=0.4857\n",
      "[iter 300] loss=-1.6866 val_loss=0.0000 scale=1.0000 norm=0.4865\n",
      "[iter 400] loss=-1.6907 val_loss=0.0000 scale=1.0000 norm=0.4874\n",
      "[iter 0] loss=-1.6889 val_loss=0.0000 scale=1.0000 norm=0.4888\n",
      "[iter 100] loss=-1.7007 val_loss=0.0000 scale=1.0000 norm=0.4876\n",
      "[iter 200] loss=-1.7072 val_loss=0.0000 scale=1.0000 norm=0.4889\n",
      "[iter 300] loss=-1.7120 val_loss=0.0000 scale=0.5000 norm=0.2447\n",
      "[iter 400] loss=-1.7185 val_loss=0.0000 scale=1.0000 norm=0.4886\n",
      "NGBRegressor의 10fold 평균RMSE는 345627.5964042005\n"
     ]
    }
   ],
   "source": [
    "rmse_list=[]\n",
    "for tr_idx, val_idx in kf.split(X,y):\n",
    "    tr_x, tr_y =X.iloc[tr_idx], y.iloc[tr_idx]\n",
    "    val_x, val_y = X.iloc[val_idx], y.iloc[val_idx]\n",
    "\n",
    "    ngb.fit(tr_x, tr_y)\n",
    "    pred = np.expm1([0 if x < 0 else x for x in ngb.predict(val_x)])\n",
    "\n",
    "    rmse = np.sqrt(mean_squared_error(np.expm1(val_y), pred))\n",
    "    rmse_list.append(rmse)\n",
    "\n",
    "    sub_pred = np.expm1([0 if x < 0 else x for x in ngb.predict(target)]) /10\n",
    "    ngb_pred += sub_pred\n",
    "print(f'{ngb.__class__.__name__}의 10fold 평균RMSE는 {np.mean(rmse_list)}')\n",
    "\n"
   ]
  },
  {
   "cell_type": "code",
   "execution_count": 31,
   "metadata": {},
   "outputs": [],
   "source": [
    "#randomforestregressor\n",
    "rf =RandomForestRegressor(random_state= 521, n_estimators =150)\n"
   ]
  },
  {
   "cell_type": "code",
   "execution_count": 33,
   "metadata": {},
   "outputs": [
    {
     "name": "stdout",
     "output_type": "stream",
     "text": [
      "RandomForestRegressor의 10fold 평균RMSE는 576490.9265314413\n"
     ]
    }
   ],
   "source": [
    "rf_pred = np.zeros((target.shape[0]))\n",
    "for tr_idx, val_idx in kf.split(X,y):\n",
    "    tr_x, tr_y =X.iloc[tr_idx], y.iloc[tr_idx]\n",
    "    val_x, val_y = X.iloc[val_idx], y.iloc[val_idx]\n",
    "\n",
    "    rf.fit(tr_x, tr_y)\n",
    "    pred = np.expm1([0 if x < 0 else x for x in rf.predict(val_x)])\n",
    "\n",
    "    rmse = np.sqrt(mean_squared_error(np.expm1(val_y), pred))\n",
    "    rmse_list.append(rmse)\n",
    "\n",
    "    sub_pred = np.expm1([0 if x < 0 else x for x in rf.predict(target)]) /10\n",
    "    rf_pred += sub_pred\n",
    "print(f'{rf.__class__.__name__}의 10fold 평균RMSE는 {np.mean(rmse_list)}')\n"
   ]
  },
  {
   "cell_type": "code",
   "execution_count": 35,
   "metadata": {},
   "outputs": [],
   "source": [
    "#ExtraTreesRegressor\n",
    "etc =ExtraTreesRegressor(random_state= 521, n_estimators =500)\n"
   ]
  },
  {
   "cell_type": "code",
   "execution_count": 36,
   "metadata": {},
   "outputs": [
    {
     "name": "stdout",
     "output_type": "stream",
     "text": [
      "ExtraTreesRegressor의 10fold 평균 RMSE는 748777.7449780542\n"
     ]
    }
   ],
   "source": [
    "etc_pred = np.zeros((target.shape[0]))\n",
    "rmse_list = []\n",
    "for tr_idx, val_idx in kf.split(X, y) :\n",
    "    tr_x, tr_y = X.iloc[tr_idx], y.iloc[tr_idx]\n",
    "    val_x, val_y = X.iloc[val_idx], y.iloc[val_idx]\n",
    "    \n",
    "    etc.fit(tr_x, tr_y)\n",
    "    pred = np.expm1([0 if x < 0 else x for x in etc.predict(val_x)])\n",
    "\n",
    "    rmse = np.sqrt(mean_squared_error(np.expm1(val_y), pred))\n",
    "    rmse_list.append(rmse)\n",
    "    \n",
    "    sub_pred = np.expm1([0 if x < 0 else x for x in etc.predict(target)]) / 10\n",
    "    etc_pred += sub_pred\n",
    "print(f'{etc.__class__.__name__}의 10fold 평균 RMSE는 {np.mean(rmse_list)}')"
   ]
  },
  {
   "cell_type": "code",
   "execution_count": 42,
   "metadata": {},
   "outputs": [],
   "source": [
    "gb = GradientBoostingRegressor(random_state = 521, max_depth = 5)"
   ]
  },
  {
   "cell_type": "code",
   "execution_count": 44,
   "metadata": {},
   "outputs": [
    {
     "name": "stdout",
     "output_type": "stream",
     "text": [
      "GradientBoostingRegressor의 10fold 평균 RMSE는 590051.6390746763\n"
     ]
    }
   ],
   "source": [
    "gb_pred= np.zeros((target.shape[0]))\n",
    "\n",
    "rmse_list=[]\n",
    "for tr_idx, val_idx in kf.split(X,y):\n",
    "    tr_x, tr_y = X.iloc[tr_idx], y.iloc[tr_idx]\n",
    "    val_x, val_y = X.iloc[val_idx], y.iloc[val_idx]\n",
    "\n",
    "    gb.fit(tr_x, tr_y)\n",
    "    pred =np.expm1([0 if x < 0 else x for x in gb.predict(val_x)])\n",
    "\n",
    "    rmse=np.sqrt(mean_squared_error(np.expm1(val_y), pred))\n",
    "    rmse_list.append(rmse)\n",
    "    \n",
    "    sub_pred = np.expm1([0 if x < 0 else x for x in gb.predict(target)]) / 10\n",
    "    gb_pred += sub_pred\n",
    "print(f'{gb.__class__.__name__}의 10fold 평균 RMSE는 {np.mean(rmse_list)}')"
   ]
  },
  {
   "cell_type": "code",
   "execution_count": 51,
   "metadata": {},
   "outputs": [],
   "source": [
    "#LgbmRegressor\n",
    "lgbm = LGBMRegressor(random_state = 521, max_depth = 4, n_estimators = 1000)"
   ]
  },
  {
   "cell_type": "code",
   "execution_count": 52,
   "metadata": {},
   "outputs": [
    {
     "name": "stdout",
     "output_type": "stream",
     "text": [
      "LGBMRegressor의 10fold 평균 RMSE는 600903.6346210752\n"
     ]
    }
   ],
   "source": [
    "lgbm_pred= np.zeros((target.shape[0]))\n",
    "\n",
    "rmse_list = []\n",
    "for tr_idx, val_idx in kf.split(X,y):\n",
    "    tr_x,tr_y = X.iloc[tr_idx], y.iloc[tr_idx]\n",
    "    val_x, val_y = X.iloc[val_idx], y.iloc[val_idx]\n",
    "\n",
    "    lgbm.fit(tr_x, tr_y)\n",
    "    pred = np.expm1([0 if x< 0 else x for x in lgbm.predict(val_x)])\n",
    "\n",
    "    rmse = np.sqrt(mean_squared_error(np.expm1(val_y), pred))\n",
    "    rmse_list.append(rmse)\n",
    "\n",
    "    sub_pred = np.expm1([0 if x < 0 else x for x in lgbm.predict(target)]) / 10\n",
    "    lgbm_pred += sub_pred\n",
    "print(f'{lgbm.__class__.__name__}의 10fold 평균 RMSE는 {np.mean(rmse_list)}')"
   ]
  },
  {
   "cell_type": "code",
   "execution_count": 53,
   "metadata": {},
   "outputs": [],
   "source": [
    "#XgbRegressor\n",
    "xgb = XGBRegressor(random_state = 521, max_depth = 5)"
   ]
  },
  {
   "cell_type": "code",
   "execution_count": 54,
   "metadata": {},
   "outputs": [
    {
     "name": "stdout",
     "output_type": "stream",
     "text": [
      "XGBRegressor의 10fold 평균 RMSE는 581307.2716821915\n"
     ]
    }
   ],
   "source": [
    "xgb_pred = np.zeros((target.shape[0]))\n",
    "rmse_list = []\n",
    "for tr_idx, val_idx in kf.split(X, y) :\n",
    "    tr_x, tr_y = X.iloc[tr_idx], y.iloc[tr_idx]\n",
    "    val_x, val_y = X.iloc[val_idx], y.iloc[val_idx]\n",
    "    \n",
    "    xgb.fit(tr_x, tr_y)\n",
    "    pred = np.expm1([0 if x < 0 else x for x in xgb.predict(val_x)])\n",
    "\n",
    "    rmse = np.sqrt(mean_squared_error(np.expm1(val_y), pred))\n",
    "    rmse_list.append(rmse)\n",
    "    \n",
    "    sub_pred = np.expm1([0 if x < 0 else x for x in xgb.predict(target)]) / 10\n",
    "    xgb_pred += sub_pred\n",
    "print(f'{xgb.__class__.__name__}의 10fold 평균 RMSE는 {np.mean(rmse_list)}')"
   ]
  },
  {
   "cell_type": "code",
   "execution_count": 55,
   "metadata": {},
   "outputs": [],
   "source": [
    "sub['value']=(gb_pred + rf_pred + etc_pred + lgbm_pred + ngb_pred + xgb_pred) / 6"
   ]
  },
  {
   "cell_type": "code",
   "execution_count": 56,
   "metadata": {},
   "outputs": [],
   "source": [
    "q1 = sub['value'].quantile(0.004)\n",
    "q2 = sub['value'].quantile(0.99)\n",
    "\n",
    "sub['value'] = sub['value'].apply(lambda x: x if x > q1 else x * 0.9)\n",
    "sub['value'] = sub['value'].apply(lambda x: x if x < q2 else x * 1.1)"
   ]
  },
  {
   "cell_type": "code",
   "execution_count": 57,
   "metadata": {},
   "outputs": [
    {
     "data": {
      "text/html": [
       "<div>\n",
       "<style scoped>\n",
       "    .dataframe tbody tr th:only-of-type {\n",
       "        vertical-align: middle;\n",
       "    }\n",
       "\n",
       "    .dataframe tbody tr th {\n",
       "        vertical-align: top;\n",
       "    }\n",
       "\n",
       "    .dataframe thead th {\n",
       "        text-align: right;\n",
       "    }\n",
       "</style>\n",
       "<table border=\"1\" class=\"dataframe\">\n",
       "  <thead>\n",
       "    <tr style=\"text-align: right;\">\n",
       "      <th></th>\n",
       "      <th>id</th>\n",
       "      <th>value</th>\n",
       "    </tr>\n",
       "  </thead>\n",
       "  <tbody>\n",
       "    <tr>\n",
       "      <th>0</th>\n",
       "      <td>1</td>\n",
       "      <td>6.348730e+07</td>\n",
       "    </tr>\n",
       "    <tr>\n",
       "      <th>1</th>\n",
       "      <td>2</td>\n",
       "      <td>9.987667e+07</td>\n",
       "    </tr>\n",
       "    <tr>\n",
       "      <th>2</th>\n",
       "      <td>4</td>\n",
       "      <td>8.420342e+07</td>\n",
       "    </tr>\n",
       "    <tr>\n",
       "      <th>3</th>\n",
       "      <td>5</td>\n",
       "      <td>8.797257e+07</td>\n",
       "    </tr>\n",
       "    <tr>\n",
       "      <th>4</th>\n",
       "      <td>6</td>\n",
       "      <td>6.808628e+07</td>\n",
       "    </tr>\n",
       "    <tr>\n",
       "      <th>...</th>\n",
       "      <td>...</td>\n",
       "      <td>...</td>\n",
       "    </tr>\n",
       "    <tr>\n",
       "      <th>3823</th>\n",
       "      <td>16924</td>\n",
       "      <td>5.859953e+04</td>\n",
       "    </tr>\n",
       "    <tr>\n",
       "      <th>3824</th>\n",
       "      <td>16929</td>\n",
       "      <td>5.021124e+04</td>\n",
       "    </tr>\n",
       "    <tr>\n",
       "      <th>3825</th>\n",
       "      <td>16932</td>\n",
       "      <td>6.061620e+04</td>\n",
       "    </tr>\n",
       "    <tr>\n",
       "      <th>3826</th>\n",
       "      <td>16937</td>\n",
       "      <td>4.907546e+04</td>\n",
       "    </tr>\n",
       "    <tr>\n",
       "      <th>3827</th>\n",
       "      <td>16943</td>\n",
       "      <td>5.060022e+04</td>\n",
       "    </tr>\n",
       "  </tbody>\n",
       "</table>\n",
       "<p>3828 rows × 2 columns</p>\n",
       "</div>"
      ],
      "text/plain": [
       "         id         value\n",
       "0         1  6.348730e+07\n",
       "1         2  9.987667e+07\n",
       "2         4  8.420342e+07\n",
       "3         5  8.797257e+07\n",
       "4         6  6.808628e+07\n",
       "...     ...           ...\n",
       "3823  16924  5.859953e+04\n",
       "3824  16929  5.021124e+04\n",
       "3825  16932  6.061620e+04\n",
       "3826  16937  4.907546e+04\n",
       "3827  16943  5.060022e+04\n",
       "\n",
       "[3828 rows x 2 columns]"
      ]
     },
     "execution_count": 57,
     "metadata": {},
     "output_type": "execute_result"
    }
   ],
   "source": [
    "sub"
   ]
  },
  {
   "cell_type": "code",
   "execution_count": null,
   "metadata": {},
   "outputs": [],
   "source": []
  }
 ],
 "metadata": {
  "interpreter": {
   "hash": "a4fd1451840babbb37e6226633a71627e1f918595ad990aa0f1a715d0e292c9f"
  },
  "kernelspec": {
   "display_name": "Python 3.8.8 64-bit ('base': conda)",
   "language": "python",
   "name": "python3"
  },
  "language_info": {
   "codemirror_mode": {
    "name": "ipython",
    "version": 3
   },
   "file_extension": ".py",
   "mimetype": "text/x-python",
   "name": "python",
   "nbconvert_exporter": "python",
   "pygments_lexer": "ipython3",
   "version": "3.8.8"
  },
  "orig_nbformat": 4
 },
 "nbformat": 4,
 "nbformat_minor": 2
}
