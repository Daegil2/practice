{
 "cells": [
  {
   "cell_type": "code",
   "execution_count": 1,
   "metadata": {},
   "outputs": [],
   "source": [
    "import numpy as np\n",
    "import pandas as pd\n",
    "import tensorflow as tf\n",
    "import pandas as pd\n",
    "import warnings\n",
    "from PIL import Image\n",
    "\n",
    "import matplotlib.pyplot as plt\n",
    "%matplotlib inline\n",
    "\n",
    "from tqdm import trange\n",
    "\n",
    "import warnings\n",
    "warnings.filterwarnings(\"ignore\")\n",
    "\n",
    "np.random.seed(0)"
   ]
  },
  {
   "cell_type": "code",
   "execution_count": 2,
   "metadata": {},
   "outputs": [],
   "source": [
    "train=pd.read_csv('train/train_data.csv')\n",
    "test=pd.read_csv('test/test_data.csv')\n",
    "submission= pd.read_csv('sample_submission.csv')\n"
   ]
  },
  {
   "cell_type": "code",
   "execution_count": 7,
   "metadata": {},
   "outputs": [],
   "source": [
    "train_file_dir= 'train/'\n",
    "test_file_dir='test/'\n",
    "x_train= np.zeros((len(train),28,28,1))\n",
    "y_train= train['label']\n",
    "# 데이터 저장할 공간 생성\n",
    "x_test = np.zeros((len(test), 28,28,1))\n",
    "\n",
    "for i, image_name in enumerate(train['file_name']):\n",
    "    x_train[i] = np.reshape(np.array(Image.open(train_file_dir + image_name)),(28,28,1))\n",
    "\n",
    "for i, image_name in enumerate(test['file_name']):\n",
    "    x_test[i] = np.reshape(np.array(Image.open(test_file_dir + image_name)), (28,28,1))"
   ]
  },
  {
   "cell_type": "code",
   "execution_count": 8,
   "metadata": {},
   "outputs": [],
   "source": [
    "# 데이터 분할\n",
    "from sklearn.model_selection import train_test_split\n",
    "\n",
    "X_train, X_validation, Y_train, Y_validation = train_test_split(x_train, y_train, test_size=0.1, shuffle=True)\n"
   ]
  },
  {
   "cell_type": "code",
   "execution_count": 9,
   "metadata": {},
   "outputs": [],
   "source": [
    "X_train, X_validation, Y_train, Y_validation = train_test_split(x_train, y_train, test_size=0.1, shuffle=True)"
   ]
  },
  {
   "cell_type": "code",
   "execution_count": 13,
   "metadata": {},
   "outputs": [
    {
     "name": "stdout",
     "output_type": "stream",
     "text": [
      "Epoch 1/20\n",
      "141/141 [==============================] - 2s 11ms/step - loss: 0.6498 - accuracy: 0.8533 - val_loss: 0.1778 - val_accuracy: 0.9460\n",
      "Epoch 2/20\n",
      "141/141 [==============================] - 1s 10ms/step - loss: 0.0877 - accuracy: 0.9711 - val_loss: 0.1368 - val_accuracy: 0.9640\n",
      "Epoch 3/20\n",
      "141/141 [==============================] - 1s 10ms/step - loss: 0.0539 - accuracy: 0.9816 - val_loss: 0.1573 - val_accuracy: 0.9620\n",
      "Epoch 4/20\n",
      "141/141 [==============================] - 1s 10ms/step - loss: 0.0390 - accuracy: 0.9878 - val_loss: 0.1006 - val_accuracy: 0.9700\n",
      "Epoch 5/20\n",
      "141/141 [==============================] - 2s 13ms/step - loss: 0.0304 - accuracy: 0.9900 - val_loss: 0.1100 - val_accuracy: 0.9800\n",
      "Epoch 6/20\n",
      "141/141 [==============================] - 2s 14ms/step - loss: 0.0152 - accuracy: 0.9953 - val_loss: 0.0902 - val_accuracy: 0.9780\n",
      "Epoch 7/20\n",
      "141/141 [==============================] - 2s 16ms/step - loss: 0.0234 - accuracy: 0.9924 - val_loss: 0.1399 - val_accuracy: 0.9700\n",
      "Epoch 8/20\n",
      "141/141 [==============================] - 2s 14ms/step - loss: 0.0173 - accuracy: 0.9942 - val_loss: 0.1625 - val_accuracy: 0.9740\n",
      "Epoch 9/20\n",
      "141/141 [==============================] - 2s 14ms/step - loss: 0.0294 - accuracy: 0.9911 - val_loss: 0.2503 - val_accuracy: 0.9500\n",
      "Epoch 10/20\n",
      "141/141 [==============================] - 2s 13ms/step - loss: 0.0294 - accuracy: 0.9902 - val_loss: 0.1068 - val_accuracy: 0.9840\n",
      "Epoch 11/20\n",
      "141/141 [==============================] - 2s 13ms/step - loss: 0.0355 - accuracy: 0.9898 - val_loss: 0.0633 - val_accuracy: 0.9840\n",
      "Epoch 12/20\n",
      "141/141 [==============================] - 2s 13ms/step - loss: 0.0039 - accuracy: 0.9991 - val_loss: 0.0594 - val_accuracy: 0.9860\n",
      "Epoch 13/20\n",
      "141/141 [==============================] - 2s 11ms/step - loss: 0.0014 - accuracy: 0.9996 - val_loss: 0.0679 - val_accuracy: 0.9880\n",
      "Epoch 14/20\n",
      "141/141 [==============================] - 2s 13ms/step - loss: 2.0209e-04 - accuracy: 1.0000 - val_loss: 0.0742 - val_accuracy: 0.9880\n",
      "Epoch 15/20\n",
      "141/141 [==============================] - 2s 12ms/step - loss: 5.2943e-05 - accuracy: 1.0000 - val_loss: 0.0736 - val_accuracy: 0.9880\n",
      "Epoch 16/20\n",
      "141/141 [==============================] - 2s 11ms/step - loss: 4.0878e-05 - accuracy: 1.0000 - val_loss: 0.0733 - val_accuracy: 0.9880\n",
      "Epoch 17/20\n",
      "141/141 [==============================] - 2s 11ms/step - loss: 3.3380e-05 - accuracy: 1.0000 - val_loss: 0.0730 - val_accuracy: 0.9880\n",
      "Epoch 18/20\n",
      "141/141 [==============================] - 2s 13ms/step - loss: 2.8011e-05 - accuracy: 1.0000 - val_loss: 0.0726 - val_accuracy: 0.9880\n",
      "Epoch 19/20\n",
      "141/141 [==============================] - 2s 11ms/step - loss: 2.4093e-05 - accuracy: 1.0000 - val_loss: 0.0724 - val_accuracy: 0.9880\n",
      "Epoch 20/20\n",
      "141/141 [==============================] - 2s 11ms/step - loss: 2.0936e-05 - accuracy: 1.0000 - val_loss: 0.0725 - val_accuracy: 0.9880\n"
     ]
    }
   ],
   "source": [
    "# XAI를 수행하기 위해 사전 딥러닝 모델을 학습\n",
    "\n",
    "from tensorflow.keras import Model, Sequential\n",
    "from tensorflow.keras import layers\n",
    "\n",
    "loss_fn= tf.keras.losses.SparseCategoricalCrossentropy(from_logits=True)\n",
    "\n",
    "model= Sequential([\n",
    "    layers.Conv2D(32,(3,3), activation='relu', padding='same', input_shape=(28,28,1)),\n",
    "    layers.MaxPool2D((2, 2)),\n",
    "    layers.Conv2D(64, (3, 3), activation='relu'),\n",
    "    layers.MaxPool2D((2, 2)),\n",
    "    layers.Conv2D(64, (3, 3), activation='relu'),\n",
    "    layers.Flatten(),\n",
    "    layers.Dense(64, activation='relu'),\n",
    "    layers.Dense(10, activation='softmax')\n",
    "\n",
    "])\n",
    "\n",
    "model.compile(optimizer='adam',\n",
    "loss='sparse_categorical_crossentropy',\n",
    "metrics=['accuracy'])\n",
    "\n",
    "model.fit(X_train, Y_train, epochs=20, shuffle =True, validation_data=(X_validation, Y_validation))\n",
    "\n",
    "model.trainable =False"
   ]
  },
  {
   "cell_type": "code",
   "execution_count": 31,
   "metadata": {},
   "outputs": [],
   "source": [
    "import saliency.core as saliency\n",
    "\n",
    "def model_fn(images, call_model_args, expected_keys=None):\n",
    "    target_class_idx= call_model_args['class']\n",
    "    model= call_model_args['model']\n",
    "    images=tf.convert_to_tensor(images)\n",
    "\n",
    "    with tf.GradientTape() as tape:\n",
    "        if expected_keys==[saliency.base.INPUT_OUTPUT_GRADIENTS]:\n",
    "            tape.watch(images)\n",
    "            output=model(images)\n",
    "            output=output[:, target_class_idx]\n",
    "            gradients =np.array(tape.gradient(output, images))\n",
    "            return {saliency.base.INPUT_OUTPUT_GRADIENTS: gradients}\n",
    "        else:\n",
    "            conv, output=model(images)\n",
    "            gradients =np.array(tape.gradients(output, conv))\n",
    "            return {saliency.base.CONVOLUTION_LAYER_VALUES: conv,\n",
    "            saliency.base.CONVOLUTION_OUTPUT_GRADIENTS: gradients}"
   ]
  },
  {
   "cell_type": "code",
   "execution_count": 34,
   "metadata": {},
   "outputs": [],
   "source": [
    "def vanilla_saliency(model, img):\n",
    "    pred = model(np.array([img]))\n",
    "    pred_cls =np.argmax(pred[0])\n",
    "    args ={'model': model, 'class': pred_cls}\n",
    "\n",
    "    grad=saliency.GradientSaliency()\n",
    "    attr =grad.GetMask(img, model_fn, args)\n",
    "    attr =  saliency.VisualizeImageGrayscale(attr)\n",
    "\n",
    "    return tf.reshape(attr, (*attr.shape,1))\n",
    "\n",
    "def ig(model, img):\n",
    "    pred= model(np.array([img]))\n",
    "    pred_cls =np.argmax(pred[0])\n",
    "    args={'model':model, 'class': pred_cls}\n",
    "\n",
    "    baseline =np.zeros(img.shape)\n",
    "    ig= saliency.IntegratedGradients()\n",
    "    attr= ig.GetMask(img, model_fn, args,x_steps=25, x_baseline=baseline, batch_size=20)\n",
    "    attr =saliency.VisualizeImageGrayscale(attr)\n",
    "\n",
    "    return tf.reshape(attr, (*attr.shape,1))\n",
    "\n",
    "def smooth_saliency(model, img):\n",
    "    pred = model(np.array([img]))\n",
    "    pred_cls = np.argmax(pred[0])\n",
    "    args = {'model': model, 'class': pred_cls}\n",
    "\n",
    "    smooth_grad = saliency.GradientSaliency()\n",
    "    smooth_attr = smooth_grad.GetSmoothedMask(img, model_fn, args)\n",
    "    smooth_attr = saliency.VisualizeImageGrayscale(smooth_attr)\n",
    "\n",
    "    return tf.reshape(smooth_attr, (*smooth_attr.shape, 1))\n",
    "\n",
    "def smooth_ig(model, img):\n",
    "\n",
    "    pred = model(np.array([img]))\n",
    "    pred_cls = np.argmax(pred[0])\n",
    "    args = {'model': model, 'class': pred_cls}\n",
    "\n",
    "    baseline = np.zeros(img.shape)\n",
    "    smooth_ig = saliency.IntegratedGradients()\n",
    "\n",
    "    smooth_attr = smooth_ig.GetSmoothedMask(\n",
    "        img, model_fn, args, x_steps=25, x_baseline=baseline, batch_size=20)\n",
    "\n",
    "    smooth_attr = saliency.VisualizeImageGrayscale(smooth_attr)\n",
    "\n",
    "    return tf.reshape(smooth_attr, (*smooth_attr.shape, 1))"
   ]
  },
  {
   "cell_type": "code",
   "execution_count": 35,
   "metadata": {},
   "outputs": [],
   "source": [
    "data_num =77\n",
    "sample_image= X_validation[data_num]\n",
    "sample_saliency_xai_image= vanilla_saliency(model, X_validation[data_num])\n",
    "sample_ig_xai_image =ig(model, X_validation[data_num])\n"
   ]
  },
  {
   "cell_type": "code",
   "execution_count": 36,
   "metadata": {},
   "outputs": [
    {
     "data": {
      "text/plain": [
       "(-0.5, 27.5, 27.5, -0.5)"
      ]
     },
     "execution_count": 36,
     "metadata": {},
     "output_type": "execute_result"
    },
    {
     "data": {
      "image/png": "[encoded data removed]",
      "text/plain": [
       "<Figure size 432x288 with 3 Axes>"
      ]
     },
     "metadata": {
      "needs_background": "light"
     },
     "output_type": "display_data"
    }
   ],
   "source": [
    "plt.subplot(1, 3, 1)\n",
    "plt.imshow(np.reshape(sample_image, (28, 28)))\n",
    "plt.title(\"origin image\")\n",
    "plt.axis('off')\n",
    "\n",
    "plt.subplot(1, 3, 2)\n",
    "plt.imshow(np.reshape(sample_saliency_xai_image, (28, 28)))\n",
    "plt.title(\"saliency image\")\n",
    "plt.axis('off')\n",
    "\n",
    "plt.subplot(1, 3, 3)\n",
    "plt.imshow(np.reshape(sample_ig_xai_image, (28, 28)))\n",
    "plt.title(\"ig image\")\n",
    "plt.axis('off')"
   ]
  },
  {
   "cell_type": "code",
   "execution_count": 37,
   "metadata": {},
   "outputs": [
    {
     "name": "stderr",
     "output_type": "stream",
     "text": [
      "100%|██████████| 5000/5000 [04:30<00:00, 18.46it/s]\n"
     ]
    }
   ],
   "source": [
    "ig_x_train = np.zeros_like(x_train)\n",
    "ig_x_test = np.zeros_like(x_test)\n",
    "\n",
    "for i in trange(len(ig_x_test)):\n",
    "\n",
    "    ig_x_train[i] = ig(model, x_train[i])\n",
    "    ig_x_test[i] = ig(model, x_test[i])\n",
    "    "
   ]
  },
  {
   "cell_type": "code",
   "execution_count": 38,
   "metadata": {},
   "outputs": [
    {
     "name": "stdout",
     "output_type": "stream",
     "text": [
      "Epoch 1/20\n",
      "157/157 [==============================] - 2s 13ms/step - loss: 0.6499 - accuracy: 0.8018\n",
      "Epoch 2/20\n",
      "157/157 [==============================] - 2s 13ms/step - loss: 0.1432 - accuracy: 0.9552\n",
      "Epoch 3/20\n",
      "157/157 [==============================] - 2s 11ms/step - loss: 0.0854 - accuracy: 0.9740\n",
      "Epoch 4/20\n",
      "157/157 [==============================] - 2s 11ms/step - loss: 0.0548 - accuracy: 0.9818\n",
      "Epoch 5/20\n",
      "157/157 [==============================] - 2s 15ms/step - loss: 0.0315 - accuracy: 0.9900\n",
      "Epoch 6/20\n",
      "157/157 [==============================] - 2s 15ms/step - loss: 0.0295 - accuracy: 0.9906\n",
      "Epoch 7/20\n",
      "157/157 [==============================] - 2s 15ms/step - loss: 0.0188 - accuracy: 0.9944\n",
      "Epoch 8/20\n",
      "157/157 [==============================] - 2s 12ms/step - loss: 0.0120 - accuracy: 0.9960\n",
      "Epoch 9/20\n",
      "157/157 [==============================] - 2s 14ms/step - loss: 0.0122 - accuracy: 0.9956\n",
      "Epoch 10/20\n",
      "157/157 [==============================] - 2s 15ms/step - loss: 0.0170 - accuracy: 0.9944\n",
      "Epoch 11/20\n",
      "157/157 [==============================] - 2s 13ms/step - loss: 0.0150 - accuracy: 0.9954\n",
      "Epoch 12/20\n",
      "157/157 [==============================] - 2s 12ms/step - loss: 0.0056 - accuracy: 0.9982\n",
      "Epoch 13/20\n",
      "157/157 [==============================] - 2s 12ms/step - loss: 0.0014 - accuracy: 0.9998\n",
      "Epoch 14/20\n",
      "157/157 [==============================] - 2s 12ms/step - loss: 2.1720e-04 - accuracy: 1.0000\n",
      "Epoch 15/20\n",
      "157/157 [==============================] - 2s 13ms/step - loss: 1.3097e-04 - accuracy: 1.0000\n",
      "Epoch 16/20\n",
      "157/157 [==============================] - 2s 13ms/step - loss: 1.0219e-04 - accuracy: 1.0000\n",
      "Epoch 17/20\n",
      "157/157 [==============================] - 2s 11ms/step - loss: 8.3248e-05 - accuracy: 1.0000\n",
      "Epoch 18/20\n",
      "157/157 [==============================] - 2s 12ms/step - loss: 6.9265e-05 - accuracy: 1.0000\n",
      "Epoch 19/20\n",
      "157/157 [==============================] - 3s 18ms/step - loss: 6.2558e-05 - accuracy: 1.0000\n",
      "Epoch 20/20\n",
      "157/157 [==============================] - 2s 12ms/step - loss: 5.0530e-05 - accuracy: 1.0000\n"
     ]
    },
    {
     "data": {
      "text/plain": [
       "<keras.callbacks.History at 0x2b26304e8b0>"
      ]
     },
     "execution_count": 38,
     "metadata": {},
     "output_type": "execute_result"
    }
   ],
   "source": [
    "loss_fn =tf.keras.losses.SparseCategoricalCrossentropy(from_logits=True)\n",
    "\n",
    "new_model= Sequential([\n",
    "     layers.Conv2D(32, (3, 3), activation='relu', padding='same', input_shape=(28, 28, 1)),\n",
    "    layers.MaxPool2D((2, 2)),\n",
    "    layers.Conv2D(64, (3, 3), activation='relu'),\n",
    "    layers.MaxPool2D((2, 2)),\n",
    "    layers.Conv2D(64, (3, 3), activation='relu'),\n",
    "    layers.Flatten(),\n",
    "    layers.Dense(64, activation='relu'),\n",
    "    layers.Dense(10, activation='softmax')\n",
    "])\n",
    "\n",
    "new_model.compile(optimizer='adam',\n",
    "loss='sparse_categorical_crossentropy',metrics=['accuracy'])\n",
    "\n",
    "new_model.fit(ig_x_train, y_train, epochs=20, shuffle=True)"
   ]
  },
  {
   "cell_type": "code",
   "execution_count": 40,
   "metadata": {},
   "outputs": [],
   "source": [
    "for i in range(len(ig_x_test)):\n",
    "    data= np.expand_dims(ig_x_test[i],0)\n",
    "    pred= new_model.predict(data)\n",
    "    pred = np.argmax([pred])\n",
    "\n",
    "    submission['label'][i] =int(pred)\n",
    "\n"
   ]
  },
  {
   "cell_type": "code",
   "execution_count": 42,
   "metadata": {},
   "outputs": [],
   "source": [
    "submission.to_csv('submission.csv', index= False)"
   ]
  },
  {
   "cell_type": "code",
   "execution_count": null,
   "metadata": {},
   "outputs": [],
   "source": [
    "submission.csv"
   ]
  },
  {
   "cell_type": "code",
   "execution_count": null,
   "metadata": {},
   "outputs": [],
   "source": []
  }
 ],
 "metadata": {
  "interpreter": {
   "hash": "a4fd1451840babbb37e6226633a71627e1f918595ad990aa0f1a715d0e292c9f"
  },
  "kernelspec": {
   "display_name": "Python 3.8.8 64-bit ('base': conda)",
   "language": "python",
   "name": "python3"
  },
  "language_info": {
   "codemirror_mode": {
    "name": "ipython",
    "version": 3
   },
   "file_extension": ".py",
   "mimetype": "text/x-python",
   "name": "python",
   "nbconvert_exporter": "python",
   "pygments_lexer": "ipython3",
   "version": "3.8.8"
  },
  "orig_nbformat": 4
 },
 "nbformat": 4,
 "nbformat_minor": 2
}
