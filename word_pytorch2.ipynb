{
  "nbformat": 4,
  "nbformat_minor": 0,
  "metadata": {
    "interpreter": {
      "hash": "a4fd1451840babbb37e6226633a71627e1f918595ad990aa0f1a715d0e292c9f"
    },
    "kernelspec": {
      "display_name": "Python 3.8.8 64-bit ('base': conda)",
      "language": "python",
      "name": "python3"
    },
    "language_info": {
      "codemirror_mode": {
        "name": "ipython",
        "version": 3
      },
      "file_extension": ".py",
      "mimetype": "text/x-python",
      "name": "python",
      "nbconvert_exporter": "python",
      "pygments_lexer": "ipython3",
      "version": "3.8.8"
    },
    "orig_nbformat": 4,
    "colab": {
      "name": "word_pytorch2.ipynb",
      "provenance": [],
      "include_colab_link": true
    },
    "accelerator": "GPU"
  },
  "cells": [
    {
      "cell_type": "markdown",
      "metadata": {
        "id": "view-in-github",
        "colab_type": "text"
      },
      "source": [
        "<a href=\"https://colab.research.google.com/github/Daegil2/practice/blob/main/word_pytorch2.ipynb\" target=\"_parent\"><img src=\"https://colab.research.google.com/assets/colab-badge.svg\" alt=\"Open In Colab\"/></a>"
      ]
    },
    {
      "cell_type": "code",
      "metadata": {
        "id": "tW48QNkCvWok"
      },
      "source": [
        "import os\n",
        "import warnings\n",
        "from tqdm import tqdm\n",
        "from glob import glob\n",
        "from PIL import Image\n",
        "import math\n",
        "import pandas as pd\n",
        "import numpy as np\n",
        "import matplotlib.pyplot as plt\n",
        "import torch\n",
        "import torchvision\n",
        "from torch.utils.data import Dataset\n",
        "import torchvision.transforms as transforms\n",
        "from sklearn.model_selection import StratifiedKFold"
      ],
      "execution_count": 2,
      "outputs": []
    },
    {
      "cell_type": "code",
      "metadata": {
        "id": "r0_VCG_LvWon"
      },
      "source": [
        "#경고 무시\n",
        "warnings.filterwarnings(action='ignore')"
      ],
      "execution_count": 3,
      "outputs": []
    },
    {
      "cell_type": "code",
      "metadata": {
        "colab": {
          "base_uri": "https://localhost:8080/"
        },
        "id": "tgvi71F3veYv",
        "outputId": "d6783a34-7ebd-41fb-94f4-a99706969353"
      },
      "source": [
        "#추가 \n",
        "from google.colab import drive\n",
        "drive.mount('/content/gdrive/', force_remount=True)"
      ],
      "execution_count": 4,
      "outputs": [
        {
          "output_type": "stream",
          "name": "stdout",
          "text": [
            "Mounted at /content/gdrive/\n"
          ]
        }
      ]
    },
    {
      "cell_type": "code",
      "metadata": {
        "colab": {
          "base_uri": "https://localhost:8080/"
        },
        "id": "-Q0k8wFOvWoo",
        "outputId": "ea3622d4-e26b-4a89-fc20-e8d73de89e38"
      },
      "source": [
        "# torch version check\n",
        "print('torch version: ', torch.__version__)"
      ],
      "execution_count": 5,
      "outputs": [
        {
          "output_type": "stream",
          "name": "stdout",
          "text": [
            "torch version:  1.10.0+cu111\n"
          ]
        }
      ]
    },
    {
      "cell_type": "code",
      "metadata": {
        "colab": {
          "base_uri": "https://localhost:8080/"
        },
        "id": "wwp-mx7yvWop",
        "outputId": "d5be5654-4d6a-4e82-87ee-1ee814c32be9"
      },
      "source": [
        "# GPU 설정\n",
        "device = 'cuda:0' if torch.cuda.is_available() else 'cpu'\n",
        "print('device: ', device)"
      ],
      "execution_count": 6,
      "outputs": [
        {
          "output_type": "stream",
          "name": "stdout",
          "text": [
            "device:  cuda:0\n"
          ]
        }
      ]
    },
    {
      "cell_type": "code",
      "metadata": {
        "id": "H2xCYEvRvWoq"
      },
      "source": [
        "# 시드 고정\n",
        "if device == 'cuda':\n",
        "    torch.cuda.manual_seed_all(42)\n",
        "else: torch.manual_seed(42)"
      ],
      "execution_count": 7,
      "outputs": []
    },
    {
      "cell_type": "code",
      "metadata": {
        "id": "goGdVraAvjm3"
      },
      "source": [
        "train=pd.read_csv('/content/gdrive/MyDrive/corab/word/train/train_data.csv')\n",
        "test=pd.read_csv('/content/gdrive/MyDrive/corab/word/test/test_data.csv')"
      ],
      "execution_count": 8,
      "outputs": []
    },
    {
      "cell_type": "code",
      "metadata": {
        "id": "ZQ8-qNBuvWor"
      },
      "source": [
        ""
      ],
      "execution_count": null,
      "outputs": []
    },
    {
      "cell_type": "code",
      "metadata": {
        "colab": {
          "base_uri": "https://localhost:8080/",
          "height": 423
        },
        "id": "LMfxvGWQvWor",
        "outputId": "c44b4c03-cf7b-46be-ac7f-e010182dbd07"
      },
      "source": [
        "train"
      ],
      "execution_count": 9,
      "outputs": [
        {
          "output_type": "execute_result",
          "data": {
            "text/html": [
              "<div>\n",
              "<style scoped>\n",
              "    .dataframe tbody tr th:only-of-type {\n",
              "        vertical-align: middle;\n",
              "    }\n",
              "\n",
              "    .dataframe tbody tr th {\n",
              "        vertical-align: top;\n",
              "    }\n",
              "\n",
              "    .dataframe thead th {\n",
              "        text-align: right;\n",
              "    }\n",
              "</style>\n",
              "<table border=\"1\" class=\"dataframe\">\n",
              "  <thead>\n",
              "    <tr style=\"text-align: right;\">\n",
              "      <th></th>\n",
              "      <th>file_name</th>\n",
              "      <th>label</th>\n",
              "    </tr>\n",
              "  </thead>\n",
              "  <tbody>\n",
              "    <tr>\n",
              "      <th>0</th>\n",
              "      <td>train0001.png</td>\n",
              "      <td>8</td>\n",
              "    </tr>\n",
              "    <tr>\n",
              "      <th>1</th>\n",
              "      <td>train0002.png</td>\n",
              "      <td>8</td>\n",
              "    </tr>\n",
              "    <tr>\n",
              "      <th>2</th>\n",
              "      <td>train0003.png</td>\n",
              "      <td>8</td>\n",
              "    </tr>\n",
              "    <tr>\n",
              "      <th>3</th>\n",
              "      <td>train0004.png</td>\n",
              "      <td>8</td>\n",
              "    </tr>\n",
              "    <tr>\n",
              "      <th>4</th>\n",
              "      <td>train0005.png</td>\n",
              "      <td>8</td>\n",
              "    </tr>\n",
              "    <tr>\n",
              "      <th>...</th>\n",
              "      <td>...</td>\n",
              "      <td>...</td>\n",
              "    </tr>\n",
              "    <tr>\n",
              "      <th>4995</th>\n",
              "      <td>train4996.png</td>\n",
              "      <td>6</td>\n",
              "    </tr>\n",
              "    <tr>\n",
              "      <th>4996</th>\n",
              "      <td>train4997.png</td>\n",
              "      <td>6</td>\n",
              "    </tr>\n",
              "    <tr>\n",
              "      <th>4997</th>\n",
              "      <td>train4998.png</td>\n",
              "      <td>6</td>\n",
              "    </tr>\n",
              "    <tr>\n",
              "      <th>4998</th>\n",
              "      <td>train4999.png</td>\n",
              "      <td>6</td>\n",
              "    </tr>\n",
              "    <tr>\n",
              "      <th>4999</th>\n",
              "      <td>train5000.png</td>\n",
              "      <td>6</td>\n",
              "    </tr>\n",
              "  </tbody>\n",
              "</table>\n",
              "<p>5000 rows × 2 columns</p>\n",
              "</div>"
            ],
            "text/plain": [
              "          file_name  label\n",
              "0     train0001.png      8\n",
              "1     train0002.png      8\n",
              "2     train0003.png      8\n",
              "3     train0004.png      8\n",
              "4     train0005.png      8\n",
              "...             ...    ...\n",
              "4995  train4996.png      6\n",
              "4996  train4997.png      6\n",
              "4997  train4998.png      6\n",
              "4998  train4999.png      6\n",
              "4999  train5000.png      6\n",
              "\n",
              "[5000 rows x 2 columns]"
            ]
          },
          "metadata": {},
          "execution_count": 9
        }
      ]
    },
    {
      "cell_type": "code",
      "metadata": {
        "colab": {
          "base_uri": "https://localhost:8080/",
          "height": 423
        },
        "id": "oDH5rMmSvWos",
        "outputId": "1f266d4e-9c29-4f49-d174-fed18096175a"
      },
      "source": [
        "test"
      ],
      "execution_count": 10,
      "outputs": [
        {
          "output_type": "execute_result",
          "data": {
            "text/html": [
              "<div>\n",
              "<style scoped>\n",
              "    .dataframe tbody tr th:only-of-type {\n",
              "        vertical-align: middle;\n",
              "    }\n",
              "\n",
              "    .dataframe tbody tr th {\n",
              "        vertical-align: top;\n",
              "    }\n",
              "\n",
              "    .dataframe thead th {\n",
              "        text-align: right;\n",
              "    }\n",
              "</style>\n",
              "<table border=\"1\" class=\"dataframe\">\n",
              "  <thead>\n",
              "    <tr style=\"text-align: right;\">\n",
              "      <th></th>\n",
              "      <th>file_name</th>\n",
              "    </tr>\n",
              "  </thead>\n",
              "  <tbody>\n",
              "    <tr>\n",
              "      <th>0</th>\n",
              "      <td>idx0001.png</td>\n",
              "    </tr>\n",
              "    <tr>\n",
              "      <th>1</th>\n",
              "      <td>idx0002.png</td>\n",
              "    </tr>\n",
              "    <tr>\n",
              "      <th>2</th>\n",
              "      <td>idx0003.png</td>\n",
              "    </tr>\n",
              "    <tr>\n",
              "      <th>3</th>\n",
              "      <td>idx0004.png</td>\n",
              "    </tr>\n",
              "    <tr>\n",
              "      <th>4</th>\n",
              "      <td>idx0005.png</td>\n",
              "    </tr>\n",
              "    <tr>\n",
              "      <th>...</th>\n",
              "      <td>...</td>\n",
              "    </tr>\n",
              "    <tr>\n",
              "      <th>4995</th>\n",
              "      <td>idx4996.png</td>\n",
              "    </tr>\n",
              "    <tr>\n",
              "      <th>4996</th>\n",
              "      <td>idx4997.png</td>\n",
              "    </tr>\n",
              "    <tr>\n",
              "      <th>4997</th>\n",
              "      <td>idx4998.png</td>\n",
              "    </tr>\n",
              "    <tr>\n",
              "      <th>4998</th>\n",
              "      <td>idx4999.png</td>\n",
              "    </tr>\n",
              "    <tr>\n",
              "      <th>4999</th>\n",
              "      <td>idx5000.png</td>\n",
              "    </tr>\n",
              "  </tbody>\n",
              "</table>\n",
              "<p>5000 rows × 1 columns</p>\n",
              "</div>"
            ],
            "text/plain": [
              "        file_name\n",
              "0     idx0001.png\n",
              "1     idx0002.png\n",
              "2     idx0003.png\n",
              "3     idx0004.png\n",
              "4     idx0005.png\n",
              "...           ...\n",
              "4995  idx4996.png\n",
              "4996  idx4997.png\n",
              "4997  idx4998.png\n",
              "4998  idx4999.png\n",
              "4999  idx5000.png\n",
              "\n",
              "[5000 rows x 1 columns]"
            ]
          },
          "metadata": {},
          "execution_count": 10
        }
      ]
    },
    {
      "cell_type": "code",
      "metadata": {
        "colab": {
          "base_uri": "https://localhost:8080/",
          "height": 299
        },
        "id": "tDDlLmp5vWot",
        "outputId": "15a2a1c3-030e-4352-d3c0-002fdda5acfc"
      },
      "source": [
        "sample_image = Image.open('/content/gdrive/MyDrive/corab/word/train/' + train['file_name'][0])\n",
        "sample_label = train['label'][0]\n",
        "plt.title('label: ' + str(sample_label))\n",
        "plt.imshow(sample_image, cmap='gray')"
      ],
      "execution_count": 40,
      "outputs": [
        {
          "output_type": "execute_result",
          "data": {
            "text/plain": [
              "<matplotlib.image.AxesImage at 0x7fe8e08457d0>"
            ]
          },
          "metadata": {},
          "execution_count": 40
        },
        {
          "output_type": "display_data",
          "data": {
            "image/png": "[encoded data removed]",
            "text/plain": [
              "<Figure size 432x288 with 1 Axes>"
            ]
          },
          "metadata": {
            "needs_background": "light"
          }
        }
      ]
    },
    {
      "cell_type": "code",
      "metadata": {
        "id": "O3Jib_ZQvWou"
      },
      "source": [
        "def get_img_list(series, root_path):\n",
        "    reshaped_image_list=[]\n",
        "\n",
        "    for file_name in series:\n",
        "        image_path = root_path +file_name\n",
        "        image= Image.open(image_path)\n",
        "        image_array = np.array(image)\n",
        "        reshaped_image = image_array.reshape(28,28,1)\n",
        "        reshaped_image_list.append(reshaped_image)\n",
        "    return reshaped_image_list"
      ],
      "execution_count": 13,
      "outputs": []
    },
    {
      "cell_type": "code",
      "metadata": {
        "id": "E3OmY1k3vWou"
      },
      "source": [
        "def get_transform(mode='train'):\n",
        "\n",
        "    t=list()\n",
        "    t.append(transforms.ToTensor())\n",
        "\n",
        "    if mode =='train':\n",
        "        t.append(transforms.RandomAffine(degrees=10, translate =(0.1,0.1)))\n",
        "\n",
        "    t.append(transforms.Normalize(mean=(.5), std=(.5)))\n",
        "\n",
        "    return transforms.Compose(t)\n"
      ],
      "execution_count": 14,
      "outputs": []
    },
    {
      "cell_type": "code",
      "metadata": {
        "colab": {
          "base_uri": "https://localhost:8080/",
          "height": 369
        },
        "id": "XcZZIVflvWou",
        "outputId": "cecf02d7-0197-440f-98f0-fb175d702689"
      },
      "source": [
        "# Augmented Image 확인\n",
        "sample_transform =get_transform()\n",
        "sample_array= np.array(sample_image)\n",
        "\n",
        "nrows, ncols =5,5\n",
        "fig, ax = plt.subplots(nrows =nrows, ncols=ncols, figsize=(5,5))\n",
        "for i in range(nrows):\n",
        "    for j in range(ncols):\n",
        "        sample_augmented_image = sample_transform(sample_array).reshape(28,28)\n",
        "        ax[i][j].imshow(sample_augmented_image, cmap='gray')\n",
        "        ax[i][j].axis('off')\n",
        "\n",
        "plt.tight_layout()\n",
        "plt.show()"
      ],
      "execution_count": 15,
      "outputs": [
        {
          "output_type": "display_data",
          "data": {
            "image/png": "[encoded data removed]",
            "text/plain": [
              "<Figure size 360x360 with 25 Axes>"
            ]
          },
          "metadata": {
            "needs_background": "light"
          }
        }
      ]
    },
    {
      "cell_type": "code",
      "metadata": {
        "id": "xodQ6kBqvWov"
      },
      "source": [
        "class CustomDataset(Dataset):\n",
        "    def __init__(self, mode, img_list, label=None):\n",
        "        self.mode =mode # train or test\n",
        "        self.transform =get_transform(mode)\n",
        "        self.img_list =img_list\n",
        "        self.label =label #정답값\n",
        "        self.transformed_img_list =list(map(self.transform, self.img_list))\n",
        "\n",
        "    def __len__(self):\n",
        "        return len(self.img_list)\n",
        "\n",
        "    def __getitem__(self, i):\n",
        "\n",
        "        x_data=self.transformed_img_list[i]\n",
        "\n",
        "        if self.mode =='train':\n",
        "            return {\n",
        "                'X':x_data,\n",
        "                'Y': torch.tensor(self.label[i], dtype=torch.long)\n",
        "\n",
        "            }\n",
        "        else:\n",
        "            return {'X':x_data}\n"
      ],
      "execution_count": 16,
      "outputs": []
    },
    {
      "cell_type": "code",
      "metadata": {
        "id": "sdAhxl7RvWov"
      },
      "source": [
        "def get_dataloader(x,y,root_path, mode='train'):\n",
        "    shuffle =True if mode =='train' else False\n",
        "    img_list =get_img_list(x, root_path)\n",
        "    dataset= CustomDataset(mode=mode, img_list =img_list, label=y)\n",
        "    dataloader = torch.utils.data.DataLoader(dataset=dataset, batch_size=batch_size, shuffle =shuffle)\n",
        "    total_batch = math.ceil(len(dataset)/batch_size)\n",
        "\n",
        "    return dataloader, total_batch"
      ],
      "execution_count": 17,
      "outputs": []
    },
    {
      "cell_type": "code",
      "metadata": {
        "id": "US3VDIp4vWow"
      },
      "source": [
        "class CNN(torch.nn.Module):\n",
        "    \n",
        "    def __init__(self):\n",
        "        super(CNN, self).__init__()\n",
        "        # 첫번째층\n",
        "        # ImgIn shape=(batch_size, 28, 28, 2)\n",
        "        #    Conv     -> (batch_size, 28, 28, 16)\n",
        "        self.layer1 = torch.nn.Sequential(\n",
        "            torch.nn.Conv2d(1, 16, kernel_size=3, stride=1, padding='same'),\n",
        "            torch.nn.ReLU(),\n",
        "            torch.nn.BatchNorm2d(16),\n",
        "            torch.nn.Dropout(p=0.3))\n",
        "        \n",
        "        # 두번째층\n",
        "        # ImgIn shape=(batch_size, 28, 28, 16)\n",
        "        #    Conv      ->(batch_size, 28, 28, 32)\n",
        "        #    Pool      ->(batch_size, 9, 9, 32)\n",
        "        self.layer2 = torch.nn.Sequential(\n",
        "            torch.nn.Conv2d(16, 32, kernel_size=3, stride=1, padding='same'),\n",
        "            torch.nn.ReLU(),\n",
        "            torch.nn.BatchNorm2d(32),\n",
        "            torch.nn.Conv2d(32, 32, kernel_size=5, stride=1, padding='same'),\n",
        "            torch.nn.ReLU(),\n",
        "            torch.nn.BatchNorm2d(32),\n",
        "            torch.nn.Conv2d(32, 32, kernel_size=5, stride=1, padding='same'),\n",
        "            torch.nn.ReLU(),\n",
        "            torch.nn.BatchNorm2d(32),\n",
        "            torch.nn.Conv2d(32, 32, kernel_size=5, stride=1, padding='same'),\n",
        "            torch.nn.ReLU(),\n",
        "            torch.nn.BatchNorm2d(32),\n",
        "            torch.nn.MaxPool2d(kernel_size=3, stride=3),\n",
        "            torch.nn.Dropout(p=0.3))\n",
        "        \n",
        "        # 세번째층\n",
        "        # ImgIn shape=(batch_size, 9, 9, 32)\n",
        "        #    Conv      ->(batch_size, 9, 9, 64)\n",
        "        #    Pool      ->(batch_size, 3, 3, 64)        \n",
        "        self.layer3 = torch.nn.Sequential(\n",
        "            torch.nn.Conv2d(32, 64, kernel_size=3, stride=1, padding='same'),\n",
        "            torch.nn.ReLU(),\n",
        "            torch.nn.BatchNorm2d(64),\n",
        "            torch.nn.Conv2d(64, 64, kernel_size=3, stride=1, padding='same'),\n",
        "            torch.nn.ReLU(),\n",
        "            torch.nn.BatchNorm2d(64),\n",
        "            torch.nn.MaxPool2d(kernel_size=3, stride=3),\n",
        "            torch.nn.Dropout(p=0.3))\n",
        "        \n",
        "        # 전결합층 7x7x64 inputs -> 10 outputs\n",
        "        self.fc = torch.nn.Linear(3*3*64, 10, bias=True)\n",
        "\n",
        "        torch.nn.init.xavier_uniform_(self.fc.weight) # fc 가중치 초기화\n",
        "\n",
        "    def forward(self, x):\n",
        "        out = self.layer1(x)\n",
        "        out = self.layer2(out)\n",
        "        out = self.layer3(out)\n",
        "        out = out.view(out.size(0), -1)   # Flatten\n",
        "        out = self.fc(out)\n",
        "        return out"
      ],
      "execution_count": 18,
      "outputs": []
    },
    {
      "cell_type": "code",
      "metadata": {
        "id": "O8-XXzmLvWow"
      },
      "source": [
        "class EarlyStopping:\n",
        "    # 참고: https://github.com/Bjarten/early-stopping-pytorch/blob/master/pytorchtools.py\n",
        "    \n",
        "    \"\"\"주어진 patience 이후로 validation loss가 개선되지 않으면 학습을 조기 중지\"\"\"\n",
        "    def __init__(self, patience=7, verbose=False, delta=0, path='./weight', k_num=0):\n",
        "        \"\"\"\n",
        "        Args:\n",
        "            patience (int): validation loss가 개선된 후 기다리는 기간\n",
        "                            Default: 7\n",
        "            verbose (bool): True일 경우 각 validation loss의 개선 사항 메세지 출력\n",
        "                            Default: False\n",
        "            delta (float): 개선되었다고 인정되는 monitered quantity의 최소 변화\n",
        "                            Default: 0\n",
        "            path (str): checkpoint저장 경로\n",
        "                            Default: 'checkpoint.pt'\n",
        "        \"\"\"\n",
        "        self.patience = patience\n",
        "        self.verbose = verbose\n",
        "        self.counter = 0\n",
        "        self.best_score = None\n",
        "        self.early_stop = False\n",
        "        self.val_loss_min = np.Inf\n",
        "        self.delta = delta\n",
        "        self.path = path\n",
        "        self.k_num = k_num\n",
        "\n",
        "    def __call__(self, val_loss, model):\n",
        "\n",
        "        score = -val_loss\n",
        "\n",
        "        if self.best_score is None:\n",
        "            self.best_score = score\n",
        "            self.save_checkpoint(val_loss, model)\n",
        "        elif score < self.best_score + self.delta:\n",
        "            self.counter += 1\n",
        "#             print(f'EarlyStopping counter: {self.counter} out of {self.patience}')\n",
        "            if self.counter >= self.patience:\n",
        "                self.early_stop = True\n",
        "        else:\n",
        "            self.best_score = score\n",
        "            self.save_checkpoint(val_loss, model)\n",
        "            self.counter = 0\n",
        "\n",
        "    def save_checkpoint(self, val_loss, model):\n",
        "        '''validation loss가 감소하면 모델을 저장한다.'''\n",
        "        if self.verbose:\n",
        "            print(f'Validation loss decreased ({self.val_loss_min:.6f} --> {val_loss:.6f}).  Saving model ...')\n",
        "        torch.save(model.state_dict(), self.path + f'/best_{k_num}.pt')\n",
        "        self.val_loss_min = val_loss"
      ],
      "execution_count": 47,
      "outputs": []
    },
    {
      "cell_type": "markdown",
      "metadata": {
        "id": "kx-t9fB0vWox"
      },
      "source": [
        "\"\"\"\n",
        "        Args:\n",
        "            patience (int): validation loss가 개선된 후 기다리는 기간\n",
        "                            Default: 7\n",
        "            verbose (bool): True일 경우 각 validation loss의 개선 사항 메세지 출력\n",
        "                            Default: False\n",
        "            delta (float): 개선되었다고 인정되는 monitered quantity의 최소 변화\n",
        "                            Default: 0\n",
        "            path (str): checkpoint저장 경로\n",
        "                            Default: 'checkpoint.pt'\n",
        "        \"\"\"\n",
        "    \"\"\"주어진 patience 이후로 validation loss가 개선되지 않으면 학습을 조기 중지\"\"\""
      ]
    },
    {
      "cell_type": "code",
      "metadata": {
        "id": "bUNaBVt4vWox"
      },
      "source": [
        "model =CNN().to(device)"
      ],
      "execution_count": 20,
      "outputs": []
    },
    {
      "cell_type": "code",
      "metadata": {
        "id": "Eh9RLxUtvWoy"
      },
      "source": [
        "root_path= os.getcwd()+'/gdrive/MyDrive/corab/word/train/'\n",
        "batch_size = 64\n",
        "epochs = 2000\n",
        "learning_rate = 0.002\n",
        "save_path = '/content/gdrive/MyDrive/corab/word/'\n",
        "criterion = torch.nn.CrossEntropyLoss()\n",
        "scheduler = torch.optim.lr_scheduler.LambdaLR(optimizer=optimizer,\n",
        "                                                    lr_lambda=lambda epoch: 0.95 ** epoch,\n",
        "                                                    last_epoch=-1,\n",
        "                                                    verbose=False)"
      ],
      "execution_count": 42,
      "outputs": []
    },
    {
      "cell_type": "code",
      "metadata": {
        "colab": {
          "base_uri": "https://localhost:8080/",
          "height": 35
        },
        "id": "cbXRZQnAywHA",
        "outputId": "f4dda971-519e-46a8-af4b-60d91804fede"
      },
      "source": [
        "os.getcwd()"
      ],
      "execution_count": 43,
      "outputs": [
        {
          "output_type": "execute_result",
          "data": {
            "application/vnd.google.colaboratory.intrinsic+json": {
              "type": "string"
            },
            "text/plain": [
              "'/content'"
            ]
          },
          "metadata": {},
          "execution_count": 43
        }
      ]
    },
    {
      "cell_type": "code",
      "metadata": {
        "colab": {
          "base_uri": "https://localhost:8080/"
        },
        "id": "y2HJWW4kvWoy",
        "outputId": "095da93e-bf53-413f-b3a3-b3d792107558"
      },
      "source": [
        "skf = StratifiedKFold(n_splits=5, random_state=42, shuffle=True)\n",
        "k_num = 0\n",
        "\n",
        "for train_index, valid_index in skf.split(train['file_name'], train['label']) :\n",
        "    model = CNN().to(device)\n",
        "    optimizer = torch.optim.Adam(model.parameters(), lr=learning_rate)\n",
        "    k_num += 1\n",
        "    early_stopping = EarlyStopping(patience = 300, verbose = True, path = save_path, k_num = k_num)\n",
        "    \n",
        "    x_train = train['file_name'][train_index].reset_index(drop=True)\n",
        "    x_valid = train['file_name'][valid_index].reset_index(drop=True)\n",
        "    y_train = train['label'][train_index].reset_index(drop=True)\n",
        "    y_valid = train['label'][valid_index].reset_index(drop=True)\n",
        "\n",
        "    train_dataloader, train_total_batch = get_dataloader(x_train, y_train, root_path, mode='train')\n",
        "    valid_dataloader, valid_total_batch = get_dataloader(x_valid, y_valid, root_path, mode='train')\n",
        "    \n",
        "    for epoch in tqdm(range(epochs)) :\n",
        "        train_avg_cost, valid_avg_cost = 0, 0\n",
        "\n",
        "        for batch in train_dataloader :\n",
        "            train_X = batch['X'].to(device)\n",
        "            train_Y = batch['Y'].to(device)\n",
        "\n",
        "            optimizer.zero_grad()\n",
        "            hypothesis = model(train_X)\n",
        "            cost = criterion(hypothesis, train_Y)\n",
        "            cost.backward()\n",
        "            optimizer.step()\n",
        "            train_avg_cost += cost / train_total_batch\n",
        "\n",
        "        scheduler.step()\n",
        "\n",
        "        model.eval()\n",
        "        for batch in valid_dataloader :\n",
        "            valid_X = batch['X'].to(device)\n",
        "            valid_Y = batch['Y'].to(device)\n",
        "\n",
        "            with torch.no_grad() :\n",
        "                hypothesis = model(valid_X)\n",
        "                cost = criterion(hypothesis, valid_Y)\n",
        "                valid_avg_cost += cost / valid_total_batch        \n",
        "\n",
        "        early_stopping(float(valid_avg_cost), model)\n",
        "        if early_stopping.early_stop:\n",
        "            print(\"Early stopping!!\")\n",
        "            break            "
      ],
      "execution_count": 48,
      "outputs": [
        {
          "output_type": "stream",
          "name": "stderr",
          "text": [
            "  0%|          | 1/2000 [00:01<53:27,  1.60s/it]"
          ]
        },
        {
          "output_type": "stream",
          "name": "stdout",
          "text": [
            "Validation loss decreased (inf --> 0.315036).  Saving model ...\n"
          ]
        },
        {
          "output_type": "stream",
          "name": "stderr",
          "text": [
            "\r  0%|          | 2/2000 [00:03<50:06,  1.50s/it]"
          ]
        },
        {
          "output_type": "stream",
          "name": "stdout",
          "text": [
            "Validation loss decreased (0.315036 --> 0.272958).  Saving model ...\n"
          ]
        },
        {
          "output_type": "stream",
          "name": "stderr",
          "text": [
            "\r  0%|          | 3/2000 [00:04<48:57,  1.47s/it]"
          ]
        },
        {
          "output_type": "stream",
          "name": "stdout",
          "text": [
            "Validation loss decreased (0.272958 --> 0.117949).  Saving model ...\n"
          ]
        },
        {
          "output_type": "stream",
          "name": "stderr",
          "text": [
            "  0%|          | 6/2000 [00:08<47:45,  1.44s/it]"
          ]
        },
        {
          "output_type": "stream",
          "name": "stdout",
          "text": [
            "Validation loss decreased (0.117949 --> 0.089353).  Saving model ...\n"
          ]
        },
        {
          "output_type": "stream",
          "name": "stderr",
          "text": [
            "  0%|          | 8/2000 [00:11<47:42,  1.44s/it]"
          ]
        },
        {
          "output_type": "stream",
          "name": "stdout",
          "text": [
            "Validation loss decreased (0.089353 --> 0.066523).  Saving model ...\n"
          ]
        },
        {
          "output_type": "stream",
          "name": "stderr",
          "text": [
            "  1%|          | 22/2000 [00:31<46:51,  1.42s/it]"
          ]
        },
        {
          "output_type": "stream",
          "name": "stdout",
          "text": [
            "Validation loss decreased (0.066523 --> 0.064521).  Saving model ...\n"
          ]
        },
        {
          "output_type": "stream",
          "name": "stderr",
          "text": [
            " 16%|█▌        | 321/2000 [07:37<39:53,  1.43s/it]"
          ]
        },
        {
          "output_type": "stream",
          "name": "stdout",
          "text": [
            "Early stopping!!\n"
          ]
        },
        {
          "output_type": "stream",
          "name": "stderr",
          "text": [
            "\n",
            "  0%|          | 1/2000 [00:01<52:59,  1.59s/it]"
          ]
        },
        {
          "output_type": "stream",
          "name": "stdout",
          "text": [
            "Validation loss decreased (inf --> 0.605192).  Saving model ...\n"
          ]
        },
        {
          "output_type": "stream",
          "name": "stderr",
          "text": [
            "\r  0%|          | 2/2000 [00:03<50:06,  1.50s/it]"
          ]
        },
        {
          "output_type": "stream",
          "name": "stdout",
          "text": [
            "Validation loss decreased (0.605192 --> 0.143803).  Saving model ...\n"
          ]
        },
        {
          "output_type": "stream",
          "name": "stderr",
          "text": [
            "  0%|          | 4/2000 [00:05<48:17,  1.45s/it]"
          ]
        },
        {
          "output_type": "stream",
          "name": "stdout",
          "text": [
            "Validation loss decreased (0.143803 --> 0.127727).  Saving model ...\n"
          ]
        },
        {
          "output_type": "stream",
          "name": "stderr",
          "text": [
            "  0%|          | 7/2000 [00:10<47:49,  1.44s/it]"
          ]
        },
        {
          "output_type": "stream",
          "name": "stdout",
          "text": [
            "Validation loss decreased (0.127727 --> 0.114454).  Saving model ...\n"
          ]
        },
        {
          "output_type": "stream",
          "name": "stderr",
          "text": [
            "\r  0%|          | 8/2000 [00:11<48:03,  1.45s/it]"
          ]
        },
        {
          "output_type": "stream",
          "name": "stdout",
          "text": [
            "Validation loss decreased (0.114454 --> 0.106231).  Saving model ...\n"
          ]
        },
        {
          "output_type": "stream",
          "name": "stderr",
          "text": [
            "\r  0%|          | 9/2000 [00:13<47:57,  1.45s/it]"
          ]
        },
        {
          "output_type": "stream",
          "name": "stdout",
          "text": [
            "Validation loss decreased (0.106231 --> 0.084072).  Saving model ...\n"
          ]
        },
        {
          "output_type": "stream",
          "name": "stderr",
          "text": [
            "  2%|▏         | 36/2000 [00:51<46:38,  1.42s/it]"
          ]
        },
        {
          "output_type": "stream",
          "name": "stdout",
          "text": [
            "Validation loss decreased (0.084072 --> 0.083447).  Saving model ...\n"
          ]
        },
        {
          "output_type": "stream",
          "name": "stderr",
          "text": [
            "  2%|▏         | 45/2000 [01:04<46:33,  1.43s/it]"
          ]
        },
        {
          "output_type": "stream",
          "name": "stdout",
          "text": [
            "Validation loss decreased (0.083447 --> 0.075681).  Saving model ...\n"
          ]
        },
        {
          "output_type": "stream",
          "name": "stderr",
          "text": [
            "\r  2%|▏         | 46/2000 [01:05<46:32,  1.43s/it]"
          ]
        },
        {
          "output_type": "stream",
          "name": "stdout",
          "text": [
            "Validation loss decreased (0.075681 --> 0.075594).  Saving model ...\n"
          ]
        },
        {
          "output_type": "stream",
          "name": "stderr",
          "text": [
            "\r  2%|▏         | 47/2000 [01:07<46:36,  1.43s/it]"
          ]
        },
        {
          "output_type": "stream",
          "name": "stdout",
          "text": [
            "Validation loss decreased (0.075594 --> 0.074893).  Saving model ...\n"
          ]
        },
        {
          "output_type": "stream",
          "name": "stderr",
          "text": [
            "  2%|▏         | 49/2000 [01:10<46:27,  1.43s/it]"
          ]
        },
        {
          "output_type": "stream",
          "name": "stdout",
          "text": [
            "Validation loss decreased (0.074893 --> 0.074507).  Saving model ...\n"
          ]
        },
        {
          "output_type": "stream",
          "name": "stderr",
          "text": [
            "  3%|▎         | 52/2000 [01:14<46:27,  1.43s/it]"
          ]
        },
        {
          "output_type": "stream",
          "name": "stdout",
          "text": [
            "Validation loss decreased (0.074507 --> 0.074126).  Saving model ...\n"
          ]
        },
        {
          "output_type": "stream",
          "name": "stderr",
          "text": [
            "  3%|▎         | 54/2000 [01:17<46:24,  1.43s/it]"
          ]
        },
        {
          "output_type": "stream",
          "name": "stdout",
          "text": [
            "Validation loss decreased (0.074126 --> 0.073966).  Saving model ...\n"
          ]
        },
        {
          "output_type": "stream",
          "name": "stderr",
          "text": [
            "  3%|▎         | 56/2000 [01:20<46:18,  1.43s/it]"
          ]
        },
        {
          "output_type": "stream",
          "name": "stdout",
          "text": [
            "Validation loss decreased (0.073966 --> 0.073871).  Saving model ...\n"
          ]
        },
        {
          "output_type": "stream",
          "name": "stderr",
          "text": [
            "  3%|▎         | 58/2000 [01:22<46:13,  1.43s/it]"
          ]
        },
        {
          "output_type": "stream",
          "name": "stdout",
          "text": [
            "Validation loss decreased (0.073871 --> 0.073825).  Saving model ...\n"
          ]
        },
        {
          "output_type": "stream",
          "name": "stderr",
          "text": [
            "  3%|▎         | 60/2000 [01:25<46:26,  1.44s/it]"
          ]
        },
        {
          "output_type": "stream",
          "name": "stdout",
          "text": [
            "Validation loss decreased (0.073825 --> 0.073727).  Saving model ...\n"
          ]
        },
        {
          "output_type": "stream",
          "name": "stderr",
          "text": [
            "  3%|▎         | 63/2000 [01:30<46:20,  1.44s/it]"
          ]
        },
        {
          "output_type": "stream",
          "name": "stdout",
          "text": [
            "Validation loss decreased (0.073727 --> 0.073691).  Saving model ...\n"
          ]
        },
        {
          "output_type": "stream",
          "name": "stderr",
          "text": [
            " 18%|█▊        | 362/2000 [08:36<38:55,  1.43s/it]"
          ]
        },
        {
          "output_type": "stream",
          "name": "stdout",
          "text": [
            "Early stopping!!\n"
          ]
        },
        {
          "output_type": "stream",
          "name": "stderr",
          "text": [
            "\n",
            "  0%|          | 1/2000 [00:01<52:57,  1.59s/it]"
          ]
        },
        {
          "output_type": "stream",
          "name": "stdout",
          "text": [
            "Validation loss decreased (inf --> 0.265722).  Saving model ...\n"
          ]
        },
        {
          "output_type": "stream",
          "name": "stderr",
          "text": [
            "\r  0%|          | 2/2000 [00:03<50:18,  1.51s/it]"
          ]
        },
        {
          "output_type": "stream",
          "name": "stdout",
          "text": [
            "Validation loss decreased (0.265722 --> 0.193948).  Saving model ...\n"
          ]
        },
        {
          "output_type": "stream",
          "name": "stderr",
          "text": [
            "\r  0%|          | 3/2000 [00:04<49:20,  1.48s/it]"
          ]
        },
        {
          "output_type": "stream",
          "name": "stdout",
          "text": [
            "Validation loss decreased (0.193948 --> 0.104394).  Saving model ...\n"
          ]
        },
        {
          "output_type": "stream",
          "name": "stderr",
          "text": [
            "  0%|          | 5/2000 [00:07<48:17,  1.45s/it]"
          ]
        },
        {
          "output_type": "stream",
          "name": "stdout",
          "text": [
            "Validation loss decreased (0.104394 --> 0.088356).  Saving model ...\n"
          ]
        },
        {
          "output_type": "stream",
          "name": "stderr",
          "text": [
            " 15%|█▌        | 304/2000 [07:13<40:19,  1.43s/it]"
          ]
        },
        {
          "output_type": "stream",
          "name": "stdout",
          "text": [
            "Early stopping!!\n"
          ]
        },
        {
          "output_type": "stream",
          "name": "stderr",
          "text": [
            "\n",
            "  0%|          | 1/2000 [00:01<52:25,  1.57s/it]"
          ]
        },
        {
          "output_type": "stream",
          "name": "stdout",
          "text": [
            "Validation loss decreased (inf --> 0.280009).  Saving model ...\n"
          ]
        },
        {
          "output_type": "stream",
          "name": "stderr",
          "text": [
            "\r  0%|          | 2/2000 [00:03<49:37,  1.49s/it]"
          ]
        },
        {
          "output_type": "stream",
          "name": "stdout",
          "text": [
            "Validation loss decreased (0.280009 --> 0.225848).  Saving model ...\n"
          ]
        },
        {
          "output_type": "stream",
          "name": "stderr",
          "text": [
            "\r  0%|          | 3/2000 [00:04<48:56,  1.47s/it]"
          ]
        },
        {
          "output_type": "stream",
          "name": "stdout",
          "text": [
            "Validation loss decreased (0.225848 --> 0.163446).  Saving model ...\n"
          ]
        },
        {
          "output_type": "stream",
          "name": "stderr",
          "text": [
            "\r  0%|          | 4/2000 [00:05<48:27,  1.46s/it]"
          ]
        },
        {
          "output_type": "stream",
          "name": "stdout",
          "text": [
            "Validation loss decreased (0.163446 --> 0.117112).  Saving model ...\n"
          ]
        },
        {
          "output_type": "stream",
          "name": "stderr",
          "text": [
            "  0%|          | 7/2000 [00:10<47:44,  1.44s/it]"
          ]
        },
        {
          "output_type": "stream",
          "name": "stdout",
          "text": [
            "Validation loss decreased (0.117112 --> 0.099809).  Saving model ...\n"
          ]
        },
        {
          "output_type": "stream",
          "name": "stderr",
          "text": [
            "  0%|          | 9/2000 [00:13<47:39,  1.44s/it]"
          ]
        },
        {
          "output_type": "stream",
          "name": "stdout",
          "text": [
            "Validation loss decreased (0.099809 --> 0.086575).  Saving model ...\n"
          ]
        },
        {
          "output_type": "stream",
          "name": "stderr",
          "text": [
            "\r  0%|          | 10/2000 [00:14<47:42,  1.44s/it]"
          ]
        },
        {
          "output_type": "stream",
          "name": "stdout",
          "text": [
            "Validation loss decreased (0.086575 --> 0.080340).  Saving model ...\n"
          ]
        },
        {
          "output_type": "stream",
          "name": "stderr",
          "text": [
            "  1%|          | 20/2000 [00:28<47:11,  1.43s/it]"
          ]
        },
        {
          "output_type": "stream",
          "name": "stdout",
          "text": [
            "Validation loss decreased (0.080340 --> 0.078949).  Saving model ...\n"
          ]
        },
        {
          "output_type": "stream",
          "name": "stderr",
          "text": [
            "\r  1%|          | 21/2000 [00:30<47:16,  1.43s/it]"
          ]
        },
        {
          "output_type": "stream",
          "name": "stdout",
          "text": [
            "Validation loss decreased (0.078949 --> 0.071136).  Saving model ...\n"
          ]
        },
        {
          "output_type": "stream",
          "name": "stderr",
          "text": [
            "\r  1%|          | 22/2000 [00:31<47:16,  1.43s/it]"
          ]
        },
        {
          "output_type": "stream",
          "name": "stdout",
          "text": [
            "Validation loss decreased (0.071136 --> 0.065794).  Saving model ...\n"
          ]
        },
        {
          "output_type": "stream",
          "name": "stderr",
          "text": [
            "\r  1%|          | 23/2000 [00:33<47:14,  1.43s/it]"
          ]
        },
        {
          "output_type": "stream",
          "name": "stdout",
          "text": [
            "Validation loss decreased (0.065794 --> 0.058330).  Saving model ...\n"
          ]
        },
        {
          "output_type": "stream",
          "name": "stderr",
          "text": [
            "\r  1%|          | 24/2000 [00:34<47:17,  1.44s/it]"
          ]
        },
        {
          "output_type": "stream",
          "name": "stdout",
          "text": [
            "Validation loss decreased (0.058330 --> 0.057417).  Saving model ...\n"
          ]
        },
        {
          "output_type": "stream",
          "name": "stderr",
          "text": [
            "\r  1%|▏         | 25/2000 [00:35<47:19,  1.44s/it]"
          ]
        },
        {
          "output_type": "stream",
          "name": "stdout",
          "text": [
            "Validation loss decreased (0.057417 --> 0.056836).  Saving model ...\n"
          ]
        },
        {
          "output_type": "stream",
          "name": "stderr",
          "text": [
            "\r  1%|▏         | 26/2000 [00:37<47:22,  1.44s/it]"
          ]
        },
        {
          "output_type": "stream",
          "name": "stdout",
          "text": [
            "Validation loss decreased (0.056836 --> 0.056663).  Saving model ...\n"
          ]
        },
        {
          "output_type": "stream",
          "name": "stderr",
          "text": [
            "\r  1%|▏         | 27/2000 [00:38<47:24,  1.44s/it]"
          ]
        },
        {
          "output_type": "stream",
          "name": "stdout",
          "text": [
            "Validation loss decreased (0.056663 --> 0.056162).  Saving model ...\n"
          ]
        },
        {
          "output_type": "stream",
          "name": "stderr",
          "text": [
            "  1%|▏         | 29/2000 [00:41<47:14,  1.44s/it]"
          ]
        },
        {
          "output_type": "stream",
          "name": "stdout",
          "text": [
            "Validation loss decreased (0.056162 --> 0.055890).  Saving model ...\n"
          ]
        },
        {
          "output_type": "stream",
          "name": "stderr",
          "text": [
            "\r  2%|▏         | 30/2000 [00:43<47:14,  1.44s/it]"
          ]
        },
        {
          "output_type": "stream",
          "name": "stdout",
          "text": [
            "Validation loss decreased (0.055890 --> 0.055812).  Saving model ...\n"
          ]
        },
        {
          "output_type": "stream",
          "name": "stderr",
          "text": [
            "  2%|▏         | 33/2000 [00:47<47:01,  1.43s/it]"
          ]
        },
        {
          "output_type": "stream",
          "name": "stdout",
          "text": [
            "Validation loss decreased (0.055812 --> 0.055634).  Saving model ...\n"
          ]
        },
        {
          "output_type": "stream",
          "name": "stderr",
          "text": [
            "  2%|▏         | 37/2000 [00:53<46:44,  1.43s/it]"
          ]
        },
        {
          "output_type": "stream",
          "name": "stdout",
          "text": [
            "Validation loss decreased (0.055634 --> 0.055545).  Saving model ...\n"
          ]
        },
        {
          "output_type": "stream",
          "name": "stderr",
          "text": [
            " 17%|█▋        | 336/2000 [07:58<39:31,  1.43s/it]"
          ]
        },
        {
          "output_type": "stream",
          "name": "stdout",
          "text": [
            "Early stopping!!\n"
          ]
        },
        {
          "output_type": "stream",
          "name": "stderr",
          "text": [
            "\n",
            "  0%|          | 1/2000 [00:01<53:13,  1.60s/it]"
          ]
        },
        {
          "output_type": "stream",
          "name": "stdout",
          "text": [
            "Validation loss decreased (inf --> 0.224681).  Saving model ...\n"
          ]
        },
        {
          "output_type": "stream",
          "name": "stderr",
          "text": [
            "\r  0%|          | 2/2000 [00:03<50:09,  1.51s/it]"
          ]
        },
        {
          "output_type": "stream",
          "name": "stdout",
          "text": [
            "Validation loss decreased (0.224681 --> 0.210907).  Saving model ...\n"
          ]
        },
        {
          "output_type": "stream",
          "name": "stderr",
          "text": [
            "\r  0%|          | 3/2000 [00:04<49:11,  1.48s/it]"
          ]
        },
        {
          "output_type": "stream",
          "name": "stdout",
          "text": [
            "Validation loss decreased (0.210907 --> 0.145644).  Saving model ...\n"
          ]
        },
        {
          "output_type": "stream",
          "name": "stderr",
          "text": [
            "  0%|          | 5/2000 [00:07<48:11,  1.45s/it]"
          ]
        },
        {
          "output_type": "stream",
          "name": "stdout",
          "text": [
            "Validation loss decreased (0.145644 --> 0.115182).  Saving model ...\n"
          ]
        },
        {
          "output_type": "stream",
          "name": "stderr",
          "text": [
            "  0%|          | 8/2000 [00:11<47:33,  1.43s/it]"
          ]
        },
        {
          "output_type": "stream",
          "name": "stdout",
          "text": [
            "Validation loss decreased (0.115182 --> 0.097608).  Saving model ...\n"
          ]
        },
        {
          "output_type": "stream",
          "name": "stderr",
          "text": [
            "  1%|          | 11/2000 [00:15<47:36,  1.44s/it]"
          ]
        },
        {
          "output_type": "stream",
          "name": "stdout",
          "text": [
            "Validation loss decreased (0.097608 --> 0.095484).  Saving model ...\n"
          ]
        },
        {
          "output_type": "stream",
          "name": "stderr",
          "text": [
            "\r  1%|          | 12/2000 [00:17<47:30,  1.43s/it]"
          ]
        },
        {
          "output_type": "stream",
          "name": "stdout",
          "text": [
            "Validation loss decreased (0.095484 --> 0.074017).  Saving model ...\n"
          ]
        },
        {
          "output_type": "stream",
          "name": "stderr",
          "text": [
            "  1%|          | 21/2000 [00:30<46:53,  1.42s/it]"
          ]
        },
        {
          "output_type": "stream",
          "name": "stdout",
          "text": [
            "Validation loss decreased (0.074017 --> 0.047435).  Saving model ...\n"
          ]
        },
        {
          "output_type": "stream",
          "name": "stderr",
          "text": [
            "\r  1%|          | 22/2000 [00:31<47:07,  1.43s/it]"
          ]
        },
        {
          "output_type": "stream",
          "name": "stdout",
          "text": [
            "Validation loss decreased (0.047435 --> 0.028889).  Saving model ...\n"
          ]
        },
        {
          "output_type": "stream",
          "name": "stderr",
          "text": [
            " 16%|█▌        | 321/2000 [07:36<39:47,  1.42s/it]"
          ]
        },
        {
          "output_type": "stream",
          "name": "stdout",
          "text": [
            "Early stopping!!\n"
          ]
        },
        {
          "output_type": "stream",
          "name": "stderr",
          "text": [
            "\n"
          ]
        }
      ]
    },
    {
      "cell_type": "code",
      "metadata": {
        "id": "CqZTRLEevWoz"
      },
      "source": [
        "test_root_path = os.getcwd() + '/gdrive/MyDrive/corab/word/test/'\n",
        "test_dataloader, test_total_batch = get_dataloader(test['file_name'], None, root_path=test_root_path, mode='test')"
      ],
      "execution_count": 49,
      "outputs": []
    },
    {
      "cell_type": "code",
      "metadata": {
        "id": "0pRiWy2TvWoz"
      },
      "source": [
        "weigh_path_list = glob(save_path + '/*.pt')\n",
        "\n",
        "preds = torch.tensor([[0]*10]*len(test), dtype=torch.float)\n",
        "\n",
        "for weight in weigh_path_list :\n",
        "    model.load_state_dict(torch.load(weight))\n",
        "    model.eval()\n",
        "    preds_n = []\n",
        "\n",
        "    for batch in test_dataloader:\n",
        "        X = batch['X'].to(device)\n",
        "        with torch.no_grad():\n",
        "            pred = model(X)\n",
        "            preds_n += list(pred)\n",
        "    \n",
        "    for i in range(len(test)) :\n",
        "        preds[i] += preds_n[i].cpu() \n",
        "        \n",
        "preds = torch.argmax(preds, axis=-1)"
      ],
      "execution_count": 50,
      "outputs": []
    },
    {
      "cell_type": "code",
      "metadata": {
        "id": "4kvIrhCHvWoz"
      },
      "source": [
        "sub = pd.read_csv('/content/gdrive/MyDrive/corab/word/sample_submission.csv')"
      ],
      "execution_count": 51,
      "outputs": []
    },
    {
      "cell_type": "code",
      "metadata": {
        "id": "ObTzNe0NEMZR"
      },
      "source": [
        "sub['label'] = preds"
      ],
      "execution_count": 52,
      "outputs": []
    },
    {
      "cell_type": "code",
      "metadata": {
        "id": "8zyxCiZXvWo0"
      },
      "source": [
        "sub.to_csv('submission.csv', index=False)"
      ],
      "execution_count": 53,
      "outputs": []
    }
  ]
}