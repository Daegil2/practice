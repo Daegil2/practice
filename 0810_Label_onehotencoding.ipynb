{
  "nbformat": 4,
  "nbformat_minor": 0,
  "metadata": {
    "colab": {
      "name": "0810 Label.onehotencoding",
      "provenance": [],
      "authorship_tag": "ABX9TyMCbeOxIhRk4+zELz1iuwzW",
      "include_colab_link": true
    },
    "kernelspec": {
      "name": "python3",
      "display_name": "Python 3"
    },
    "language_info": {
      "name": "python"
    }
  },
  "cells": [
    {
      "cell_type": "markdown",
      "metadata": {
        "id": "view-in-github",
        "colab_type": "text"
      },
      "source": [
        "<a href=\"https://colab.research.google.com/github/Daegil2/practice/blob/main/0810_Label_onehotencoding.ipynb\" target=\"_parent\"><img src=\"https://colab.research.google.com/assets/colab-badge.svg\" alt=\"Open In Colab\"/></a>"
      ]
    },
    {
      "cell_type": "code",
      "metadata": {
        "colab": {
          "base_uri": "https://localhost:8080/"
        },
        "id": "1cxRdH43OUuV",
        "outputId": "74271e4c-4af2-4295-eec1-3d2c595f48c0"
      },
      "source": [
        "# LabelEncoder API 를 활용한 카테고리 데이터 인코딩\n",
        "from sklearn.preprocessing import LabelEncoder\n",
        "items=['TV','냉장고','전자렌지','컴퓨터','선풍기','선풍기','믹서','믹서']\n",
        "encoder = LabelEncoder()\n",
        "encoder.fit(items)\n",
        "labels = encoder.transform(items)\n",
        "print('Label encoding result:',labels)\n",
        "\n"
      ],
      "execution_count": 2,
      "outputs": [
        {
          "output_type": "stream",
          "text": [
            "Label encoding result: [0 1 4 5 3 3 2 2]\n"
          ],
          "name": "stdout"
        }
      ]
    },
    {
      "cell_type": "code",
      "metadata": {
        "colab": {
          "base_uri": "https://localhost:8080/"
        },
        "id": "akzZXHXTOdlx",
        "outputId": "bbeb907f-eb0e-4b84-e276-562cf11ace3e"
      },
      "source": [
        "# LabelEncoder API 를 활용한 카테고리 데이터 인코딩\n",
        "print('Encoding classes:',encoder.classes_)\n",
        "# 인코딩 된 라벨 값을 이용하여 해당 값의 클래스 정보 조회\n",
        "print('Decoding values:',encoder.inverse_transform([4, 5, 2, 0, 1, 3]))\n"
      ],
      "execution_count": 4,
      "outputs": [
        {
          "output_type": "stream",
          "text": [
            "Encoding classes: ['TV' '냉장고' '믹서' '선풍기' '전자렌지' '컴퓨터']\n",
            "Decoding values: ['전자렌지' '컴퓨터' '믹서' 'TV' '냉장고' '선풍기']\n"
          ],
          "name": "stdout"
        }
      ]
    },
    {
      "cell_type": "code",
      "metadata": {
        "id": "dfKhR_8zOnq-"
      },
      "source": [
        "# OneHotEncoder API\n",
        "from sklearn.preprocessing import LabelEncoder\n",
        "items=['TV','냉장고','전자렌지','컴퓨터','선풍기','선풍기','믹서','믹서']\n",
        "encoder = LabelEncoder()\n",
        "encoder.fit(items)\n",
        "labels = encoder.transform(items)\n",
        "labels = labels.reshape(-1,1)\n"
      ],
      "execution_count": 5,
      "outputs": []
    },
    {
      "cell_type": "code",
      "metadata": {
        "colab": {
          "base_uri": "https://localhost:8080/"
        },
        "id": "jnxSPwhkOzfe",
        "outputId": "05b0de45-5f7e-4064-feec-0ac8320faa8e"
      },
      "source": [
        "# OneHotEncoder API 를 활용한 카테고리 데이터 인코딩\n",
        "from sklearn.preprocessing import OneHotEncoder\n",
        "one_hot_encoder = OneHotEncoder()\n",
        "one_hot_encoder.fit(labels)\n",
        "one_hot_labels = one_hot_encoder.transform(labels)\n",
        "print(one_hot_labels.toarray())"
      ],
      "execution_count": 6,
      "outputs": [
        {
          "output_type": "stream",
          "text": [
            "[[1. 0. 0. 0. 0. 0.]\n",
            " [0. 1. 0. 0. 0. 0.]\n",
            " [0. 0. 0. 0. 1. 0.]\n",
            " [0. 0. 0. 0. 0. 1.]\n",
            " [0. 0. 0. 1. 0. 0.]\n",
            " [0. 0. 0. 1. 0. 0.]\n",
            " [0. 0. 1. 0. 0. 0.]\n",
            " [0. 0. 1. 0. 0. 0.]]\n"
          ],
          "name": "stdout"
        }
      ]
    },
    {
      "cell_type": "code",
      "metadata": {
        "colab": {
          "base_uri": "https://localhost:8080/"
        },
        "id": "QW6eZgMHO3Pl",
        "outputId": "4be14aa8-2049-4c4e-b6a3-ee9d23d04995"
      },
      "source": [
        "# StandardScaler API\n",
        "# StandardScaler API 사용 전 Iris 데이터의 평균과 분산 확인\n",
        "from sklearn.datasets import load_iris\n",
        "import pandas as pd\n",
        "iris = load_iris()\n",
        "iris_data = iris.data\n",
        "df_iris = pd.DataFrame(data=iris_data, columns=iris.feature_names) \n",
        "print('Average')\n",
        "print(df_iris.mean())\n",
        "print('\\nVariance')\n",
        "print(df_iris.var())"
      ],
      "execution_count": 7,
      "outputs": [
        {
          "output_type": "stream",
          "text": [
            "Average\n",
            "sepal length (cm)    5.843333\n",
            "sepal width (cm)     3.057333\n",
            "petal length (cm)    3.758000\n",
            "petal width (cm)     1.199333\n",
            "dtype: float64\n",
            "\n",
            "Variance\n",
            "sepal length (cm)    0.685694\n",
            "sepal width (cm)     0.189979\n",
            "petal length (cm)    3.116278\n",
            "petal width (cm)     0.581006\n",
            "dtype: float64\n"
          ],
          "name": "stdout"
        }
      ]
    },
    {
      "cell_type": "code",
      "metadata": {
        "id": "zIX9-h8xUYBy"
      },
      "source": [
        "# StandardScaler API를 이용한 Standardization 수행\n",
        "from sklearn.preprocessing import StandardScaler\n",
        "scaler = StandardScaler()\n",
        "scaler.fit(df_iris)\n",
        "scaled_iris = scaler.transform(df_iris)"
      ],
      "execution_count": 9,
      "outputs": []
    },
    {
      "cell_type": "code",
      "metadata": {
        "colab": {
          "base_uri": "https://localhost:8080/"
        },
        "id": "qrvinPgYUcor",
        "outputId": "ba0997ce-0474-4f3b-a775-b3df3aba2514"
      },
      "source": [
        "# StandardScaler API를 이용한 Standardization 수행\n",
        "df_scaled_iris = pd.DataFrame(data=scaled_iris, \n",
        "columns=iris.feature_names)\n",
        "print('Average')\n",
        "print(df_scaled_iris.mean())\n",
        "print('\\nVariance')\n",
        "print(df_scaled_iris.var())"
      ],
      "execution_count": 11,
      "outputs": [
        {
          "output_type": "stream",
          "text": [
            "Average\n",
            "sepal length (cm)   -1.690315e-15\n",
            "sepal width (cm)    -1.842970e-15\n",
            "petal length (cm)   -1.698641e-15\n",
            "petal width (cm)    -1.409243e-15\n",
            "dtype: float64\n",
            "\n",
            "Variance\n",
            "sepal length (cm)    1.006711\n",
            "sepal width (cm)     1.006711\n",
            "petal length (cm)    1.006711\n",
            "petal width (cm)     1.006711\n",
            "dtype: float64\n"
          ],
          "name": "stdout"
        }
      ]
    },
    {
      "cell_type": "code",
      "metadata": {
        "id": "HBASTTfvUmyi"
      },
      "source": [
        "# MinMaxScaler API를 이용한 Normalization 수행\n",
        "from sklearn.preprocessing import MinMaxScaler\n",
        "scaler = MinMaxScaler()\n",
        "scaler.fit(df_iris)\n",
        "scaled_iris = scaler.transform(df_iris)\n",
        "\n"
      ],
      "execution_count": 12,
      "outputs": []
    },
    {
      "cell_type": "code",
      "metadata": {
        "colab": {
          "base_uri": "https://localhost:8080/"
        },
        "id": "b4iMXQoWUm1j",
        "outputId": "59db1c64-9a0e-4a59-cb27-b231eb40e8c3"
      },
      "source": [
        "# MinMaxScaler API를 이용한 Normalization 수행\n",
        "df_scaled_iris = pd.DataFrame(data=scaled_iris,\n",
        "columns=iris.feature_names)\n",
        "print('Min value')\n",
        "print(df_scaled_iris.min())\n",
        "print('\\nMax value')\n",
        "print(df_scaled_iris.max())\n"
      ],
      "execution_count": 14,
      "outputs": [
        {
          "output_type": "stream",
          "text": [
            "Min value\n",
            "sepal length (cm)    0.0\n",
            "sepal width (cm)     0.0\n",
            "petal length (cm)    0.0\n",
            "petal width (cm)     0.0\n",
            "dtype: float64\n",
            "\n",
            "Max value\n",
            "sepal length (cm)    1.0\n",
            "sepal width (cm)     1.0\n",
            "petal length (cm)    1.0\n",
            "petal width (cm)     1.0\n",
            "dtype: float64\n"
          ],
          "name": "stdout"
        }
      ]
    },
    {
      "cell_type": "code",
      "metadata": {
        "id": "byIOTvwWUm4j"
      },
      "source": [
        ""
      ],
      "execution_count": null,
      "outputs": []
    },
    {
      "cell_type": "code",
      "metadata": {
        "id": "MA_TxoZEUm7E"
      },
      "source": [
        ""
      ],
      "execution_count": null,
      "outputs": []
    },
    {
      "cell_type": "code",
      "metadata": {
        "id": "xVRCZGnDUm9h"
      },
      "source": [
        ""
      ],
      "execution_count": null,
      "outputs": []
    },
    {
      "cell_type": "code",
      "metadata": {
        "id": "vqtWRGKsUnAM"
      },
      "source": [
        ""
      ],
      "execution_count": null,
      "outputs": []
    }
  ]
}