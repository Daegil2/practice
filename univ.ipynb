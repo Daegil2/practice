{
  "nbformat": 4,
  "nbformat_minor": 0,
  "metadata": {
    "interpreter": {
      "hash": "b3ba2566441a7c06988d0923437866b63cedc61552a5af99d1f4fb67d367b25f"
    },
    "kernelspec": {
      "display_name": "Python 3.8.3 64-bit ('base': conda)",
      "language": "python",
      "name": "python3"
    },
    "language_info": {
      "codemirror_mode": {
        "name": "ipython",
        "version": 3
      },
      "file_extension": ".py",
      "mimetype": "text/x-python",
      "name": "python",
      "nbconvert_exporter": "python",
      "pygments_lexer": "ipython3",
      "version": "3.8.3"
    },
    "orig_nbformat": 4,
    "colab": {
      "name": "univ.ipynb",
      "provenance": [],
      "include_colab_link": true
    }
  },
  "cells": [
    {
      "cell_type": "markdown",
      "metadata": {
        "id": "view-in-github",
        "colab_type": "text"
      },
      "source": [
        "<a href=\"https://colab.research.google.com/github/Daegil2/practice/blob/main/univ.ipynb\" target=\"_parent\"><img src=\"https://colab.research.google.com/assets/colab-badge.svg\" alt=\"Open In Colab\"/></a>"
      ]
    },
    {
      "cell_type": "code",
      "metadata": {
        "id": "vGBlPta1Wfid",
        "outputId": "a002151c-ef13-4c55-abd3-e89a2721df44"
      },
      "source": [
        "import pandas as pd\n",
        "import matplotlib.pyplot as plt\n",
        "import seaborn as sns\n",
        "import numpy as np\n",
        "!pip install pycountry-convert\n",
        "import pycountry_convert as pc"
      ],
      "execution_count": null,
      "outputs": [
        {
          "name": "stdout",
          "output_type": "stream",
          "text": [
            "Requirement already satisfied: pycountry-convert in c:\\users\\user\\anaconda3\\lib\\site-packages (0.7.2)\n",
            "Requirement already satisfied: pycountry>=16.11.27.1 in c:\\users\\user\\anaconda3\\lib\\site-packages (from pycountry-convert) (20.7.3)\n",
            "Requirement already satisfied: pytest-mock>=1.6.3 in c:\\users\\user\\anaconda3\\lib\\site-packages (from pycountry-convert) (3.6.1)\n",
            "Requirement already satisfied: pytest>=3.4.0 in c:\\users\\user\\anaconda3\\lib\\site-packages (from pycountry-convert) (5.4.3)\n",
            "Requirement already satisfied: pprintpp>=0.3.0 in c:\\users\\user\\anaconda3\\lib\\site-packages (from pycountry-convert) (0.4.0)\n",
            "Requirement already satisfied: pytest-cov>=2.5.1 in c:\\users\\user\\anaconda3\\lib\\site-packages (from pycountry-convert) (3.0.0)\n",
            "Requirement already satisfied: wheel>=0.30.0 in c:\\users\\user\\anaconda3\\lib\\site-packages (from pycountry-convert) (0.34.2)\n",
            "Requirement already satisfied: repoze.lru>=0.7 in c:\\users\\user\\anaconda3\\lib\\site-packages (from pycountry-convert) (0.7)\n",
            "Requirement already satisfied: py>=1.5.0 in c:\\users\\user\\anaconda3\\lib\\site-packages (from pytest>=3.4.0->pycountry-convert) (1.9.0)\n",
            "Requirement already satisfied: packaging in c:\\users\\user\\anaconda3\\lib\\site-packages (from pytest>=3.4.0->pycountry-convert) (20.4)\n",
            "Requirement already satisfied: attrs>=17.4.0 in c:\\users\\user\\anaconda3\\lib\\site-packages (from pytest>=3.4.0->pycountry-convert) (19.3.0)\n",
            "Requirement already satisfied: more-itertools>=4.0.0 in c:\\users\\user\\anaconda3\\lib\\site-packages (from pytest>=3.4.0->pycountry-convert) (8.4.0)\n",
            "Requirement already satisfied: pluggy<1.0,>=0.12 in c:\\users\\user\\anaconda3\\lib\\site-packages (from pytest>=3.4.0->pycountry-convert) (0.13.1)\n",
            "Requirement already satisfied: wcwidth in c:\\users\\user\\anaconda3\\lib\\site-packages (from pytest>=3.4.0->pycountry-convert) (0.2.5)\n",
            "Requirement already satisfied: atomicwrites>=1.0 in c:\\users\\user\\anaconda3\\lib\\site-packages (from pytest>=3.4.0->pycountry-convert) (1.4.0)\n",
            "Requirement already satisfied: colorama in c:\\users\\user\\anaconda3\\lib\\site-packages (from pytest>=3.4.0->pycountry-convert) (0.4.3)\n",
            "Requirement already satisfied: coverage[toml]>=5.2.1 in c:\\users\\user\\anaconda3\\lib\\site-packages (from pytest-cov>=2.5.1->pycountry-convert) (6.2)\n",
            "Requirement already satisfied: pyparsing>=2.0.2 in c:\\users\\user\\anaconda3\\lib\\site-packages (from packaging->pytest>=3.4.0->pycountry-convert) (2.4.7)\n",
            "Requirement already satisfied: six in c:\\users\\user\\anaconda3\\lib\\site-packages (from packaging->pytest>=3.4.0->pycountry-convert) (1.15.0)\n",
            "Requirement already satisfied: tomli; extra == \"toml\" in c:\\users\\user\\anaconda3\\lib\\site-packages (from coverage[toml]>=5.2.1->pytest-cov>=2.5.1->pycountry-convert) (1.2.2)\n"
          ]
        }
      ]
    },
    {
      "cell_type": "code",
      "metadata": {
        "id": "JY_EMOE5Wfii",
        "outputId": "c3a15654-eb67-4263-e8eb-9c45eb5c45c9"
      },
      "source": [
        "import os\n",
        "os.getcwd()"
      ],
      "execution_count": null,
      "outputs": [
        {
          "data": {
            "text/plain": [
              "'c:\\\\promise\\\\univ'"
            ]
          },
          "execution_count": 153,
          "metadata": {},
          "output_type": "execute_result"
        }
      ]
    },
    {
      "cell_type": "code",
      "metadata": {
        "id": "1CFchVojWfij"
      },
      "source": [
        "df_THE = pd.read_csv('THE.csv')\n",
        "df_qsworld = pd.read_csv('qsworld.csv')"
      ],
      "execution_count": null,
      "outputs": []
    },
    {
      "cell_type": "code",
      "metadata": {
        "id": "SoMvADgSWfij",
        "outputId": "528bcdbd-fac3-46ef-b006-3fcbd6b0cf5f"
      },
      "source": [
        "df_THE"
      ],
      "execution_count": null,
      "outputs": [
        {
          "data": {
            "text/html": [
              "<div>\n",
              "<style scoped>\n",
              "    .dataframe tbody tr th:only-of-type {\n",
              "        vertical-align: middle;\n",
              "    }\n",
              "\n",
              "    .dataframe tbody tr th {\n",
              "        vertical-align: top;\n",
              "    }\n",
              "\n",
              "    .dataframe thead th {\n",
              "        text-align: right;\n",
              "    }\n",
              "</style>\n",
              "<table border=\"1\" class=\"dataframe\">\n",
              "  <thead>\n",
              "    <tr style=\"text-align: right;\">\n",
              "      <th></th>\n",
              "      <th>Unnamed: 0</th>\n",
              "      <th>Rank</th>\n",
              "      <th>Name</th>\n",
              "      <th>Overall</th>\n",
              "      <th>Teaching</th>\n",
              "      <th>Research</th>\n",
              "      <th>Citations</th>\n",
              "      <th>Industry Income</th>\n",
              "      <th>International Outlook</th>\n",
              "      <th>Country</th>\n",
              "    </tr>\n",
              "  </thead>\n",
              "  <tbody>\n",
              "    <tr>\n",
              "      <th>0</th>\n",
              "      <td>0</td>\n",
              "      <td>1</td>\n",
              "      <td>University of Oxford</td>\n",
              "      <td>95.6</td>\n",
              "      <td>91.3</td>\n",
              "      <td>99.6</td>\n",
              "      <td>98.0</td>\n",
              "      <td>68.7</td>\n",
              "      <td>96.4</td>\n",
              "      <td>United Kingdom</td>\n",
              "    </tr>\n",
              "    <tr>\n",
              "      <th>1</th>\n",
              "      <td>1</td>\n",
              "      <td>2</td>\n",
              "      <td>Stanford University</td>\n",
              "      <td>94.9</td>\n",
              "      <td>92.2</td>\n",
              "      <td>96.7</td>\n",
              "      <td>99.9</td>\n",
              "      <td>90.1</td>\n",
              "      <td>79.5</td>\n",
              "      <td>United States</td>\n",
              "    </tr>\n",
              "    <tr>\n",
              "      <th>2</th>\n",
              "      <td>2</td>\n",
              "      <td>3</td>\n",
              "      <td>Harvard University</td>\n",
              "      <td>94.8</td>\n",
              "      <td>94.4</td>\n",
              "      <td>98.8</td>\n",
              "      <td>99.4</td>\n",
              "      <td>46.8</td>\n",
              "      <td>77.7</td>\n",
              "      <td>United States</td>\n",
              "    </tr>\n",
              "    <tr>\n",
              "      <th>3</th>\n",
              "      <td>3</td>\n",
              "      <td>4</td>\n",
              "      <td>California Institute of Technology</td>\n",
              "      <td>94.5</td>\n",
              "      <td>92.5</td>\n",
              "      <td>96.9</td>\n",
              "      <td>97.0</td>\n",
              "      <td>92.7</td>\n",
              "      <td>83.6</td>\n",
              "      <td>United States</td>\n",
              "    </tr>\n",
              "    <tr>\n",
              "      <th>4</th>\n",
              "      <td>4</td>\n",
              "      <td>5</td>\n",
              "      <td>Massachusetts Institute of Technology</td>\n",
              "      <td>94.4</td>\n",
              "      <td>90.7</td>\n",
              "      <td>94.4</td>\n",
              "      <td>99.7</td>\n",
              "      <td>90.4</td>\n",
              "      <td>90.0</td>\n",
              "      <td>United States</td>\n",
              "    </tr>\n",
              "    <tr>\n",
              "      <th>...</th>\n",
              "      <td>...</td>\n",
              "      <td>...</td>\n",
              "      <td>...</td>\n",
              "      <td>...</td>\n",
              "      <td>...</td>\n",
              "      <td>...</td>\n",
              "      <td>...</td>\n",
              "      <td>...</td>\n",
              "      <td>...</td>\n",
              "      <td>...</td>\n",
              "    </tr>\n",
              "    <tr>\n",
              "      <th>1521</th>\n",
              "      <td>1521</td>\n",
              "      <td>1001+</td>\n",
              "      <td>Yuan Ze University</td>\n",
              "      <td>10.3–25.0</td>\n",
              "      <td>18.8</td>\n",
              "      <td>14.1</td>\n",
              "      <td>19.7</td>\n",
              "      <td>50.1</td>\n",
              "      <td>30.9</td>\n",
              "      <td>Taiwan</td>\n",
              "    </tr>\n",
              "    <tr>\n",
              "      <th>1522</th>\n",
              "      <td>1522</td>\n",
              "      <td>1001+</td>\n",
              "      <td>Yuriy Fedkovych Chernivtsi National University</td>\n",
              "      <td>10.3–25.0</td>\n",
              "      <td>17.9</td>\n",
              "      <td>7.7</td>\n",
              "      <td>5.3</td>\n",
              "      <td>33.4</td>\n",
              "      <td>22.2</td>\n",
              "      <td>Ukraine</td>\n",
              "    </tr>\n",
              "    <tr>\n",
              "      <th>1523</th>\n",
              "      <td>1523</td>\n",
              "      <td>1001+</td>\n",
              "      <td>Zagazig University</td>\n",
              "      <td>10.3–25.0</td>\n",
              "      <td>13.7</td>\n",
              "      <td>7.4</td>\n",
              "      <td>42.3</td>\n",
              "      <td>33.4</td>\n",
              "      <td>40.6</td>\n",
              "      <td>Egypt</td>\n",
              "    </tr>\n",
              "    <tr>\n",
              "      <th>1524</th>\n",
              "      <td>1524</td>\n",
              "      <td>1001+</td>\n",
              "      <td>University of Zagreb</td>\n",
              "      <td>10.3–25.0</td>\n",
              "      <td>19.5</td>\n",
              "      <td>13.2</td>\n",
              "      <td>27.2</td>\n",
              "      <td>40.3</td>\n",
              "      <td>34.3</td>\n",
              "      <td>Croatia</td>\n",
              "    </tr>\n",
              "    <tr>\n",
              "      <th>1525</th>\n",
              "      <td>1525</td>\n",
              "      <td>1001+</td>\n",
              "      <td>University of Žilina</td>\n",
              "      <td>10.3–25.0</td>\n",
              "      <td>20.3</td>\n",
              "      <td>13.2</td>\n",
              "      <td>26.4</td>\n",
              "      <td>42.9</td>\n",
              "      <td>31.8</td>\n",
              "      <td>Slovakia</td>\n",
              "    </tr>\n",
              "  </tbody>\n",
              "</table>\n",
              "<p>1526 rows × 10 columns</p>\n",
              "</div>"
            ],
            "text/plain": [
              "      Unnamed: 0   Rank                                            Name  \\\n",
              "0              0      1                            University of Oxford   \n",
              "1              1      2                             Stanford University   \n",
              "2              2      3                              Harvard University   \n",
              "3              3      4              California Institute of Technology   \n",
              "4              4      5           Massachusetts Institute of Technology   \n",
              "...          ...    ...                                             ...   \n",
              "1521        1521  1001+                              Yuan Ze University   \n",
              "1522        1522  1001+  Yuriy Fedkovych Chernivtsi National University   \n",
              "1523        1523  1001+                              Zagazig University   \n",
              "1524        1524  1001+                            University of Zagreb   \n",
              "1525        1525  1001+                            University of Žilina   \n",
              "\n",
              "        Overall  Teaching  Research  Citations  Industry Income  \\\n",
              "0          95.6      91.3      99.6       98.0             68.7   \n",
              "1          94.9      92.2      96.7       99.9             90.1   \n",
              "2          94.8      94.4      98.8       99.4             46.8   \n",
              "3          94.5      92.5      96.9       97.0             92.7   \n",
              "4          94.4      90.7      94.4       99.7             90.4   \n",
              "...         ...       ...       ...        ...              ...   \n",
              "1521  10.3–25.0      18.8      14.1       19.7             50.1   \n",
              "1522  10.3–25.0      17.9       7.7        5.3             33.4   \n",
              "1523  10.3–25.0      13.7       7.4       42.3             33.4   \n",
              "1524  10.3–25.0      19.5      13.2       27.2             40.3   \n",
              "1525  10.3–25.0      20.3      13.2       26.4             42.9   \n",
              "\n",
              "      International Outlook         Country  \n",
              "0                      96.4  United Kingdom  \n",
              "1                      79.5   United States  \n",
              "2                      77.7   United States  \n",
              "3                      83.6   United States  \n",
              "4                      90.0   United States  \n",
              "...                     ...             ...  \n",
              "1521                   30.9          Taiwan  \n",
              "1522                   22.2         Ukraine  \n",
              "1523                   40.6           Egypt  \n",
              "1524                   34.3         Croatia  \n",
              "1525                   31.8        Slovakia  \n",
              "\n",
              "[1526 rows x 10 columns]"
            ]
          },
          "execution_count": 155,
          "metadata": {},
          "output_type": "execute_result"
        }
      ]
    },
    {
      "cell_type": "code",
      "metadata": {
        "id": "nyEFCZZRWfik",
        "outputId": "8a9c05b2-9af4-4f1f-c2f1-181b91e8dd08"
      },
      "source": [
        "df_THE_fix = df_THE.drop(columns =['Unnamed: 0', 'Rank', 'Overall'])\n",
        "df_THE_fix.Name[42] = 'EPFL'\n",
        "df_THE_fix.Name[45] = 'PSL University'"
      ],
      "execution_count": null,
      "outputs": [
        {
          "name": "stderr",
          "output_type": "stream",
          "text": [
            "<ipython-input-173-3948784bfc78>:2: SettingWithCopyWarning: \n",
            "A value is trying to be set on a copy of a slice from a DataFrame\n",
            "\n",
            "See the caveats in the documentation: https://pandas.pydata.org/pandas-docs/stable/user_guide/indexing.html#returning-a-view-versus-a-copy\n",
            "  df_THE_fix.Name[42] = 'EPFL'\n",
            "<ipython-input-173-3948784bfc78>:3: SettingWithCopyWarning: \n",
            "A value is trying to be set on a copy of a slice from a DataFrame\n",
            "\n",
            "See the caveats in the documentation: https://pandas.pydata.org/pandas-docs/stable/user_guide/indexing.html#returning-a-view-versus-a-copy\n",
            "  df_THE_fix.Name[45] = 'PSL University'\n"
          ]
        }
      ]
    },
    {
      "cell_type": "code",
      "metadata": {
        "id": "shtMDbcUWfik"
      },
      "source": [
        "df_THE_fix['Name'] = df_THE_fix['Name'].str.split('(').str[0]\n",
        "name_clean = []\n",
        "for x in df_THE_fix.Name:\n",
        "    if x[-1] ==' ':\n",
        "        x=x[:-1]\n",
        "    else:\n",
        "        x=x\n",
        "    name_clean.append(x)\n",
        "\n",
        "df_THE_fix['Name'] = np.array(name_clean)"
      ],
      "execution_count": null,
      "outputs": []
    },
    {
      "cell_type": "code",
      "metadata": {
        "id": "EPoaLCtLWfil",
        "outputId": "5c3464f6-6c6b-430e-b34c-69a6279d551c"
      },
      "source": [
        "def missing_percentage(df):\n",
        "    total= df.isnull().sum().sort_values(ascending= False)\n",
        "    percent = round(df.isnull().sum().sort_values(ascending =False)/len(df)*100,2)\n",
        "    return pd.concat([total, percent], axis=1, keys=['Total', 'Percent'])\n",
        "\n",
        "missing_percentage(df_THE_fix)\n"
      ],
      "execution_count": null,
      "outputs": [
        {
          "data": {
            "text/html": [
              "<div>\n",
              "<style scoped>\n",
              "    .dataframe tbody tr th:only-of-type {\n",
              "        vertical-align: middle;\n",
              "    }\n",
              "\n",
              "    .dataframe tbody tr th {\n",
              "        vertical-align: top;\n",
              "    }\n",
              "\n",
              "    .dataframe thead th {\n",
              "        text-align: right;\n",
              "    }\n",
              "</style>\n",
              "<table border=\"1\" class=\"dataframe\">\n",
              "  <thead>\n",
              "    <tr style=\"text-align: right;\">\n",
              "      <th></th>\n",
              "      <th>Total</th>\n",
              "      <th>Percent</th>\n",
              "    </tr>\n",
              "  </thead>\n",
              "  <tbody>\n",
              "    <tr>\n",
              "      <th>Country</th>\n",
              "      <td>0</td>\n",
              "      <td>0.0</td>\n",
              "    </tr>\n",
              "    <tr>\n",
              "      <th>International Outlook</th>\n",
              "      <td>0</td>\n",
              "      <td>0.0</td>\n",
              "    </tr>\n",
              "    <tr>\n",
              "      <th>Industry Income</th>\n",
              "      <td>0</td>\n",
              "      <td>0.0</td>\n",
              "    </tr>\n",
              "    <tr>\n",
              "      <th>Citations</th>\n",
              "      <td>0</td>\n",
              "      <td>0.0</td>\n",
              "    </tr>\n",
              "    <tr>\n",
              "      <th>Research</th>\n",
              "      <td>0</td>\n",
              "      <td>0.0</td>\n",
              "    </tr>\n",
              "    <tr>\n",
              "      <th>Teaching</th>\n",
              "      <td>0</td>\n",
              "      <td>0.0</td>\n",
              "    </tr>\n",
              "    <tr>\n",
              "      <th>Name</th>\n",
              "      <td>0</td>\n",
              "      <td>0.0</td>\n",
              "    </tr>\n",
              "  </tbody>\n",
              "</table>\n",
              "</div>"
            ],
            "text/plain": [
              "                       Total  Percent\n",
              "Country                    0      0.0\n",
              "International Outlook      0      0.0\n",
              "Industry Income            0      0.0\n",
              "Citations                  0      0.0\n",
              "Research                   0      0.0\n",
              "Teaching                   0      0.0\n",
              "Name                       0      0.0"
            ]
          },
          "execution_count": 175,
          "metadata": {},
          "output_type": "execute_result"
        }
      ]
    },
    {
      "cell_type": "code",
      "metadata": {
        "id": "HPINZ2cqWfim"
      },
      "source": [
        "df_qsworld['Country_qsworld'] = df_qsworld['Location'].str.split(',').str[1]\n",
        "df_qsworld.Country_qsworld = df_qsworld.Country_qsworld.replace(np.nan, 0)\n",
        "df_qsworld = df_qsworld.drop(df_qsworld[df_qsworld.Country_qsworld == 0].index)"
      ],
      "execution_count": null,
      "outputs": []
    },
    {
      "cell_type": "code",
      "metadata": {
        "id": "_Rl17D16Wfim",
        "outputId": "1d739c43-33c1-41c2-fd3b-f1069b4d62b7"
      },
      "source": [
        "df_qsworld"
      ],
      "execution_count": null,
      "outputs": [
        {
          "data": {
            "text/html": [
              "<div>\n",
              "<style scoped>\n",
              "    .dataframe tbody tr th:only-of-type {\n",
              "        vertical-align: middle;\n",
              "    }\n",
              "\n",
              "    .dataframe tbody tr th {\n",
              "        vertical-align: top;\n",
              "    }\n",
              "\n",
              "    .dataframe thead th {\n",
              "        text-align: right;\n",
              "    }\n",
              "</style>\n",
              "<table border=\"1\" class=\"dataframe\">\n",
              "  <thead>\n",
              "    <tr style=\"text-align: right;\">\n",
              "      <th></th>\n",
              "      <th>Unnamed: 0</th>\n",
              "      <th>Rank</th>\n",
              "      <th>University</th>\n",
              "      <th>Overall Score</th>\n",
              "      <th>International Students Ratio</th>\n",
              "      <th>International Faculty Ratio</th>\n",
              "      <th>Faculty Student Ratio</th>\n",
              "      <th>Citations per Faculty</th>\n",
              "      <th>Academic Reputation</th>\n",
              "      <th>Employer Reputation</th>\n",
              "      <th>Location</th>\n",
              "      <th>Country_qsworld</th>\n",
              "    </tr>\n",
              "  </thead>\n",
              "  <tbody>\n",
              "    <tr>\n",
              "      <th>0</th>\n",
              "      <td>0</td>\n",
              "      <td>1</td>\n",
              "      <td>Massachusetts Institute of Technology (MIT)</td>\n",
              "      <td>100.0</td>\n",
              "      <td>91.9</td>\n",
              "      <td>100.0</td>\n",
              "      <td>100.0</td>\n",
              "      <td>99.1</td>\n",
              "      <td>100.0</td>\n",
              "      <td>100.0</td>\n",
              "      <td>Cambridge,United States</td>\n",
              "      <td>United States</td>\n",
              "    </tr>\n",
              "    <tr>\n",
              "      <th>1</th>\n",
              "      <td>1</td>\n",
              "      <td>2</td>\n",
              "      <td>Stanford University</td>\n",
              "      <td>98.4</td>\n",
              "      <td>63.6</td>\n",
              "      <td>99.7</td>\n",
              "      <td>100.0</td>\n",
              "      <td>98.1</td>\n",
              "      <td>100.0</td>\n",
              "      <td>100.0</td>\n",
              "      <td>Stanford,United States</td>\n",
              "      <td>United States</td>\n",
              "    </tr>\n",
              "    <tr>\n",
              "      <th>2</th>\n",
              "      <td>2</td>\n",
              "      <td>3</td>\n",
              "      <td>Harvard University</td>\n",
              "      <td>97.9</td>\n",
              "      <td>69.9</td>\n",
              "      <td>85.2</td>\n",
              "      <td>98.6</td>\n",
              "      <td>99.1</td>\n",
              "      <td>100.0</td>\n",
              "      <td>100.0</td>\n",
              "      <td>Cambridge,United States</td>\n",
              "      <td>United States</td>\n",
              "    </tr>\n",
              "    <tr>\n",
              "      <th>3</th>\n",
              "      <td>3</td>\n",
              "      <td>4</td>\n",
              "      <td>California Institute of Technology (Caltech)</td>\n",
              "      <td>97.0</td>\n",
              "      <td>88.2</td>\n",
              "      <td>100.0</td>\n",
              "      <td>100.0</td>\n",
              "      <td>99.9</td>\n",
              "      <td>97.0</td>\n",
              "      <td>82.8</td>\n",
              "      <td>Pasadena,United States</td>\n",
              "      <td>United States</td>\n",
              "    </tr>\n",
              "    <tr>\n",
              "      <th>4</th>\n",
              "      <td>4</td>\n",
              "      <td>5</td>\n",
              "      <td>University of Oxford</td>\n",
              "      <td>96.7</td>\n",
              "      <td>98.3</td>\n",
              "      <td>99.4</td>\n",
              "      <td>100.0</td>\n",
              "      <td>81.3</td>\n",
              "      <td>100.0</td>\n",
              "      <td>100.0</td>\n",
              "      <td>Oxford,United Kingdom</td>\n",
              "      <td>United Kingdom</td>\n",
              "    </tr>\n",
              "    <tr>\n",
              "      <th>...</th>\n",
              "      <td>...</td>\n",
              "      <td>...</td>\n",
              "      <td>...</td>\n",
              "      <td>...</td>\n",
              "      <td>...</td>\n",
              "      <td>...</td>\n",
              "      <td>...</td>\n",
              "      <td>...</td>\n",
              "      <td>...</td>\n",
              "      <td>...</td>\n",
              "      <td>...</td>\n",
              "      <td>...</td>\n",
              "    </tr>\n",
              "    <tr>\n",
              "      <th>1180</th>\n",
              "      <td>1180</td>\n",
              "      <td>NaN</td>\n",
              "      <td>University of California, San Francisco</td>\n",
              "      <td>NaN</td>\n",
              "      <td>NaN</td>\n",
              "      <td>44.3</td>\n",
              "      <td>100.0</td>\n",
              "      <td>48.7</td>\n",
              "      <td>42.2</td>\n",
              "      <td>NaN</td>\n",
              "      <td>San Francisco,United States</td>\n",
              "      <td>United States</td>\n",
              "    </tr>\n",
              "    <tr>\n",
              "      <th>1181</th>\n",
              "      <td>1181</td>\n",
              "      <td>NaN</td>\n",
              "      <td>Prague University of Economics and Business</td>\n",
              "      <td>NaN</td>\n",
              "      <td>60.4</td>\n",
              "      <td>NaN</td>\n",
              "      <td>NaN</td>\n",
              "      <td>NaN</td>\n",
              "      <td>NaN</td>\n",
              "      <td>18.7</td>\n",
              "      <td>Prague,Czech Republic</td>\n",
              "      <td>Czech Republic</td>\n",
              "    </tr>\n",
              "    <tr>\n",
              "      <th>1182</th>\n",
              "      <td>1182</td>\n",
              "      <td>NaN</td>\n",
              "      <td>University of the Arts London</td>\n",
              "      <td>NaN</td>\n",
              "      <td>100.0</td>\n",
              "      <td>48.3</td>\n",
              "      <td>NaN</td>\n",
              "      <td>NaN</td>\n",
              "      <td>NaN</td>\n",
              "      <td>NaN</td>\n",
              "      <td>London,United Kingdom</td>\n",
              "      <td>United Kingdom</td>\n",
              "    </tr>\n",
              "    <tr>\n",
              "      <th>1183</th>\n",
              "      <td>1183</td>\n",
              "      <td>NaN</td>\n",
              "      <td>Weizmann Institute of Science</td>\n",
              "      <td>NaN</td>\n",
              "      <td>NaN</td>\n",
              "      <td>NaN</td>\n",
              "      <td>100.0</td>\n",
              "      <td>76.4</td>\n",
              "      <td>19.9</td>\n",
              "      <td>NaN</td>\n",
              "      <td>Rehovot,Israel</td>\n",
              "      <td>Israel</td>\n",
              "    </tr>\n",
              "    <tr>\n",
              "      <th>1184</th>\n",
              "      <td>1184</td>\n",
              "      <td>NaN</td>\n",
              "      <td>WHU - Otto Beisheim School of Management</td>\n",
              "      <td>NaN</td>\n",
              "      <td>NaN</td>\n",
              "      <td>98.6</td>\n",
              "      <td>25.2</td>\n",
              "      <td>45.1</td>\n",
              "      <td>NaN</td>\n",
              "      <td>23.8</td>\n",
              "      <td>Vallendar,Germany</td>\n",
              "      <td>Germany</td>\n",
              "    </tr>\n",
              "  </tbody>\n",
              "</table>\n",
              "<p>1145 rows × 12 columns</p>\n",
              "</div>"
            ],
            "text/plain": [
              "      Unnamed: 0 Rank                                    University  \\\n",
              "0              0    1   Massachusetts Institute of Technology (MIT)   \n",
              "1              1    2                           Stanford University   \n",
              "2              2    3                            Harvard University   \n",
              "3              3    4  California Institute of Technology (Caltech)   \n",
              "4              4    5                          University of Oxford   \n",
              "...          ...  ...                                           ...   \n",
              "1180        1180  NaN       University of California, San Francisco   \n",
              "1181        1181  NaN   Prague University of Economics and Business   \n",
              "1182        1182  NaN                 University of the Arts London   \n",
              "1183        1183  NaN                 Weizmann Institute of Science   \n",
              "1184        1184  NaN      WHU - Otto Beisheim School of Management   \n",
              "\n",
              "      Overall Score  International Students Ratio  \\\n",
              "0             100.0                          91.9   \n",
              "1              98.4                          63.6   \n",
              "2              97.9                          69.9   \n",
              "3              97.0                          88.2   \n",
              "4              96.7                          98.3   \n",
              "...             ...                           ...   \n",
              "1180            NaN                           NaN   \n",
              "1181            NaN                          60.4   \n",
              "1182            NaN                         100.0   \n",
              "1183            NaN                           NaN   \n",
              "1184            NaN                           NaN   \n",
              "\n",
              "      International Faculty Ratio  Faculty Student Ratio  \\\n",
              "0                           100.0                  100.0   \n",
              "1                            99.7                  100.0   \n",
              "2                            85.2                   98.6   \n",
              "3                           100.0                  100.0   \n",
              "4                            99.4                  100.0   \n",
              "...                           ...                    ...   \n",
              "1180                         44.3                  100.0   \n",
              "1181                          NaN                    NaN   \n",
              "1182                         48.3                    NaN   \n",
              "1183                          NaN                  100.0   \n",
              "1184                         98.6                   25.2   \n",
              "\n",
              "      Citations per Faculty  Academic Reputation  Employer Reputation  \\\n",
              "0                      99.1                100.0                100.0   \n",
              "1                      98.1                100.0                100.0   \n",
              "2                      99.1                100.0                100.0   \n",
              "3                      99.9                 97.0                 82.8   \n",
              "4                      81.3                100.0                100.0   \n",
              "...                     ...                  ...                  ...   \n",
              "1180                   48.7                 42.2                  NaN   \n",
              "1181                    NaN                  NaN                 18.7   \n",
              "1182                    NaN                  NaN                  NaN   \n",
              "1183                   76.4                 19.9                  NaN   \n",
              "1184                   45.1                  NaN                 23.8   \n",
              "\n",
              "                         Location Country_qsworld  \n",
              "0         Cambridge,United States   United States  \n",
              "1          Stanford,United States   United States  \n",
              "2         Cambridge,United States   United States  \n",
              "3          Pasadena,United States   United States  \n",
              "4           Oxford,United Kingdom  United Kingdom  \n",
              "...                           ...             ...  \n",
              "1180  San Francisco,United States   United States  \n",
              "1181        Prague,Czech Republic  Czech Republic  \n",
              "1182        London,United Kingdom  United Kingdom  \n",
              "1183               Rehovot,Israel          Israel  \n",
              "1184            Vallendar,Germany         Germany  \n",
              "\n",
              "[1145 rows x 12 columns]"
            ]
          },
          "execution_count": 177,
          "metadata": {},
          "output_type": "execute_result"
        }
      ]
    },
    {
      "cell_type": "code",
      "metadata": {
        "id": "gDUWTcADWfin"
      },
      "source": [
        "df_qsworld_fix = df_qsworld.drop(columns = [\"Unnamed: 0\",\"Rank\",\"Overall Score\",\"Location\"])"
      ],
      "execution_count": null,
      "outputs": []
    },
    {
      "cell_type": "code",
      "metadata": {
        "id": "YlCtyxsvWfio"
      },
      "source": [
        "df_qsworld_fix['University'] = df_qsworld_fix['University'].str.split('(').str[0]\n",
        "df_qsworld_fix['University'] = df_qsworld_fix['University'].str.split('-').str[0]\n",
        "univ_clean = []\n",
        "for x in df_qsworld_fix.University :\n",
        "  if x[-1] == ' ':\n",
        "    x=x[:-1]\n",
        "  else:\n",
        "    x=x\n",
        "  univ_clean.append(x)\n",
        "\n",
        "df_qsworld_fix['University'] = np.array(univ_clean)"
      ],
      "execution_count": null,
      "outputs": []
    },
    {
      "cell_type": "code",
      "metadata": {
        "id": "izHBcDOjWfio"
      },
      "source": [
        "df_qsworld_fix.University = df_qsworld_fix.University.replace(\"Gadjah Mada University\",\"Universitas Gadjah Mada\")\n",
        "df_qsworld_fix.University = df_qsworld_fix.University.replace(\"Universitas Indonesia\",\"University of Indonesia\")\n",
        "df_qsworld_fix.University = df_qsworld_fix.University.replace(\"Bogor Agricultural University\",\"IPB University\")\n",
        "df_qsworld_fix.University = df_qsworld_fix.University.replace(\"Universitas Brawijaya\",\"University of Brawijaya\")"
      ],
      "execution_count": null,
      "outputs": []
    },
    {
      "cell_type": "code",
      "metadata": {
        "id": "XwZ5yoaWWfip",
        "outputId": "5705216c-8c82-4c04-ef22-7b80c0ebd403"
      },
      "source": [
        "missing_percentage(df_qsworld_fix)"
      ],
      "execution_count": null,
      "outputs": [
        {
          "data": {
            "text/html": [
              "<div>\n",
              "<style scoped>\n",
              "    .dataframe tbody tr th:only-of-type {\n",
              "        vertical-align: middle;\n",
              "    }\n",
              "\n",
              "    .dataframe tbody tr th {\n",
              "        vertical-align: top;\n",
              "    }\n",
              "\n",
              "    .dataframe thead th {\n",
              "        text-align: right;\n",
              "    }\n",
              "</style>\n",
              "<table border=\"1\" class=\"dataframe\">\n",
              "  <thead>\n",
              "    <tr style=\"text-align: right;\">\n",
              "      <th></th>\n",
              "      <th>Total</th>\n",
              "      <th>Percent</th>\n",
              "    </tr>\n",
              "  </thead>\n",
              "  <tbody>\n",
              "    <tr>\n",
              "      <th>Academic Reputation</th>\n",
              "      <td>561</td>\n",
              "      <td>49.00</td>\n",
              "    </tr>\n",
              "    <tr>\n",
              "      <th>Employer Reputation</th>\n",
              "      <td>511</td>\n",
              "      <td>44.63</td>\n",
              "    </tr>\n",
              "    <tr>\n",
              "      <th>Citations per Faculty</th>\n",
              "      <td>457</td>\n",
              "      <td>39.91</td>\n",
              "    </tr>\n",
              "    <tr>\n",
              "      <th>International Faculty Ratio</th>\n",
              "      <td>452</td>\n",
              "      <td>39.48</td>\n",
              "    </tr>\n",
              "    <tr>\n",
              "      <th>International Students Ratio</th>\n",
              "      <td>446</td>\n",
              "      <td>38.95</td>\n",
              "    </tr>\n",
              "    <tr>\n",
              "      <th>Faculty Student Ratio</th>\n",
              "      <td>431</td>\n",
              "      <td>37.64</td>\n",
              "    </tr>\n",
              "    <tr>\n",
              "      <th>Country_qsworld</th>\n",
              "      <td>0</td>\n",
              "      <td>0.00</td>\n",
              "    </tr>\n",
              "    <tr>\n",
              "      <th>University</th>\n",
              "      <td>0</td>\n",
              "      <td>0.00</td>\n",
              "    </tr>\n",
              "  </tbody>\n",
              "</table>\n",
              "</div>"
            ],
            "text/plain": [
              "                              Total  Percent\n",
              "Academic Reputation             561    49.00\n",
              "Employer Reputation             511    44.63\n",
              "Citations per Faculty           457    39.91\n",
              "International Faculty Ratio     452    39.48\n",
              "International Students Ratio    446    38.95\n",
              "Faculty Student Ratio           431    37.64\n",
              "Country_qsworld                   0     0.00\n",
              "University                        0     0.00"
            ]
          },
          "execution_count": 164,
          "metadata": {},
          "output_type": "execute_result"
        }
      ]
    },
    {
      "cell_type": "code",
      "metadata": {
        "id": "6ajXKdq5Wfip"
      },
      "source": [
        "df_qsworld_fix = df_qsworld_fix.replace(np.nan, 0)"
      ],
      "execution_count": null,
      "outputs": []
    },
    {
      "cell_type": "code",
      "metadata": {
        "id": "iFJ3LJGFWfiq",
        "outputId": "07cb5b12-f62b-444b-891c-57f36f10805d"
      },
      "source": [
        "missing_percentage(df_qsworld_fix)"
      ],
      "execution_count": null,
      "outputs": [
        {
          "data": {
            "text/html": [
              "<div>\n",
              "<style scoped>\n",
              "    .dataframe tbody tr th:only-of-type {\n",
              "        vertical-align: middle;\n",
              "    }\n",
              "\n",
              "    .dataframe tbody tr th {\n",
              "        vertical-align: top;\n",
              "    }\n",
              "\n",
              "    .dataframe thead th {\n",
              "        text-align: right;\n",
              "    }\n",
              "</style>\n",
              "<table border=\"1\" class=\"dataframe\">\n",
              "  <thead>\n",
              "    <tr style=\"text-align: right;\">\n",
              "      <th></th>\n",
              "      <th>Total</th>\n",
              "      <th>Percent</th>\n",
              "    </tr>\n",
              "  </thead>\n",
              "  <tbody>\n",
              "    <tr>\n",
              "      <th>Country_qsworld</th>\n",
              "      <td>0</td>\n",
              "      <td>0.0</td>\n",
              "    </tr>\n",
              "    <tr>\n",
              "      <th>Employer Reputation</th>\n",
              "      <td>0</td>\n",
              "      <td>0.0</td>\n",
              "    </tr>\n",
              "    <tr>\n",
              "      <th>Academic Reputation</th>\n",
              "      <td>0</td>\n",
              "      <td>0.0</td>\n",
              "    </tr>\n",
              "    <tr>\n",
              "      <th>Citations per Faculty</th>\n",
              "      <td>0</td>\n",
              "      <td>0.0</td>\n",
              "    </tr>\n",
              "    <tr>\n",
              "      <th>Faculty Student Ratio</th>\n",
              "      <td>0</td>\n",
              "      <td>0.0</td>\n",
              "    </tr>\n",
              "    <tr>\n",
              "      <th>International Faculty Ratio</th>\n",
              "      <td>0</td>\n",
              "      <td>0.0</td>\n",
              "    </tr>\n",
              "    <tr>\n",
              "      <th>International Students Ratio</th>\n",
              "      <td>0</td>\n",
              "      <td>0.0</td>\n",
              "    </tr>\n",
              "    <tr>\n",
              "      <th>University</th>\n",
              "      <td>0</td>\n",
              "      <td>0.0</td>\n",
              "    </tr>\n",
              "  </tbody>\n",
              "</table>\n",
              "</div>"
            ],
            "text/plain": [
              "                              Total  Percent\n",
              "Country_qsworld                   0      0.0\n",
              "Employer Reputation               0      0.0\n",
              "Academic Reputation               0      0.0\n",
              "Citations per Faculty             0      0.0\n",
              "Faculty Student Ratio             0      0.0\n",
              "International Faculty Ratio       0      0.0\n",
              "International Students Ratio      0      0.0\n",
              "University                        0      0.0"
            ]
          },
          "execution_count": 166,
          "metadata": {},
          "output_type": "execute_result"
        }
      ]
    },
    {
      "cell_type": "code",
      "metadata": {
        "id": "GJB3Ub1nWfiq",
        "outputId": "31198e68-a191-4545-f2e4-1de753f5c87a"
      },
      "source": [
        "df_qsworld_fix"
      ],
      "execution_count": null,
      "outputs": [
        {
          "data": {
            "text/html": [
              "<div>\n",
              "<style scoped>\n",
              "    .dataframe tbody tr th:only-of-type {\n",
              "        vertical-align: middle;\n",
              "    }\n",
              "\n",
              "    .dataframe tbody tr th {\n",
              "        vertical-align: top;\n",
              "    }\n",
              "\n",
              "    .dataframe thead th {\n",
              "        text-align: right;\n",
              "    }\n",
              "</style>\n",
              "<table border=\"1\" class=\"dataframe\">\n",
              "  <thead>\n",
              "    <tr style=\"text-align: right;\">\n",
              "      <th></th>\n",
              "      <th>University</th>\n",
              "      <th>International Students Ratio</th>\n",
              "      <th>International Faculty Ratio</th>\n",
              "      <th>Faculty Student Ratio</th>\n",
              "      <th>Citations per Faculty</th>\n",
              "      <th>Academic Reputation</th>\n",
              "      <th>Employer Reputation</th>\n",
              "      <th>Country_qsworld</th>\n",
              "    </tr>\n",
              "  </thead>\n",
              "  <tbody>\n",
              "    <tr>\n",
              "      <th>0</th>\n",
              "      <td>Massachusetts Institute of Technology</td>\n",
              "      <td>91.9</td>\n",
              "      <td>100.0</td>\n",
              "      <td>100.0</td>\n",
              "      <td>99.1</td>\n",
              "      <td>100.0</td>\n",
              "      <td>100.0</td>\n",
              "      <td>United States</td>\n",
              "    </tr>\n",
              "    <tr>\n",
              "      <th>1</th>\n",
              "      <td>Stanford University</td>\n",
              "      <td>63.6</td>\n",
              "      <td>99.7</td>\n",
              "      <td>100.0</td>\n",
              "      <td>98.1</td>\n",
              "      <td>100.0</td>\n",
              "      <td>100.0</td>\n",
              "      <td>United States</td>\n",
              "    </tr>\n",
              "    <tr>\n",
              "      <th>2</th>\n",
              "      <td>Harvard University</td>\n",
              "      <td>69.9</td>\n",
              "      <td>85.2</td>\n",
              "      <td>98.6</td>\n",
              "      <td>99.1</td>\n",
              "      <td>100.0</td>\n",
              "      <td>100.0</td>\n",
              "      <td>United States</td>\n",
              "    </tr>\n",
              "    <tr>\n",
              "      <th>3</th>\n",
              "      <td>California Institute of Technology</td>\n",
              "      <td>88.2</td>\n",
              "      <td>100.0</td>\n",
              "      <td>100.0</td>\n",
              "      <td>99.9</td>\n",
              "      <td>97.0</td>\n",
              "      <td>82.8</td>\n",
              "      <td>United States</td>\n",
              "    </tr>\n",
              "    <tr>\n",
              "      <th>4</th>\n",
              "      <td>University of Oxford</td>\n",
              "      <td>98.3</td>\n",
              "      <td>99.4</td>\n",
              "      <td>100.0</td>\n",
              "      <td>81.3</td>\n",
              "      <td>100.0</td>\n",
              "      <td>100.0</td>\n",
              "      <td>United Kingdom</td>\n",
              "    </tr>\n",
              "    <tr>\n",
              "      <th>...</th>\n",
              "      <td>...</td>\n",
              "      <td>...</td>\n",
              "      <td>...</td>\n",
              "      <td>...</td>\n",
              "      <td>...</td>\n",
              "      <td>...</td>\n",
              "      <td>...</td>\n",
              "      <td>...</td>\n",
              "    </tr>\n",
              "    <tr>\n",
              "      <th>1180</th>\n",
              "      <td>University of California, San Francisco</td>\n",
              "      <td>0.0</td>\n",
              "      <td>44.3</td>\n",
              "      <td>100.0</td>\n",
              "      <td>48.7</td>\n",
              "      <td>42.2</td>\n",
              "      <td>0.0</td>\n",
              "      <td>United States</td>\n",
              "    </tr>\n",
              "    <tr>\n",
              "      <th>1181</th>\n",
              "      <td>Prague University of Economics and Business</td>\n",
              "      <td>60.4</td>\n",
              "      <td>0.0</td>\n",
              "      <td>0.0</td>\n",
              "      <td>0.0</td>\n",
              "      <td>0.0</td>\n",
              "      <td>18.7</td>\n",
              "      <td>Czech Republic</td>\n",
              "    </tr>\n",
              "    <tr>\n",
              "      <th>1182</th>\n",
              "      <td>University of the Arts London</td>\n",
              "      <td>100.0</td>\n",
              "      <td>48.3</td>\n",
              "      <td>0.0</td>\n",
              "      <td>0.0</td>\n",
              "      <td>0.0</td>\n",
              "      <td>0.0</td>\n",
              "      <td>United Kingdom</td>\n",
              "    </tr>\n",
              "    <tr>\n",
              "      <th>1183</th>\n",
              "      <td>Weizmann Institute of Science</td>\n",
              "      <td>0.0</td>\n",
              "      <td>0.0</td>\n",
              "      <td>100.0</td>\n",
              "      <td>76.4</td>\n",
              "      <td>19.9</td>\n",
              "      <td>0.0</td>\n",
              "      <td>Israel</td>\n",
              "    </tr>\n",
              "    <tr>\n",
              "      <th>1184</th>\n",
              "      <td>WHU</td>\n",
              "      <td>0.0</td>\n",
              "      <td>98.6</td>\n",
              "      <td>25.2</td>\n",
              "      <td>45.1</td>\n",
              "      <td>0.0</td>\n",
              "      <td>23.8</td>\n",
              "      <td>Germany</td>\n",
              "    </tr>\n",
              "  </tbody>\n",
              "</table>\n",
              "<p>1145 rows × 8 columns</p>\n",
              "</div>"
            ],
            "text/plain": [
              "                                       University  \\\n",
              "0           Massachusetts Institute of Technology   \n",
              "1                             Stanford University   \n",
              "2                              Harvard University   \n",
              "3              California Institute of Technology   \n",
              "4                            University of Oxford   \n",
              "...                                           ...   \n",
              "1180      University of California, San Francisco   \n",
              "1181  Prague University of Economics and Business   \n",
              "1182                University of the Arts London   \n",
              "1183                Weizmann Institute of Science   \n",
              "1184                                          WHU   \n",
              "\n",
              "      International Students Ratio  International Faculty Ratio  \\\n",
              "0                             91.9                        100.0   \n",
              "1                             63.6                         99.7   \n",
              "2                             69.9                         85.2   \n",
              "3                             88.2                        100.0   \n",
              "4                             98.3                         99.4   \n",
              "...                            ...                          ...   \n",
              "1180                           0.0                         44.3   \n",
              "1181                          60.4                          0.0   \n",
              "1182                         100.0                         48.3   \n",
              "1183                           0.0                          0.0   \n",
              "1184                           0.0                         98.6   \n",
              "\n",
              "      Faculty Student Ratio  Citations per Faculty  Academic Reputation  \\\n",
              "0                     100.0                   99.1                100.0   \n",
              "1                     100.0                   98.1                100.0   \n",
              "2                      98.6                   99.1                100.0   \n",
              "3                     100.0                   99.9                 97.0   \n",
              "4                     100.0                   81.3                100.0   \n",
              "...                     ...                    ...                  ...   \n",
              "1180                  100.0                   48.7                 42.2   \n",
              "1181                    0.0                    0.0                  0.0   \n",
              "1182                    0.0                    0.0                  0.0   \n",
              "1183                  100.0                   76.4                 19.9   \n",
              "1184                   25.2                   45.1                  0.0   \n",
              "\n",
              "      Employer Reputation Country_qsworld  \n",
              "0                   100.0   United States  \n",
              "1                   100.0   United States  \n",
              "2                   100.0   United States  \n",
              "3                    82.8   United States  \n",
              "4                   100.0  United Kingdom  \n",
              "...                   ...             ...  \n",
              "1180                  0.0   United States  \n",
              "1181                 18.7  Czech Republic  \n",
              "1182                  0.0  United Kingdom  \n",
              "1183                  0.0          Israel  \n",
              "1184                 23.8         Germany  \n",
              "\n",
              "[1145 rows x 8 columns]"
            ]
          },
          "execution_count": 167,
          "metadata": {},
          "output_type": "execute_result"
        }
      ]
    },
    {
      "cell_type": "code",
      "metadata": {
        "id": "ouxuctm4Wfiq"
      },
      "source": [
        "df_THE_fix.rename(columns={'Name' :'University','Country': 'Country_THE'}, inplace=True)\n"
      ],
      "execution_count": null,
      "outputs": []
    },
    {
      "cell_type": "code",
      "metadata": {
        "id": "8osO2bg2Wfiq"
      },
      "source": [
        "#Join Tabel\n",
        "df_join = pd.merge(df_THE_fix,df_qsworld_fix,on='University',how='outer')"
      ],
      "execution_count": null,
      "outputs": []
    },
    {
      "cell_type": "code",
      "metadata": {
        "id": "mSdf1OciWfir",
        "outputId": "f4a8bce3-afb3-476a-8cb4-ce65593f8434"
      },
      "source": [
        "df_join"
      ],
      "execution_count": null,
      "outputs": [
        {
          "data": {
            "text/html": [
              "<div>\n",
              "<style scoped>\n",
              "    .dataframe tbody tr th:only-of-type {\n",
              "        vertical-align: middle;\n",
              "    }\n",
              "\n",
              "    .dataframe tbody tr th {\n",
              "        vertical-align: top;\n",
              "    }\n",
              "\n",
              "    .dataframe thead th {\n",
              "        text-align: right;\n",
              "    }\n",
              "</style>\n",
              "<table border=\"1\" class=\"dataframe\">\n",
              "  <thead>\n",
              "    <tr style=\"text-align: right;\">\n",
              "      <th></th>\n",
              "      <th>University</th>\n",
              "      <th>Teaching</th>\n",
              "      <th>Research</th>\n",
              "      <th>Citations</th>\n",
              "      <th>Industry Income</th>\n",
              "      <th>International Outlook</th>\n",
              "      <th>Country_THE</th>\n",
              "      <th>International Students Ratio</th>\n",
              "      <th>International Faculty Ratio</th>\n",
              "      <th>Faculty Student Ratio</th>\n",
              "      <th>Citations per Faculty</th>\n",
              "      <th>Academic Reputation</th>\n",
              "      <th>Employer Reputation</th>\n",
              "      <th>Country_qsworld</th>\n",
              "    </tr>\n",
              "  </thead>\n",
              "  <tbody>\n",
              "    <tr>\n",
              "      <th>0</th>\n",
              "      <td>University of Oxford</td>\n",
              "      <td>91.3</td>\n",
              "      <td>99.6</td>\n",
              "      <td>98.0</td>\n",
              "      <td>68.7</td>\n",
              "      <td>96.4</td>\n",
              "      <td>United Kingdom</td>\n",
              "      <td>98.3</td>\n",
              "      <td>99.4</td>\n",
              "      <td>100.0</td>\n",
              "      <td>81.3</td>\n",
              "      <td>100.0</td>\n",
              "      <td>100.0</td>\n",
              "      <td>United Kingdom</td>\n",
              "    </tr>\n",
              "    <tr>\n",
              "      <th>1</th>\n",
              "      <td>Stanford University</td>\n",
              "      <td>92.2</td>\n",
              "      <td>96.7</td>\n",
              "      <td>99.9</td>\n",
              "      <td>90.1</td>\n",
              "      <td>79.5</td>\n",
              "      <td>United States</td>\n",
              "      <td>63.6</td>\n",
              "      <td>99.7</td>\n",
              "      <td>100.0</td>\n",
              "      <td>98.1</td>\n",
              "      <td>100.0</td>\n",
              "      <td>100.0</td>\n",
              "      <td>United States</td>\n",
              "    </tr>\n",
              "    <tr>\n",
              "      <th>2</th>\n",
              "      <td>Harvard University</td>\n",
              "      <td>94.4</td>\n",
              "      <td>98.8</td>\n",
              "      <td>99.4</td>\n",
              "      <td>46.8</td>\n",
              "      <td>77.7</td>\n",
              "      <td>United States</td>\n",
              "      <td>69.9</td>\n",
              "      <td>85.2</td>\n",
              "      <td>98.6</td>\n",
              "      <td>99.1</td>\n",
              "      <td>100.0</td>\n",
              "      <td>100.0</td>\n",
              "      <td>United States</td>\n",
              "    </tr>\n",
              "    <tr>\n",
              "      <th>3</th>\n",
              "      <td>California Institute of Technology</td>\n",
              "      <td>92.5</td>\n",
              "      <td>96.9</td>\n",
              "      <td>97.0</td>\n",
              "      <td>92.7</td>\n",
              "      <td>83.6</td>\n",
              "      <td>United States</td>\n",
              "      <td>88.2</td>\n",
              "      <td>100.0</td>\n",
              "      <td>100.0</td>\n",
              "      <td>99.9</td>\n",
              "      <td>97.0</td>\n",
              "      <td>82.8</td>\n",
              "      <td>United States</td>\n",
              "    </tr>\n",
              "    <tr>\n",
              "      <th>4</th>\n",
              "      <td>Massachusetts Institute of Technology</td>\n",
              "      <td>90.7</td>\n",
              "      <td>94.4</td>\n",
              "      <td>99.7</td>\n",
              "      <td>90.4</td>\n",
              "      <td>90.0</td>\n",
              "      <td>United States</td>\n",
              "      <td>91.9</td>\n",
              "      <td>100.0</td>\n",
              "      <td>100.0</td>\n",
              "      <td>99.1</td>\n",
              "      <td>100.0</td>\n",
              "      <td>100.0</td>\n",
              "      <td>United States</td>\n",
              "    </tr>\n",
              "    <tr>\n",
              "      <th>...</th>\n",
              "      <td>...</td>\n",
              "      <td>...</td>\n",
              "      <td>...</td>\n",
              "      <td>...</td>\n",
              "      <td>...</td>\n",
              "      <td>...</td>\n",
              "      <td>...</td>\n",
              "      <td>...</td>\n",
              "      <td>...</td>\n",
              "      <td>...</td>\n",
              "      <td>...</td>\n",
              "      <td>...</td>\n",
              "      <td>...</td>\n",
              "      <td>...</td>\n",
              "    </tr>\n",
              "    <tr>\n",
              "      <th>2014</th>\n",
              "      <td>Université de Technologie de Compiègne</td>\n",
              "      <td>NaN</td>\n",
              "      <td>NaN</td>\n",
              "      <td>NaN</td>\n",
              "      <td>NaN</td>\n",
              "      <td>NaN</td>\n",
              "      <td>NaN</td>\n",
              "      <td>32.1</td>\n",
              "      <td>NaN</td>\n",
              "      <td>38.3</td>\n",
              "      <td>22.5</td>\n",
              "      <td>NaN</td>\n",
              "      <td>18.0</td>\n",
              "      <td>France</td>\n",
              "    </tr>\n",
              "    <tr>\n",
              "      <th>2015</th>\n",
              "      <td>University of California, San Francisco</td>\n",
              "      <td>NaN</td>\n",
              "      <td>NaN</td>\n",
              "      <td>NaN</td>\n",
              "      <td>NaN</td>\n",
              "      <td>NaN</td>\n",
              "      <td>NaN</td>\n",
              "      <td>NaN</td>\n",
              "      <td>44.3</td>\n",
              "      <td>100.0</td>\n",
              "      <td>48.7</td>\n",
              "      <td>42.2</td>\n",
              "      <td>NaN</td>\n",
              "      <td>United States</td>\n",
              "    </tr>\n",
              "    <tr>\n",
              "      <th>2016</th>\n",
              "      <td>University of the Arts London</td>\n",
              "      <td>NaN</td>\n",
              "      <td>NaN</td>\n",
              "      <td>NaN</td>\n",
              "      <td>NaN</td>\n",
              "      <td>NaN</td>\n",
              "      <td>NaN</td>\n",
              "      <td>100.0</td>\n",
              "      <td>48.3</td>\n",
              "      <td>NaN</td>\n",
              "      <td>NaN</td>\n",
              "      <td>NaN</td>\n",
              "      <td>NaN</td>\n",
              "      <td>United Kingdom</td>\n",
              "    </tr>\n",
              "    <tr>\n",
              "      <th>2017</th>\n",
              "      <td>Weizmann Institute of Science</td>\n",
              "      <td>NaN</td>\n",
              "      <td>NaN</td>\n",
              "      <td>NaN</td>\n",
              "      <td>NaN</td>\n",
              "      <td>NaN</td>\n",
              "      <td>NaN</td>\n",
              "      <td>NaN</td>\n",
              "      <td>NaN</td>\n",
              "      <td>100.0</td>\n",
              "      <td>76.4</td>\n",
              "      <td>19.9</td>\n",
              "      <td>NaN</td>\n",
              "      <td>Israel</td>\n",
              "    </tr>\n",
              "    <tr>\n",
              "      <th>2018</th>\n",
              "      <td>WHU</td>\n",
              "      <td>NaN</td>\n",
              "      <td>NaN</td>\n",
              "      <td>NaN</td>\n",
              "      <td>NaN</td>\n",
              "      <td>NaN</td>\n",
              "      <td>NaN</td>\n",
              "      <td>NaN</td>\n",
              "      <td>98.6</td>\n",
              "      <td>25.2</td>\n",
              "      <td>45.1</td>\n",
              "      <td>NaN</td>\n",
              "      <td>23.8</td>\n",
              "      <td>Germany</td>\n",
              "    </tr>\n",
              "  </tbody>\n",
              "</table>\n",
              "<p>2019 rows × 14 columns</p>\n",
              "</div>"
            ],
            "text/plain": [
              "                                   University  Teaching  Research  Citations  \\\n",
              "0                        University of Oxford      91.3      99.6       98.0   \n",
              "1                         Stanford University      92.2      96.7       99.9   \n",
              "2                          Harvard University      94.4      98.8       99.4   \n",
              "3          California Institute of Technology      92.5      96.9       97.0   \n",
              "4       Massachusetts Institute of Technology      90.7      94.4       99.7   \n",
              "...                                       ...       ...       ...        ...   \n",
              "2014   Université de Technologie de Compiègne       NaN       NaN        NaN   \n",
              "2015  University of California, San Francisco       NaN       NaN        NaN   \n",
              "2016            University of the Arts London       NaN       NaN        NaN   \n",
              "2017            Weizmann Institute of Science       NaN       NaN        NaN   \n",
              "2018                                      WHU       NaN       NaN        NaN   \n",
              "\n",
              "      Industry Income  International Outlook     Country_THE  \\\n",
              "0                68.7                   96.4  United Kingdom   \n",
              "1                90.1                   79.5   United States   \n",
              "2                46.8                   77.7   United States   \n",
              "3                92.7                   83.6   United States   \n",
              "4                90.4                   90.0   United States   \n",
              "...               ...                    ...             ...   \n",
              "2014              NaN                    NaN             NaN   \n",
              "2015              NaN                    NaN             NaN   \n",
              "2016              NaN                    NaN             NaN   \n",
              "2017              NaN                    NaN             NaN   \n",
              "2018              NaN                    NaN             NaN   \n",
              "\n",
              "      International Students Ratio  International Faculty Ratio  \\\n",
              "0                             98.3                         99.4   \n",
              "1                             63.6                         99.7   \n",
              "2                             69.9                         85.2   \n",
              "3                             88.2                        100.0   \n",
              "4                             91.9                        100.0   \n",
              "...                            ...                          ...   \n",
              "2014                          32.1                          NaN   \n",
              "2015                           NaN                         44.3   \n",
              "2016                         100.0                         48.3   \n",
              "2017                           NaN                          NaN   \n",
              "2018                           NaN                         98.6   \n",
              "\n",
              "      Faculty Student Ratio  Citations per Faculty  Academic Reputation  \\\n",
              "0                     100.0                   81.3                100.0   \n",
              "1                     100.0                   98.1                100.0   \n",
              "2                      98.6                   99.1                100.0   \n",
              "3                     100.0                   99.9                 97.0   \n",
              "4                     100.0                   99.1                100.0   \n",
              "...                     ...                    ...                  ...   \n",
              "2014                   38.3                   22.5                  NaN   \n",
              "2015                  100.0                   48.7                 42.2   \n",
              "2016                    NaN                    NaN                  NaN   \n",
              "2017                  100.0                   76.4                 19.9   \n",
              "2018                   25.2                   45.1                  NaN   \n",
              "\n",
              "      Employer Reputation Country_qsworld  \n",
              "0                   100.0  United Kingdom  \n",
              "1                   100.0   United States  \n",
              "2                   100.0   United States  \n",
              "3                    82.8   United States  \n",
              "4                   100.0   United States  \n",
              "...                   ...             ...  \n",
              "2014                 18.0          France  \n",
              "2015                  NaN   United States  \n",
              "2016                  NaN  United Kingdom  \n",
              "2017                  NaN          Israel  \n",
              "2018                 23.8         Germany  \n",
              "\n",
              "[2019 rows x 14 columns]"
            ]
          },
          "execution_count": 185,
          "metadata": {},
          "output_type": "execute_result"
        }
      ]
    },
    {
      "cell_type": "code",
      "metadata": {
        "id": "VFpslbmMWfir"
      },
      "source": [
        "df_join.Country_qsworld = df_join.Country_qsworld.replace(np.nan,0)\n",
        "df_join.Country_THE = df_join.Country_THE.replace(np.nan,0)"
      ],
      "execution_count": null,
      "outputs": []
    },
    {
      "cell_type": "code",
      "metadata": {
        "id": "vTiSMmzCWfir"
      },
      "source": [
        "country = []\n",
        "for i in range(df_join.shape[0]) :\n",
        "  if df_join.Country_THE[i] == 0 :\n",
        "    x =  df_join.Country_qsworld[i]\n",
        "  else:\n",
        "    x=df_join.Country_THE[i]\n",
        "  country.append(x)\n",
        "\n",
        "df_join[\"Country\"] = np.array(country)"
      ],
      "execution_count": null,
      "outputs": []
    },
    {
      "cell_type": "code",
      "metadata": {
        "id": "SoiAWfoxWfis"
      },
      "source": [
        "#Menghapus Kolom yang tidak diperlukan\n",
        "df_join=df_join.drop(columns = [\"Country_qsworld\",\"Country_THE\"])"
      ],
      "execution_count": null,
      "outputs": []
    },
    {
      "cell_type": "code",
      "metadata": {
        "id": "80bvbH4CWfis"
      },
      "source": [
        "df_join[\"Average_Score\"]=df_join.mean(axis=1)"
      ],
      "execution_count": null,
      "outputs": []
    },
    {
      "cell_type": "code",
      "metadata": {
        "id": "Rn8ufiTYWfis"
      },
      "source": [
        "df_join_sorted = df_join.sort_values(\"Average_Score\",ascending=False)\n",
        "df_join_sorted = df_join_sorted.reset_index()\n",
        "df_join_sorted[\"World_Rank\"] = df_join_sorted.index + 1\n",
        "df_join_sorted = df_join_sorted.drop(columns=\"index\")"
      ],
      "execution_count": null,
      "outputs": []
    },
    {
      "cell_type": "code",
      "metadata": {
        "id": "GFb4oYHZWfis"
      },
      "source": [
        "continents = {\n",
        "    'NA': 'North America',\n",
        "    'SA': 'South America', \n",
        "    'AS': 'Asia',\n",
        "    'OC': 'Australia',\n",
        "    'AF': 'Africa',\n",
        "    'EU': 'Europe'\n",
        "}\n",
        "\n",
        "\n",
        "continent=[]\n",
        "for x in df_join_sorted.Country :\n",
        "  try:\n",
        "    country_code = pc.country_name_to_country_alpha2(x, cn_name_format=\"default\")\n",
        "    continent_name = pc.country_alpha2_to_continent_code(country_code)\n",
        "    continent.append(continent_name)\n",
        "  except :\n",
        "    continent_name=0\n",
        "    continent.append(continent_name)\n",
        "\n",
        "df_join_sorted[\"Continent\"] = continent\n",
        "df_join_sorted[\"Continent\"] = df_join_sorted[\"Continent\"].replace(continents)"
      ],
      "execution_count": null,
      "outputs": []
    },
    {
      "cell_type": "code",
      "metadata": {
        "id": "SfyUCjzfWfit"
      },
      "source": [
        "#Menghapus nilai yang hilang\n",
        "df_join_sorted = df_join_sorted.drop(df_join_sorted[df_join_sorted.Continent == 0].index)"
      ],
      "execution_count": null,
      "outputs": []
    },
    {
      "cell_type": "code",
      "metadata": {
        "id": "iDRqXC7qWfit",
        "outputId": "9c4933d8-3292-4986-a875-589dc53af54f"
      },
      "source": [
        "missing_percentage(df_join_sorted)"
      ],
      "execution_count": null,
      "outputs": [
        {
          "data": {
            "text/html": [
              "<div>\n",
              "<style scoped>\n",
              "    .dataframe tbody tr th:only-of-type {\n",
              "        vertical-align: middle;\n",
              "    }\n",
              "\n",
              "    .dataframe tbody tr th {\n",
              "        vertical-align: top;\n",
              "    }\n",
              "\n",
              "    .dataframe thead th {\n",
              "        text-align: right;\n",
              "    }\n",
              "</style>\n",
              "<table border=\"1\" class=\"dataframe\">\n",
              "  <thead>\n",
              "    <tr style=\"text-align: right;\">\n",
              "      <th></th>\n",
              "      <th>Total</th>\n",
              "      <th>Percent</th>\n",
              "    </tr>\n",
              "  </thead>\n",
              "  <tbody>\n",
              "    <tr>\n",
              "      <th>Academic Reputation</th>\n",
              "      <td>1424</td>\n",
              "      <td>71.06</td>\n",
              "    </tr>\n",
              "    <tr>\n",
              "      <th>Employer Reputation</th>\n",
              "      <td>1374</td>\n",
              "      <td>68.56</td>\n",
              "    </tr>\n",
              "    <tr>\n",
              "      <th>Citations per Faculty</th>\n",
              "      <td>1324</td>\n",
              "      <td>66.07</td>\n",
              "    </tr>\n",
              "    <tr>\n",
              "      <th>International Faculty Ratio</th>\n",
              "      <td>1319</td>\n",
              "      <td>65.82</td>\n",
              "    </tr>\n",
              "    <tr>\n",
              "      <th>International Students Ratio</th>\n",
              "      <td>1312</td>\n",
              "      <td>65.47</td>\n",
              "    </tr>\n",
              "    <tr>\n",
              "      <th>Faculty Student Ratio</th>\n",
              "      <td>1298</td>\n",
              "      <td>64.77</td>\n",
              "    </tr>\n",
              "    <tr>\n",
              "      <th>International Outlook</th>\n",
              "      <td>478</td>\n",
              "      <td>23.85</td>\n",
              "    </tr>\n",
              "    <tr>\n",
              "      <th>Industry Income</th>\n",
              "      <td>478</td>\n",
              "      <td>23.85</td>\n",
              "    </tr>\n",
              "    <tr>\n",
              "      <th>Citations</th>\n",
              "      <td>478</td>\n",
              "      <td>23.85</td>\n",
              "    </tr>\n",
              "    <tr>\n",
              "      <th>Research</th>\n",
              "      <td>478</td>\n",
              "      <td>23.85</td>\n",
              "    </tr>\n",
              "    <tr>\n",
              "      <th>Teaching</th>\n",
              "      <td>478</td>\n",
              "      <td>23.85</td>\n",
              "    </tr>\n",
              "    <tr>\n",
              "      <th>Average_Score</th>\n",
              "      <td>65</td>\n",
              "      <td>3.24</td>\n",
              "    </tr>\n",
              "    <tr>\n",
              "      <th>Continent</th>\n",
              "      <td>0</td>\n",
              "      <td>0.00</td>\n",
              "    </tr>\n",
              "    <tr>\n",
              "      <th>World_Rank</th>\n",
              "      <td>0</td>\n",
              "      <td>0.00</td>\n",
              "    </tr>\n",
              "    <tr>\n",
              "      <th>Country</th>\n",
              "      <td>0</td>\n",
              "      <td>0.00</td>\n",
              "    </tr>\n",
              "    <tr>\n",
              "      <th>University</th>\n",
              "      <td>0</td>\n",
              "      <td>0.00</td>\n",
              "    </tr>\n",
              "  </tbody>\n",
              "</table>\n",
              "</div>"
            ],
            "text/plain": [
              "                              Total  Percent\n",
              "Academic Reputation            1424    71.06\n",
              "Employer Reputation            1374    68.56\n",
              "Citations per Faculty          1324    66.07\n",
              "International Faculty Ratio    1319    65.82\n",
              "International Students Ratio   1312    65.47\n",
              "Faculty Student Ratio          1298    64.77\n",
              "International Outlook           478    23.85\n",
              "Industry Income                 478    23.85\n",
              "Citations                       478    23.85\n",
              "Research                        478    23.85\n",
              "Teaching                        478    23.85\n",
              "Average_Score                    65     3.24\n",
              "Continent                         0     0.00\n",
              "World_Rank                        0     0.00\n",
              "Country                           0     0.00\n",
              "University                        0     0.00"
            ]
          },
          "execution_count": 194,
          "metadata": {},
          "output_type": "execute_result"
        }
      ]
    },
    {
      "cell_type": "code",
      "metadata": {
        "id": "yXHeHF7wWfit",
        "outputId": "e5afea58-931c-4110-febf-6594d24b5572"
      },
      "source": [
        "#Mereplace NaN dengan angka 0\n",
        "\n",
        "df_join_sorted = df_join_sorted.replace(np.nan,0)\n",
        "missing_percentage(df_join_sorted)"
      ],
      "execution_count": null,
      "outputs": [
        {
          "data": {
            "text/html": [
              "<div>\n",
              "<style scoped>\n",
              "    .dataframe tbody tr th:only-of-type {\n",
              "        vertical-align: middle;\n",
              "    }\n",
              "\n",
              "    .dataframe tbody tr th {\n",
              "        vertical-align: top;\n",
              "    }\n",
              "\n",
              "    .dataframe thead th {\n",
              "        text-align: right;\n",
              "    }\n",
              "</style>\n",
              "<table border=\"1\" class=\"dataframe\">\n",
              "  <thead>\n",
              "    <tr style=\"text-align: right;\">\n",
              "      <th></th>\n",
              "      <th>Total</th>\n",
              "      <th>Percent</th>\n",
              "    </tr>\n",
              "  </thead>\n",
              "  <tbody>\n",
              "    <tr>\n",
              "      <th>Continent</th>\n",
              "      <td>0</td>\n",
              "      <td>0.0</td>\n",
              "    </tr>\n",
              "    <tr>\n",
              "      <th>World_Rank</th>\n",
              "      <td>0</td>\n",
              "      <td>0.0</td>\n",
              "    </tr>\n",
              "    <tr>\n",
              "      <th>Average_Score</th>\n",
              "      <td>0</td>\n",
              "      <td>0.0</td>\n",
              "    </tr>\n",
              "    <tr>\n",
              "      <th>Country</th>\n",
              "      <td>0</td>\n",
              "      <td>0.0</td>\n",
              "    </tr>\n",
              "    <tr>\n",
              "      <th>Employer Reputation</th>\n",
              "      <td>0</td>\n",
              "      <td>0.0</td>\n",
              "    </tr>\n",
              "    <tr>\n",
              "      <th>Academic Reputation</th>\n",
              "      <td>0</td>\n",
              "      <td>0.0</td>\n",
              "    </tr>\n",
              "    <tr>\n",
              "      <th>Citations per Faculty</th>\n",
              "      <td>0</td>\n",
              "      <td>0.0</td>\n",
              "    </tr>\n",
              "    <tr>\n",
              "      <th>Faculty Student Ratio</th>\n",
              "      <td>0</td>\n",
              "      <td>0.0</td>\n",
              "    </tr>\n",
              "    <tr>\n",
              "      <th>International Faculty Ratio</th>\n",
              "      <td>0</td>\n",
              "      <td>0.0</td>\n",
              "    </tr>\n",
              "    <tr>\n",
              "      <th>International Students Ratio</th>\n",
              "      <td>0</td>\n",
              "      <td>0.0</td>\n",
              "    </tr>\n",
              "    <tr>\n",
              "      <th>International Outlook</th>\n",
              "      <td>0</td>\n",
              "      <td>0.0</td>\n",
              "    </tr>\n",
              "    <tr>\n",
              "      <th>Industry Income</th>\n",
              "      <td>0</td>\n",
              "      <td>0.0</td>\n",
              "    </tr>\n",
              "    <tr>\n",
              "      <th>Citations</th>\n",
              "      <td>0</td>\n",
              "      <td>0.0</td>\n",
              "    </tr>\n",
              "    <tr>\n",
              "      <th>Research</th>\n",
              "      <td>0</td>\n",
              "      <td>0.0</td>\n",
              "    </tr>\n",
              "    <tr>\n",
              "      <th>Teaching</th>\n",
              "      <td>0</td>\n",
              "      <td>0.0</td>\n",
              "    </tr>\n",
              "    <tr>\n",
              "      <th>University</th>\n",
              "      <td>0</td>\n",
              "      <td>0.0</td>\n",
              "    </tr>\n",
              "  </tbody>\n",
              "</table>\n",
              "</div>"
            ],
            "text/plain": [
              "                              Total  Percent\n",
              "Continent                         0      0.0\n",
              "World_Rank                        0      0.0\n",
              "Average_Score                     0      0.0\n",
              "Country                           0      0.0\n",
              "Employer Reputation               0      0.0\n",
              "Academic Reputation               0      0.0\n",
              "Citations per Faculty             0      0.0\n",
              "Faculty Student Ratio             0      0.0\n",
              "International Faculty Ratio       0      0.0\n",
              "International Students Ratio      0      0.0\n",
              "International Outlook             0      0.0\n",
              "Industry Income                   0      0.0\n",
              "Citations                         0      0.0\n",
              "Research                          0      0.0\n",
              "Teaching                          0      0.0\n",
              "University                        0      0.0"
            ]
          },
          "execution_count": 195,
          "metadata": {},
          "output_type": "execute_result"
        }
      ]
    },
    {
      "cell_type": "code",
      "metadata": {
        "id": "HWevJfFaWfit"
      },
      "source": [
        "df_join_sorted = df_join_sorted.reset_index()\n",
        "df_join_sorted = df_join_sorted.drop(columns = \"index\")\n",
        "\n",
        "df1 = df_join_sorted.groupby('Continent')\n",
        "df2 = df_join_sorted.groupby('Country')\n",
        "\n",
        "df_join_sorted[\"Continent_Rank\"] = df_join_sorted[\"University\"]\n",
        "df_join_sorted[\"National_Rank\"] = df_join_sorted[\"University\"]\n",
        "\n",
        "for x in df_join_sorted.Continent.unique() :\n",
        "  df_temp = df1.get_group(x)\n",
        "  df_temp = df_temp.reset_index()\n",
        "  df_temp[\"Continent_rank\"] = df_temp.index + 1\n",
        "  temp_dict = pd.Series(df_temp.Continent_rank.values,index=df_temp.University).to_dict()\n",
        "  df_join_sorted[\"Continent_Rank\"] = df_join_sorted[\"Continent_Rank\"].replace(temp_dict)\n",
        "\n",
        "for x in df_join_sorted.Country.unique() :\n",
        "  df_temp = df2.get_group(x)\n",
        "  df_temp = df_temp.reset_index()\n",
        "  df_temp[\"Continent_rank\"] = df_temp.index + 1\n",
        "  temp_dict = pd.Series(df_temp.Continent_rank.values,index=df_temp.University).to_dict()\n",
        "  df_join_sorted[\"National_Rank\"] = df_join_sorted[\"National_Rank\"].replace(temp_dict)"
      ],
      "execution_count": null,
      "outputs": []
    },
    {
      "cell_type": "code",
      "metadata": {
        "id": "2akBr1HtWfiu",
        "outputId": "fa5430bc-30a3-4261-8f21-abcf39642047"
      },
      "source": [
        "n1 = df_THE.shape[0]\n",
        "n2 = df_qsworld.shape[0]\n",
        "x=[\"THE\", \"QS World\"]\n",
        "y = [n1,n2]\n",
        "\n",
        "plt.pie(y, labels = x, autopct='%.0f%%')\n",
        "plt.title(\"Banyaknya Universitas Setiap Data Set\")\n",
        "plt.show()"
      ],
      "execution_count": null,
      "outputs": [
        {
          "data": {
            "image/png": "[encoded data removed]",
            "text/plain": [
              "<Figure size 432x288 with 1 Axes>"
            ]
          },
          "metadata": {},
          "output_type": "display_data"
        }
      ]
    },
    {
      "cell_type": "code",
      "metadata": {
        "id": "Y1e8qBUKWfiu",
        "outputId": "39314b64-7fd3-40e1-b401-52464253cc4f"
      },
      "source": [
        "sns.countplot(y ='Country', data = df_join_sorted,order = df_join_sorted[\"Country\"].value_counts().iloc[:10].index)\n",
        "\n",
        "plt.title(\"Top 10 Negara dengan Jumlah Universitas yang Masuk Ranking\")\n",
        "# Show the plot\n",
        "plt.show()"
      ],
      "execution_count": null,
      "outputs": [
        {
          "data": {
            "image/png": "[encoded data removed]",
            "text/plain": [
              "<Figure size 432x288 with 1 Axes>"
            ]
          },
          "metadata": {
            "needs_background": "light"
          },
          "output_type": "display_data"
        }
      ]
    },
    {
      "cell_type": "code",
      "metadata": {
        "id": "kK18lOZoWfiu",
        "outputId": "f25054b0-a0c3-4726-bc14-bffa42e96ead"
      },
      "source": [
        "sns.barplot(x=df_join_sorted[\"Average_Score\"].iloc[:10],y =df_join_sorted['University'].iloc[:10])\n",
        "\n",
        "plt.title(\"Top 10 Universitas Terbaik di Dunia\")\n",
        "# Show the plot\n",
        "plt.show()"
      ],
      "execution_count": null,
      "outputs": [
        {
          "data": {
            "image/png": "[encoded data removed]",
            "text/plain": [
              "<Figure size 432x288 with 1 Axes>"
            ]
          },
          "metadata": {
            "needs_background": "light"
          },
          "output_type": "display_data"
        }
      ]
    },
    {
      "cell_type": "code",
      "metadata": {
        "id": "HGDAwsw-Wfiu",
        "outputId": "74522f09-6c7f-434d-fc36-eb703c0406af"
      },
      "source": [
        "df_asia = df_join_sorted[df_join_sorted.Continent==\"Asia\"].sort_values(\"Average_Score\",ascending=False)\n",
        "\n",
        "sns.barplot(x=df_asia[\"Average_Score\"].iloc[:10],y =df_asia['University'].iloc[:10])\n",
        "\n",
        "plt.title(\"Top 10 Universitas Terbaik di Asia\")\n",
        "# Show the plot\n",
        "plt.show()"
      ],
      "execution_count": null,
      "outputs": [
        {
          "data": {
            "image/png": "[encoded data removed]",
            "text/plain": [
              "<Figure size 432x288 with 1 Axes>"
            ]
          },
          "metadata": {
            "needs_background": "light"
          },
          "output_type": "display_data"
        }
      ]
    },
    {
      "cell_type": "code",
      "metadata": {
        "id": "2b97L2PiWfiu",
        "outputId": "780bf3c9-d006-43d4-90fe-608cf32b463d"
      },
      "source": [
        "df_indonesia = df_join_sorted[df_join_sorted.Country==\"Indonesia\"].sort_values(\"Average_Score\",ascending=False)\n",
        "sns.barplot(x=df_indonesia[\"Average_Score\"].iloc[:10],y =df_indonesia['University'].iloc[:10])\n",
        "\n",
        "plt.title(\"Top 10 Universitas Terbaik di Indonesia\")\n",
        "# Show the plot\n",
        "plt.show()"
      ],
      "execution_count": null,
      "outputs": [
        {
          "data": {
            "image/png": "[encoded data removed]",
            "text/plain": [
              "<Figure size 432x288 with 1 Axes>"
            ]
          },
          "metadata": {
            "needs_background": "light"
          },
          "output_type": "display_data"
        }
      ]
    },
    {
      "cell_type": "code",
      "metadata": {
        "id": "WIIJdDCFWfiv",
        "outputId": "3f598539-a3f0-41f0-c1d1-94e5f47ce829"
      },
      "source": [
        "df_continent_score = df_join_sorted.groupby(\"Continent\")[\"Average_Score\"].mean()\n",
        "df_continent_score = df_continent_score.reset_index()\n",
        "df_continent_score = df_continent_score.sort_values(\"Average_Score\", ascending=False)\n",
        "\n",
        "sns.barplot(x=df_continent_score[\"Average_Score\"],y = df_continent_score['Continent'])\n",
        "\n",
        "\n",
        "plt.title(\"Score Rata-rata Terbaik Menurut Benua\")\n",
        "# Show the plot\n",
        "plt.show()"
      ],
      "execution_count": null,
      "outputs": [
        {
          "data": {
            "image/png": "[encoded data removed]",
            "text/plain": [
              "<Figure size 432x288 with 1 Axes>"
            ]
          },
          "metadata": {
            "needs_background": "light"
          },
          "output_type": "display_data"
        }
      ]
    },
    {
      "cell_type": "code",
      "metadata": {
        "id": "Lppj_HBaWfiv",
        "outputId": "feb83fe1-bdb8-4081-9dba-8ed6be165386"
      },
      "source": [
        "df_country_score = df_join_sorted.groupby(\"Country\")[\"Average_Score\"].mean()\n",
        "df_country_score = df_country_score.reset_index()\n",
        "df_country_score = df_country_score.sort_values(\"Average_Score\", ascending=False)\n",
        "\n",
        "sns.barplot(x=df_country_score[\"Average_Score\"].iloc[:10],y =df_country_score['Country'].iloc[:10])\n",
        "\n",
        "\n",
        "plt.title(\"Top 10 Negara dengan Score Rata-rata Terbaik\")\n",
        "# Show the plot\n",
        "plt.show()"
      ],
      "execution_count": null,
      "outputs": [
        {
          "data": {
            "image/png": "[encoded data removed]",
            "text/plain": [
              "<Figure size 432x288 with 1 Axes>"
            ]
          },
          "metadata": {
            "needs_background": "light"
          },
          "output_type": "display_data"
        }
      ]
    },
    {
      "cell_type": "code",
      "metadata": {
        "id": "plbp3SQVWfiv"
      },
      "source": [
        "country_iso=[]\n",
        "for x in df_country_score.Country :\n",
        "  try:\n",
        "    country_code = pc.country_name_to_country_alpha3(x, cn_name_format=\"default\")\n",
        "    country_iso.append(country_code)\n",
        "  except :\n",
        "    continue\n",
        "df_country_score[\"Country_code\"] = np.array(country_iso)"
      ],
      "execution_count": null,
      "outputs": []
    },
    {
      "cell_type": "code",
      "metadata": {
        "id": "FuXdx4jqWfiw",
        "outputId": "411557fd-c9ea-43b7-8aad-4337c7eb276d"
      },
      "source": [
        "import plotly.express as px\n",
        "\n",
        "fig = px.choropleth(df_country_score, locations=\"Country_code\",\n",
        "                    color=\"Average_Score\", # lifeExp is a column of gapminder\n",
        "                    hover_name=\"Country\", # column to add to hover information\n",
        "                    color_continuous_scale=px.colors.sequential.Plasma,\n",
        "                    title='Average Score Berdasarkan Letak Negara')\n",
        "\n",
        "fig.show()"
      ],
      "execution_count": null,
      "outputs": [
        {
          "data": {
            "application/vnd.plotly.v1+json": {
              "config": {
                "plotlyServerURL": "https://plot.ly"
              },
              "data": [
                {
                  "coloraxis": "coloraxis",
                  "geo": "geo",
                  "hovertemplate": "<b>%{hovertext}</b><br><br>Country_code=%{location}<br>Average_Score=%{z}<extra></extra>",
                  "hovertext": [
                    "Singapore",
                    "Hong Kong",
                    "United Arab Emirates",
                    "Switzerland",
                    "Bahrain",
                    "Netherlands",
                    "Luxembourg",
                    "Australia",
                    "Qatar",
                    "Macao",
                    "Denmark",
                    "Uganda",
                    "United Kingdom",
                    "Sweden",
                    "New Zealand",
                    "Saudi Arabia",
                    "Austria",
                    "Belgium",
                    "Kuwait",
                    "Ireland",
                    "Brunei Darussalam",
                    "Iceland",
                    "Cuba",
                    "Canada",
                    "Lebanon",
                    "Germany",
                    "United States",
                    "Norway",
                    "Israel",
                    "France",
                    "Cyprus",
                    "Latvia",
                    "Jamaica",
                    "Finland",
                    "South Korea",
                    "Bulgaria",
                    "Italy",
                    "Brunei",
                    "China",
                    "Oman",
                    "Northern Cyprus",
                    "Russia",
                    "Malaysia",
                    "South Africa",
                    "Estonia",
                    "Malta",
                    "Hungary",
                    "Jordan",
                    "Kenya",
                    "Sri Lanka",
                    "Portugal",
                    "Kazakhstan",
                    "Greece",
                    "Spain",
                    "Slovenia",
                    "Ghana",
                    "Russian Federation",
                    "Nigeria",
                    "Taiwan",
                    "Vietnam",
                    "Colombia",
                    "Ukraine",
                    "Philippines",
                    "Costa Rica",
                    "Czech Republic",
                    "Croatia",
                    "Iran",
                    "Nepal",
                    "Botswana",
                    "Chile",
                    "Japan",
                    "Serbia",
                    "Paraguay",
                    "Peru",
                    "Egypt",
                    "Venezuela",
                    "India",
                    "Slovakia",
                    "Lithuania",
                    "Pakistan",
                    "Poland",
                    "Bangladesh",
                    "Tunisia",
                    "Uruguay",
                    "Thailand",
                    "Algeria",
                    "Indonesia",
                    "Argentina",
                    "Turkey",
                    "Mexico",
                    "Montenegro",
                    "Brazil",
                    "Georgia",
                    "Iraq",
                    "Morocco",
                    "Belarus",
                    "Ecuador",
                    "Romania",
                    "Puerto Rico",
                    "Panama",
                    "Azerbaijan",
                    "Bosnia and Herzegovina",
                    "Bolivia",
                    "Syrian Arab Republic"
                  ],
                  "locations": [
                    "SGP",
                    "HKG",
                    "ARE",
                    "CHE",
                    "BHR",
                    "NLD",
                    "LUX",
                    "AUS",
                    "QAT",
                    "MAC",
                    "DNK",
                    "UGA",
                    "GBR",
                    "SWE",
                    "NZL",
                    "SAU",
                    "AUT",
                    "BEL",
                    "KWT",
                    "IRL",
                    "BRN",
                    "ISL",
                    "CUB",
                    "CAN",
                    "LBN",
                    "DEU",
                    "USA",
                    "NOR",
                    "ISR",
                    "FRA",
                    "CYP",
                    "LVA",
                    "JAM",
                    "FIN",
                    "KOR",
                    "BGR",
                    "ITA",
                    "BRN",
                    "CHN",
                    "OMN",
                    "CYP",
                    "RUS",
                    "MYS",
                    "ZAF",
                    "EST",
                    "MLT",
                    "HUN",
                    "JOR",
                    "KEN",
                    "LKA",
                    "PRT",
                    "KAZ",
                    "GRC",
                    "ESP",
                    "SVN",
                    "GHA",
                    "RUS",
                    "NGA",
                    "TWN",
                    "VNM",
                    "COL",
                    "UKR",
                    "PHL",
                    "CRI",
                    "CZE",
                    "HRV",
                    "IRN",
                    "NPL",
                    "BWA",
                    "CHL",
                    "JPN",
                    "SRB",
                    "PRY",
                    "PER",
                    "EGY",
                    "VEN",
                    "IND",
                    "SVK",
                    "LTU",
                    "PAK",
                    "POL",
                    "BGD",
                    "TUN",
                    "URY",
                    "THA",
                    "DZA",
                    "IDN",
                    "ARG",
                    "TUR",
                    "MEX",
                    "MNE",
                    "BRA",
                    "GEO",
                    "IRQ",
                    "MAR",
                    "BLR",
                    "ECU",
                    "ROU",
                    "PRI",
                    "PAN",
                    "AZE",
                    "BIH",
                    "BOL",
                    "SYR"
                  ],
                  "name": "",
                  "type": "choropleth",
                  "z": [
                    73.67424242424242,
                    68.58787878787878,
                    64.04930735930736,
                    62.401103896103905,
                    60.258333333333326,
                    59.49906926406926,
                    57.74000000000001,
                    56.824360242030686,
                    55.26363636363636,
                    55.04,
                    54.46329004329004,
                    53.279999999999994,
                    52.98418306716627,
                    52.49045454545453,
                    52.41848484848485,
                    52.03996598639454,
                    51.37187611408199,
                    51.22563131313132,
                    50.20476190476191,
                    49.9132054309327,
                    49.22727272727272,
                    49.11,
                    48.717777777777776,
                    48.60689546985001,
                    47.22659371492704,
                    46.83892721330957,
                    43.56291152824765,
                    42.364128787878784,
                    42.04073232323233,
                    42.015279556124625,
                    41.94121212121212,
                    40.433888888888895,
                    40.14,
                    39.76617079889808,
                    39.0866957026713,
                    38.94,
                    38.41652417027419,
                    37.8,
                    37.37573513787801,
                    37.01818181818182,
                    36.160000000000004,
                    36.14166666666667,
                    35.861622925685424,
                    35.7750658970659,
                    35.00037878787879,
                    34.771428571428565,
                    34.54801948051948,
                    34.214375000000004,
                    34.08,
                    34.03,
                    34.02423160173161,
                    33.723262213976504,
                    33.09884523809524,
                    32.93175263703433,
                    31.714285714285715,
                    31.5,
                    31.341973304473303,
                    30.91333333333333,
                    30.888700937950937,
                    30.887999999999998,
                    30.321532091097314,
                    30.15730158730159,
                    30.08116883116883,
                    29.985833333333336,
                    29.833686327561328,
                    29.78,
                    29.722640232108322,
                    29.72,
                    28.02,
                    28.01784511784512,
                    28.00164576164575,
                    27.979999999999997,
                    27.9,
                    27.87541666666667,
                    27.84551587301587,
                    27.419999999999998,
                    27.14342432786511,
                    27.115306122448978,
                    26.81742424242424,
                    26.27695011337868,
                    25.176032196969697,
                    24.891666666666666,
                    24.77,
                    24.712500000000002,
                    24.634575074048758,
                    24.564,
                    23.92354640151515,
                    23.837847222222223,
                    23.817754545454545,
                    23.58946778711484,
                    22.96,
                    22.758088235294117,
                    21.98,
                    21.817222222222224,
                    21.143333333333334,
                    19.83787878787879,
                    17.85,
                    17.34705882352941,
                    15.110000000000003,
                    12.8,
                    12.15,
                    0,
                    0,
                    0
                  ]
                }
              ],
              "layout": {
                "coloraxis": {
                  "colorbar": {
                    "title": {
                      "text": "Average_Score"
                    }
                  },
                  "colorscale": [
                    [
                      0,
                      "#0d0887"
                    ],
                    [
                      0.1111111111111111,
                      "#46039f"
                    ],
                    [
                      0.2222222222222222,
                      "#7201a8"
                    ],
                    [
                      0.3333333333333333,
                      "#9c179e"
                    ],
                    [
                      0.4444444444444444,
                      "#bd3786"
                    ],
                    [
                      0.5555555555555556,
                      "#d8576b"
                    ],
                    [
                      0.6666666666666666,
                      "#ed7953"
                    ],
                    [
                      0.7777777777777778,
                      "#fb9f3a"
                    ],
                    [
                      0.8888888888888888,
                      "#fdca26"
                    ],
                    [
                      1,
                      "#f0f921"
                    ]
                  ]
                },
                "geo": {
                  "center": {},
                  "domain": {
                    "x": [
                      0,
                      1
                    ],
                    "y": [
                      0,
                      1
                    ]
                  }
                },
                "legend": {
                  "tracegroupgap": 0
                },
                "template": {
                  "data": {
                    "bar": [
                      {
                        "error_x": {
                          "color": "#2a3f5f"
                        },
                        "error_y": {
                          "color": "#2a3f5f"
                        },
                        "marker": {
                          "line": {
                            "color": "#E5ECF6",
                            "width": 0.5
                          },
                          "pattern": {
                            "fillmode": "overlay",
                            "size": 10,
                            "solidity": 0.2
                          }
                        },
                        "type": "bar"
                      }
                    ],
                    "barpolar": [
                      {
                        "marker": {
                          "line": {
                            "color": "#E5ECF6",
                            "width": 0.5
                          },
                          "pattern": {
                            "fillmode": "overlay",
                            "size": 10,
                            "solidity": 0.2
                          }
                        },
                        "type": "barpolar"
                      }
                    ],
                    "carpet": [
                      {
                        "aaxis": {
                          "endlinecolor": "#2a3f5f",
                          "gridcolor": "white",
                          "linecolor": "white",
                          "minorgridcolor": "white",
                          "startlinecolor": "#2a3f5f"
                        },
                        "baxis": {
                          "endlinecolor": "#2a3f5f",
                          "gridcolor": "white",
                          "linecolor": "white",
                          "minorgridcolor": "white",
                          "startlinecolor": "#2a3f5f"
                        },
                        "type": "carpet"
                      }
                    ],
                    "choropleth": [
                      {
                        "colorbar": {
                          "outlinewidth": 0,
                          "ticks": ""
                        },
                        "type": "choropleth"
                      }
                    ],
                    "contour": [
                      {
                        "colorbar": {
                          "outlinewidth": 0,
                          "ticks": ""
                        },
                        "colorscale": [
                          [
                            0,
                            "#0d0887"
                          ],
                          [
                            0.1111111111111111,
                            "#46039f"
                          ],
                          [
                            0.2222222222222222,
                            "#7201a8"
                          ],
                          [
                            0.3333333333333333,
                            "#9c179e"
                          ],
                          [
                            0.4444444444444444,
                            "#bd3786"
                          ],
                          [
                            0.5555555555555556,
                            "#d8576b"
                          ],
                          [
                            0.6666666666666666,
                            "#ed7953"
                          ],
                          [
                            0.7777777777777778,
                            "#fb9f3a"
                          ],
                          [
                            0.8888888888888888,
                            "#fdca26"
                          ],
                          [
                            1,
                            "#f0f921"
                          ]
                        ],
                        "type": "contour"
                      }
                    ],
                    "contourcarpet": [
                      {
                        "colorbar": {
                          "outlinewidth": 0,
                          "ticks": ""
                        },
                        "type": "contourcarpet"
                      }
                    ],
                    "heatmap": [
                      {
                        "colorbar": {
                          "outlinewidth": 0,
                          "ticks": ""
                        },
                        "colorscale": [
                          [
                            0,
                            "#0d0887"
                          ],
                          [
                            0.1111111111111111,
                            "#46039f"
                          ],
                          [
                            0.2222222222222222,
                            "#7201a8"
                          ],
                          [
                            0.3333333333333333,
                            "#9c179e"
                          ],
                          [
                            0.4444444444444444,
                            "#bd3786"
                          ],
                          [
                            0.5555555555555556,
                            "#d8576b"
                          ],
                          [
                            0.6666666666666666,
                            "#ed7953"
                          ],
                          [
                            0.7777777777777778,
                            "#fb9f3a"
                          ],
                          [
                            0.8888888888888888,
                            "#fdca26"
                          ],
                          [
                            1,
                            "#f0f921"
                          ]
                        ],
                        "type": "heatmap"
                      }
                    ],
                    "heatmapgl": [
                      {
                        "colorbar": {
                          "outlinewidth": 0,
                          "ticks": ""
                        },
                        "colorscale": [
                          [
                            0,
                            "#0d0887"
                          ],
                          [
                            0.1111111111111111,
                            "#46039f"
                          ],
                          [
                            0.2222222222222222,
                            "#7201a8"
                          ],
                          [
                            0.3333333333333333,
                            "#9c179e"
                          ],
                          [
                            0.4444444444444444,
                            "#bd3786"
                          ],
                          [
                            0.5555555555555556,
                            "#d8576b"
                          ],
                          [
                            0.6666666666666666,
                            "#ed7953"
                          ],
                          [
                            0.7777777777777778,
                            "#fb9f3a"
                          ],
                          [
                            0.8888888888888888,
                            "#fdca26"
                          ],
                          [
                            1,
                            "#f0f921"
                          ]
                        ],
                        "type": "heatmapgl"
                      }
                    ],
                    "histogram": [
                      {
                        "marker": {
                          "pattern": {
                            "fillmode": "overlay",
                            "size": 10,
                            "solidity": 0.2
                          }
                        },
                        "type": "histogram"
                      }
                    ],
                    "histogram2d": [
                      {
                        "colorbar": {
                          "outlinewidth": 0,
                          "ticks": ""
                        },
                        "colorscale": [
                          [
                            0,
                            "#0d0887"
                          ],
                          [
                            0.1111111111111111,
                            "#46039f"
                          ],
                          [
                            0.2222222222222222,
                            "#7201a8"
                          ],
                          [
                            0.3333333333333333,
                            "#9c179e"
                          ],
                          [
                            0.4444444444444444,
                            "#bd3786"
                          ],
                          [
                            0.5555555555555556,
                            "#d8576b"
                          ],
                          [
                            0.6666666666666666,
                            "#ed7953"
                          ],
                          [
                            0.7777777777777778,
                            "#fb9f3a"
                          ],
                          [
                            0.8888888888888888,
                            "#fdca26"
                          ],
                          [
                            1,
                            "#f0f921"
                          ]
                        ],
                        "type": "histogram2d"
                      }
                    ],
                    "histogram2dcontour": [
                      {
                        "colorbar": {
                          "outlinewidth": 0,
                          "ticks": ""
                        },
                        "colorscale": [
                          [
                            0,
                            "#0d0887"
                          ],
                          [
                            0.1111111111111111,
                            "#46039f"
                          ],
                          [
                            0.2222222222222222,
                            "#7201a8"
                          ],
                          [
                            0.3333333333333333,
                            "#9c179e"
                          ],
                          [
                            0.4444444444444444,
                            "#bd3786"
                          ],
                          [
                            0.5555555555555556,
                            "#d8576b"
                          ],
                          [
                            0.6666666666666666,
                            "#ed7953"
                          ],
                          [
                            0.7777777777777778,
                            "#fb9f3a"
                          ],
                          [
                            0.8888888888888888,
                            "#fdca26"
                          ],
                          [
                            1,
                            "#f0f921"
                          ]
                        ],
                        "type": "histogram2dcontour"
                      }
                    ],
                    "mesh3d": [
                      {
                        "colorbar": {
                          "outlinewidth": 0,
                          "ticks": ""
                        },
                        "type": "mesh3d"
                      }
                    ],
                    "parcoords": [
                      {
                        "line": {
                          "colorbar": {
                            "outlinewidth": 0,
                            "ticks": ""
                          }
                        },
                        "type": "parcoords"
                      }
                    ],
                    "pie": [
                      {
                        "automargin": true,
                        "type": "pie"
                      }
                    ],
                    "scatter": [
                      {
                        "marker": {
                          "colorbar": {
                            "outlinewidth": 0,
                            "ticks": ""
                          }
                        },
                        "type": "scatter"
                      }
                    ],
                    "scatter3d": [
                      {
                        "line": {
                          "colorbar": {
                            "outlinewidth": 0,
                            "ticks": ""
                          }
                        },
                        "marker": {
                          "colorbar": {
                            "outlinewidth": 0,
                            "ticks": ""
                          }
                        },
                        "type": "scatter3d"
                      }
                    ],
                    "scattercarpet": [
                      {
                        "marker": {
                          "colorbar": {
                            "outlinewidth": 0,
                            "ticks": ""
                          }
                        },
                        "type": "scattercarpet"
                      }
                    ],
                    "scattergeo": [
                      {
                        "marker": {
                          "colorbar": {
                            "outlinewidth": 0,
                            "ticks": ""
                          }
                        },
                        "type": "scattergeo"
                      }
                    ],
                    "scattergl": [
                      {
                        "marker": {
                          "colorbar": {
                            "outlinewidth": 0,
                            "ticks": ""
                          }
                        },
                        "type": "scattergl"
                      }
                    ],
                    "scattermapbox": [
                      {
                        "marker": {
                          "colorbar": {
                            "outlinewidth": 0,
                            "ticks": ""
                          }
                        },
                        "type": "scattermapbox"
                      }
                    ],
                    "scatterpolar": [
                      {
                        "marker": {
                          "colorbar": {
                            "outlinewidth": 0,
                            "ticks": ""
                          }
                        },
                        "type": "scatterpolar"
                      }
                    ],
                    "scatterpolargl": [
                      {
                        "marker": {
                          "colorbar": {
                            "outlinewidth": 0,
                            "ticks": ""
                          }
                        },
                        "type": "scatterpolargl"
                      }
                    ],
                    "scatterternary": [
                      {
                        "marker": {
                          "colorbar": {
                            "outlinewidth": 0,
                            "ticks": ""
                          }
                        },
                        "type": "scatterternary"
                      }
                    ],
                    "surface": [
                      {
                        "colorbar": {
                          "outlinewidth": 0,
                          "ticks": ""
                        },
                        "colorscale": [
                          [
                            0,
                            "#0d0887"
                          ],
                          [
                            0.1111111111111111,
                            "#46039f"
                          ],
                          [
                            0.2222222222222222,
                            "#7201a8"
                          ],
                          [
                            0.3333333333333333,
                            "#9c179e"
                          ],
                          [
                            0.4444444444444444,
                            "#bd3786"
                          ],
                          [
                            0.5555555555555556,
                            "#d8576b"
                          ],
                          [
                            0.6666666666666666,
                            "#ed7953"
                          ],
                          [
                            0.7777777777777778,
                            "#fb9f3a"
                          ],
                          [
                            0.8888888888888888,
                            "#fdca26"
                          ],
                          [
                            1,
                            "#f0f921"
                          ]
                        ],
                        "type": "surface"
                      }
                    ],
                    "table": [
                      {
                        "cells": {
                          "fill": {
                            "color": "#EBF0F8"
                          },
                          "line": {
                            "color": "white"
                          }
                        },
                        "header": {
                          "fill": {
                            "color": "#C8D4E3"
                          },
                          "line": {
                            "color": "white"
                          }
                        },
                        "type": "table"
                      }
                    ]
                  },
                  "layout": {
                    "annotationdefaults": {
                      "arrowcolor": "#2a3f5f",
                      "arrowhead": 0,
                      "arrowwidth": 1
                    },
                    "autotypenumbers": "strict",
                    "coloraxis": {
                      "colorbar": {
                        "outlinewidth": 0,
                        "ticks": ""
                      }
                    },
                    "colorscale": {
                      "diverging": [
                        [
                          0,
                          "#8e0152"
                        ],
                        [
                          0.1,
                          "#c51b7d"
                        ],
                        [
                          0.2,
                          "#de77ae"
                        ],
                        [
                          0.3,
                          "#f1b6da"
                        ],
                        [
                          0.4,
                          "#fde0ef"
                        ],
                        [
                          0.5,
                          "#f7f7f7"
                        ],
                        [
                          0.6,
                          "#e6f5d0"
                        ],
                        [
                          0.7,
                          "#b8e186"
                        ],
                        [
                          0.8,
                          "#7fbc41"
                        ],
                        [
                          0.9,
                          "#4d9221"
                        ],
                        [
                          1,
                          "#276419"
                        ]
                      ],
                      "sequential": [
                        [
                          0,
                          "#0d0887"
                        ],
                        [
                          0.1111111111111111,
                          "#46039f"
                        ],
                        [
                          0.2222222222222222,
                          "#7201a8"
                        ],
                        [
                          0.3333333333333333,
                          "#9c179e"
                        ],
                        [
                          0.4444444444444444,
                          "#bd3786"
                        ],
                        [
                          0.5555555555555556,
                          "#d8576b"
                        ],
                        [
                          0.6666666666666666,
                          "#ed7953"
                        ],
                        [
                          0.7777777777777778,
                          "#fb9f3a"
                        ],
                        [
                          0.8888888888888888,
                          "#fdca26"
                        ],
                        [
                          1,
                          "#f0f921"
                        ]
                      ],
                      "sequentialminus": [
                        [
                          0,
                          "#0d0887"
                        ],
                        [
                          0.1111111111111111,
                          "#46039f"
                        ],
                        [
                          0.2222222222222222,
                          "#7201a8"
                        ],
                        [
                          0.3333333333333333,
                          "#9c179e"
                        ],
                        [
                          0.4444444444444444,
                          "#bd3786"
                        ],
                        [
                          0.5555555555555556,
                          "#d8576b"
                        ],
                        [
                          0.6666666666666666,
                          "#ed7953"
                        ],
                        [
                          0.7777777777777778,
                          "#fb9f3a"
                        ],
                        [
                          0.8888888888888888,
                          "#fdca26"
                        ],
                        [
                          1,
                          "#f0f921"
                        ]
                      ]
                    },
                    "colorway": [
                      "#636efa",
                      "#EF553B",
                      "#00cc96",
                      "#ab63fa",
                      "#FFA15A",
                      "#19d3f3",
                      "#FF6692",
                      "#B6E880",
                      "#FF97FF",
                      "#FECB52"
                    ],
                    "font": {
                      "color": "#2a3f5f"
                    },
                    "geo": {
                      "bgcolor": "white",
                      "lakecolor": "white",
                      "landcolor": "#E5ECF6",
                      "showlakes": true,
                      "showland": true,
                      "subunitcolor": "white"
                    },
                    "hoverlabel": {
                      "align": "left"
                    },
                    "hovermode": "closest",
                    "mapbox": {
                      "style": "light"
                    },
                    "paper_bgcolor": "white",
                    "plot_bgcolor": "#E5ECF6",
                    "polar": {
                      "angularaxis": {
                        "gridcolor": "white",
                        "linecolor": "white",
                        "ticks": ""
                      },
                      "bgcolor": "#E5ECF6",
                      "radialaxis": {
                        "gridcolor": "white",
                        "linecolor": "white",
                        "ticks": ""
                      }
                    },
                    "scene": {
                      "xaxis": {
                        "backgroundcolor": "#E5ECF6",
                        "gridcolor": "white",
                        "gridwidth": 2,
                        "linecolor": "white",
                        "showbackground": true,
                        "ticks": "",
                        "zerolinecolor": "white"
                      },
                      "yaxis": {
                        "backgroundcolor": "#E5ECF6",
                        "gridcolor": "white",
                        "gridwidth": 2,
                        "linecolor": "white",
                        "showbackground": true,
                        "ticks": "",
                        "zerolinecolor": "white"
                      },
                      "zaxis": {
                        "backgroundcolor": "#E5ECF6",
                        "gridcolor": "white",
                        "gridwidth": 2,
                        "linecolor": "white",
                        "showbackground": true,
                        "ticks": "",
                        "zerolinecolor": "white"
                      }
                    },
                    "shapedefaults": {
                      "line": {
                        "color": "#2a3f5f"
                      }
                    },
                    "ternary": {
                      "aaxis": {
                        "gridcolor": "white",
                        "linecolor": "white",
                        "ticks": ""
                      },
                      "baxis": {
                        "gridcolor": "white",
                        "linecolor": "white",
                        "ticks": ""
                      },
                      "bgcolor": "#E5ECF6",
                      "caxis": {
                        "gridcolor": "white",
                        "linecolor": "white",
                        "ticks": ""
                      }
                    },
                    "title": {
                      "x": 0.05
                    },
                    "xaxis": {
                      "automargin": true,
                      "gridcolor": "white",
                      "linecolor": "white",
                      "ticks": "",
                      "title": {
                        "standoff": 15
                      },
                      "zerolinecolor": "white",
                      "zerolinewidth": 2
                    },
                    "yaxis": {
                      "automargin": true,
                      "gridcolor": "white",
                      "linecolor": "white",
                      "ticks": "",
                      "title": {
                        "standoff": 15
                      },
                      "zerolinecolor": "white",
                      "zerolinewidth": 2
                    }
                  }
                },
                "title": {
                  "text": "Average Score Berdasarkan Letak Negara"
                }
              }
            }
          },
          "metadata": {},
          "output_type": "display_data"
        }
      ]
    },
    {
      "cell_type": "code",
      "metadata": {
        "id": "Xe0ksWnPWfiw",
        "outputId": "b6cd18c9-044a-4a6d-92d1-21727db2fddd"
      },
      "source": [
        "column_corr = df_join_sorted.drop(columns=[\"World_Rank\",\"Continent_Rank\",\"National_Rank\"])\n",
        "Corr = pd.DataFrame((abs(column_corr.corr()['Average_Score']).sort_values(ascending = False)))\n",
        "Corr = Corr.reset_index()\n",
        "Corr = Corr.drop(Corr[Corr.Average_Score == 1].index)\n",
        "#Mengubah Nama Kolom\n",
        "Corr = Corr.rename({'Average_Score': 'Correlation_Score'}, axis=1)\n",
        "Corr"
      ],
      "execution_count": null,
      "outputs": [
        {
          "data": {
            "text/html": [
              "<div>\n",
              "<style scoped>\n",
              "    .dataframe tbody tr th:only-of-type {\n",
              "        vertical-align: middle;\n",
              "    }\n",
              "\n",
              "    .dataframe tbody tr th {\n",
              "        vertical-align: top;\n",
              "    }\n",
              "\n",
              "    .dataframe thead th {\n",
              "        text-align: right;\n",
              "    }\n",
              "</style>\n",
              "<table border=\"1\" class=\"dataframe\">\n",
              "  <thead>\n",
              "    <tr style=\"text-align: right;\">\n",
              "      <th></th>\n",
              "      <th>index</th>\n",
              "      <th>Correlation_Score</th>\n",
              "    </tr>\n",
              "  </thead>\n",
              "  <tbody>\n",
              "    <tr>\n",
              "      <th>1</th>\n",
              "      <td>Research</td>\n",
              "      <td>0.606014</td>\n",
              "    </tr>\n",
              "    <tr>\n",
              "      <th>2</th>\n",
              "      <td>International Faculty Ratio</td>\n",
              "      <td>0.565084</td>\n",
              "    </tr>\n",
              "    <tr>\n",
              "      <th>3</th>\n",
              "      <td>International Students Ratio</td>\n",
              "      <td>0.564006</td>\n",
              "    </tr>\n",
              "    <tr>\n",
              "      <th>4</th>\n",
              "      <td>Citations</td>\n",
              "      <td>0.515491</td>\n",
              "    </tr>\n",
              "    <tr>\n",
              "      <th>5</th>\n",
              "      <td>Academic Reputation</td>\n",
              "      <td>0.494720</td>\n",
              "    </tr>\n",
              "    <tr>\n",
              "      <th>6</th>\n",
              "      <td>Employer Reputation</td>\n",
              "      <td>0.490872</td>\n",
              "    </tr>\n",
              "    <tr>\n",
              "      <th>7</th>\n",
              "      <td>Teaching</td>\n",
              "      <td>0.486525</td>\n",
              "    </tr>\n",
              "    <tr>\n",
              "      <th>8</th>\n",
              "      <td>International Outlook</td>\n",
              "      <td>0.484971</td>\n",
              "    </tr>\n",
              "    <tr>\n",
              "      <th>9</th>\n",
              "      <td>Citations per Faculty</td>\n",
              "      <td>0.467391</td>\n",
              "    </tr>\n",
              "    <tr>\n",
              "      <th>10</th>\n",
              "      <td>Faculty Student Ratio</td>\n",
              "      <td>0.380172</td>\n",
              "    </tr>\n",
              "    <tr>\n",
              "      <th>11</th>\n",
              "      <td>Industry Income</td>\n",
              "      <td>0.307588</td>\n",
              "    </tr>\n",
              "  </tbody>\n",
              "</table>\n",
              "</div>"
            ],
            "text/plain": [
              "                           index  Correlation_Score\n",
              "1                       Research           0.606014\n",
              "2    International Faculty Ratio           0.565084\n",
              "3   International Students Ratio           0.564006\n",
              "4                      Citations           0.515491\n",
              "5            Academic Reputation           0.494720\n",
              "6            Employer Reputation           0.490872\n",
              "7                       Teaching           0.486525\n",
              "8          International Outlook           0.484971\n",
              "9          Citations per Faculty           0.467391\n",
              "10         Faculty Student Ratio           0.380172\n",
              "11               Industry Income           0.307588"
            ]
          },
          "execution_count": 206,
          "metadata": {},
          "output_type": "execute_result"
        }
      ]
    },
    {
      "cell_type": "code",
      "metadata": {
        "id": "dEDu8hx6Wfiw",
        "outputId": "a440edb0-ab8b-4608-af34-e61bd931722d"
      },
      "source": [
        "sns.barplot(x=Corr[\"Correlation_Score\"],y = Corr['index'])\n",
        "plt.title(\"Komponen Penting Dalam Penentuan Ranking\")\n",
        "# Show the plot\n",
        "plt.show()\n"
      ],
      "execution_count": null,
      "outputs": [
        {
          "data": {
            "image/png": "[encoded data removed]",
            "text/plain": [
              "<Figure size 432x288 with 1 Axes>"
            ]
          },
          "metadata": {
            "needs_background": "light"
          },
          "output_type": "display_data"
        }
      ]
    },
    {
      "cell_type": "code",
      "metadata": {
        "id": "c40JomdZWfiw",
        "outputId": "49c444f3-4dc6-41df-d836-a3354dabf303"
      },
      "source": [
        "asean = ['Indonesia', 'Malaysia', 'Brunei Darussalam', 'Thailand', 'Philipphines', 'Vietnam', 'Singapore']\n",
        "df_asean = df_join_sorted[df_join_sorted.Country.isin(asean)]\n",
        "\n",
        "df_asean_best = df_asean.sort_values(\"Average_Score\",ascending=False)\n",
        "sns.barplot(x=df_asean_best[\"Average_Score\"].iloc[:10],y = df_asean['University'].iloc[:10])\n",
        "\n",
        "plt.title(\"Top 10 Universitas Terbaik di ASEAN\")\n",
        "# Show the plot\n",
        "plt.show()"
      ],
      "execution_count": null,
      "outputs": [
        {
          "data": {
            "image/png": "[encoded data removed]",
            "text/plain": [
              "<Figure size 432x288 with 1 Axes>"
            ]
          },
          "metadata": {
            "needs_background": "light"
          },
          "output_type": "display_data"
        }
      ]
    },
    {
      "cell_type": "code",
      "metadata": {
        "id": "Zo9Rz23NWfix",
        "outputId": "e8dbc764-36a8-48e5-d1ac-d04d0013991d"
      },
      "source": [
        "sns.distplot(df_join_sorted.Average_Score)\n",
        "plt.title(\"Sebaran Average_Score di dunia\")\n",
        "plt.show()"
      ],
      "execution_count": null,
      "outputs": [
        {
          "data": {
            "image/png": "[encoded data removed]",
            "text/plain": [
              "<Figure size 432x288 with 1 Axes>"
            ]
          },
          "metadata": {
            "needs_background": "light"
          },
          "output_type": "display_data"
        }
      ]
    },
    {
      "cell_type": "code",
      "metadata": {
        "id": "qMpZ1dZAWfix",
        "outputId": "b129afbe-da43-4ce6-e5e9-a3a7d2f69852"
      },
      "source": [
        "sns.distplot(df_join_sorted.Average_Score)\n",
        "plt.title(\"Sebaran Average_Score di dunia\")\n",
        "plt.show()"
      ],
      "execution_count": null,
      "outputs": [
        {
          "data": {
            "image/png": "[encoded data removed]",
            "text/plain": [
              "<Figure size 432x288 with 1 Axes>"
            ]
          },
          "metadata": {
            "needs_background": "light"
          },
          "output_type": "display_data"
        }
      ]
    },
    {
      "cell_type": "code",
      "metadata": {
        "id": "c8pGHpt_Wfix"
      },
      "source": [
        ""
      ],
      "execution_count": null,
      "outputs": []
    }
  ]
}