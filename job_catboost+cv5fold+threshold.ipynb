{
  "nbformat": 4,
  "nbformat_minor": 0,
  "metadata": {
    "colab": {
      "name": "job_catboost+cv5fold+threshold",
      "provenance": [],
      "collapsed_sections": [],
      "authorship_tag": "ABX9TyMso5cLQDFj7gT7SwR1l4Mg",
      "include_colab_link": true
    },
    "kernelspec": {
      "name": "python3",
      "display_name": "Python 3"
    },
    "language_info": {
      "name": "python"
    },
    "accelerator": "GPU"
  },
  "cells": [
    {
      "cell_type": "markdown",
      "metadata": {
        "id": "view-in-github",
        "colab_type": "text"
      },
      "source": [
        "<a href=\"https://colab.research.google.com/github/Daegil2/practice/blob/main/job_catboost%2Bcv5fold%2Bthreshold.ipynb\" target=\"_parent\"><img src=\"https://colab.research.google.com/assets/colab-badge.svg\" alt=\"Open In Colab\"/></a>"
      ]
    },
    {
      "cell_type": "code",
      "execution_count": 1,
      "metadata": {
        "colab": {
          "base_uri": "https://localhost:8080/"
        },
        "id": "YUJoKH7vlpo5",
        "outputId": "b174f255-a8fa-4533-a727-ff7f26f8dd5b"
      },
      "outputs": [
        {
          "output_type": "stream",
          "name": "stdout",
          "text": [
            "Mounted at /content/drive\n"
          ]
        }
      ],
      "source": [
        "from google import colab\n",
        "colab.drive.mount(\"/content/drive\")"
      ]
    },
    {
      "cell_type": "code",
      "source": [
        "!pip install catboost"
      ],
      "metadata": {
        "colab": {
          "base_uri": "https://localhost:8080/"
        },
        "id": "1lVynk3klrm4",
        "outputId": "cbb2f7e0-3dad-4933-84ac-c360b4102acd"
      },
      "execution_count": 2,
      "outputs": [
        {
          "output_type": "stream",
          "name": "stdout",
          "text": [
            "Collecting catboost\n",
            "  Downloading catboost-1.0.3-cp37-none-manylinux1_x86_64.whl (76.3 MB)\n",
            "\u001b[K     |████████████████████████████████| 76.3 MB 63 kB/s \n",
            "\u001b[?25hRequirement already satisfied: scipy in /usr/local/lib/python3.7/dist-packages (from catboost) (1.4.1)\n",
            "Requirement already satisfied: numpy>=1.16.0 in /usr/local/lib/python3.7/dist-packages (from catboost) (1.19.5)\n",
            "Requirement already satisfied: matplotlib in /usr/local/lib/python3.7/dist-packages (from catboost) (3.2.2)\n",
            "Requirement already satisfied: six in /usr/local/lib/python3.7/dist-packages (from catboost) (1.15.0)\n",
            "Requirement already satisfied: graphviz in /usr/local/lib/python3.7/dist-packages (from catboost) (0.10.1)\n",
            "Requirement already satisfied: pandas>=0.24.0 in /usr/local/lib/python3.7/dist-packages (from catboost) (1.1.5)\n",
            "Requirement already satisfied: plotly in /usr/local/lib/python3.7/dist-packages (from catboost) (4.4.1)\n",
            "Requirement already satisfied: pytz>=2017.2 in /usr/local/lib/python3.7/dist-packages (from pandas>=0.24.0->catboost) (2018.9)\n",
            "Requirement already satisfied: python-dateutil>=2.7.3 in /usr/local/lib/python3.7/dist-packages (from pandas>=0.24.0->catboost) (2.8.2)\n",
            "Requirement already satisfied: pyparsing!=2.0.4,!=2.1.2,!=2.1.6,>=2.0.1 in /usr/local/lib/python3.7/dist-packages (from matplotlib->catboost) (3.0.6)\n",
            "Requirement already satisfied: cycler>=0.10 in /usr/local/lib/python3.7/dist-packages (from matplotlib->catboost) (0.11.0)\n",
            "Requirement already satisfied: kiwisolver>=1.0.1 in /usr/local/lib/python3.7/dist-packages (from matplotlib->catboost) (1.3.2)\n",
            "Requirement already satisfied: retrying>=1.3.3 in /usr/local/lib/python3.7/dist-packages (from plotly->catboost) (1.3.3)\n",
            "Installing collected packages: catboost\n",
            "Successfully installed catboost-1.0.3\n"
          ]
        }
      ]
    },
    {
      "cell_type": "code",
      "source": [
        "import os\n",
        "import sys\n",
        "import platform\n",
        "import random\n",
        "import math\n",
        "from typing import List ,Dict, Tuple\n",
        "\n",
        "import pandas as pd\n",
        "import numpy as np\n",
        " \n",
        "import sklearn \n",
        "from sklearn.model_selection import StratifiedKFold , KFold\n",
        "from sklearn.metrics import f1_score \n",
        "\n",
        "from catboost import Pool,CatBoostClassifier"
      ],
      "metadata": {
        "id": "9cNb27WCl3UN"
      },
      "execution_count": 3,
      "outputs": []
    },
    {
      "cell_type": "code",
      "source": [
        "D_PATH ='/content/drive/MyDrive/corab/job/'\n",
        "S_PATH ='/content/drive/MyDrive/corab/job/'\n"
      ],
      "metadata": {
        "id": "UjHb0Ghnl56R"
      },
      "execution_count": 4,
      "outputs": []
    },
    {
      "cell_type": "code",
      "source": [
        "train =pd.read_csv('/content/drive/MyDrive/corab/job/train.csv')\n",
        "test=pd.read_csv('/content/drive/MyDrive/corab/job/test.csv')"
      ],
      "metadata": {
        "id": "AyKgjS9CmTvu"
      },
      "execution_count": 5,
      "outputs": []
    },
    {
      "cell_type": "code",
      "source": [
        "code_d = pd.read_csv(f'{D_PATH}속성_D_코드.csv').iloc[:,:-1]\n",
        "code_h = pd.read_csv(f'{D_PATH}속성_H_코드.csv')\n",
        "code_l = pd.read_csv(f'{D_PATH}속성_L_코드.csv')\n",
        "\n",
        "\n",
        "train.shape,test.shape"
      ],
      "metadata": {
        "colab": {
          "base_uri": "https://localhost:8080/"
        },
        "id": "rPcpj_LDmZyw",
        "outputId": "b0f8bb8e-8e6f-484b-b6b4-ebe1c8ecb4fc"
      },
      "execution_count": 6,
      "outputs": [
        {
          "output_type": "execute_result",
          "data": {
            "text/plain": [
              "((501951, 35), (46404, 34))"
            ]
          },
          "metadata": {},
          "execution_count": 6
        }
      ]
    },
    {
      "cell_type": "code",
      "source": [
        "#속성 코드 데이터 컬럼 변경\n",
        "code_d.columns= [\"attribute_d\",\"attribute_d_d\",\"attribute_d_s\",\"attribute_d_m\",\"attribute_d_l\"]\n",
        "code_h.columns= [\"attribute_h\",\"attribute_h_p\"]\n",
        "code_l.columns= [\"attribute_l\",\"attribute_l_d\",\"attribute_l_s\",\"attribute_l_m\",\"attribute_l_l\"]"
      ],
      "metadata": {
        "id": "OeobvLw6mxCx"
      },
      "execution_count": 7,
      "outputs": []
    },
    {
      "cell_type": "code",
      "source": [
        "#속성 코드 데이터 merge\n",
        "\n",
        "def merge_codes(df:pd.DataFrame, df_code:pd.DataFrame, col:str)->pd.DataFrame:\n",
        "  df =df.copy()\n",
        "  df_code =df_code\n",
        "  df_code= df_code.add_prefix(f'{col}_')\n",
        "  df_code.columns.values[0] =col\n",
        "  return pd.merge(df, df_code, how='left', on=col)"
      ],
      "metadata": {
        "id": "ZaywyqKAnWq_"
      },
      "execution_count": 8,
      "outputs": []
    },
    {
      "cell_type": "code",
      "source": [
        "#데이터 전처리\n",
        "def preprocess_data(\n",
        "                    df:pd.DataFrame,is_train:bool = True, cols_merge:List[Tuple[str,pd.DataFrame]] = []  , cols_equi:List[Tuple[str,str]]= [] ,\n",
        "                    cols_drop:List[str] = [\"id\",\"person_prefer_f\",\"person_prefer_g\" ,\"contents_open_dt\"]\n",
        "                    )->Tuple[pd.DataFrame,np.ndarray]:\n",
        "    df = df.copy()\n",
        "    \n",
        "    y_data=None\n",
        "    if is_train:\n",
        "      y_data=df['target'].to_numpy()\n",
        "      df =df.drop(columns='target')\n",
        "    \n",
        "    for col, df_code in cols_merge:\n",
        "      df =merge_codes(df, df_code, col)\n",
        "    \n",
        "    cols = df.select_dtypes(bool).columns.tolist()\n",
        "    df[cols] =df[cols].astype(int)\n",
        "\n",
        "    for col1, col2 in cols_equi:\n",
        "      df[f'{col}_{col2}']= (df[col1]==df[col2]).astype(int)\n",
        "\n",
        "    df =df.drop(columns =cols_drop)\n",
        "    return (df, y_data)"
      ],
      "metadata": {
        "id": "G4ZAcXTbn2as"
      },
      "execution_count": 9,
      "outputs": []
    },
    {
      "cell_type": "code",
      "source": [
        "#전처리 컬럼명 정의\n",
        "# 소분류 중분류 대분류 속성코드 merge 컬럼명 및 데이터 프레임 리스트\n",
        "cols_merge = [\n",
        "              (\"person_prefer_d_1\" , code_d),\n",
        "              (\"person_prefer_d_2\" , code_d),\n",
        "              (\"person_prefer_d_3\" , code_d),\n",
        "              (\"contents_attribute_d\" , code_d),\n",
        "              (\"person_prefer_h_1\" , code_h),\n",
        "              (\"person_prefer_h_2\" , code_h),\n",
        "              (\"person_prefer_h_3\" , code_h),\n",
        "              (\"contents_attribute_h\" , code_h),\n",
        "              (\"contents_attribute_l\" , code_l),\n",
        "]\n",
        "\n",
        "# 회원 속성과 콘텐츠 속성의 동일한 코드 여부에 대한 컬럼명 리스트\n",
        "cols_equi = [\n",
        "\n",
        "    (\"contents_attribute_c\",\"person_prefer_c\"),\n",
        "    (\"contents_attribute_e\",\"person_prefer_e\"),\n",
        "\n",
        "    (\"person_prefer_d_2_attribute_d_s\" , \"contents_attribute_d_attribute_d_s\"),\n",
        "    (\"person_prefer_d_2_attribute_d_m\" , \"contents_attribute_d_attribute_d_m\"),\n",
        "    (\"person_prefer_d_2_attribute_d_l\" , \"contents_attribute_d_attribute_d_l\"),\n",
        "    (\"person_prefer_d_3_attribute_d_s\" , \"contents_attribute_d_attribute_d_s\"),\n",
        "    (\"person_prefer_d_3_attribute_d_m\" , \"contents_attribute_d_attribute_d_m\"),\n",
        "    (\"person_prefer_d_3_attribute_d_l\" , \"contents_attribute_d_attribute_d_l\"),\n",
        "\n",
        "    (\"person_prefer_h_1_attribute_h_p\" , \"contents_attribute_h_attribute_h_p\"),\n",
        "    (\"person_prefer_h_2_attribute_h_p\" , \"contents_attribute_h_attribute_h_p\"),\n",
        "    (\"person_prefer_h_3_attribute_h_p\" , \"contents_attribute_h_attribute_h_p\"),\n",
        "\n",
        "]\n",
        "\n",
        "# 학습에 필요없는 컬럼 리스트\n",
        "cols_drop = [\"id\",\"person_prefer_f\",\"person_prefer_g\" ,\"contents_open_dt\", \"contents_rn\", ]"
      ],
      "metadata": {
        "id": "ez4NFEdPn6NY"
      },
      "execution_count": 10,
      "outputs": []
    },
    {
      "cell_type": "code",
      "source": [
        "#학습 추론전처리\n",
        "x_train, y_train= preprocess_data(train, cols_merge =cols_merge, cols_equi =cols_equi, cols_drop=cols_drop)\n",
        "x_test, _ =preprocess_data(test,is_train =False, cols_merge=cols_merge, cols_equi=cols_equi, cols_drop=cols_drop)\n",
        "x_train.shape, y_train.shape, x_test.shape"
      ],
      "metadata": {
        "colab": {
          "base_uri": "https://localhost:8080/"
        },
        "id": "W_U3MmMpo8L-",
        "outputId": "81189ddc-cb2f-427a-f823-17f9c276fd5f"
      },
      "execution_count": 11,
      "outputs": [
        {
          "output_type": "execute_result",
          "data": {
            "text/plain": [
              "((501951, 59), (501951,), (46404, 59))"
            ]
          },
          "metadata": {},
          "execution_count": 11
        }
      ]
    },
    {
      "cell_type": "code",
      "source": [
        "#범주형 컬럼 리스트\n",
        "cat_features= x_train.columns[x_train.nunique()>2].tolist()"
      ],
      "metadata": {
        "id": "PPrprYQ1pXVh"
      },
      "execution_count": 12,
      "outputs": []
    },
    {
      "cell_type": "code",
      "source": [
        "#학습 파라미터\n",
        "is_holdout=False\n",
        "n_splits=5\n",
        "iterations=3000\n",
        "patience=50\n",
        "\n",
        "cv=KFold(n_splits=n_splits, shuffle= True, random_state =42)\n"
      ],
      "metadata": {
        "id": "NfcDqy5WqppC"
      },
      "execution_count": 13,
      "outputs": []
    },
    {
      "cell_type": "code",
      "source": [
        "scores=[]\n",
        "models=[]\n",
        "\n",
        "models=[]\n",
        "\n",
        "for tri,vai in cv.split(x_train):\n",
        "  print('='*50)\n",
        "  pred=[]\n",
        "  \n",
        "  model = CatBoostClassifier(iterations=iterations, random_state=42, task_type='GPU', eval_metric='F1', cat_features =cat_features, one_hot_max_size=4)\n",
        "  model.fit(x_train.iloc[tri], y_train[tri],\n",
        "            eval_set=[(x_train.iloc[vai], y_train[vai])],\n",
        "            early_stopping_rounds=patience,\n",
        "            verbose =100\n",
        "            )\n",
        "  models.append(model)\n",
        "  scores.append(model.get_best_score()['validation']['F1'])\n",
        "\n",
        "  if is_holdout:\n",
        "    break"
      ],
      "metadata": {
        "colab": {
          "base_uri": "https://localhost:8080/"
        },
        "id": "P7dJVJU9q-_t",
        "outputId": "4c447bc7-dacd-4913-fb89-b95c33fe5b02"
      },
      "execution_count": 14,
      "outputs": [
        {
          "output_type": "stream",
          "name": "stdout",
          "text": [
            "==================================================\n",
            "Learning rate set to 0.027144\n",
            "0:\tlearn: 0.5887153\ttest: 0.5965150\tbest: 0.5965150 (0)\ttotal: 332ms\tremaining: 16m 36s\n",
            "100:\tlearn: 0.6423237\ttest: 0.6506937\tbest: 0.6507186 (99)\ttotal: 35.1s\tremaining: 16m 47s\n",
            "200:\tlearn: 0.6541098\ttest: 0.6720348\tbest: 0.6720348 (200)\ttotal: 1m 19s\tremaining: 18m 22s\n",
            "300:\tlearn: 0.6589402\ttest: 0.6804977\tbest: 0.6805884 (296)\ttotal: 1m 59s\tremaining: 17m 47s\n",
            "400:\tlearn: 0.6626619\ttest: 0.6829666\tbest: 0.6831206 (397)\ttotal: 2m 40s\tremaining: 17m 17s\n",
            "500:\tlearn: 0.6655673\ttest: 0.6844292\tbest: 0.6846300 (497)\ttotal: 3m 14s\tremaining: 16m 10s\n",
            "bestTest = 0.6846592779\n",
            "bestIteration = 502\n",
            "Shrink model to first 503 iterations.\n",
            "==================================================\n",
            "Learning rate set to 0.027144\n",
            "0:\tlearn: 0.6098259\ttest: 0.6122721\tbest: 0.6122721 (0)\ttotal: 396ms\tremaining: 19m 46s\n",
            "100:\tlearn: 0.6439252\ttest: 0.6566550\tbest: 0.6567002 (99)\ttotal: 34.9s\tremaining: 16m 41s\n",
            "200:\tlearn: 0.6534293\ttest: 0.6718295\tbest: 0.6719345 (198)\ttotal: 1m 6s\tremaining: 15m 28s\n",
            "300:\tlearn: 0.6591129\ttest: 0.6805137\tbest: 0.6806269 (297)\ttotal: 1m 39s\tremaining: 14m 55s\n",
            "400:\tlearn: 0.6625120\ttest: 0.6832212\tbest: 0.6834561 (392)\ttotal: 2m 13s\tremaining: 14m 23s\n",
            "500:\tlearn: 0.6648288\ttest: 0.6849536\tbest: 0.6851091 (497)\ttotal: 2m 46s\tremaining: 13m 50s\n",
            "bestTest = 0.6851090974\n",
            "bestIteration = 497\n",
            "Shrink model to first 498 iterations.\n",
            "==================================================\n",
            "Learning rate set to 0.027144\n",
            "0:\tlearn: 0.6309112\ttest: 0.6349366\tbest: 0.6349366 (0)\ttotal: 334ms\tremaining: 16m 42s\n",
            "100:\tlearn: 0.6447513\ttest: 0.6523899\tbest: 0.6525675 (99)\ttotal: 31.6s\tremaining: 15m 5s\n",
            "200:\tlearn: 0.6551530\ttest: 0.6721307\tbest: 0.6721307 (200)\ttotal: 1m 2s\tremaining: 14m 33s\n",
            "300:\tlearn: 0.6600346\ttest: 0.6783737\tbest: 0.6783737 (300)\ttotal: 1m 33s\tremaining: 13m 55s\n",
            "400:\tlearn: 0.6634689\ttest: 0.6813284\tbest: 0.6813681 (384)\ttotal: 2m 3s\tremaining: 13m 19s\n",
            "500:\tlearn: 0.6667553\ttest: 0.6824161\tbest: 0.6826560 (494)\ttotal: 2m 32s\tremaining: 12m 42s\n",
            "bestTest = 0.682656028\n",
            "bestIteration = 494\n",
            "Shrink model to first 495 iterations.\n",
            "==================================================\n",
            "Learning rate set to 0.027144\n",
            "0:\tlearn: 0.6085400\ttest: 0.6103469\tbest: 0.6103469 (0)\ttotal: 329ms\tremaining: 16m 25s\n",
            "100:\tlearn: 0.6444293\ttest: 0.6502488\tbest: 0.6502574 (99)\ttotal: 31.5s\tremaining: 15m 2s\n",
            "200:\tlearn: 0.6537754\ttest: 0.6660582\tbest: 0.6660645 (199)\ttotal: 1m 3s\tremaining: 14m 38s\n",
            "300:\tlearn: 0.6594034\ttest: 0.6735704\tbest: 0.6736621 (297)\ttotal: 1m 33s\tremaining: 13m 57s\n",
            "400:\tlearn: 0.6630271\ttest: 0.6756673\tbest: 0.6756673 (400)\ttotal: 2m 3s\tremaining: 13m 19s\n",
            "500:\tlearn: 0.6659191\ttest: 0.6774087\tbest: 0.6774804 (493)\ttotal: 2m 32s\tremaining: 12m 39s\n",
            "bestTest = 0.6782765322\n",
            "bestIteration = 528\n",
            "Shrink model to first 529 iterations.\n",
            "==================================================\n",
            "Learning rate set to 0.027144\n",
            "0:\tlearn: 0.6081016\ttest: 0.6109302\tbest: 0.6109302 (0)\ttotal: 265ms\tremaining: 13m 13s\n",
            "100:\tlearn: 0.6456522\ttest: 0.6500163\tbest: 0.6500163 (100)\ttotal: 31.1s\tremaining: 14m 54s\n",
            "200:\tlearn: 0.6558402\ttest: 0.6676172\tbest: 0.6681979 (195)\ttotal: 1m 2s\tremaining: 14m 30s\n",
            "300:\tlearn: 0.6609694\ttest: 0.6742284\tbest: 0.6744640 (298)\ttotal: 1m 32s\tremaining: 13m 48s\n",
            "400:\tlearn: 0.6646059\ttest: 0.6772259\tbest: 0.6772259 (400)\ttotal: 2m 2s\tremaining: 13m 13s\n",
            "500:\tlearn: 0.6672673\ttest: 0.6788892\tbest: 0.6788892 (500)\ttotal: 2m 32s\tremaining: 12m 39s\n",
            "600:\tlearn: 0.6694173\ttest: 0.6802124\tbest: 0.6802947 (598)\ttotal: 3m 1s\tremaining: 12m 2s\n",
            "bestTest = 0.6804861157\n",
            "bestIteration = 607\n",
            "Shrink model to first 608 iterations.\n"
          ]
        }
      ]
    },
    {
      "cell_type": "code",
      "source": [
        "print(scores)\n",
        "print(np.mean(scores))"
      ],
      "metadata": {
        "id": "gM6zwlrtrvs0"
      },
      "execution_count": 14,
      "outputs": []
    },
    {
      "cell_type": "code",
      "source": [
        "threshold= 0.4"
      ],
      "metadata": {
        "id": "1CfdWOuvs3QK"
      },
      "execution_count": 16,
      "outputs": []
    },
    {
      "cell_type": "code",
      "source": [
        "pred_list= []\n",
        "scores=[]\n",
        "\n",
        "for i,(tri, vai) in enumerate(cv.split(x_train)):\n",
        "  pred= models[i].predict_proba(x_train.iloc[vai])[:,1]\n",
        "  pred = np.where(pred >= threshold , 1, 0)\n",
        "  score =f1_score(y_train[vai], pred)\n",
        "  scores.append(score)\n",
        "  pred =models[i].predict_proba(x_test)[:,1]\n",
        "  pred_list.append(pred)\n",
        "\n",
        "print(scores)\n",
        "print(np.mean(scores))\n",
        "\n"
      ],
      "metadata": {
        "colab": {
          "base_uri": "https://localhost:8080/"
        },
        "id": "Qvzl2tDVs5MJ",
        "outputId": "180252b2-c42c-4725-edb5-fa8902897db1"
      },
      "execution_count": 17,
      "outputs": [
        {
          "output_type": "stream",
          "name": "stdout",
          "text": [
            "[0.7114741684188478, 0.7101443448192675, 0.7092062364827788, 0.7087434576216173, 0.7086264950227057]\n",
            "0.7096389404730433\n"
          ]
        }
      ]
    },
    {
      "cell_type": "code",
      "source": [
        "pred =np.mean(pred_list, axis=0)\n",
        "pred= np.where(pred>=threshold, 1,0)\n"
      ],
      "metadata": {
        "id": "EZ5H-GSLtxj2"
      },
      "execution_count": 18,
      "outputs": []
    },
    {
      "cell_type": "code",
      "source": [
        "sample_submission = pd.read_csv(f'{D_PATH}sample_submission.csv')\n",
        "sample_submission['target'] = pred\n",
        "sample_submission"
      ],
      "metadata": {
        "colab": {
          "base_uri": "https://localhost:8080/",
          "height": 423
        },
        "id": "lCfeHJQBxSLW",
        "outputId": "2314337c-eb07-4b98-a4f7-22f0d045f1ce"
      },
      "execution_count": 21,
      "outputs": [
        {
          "output_type": "execute_result",
          "data": {
            "text/html": [
              "\n",
              "  <div id=\"df-485c33ac-850e-4eaa-81a3-b91639f16b82\">\n",
              "    <div class=\"colab-df-container\">\n",
              "      <div>\n",
              "<style scoped>\n",
              "    .dataframe tbody tr th:only-of-type {\n",
              "        vertical-align: middle;\n",
              "    }\n",
              "\n",
              "    .dataframe tbody tr th {\n",
              "        vertical-align: top;\n",
              "    }\n",
              "\n",
              "    .dataframe thead th {\n",
              "        text-align: right;\n",
              "    }\n",
              "</style>\n",
              "<table border=\"1\" class=\"dataframe\">\n",
              "  <thead>\n",
              "    <tr style=\"text-align: right;\">\n",
              "      <th></th>\n",
              "      <th>id</th>\n",
              "      <th>target</th>\n",
              "    </tr>\n",
              "  </thead>\n",
              "  <tbody>\n",
              "    <tr>\n",
              "      <th>0</th>\n",
              "      <td>0</td>\n",
              "      <td>1</td>\n",
              "    </tr>\n",
              "    <tr>\n",
              "      <th>1</th>\n",
              "      <td>1</td>\n",
              "      <td>0</td>\n",
              "    </tr>\n",
              "    <tr>\n",
              "      <th>2</th>\n",
              "      <td>2</td>\n",
              "      <td>1</td>\n",
              "    </tr>\n",
              "    <tr>\n",
              "      <th>3</th>\n",
              "      <td>3</td>\n",
              "      <td>0</td>\n",
              "    </tr>\n",
              "    <tr>\n",
              "      <th>4</th>\n",
              "      <td>4</td>\n",
              "      <td>0</td>\n",
              "    </tr>\n",
              "    <tr>\n",
              "      <th>...</th>\n",
              "      <td>...</td>\n",
              "      <td>...</td>\n",
              "    </tr>\n",
              "    <tr>\n",
              "      <th>46399</th>\n",
              "      <td>46399</td>\n",
              "      <td>1</td>\n",
              "    </tr>\n",
              "    <tr>\n",
              "      <th>46400</th>\n",
              "      <td>46400</td>\n",
              "      <td>1</td>\n",
              "    </tr>\n",
              "    <tr>\n",
              "      <th>46401</th>\n",
              "      <td>46401</td>\n",
              "      <td>1</td>\n",
              "    </tr>\n",
              "    <tr>\n",
              "      <th>46402</th>\n",
              "      <td>46402</td>\n",
              "      <td>1</td>\n",
              "    </tr>\n",
              "    <tr>\n",
              "      <th>46403</th>\n",
              "      <td>46403</td>\n",
              "      <td>1</td>\n",
              "    </tr>\n",
              "  </tbody>\n",
              "</table>\n",
              "<p>46404 rows × 2 columns</p>\n",
              "</div>\n",
              "      <button class=\"colab-df-convert\" onclick=\"convertToInteractive('df-485c33ac-850e-4eaa-81a3-b91639f16b82')\"\n",
              "              title=\"Convert this dataframe to an interactive table.\"\n",
              "              style=\"display:none;\">\n",
              "        \n",
              "  <svg xmlns=\"http://www.w3.org/2000/svg\" height=\"24px\"viewBox=\"0 0 24 24\"\n",
              "       width=\"24px\">\n",
              "    <path d=\"M0 0h24v24H0V0z\" fill=\"none\"/>\n",
              "    <path d=\"M18.56 5.44l.94 2.06.94-2.06 2.06-.94-2.06-.94-.94-2.06-.94 2.06-2.06.94zm-11 1L8.5 8.5l.94-2.06 2.06-.94-2.06-.94L8.5 2.5l-.94 2.06-2.06.94zm10 10l.94 2.06.94-2.06 2.06-.94-2.06-.94-.94-2.06-.94 2.06-2.06.94z\"/><path d=\"M17.41 7.96l-1.37-1.37c-.4-.4-.92-.59-1.43-.59-.52 0-1.04.2-1.43.59L10.3 9.45l-7.72 7.72c-.78.78-.78 2.05 0 2.83L4 21.41c.39.39.9.59 1.41.59.51 0 1.02-.2 1.41-.59l7.78-7.78 2.81-2.81c.8-.78.8-2.07 0-2.86zM5.41 20L4 18.59l7.72-7.72 1.47 1.35L5.41 20z\"/>\n",
              "  </svg>\n",
              "      </button>\n",
              "      \n",
              "  <style>\n",
              "    .colab-df-container {\n",
              "      display:flex;\n",
              "      flex-wrap:wrap;\n",
              "      gap: 12px;\n",
              "    }\n",
              "\n",
              "    .colab-df-convert {\n",
              "      background-color: #E8F0FE;\n",
              "      border: none;\n",
              "      border-radius: 50%;\n",
              "      cursor: pointer;\n",
              "      display: none;\n",
              "      fill: #1967D2;\n",
              "      height: 32px;\n",
              "      padding: 0 0 0 0;\n",
              "      width: 32px;\n",
              "    }\n",
              "\n",
              "    .colab-df-convert:hover {\n",
              "      background-color: #E2EBFA;\n",
              "      box-shadow: 0px 1px 2px rgba(60, 64, 67, 0.3), 0px 1px 3px 1px rgba(60, 64, 67, 0.15);\n",
              "      fill: #174EA6;\n",
              "    }\n",
              "\n",
              "    [theme=dark] .colab-df-convert {\n",
              "      background-color: #3B4455;\n",
              "      fill: #D2E3FC;\n",
              "    }\n",
              "\n",
              "    [theme=dark] .colab-df-convert:hover {\n",
              "      background-color: #434B5C;\n",
              "      box-shadow: 0px 1px 3px 1px rgba(0, 0, 0, 0.15);\n",
              "      filter: drop-shadow(0px 1px 2px rgba(0, 0, 0, 0.3));\n",
              "      fill: #FFFFFF;\n",
              "    }\n",
              "  </style>\n",
              "\n",
              "      <script>\n",
              "        const buttonEl =\n",
              "          document.querySelector('#df-485c33ac-850e-4eaa-81a3-b91639f16b82 button.colab-df-convert');\n",
              "        buttonEl.style.display =\n",
              "          google.colab.kernel.accessAllowed ? 'block' : 'none';\n",
              "\n",
              "        async function convertToInteractive(key) {\n",
              "          const element = document.querySelector('#df-485c33ac-850e-4eaa-81a3-b91639f16b82');\n",
              "          const dataTable =\n",
              "            await google.colab.kernel.invokeFunction('convertToInteractive',\n",
              "                                                     [key], {});\n",
              "          if (!dataTable) return;\n",
              "\n",
              "          const docLinkHtml = 'Like what you see? Visit the ' +\n",
              "            '<a target=\"_blank\" href=https://colab.research.google.com/notebooks/data_table.ipynb>data table notebook</a>'\n",
              "            + ' to learn more about interactive tables.';\n",
              "          element.innerHTML = '';\n",
              "          dataTable['output_type'] = 'display_data';\n",
              "          await google.colab.output.renderOutput(dataTable, element);\n",
              "          const docLink = document.createElement('div');\n",
              "          docLink.innerHTML = docLinkHtml;\n",
              "          element.appendChild(docLink);\n",
              "        }\n",
              "      </script>\n",
              "    </div>\n",
              "  </div>\n",
              "  "
            ],
            "text/plain": [
              "          id  target\n",
              "0          0       1\n",
              "1          1       0\n",
              "2          2       1\n",
              "3          3       0\n",
              "4          4       0\n",
              "...      ...     ...\n",
              "46399  46399       1\n",
              "46400  46400       1\n",
              "46401  46401       1\n",
              "46402  46402       1\n",
              "46403  46403       1\n",
              "\n",
              "[46404 rows x 2 columns]"
            ]
          },
          "metadata": {},
          "execution_count": 21
        }
      ]
    },
    {
      "cell_type": "code",
      "source": [
        ""
      ],
      "metadata": {
        "id": "U7zGF18WxV3P"
      },
      "execution_count": null,
      "outputs": []
    }
  ]
}