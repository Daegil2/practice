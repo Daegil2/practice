{
 "cells": [
  {
   "cell_type": "code",
   "execution_count": 2,
   "metadata": {},
   "outputs": [],
   "source": [
    "import numpy as np\n",
    "import pandas as pd\n",
    "from PIL import Image\n",
    "import os"
   ]
  },
  {
   "cell_type": "code",
   "execution_count": 3,
   "metadata": {},
   "outputs": [
    {
     "data": {
      "text/plain": [
       "'c:\\\\promise\\\\word'"
      ]
     },
     "execution_count": 3,
     "metadata": {},
     "output_type": "execute_result"
    }
   ],
   "source": [
    "os.getcwd()"
   ]
  },
  {
   "cell_type": "code",
   "execution_count": 6,
   "metadata": {},
   "outputs": [
    {
     "data": {
      "text/html": [
       "<div>\n",
       "<style scoped>\n",
       "    .dataframe tbody tr th:only-of-type {\n",
       "        vertical-align: middle;\n",
       "    }\n",
       "\n",
       "    .dataframe tbody tr th {\n",
       "        vertical-align: top;\n",
       "    }\n",
       "\n",
       "    .dataframe thead th {\n",
       "        text-align: right;\n",
       "    }\n",
       "</style>\n",
       "<table border=\"1\" class=\"dataframe\">\n",
       "  <thead>\n",
       "    <tr style=\"text-align: right;\">\n",
       "      <th></th>\n",
       "      <th>file_name</th>\n",
       "      <th>label</th>\n",
       "    </tr>\n",
       "  </thead>\n",
       "  <tbody>\n",
       "    <tr>\n",
       "      <th>0</th>\n",
       "      <td>train0001.png</td>\n",
       "      <td>8</td>\n",
       "    </tr>\n",
       "    <tr>\n",
       "      <th>1</th>\n",
       "      <td>train0002.png</td>\n",
       "      <td>8</td>\n",
       "    </tr>\n",
       "    <tr>\n",
       "      <th>2</th>\n",
       "      <td>train0003.png</td>\n",
       "      <td>8</td>\n",
       "    </tr>\n",
       "    <tr>\n",
       "      <th>3</th>\n",
       "      <td>train0004.png</td>\n",
       "      <td>8</td>\n",
       "    </tr>\n",
       "    <tr>\n",
       "      <th>4</th>\n",
       "      <td>train0005.png</td>\n",
       "      <td>8</td>\n",
       "    </tr>\n",
       "    <tr>\n",
       "      <th>...</th>\n",
       "      <td>...</td>\n",
       "      <td>...</td>\n",
       "    </tr>\n",
       "    <tr>\n",
       "      <th>4995</th>\n",
       "      <td>train4996.png</td>\n",
       "      <td>6</td>\n",
       "    </tr>\n",
       "    <tr>\n",
       "      <th>4996</th>\n",
       "      <td>train4997.png</td>\n",
       "      <td>6</td>\n",
       "    </tr>\n",
       "    <tr>\n",
       "      <th>4997</th>\n",
       "      <td>train4998.png</td>\n",
       "      <td>6</td>\n",
       "    </tr>\n",
       "    <tr>\n",
       "      <th>4998</th>\n",
       "      <td>train4999.png</td>\n",
       "      <td>6</td>\n",
       "    </tr>\n",
       "    <tr>\n",
       "      <th>4999</th>\n",
       "      <td>train5000.png</td>\n",
       "      <td>6</td>\n",
       "    </tr>\n",
       "  </tbody>\n",
       "</table>\n",
       "<p>5000 rows × 2 columns</p>\n",
       "</div>"
      ],
      "text/plain": [
       "          file_name  label\n",
       "0     train0001.png      8\n",
       "1     train0002.png      8\n",
       "2     train0003.png      8\n",
       "3     train0004.png      8\n",
       "4     train0005.png      8\n",
       "...             ...    ...\n",
       "4995  train4996.png      6\n",
       "4996  train4997.png      6\n",
       "4997  train4998.png      6\n",
       "4998  train4999.png      6\n",
       "4999  train5000.png      6\n",
       "\n",
       "[5000 rows x 2 columns]"
      ]
     },
     "execution_count": 6,
     "metadata": {},
     "output_type": "execute_result"
    }
   ],
   "source": [
    "train= pd.read_csv('train/train_data.csv')\n",
    "train"
   ]
  },
  {
   "cell_type": "code",
   "execution_count": 11,
   "metadata": {},
   "outputs": [],
   "source": [
    "def png_to_numpy(file_names):\n",
    "    images=[]\n",
    "    if file_names[0][:5] =='train':\n",
    "        for file in file_names:\n",
    "            images.append(Image.open('train/'+file))\n",
    "    else:\n",
    "        for file in file_names:\n",
    "            images.append(Image.open('test/'+file))\n",
    "    image2number=  np.array([np.array(image) for image in images])\n",
    "    return image2number"
   ]
  },
  {
   "cell_type": "code",
   "execution_count": 14,
   "metadata": {},
   "outputs": [],
   "source": [
    "X_train =  png_to_numpy(train['file_name'])\n",
    "y_train= train['label']\n"
   ]
  },
  {
   "cell_type": "code",
   "execution_count": 17,
   "metadata": {},
   "outputs": [
    {
     "data": {
      "application/vnd.plotly.v1+json": {
       "config": {
        "plotlyServerURL": "https://plot.ly"
       },
       "data": [
        {
         "colorscale": [
          [
           0,
           "rgb(255,255,255)"
          ],
          [
           0.125,
           "rgb(240,240,240)"
          ],
          [
           0.25,
           "rgb(217,217,217)"
          ],
          [
           0.375,
           "rgb(189,189,189)"
          ],
          [
           0.5,
           "rgb(150,150,150)"
          ],
          [
           0.625,
           "rgb(115,115,115)"
          ],
          [
           0.75,
           "rgb(82,82,82)"
          ],
          [
           0.875,
           "rgb(37,37,37)"
          ],
          [
           1,
           "rgb(0,0,0)"
          ]
         ],
         "type": "heatmap",
         "z": [
          [
           0,
           0,
           0,
           0,
           0,
           0,
           0,
           0,
           0,
           0,
           0,
           0,
           0,
           0,
           0,
           0,
           0,
           0,
           0,
           0,
           0,
           0,
           0,
           0,
           0,
           0,
           0,
           0
          ],
          [
           0,
           0,
           0,
           0,
           0,
           0,
           0,
           0,
           0,
           0,
           0,
           0,
           0,
           0,
           0,
           0,
           0,
           0,
           0,
           0,
           0,
           0,
           0,
           0,
           0,
           0,
           0,
           0
          ],
          [
           0,
           0,
           0,
           0,
           0,
           0,
           0,
           0,
           0,
           0,
           0,
           0,
           0,
           0,
           0,
           0,
           0,
           0,
           0,
           0,
           0,
           0,
           0,
           0,
           0,
           0,
           0,
           0
          ],
          [
           0,
           0,
           0,
           0,
           0,
           0,
           0,
           0,
           0,
           0,
           0,
           0,
           0,
           0,
           0,
           0,
           0,
           0,
           0,
           0,
           0,
           0,
           0,
           0,
           0,
           0,
           0,
           0
          ],
          [
           0,
           0,
           0,
           0,
           0,
           0,
           0,
           0,
           0,
           0,
           0,
           19,
           127,
           254,
           158,
           0,
           0,
           0,
           0,
           0,
           0,
           0,
           0,
           0,
           0,
           0,
           0,
           0
          ],
          [
           0,
           0,
           0,
           0,
           0,
           0,
           0,
           0,
           0,
           0,
           62,
           196,
           253,
           253,
           142,
           0,
           0,
           0,
           0,
           0,
           0,
           0,
           0,
           0,
           0,
           0,
           0,
           0
          ],
          [
           0,
           0,
           0,
           0,
           0,
           0,
           0,
           0,
           0,
           109,
           241,
           253,
           253,
           253,
           79,
           124,
           108,
           79,
           79,
           31,
           0,
           0,
           0,
           0,
           0,
           0,
           0,
           0
          ],
          [
           0,
           0,
           0,
           0,
           0,
           0,
           0,
           7,
           115,
           246,
           253,
           253,
           253,
           253,
           254,
           253,
           253,
           253,
           253,
           242,
           178,
           0,
           0,
           0,
           0,
           0,
           0,
           0
          ],
          [
           0,
           0,
           0,
           0,
           0,
           0,
           0,
           152,
           253,
           254,
           253,
           253,
           237,
           155,
           155,
           155,
           155,
           155,
           193,
           254,
           248,
           135,
           0,
           0,
           0,
           0,
           0,
           0
          ],
          [
           0,
           0,
           0,
           0,
           0,
           0,
           102,
           254,
           254,
           241,
           150,
           30,
           0,
           0,
           0,
           0,
           0,
           0,
           0,
           59,
           254,
           254,
           42,
           0,
           0,
           0,
           0,
           0
          ],
          [
           0,
           0,
           0,
           0,
           0,
           8,
           154,
           233,
           195,
           68,
           0,
           0,
           0,
           0,
           0,
           0,
           0,
           0,
           0,
           112,
           253,
           253,
           217,
           27,
           0,
           0,
           0,
           0
          ],
          [
           0,
           0,
           0,
           0,
           0,
           0,
           0,
           0,
           0,
           0,
           0,
           0,
           0,
           0,
           0,
           0,
           0,
           0,
           0,
           223,
           253,
           253,
           240,
           40,
           0,
           0,
           0,
           0
          ],
          [
           0,
           0,
           0,
           0,
           0,
           0,
           0,
           0,
           0,
           0,
           0,
           0,
           0,
           0,
           0,
           0,
           0,
           0,
           0,
           156,
           253,
           240,
           31,
           0,
           0,
           0,
           0,
           0
          ],
          [
           0,
           0,
           0,
           0,
           0,
           0,
           0,
           0,
           0,
           0,
           0,
           0,
           0,
           0,
           0,
           0,
           0,
           0,
           76,
           231,
           253,
           174,
           0,
           0,
           0,
           0,
           0,
           0
          ],
          [
           0,
           0,
           0,
           0,
           0,
           0,
           0,
           0,
           0,
           0,
           0,
           0,
           0,
           0,
           0,
           0,
           0,
           32,
           171,
           255,
           241,
           30,
           0,
           0,
           0,
           0,
           0,
           0
          ],
          [
           0,
           0,
           0,
           0,
           0,
           0,
           0,
           0,
           0,
           0,
           0,
           0,
           0,
           0,
           0,
           0,
           7,
           183,
           253,
           254,
           180,
           0,
           0,
           0,
           0,
           0,
           0,
           0
          ],
          [
           0,
           0,
           0,
           0,
           0,
           0,
           0,
           0,
           0,
           0,
           37,
           24,
           0,
           0,
           0,
           7,
           169,
           253,
           253,
           183,
           12,
           0,
           0,
           0,
           0,
           0,
           0,
           0
          ],
          [
           0,
           0,
           0,
           0,
           0,
           0,
           13,
           55,
           136,
           235,
           243,
           240,
           219,
           136,
           137,
           221,
           253,
           253,
           185,
           8,
           0,
           0,
           0,
           0,
           0,
           0,
           0,
           0
          ],
          [
           0,
           0,
           0,
           0,
           0,
           53,
           213,
           253,
           177,
           155,
           238,
           253,
           253,
           253,
           254,
           253,
           253,
           110,
           14,
           0,
           0,
           0,
           0,
           0,
           0,
           0,
           0,
           0
          ],
          [
           0,
           0,
           0,
           0,
           37,
           239,
           235,
           90,
           0,
           0,
           0,
           71,
           246,
           254,
           255,
           254,
           254,
           148,
           14,
           0,
           0,
           0,
           0,
           0,
           0,
           0,
           0,
           0
          ],
          [
           0,
           0,
           0,
           0,
           104,
           243,
           57,
           0,
           16,
           80,
           162,
           241,
           253,
           253,
           174,
           218,
           247,
           253,
           185,
           53,
           0,
           0,
           0,
           0,
           0,
           0,
           0,
           0
          ],
          [
           0,
           0,
           0,
           0,
           156,
           239,
           79,
           130,
           235,
           254,
           253,
           253,
           210,
           100,
           0,
           0,
           84,
           247,
           253,
           236,
           168,
           79,
           36,
           0,
           0,
           0,
           0,
           0
          ],
          [
           0,
           0,
           0,
           0,
           104,
           253,
           253,
           247,
           213,
           154,
           109,
           19,
           9,
           0,
           0,
           0,
           0,
           71,
           191,
           254,
           253,
           253,
           206,
           0,
           0,
           0,
           0,
           0
          ],
          [
           0,
           0,
           0,
           0,
           14,
           58,
           58,
           49,
           0,
           0,
           0,
           0,
           0,
           0,
           0,
           0,
           0,
           0,
           0,
           81,
           200,
           253,
           138,
           0,
           0,
           0,
           0,
           0
          ],
          [
           0,
           0,
           0,
           0,
           0,
           0,
           0,
           0,
           0,
           0,
           0,
           0,
           0,
           0,
           0,
           0,
           0,
           0,
           0,
           0,
           0,
           0,
           0,
           0,
           0,
           0,
           0,
           0
          ],
          [
           0,
           0,
           0,
           0,
           0,
           0,
           0,
           0,
           0,
           0,
           0,
           0,
           0,
           0,
           0,
           0,
           0,
           0,
           0,
           0,
           0,
           0,
           0,
           0,
           0,
           0,
           0,
           0
          ],
          [
           0,
           0,
           0,
           0,
           0,
           0,
           0,
           0,
           0,
           0,
           0,
           0,
           0,
           0,
           0,
           0,
           0,
           0,
           0,
           0,
           0,
           0,
           0,
           0,
           0,
           0,
           0,
           0
          ],
          [
           0,
           0,
           0,
           0,
           0,
           0,
           0,
           0,
           0,
           0,
           0,
           0,
           0,
           0,
           0,
           0,
           0,
           0,
           0,
           0,
           0,
           0,
           0,
           0,
           0,
           0,
           0,
           0
          ]
         ]
        }
       ],
       "layout": {
        "plot_bgcolor": "white",
        "template": {
         "data": {
          "bar": [
           {
            "error_x": {
             "color": "#2a3f5f"
            },
            "error_y": {
             "color": "#2a3f5f"
            },
            "marker": {
             "line": {
              "color": "#E5ECF6",
              "width": 0.5
             },
             "pattern": {
              "fillmode": "overlay",
              "size": 10,
              "solidity": 0.2
             }
            },
            "type": "bar"
           }
          ],
          "barpolar": [
           {
            "marker": {
             "line": {
              "color": "#E5ECF6",
              "width": 0.5
             },
             "pattern": {
              "fillmode": "overlay",
              "size": 10,
              "solidity": 0.2
             }
            },
            "type": "barpolar"
           }
          ],
          "carpet": [
           {
            "aaxis": {
             "endlinecolor": "#2a3f5f",
             "gridcolor": "white",
             "linecolor": "white",
             "minorgridcolor": "white",
             "startlinecolor": "#2a3f5f"
            },
            "baxis": {
             "endlinecolor": "#2a3f5f",
             "gridcolor": "white",
             "linecolor": "white",
             "minorgridcolor": "white",
             "startlinecolor": "#2a3f5f"
            },
            "type": "carpet"
           }
          ],
          "choropleth": [
           {
            "colorbar": {
             "outlinewidth": 0,
             "ticks": ""
            },
            "type": "choropleth"
           }
          ],
          "contour": [
           {
            "colorbar": {
             "outlinewidth": 0,
             "ticks": ""
            },
            "colorscale": [
             [
              0,
              "#0d0887"
             ],
             [
              0.1111111111111111,
              "#46039f"
             ],
             [
              0.2222222222222222,
              "#7201a8"
             ],
             [
              0.3333333333333333,
              "#9c179e"
             ],
             [
              0.4444444444444444,
              "#bd3786"
             ],
             [
              0.5555555555555556,
              "#d8576b"
             ],
             [
              0.6666666666666666,
              "#ed7953"
             ],
             [
              0.7777777777777778,
              "#fb9f3a"
             ],
             [
              0.8888888888888888,
              "#fdca26"
             ],
             [
              1,
              "#f0f921"
             ]
            ],
            "type": "contour"
           }
          ],
          "contourcarpet": [
           {
            "colorbar": {
             "outlinewidth": 0,
             "ticks": ""
            },
            "type": "contourcarpet"
           }
          ],
          "heatmap": [
           {
            "colorbar": {
             "outlinewidth": 0,
             "ticks": ""
            },
            "colorscale": [
             [
              0,
              "#0d0887"
             ],
             [
              0.1111111111111111,
              "#46039f"
             ],
             [
              0.2222222222222222,
              "#7201a8"
             ],
             [
              0.3333333333333333,
              "#9c179e"
             ],
             [
              0.4444444444444444,
              "#bd3786"
             ],
             [
              0.5555555555555556,
              "#d8576b"
             ],
             [
              0.6666666666666666,
              "#ed7953"
             ],
             [
              0.7777777777777778,
              "#fb9f3a"
             ],
             [
              0.8888888888888888,
              "#fdca26"
             ],
             [
              1,
              "#f0f921"
             ]
            ],
            "type": "heatmap"
           }
          ],
          "heatmapgl": [
           {
            "colorbar": {
             "outlinewidth": 0,
             "ticks": ""
            },
            "colorscale": [
             [
              0,
              "#0d0887"
             ],
             [
              0.1111111111111111,
              "#46039f"
             ],
             [
              0.2222222222222222,
              "#7201a8"
             ],
             [
              0.3333333333333333,
              "#9c179e"
             ],
             [
              0.4444444444444444,
              "#bd3786"
             ],
             [
              0.5555555555555556,
              "#d8576b"
             ],
             [
              0.6666666666666666,
              "#ed7953"
             ],
             [
              0.7777777777777778,
              "#fb9f3a"
             ],
             [
              0.8888888888888888,
              "#fdca26"
             ],
             [
              1,
              "#f0f921"
             ]
            ],
            "type": "heatmapgl"
           }
          ],
          "histogram": [
           {
            "marker": {
             "pattern": {
              "fillmode": "overlay",
              "size": 10,
              "solidity": 0.2
             }
            },
            "type": "histogram"
           }
          ],
          "histogram2d": [
           {
            "colorbar": {
             "outlinewidth": 0,
             "ticks": ""
            },
            "colorscale": [
             [
              0,
              "#0d0887"
             ],
             [
              0.1111111111111111,
              "#46039f"
             ],
             [
              0.2222222222222222,
              "#7201a8"
             ],
             [
              0.3333333333333333,
              "#9c179e"
             ],
             [
              0.4444444444444444,
              "#bd3786"
             ],
             [
              0.5555555555555556,
              "#d8576b"
             ],
             [
              0.6666666666666666,
              "#ed7953"
             ],
             [
              0.7777777777777778,
              "#fb9f3a"
             ],
             [
              0.8888888888888888,
              "#fdca26"
             ],
             [
              1,
              "#f0f921"
             ]
            ],
            "type": "histogram2d"
           }
          ],
          "histogram2dcontour": [
           {
            "colorbar": {
             "outlinewidth": 0,
             "ticks": ""
            },
            "colorscale": [
             [
              0,
              "#0d0887"
             ],
             [
              0.1111111111111111,
              "#46039f"
             ],
             [
              0.2222222222222222,
              "#7201a8"
             ],
             [
              0.3333333333333333,
              "#9c179e"
             ],
             [
              0.4444444444444444,
              "#bd3786"
             ],
             [
              0.5555555555555556,
              "#d8576b"
             ],
             [
              0.6666666666666666,
              "#ed7953"
             ],
             [
              0.7777777777777778,
              "#fb9f3a"
             ],
             [
              0.8888888888888888,
              "#fdca26"
             ],
             [
              1,
              "#f0f921"
             ]
            ],
            "type": "histogram2dcontour"
           }
          ],
          "mesh3d": [
           {
            "colorbar": {
             "outlinewidth": 0,
             "ticks": ""
            },
            "type": "mesh3d"
           }
          ],
          "parcoords": [
           {
            "line": {
             "colorbar": {
              "outlinewidth": 0,
              "ticks": ""
             }
            },
            "type": "parcoords"
           }
          ],
          "pie": [
           {
            "automargin": true,
            "type": "pie"
           }
          ],
          "scatter": [
           {
            "marker": {
             "colorbar": {
              "outlinewidth": 0,
              "ticks": ""
             }
            },
            "type": "scatter"
           }
          ],
          "scatter3d": [
           {
            "line": {
             "colorbar": {
              "outlinewidth": 0,
              "ticks": ""
             }
            },
            "marker": {
             "colorbar": {
              "outlinewidth": 0,
              "ticks": ""
             }
            },
            "type": "scatter3d"
           }
          ],
          "scattercarpet": [
           {
            "marker": {
             "colorbar": {
              "outlinewidth": 0,
              "ticks": ""
             }
            },
            "type": "scattercarpet"
           }
          ],
          "scattergeo": [
           {
            "marker": {
             "colorbar": {
              "outlinewidth": 0,
              "ticks": ""
             }
            },
            "type": "scattergeo"
           }
          ],
          "scattergl": [
           {
            "marker": {
             "colorbar": {
              "outlinewidth": 0,
              "ticks": ""
             }
            },
            "type": "scattergl"
           }
          ],
          "scattermapbox": [
           {
            "marker": {
             "colorbar": {
              "outlinewidth": 0,
              "ticks": ""
             }
            },
            "type": "scattermapbox"
           }
          ],
          "scatterpolar": [
           {
            "marker": {
             "colorbar": {
              "outlinewidth": 0,
              "ticks": ""
             }
            },
            "type": "scatterpolar"
           }
          ],
          "scatterpolargl": [
           {
            "marker": {
             "colorbar": {
              "outlinewidth": 0,
              "ticks": ""
             }
            },
            "type": "scatterpolargl"
           }
          ],
          "scatterternary": [
           {
            "marker": {
             "colorbar": {
              "outlinewidth": 0,
              "ticks": ""
             }
            },
            "type": "scatterternary"
           }
          ],
          "surface": [
           {
            "colorbar": {
             "outlinewidth": 0,
             "ticks": ""
            },
            "colorscale": [
             [
              0,
              "#0d0887"
             ],
             [
              0.1111111111111111,
              "#46039f"
             ],
             [
              0.2222222222222222,
              "#7201a8"
             ],
             [
              0.3333333333333333,
              "#9c179e"
             ],
             [
              0.4444444444444444,
              "#bd3786"
             ],
             [
              0.5555555555555556,
              "#d8576b"
             ],
             [
              0.6666666666666666,
              "#ed7953"
             ],
             [
              0.7777777777777778,
              "#fb9f3a"
             ],
             [
              0.8888888888888888,
              "#fdca26"
             ],
             [
              1,
              "#f0f921"
             ]
            ],
            "type": "surface"
           }
          ],
          "table": [
           {
            "cells": {
             "fill": {
              "color": "#EBF0F8"
             },
             "line": {
              "color": "white"
             }
            },
            "header": {
             "fill": {
              "color": "#C8D4E3"
             },
             "line": {
              "color": "white"
             }
            },
            "type": "table"
           }
          ]
         },
         "layout": {
          "annotationdefaults": {
           "arrowcolor": "#2a3f5f",
           "arrowhead": 0,
           "arrowwidth": 1
          },
          "autotypenumbers": "strict",
          "coloraxis": {
           "colorbar": {
            "outlinewidth": 0,
            "ticks": ""
           }
          },
          "colorscale": {
           "diverging": [
            [
             0,
             "#8e0152"
            ],
            [
             0.1,
             "#c51b7d"
            ],
            [
             0.2,
             "#de77ae"
            ],
            [
             0.3,
             "#f1b6da"
            ],
            [
             0.4,
             "#fde0ef"
            ],
            [
             0.5,
             "#f7f7f7"
            ],
            [
             0.6,
             "#e6f5d0"
            ],
            [
             0.7,
             "#b8e186"
            ],
            [
             0.8,
             "#7fbc41"
            ],
            [
             0.9,
             "#4d9221"
            ],
            [
             1,
             "#276419"
            ]
           ],
           "sequential": [
            [
             0,
             "#0d0887"
            ],
            [
             0.1111111111111111,
             "#46039f"
            ],
            [
             0.2222222222222222,
             "#7201a8"
            ],
            [
             0.3333333333333333,
             "#9c179e"
            ],
            [
             0.4444444444444444,
             "#bd3786"
            ],
            [
             0.5555555555555556,
             "#d8576b"
            ],
            [
             0.6666666666666666,
             "#ed7953"
            ],
            [
             0.7777777777777778,
             "#fb9f3a"
            ],
            [
             0.8888888888888888,
             "#fdca26"
            ],
            [
             1,
             "#f0f921"
            ]
           ],
           "sequentialminus": [
            [
             0,
             "#0d0887"
            ],
            [
             0.1111111111111111,
             "#46039f"
            ],
            [
             0.2222222222222222,
             "#7201a8"
            ],
            [
             0.3333333333333333,
             "#9c179e"
            ],
            [
             0.4444444444444444,
             "#bd3786"
            ],
            [
             0.5555555555555556,
             "#d8576b"
            ],
            [
             0.6666666666666666,
             "#ed7953"
            ],
            [
             0.7777777777777778,
             "#fb9f3a"
            ],
            [
             0.8888888888888888,
             "#fdca26"
            ],
            [
             1,
             "#f0f921"
            ]
           ]
          },
          "colorway": [
           "#636efa",
           "#EF553B",
           "#00cc96",
           "#ab63fa",
           "#FFA15A",
           "#19d3f3",
           "#FF6692",
           "#B6E880",
           "#FF97FF",
           "#FECB52"
          ],
          "font": {
           "color": "#2a3f5f"
          },
          "geo": {
           "bgcolor": "white",
           "lakecolor": "white",
           "landcolor": "#E5ECF6",
           "showlakes": true,
           "showland": true,
           "subunitcolor": "white"
          },
          "hoverlabel": {
           "align": "left"
          },
          "hovermode": "closest",
          "mapbox": {
           "style": "light"
          },
          "paper_bgcolor": "white",
          "plot_bgcolor": "#E5ECF6",
          "polar": {
           "angularaxis": {
            "gridcolor": "white",
            "linecolor": "white",
            "ticks": ""
           },
           "bgcolor": "#E5ECF6",
           "radialaxis": {
            "gridcolor": "white",
            "linecolor": "white",
            "ticks": ""
           }
          },
          "scene": {
           "xaxis": {
            "backgroundcolor": "#E5ECF6",
            "gridcolor": "white",
            "gridwidth": 2,
            "linecolor": "white",
            "showbackground": true,
            "ticks": "",
            "zerolinecolor": "white"
           },
           "yaxis": {
            "backgroundcolor": "#E5ECF6",
            "gridcolor": "white",
            "gridwidth": 2,
            "linecolor": "white",
            "showbackground": true,
            "ticks": "",
            "zerolinecolor": "white"
           },
           "zaxis": {
            "backgroundcolor": "#E5ECF6",
            "gridcolor": "white",
            "gridwidth": 2,
            "linecolor": "white",
            "showbackground": true,
            "ticks": "",
            "zerolinecolor": "white"
           }
          },
          "shapedefaults": {
           "line": {
            "color": "#2a3f5f"
           }
          },
          "ternary": {
           "aaxis": {
            "gridcolor": "white",
            "linecolor": "white",
            "ticks": ""
           },
           "baxis": {
            "gridcolor": "white",
            "linecolor": "white",
            "ticks": ""
           },
           "bgcolor": "#E5ECF6",
           "caxis": {
            "gridcolor": "white",
            "linecolor": "white",
            "ticks": ""
           }
          },
          "title": {
           "x": 0.05
          },
          "xaxis": {
           "automargin": true,
           "gridcolor": "white",
           "linecolor": "white",
           "ticks": "",
           "title": {
            "standoff": 15
           },
           "zerolinecolor": "white",
           "zerolinewidth": 2
          },
          "yaxis": {
           "automargin": true,
           "gridcolor": "white",
           "linecolor": "white",
           "ticks": "",
           "title": {
            "standoff": 15
           },
           "zerolinecolor": "white",
           "zerolinewidth": 2
          }
         }
        },
        "xaxis": {
         "constrain": "domain",
         "scaleanchor": "y"
        },
        "yaxis": {
         "autorange": "reversed",
         "constrain": "domain"
        }
       }
      }
     },
     "metadata": {},
     "output_type": "display_data"
    }
   ],
   "source": [
    "from gtda.plotting import plot_heatmap\n",
    "sample_idx= np.random.randint(5000)\n",
    "sample = X_train[sample_idx]\n",
    "\n",
    "plot_heatmap(sample)"
   ]
  },
  {
   "cell_type": "code",
   "execution_count": 20,
   "metadata": {},
   "outputs": [
    {
     "data": {
      "application/vnd.plotly.v1+json": {
       "config": {
        "plotlyServerURL": "https://plot.ly"
       },
       "data": [
        {
         "colorscale": [
          [
           0,
           "rgb(255,255,255)"
          ],
          [
           0.125,
           "rgb(240,240,240)"
          ],
          [
           0.25,
           "rgb(217,217,217)"
          ],
          [
           0.375,
           "rgb(189,189,189)"
          ],
          [
           0.5,
           "rgb(150,150,150)"
          ],
          [
           0.625,
           "rgb(115,115,115)"
          ],
          [
           0.75,
           "rgb(82,82,82)"
          ],
          [
           0.875,
           "rgb(37,37,37)"
          ],
          [
           1,
           "rgb(0,0,0)"
          ]
         ],
         "type": "heatmap",
         "z": [
          [
           0,
           0,
           0,
           0,
           0,
           0,
           0,
           0,
           0,
           0,
           0,
           0,
           0,
           0,
           0,
           0,
           0,
           0,
           0,
           0,
           0,
           0,
           0,
           0,
           0,
           0,
           0,
           0
          ],
          [
           0,
           0,
           0,
           0,
           0,
           0,
           0,
           0,
           0,
           0,
           0,
           0,
           0,
           0,
           0,
           0,
           0,
           0,
           0,
           0,
           0,
           0,
           0,
           0,
           0,
           0,
           0,
           0
          ],
          [
           0,
           0,
           0,
           0,
           0,
           0,
           0,
           0,
           0,
           0,
           0,
           0,
           0,
           0,
           0,
           0,
           0,
           0,
           0,
           0,
           0,
           0,
           0,
           0,
           0,
           0,
           0,
           0
          ],
          [
           0,
           0,
           0,
           0,
           0,
           0,
           0,
           0,
           0,
           0,
           0,
           0,
           0,
           0,
           0,
           0,
           0,
           0,
           0,
           0,
           0,
           0,
           0,
           0,
           0,
           0,
           0,
           0
          ],
          [
           0,
           0,
           0,
           0,
           0,
           0,
           0,
           0,
           0,
           0,
           0,
           0,
           0,
           0,
           0,
           0,
           0,
           0,
           0,
           0,
           0,
           0,
           0,
           0,
           0,
           0,
           0,
           0
          ],
          [
           0,
           0,
           0,
           0,
           0,
           0,
           0,
           0,
           0,
           0,
           0,
           0,
           0,
           0,
           0,
           0,
           0,
           1,
           1,
           1,
           1,
           1,
           0,
           0,
           0,
           0,
           0,
           0
          ],
          [
           0,
           0,
           0,
           0,
           0,
           0,
           0,
           0,
           0,
           0,
           0,
           0,
           0,
           0,
           0,
           1,
           1,
           1,
           1,
           1,
           1,
           1,
           0,
           0,
           0,
           0,
           0,
           0
          ],
          [
           0,
           0,
           0,
           0,
           0,
           0,
           0,
           0,
           0,
           0,
           0,
           0,
           0,
           0,
           1,
           1,
           1,
           1,
           1,
           1,
           1,
           1,
           0,
           0,
           0,
           0,
           0,
           0
          ],
          [
           0,
           0,
           0,
           0,
           0,
           0,
           0,
           0,
           0,
           0,
           0,
           0,
           1,
           1,
           1,
           1,
           0,
           0,
           0,
           0,
           1,
           1,
           0,
           0,
           0,
           0,
           0,
           0
          ],
          [
           0,
           0,
           0,
           0,
           0,
           0,
           0,
           0,
           0,
           0,
           0,
           0,
           1,
           1,
           1,
           0,
           0,
           0,
           0,
           1,
           1,
           1,
           0,
           0,
           0,
           0,
           0,
           0
          ],
          [
           0,
           0,
           0,
           0,
           0,
           0,
           0,
           0,
           0,
           0,
           0,
           1,
           1,
           1,
           0,
           0,
           0,
           0,
           0,
           1,
           1,
           0,
           0,
           0,
           0,
           0,
           0,
           0
          ],
          [
           0,
           0,
           0,
           0,
           0,
           0,
           0,
           0,
           0,
           0,
           0,
           1,
           1,
           0,
           0,
           0,
           0,
           0,
           1,
           1,
           1,
           0,
           0,
           0,
           0,
           0,
           0,
           0
          ],
          [
           0,
           0,
           0,
           0,
           0,
           0,
           0,
           0,
           0,
           0,
           0,
           1,
           1,
           0,
           0,
           0,
           0,
           1,
           1,
           1,
           0,
           0,
           0,
           0,
           0,
           0,
           0,
           0
          ],
          [
           0,
           0,
           0,
           0,
           0,
           0,
           0,
           0,
           0,
           0,
           0,
           1,
           1,
           1,
           0,
           1,
           1,
           1,
           0,
           0,
           0,
           0,
           0,
           0,
           0,
           0,
           0,
           0
          ],
          [
           0,
           0,
           0,
           0,
           0,
           0,
           0,
           0,
           0,
           0,
           0,
           0,
           1,
           1,
           1,
           1,
           1,
           0,
           0,
           0,
           0,
           0,
           0,
           0,
           0,
           0,
           0,
           0
          ],
          [
           0,
           0,
           0,
           0,
           0,
           0,
           0,
           0,
           0,
           0,
           0,
           0,
           1,
           1,
           1,
           1,
           0,
           0,
           0,
           0,
           0,
           0,
           0,
           0,
           0,
           0,
           0,
           0
          ],
          [
           0,
           0,
           0,
           0,
           0,
           0,
           0,
           0,
           0,
           0,
           0,
           1,
           1,
           1,
           1,
           1,
           0,
           0,
           0,
           0,
           0,
           0,
           0,
           0,
           0,
           0,
           0,
           0
          ],
          [
           0,
           0,
           0,
           0,
           0,
           0,
           0,
           0,
           0,
           0,
           1,
           1,
           1,
           0,
           1,
           1,
           1,
           0,
           0,
           0,
           0,
           0,
           0,
           0,
           0,
           0,
           0,
           0
          ],
          [
           0,
           0,
           0,
           0,
           0,
           0,
           0,
           0,
           1,
           1,
           1,
           1,
           0,
           0,
           0,
           1,
           1,
           0,
           0,
           0,
           0,
           0,
           0,
           0,
           0,
           0,
           0,
           0
          ],
          [
           0,
           0,
           0,
           0,
           0,
           0,
           0,
           1,
           1,
           1,
           0,
           0,
           0,
           0,
           0,
           1,
           1,
           0,
           0,
           0,
           0,
           0,
           0,
           0,
           0,
           0,
           0,
           0
          ],
          [
           0,
           0,
           0,
           0,
           0,
           0,
           0,
           1,
           1,
           0,
           0,
           0,
           0,
           0,
           0,
           1,
           1,
           0,
           0,
           0,
           0,
           0,
           0,
           0,
           0,
           0,
           0,
           0
          ],
          [
           0,
           0,
           0,
           0,
           0,
           0,
           1,
           1,
           0,
           0,
           0,
           0,
           0,
           0,
           0,
           1,
           1,
           0,
           0,
           0,
           0,
           0,
           0,
           0,
           0,
           0,
           0,
           0
          ],
          [
           0,
           0,
           0,
           0,
           0,
           0,
           1,
           1,
           1,
           0,
           0,
           0,
           0,
           1,
           1,
           1,
           0,
           0,
           0,
           0,
           0,
           0,
           0,
           0,
           0,
           0,
           0,
           0
          ],
          [
           0,
           0,
           0,
           0,
           0,
           0,
           1,
           1,
           1,
           1,
           1,
           1,
           1,
           1,
           1,
           0,
           0,
           0,
           0,
           0,
           0,
           0,
           0,
           0,
           0,
           0,
           0,
           0
          ],
          [
           0,
           0,
           0,
           0,
           0,
           0,
           0,
           1,
           1,
           1,
           1,
           1,
           1,
           0,
           0,
           0,
           0,
           0,
           0,
           0,
           0,
           0,
           0,
           0,
           0,
           0,
           0,
           0
          ],
          [
           0,
           0,
           0,
           0,
           0,
           0,
           0,
           0,
           0,
           0,
           0,
           0,
           0,
           0,
           0,
           0,
           0,
           0,
           0,
           0,
           0,
           0,
           0,
           0,
           0,
           0,
           0,
           0
          ],
          [
           0,
           0,
           0,
           0,
           0,
           0,
           0,
           0,
           0,
           0,
           0,
           0,
           0,
           0,
           0,
           0,
           0,
           0,
           0,
           0,
           0,
           0,
           0,
           0,
           0,
           0,
           0,
           0
          ],
          [
           0,
           0,
           0,
           0,
           0,
           0,
           0,
           0,
           0,
           0,
           0,
           0,
           0,
           0,
           0,
           0,
           0,
           0,
           0,
           0,
           0,
           0,
           0,
           0,
           0,
           0,
           0,
           0
          ]
         ]
        }
       ],
       "layout": {
        "plot_bgcolor": "white",
        "template": {
         "data": {
          "bar": [
           {
            "error_x": {
             "color": "#2a3f5f"
            },
            "error_y": {
             "color": "#2a3f5f"
            },
            "marker": {
             "line": {
              "color": "#E5ECF6",
              "width": 0.5
             },
             "pattern": {
              "fillmode": "overlay",
              "size": 10,
              "solidity": 0.2
             }
            },
            "type": "bar"
           }
          ],
          "barpolar": [
           {
            "marker": {
             "line": {
              "color": "#E5ECF6",
              "width": 0.5
             },
             "pattern": {
              "fillmode": "overlay",
              "size": 10,
              "solidity": 0.2
             }
            },
            "type": "barpolar"
           }
          ],
          "carpet": [
           {
            "aaxis": {
             "endlinecolor": "#2a3f5f",
             "gridcolor": "white",
             "linecolor": "white",
             "minorgridcolor": "white",
             "startlinecolor": "#2a3f5f"
            },
            "baxis": {
             "endlinecolor": "#2a3f5f",
             "gridcolor": "white",
             "linecolor": "white",
             "minorgridcolor": "white",
             "startlinecolor": "#2a3f5f"
            },
            "type": "carpet"
           }
          ],
          "choropleth": [
           {
            "colorbar": {
             "outlinewidth": 0,
             "ticks": ""
            },
            "type": "choropleth"
           }
          ],
          "contour": [
           {
            "colorbar": {
             "outlinewidth": 0,
             "ticks": ""
            },
            "colorscale": [
             [
              0,
              "#0d0887"
             ],
             [
              0.1111111111111111,
              "#46039f"
             ],
             [
              0.2222222222222222,
              "#7201a8"
             ],
             [
              0.3333333333333333,
              "#9c179e"
             ],
             [
              0.4444444444444444,
              "#bd3786"
             ],
             [
              0.5555555555555556,
              "#d8576b"
             ],
             [
              0.6666666666666666,
              "#ed7953"
             ],
             [
              0.7777777777777778,
              "#fb9f3a"
             ],
             [
              0.8888888888888888,
              "#fdca26"
             ],
             [
              1,
              "#f0f921"
             ]
            ],
            "type": "contour"
           }
          ],
          "contourcarpet": [
           {
            "colorbar": {
             "outlinewidth": 0,
             "ticks": ""
            },
            "type": "contourcarpet"
           }
          ],
          "heatmap": [
           {
            "colorbar": {
             "outlinewidth": 0,
             "ticks": ""
            },
            "colorscale": [
             [
              0,
              "#0d0887"
             ],
             [
              0.1111111111111111,
              "#46039f"
             ],
             [
              0.2222222222222222,
              "#7201a8"
             ],
             [
              0.3333333333333333,
              "#9c179e"
             ],
             [
              0.4444444444444444,
              "#bd3786"
             ],
             [
              0.5555555555555556,
              "#d8576b"
             ],
             [
              0.6666666666666666,
              "#ed7953"
             ],
             [
              0.7777777777777778,
              "#fb9f3a"
             ],
             [
              0.8888888888888888,
              "#fdca26"
             ],
             [
              1,
              "#f0f921"
             ]
            ],
            "type": "heatmap"
           }
          ],
          "heatmapgl": [
           {
            "colorbar": {
             "outlinewidth": 0,
             "ticks": ""
            },
            "colorscale": [
             [
              0,
              "#0d0887"
             ],
             [
              0.1111111111111111,
              "#46039f"
             ],
             [
              0.2222222222222222,
              "#7201a8"
             ],
             [
              0.3333333333333333,
              "#9c179e"
             ],
             [
              0.4444444444444444,
              "#bd3786"
             ],
             [
              0.5555555555555556,
              "#d8576b"
             ],
             [
              0.6666666666666666,
              "#ed7953"
             ],
             [
              0.7777777777777778,
              "#fb9f3a"
             ],
             [
              0.8888888888888888,
              "#fdca26"
             ],
             [
              1,
              "#f0f921"
             ]
            ],
            "type": "heatmapgl"
           }
          ],
          "histogram": [
           {
            "marker": {
             "pattern": {
              "fillmode": "overlay",
              "size": 10,
              "solidity": 0.2
             }
            },
            "type": "histogram"
           }
          ],
          "histogram2d": [
           {
            "colorbar": {
             "outlinewidth": 0,
             "ticks": ""
            },
            "colorscale": [
             [
              0,
              "#0d0887"
             ],
             [
              0.1111111111111111,
              "#46039f"
             ],
             [
              0.2222222222222222,
              "#7201a8"
             ],
             [
              0.3333333333333333,
              "#9c179e"
             ],
             [
              0.4444444444444444,
              "#bd3786"
             ],
             [
              0.5555555555555556,
              "#d8576b"
             ],
             [
              0.6666666666666666,
              "#ed7953"
             ],
             [
              0.7777777777777778,
              "#fb9f3a"
             ],
             [
              0.8888888888888888,
              "#fdca26"
             ],
             [
              1,
              "#f0f921"
             ]
            ],
            "type": "histogram2d"
           }
          ],
          "histogram2dcontour": [
           {
            "colorbar": {
             "outlinewidth": 0,
             "ticks": ""
            },
            "colorscale": [
             [
              0,
              "#0d0887"
             ],
             [
              0.1111111111111111,
              "#46039f"
             ],
             [
              0.2222222222222222,
              "#7201a8"
             ],
             [
              0.3333333333333333,
              "#9c179e"
             ],
             [
              0.4444444444444444,
              "#bd3786"
             ],
             [
              0.5555555555555556,
              "#d8576b"
             ],
             [
              0.6666666666666666,
              "#ed7953"
             ],
             [
              0.7777777777777778,
              "#fb9f3a"
             ],
             [
              0.8888888888888888,
              "#fdca26"
             ],
             [
              1,
              "#f0f921"
             ]
            ],
            "type": "histogram2dcontour"
           }
          ],
          "mesh3d": [
           {
            "colorbar": {
             "outlinewidth": 0,
             "ticks": ""
            },
            "type": "mesh3d"
           }
          ],
          "parcoords": [
           {
            "line": {
             "colorbar": {
              "outlinewidth": 0,
              "ticks": ""
             }
            },
            "type": "parcoords"
           }
          ],
          "pie": [
           {
            "automargin": true,
            "type": "pie"
           }
          ],
          "scatter": [
           {
            "marker": {
             "colorbar": {
              "outlinewidth": 0,
              "ticks": ""
             }
            },
            "type": "scatter"
           }
          ],
          "scatter3d": [
           {
            "line": {
             "colorbar": {
              "outlinewidth": 0,
              "ticks": ""
             }
            },
            "marker": {
             "colorbar": {
              "outlinewidth": 0,
              "ticks": ""
             }
            },
            "type": "scatter3d"
           }
          ],
          "scattercarpet": [
           {
            "marker": {
             "colorbar": {
              "outlinewidth": 0,
              "ticks": ""
             }
            },
            "type": "scattercarpet"
           }
          ],
          "scattergeo": [
           {
            "marker": {
             "colorbar": {
              "outlinewidth": 0,
              "ticks": ""
             }
            },
            "type": "scattergeo"
           }
          ],
          "scattergl": [
           {
            "marker": {
             "colorbar": {
              "outlinewidth": 0,
              "ticks": ""
             }
            },
            "type": "scattergl"
           }
          ],
          "scattermapbox": [
           {
            "marker": {
             "colorbar": {
              "outlinewidth": 0,
              "ticks": ""
             }
            },
            "type": "scattermapbox"
           }
          ],
          "scatterpolar": [
           {
            "marker": {
             "colorbar": {
              "outlinewidth": 0,
              "ticks": ""
             }
            },
            "type": "scatterpolar"
           }
          ],
          "scatterpolargl": [
           {
            "marker": {
             "colorbar": {
              "outlinewidth": 0,
              "ticks": ""
             }
            },
            "type": "scatterpolargl"
           }
          ],
          "scatterternary": [
           {
            "marker": {
             "colorbar": {
              "outlinewidth": 0,
              "ticks": ""
             }
            },
            "type": "scatterternary"
           }
          ],
          "surface": [
           {
            "colorbar": {
             "outlinewidth": 0,
             "ticks": ""
            },
            "colorscale": [
             [
              0,
              "#0d0887"
             ],
             [
              0.1111111111111111,
              "#46039f"
             ],
             [
              0.2222222222222222,
              "#7201a8"
             ],
             [
              0.3333333333333333,
              "#9c179e"
             ],
             [
              0.4444444444444444,
              "#bd3786"
             ],
             [
              0.5555555555555556,
              "#d8576b"
             ],
             [
              0.6666666666666666,
              "#ed7953"
             ],
             [
              0.7777777777777778,
              "#fb9f3a"
             ],
             [
              0.8888888888888888,
              "#fdca26"
             ],
             [
              1,
              "#f0f921"
             ]
            ],
            "type": "surface"
           }
          ],
          "table": [
           {
            "cells": {
             "fill": {
              "color": "#EBF0F8"
             },
             "line": {
              "color": "white"
             }
            },
            "header": {
             "fill": {
              "color": "#C8D4E3"
             },
             "line": {
              "color": "white"
             }
            },
            "type": "table"
           }
          ]
         },
         "layout": {
          "annotationdefaults": {
           "arrowcolor": "#2a3f5f",
           "arrowhead": 0,
           "arrowwidth": 1
          },
          "autotypenumbers": "strict",
          "coloraxis": {
           "colorbar": {
            "outlinewidth": 0,
            "ticks": ""
           }
          },
          "colorscale": {
           "diverging": [
            [
             0,
             "#8e0152"
            ],
            [
             0.1,
             "#c51b7d"
            ],
            [
             0.2,
             "#de77ae"
            ],
            [
             0.3,
             "#f1b6da"
            ],
            [
             0.4,
             "#fde0ef"
            ],
            [
             0.5,
             "#f7f7f7"
            ],
            [
             0.6,
             "#e6f5d0"
            ],
            [
             0.7,
             "#b8e186"
            ],
            [
             0.8,
             "#7fbc41"
            ],
            [
             0.9,
             "#4d9221"
            ],
            [
             1,
             "#276419"
            ]
           ],
           "sequential": [
            [
             0,
             "#0d0887"
            ],
            [
             0.1111111111111111,
             "#46039f"
            ],
            [
             0.2222222222222222,
             "#7201a8"
            ],
            [
             0.3333333333333333,
             "#9c179e"
            ],
            [
             0.4444444444444444,
             "#bd3786"
            ],
            [
             0.5555555555555556,
             "#d8576b"
            ],
            [
             0.6666666666666666,
             "#ed7953"
            ],
            [
             0.7777777777777778,
             "#fb9f3a"
            ],
            [
             0.8888888888888888,
             "#fdca26"
            ],
            [
             1,
             "#f0f921"
            ]
           ],
           "sequentialminus": [
            [
             0,
             "#0d0887"
            ],
            [
             0.1111111111111111,
             "#46039f"
            ],
            [
             0.2222222222222222,
             "#7201a8"
            ],
            [
             0.3333333333333333,
             "#9c179e"
            ],
            [
             0.4444444444444444,
             "#bd3786"
            ],
            [
             0.5555555555555556,
             "#d8576b"
            ],
            [
             0.6666666666666666,
             "#ed7953"
            ],
            [
             0.7777777777777778,
             "#fb9f3a"
            ],
            [
             0.8888888888888888,
             "#fdca26"
            ],
            [
             1,
             "#f0f921"
            ]
           ]
          },
          "colorway": [
           "#636efa",
           "#EF553B",
           "#00cc96",
           "#ab63fa",
           "#FFA15A",
           "#19d3f3",
           "#FF6692",
           "#B6E880",
           "#FF97FF",
           "#FECB52"
          ],
          "font": {
           "color": "#2a3f5f"
          },
          "geo": {
           "bgcolor": "white",
           "lakecolor": "white",
           "landcolor": "#E5ECF6",
           "showlakes": true,
           "showland": true,
           "subunitcolor": "white"
          },
          "hoverlabel": {
           "align": "left"
          },
          "hovermode": "closest",
          "mapbox": {
           "style": "light"
          },
          "paper_bgcolor": "white",
          "plot_bgcolor": "#E5ECF6",
          "polar": {
           "angularaxis": {
            "gridcolor": "white",
            "linecolor": "white",
            "ticks": ""
           },
           "bgcolor": "#E5ECF6",
           "radialaxis": {
            "gridcolor": "white",
            "linecolor": "white",
            "ticks": ""
           }
          },
          "scene": {
           "xaxis": {
            "backgroundcolor": "#E5ECF6",
            "gridcolor": "white",
            "gridwidth": 2,
            "linecolor": "white",
            "showbackground": true,
            "ticks": "",
            "zerolinecolor": "white"
           },
           "yaxis": {
            "backgroundcolor": "#E5ECF6",
            "gridcolor": "white",
            "gridwidth": 2,
            "linecolor": "white",
            "showbackground": true,
            "ticks": "",
            "zerolinecolor": "white"
           },
           "zaxis": {
            "backgroundcolor": "#E5ECF6",
            "gridcolor": "white",
            "gridwidth": 2,
            "linecolor": "white",
            "showbackground": true,
            "ticks": "",
            "zerolinecolor": "white"
           }
          },
          "shapedefaults": {
           "line": {
            "color": "#2a3f5f"
           }
          },
          "ternary": {
           "aaxis": {
            "gridcolor": "white",
            "linecolor": "white",
            "ticks": ""
           },
           "baxis": {
            "gridcolor": "white",
            "linecolor": "white",
            "ticks": ""
           },
           "bgcolor": "#E5ECF6",
           "caxis": {
            "gridcolor": "white",
            "linecolor": "white",
            "ticks": ""
           }
          },
          "title": {
           "x": 0.05
          },
          "xaxis": {
           "automargin": true,
           "gridcolor": "white",
           "linecolor": "white",
           "ticks": "",
           "title": {
            "standoff": 15
           },
           "zerolinecolor": "white",
           "zerolinewidth": 2
          },
          "yaxis": {
           "automargin": true,
           "gridcolor": "white",
           "linecolor": "white",
           "ticks": "",
           "title": {
            "standoff": 15
           },
           "zerolinecolor": "white",
           "zerolinewidth": 2
          }
         }
        },
        "title": {
         "text": "Binarization of image 0"
        },
        "xaxis": {
         "constrain": "domain",
         "scaleanchor": "y"
        },
        "yaxis": {
         "autorange": "reversed",
         "constrain": "domain"
        }
       }
      }
     },
     "metadata": {},
     "output_type": "display_data"
    }
   ],
   "source": [
    "from gtda.images import Binarizer\n",
    "\n",
    "\n",
    "im8_idx = np.flatnonzero(y_train == 8)[3]\n",
    "im8 = X_train[im8_idx][None, :, :]\n",
    "\n",
    "binarizer= Binarizer(threshold=0.4)\n",
    "im8_binarized= binarizer.fit_transform(im8)\n",
    "\n",
    "binarizer.plot(im8_binarized)"
   ]
  },
  {
   "cell_type": "code",
   "execution_count": 22,
   "metadata": {},
   "outputs": [
    {
     "data": {
      "application/vnd.plotly.v1+json": {
       "config": {
        "plotlyServerURL": "https://plot.ly"
       },
       "data": [
        {
         "colorscale": [
          [
           0,
           "rgb(0,0,131)"
          ],
          [
           0.2,
           "rgb(0,60,170)"
          ],
          [
           0.4,
           "rgb(5,255,255)"
          ],
          [
           0.6,
           "rgb(255,255,0)"
          ],
          [
           0.8,
           "rgb(250,0,0)"
          ],
          [
           1,
           "rgb(128,0,0)"
          ]
         ],
         "type": "heatmap",
         "z": [
          [
           30,
           30,
           30,
           30,
           30,
           30,
           30,
           30,
           30,
           30,
           30,
           30,
           30,
           30,
           30,
           30,
           30,
           30,
           30,
           30,
           30,
           30,
           30,
           30,
           30,
           30,
           30,
           30
          ],
          [
           30,
           30,
           30,
           30,
           30,
           30,
           30,
           30,
           30,
           30,
           30,
           30,
           30,
           30,
           30,
           30,
           30,
           30,
           30,
           30,
           30,
           30,
           30,
           30,
           30,
           30,
           30,
           30
          ],
          [
           30,
           30,
           30,
           30,
           30,
           30,
           30,
           30,
           30,
           30,
           30,
           30,
           30,
           30,
           30,
           30,
           30,
           30,
           30,
           30,
           30,
           30,
           30,
           30,
           30,
           30,
           30,
           30
          ],
          [
           30,
           30,
           30,
           30,
           30,
           30,
           30,
           30,
           30,
           30,
           30,
           30,
           30,
           30,
           30,
           30,
           30,
           30,
           30,
           30,
           30,
           30,
           30,
           30,
           30,
           30,
           30,
           30
          ],
          [
           30,
           30,
           30,
           30,
           30,
           30,
           30,
           30,
           30,
           30,
           30,
           30,
           30,
           30,
           30,
           30,
           30,
           30,
           30,
           30,
           30,
           30,
           30,
           30,
           30,
           30,
           30,
           30
          ],
          [
           30,
           30,
           30,
           30,
           30,
           30,
           30,
           30,
           30,
           30,
           30,
           30,
           30,
           30,
           30,
           30,
           30,
           3.1622776601683795,
           2.23606797749979,
           1.4142135623730951,
           1,
           1.4142135623730951,
           30,
           30,
           30,
           30,
           30,
           30
          ],
          [
           30,
           30,
           30,
           30,
           30,
           30,
           30,
           30,
           30,
           30,
           30,
           30,
           30,
           30,
           30,
           5,
           4,
           3,
           2,
           1,
           0,
           1,
           30,
           30,
           30,
           30,
           30,
           30
          ],
          [
           30,
           30,
           30,
           30,
           30,
           30,
           30,
           30,
           30,
           30,
           30,
           30,
           30,
           30,
           6.082762530298219,
           5.0990195135927845,
           4.123105625617661,
           3.1622776601683795,
           2.23606797749979,
           1.4142135623730951,
           1,
           1.4142135623730951,
           30,
           30,
           30,
           30,
           30,
           30
          ],
          [
           30,
           30,
           30,
           30,
           30,
           30,
           30,
           30,
           30,
           30,
           30,
           30,
           8.246211251235321,
           7.280109889280518,
           6.324555320336759,
           5.385164807134504,
           30,
           30,
           30,
           30,
           2,
           2.23606797749979,
           30,
           30,
           30,
           30,
           30,
           30
          ],
          [
           30,
           30,
           30,
           30,
           30,
           30,
           30,
           30,
           30,
           30,
           30,
           30,
           8.54400374531753,
           7.615773105863909,
           6.708203932499369,
           30,
           30,
           30,
           30,
           3.1622776601683795,
           3,
           3.1622776601683795,
           30,
           30,
           30,
           30,
           30,
           30
          ],
          [
           30,
           30,
           30,
           30,
           30,
           30,
           30,
           30,
           30,
           30,
           30,
           9.848857801796104,
           8.94427190999916,
           8.06225774829855,
           30,
           30,
           30,
           30,
           30,
           4.123105625617661,
           4,
           30,
           30,
           30,
           30,
           30,
           30,
           30
          ],
          [
           30,
           30,
           30,
           30,
           30,
           30,
           30,
           30,
           30,
           30,
           30,
           10.295630140987,
           9.433981132056603,
           30,
           30,
           30,
           30,
           30,
           5.385164807134504,
           5.0990195135927845,
           5,
           30,
           30,
           30,
           30,
           30,
           30,
           30
          ],
          [
           30,
           30,
           30,
           30,
           30,
           30,
           30,
           30,
           30,
           30,
           30,
           10.816653826391969,
           10,
           30,
           30,
           30,
           30,
           6.708203932499369,
           6.324555320336759,
           6.082762530298219,
           30,
           30,
           30,
           30,
           30,
           30,
           30,
           30
          ],
          [
           30,
           30,
           30,
           30,
           30,
           30,
           30,
           30,
           30,
           30,
           30,
           11.40175425099138,
           10.63014581273465,
           9.899494936611665,
           30,
           8.602325267042627,
           8.06225774829855,
           7.615773105863909,
           30,
           30,
           30,
           30,
           30,
           30,
           30,
           30,
           30,
           30
          ],
          [
           30,
           30,
           30,
           30,
           30,
           30,
           30,
           30,
           30,
           30,
           30,
           30,
           11.313708498984761,
           10.63014581273465,
           10,
           9.433981132056603,
           8.94427190999916,
           30,
           30,
           30,
           30,
           30,
           30,
           30,
           30,
           30,
           30,
           30
          ],
          [
           30,
           30,
           30,
           30,
           30,
           30,
           30,
           30,
           30,
           30,
           30,
           30,
           12.041594578792296,
           11.40175425099138,
           10.816653826391969,
           10.295630140987,
           30,
           30,
           30,
           30,
           30,
           30,
           30,
           30,
           30,
           30,
           30,
           30
          ],
          [
           30,
           30,
           30,
           30,
           30,
           30,
           30,
           30,
           30,
           30,
           30,
           13.45362404707371,
           12.806248474865697,
           12.206555615733702,
           11.661903789690601,
           11.180339887498949,
           30,
           30,
           30,
           30,
           30,
           30,
           30,
           30,
           30,
           30,
           30,
           30
          ],
          [
           30,
           30,
           30,
           30,
           30,
           30,
           30,
           30,
           30,
           30,
           14.866068747318506,
           14.212670403551895,
           13.601470508735444,
           30,
           12.529964086141668,
           12.083045973594572,
           11.704699910719626,
           30,
           30,
           30,
           30,
           30,
           30,
           30,
           30,
           30,
           30,
           30
          ],
          [
           30,
           30,
           30,
           30,
           30,
           30,
           30,
           30,
           16.97056274847714,
           16.278820596099706,
           15.620499351813308,
           15,
           30,
           30,
           30,
           13,
           12.649110640673518,
           30,
           30,
           30,
           30,
           30,
           30,
           30,
           30,
           30,
           30,
           30
          ],
          [
           30,
           30,
           30,
           30,
           30,
           30,
           30,
           18.384776310850235,
           17.69180601295413,
           17.029386365926403,
           30,
           30,
           30,
           30,
           30,
           13.92838827718412,
           13.601470508735444,
           30,
           30,
           30,
           30,
           30,
           30,
           30,
           30,
           30,
           30,
           30
          ],
          [
           30,
           30,
           30,
           30,
           30,
           30,
           30,
           19.1049731745428,
           18.439088914585774,
           30,
           30,
           30,
           30,
           30,
           30,
           14.866068747318506,
           14.560219778561036,
           30,
           30,
           30,
           30,
           30,
           30,
           30,
           30,
           30,
           30,
           30
          ],
          [
           30,
           30,
           30,
           30,
           30,
           30,
           20.518284528683193,
           19.849433241279208,
           30,
           30,
           30,
           30,
           30,
           30,
           30,
           15.811388300841896,
           15.524174696260024,
           30,
           30,
           30,
           30,
           30,
           30,
           30,
           30,
           30,
           30,
           30
          ],
          [
           30,
           30,
           30,
           30,
           30,
           30,
           21.2602916254693,
           20.615528128088304,
           20,
           30,
           30,
           30,
           30,
           17.46424919657298,
           17.08800749063506,
           16.76305461424021,
           30,
           30,
           30,
           30,
           30,
           30,
           30,
           30,
           30,
           30,
           30,
           30
          ],
          [
           30,
           30,
           30,
           30,
           30,
           30,
           22.02271554554524,
           21.400934559032695,
           20.808652046684813,
           20.248456731316587,
           19.72308292331602,
           19.235384061671343,
           18.788294228055936,
           18.384776310850235,
           18.027756377319946,
           30,
           30,
           30,
           30,
           30,
           30,
           30,
           30,
           30,
           30,
           30,
           30,
           30
          ],
          [
           30,
           30,
           30,
           30,
           30,
           30,
           30,
           22.20360331117452,
           21.633307652783937,
           21.095023109728988,
           20.591260281974,
           20.12461179749811,
           19.697715603592208,
           30,
           30,
           30,
           30,
           30,
           30,
           30,
           30,
           30,
           30,
           30,
           30,
           30,
           30,
           30
          ],
          [
           30,
           30,
           30,
           30,
           30,
           30,
           30,
           30,
           30,
           30,
           30,
           30,
           30,
           30,
           30,
           30,
           30,
           30,
           30,
           30,
           30,
           30,
           30,
           30,
           30,
           30,
           30,
           30
          ],
          [
           30,
           30,
           30,
           30,
           30,
           30,
           30,
           30,
           30,
           30,
           30,
           30,
           30,
           30,
           30,
           30,
           30,
           30,
           30,
           30,
           30,
           30,
           30,
           30,
           30,
           30,
           30,
           30
          ],
          [
           30,
           30,
           30,
           30,
           30,
           30,
           30,
           30,
           30,
           30,
           30,
           30,
           30,
           30,
           30,
           30,
           30,
           30,
           30,
           30,
           30,
           30,
           30,
           30,
           30,
           30,
           30,
           30
          ]
         ]
        }
       ],
       "layout": {
        "plot_bgcolor": "white",
        "template": {
         "data": {
          "bar": [
           {
            "error_x": {
             "color": "#2a3f5f"
            },
            "error_y": {
             "color": "#2a3f5f"
            },
            "marker": {
             "line": {
              "color": "#E5ECF6",
              "width": 0.5
             },
             "pattern": {
              "fillmode": "overlay",
              "size": 10,
              "solidity": 0.2
             }
            },
            "type": "bar"
           }
          ],
          "barpolar": [
           {
            "marker": {
             "line": {
              "color": "#E5ECF6",
              "width": 0.5
             },
             "pattern": {
              "fillmode": "overlay",
              "size": 10,
              "solidity": 0.2
             }
            },
            "type": "barpolar"
           }
          ],
          "carpet": [
           {
            "aaxis": {
             "endlinecolor": "#2a3f5f",
             "gridcolor": "white",
             "linecolor": "white",
             "minorgridcolor": "white",
             "startlinecolor": "#2a3f5f"
            },
            "baxis": {
             "endlinecolor": "#2a3f5f",
             "gridcolor": "white",
             "linecolor": "white",
             "minorgridcolor": "white",
             "startlinecolor": "#2a3f5f"
            },
            "type": "carpet"
           }
          ],
          "choropleth": [
           {
            "colorbar": {
             "outlinewidth": 0,
             "ticks": ""
            },
            "type": "choropleth"
           }
          ],
          "contour": [
           {
            "colorbar": {
             "outlinewidth": 0,
             "ticks": ""
            },
            "colorscale": [
             [
              0,
              "#0d0887"
             ],
             [
              0.1111111111111111,
              "#46039f"
             ],
             [
              0.2222222222222222,
              "#7201a8"
             ],
             [
              0.3333333333333333,
              "#9c179e"
             ],
             [
              0.4444444444444444,
              "#bd3786"
             ],
             [
              0.5555555555555556,
              "#d8576b"
             ],
             [
              0.6666666666666666,
              "#ed7953"
             ],
             [
              0.7777777777777778,
              "#fb9f3a"
             ],
             [
              0.8888888888888888,
              "#fdca26"
             ],
             [
              1,
              "#f0f921"
             ]
            ],
            "type": "contour"
           }
          ],
          "contourcarpet": [
           {
            "colorbar": {
             "outlinewidth": 0,
             "ticks": ""
            },
            "type": "contourcarpet"
           }
          ],
          "heatmap": [
           {
            "colorbar": {
             "outlinewidth": 0,
             "ticks": ""
            },
            "colorscale": [
             [
              0,
              "#0d0887"
             ],
             [
              0.1111111111111111,
              "#46039f"
             ],
             [
              0.2222222222222222,
              "#7201a8"
             ],
             [
              0.3333333333333333,
              "#9c179e"
             ],
             [
              0.4444444444444444,
              "#bd3786"
             ],
             [
              0.5555555555555556,
              "#d8576b"
             ],
             [
              0.6666666666666666,
              "#ed7953"
             ],
             [
              0.7777777777777778,
              "#fb9f3a"
             ],
             [
              0.8888888888888888,
              "#fdca26"
             ],
             [
              1,
              "#f0f921"
             ]
            ],
            "type": "heatmap"
           }
          ],
          "heatmapgl": [
           {
            "colorbar": {
             "outlinewidth": 0,
             "ticks": ""
            },
            "colorscale": [
             [
              0,
              "#0d0887"
             ],
             [
              0.1111111111111111,
              "#46039f"
             ],
             [
              0.2222222222222222,
              "#7201a8"
             ],
             [
              0.3333333333333333,
              "#9c179e"
             ],
             [
              0.4444444444444444,
              "#bd3786"
             ],
             [
              0.5555555555555556,
              "#d8576b"
             ],
             [
              0.6666666666666666,
              "#ed7953"
             ],
             [
              0.7777777777777778,
              "#fb9f3a"
             ],
             [
              0.8888888888888888,
              "#fdca26"
             ],
             [
              1,
              "#f0f921"
             ]
            ],
            "type": "heatmapgl"
           }
          ],
          "histogram": [
           {
            "marker": {
             "pattern": {
              "fillmode": "overlay",
              "size": 10,
              "solidity": 0.2
             }
            },
            "type": "histogram"
           }
          ],
          "histogram2d": [
           {
            "colorbar": {
             "outlinewidth": 0,
             "ticks": ""
            },
            "colorscale": [
             [
              0,
              "#0d0887"
             ],
             [
              0.1111111111111111,
              "#46039f"
             ],
             [
              0.2222222222222222,
              "#7201a8"
             ],
             [
              0.3333333333333333,
              "#9c179e"
             ],
             [
              0.4444444444444444,
              "#bd3786"
             ],
             [
              0.5555555555555556,
              "#d8576b"
             ],
             [
              0.6666666666666666,
              "#ed7953"
             ],
             [
              0.7777777777777778,
              "#fb9f3a"
             ],
             [
              0.8888888888888888,
              "#fdca26"
             ],
             [
              1,
              "#f0f921"
             ]
            ],
            "type": "histogram2d"
           }
          ],
          "histogram2dcontour": [
           {
            "colorbar": {
             "outlinewidth": 0,
             "ticks": ""
            },
            "colorscale": [
             [
              0,
              "#0d0887"
             ],
             [
              0.1111111111111111,
              "#46039f"
             ],
             [
              0.2222222222222222,
              "#7201a8"
             ],
             [
              0.3333333333333333,
              "#9c179e"
             ],
             [
              0.4444444444444444,
              "#bd3786"
             ],
             [
              0.5555555555555556,
              "#d8576b"
             ],
             [
              0.6666666666666666,
              "#ed7953"
             ],
             [
              0.7777777777777778,
              "#fb9f3a"
             ],
             [
              0.8888888888888888,
              "#fdca26"
             ],
             [
              1,
              "#f0f921"
             ]
            ],
            "type": "histogram2dcontour"
           }
          ],
          "mesh3d": [
           {
            "colorbar": {
             "outlinewidth": 0,
             "ticks": ""
            },
            "type": "mesh3d"
           }
          ],
          "parcoords": [
           {
            "line": {
             "colorbar": {
              "outlinewidth": 0,
              "ticks": ""
             }
            },
            "type": "parcoords"
           }
          ],
          "pie": [
           {
            "automargin": true,
            "type": "pie"
           }
          ],
          "scatter": [
           {
            "marker": {
             "colorbar": {
              "outlinewidth": 0,
              "ticks": ""
             }
            },
            "type": "scatter"
           }
          ],
          "scatter3d": [
           {
            "line": {
             "colorbar": {
              "outlinewidth": 0,
              "ticks": ""
             }
            },
            "marker": {
             "colorbar": {
              "outlinewidth": 0,
              "ticks": ""
             }
            },
            "type": "scatter3d"
           }
          ],
          "scattercarpet": [
           {
            "marker": {
             "colorbar": {
              "outlinewidth": 0,
              "ticks": ""
             }
            },
            "type": "scattercarpet"
           }
          ],
          "scattergeo": [
           {
            "marker": {
             "colorbar": {
              "outlinewidth": 0,
              "ticks": ""
             }
            },
            "type": "scattergeo"
           }
          ],
          "scattergl": [
           {
            "marker": {
             "colorbar": {
              "outlinewidth": 0,
              "ticks": ""
             }
            },
            "type": "scattergl"
           }
          ],
          "scattermapbox": [
           {
            "marker": {
             "colorbar": {
              "outlinewidth": 0,
              "ticks": ""
             }
            },
            "type": "scattermapbox"
           }
          ],
          "scatterpolar": [
           {
            "marker": {
             "colorbar": {
              "outlinewidth": 0,
              "ticks": ""
             }
            },
            "type": "scatterpolar"
           }
          ],
          "scatterpolargl": [
           {
            "marker": {
             "colorbar": {
              "outlinewidth": 0,
              "ticks": ""
             }
            },
            "type": "scatterpolargl"
           }
          ],
          "scatterternary": [
           {
            "marker": {
             "colorbar": {
              "outlinewidth": 0,
              "ticks": ""
             }
            },
            "type": "scatterternary"
           }
          ],
          "surface": [
           {
            "colorbar": {
             "outlinewidth": 0,
             "ticks": ""
            },
            "colorscale": [
             [
              0,
              "#0d0887"
             ],
             [
              0.1111111111111111,
              "#46039f"
             ],
             [
              0.2222222222222222,
              "#7201a8"
             ],
             [
              0.3333333333333333,
              "#9c179e"
             ],
             [
              0.4444444444444444,
              "#bd3786"
             ],
             [
              0.5555555555555556,
              "#d8576b"
             ],
             [
              0.6666666666666666,
              "#ed7953"
             ],
             [
              0.7777777777777778,
              "#fb9f3a"
             ],
             [
              0.8888888888888888,
              "#fdca26"
             ],
             [
              1,
              "#f0f921"
             ]
            ],
            "type": "surface"
           }
          ],
          "table": [
           {
            "cells": {
             "fill": {
              "color": "#EBF0F8"
             },
             "line": {
              "color": "white"
             }
            },
            "header": {
             "fill": {
              "color": "#C8D4E3"
             },
             "line": {
              "color": "white"
             }
            },
            "type": "table"
           }
          ]
         },
         "layout": {
          "annotationdefaults": {
           "arrowcolor": "#2a3f5f",
           "arrowhead": 0,
           "arrowwidth": 1
          },
          "autotypenumbers": "strict",
          "coloraxis": {
           "colorbar": {
            "outlinewidth": 0,
            "ticks": ""
           }
          },
          "colorscale": {
           "diverging": [
            [
             0,
             "#8e0152"
            ],
            [
             0.1,
             "#c51b7d"
            ],
            [
             0.2,
             "#de77ae"
            ],
            [
             0.3,
             "#f1b6da"
            ],
            [
             0.4,
             "#fde0ef"
            ],
            [
             0.5,
             "#f7f7f7"
            ],
            [
             0.6,
             "#e6f5d0"
            ],
            [
             0.7,
             "#b8e186"
            ],
            [
             0.8,
             "#7fbc41"
            ],
            [
             0.9,
             "#4d9221"
            ],
            [
             1,
             "#276419"
            ]
           ],
           "sequential": [
            [
             0,
             "#0d0887"
            ],
            [
             0.1111111111111111,
             "#46039f"
            ],
            [
             0.2222222222222222,
             "#7201a8"
            ],
            [
             0.3333333333333333,
             "#9c179e"
            ],
            [
             0.4444444444444444,
             "#bd3786"
            ],
            [
             0.5555555555555556,
             "#d8576b"
            ],
            [
             0.6666666666666666,
             "#ed7953"
            ],
            [
             0.7777777777777778,
             "#fb9f3a"
            ],
            [
             0.8888888888888888,
             "#fdca26"
            ],
            [
             1,
             "#f0f921"
            ]
           ],
           "sequentialminus": [
            [
             0,
             "#0d0887"
            ],
            [
             0.1111111111111111,
             "#46039f"
            ],
            [
             0.2222222222222222,
             "#7201a8"
            ],
            [
             0.3333333333333333,
             "#9c179e"
            ],
            [
             0.4444444444444444,
             "#bd3786"
            ],
            [
             0.5555555555555556,
             "#d8576b"
            ],
            [
             0.6666666666666666,
             "#ed7953"
            ],
            [
             0.7777777777777778,
             "#fb9f3a"
            ],
            [
             0.8888888888888888,
             "#fdca26"
            ],
            [
             1,
             "#f0f921"
            ]
           ]
          },
          "colorway": [
           "#636efa",
           "#EF553B",
           "#00cc96",
           "#ab63fa",
           "#FFA15A",
           "#19d3f3",
           "#FF6692",
           "#B6E880",
           "#FF97FF",
           "#FECB52"
          ],
          "font": {
           "color": "#2a3f5f"
          },
          "geo": {
           "bgcolor": "white",
           "lakecolor": "white",
           "landcolor": "#E5ECF6",
           "showlakes": true,
           "showland": true,
           "subunitcolor": "white"
          },
          "hoverlabel": {
           "align": "left"
          },
          "hovermode": "closest",
          "mapbox": {
           "style": "light"
          },
          "paper_bgcolor": "white",
          "plot_bgcolor": "#E5ECF6",
          "polar": {
           "angularaxis": {
            "gridcolor": "white",
            "linecolor": "white",
            "ticks": ""
           },
           "bgcolor": "#E5ECF6",
           "radialaxis": {
            "gridcolor": "white",
            "linecolor": "white",
            "ticks": ""
           }
          },
          "scene": {
           "xaxis": {
            "backgroundcolor": "#E5ECF6",
            "gridcolor": "white",
            "gridwidth": 2,
            "linecolor": "white",
            "showbackground": true,
            "ticks": "",
            "zerolinecolor": "white"
           },
           "yaxis": {
            "backgroundcolor": "#E5ECF6",
            "gridcolor": "white",
            "gridwidth": 2,
            "linecolor": "white",
            "showbackground": true,
            "ticks": "",
            "zerolinecolor": "white"
           },
           "zaxis": {
            "backgroundcolor": "#E5ECF6",
            "gridcolor": "white",
            "gridwidth": 2,
            "linecolor": "white",
            "showbackground": true,
            "ticks": "",
            "zerolinecolor": "white"
           }
          },
          "shapedefaults": {
           "line": {
            "color": "#2a3f5f"
           }
          },
          "ternary": {
           "aaxis": {
            "gridcolor": "white",
            "linecolor": "white",
            "ticks": ""
           },
           "baxis": {
            "gridcolor": "white",
            "linecolor": "white",
            "ticks": ""
           },
           "bgcolor": "#E5ECF6",
           "caxis": {
            "gridcolor": "white",
            "linecolor": "white",
            "ticks": ""
           }
          },
          "title": {
           "x": 0.05
          },
          "xaxis": {
           "automargin": true,
           "gridcolor": "white",
           "linecolor": "white",
           "ticks": "",
           "title": {
            "standoff": 15
           },
           "zerolinecolor": "white",
           "zerolinewidth": 2
          },
          "yaxis": {
           "automargin": true,
           "gridcolor": "white",
           "linecolor": "white",
           "ticks": "",
           "title": {
            "standoff": 15
           },
           "zerolinecolor": "white",
           "zerolinewidth": 2
          }
         }
        },
        "title": {
         "text": "Radial filtration of image 0"
        },
        "xaxis": {
         "constrain": "domain",
         "scaleanchor": "y"
        },
        "yaxis": {
         "autorange": "reversed",
         "constrain": "domain"
        }
       }
      }
     },
     "metadata": {},
     "output_type": "display_data"
    }
   ],
   "source": [
    "from gtda.images import RadialFiltration\n",
    "\n",
    "radial_filtration = RadialFiltration(center=np.array([20,6]))\n",
    "\n",
    "im8_filtration= radial_filtration.fit_transform(im8_binarized)\n",
    "\n",
    "radial_filtration.plot(im8_filtration, colorscale='jet')"
   ]
  },
  {
   "cell_type": "code",
   "execution_count": 23,
   "metadata": {},
   "outputs": [
    {
     "data": {
      "application/vnd.plotly.v1+json": {
       "config": {
        "plotlyServerURL": "https://plot.ly"
       },
       "data": [
        {
         "hoverinfo": "none",
         "line": {
          "color": "black",
          "dash": "dash",
          "width": 1
         },
         "mode": "lines",
         "showlegend": false,
         "type": "scatter",
         "x": [
          9.497484835343899,
          30.402010101267766
         ],
         "y": [
          9.497484835343899,
          30.402010101267766
         ]
        },
        {
         "hoverinfo": "text",
         "hovertext": [
          "(9.899494936611665, 10.0)"
         ],
         "mode": "markers",
         "name": "H0",
         "type": "scatter",
         "x": [
          9.899494936611665
         ],
         "y": [
          10
         ]
        },
        {
         "hoverinfo": "text",
         "hovertext": [
          "(10.0, 30.0)",
          "(20.248456731316587, 30.0)"
         ],
         "mode": "markers",
         "name": "H1",
         "type": "scatter",
         "x": [
          10,
          20.248456731316587
         ],
         "y": [
          30,
          30
         ]
        }
       ],
       "layout": {
        "height": 500,
        "plot_bgcolor": "white",
        "template": {
         "data": {
          "bar": [
           {
            "error_x": {
             "color": "#2a3f5f"
            },
            "error_y": {
             "color": "#2a3f5f"
            },
            "marker": {
             "line": {
              "color": "#E5ECF6",
              "width": 0.5
             },
             "pattern": {
              "fillmode": "overlay",
              "size": 10,
              "solidity": 0.2
             }
            },
            "type": "bar"
           }
          ],
          "barpolar": [
           {
            "marker": {
             "line": {
              "color": "#E5ECF6",
              "width": 0.5
             },
             "pattern": {
              "fillmode": "overlay",
              "size": 10,
              "solidity": 0.2
             }
            },
            "type": "barpolar"
           }
          ],
          "carpet": [
           {
            "aaxis": {
             "endlinecolor": "#2a3f5f",
             "gridcolor": "white",
             "linecolor": "white",
             "minorgridcolor": "white",
             "startlinecolor": "#2a3f5f"
            },
            "baxis": {
             "endlinecolor": "#2a3f5f",
             "gridcolor": "white",
             "linecolor": "white",
             "minorgridcolor": "white",
             "startlinecolor": "#2a3f5f"
            },
            "type": "carpet"
           }
          ],
          "choropleth": [
           {
            "colorbar": {
             "outlinewidth": 0,
             "ticks": ""
            },
            "type": "choropleth"
           }
          ],
          "contour": [
           {
            "colorbar": {
             "outlinewidth": 0,
             "ticks": ""
            },
            "colorscale": [
             [
              0,
              "#0d0887"
             ],
             [
              0.1111111111111111,
              "#46039f"
             ],
             [
              0.2222222222222222,
              "#7201a8"
             ],
             [
              0.3333333333333333,
              "#9c179e"
             ],
             [
              0.4444444444444444,
              "#bd3786"
             ],
             [
              0.5555555555555556,
              "#d8576b"
             ],
             [
              0.6666666666666666,
              "#ed7953"
             ],
             [
              0.7777777777777778,
              "#fb9f3a"
             ],
             [
              0.8888888888888888,
              "#fdca26"
             ],
             [
              1,
              "#f0f921"
             ]
            ],
            "type": "contour"
           }
          ],
          "contourcarpet": [
           {
            "colorbar": {
             "outlinewidth": 0,
             "ticks": ""
            },
            "type": "contourcarpet"
           }
          ],
          "heatmap": [
           {
            "colorbar": {
             "outlinewidth": 0,
             "ticks": ""
            },
            "colorscale": [
             [
              0,
              "#0d0887"
             ],
             [
              0.1111111111111111,
              "#46039f"
             ],
             [
              0.2222222222222222,
              "#7201a8"
             ],
             [
              0.3333333333333333,
              "#9c179e"
             ],
             [
              0.4444444444444444,
              "#bd3786"
             ],
             [
              0.5555555555555556,
              "#d8576b"
             ],
             [
              0.6666666666666666,
              "#ed7953"
             ],
             [
              0.7777777777777778,
              "#fb9f3a"
             ],
             [
              0.8888888888888888,
              "#fdca26"
             ],
             [
              1,
              "#f0f921"
             ]
            ],
            "type": "heatmap"
           }
          ],
          "heatmapgl": [
           {
            "colorbar": {
             "outlinewidth": 0,
             "ticks": ""
            },
            "colorscale": [
             [
              0,
              "#0d0887"
             ],
             [
              0.1111111111111111,
              "#46039f"
             ],
             [
              0.2222222222222222,
              "#7201a8"
             ],
             [
              0.3333333333333333,
              "#9c179e"
             ],
             [
              0.4444444444444444,
              "#bd3786"
             ],
             [
              0.5555555555555556,
              "#d8576b"
             ],
             [
              0.6666666666666666,
              "#ed7953"
             ],
             [
              0.7777777777777778,
              "#fb9f3a"
             ],
             [
              0.8888888888888888,
              "#fdca26"
             ],
             [
              1,
              "#f0f921"
             ]
            ],
            "type": "heatmapgl"
           }
          ],
          "histogram": [
           {
            "marker": {
             "pattern": {
              "fillmode": "overlay",
              "size": 10,
              "solidity": 0.2
             }
            },
            "type": "histogram"
           }
          ],
          "histogram2d": [
           {
            "colorbar": {
             "outlinewidth": 0,
             "ticks": ""
            },
            "colorscale": [
             [
              0,
              "#0d0887"
             ],
             [
              0.1111111111111111,
              "#46039f"
             ],
             [
              0.2222222222222222,
              "#7201a8"
             ],
             [
              0.3333333333333333,
              "#9c179e"
             ],
             [
              0.4444444444444444,
              "#bd3786"
             ],
             [
              0.5555555555555556,
              "#d8576b"
             ],
             [
              0.6666666666666666,
              "#ed7953"
             ],
             [
              0.7777777777777778,
              "#fb9f3a"
             ],
             [
              0.8888888888888888,
              "#fdca26"
             ],
             [
              1,
              "#f0f921"
             ]
            ],
            "type": "histogram2d"
           }
          ],
          "histogram2dcontour": [
           {
            "colorbar": {
             "outlinewidth": 0,
             "ticks": ""
            },
            "colorscale": [
             [
              0,
              "#0d0887"
             ],
             [
              0.1111111111111111,
              "#46039f"
             ],
             [
              0.2222222222222222,
              "#7201a8"
             ],
             [
              0.3333333333333333,
              "#9c179e"
             ],
             [
              0.4444444444444444,
              "#bd3786"
             ],
             [
              0.5555555555555556,
              "#d8576b"
             ],
             [
              0.6666666666666666,
              "#ed7953"
             ],
             [
              0.7777777777777778,
              "#fb9f3a"
             ],
             [
              0.8888888888888888,
              "#fdca26"
             ],
             [
              1,
              "#f0f921"
             ]
            ],
            "type": "histogram2dcontour"
           }
          ],
          "mesh3d": [
           {
            "colorbar": {
             "outlinewidth": 0,
             "ticks": ""
            },
            "type": "mesh3d"
           }
          ],
          "parcoords": [
           {
            "line": {
             "colorbar": {
              "outlinewidth": 0,
              "ticks": ""
             }
            },
            "type": "parcoords"
           }
          ],
          "pie": [
           {
            "automargin": true,
            "type": "pie"
           }
          ],
          "scatter": [
           {
            "marker": {
             "colorbar": {
              "outlinewidth": 0,
              "ticks": ""
             }
            },
            "type": "scatter"
           }
          ],
          "scatter3d": [
           {
            "line": {
             "colorbar": {
              "outlinewidth": 0,
              "ticks": ""
             }
            },
            "marker": {
             "colorbar": {
              "outlinewidth": 0,
              "ticks": ""
             }
            },
            "type": "scatter3d"
           }
          ],
          "scattercarpet": [
           {
            "marker": {
             "colorbar": {
              "outlinewidth": 0,
              "ticks": ""
             }
            },
            "type": "scattercarpet"
           }
          ],
          "scattergeo": [
           {
            "marker": {
             "colorbar": {
              "outlinewidth": 0,
              "ticks": ""
             }
            },
            "type": "scattergeo"
           }
          ],
          "scattergl": [
           {
            "marker": {
             "colorbar": {
              "outlinewidth": 0,
              "ticks": ""
             }
            },
            "type": "scattergl"
           }
          ],
          "scattermapbox": [
           {
            "marker": {
             "colorbar": {
              "outlinewidth": 0,
              "ticks": ""
             }
            },
            "type": "scattermapbox"
           }
          ],
          "scatterpolar": [
           {
            "marker": {
             "colorbar": {
              "outlinewidth": 0,
              "ticks": ""
             }
            },
            "type": "scatterpolar"
           }
          ],
          "scatterpolargl": [
           {
            "marker": {
             "colorbar": {
              "outlinewidth": 0,
              "ticks": ""
             }
            },
            "type": "scatterpolargl"
           }
          ],
          "scatterternary": [
           {
            "marker": {
             "colorbar": {
              "outlinewidth": 0,
              "ticks": ""
             }
            },
            "type": "scatterternary"
           }
          ],
          "surface": [
           {
            "colorbar": {
             "outlinewidth": 0,
             "ticks": ""
            },
            "colorscale": [
             [
              0,
              "#0d0887"
             ],
             [
              0.1111111111111111,
              "#46039f"
             ],
             [
              0.2222222222222222,
              "#7201a8"
             ],
             [
              0.3333333333333333,
              "#9c179e"
             ],
             [
              0.4444444444444444,
              "#bd3786"
             ],
             [
              0.5555555555555556,
              "#d8576b"
             ],
             [
              0.6666666666666666,
              "#ed7953"
             ],
             [
              0.7777777777777778,
              "#fb9f3a"
             ],
             [
              0.8888888888888888,
              "#fdca26"
             ],
             [
              1,
              "#f0f921"
             ]
            ],
            "type": "surface"
           }
          ],
          "table": [
           {
            "cells": {
             "fill": {
              "color": "#EBF0F8"
             },
             "line": {
              "color": "white"
             }
            },
            "header": {
             "fill": {
              "color": "#C8D4E3"
             },
             "line": {
              "color": "white"
             }
            },
            "type": "table"
           }
          ]
         },
         "layout": {
          "annotationdefaults": {
           "arrowcolor": "#2a3f5f",
           "arrowhead": 0,
           "arrowwidth": 1
          },
          "autotypenumbers": "strict",
          "coloraxis": {
           "colorbar": {
            "outlinewidth": 0,
            "ticks": ""
           }
          },
          "colorscale": {
           "diverging": [
            [
             0,
             "#8e0152"
            ],
            [
             0.1,
             "#c51b7d"
            ],
            [
             0.2,
             "#de77ae"
            ],
            [
             0.3,
             "#f1b6da"
            ],
            [
             0.4,
             "#fde0ef"
            ],
            [
             0.5,
             "#f7f7f7"
            ],
            [
             0.6,
             "#e6f5d0"
            ],
            [
             0.7,
             "#b8e186"
            ],
            [
             0.8,
             "#7fbc41"
            ],
            [
             0.9,
             "#4d9221"
            ],
            [
             1,
             "#276419"
            ]
           ],
           "sequential": [
            [
             0,
             "#0d0887"
            ],
            [
             0.1111111111111111,
             "#46039f"
            ],
            [
             0.2222222222222222,
             "#7201a8"
            ],
            [
             0.3333333333333333,
             "#9c179e"
            ],
            [
             0.4444444444444444,
             "#bd3786"
            ],
            [
             0.5555555555555556,
             "#d8576b"
            ],
            [
             0.6666666666666666,
             "#ed7953"
            ],
            [
             0.7777777777777778,
             "#fb9f3a"
            ],
            [
             0.8888888888888888,
             "#fdca26"
            ],
            [
             1,
             "#f0f921"
            ]
           ],
           "sequentialminus": [
            [
             0,
             "#0d0887"
            ],
            [
             0.1111111111111111,
             "#46039f"
            ],
            [
             0.2222222222222222,
             "#7201a8"
            ],
            [
             0.3333333333333333,
             "#9c179e"
            ],
            [
             0.4444444444444444,
             "#bd3786"
            ],
            [
             0.5555555555555556,
             "#d8576b"
            ],
            [
             0.6666666666666666,
             "#ed7953"
            ],
            [
             0.7777777777777778,
             "#fb9f3a"
            ],
            [
             0.8888888888888888,
             "#fdca26"
            ],
            [
             1,
             "#f0f921"
            ]
           ]
          },
          "colorway": [
           "#636efa",
           "#EF553B",
           "#00cc96",
           "#ab63fa",
           "#FFA15A",
           "#19d3f3",
           "#FF6692",
           "#B6E880",
           "#FF97FF",
           "#FECB52"
          ],
          "font": {
           "color": "#2a3f5f"
          },
          "geo": {
           "bgcolor": "white",
           "lakecolor": "white",
           "landcolor": "#E5ECF6",
           "showlakes": true,
           "showland": true,
           "subunitcolor": "white"
          },
          "hoverlabel": {
           "align": "left"
          },
          "hovermode": "closest",
          "mapbox": {
           "style": "light"
          },
          "paper_bgcolor": "white",
          "plot_bgcolor": "#E5ECF6",
          "polar": {
           "angularaxis": {
            "gridcolor": "white",
            "linecolor": "white",
            "ticks": ""
           },
           "bgcolor": "#E5ECF6",
           "radialaxis": {
            "gridcolor": "white",
            "linecolor": "white",
            "ticks": ""
           }
          },
          "scene": {
           "xaxis": {
            "backgroundcolor": "#E5ECF6",
            "gridcolor": "white",
            "gridwidth": 2,
            "linecolor": "white",
            "showbackground": true,
            "ticks": "",
            "zerolinecolor": "white"
           },
           "yaxis": {
            "backgroundcolor": "#E5ECF6",
            "gridcolor": "white",
            "gridwidth": 2,
            "linecolor": "white",
            "showbackground": true,
            "ticks": "",
            "zerolinecolor": "white"
           },
           "zaxis": {
            "backgroundcolor": "#E5ECF6",
            "gridcolor": "white",
            "gridwidth": 2,
            "linecolor": "white",
            "showbackground": true,
            "ticks": "",
            "zerolinecolor": "white"
           }
          },
          "shapedefaults": {
           "line": {
            "color": "#2a3f5f"
           }
          },
          "ternary": {
           "aaxis": {
            "gridcolor": "white",
            "linecolor": "white",
            "ticks": ""
           },
           "baxis": {
            "gridcolor": "white",
            "linecolor": "white",
            "ticks": ""
           },
           "bgcolor": "#E5ECF6",
           "caxis": {
            "gridcolor": "white",
            "linecolor": "white",
            "ticks": ""
           }
          },
          "title": {
           "x": 0.05
          },
          "xaxis": {
           "automargin": true,
           "gridcolor": "white",
           "linecolor": "white",
           "ticks": "",
           "title": {
            "standoff": 15
           },
           "zerolinecolor": "white",
           "zerolinewidth": 2
          },
          "yaxis": {
           "automargin": true,
           "gridcolor": "white",
           "linecolor": "white",
           "ticks": "",
           "title": {
            "standoff": 15
           },
           "zerolinecolor": "white",
           "zerolinewidth": 2
          }
         }
        },
        "width": 500,
        "xaxis": {
         "autorange": false,
         "exponentformat": "e",
         "linecolor": "black",
         "linewidth": 1,
         "mirror": false,
         "range": [
          9.497484835343899,
          30.402010101267766
         ],
         "showexponent": "all",
         "showline": true,
         "side": "bottom",
         "ticks": "outside",
         "title": {
          "text": "Birth"
         },
         "type": "linear",
         "zeroline": true
        },
        "yaxis": {
         "autorange": false,
         "exponentformat": "e",
         "linecolor": "black",
         "linewidth": 1,
         "mirror": false,
         "range": [
          9.497484835343899,
          30.402010101267766
         ],
         "scaleanchor": "x",
         "scaleratio": 1,
         "showexponent": "all",
         "showline": true,
         "side": "left",
         "ticks": "outside",
         "title": {
          "text": "Death"
         },
         "type": "linear",
         "zeroline": true
        }
       }
      }
     },
     "metadata": {},
     "output_type": "display_data"
    }
   ],
   "source": [
    "from gtda.homology import CubicalPersistence\n",
    "\n",
    "cubical_persistence = CubicalPersistence(homology_dimensions=[0,1],reduced_homology = True, n_jobs=-1)\n",
    "im8_cubical = cubical_persistence.fit_transform(im8_filtration)\n",
    "\n",
    "cubical_persistence.plot(im8_cubical)"
   ]
  },
  {
   "cell_type": "code",
   "execution_count": 24,
   "metadata": {},
   "outputs": [
    {
     "data": {
      "application/vnd.plotly.v1+json": {
       "config": {
        "plotlyServerURL": "https://plot.ly"
       },
       "data": [
        {
         "hoverinfo": "none",
         "line": {
          "color": "black",
          "dash": "dash",
          "width": 1
         },
         "mode": "lines",
         "showlegend": false,
         "type": "scatter",
         "x": [
          0.9497484835343899,
          3.0402010101267765
         ],
         "y": [
          0.9497484835343899,
          3.0402010101267765
         ]
        },
        {
         "hoverinfo": "text",
         "hovertext": [
          "(0.9899494936611666, 1.0)"
         ],
         "mode": "markers",
         "name": "H0",
         "type": "scatter",
         "x": [
          0.9899494936611666
         ],
         "y": [
          1
         ]
        },
        {
         "hoverinfo": "text",
         "hovertext": [
          "(1.0, 3.0)",
          "(2.024845673131659, 3.0)"
         ],
         "mode": "markers",
         "name": "H1",
         "type": "scatter",
         "x": [
          1,
          2.024845673131659
         ],
         "y": [
          3,
          3
         ]
        }
       ],
       "layout": {
        "height": 500,
        "plot_bgcolor": "white",
        "template": {
         "data": {
          "bar": [
           {
            "error_x": {
             "color": "#2a3f5f"
            },
            "error_y": {
             "color": "#2a3f5f"
            },
            "marker": {
             "line": {
              "color": "#E5ECF6",
              "width": 0.5
             },
             "pattern": {
              "fillmode": "overlay",
              "size": 10,
              "solidity": 0.2
             }
            },
            "type": "bar"
           }
          ],
          "barpolar": [
           {
            "marker": {
             "line": {
              "color": "#E5ECF6",
              "width": 0.5
             },
             "pattern": {
              "fillmode": "overlay",
              "size": 10,
              "solidity": 0.2
             }
            },
            "type": "barpolar"
           }
          ],
          "carpet": [
           {
            "aaxis": {
             "endlinecolor": "#2a3f5f",
             "gridcolor": "white",
             "linecolor": "white",
             "minorgridcolor": "white",
             "startlinecolor": "#2a3f5f"
            },
            "baxis": {
             "endlinecolor": "#2a3f5f",
             "gridcolor": "white",
             "linecolor": "white",
             "minorgridcolor": "white",
             "startlinecolor": "#2a3f5f"
            },
            "type": "carpet"
           }
          ],
          "choropleth": [
           {
            "colorbar": {
             "outlinewidth": 0,
             "ticks": ""
            },
            "type": "choropleth"
           }
          ],
          "contour": [
           {
            "colorbar": {
             "outlinewidth": 0,
             "ticks": ""
            },
            "colorscale": [
             [
              0,
              "#0d0887"
             ],
             [
              0.1111111111111111,
              "#46039f"
             ],
             [
              0.2222222222222222,
              "#7201a8"
             ],
             [
              0.3333333333333333,
              "#9c179e"
             ],
             [
              0.4444444444444444,
              "#bd3786"
             ],
             [
              0.5555555555555556,
              "#d8576b"
             ],
             [
              0.6666666666666666,
              "#ed7953"
             ],
             [
              0.7777777777777778,
              "#fb9f3a"
             ],
             [
              0.8888888888888888,
              "#fdca26"
             ],
             [
              1,
              "#f0f921"
             ]
            ],
            "type": "contour"
           }
          ],
          "contourcarpet": [
           {
            "colorbar": {
             "outlinewidth": 0,
             "ticks": ""
            },
            "type": "contourcarpet"
           }
          ],
          "heatmap": [
           {
            "colorbar": {
             "outlinewidth": 0,
             "ticks": ""
            },
            "colorscale": [
             [
              0,
              "#0d0887"
             ],
             [
              0.1111111111111111,
              "#46039f"
             ],
             [
              0.2222222222222222,
              "#7201a8"
             ],
             [
              0.3333333333333333,
              "#9c179e"
             ],
             [
              0.4444444444444444,
              "#bd3786"
             ],
             [
              0.5555555555555556,
              "#d8576b"
             ],
             [
              0.6666666666666666,
              "#ed7953"
             ],
             [
              0.7777777777777778,
              "#fb9f3a"
             ],
             [
              0.8888888888888888,
              "#fdca26"
             ],
             [
              1,
              "#f0f921"
             ]
            ],
            "type": "heatmap"
           }
          ],
          "heatmapgl": [
           {
            "colorbar": {
             "outlinewidth": 0,
             "ticks": ""
            },
            "colorscale": [
             [
              0,
              "#0d0887"
             ],
             [
              0.1111111111111111,
              "#46039f"
             ],
             [
              0.2222222222222222,
              "#7201a8"
             ],
             [
              0.3333333333333333,
              "#9c179e"
             ],
             [
              0.4444444444444444,
              "#bd3786"
             ],
             [
              0.5555555555555556,
              "#d8576b"
             ],
             [
              0.6666666666666666,
              "#ed7953"
             ],
             [
              0.7777777777777778,
              "#fb9f3a"
             ],
             [
              0.8888888888888888,
              "#fdca26"
             ],
             [
              1,
              "#f0f921"
             ]
            ],
            "type": "heatmapgl"
           }
          ],
          "histogram": [
           {
            "marker": {
             "pattern": {
              "fillmode": "overlay",
              "size": 10,
              "solidity": 0.2
             }
            },
            "type": "histogram"
           }
          ],
          "histogram2d": [
           {
            "colorbar": {
             "outlinewidth": 0,
             "ticks": ""
            },
            "colorscale": [
             [
              0,
              "#0d0887"
             ],
             [
              0.1111111111111111,
              "#46039f"
             ],
             [
              0.2222222222222222,
              "#7201a8"
             ],
             [
              0.3333333333333333,
              "#9c179e"
             ],
             [
              0.4444444444444444,
              "#bd3786"
             ],
             [
              0.5555555555555556,
              "#d8576b"
             ],
             [
              0.6666666666666666,
              "#ed7953"
             ],
             [
              0.7777777777777778,
              "#fb9f3a"
             ],
             [
              0.8888888888888888,
              "#fdca26"
             ],
             [
              1,
              "#f0f921"
             ]
            ],
            "type": "histogram2d"
           }
          ],
          "histogram2dcontour": [
           {
            "colorbar": {
             "outlinewidth": 0,
             "ticks": ""
            },
            "colorscale": [
             [
              0,
              "#0d0887"
             ],
             [
              0.1111111111111111,
              "#46039f"
             ],
             [
              0.2222222222222222,
              "#7201a8"
             ],
             [
              0.3333333333333333,
              "#9c179e"
             ],
             [
              0.4444444444444444,
              "#bd3786"
             ],
             [
              0.5555555555555556,
              "#d8576b"
             ],
             [
              0.6666666666666666,
              "#ed7953"
             ],
             [
              0.7777777777777778,
              "#fb9f3a"
             ],
             [
              0.8888888888888888,
              "#fdca26"
             ],
             [
              1,
              "#f0f921"
             ]
            ],
            "type": "histogram2dcontour"
           }
          ],
          "mesh3d": [
           {
            "colorbar": {
             "outlinewidth": 0,
             "ticks": ""
            },
            "type": "mesh3d"
           }
          ],
          "parcoords": [
           {
            "line": {
             "colorbar": {
              "outlinewidth": 0,
              "ticks": ""
             }
            },
            "type": "parcoords"
           }
          ],
          "pie": [
           {
            "automargin": true,
            "type": "pie"
           }
          ],
          "scatter": [
           {
            "marker": {
             "colorbar": {
              "outlinewidth": 0,
              "ticks": ""
             }
            },
            "type": "scatter"
           }
          ],
          "scatter3d": [
           {
            "line": {
             "colorbar": {
              "outlinewidth": 0,
              "ticks": ""
             }
            },
            "marker": {
             "colorbar": {
              "outlinewidth": 0,
              "ticks": ""
             }
            },
            "type": "scatter3d"
           }
          ],
          "scattercarpet": [
           {
            "marker": {
             "colorbar": {
              "outlinewidth": 0,
              "ticks": ""
             }
            },
            "type": "scattercarpet"
           }
          ],
          "scattergeo": [
           {
            "marker": {
             "colorbar": {
              "outlinewidth": 0,
              "ticks": ""
             }
            },
            "type": "scattergeo"
           }
          ],
          "scattergl": [
           {
            "marker": {
             "colorbar": {
              "outlinewidth": 0,
              "ticks": ""
             }
            },
            "type": "scattergl"
           }
          ],
          "scattermapbox": [
           {
            "marker": {
             "colorbar": {
              "outlinewidth": 0,
              "ticks": ""
             }
            },
            "type": "scattermapbox"
           }
          ],
          "scatterpolar": [
           {
            "marker": {
             "colorbar": {
              "outlinewidth": 0,
              "ticks": ""
             }
            },
            "type": "scatterpolar"
           }
          ],
          "scatterpolargl": [
           {
            "marker": {
             "colorbar": {
              "outlinewidth": 0,
              "ticks": ""
             }
            },
            "type": "scatterpolargl"
           }
          ],
          "scatterternary": [
           {
            "marker": {
             "colorbar": {
              "outlinewidth": 0,
              "ticks": ""
             }
            },
            "type": "scatterternary"
           }
          ],
          "surface": [
           {
            "colorbar": {
             "outlinewidth": 0,
             "ticks": ""
            },
            "colorscale": [
             [
              0,
              "#0d0887"
             ],
             [
              0.1111111111111111,
              "#46039f"
             ],
             [
              0.2222222222222222,
              "#7201a8"
             ],
             [
              0.3333333333333333,
              "#9c179e"
             ],
             [
              0.4444444444444444,
              "#bd3786"
             ],
             [
              0.5555555555555556,
              "#d8576b"
             ],
             [
              0.6666666666666666,
              "#ed7953"
             ],
             [
              0.7777777777777778,
              "#fb9f3a"
             ],
             [
              0.8888888888888888,
              "#fdca26"
             ],
             [
              1,
              "#f0f921"
             ]
            ],
            "type": "surface"
           }
          ],
          "table": [
           {
            "cells": {
             "fill": {
              "color": "#EBF0F8"
             },
             "line": {
              "color": "white"
             }
            },
            "header": {
             "fill": {
              "color": "#C8D4E3"
             },
             "line": {
              "color": "white"
             }
            },
            "type": "table"
           }
          ]
         },
         "layout": {
          "annotationdefaults": {
           "arrowcolor": "#2a3f5f",
           "arrowhead": 0,
           "arrowwidth": 1
          },
          "autotypenumbers": "strict",
          "coloraxis": {
           "colorbar": {
            "outlinewidth": 0,
            "ticks": ""
           }
          },
          "colorscale": {
           "diverging": [
            [
             0,
             "#8e0152"
            ],
            [
             0.1,
             "#c51b7d"
            ],
            [
             0.2,
             "#de77ae"
            ],
            [
             0.3,
             "#f1b6da"
            ],
            [
             0.4,
             "#fde0ef"
            ],
            [
             0.5,
             "#f7f7f7"
            ],
            [
             0.6,
             "#e6f5d0"
            ],
            [
             0.7,
             "#b8e186"
            ],
            [
             0.8,
             "#7fbc41"
            ],
            [
             0.9,
             "#4d9221"
            ],
            [
             1,
             "#276419"
            ]
           ],
           "sequential": [
            [
             0,
             "#0d0887"
            ],
            [
             0.1111111111111111,
             "#46039f"
            ],
            [
             0.2222222222222222,
             "#7201a8"
            ],
            [
             0.3333333333333333,
             "#9c179e"
            ],
            [
             0.4444444444444444,
             "#bd3786"
            ],
            [
             0.5555555555555556,
             "#d8576b"
            ],
            [
             0.6666666666666666,
             "#ed7953"
            ],
            [
             0.7777777777777778,
             "#fb9f3a"
            ],
            [
             0.8888888888888888,
             "#fdca26"
            ],
            [
             1,
             "#f0f921"
            ]
           ],
           "sequentialminus": [
            [
             0,
             "#0d0887"
            ],
            [
             0.1111111111111111,
             "#46039f"
            ],
            [
             0.2222222222222222,
             "#7201a8"
            ],
            [
             0.3333333333333333,
             "#9c179e"
            ],
            [
             0.4444444444444444,
             "#bd3786"
            ],
            [
             0.5555555555555556,
             "#d8576b"
            ],
            [
             0.6666666666666666,
             "#ed7953"
            ],
            [
             0.7777777777777778,
             "#fb9f3a"
            ],
            [
             0.8888888888888888,
             "#fdca26"
            ],
            [
             1,
             "#f0f921"
            ]
           ]
          },
          "colorway": [
           "#636efa",
           "#EF553B",
           "#00cc96",
           "#ab63fa",
           "#FFA15A",
           "#19d3f3",
           "#FF6692",
           "#B6E880",
           "#FF97FF",
           "#FECB52"
          ],
          "font": {
           "color": "#2a3f5f"
          },
          "geo": {
           "bgcolor": "white",
           "lakecolor": "white",
           "landcolor": "#E5ECF6",
           "showlakes": true,
           "showland": true,
           "subunitcolor": "white"
          },
          "hoverlabel": {
           "align": "left"
          },
          "hovermode": "closest",
          "mapbox": {
           "style": "light"
          },
          "paper_bgcolor": "white",
          "plot_bgcolor": "#E5ECF6",
          "polar": {
           "angularaxis": {
            "gridcolor": "white",
            "linecolor": "white",
            "ticks": ""
           },
           "bgcolor": "#E5ECF6",
           "radialaxis": {
            "gridcolor": "white",
            "linecolor": "white",
            "ticks": ""
           }
          },
          "scene": {
           "xaxis": {
            "backgroundcolor": "#E5ECF6",
            "gridcolor": "white",
            "gridwidth": 2,
            "linecolor": "white",
            "showbackground": true,
            "ticks": "",
            "zerolinecolor": "white"
           },
           "yaxis": {
            "backgroundcolor": "#E5ECF6",
            "gridcolor": "white",
            "gridwidth": 2,
            "linecolor": "white",
            "showbackground": true,
            "ticks": "",
            "zerolinecolor": "white"
           },
           "zaxis": {
            "backgroundcolor": "#E5ECF6",
            "gridcolor": "white",
            "gridwidth": 2,
            "linecolor": "white",
            "showbackground": true,
            "ticks": "",
            "zerolinecolor": "white"
           }
          },
          "shapedefaults": {
           "line": {
            "color": "#2a3f5f"
           }
          },
          "ternary": {
           "aaxis": {
            "gridcolor": "white",
            "linecolor": "white",
            "ticks": ""
           },
           "baxis": {
            "gridcolor": "white",
            "linecolor": "white",
            "ticks": ""
           },
           "bgcolor": "#E5ECF6",
           "caxis": {
            "gridcolor": "white",
            "linecolor": "white",
            "ticks": ""
           }
          },
          "title": {
           "x": 0.05
          },
          "xaxis": {
           "automargin": true,
           "gridcolor": "white",
           "linecolor": "white",
           "ticks": "",
           "title": {
            "standoff": 15
           },
           "zerolinecolor": "white",
           "zerolinewidth": 2
          },
          "yaxis": {
           "automargin": true,
           "gridcolor": "white",
           "linecolor": "white",
           "ticks": "",
           "title": {
            "standoff": 15
           },
           "zerolinecolor": "white",
           "zerolinewidth": 2
          }
         }
        },
        "width": 500,
        "xaxis": {
         "autorange": false,
         "exponentformat": "e",
         "linecolor": "black",
         "linewidth": 1,
         "mirror": false,
         "range": [
          0.9497484835343899,
          3.0402010101267765
         ],
         "showexponent": "all",
         "showline": true,
         "side": "bottom",
         "ticks": "outside",
         "title": {
          "text": "Birth"
         },
         "type": "linear",
         "zeroline": true
        },
        "yaxis": {
         "autorange": false,
         "exponentformat": "e",
         "linecolor": "black",
         "linewidth": 1,
         "mirror": false,
         "range": [
          0.9497484835343899,
          3.0402010101267765
         ],
         "scaleanchor": "x",
         "scaleratio": 1,
         "showexponent": "all",
         "showline": true,
         "side": "left",
         "ticks": "outside",
         "title": {
          "text": "Death"
         },
         "type": "linear",
         "zeroline": true
        }
       }
      }
     },
     "metadata": {},
     "output_type": "display_data"
    }
   ],
   "source": [
    "from gtda.diagrams import Scaler\n",
    "\n",
    "scaler = Scaler()\n",
    "im8_scaled = scaler.fit_transform(im8_cubical)\n",
    "\n",
    "scaler.plot(im8_scaled)"
   ]
  },
  {
   "cell_type": "code",
   "execution_count": 26,
   "metadata": {},
   "outputs": [
    {
     "data": {
      "application/vnd.plotly.v1+json": {
       "config": {
        "plotlyServerURL": "https://plot.ly"
       },
       "data": [
        {
         "colorscale": [
          [
           0,
           "rgb(0,0,131)"
          ],
          [
           0.2,
           "rgb(0,60,170)"
          ],
          [
           0.4,
           "rgb(5,255,255)"
          ],
          [
           0.6,
           "rgb(255,255,0)"
          ],
          [
           0.8,
           "rgb(250,0,0)"
          ],
          [
           1,
           "rgb(128,0,0)"
          ]
         ],
         "type": "heatmap",
         "x": [
          1,
          1.0338983050847457,
          1.0677966101694916,
          1.1016949152542372,
          1.1355932203389831,
          1.1694915254237288,
          1.2033898305084745,
          1.2372881355932204,
          1.271186440677966,
          1.305084745762712,
          1.3389830508474576,
          1.3728813559322033,
          1.4067796610169492,
          1.4406779661016949,
          1.4745762711864407,
          1.5084745762711864,
          1.542372881355932,
          1.576271186440678,
          1.6101694915254239,
          1.6440677966101696,
          1.6779661016949152,
          1.711864406779661,
          1.7457627118644068,
          1.7796610169491527,
          1.8135593220338984,
          1.847457627118644,
          1.8813559322033897,
          1.9152542372881356,
          1.9491525423728815,
          1.9830508474576272,
          2.016949152542373,
          2.0508474576271185,
          2.084745762711864,
          2.11864406779661,
          2.152542372881356,
          2.1864406779661016,
          2.2203389830508478,
          2.2542372881355934,
          2.288135593220339,
          2.3220338983050848,
          2.3559322033898304,
          2.389830508474576,
          2.423728813559322,
          2.4576271186440675,
          2.4915254237288136,
          2.5254237288135593,
          2.5593220338983054,
          2.593220338983051,
          2.6271186440677967,
          2.6610169491525424,
          2.694915254237288,
          2.7288135593220337,
          2.7627118644067794,
          2.7966101694915255,
          2.830508474576271,
          2.864406779661017,
          2.898305084745763,
          2.9322033898305087,
          2.9661016949152543,
          3
         ],
         "y": [
          3,
          2.9661016949152543,
          2.9322033898305087,
          2.898305084745763,
          2.864406779661017,
          2.830508474576271,
          2.7966101694915255,
          2.7627118644067794,
          2.7288135593220337,
          2.694915254237288,
          2.6610169491525424,
          2.6271186440677967,
          2.593220338983051,
          2.5593220338983054,
          2.5254237288135593,
          2.4915254237288136,
          2.4576271186440675,
          2.423728813559322,
          2.389830508474576,
          2.3559322033898304,
          2.3220338983050848,
          2.288135593220339,
          2.2542372881355934,
          2.2203389830508478,
          2.1864406779661016,
          2.152542372881356,
          2.11864406779661,
          2.084745762711864,
          2.0508474576271185,
          2.016949152542373,
          1.9830508474576272,
          1.9491525423728815,
          1.9152542372881356,
          1.8813559322033897,
          1.847457627118644,
          1.8135593220338984,
          1.7796610169491527,
          1.7457627118644068,
          1.711864406779661,
          1.6779661016949152,
          1.6440677966101696,
          1.6101694915254239,
          1.576271186440678,
          1.542372881355932,
          1.5084745762711864,
          1.4745762711864407,
          1.4406779661016949,
          1.4067796610169492,
          1.3728813559322033,
          1.3389830508474576,
          1.305084745762712,
          1.271186440677966,
          1.2372881355932204,
          1.2033898305084745,
          1.1694915254237288,
          1.1355932203389831,
          1.1016949152542372,
          1.0677966101694916,
          1.0338983050847457,
          1
         ],
         "z": [
          [
           7.073948273125358,
           6.895598655866894,
           6.387078677840001,
           5.621506907549483,
           4.701359095827557,
           3.736063879979244,
           2.8211446544029455,
           2.0242148668860986,
           1.3800920632536338,
           0.8940868336085559,
           0.5503912661651046,
           0.32194639100185535,
           0.18074867235632175,
           0.09892036762976937,
           0.05767683062399308,
           0.045233854504889766,
           0.05767683062399308,
           0.09892036762976937,
           0.18074867235632175,
           0.32194639100185535,
           0.5503912661651046,
           0.8940868336085559,
           1.3800920632536338,
           2.0242148668860986,
           2.8211446544029455,
           3.736063879979244,
           4.701359095827557,
           5.621506907549483,
           6.387078677840001,
           6.895598655866894,
           7.073948273125358,
           6.895598655866894,
           6.387078677840001,
           5.621506907549483,
           4.701359095827557,
           3.736063879979244,
           2.8211446544029455,
           2.0242148668860986,
           1.3800920632536338,
           0.8940868336085559,
           0.5503912661651046,
           0.32194639100185535,
           0.17894343979444027,
           0.09450791780809523,
           0.04742865418612205,
           0.022616927252444883,
           0.010248176437871022,
           0.00441244982167413,
           0.0018052325618814968,
           0,
           0,
           0,
           0,
           0,
           0,
           0,
           0,
           0,
           0,
           0
          ],
          [
           6.895598655866894,
           6.721745620255356,
           6.226046536578783,
           5.479776495244064,
           4.582827610586007,
           3.641869586026189,
           2.7500174634882137,
           1.9731800087249822,
           1.3452969415253855,
           0.8715449604688097,
           0.5365147055976666,
           0.31382942245812634,
           0.17619160531397499,
           0.09642637007357274,
           0.05622267231390896,
           0.044093410678247555,
           0.05622267231390896,
           0.09642637007357274,
           0.17619160531397499,
           0.31382942245812634,
           0.5365147055976666,
           0.8715449604688097,
           1.3452969415253855,
           1.9731800087249822,
           2.7500174634882137,
           3.641869586026189,
           4.582827610586007,
           5.479776495244064,
           6.226046536578783,
           6.721745620255356,
           6.895598655866894,
           6.721745620255356,
           6.226046536578783,
           5.479776495244064,
           4.582827610586007,
           3.641869586026189,
           2.7500174634882137,
           1.9731800087249822,
           1.3452969415253855,
           0.8715449604688097,
           0.5365147055976666,
           0.31382942245812634,
           0.17443188659019962,
           0.09212516770614669,
           0.04623287468723667,
           0.022046705339123777,
           0.009989797626672282,
           0.004301202367426055,
           0.0017597187237753788,
           0,
           0,
           0,
           0,
           0,
           0,
           0,
           0,
           0,
           0,
           0
          ],
          [
           6.387078677840001,
           6.226046536578783,
           5.766903073337676,
           5.075667155066191,
           4.244864293383165,
           3.373297771701241,
           2.5472158084184566,
           1.82766668859777,
           1.2460872274330372,
           0.8072723648226046,
           0.496949113120862,
           0.2906858871427671,
           0.1631982517656859,
           0.08931535070626856,
           0.052076498280802054,
           0.04084171617741464,
           0.052076498280802054,
           0.08931535070626856,
           0.1631982517656859,
           0.2906858871427671,
           0.496949113120862,
           0.8072723648226046,
           1.2460872274330372,
           1.82766668859777,
           2.5472158084184566,
           3.373297771701241,
           4.244864293383165,
           5.075667155066191,
           5.766903073337676,
           6.226046536578783,
           6.387078677840001,
           6.226046536578783,
           5.766903073337676,
           5.075667155066191,
           4.244864293383165,
           3.373297771701241,
           2.5472158084184566,
           1.82766668859777,
           1.2460872274330372,
           0.8072723648226046,
           0.496949113120862,
           0.2906858871427671,
           0.16156830453404722,
           0.08533134303687089,
           0.042823404154889104,
           0.02042085808870732,
           0.009253094125912948,
           0.003984007669397659,
           0.0016299472316386645,
           0,
           0,
           0,
           0,
           0,
           0,
           0,
           0,
           0,
           0,
           0
          ],
          [
           5.621506907549483,
           5.479776495244064,
           5.075667155066191,
           4.467284561817228,
           3.736063879979244,
           2.96896557586367,
           2.24189993333323,
           1.6085978321038976,
           1.096727989390125,
           0.710510611192092,
           0.4373835070799947,
           0.25584352486054496,
           0.1436368872022504,
           0.07860978175945851,
           0.04583447450275028,
           0.0359463224406617,
           0.04583447450275028,
           0.07860978175945851,
           0.1436368872022504,
           0.25584352486054496,
           0.4373835070799947,
           0.710510611192092,
           1.096727989390125,
           1.6085978321038976,
           2.24189993333323,
           2.96896557586367,
           3.736063879979244,
           4.467284561817228,
           5.075667155066191,
           5.479776495244064,
           5.621506907549483,
           5.479776495244064,
           5.075667155066191,
           4.467284561817228,
           3.736063879979244,
           2.96896557586367,
           2.24189993333323,
           1.6085978321038976,
           1.096727989390125,
           0.710510611192092,
           0.4373835070799947,
           0.25584352486054496,
           0.14220230966159975,
           0.07510330755381696,
           0.03769048017158663,
           0.01797316122033085,
           0.00814399433116365,
           0.0035064742056415436,
           0.0014345775406506493,
           0,
           0,
           0,
           0,
           0,
           0,
           0,
           0,
           0,
           0,
           0
          ],
          [
           4.701359095827557,
           4.582827610586007,
           4.244864293383165,
           3.736063879979244,
           3.124531943764867,
           2.4829949593302527,
           1.8749379511313167,
           1.3452969415253857,
           0.9172117358147257,
           0.5942117619964047,
           0.36579105268268125,
           0.21396616645554106,
           0.12012590169332857,
           0.06574265914349875,
           0.03833212822643578,
           0.030062503301561138,
           0.03833212822643578,
           0.06574265914349875,
           0.12012590169332857,
           0.21396616645554106,
           0.36579105268268125,
           0.5942117619964047,
           0.9172117358147257,
           1.3452969415253857,
           1.8749379511313167,
           2.4829949593302527,
           3.124531943764867,
           3.736063879979244,
           4.244864293383165,
           4.582827610586007,
           4.701359095827557,
           4.582827610586007,
           4.244864293383165,
           3.736063879979244,
           3.124531943764867,
           2.4829949593302527,
           1.8749379511313167,
           1.3452969415253857,
           0.9172117358147257,
           0.5942117619964047,
           0.36579105268268125,
           0.21396616645554106,
           0.11892614079641492,
           0.06281013683727538,
           0.03152117122596228,
           0.015031251650780569,
           0.006810957000473498,
           0.0029325223062233634,
           0.0011997608969136517,
           0,
           0,
           0,
           0,
           0,
           0,
           0,
           0,
           0,
           0,
           0
          ],
          [
           3.736063879979244,
           3.641869586026189,
           3.373297771701241,
           2.96896557586367,
           2.4829949593302527,
           1.9731800087249813,
           1.489970838994371,
           1.0690770920987946,
           0.7288874486340988,
           0.47220666530745253,
           0.290685887142767,
           0.17003407945196763,
           0.09546134069288377,
           0.05224420623768111,
           0.030461676462157333,
           0.023889992327197254,
           0.030461676462157333,
           0.05224420623768111,
           0.09546134069288377,
           0.17003407945196763,
           0.290685887142767,
           0.47220666530745253,
           0.7288874486340988,
           1.0690770920987946,
           1.489970838994371,
           1.9731800087249813,
           2.4829949593302527,
           2.96896557586367,
           3.373297771701241,
           3.641869586026189,
           3.736063879979244,
           3.641869586026189,
           3.373297771701241,
           2.96896557586367,
           2.4829949593302527,
           1.9731800087249813,
           1.489970838994371,
           1.0690770920987946,
           0.7288874486340988,
           0.47220666530745253,
           0.290685887142767,
           0.17003407945196763,
           0.09450791780809527,
           0.04991379700022506,
           0.025049162778583527,
           0.011944996163598627,
           0.005412513683573803,
           0.0023304092374560456,
           0.0009534228847885069,
           0,
           0,
           0,
           0,
           0,
           0,
           0,
           0,
           0,
           0,
           0
          ],
          [
           2.8211446544029455,
           2.7500174634882137,
           2.5472158084184566,
           2.24189993333323,
           1.8749379511313167,
           1.489970838994371,
           1.1250940569219052,
           0.8072723648226046,
           0.5503912661651047,
           0.3565686648840066,
           0.2195002449015275,
           0.12839468213667407,
           0.07208395242946532,
           0.03945019889536201,
           0.023001961014607875,
           0.01803960700692686,
           0.023001961014607875,
           0.03945019889536201,
           0.07208395242946532,
           0.12839468213667407,
           0.2195002449015275,
           0.3565686648840066,
           0.5503912661651047,
           0.8072723648226046,
           1.1250940569219052,
           1.489970838994371,
           1.8749379511313167,
           2.24189993333323,
           2.5472158084184566,
           2.7500174634882137,
           2.8211446544029455,
           2.7500174634882137,
           2.5472158084184566,
           2.24189993333323,
           1.8749379511313167,
           1.489970838994371,
           1.1250940569219052,
           0.8072723648226046,
           0.5503912661651047,
           0.3565686648840066,
           0.2195002449015275,
           0.12839468213667407,
           0.07136401188208327,
           0.03769048017158663,
           0.018914909899897848,
           0.00901980350346343,
           0.004087051114710026,
           0.0017597187237753794,
           0.0007199405473820418,
           0,
           0,
           0,
           0,
           0,
           0,
           0,
           0,
           0,
           0,
           0
          ],
          [
           2.0242148668860986,
           1.9731800087249822,
           1.82766668859777,
           1.6085978321038976,
           1.3452969415253857,
           1.0690770920987946,
           0.8072723648226046,
           0.5792303914476328,
           0.3949142351977177,
           0.25584352486054496,
           0.15749481626947787,
           0.09212516770614672,
           0.051721349326737893,
           0.02830612708248583,
           0.01650426233218362,
           0.012943696679719558,
           0.01650426233218362,
           0.02830612708248583,
           0.051721349326737893,
           0.09212516770614672,
           0.15749481626947787,
           0.25584352486054496,
           0.3949142351977177,
           0.5792303914476328,
           0.8072723648226046,
           1.0690770920987946,
           1.3452969415253857,
           1.6085978321038976,
           1.82766668859777,
           1.9731800087249822,
           2.0242148668860986,
           1.9731800087249822,
           1.82766668859777,
           1.6085978321038976,
           1.3452969415253857,
           1.0690770920987946,
           0.8072723648226046,
           0.5792303914476328,
           0.3949142351977177,
           0.25584352486054496,
           0.15749481626947787,
           0.09212516770614672,
           0.051204780863291534,
           0.027043501716344218,
           0.013571740025960255,
           0.006471848339859779,
           0.002932522306223362,
           0.0012626253661416065,
           0.0005165684634463611,
           0,
           0,
           0,
           0,
           0,
           0,
           0,
           0,
           0,
           0,
           0
          ],
          [
           1.3800920632536338,
           1.3452969415253855,
           1.2460872274330372,
           1.096727989390125,
           0.9172117358147257,
           0.7288874486340988,
           0.5503912661651047,
           0.3949142351977177,
           0.2692490854494434,
           0.17443188659019954,
           0.10737859379101493,
           0.0628101368372754,
           0.035263165424926295,
           0.019298870869416253,
           0.011252462289016572,
           0.008824899643348259,
           0.011252462289016572,
           0.019298870869416253,
           0.035263165424926295,
           0.0628101368372754,
           0.10737859379101493,
           0.17443188659019954,
           0.2692490854494434,
           0.3949142351977177,
           0.5503912661651047,
           0.7288874486340988,
           0.9172117358147257,
           1.096727989390125,
           1.2460872274330372,
           1.3452969415253855,
           1.3800920632536338,
           1.3452969415253855,
           1.2460872274330372,
           1.096727989390125,
           0.9172117358147257,
           0.7288874486340988,
           0.5503912661651047,
           0.3949142351977177,
           0.2692490854494434,
           0.17443188659019954,
           0.10737859379101493,
           0.0628101368372754,
           0.03491097354639013,
           0.018438023893543907,
           0.009253094125912947,
           0.0044124498216741295,
           0.001999368163103623,
           0.0008608469758723475,
           0.0003521918785361648,
           0,
           0,
           0,
           0,
           0,
           0,
           0,
           0,
           0,
           0,
           0
          ],
          [
           0.8940868336085559,
           0.8715449604688097,
           0.8072723648226046,
           0.710510611192092,
           0.5942117619964047,
           0.47220666530745253,
           0.3565686648840066,
           0.25584352486054496,
           0.17443188659019954,
           0.11300496344723658,
           0.0695647699716565,
           0.04069128274744595,
           0.022845093278384257,
           0.01250269225313679,
           0.00728986032610605,
           0.005717174085062794,
           0.00728986032610605,
           0.01250269225313679,
           0.022845093278384257,
           0.04069128274744595,
           0.0695647699716565,
           0.11300496344723658,
           0.17443188659019954,
           0.25584352486054496,
           0.3565686648840066,
           0.47220666530745253,
           0.5942117619964047,
           0.710510611192092,
           0.8072723648226046,
           0.8715449604688097,
           0.8940868336085559,
           0.8715449604688097,
           0.8072723648226046,
           0.710510611192092,
           0.5942117619964047,
           0.47220666530745253,
           0.3565686648840066,
           0.25584352486054496,
           0.17443188659019954,
           0.11300496344723658,
           0.0695647699716565,
           0.04069128274744595,
           0.022616927252444886,
           0.011944996163598625,
           0.005994578078085074,
           0.002858587042531397,
           0.0012952822480209753,
           0.000557696089538164,
           0.00022816602593937096,
           0,
           0,
           0,
           0,
           0,
           0,
           0,
           0,
           0,
           0,
           0
          ],
          [
           0.5503912661651046,
           0.5365147055976666,
           0.496949113120862,
           0.4373835070799947,
           0.36579105268268125,
           0.290685887142767,
           0.2195002449015275,
           0.15749481626947787,
           0.10737859379101493,
           0.0695647699716565,
           0.0428234041548891,
           0.025049162778583538,
           0.01406321997204893,
           0.007696537250082541,
           0.004487567990302051,
           0.0035194374475507576,
           0.004487567990302051,
           0.007696537250082541,
           0.01406321997204893,
           0.025049162778583538,
           0.0428234041548891,
           0.0695647699716565,
           0.10737859379101493,
           0.15749481626947787,
           0.2195002449015275,
           0.290685887142767,
           0.36579105268268125,
           0.4373835070799947,
           0.496949113120862,
           0.5365147055976666,
           0.5503912661651046,
           0.5365147055976666,
           0.496949113120862,
           0.4373835070799947,
           0.36579105268268125,
           0.290685887142767,
           0.2195002449015275,
           0.15749481626947787,
           0.10737859379101493,
           0.0695647699716565,
           0.0428234041548891,
           0.025049162778583538,
           0.013922763158245081,
           0.00735322489459535,
           0.0036902046809105934,
           0.0017597187237753788,
           0.0007973633093914578,
           0.00034331235548719114,
           0.0001404568138038497,
           0,
           0,
           0,
           0,
           0,
           0,
           0,
           0,
           0,
           0,
           0
          ],
          [
           0.32194639100185535,
           0.31382942245812634,
           0.2906858871427671,
           0.25584352486054496,
           0.21396616645554106,
           0.17003407945196763,
           0.12839468213667407,
           0.09212516770614672,
           0.0628101368372754,
           0.04069128274744595,
           0.025049162778583538,
           0.014652281113348585,
           0.008226153273493608,
           0.004502019823352564,
           0.002624962290771164,
           0.002058663089787935,
           0.002624962290771164,
           0.004502019823352564,
           0.008226153273493608,
           0.014652281113348585,
           0.025049162778583538,
           0.04069128274744595,
           0.0628101368372754,
           0.09212516770614672,
           0.12839468213667407,
           0.17003407945196763,
           0.21396616645554106,
           0.25584352486054496,
           0.2906858871427671,
           0.31382942245812634,
           0.32194639100185535,
           0.31382942245812634,
           0.2906858871427671,
           0.25584352486054496,
           0.21396616645554106,
           0.17003407945196763,
           0.12839468213667407,
           0.09212516770614672,
           0.0628101368372754,
           0.04069128274744595,
           0.025049162778583538,
           0.014651820427960927,
           0.008142868298319164,
           0.004298587089353435,
           0.0021527801227535703,
           0.0010172280140796014,
           0.00044229255390889493,
           0.00015515207758620716,
           0,
           -0.0001404568138038497,
           -0.00022816602593937096,
           -0.0003521918785361648,
           -0.0005165684634463611,
           -0.0007199405473820418,
           -0.0009534228847885069,
           -0.0011997608969136517,
           -0.0014345775406506493,
           -0.0016299472316386645,
           -0.0017597187237753788,
           -0.0018052325618814968
          ],
          [
           0.17894343979444027,
           0.17443188659019962,
           0.16156830453404722,
           0.14220230966159975,
           0.11892614079641492,
           0.09450791780809527,
           0.07136401188208327,
           0.051204780863291534,
           0.03491097354639013,
           0.022616927252444886,
           0.013922763158245081,
           0.008143994331163652,
           0.004572239988323888,
           0.0025023014257327817,
           0.0014589999912084084,
           0.00114424098222732,
           0.0014589999912084084,
           0.0025023014257327817,
           0.004572239988323888,
           0.008143994331163652,
           0.013922763158245081,
           0.022616927252444886,
           0.03491097354639013,
           0.051204780863291534,
           0.07136401188208327,
           0.09450791780809527,
           0.11892614079641492,
           0.14220230966159975,
           0.16156830453404722,
           0.17443188659019962,
           0.17894343979444027,
           0.17443188659019962,
           0.16156830453404722,
           0.14220230966159975,
           0.11892614079641492,
           0.09450791780809527,
           0.07136401188208327,
           0.051204780863291534,
           0.03491097354639013,
           0.022616927252444886,
           0.013922763158245081,
           0.008142868298319164,
           0.004523822297883316,
           0.002384291160308876,
           0.0011856533500715295,
           0.0005425363679867124,
           0.0002002887840891544,
           0,
           -0.00015515207758620716,
           -0.00034331235548719114,
           -0.000557696089538164,
           -0.0008608469758723475,
           -0.0012626253661416065,
           -0.0017597187237753794,
           -0.0023304092374560456,
           -0.0029325223062233634,
           -0.0035064742056415436,
           -0.003984007669397659,
           -0.004301202367426055,
           -0.00441244982167413
          ],
          [
           0.09450791780809523,
           0.09212516770614669,
           0.08533134303687089,
           0.07510330755381696,
           0.06281013683727538,
           0.04991379700022506,
           0.03769048017158663,
           0.027043501716344218,
           0.018438023893543907,
           0.011944996163598625,
           0.00735322489459535,
           0.0043012023674260545,
           0.0024148014675016097,
           0.0013215756763472078,
           0.0007705622033952879,
           0.0006043240971852245,
           0.0007705622033952879,
           0.0013215756763472078,
           0.0024148014675016097,
           0.0043012023674260545,
           0.00735322489459535,
           0.011944996163598625,
           0.018438023893543907,
           0.027043501716344218,
           0.03769048017158663,
           0.04991379700022506,
           0.06281013683727538,
           0.07510330755381696,
           0.08533134303687089,
           0.09212516770614669,
           0.09450791780809523,
           0.09212516770614669,
           0.08533134303687089,
           0.07510330755381696,
           0.06281013683727538,
           0.04991379700022506,
           0.03769048017158663,
           0.027043501716344218,
           0.018438023893543907,
           0.011944996163598625,
           0.00735322489459535,
           0.004298587089353435,
           0.002384291160308876,
           0.0012477786191416687,
           0.0006008809969325768,
           0.0002334511678307711,
           0,
           -0.0002002887840891544,
           -0.00044229255390889493,
           -0.0007973633093914578,
           -0.0012952822480209753,
           -0.001999368163103623,
           -0.002932522306223362,
           -0.004087051114710026,
           -0.005412513683573803,
           -0.006810957000473498,
           -0.00814399433116365,
           -0.009253094125912948,
           -0.009989797626672282,
           -0.010248176437871022
          ],
          [
           0.04742865418612205,
           0.04623287468723667,
           0.042823404154889104,
           0.03769048017158663,
           0.03152117122596228,
           0.025049162778583527,
           0.018914909899897848,
           0.013571740025960255,
           0.009253094125912947,
           0.005994578078085074,
           0.0036902046809105934,
           0.0021585518377774037,
           0.001211864427728018,
           0.000663230734397717,
           0.00038670546469917974,
           0.0003032791250352075,
           0.00038670546469917974,
           0.000663230734397717,
           0.001211864427728018,
           0.0021585518377774037,
           0.0036902046809105934,
           0.005994578078085074,
           0.009253094125912947,
           0.013571740025960255,
           0.018914909899897848,
           0.025049162778583527,
           0.03152117122596228,
           0.03769048017158663,
           0.042823404154889104,
           0.04623287468723667,
           0.04742865418612205,
           0.04623287468723667,
           0.042823404154889104,
           0.03769048017158663,
           0.03152117122596228,
           0.025049162778583527,
           0.018914909899897848,
           0.013571740025960255,
           0.009253094125912947,
           0.005994578078085074,
           0.0036902046809105934,
           0.0021527801227535703,
           0.0011856533500715295,
           0.0006008809969325768,
           0.0002456834249363997,
           0,
           -0.0002334511678307711,
           -0.0005425363679867124,
           -0.0010172280140796014,
           -0.0017597187237753788,
           -0.002858587042531397,
           -0.0044124498216741295,
           -0.006471848339859779,
           -0.00901980350346343,
           -0.011944996163598627,
           -0.015031251650780569,
           -0.01797316122033085,
           -0.02042085808870732,
           -0.022046705339123777,
           -0.022616927252444883
          ],
          [
           0.022616927252444883,
           0.022046705339123777,
           0.02042085808870732,
           0.01797316122033085,
           0.015031251650780569,
           0.011944996163598627,
           0.00901980350346343,
           0.006471848339859779,
           0.0044124498216741295,
           0.002858587042531397,
           0.0017597187237753788,
           0.0010293315448939675,
           0.0005778922061374933,
           0.00031626959543473477,
           0.00018440517685579635,
           0.00014462231800187758,
           0.00018440517685579635,
           0.00031626959543473477,
           0.0005778922061374933,
           0.0010293315448939675,
           0.0017597187237753788,
           0.002858587042531397,
           0.0044124498216741295,
           0.006471848339859779,
           0.00901980350346343,
           0.011944996163598627,
           0.015031251650780569,
           0.01797316122033085,
           0.02042085808870732,
           0.022046705339123777,
           0.022616927252444883,
           0.022046705339123777,
           0.02042085808870732,
           0.01797316122033085,
           0.015031251650780569,
           0.011944996163598627,
           0.00901980350346343,
           0.006471848339859779,
           0.0044124498216741295,
           0.002858587042531397,
           0.0017597187237753788,
           0.0010172280140796014,
           0.0005425363679867124,
           0.0002334511678307711,
           0,
           -0.0002456834249363997,
           -0.0006008809969325768,
           -0.0011856533500715295,
           -0.0021527801227535703,
           -0.0036902046809105934,
           -0.005994578078085074,
           -0.009253094125912947,
           -0.013571740025960255,
           -0.018914909899897848,
           -0.025049162778583527,
           -0.03152117122596228,
           -0.03769048017158663,
           -0.042823404154889104,
           -0.04623287468723667,
           -0.04742865418612205
          ],
          [
           0.010248176437871022,
           0.009989797626672282,
           0.009253094125912948,
           0.00814399433116365,
           0.006810957000473498,
           0.005412513683573803,
           0.004087051114710026,
           0.002932522306223362,
           0.001999368163103623,
           0.0012952822480209753,
           0.0007973633093914578,
           0.00046641045299376007,
           0.00026185437236737625,
           0.0001433080002323869,
           0.00008355762776177838,
           0.0000655312286763851,
           0.00008355762776177838,
           0.0001433080002323869,
           0.00026185437236737625,
           0.00046641045299376007,
           0.0007973633093914578,
           0.0012952822480209753,
           0.001999368163103623,
           0.002932522306223362,
           0.004087051114710026,
           0.005412513683573803,
           0.006810957000473498,
           0.00814399433116365,
           0.009253094125912948,
           0.009989797626672282,
           0.010248176437871022,
           0.009989797626672282,
           0.009253094125912948,
           0.00814399433116365,
           0.006810957000473498,
           0.005412513683573803,
           0.004087051114710026,
           0.002932522306223362,
           0.001999368163103623,
           0.0012952822480209753,
           0.0007973633093914578,
           0.00044229255390889493,
           0.0002002887840891544,
           0,
           -0.0002334511678307711,
           -0.0006008809969325768,
           -0.0012477786191416687,
           -0.002384291160308876,
           -0.004298587089353435,
           -0.00735322489459535,
           -0.011944996163598625,
           -0.018438023893543907,
           -0.027043501716344218,
           -0.03769048017158663,
           -0.04991379700022506,
           -0.06281013683727538,
           -0.07510330755381696,
           -0.08533134303687089,
           -0.09212516770614669,
           -0.09450791780809523
          ],
          [
           0.00441244982167413,
           0.004301202367426055,
           0.003984007669397659,
           0.0035064742056415436,
           0.0029325223062233634,
           0.0023304092374560456,
           0.0017597187237753794,
           0.0012626253661416065,
           0.0008608469758723475,
           0.000557696089538164,
           0.00034331235548719114,
           0.00020081745592651047,
           0.00011274389016052598,
           0.00006170262230587,
           0.00003597653123481602,
           0.0000282150936842449,
           0.00003597653123481602,
           0.00006170262230587,
           0.00011274389016052598,
           0.00020081745592651047,
           0.00034331235548719114,
           0.000557696089538164,
           0.0008608469758723475,
           0.0012626253661416065,
           0.0017597187237753794,
           0.0023304092374560456,
           0.0029325223062233634,
           0.0035064742056415436,
           0.003984007669397659,
           0.004301202367426055,
           0.00441244982167413,
           0.004301202367426055,
           0.003984007669397659,
           0.0035064742056415436,
           0.0029325223062233634,
           0.0023304092374560456,
           0.0017597187237753794,
           0.0012626253661416065,
           0.0008608469758723475,
           0.000557696089538164,
           0.00034331235548719114,
           0.00015515207758620716,
           0,
           -0.0002002887840891544,
           -0.0005425363679867124,
           -0.0011856533500715295,
           -0.002384291160308876,
           -0.004523822297883316,
           -0.008142868298319164,
           -0.013922763158245081,
           -0.022616927252444886,
           -0.03491097354639013,
           -0.051204780863291534,
           -0.07136401188208327,
           -0.09450791780809527,
           -0.11892614079641492,
           -0.14220230966159975,
           -0.16156830453404722,
           -0.17443188659019962,
           -0.17894343979444027
          ],
          [
           0.0018052325618814968,
           0.0017597187237753788,
           0.0016299472316386645,
           0.0014345775406506493,
           0.0011997608969136517,
           0.0009534228847885069,
           0.0007199405473820418,
           0.0005165684634463611,
           0.0003521918785361648,
           0.00022816602593937096,
           0.0001404568138038497,
           0.00008215894232995363,
           0.0000461260637279613,
           0.000025243931929354035,
           0.000014718808886985917,
           0.000011543430047666958,
           0.000014718808886985917,
           0.000025243931929354035,
           0.0000461260637279613,
           0.00008215894232995363,
           0.0001404568138038497,
           0.00022816602593937096,
           0.0003521918785361648,
           0.0005165684634463611,
           0.0007199405473820418,
           0.0009534228847885069,
           0.0011997608969136517,
           0.0014345775406506493,
           0.0016299472316386645,
           0.0017597187237753788,
           0.0018052325618814968,
           0.0017597187237753788,
           0.0016299472316386645,
           0.0014345775406506493,
           0.0011997608969136517,
           0.0009534228847885069,
           0.0007199405473820418,
           0.0005165684634463611,
           0.0003521918785361648,
           0.00022816602593937096,
           0.0001404568138038497,
           0,
           -0.00015515207758620716,
           -0.00044229255390889493,
           -0.0010172280140796014,
           -0.0021527801227535703,
           -0.004298587089353435,
           -0.008142868298319164,
           -0.014651820427960927,
           -0.025049162778583538,
           -0.04069128274744595,
           -0.0628101368372754,
           -0.09212516770614672,
           -0.12839468213667407,
           -0.17003407945196763,
           -0.21396616645554106,
           -0.25584352486054496,
           -0.2906858871427671,
           -0.31382942245812634,
           -0.32194639100185535
          ],
          [
           0,
           0,
           0,
           0,
           0,
           0,
           0,
           0,
           0,
           0,
           0,
           0,
           0,
           0,
           0,
           0,
           0,
           0,
           0,
           0,
           0,
           0,
           0,
           0,
           0,
           0,
           0,
           0,
           0,
           0,
           0,
           0,
           0,
           0,
           0,
           0,
           0,
           0,
           0,
           0,
           0,
           -0.0001404568138038497,
           -0.00034331235548719114,
           -0.0007973633093914578,
           -0.0017597187237753788,
           -0.0036902046809105934,
           -0.00735322489459535,
           -0.013922763158245081,
           -0.025049162778583538,
           -0.0428234041548891,
           -0.0695647699716565,
           -0.10737859379101493,
           -0.15749481626947787,
           -0.2195002449015275,
           -0.290685887142767,
           -0.36579105268268125,
           -0.4373835070799947,
           -0.496949113120862,
           -0.5365147055976666,
           -0.5503912661651046
          ],
          [
           0,
           0,
           0,
           0,
           0,
           0,
           0,
           0,
           0,
           0,
           0,
           0,
           0,
           0,
           0,
           0,
           0,
           0,
           0,
           0,
           0,
           0,
           0,
           0,
           0,
           0,
           0,
           0,
           0,
           0,
           0,
           0,
           0,
           0,
           0,
           0,
           0,
           0,
           0,
           0,
           0,
           -0.00022816602593937096,
           -0.000557696089538164,
           -0.0012952822480209753,
           -0.002858587042531397,
           -0.005994578078085074,
           -0.011944996163598625,
           -0.022616927252444886,
           -0.04069128274744595,
           -0.0695647699716565,
           -0.11300496344723658,
           -0.17443188659019954,
           -0.25584352486054496,
           -0.3565686648840066,
           -0.47220666530745253,
           -0.5942117619964047,
           -0.710510611192092,
           -0.8072723648226046,
           -0.8715449604688097,
           -0.8940868336085559
          ],
          [
           0,
           0,
           0,
           0,
           0,
           0,
           0,
           0,
           0,
           0,
           0,
           0,
           0,
           0,
           0,
           0,
           0,
           0,
           0,
           0,
           0,
           0,
           0,
           0,
           0,
           0,
           0,
           0,
           0,
           0,
           0,
           0,
           0,
           0,
           0,
           0,
           0,
           0,
           0,
           0,
           0,
           -0.0003521918785361648,
           -0.0008608469758723475,
           -0.001999368163103623,
           -0.0044124498216741295,
           -0.009253094125912947,
           -0.018438023893543907,
           -0.03491097354639013,
           -0.0628101368372754,
           -0.10737859379101493,
           -0.17443188659019954,
           -0.2692490854494434,
           -0.3949142351977177,
           -0.5503912661651047,
           -0.7288874486340988,
           -0.9172117358147257,
           -1.096727989390125,
           -1.2460872274330372,
           -1.3452969415253855,
           -1.3800920632536338
          ],
          [
           0,
           0,
           0,
           0,
           0,
           0,
           0,
           0,
           0,
           0,
           0,
           0,
           0,
           0,
           0,
           0,
           0,
           0,
           0,
           0,
           0,
           0,
           0,
           0,
           0,
           0,
           0,
           0,
           0,
           0,
           0,
           0,
           0,
           0,
           0,
           0,
           0,
           0,
           0,
           0,
           0,
           -0.0005165684634463611,
           -0.0012626253661416065,
           -0.002932522306223362,
           -0.006471848339859779,
           -0.013571740025960255,
           -0.027043501716344218,
           -0.051204780863291534,
           -0.09212516770614672,
           -0.15749481626947787,
           -0.25584352486054496,
           -0.3949142351977177,
           -0.5792303914476328,
           -0.8072723648226046,
           -1.0690770920987946,
           -1.3452969415253857,
           -1.6085978321038976,
           -1.82766668859777,
           -1.9731800087249822,
           -2.0242148668860986
          ],
          [
           0,
           0,
           0,
           0,
           0,
           0,
           0,
           0,
           0,
           0,
           0,
           0,
           0,
           0,
           0,
           0,
           0,
           0,
           0,
           0,
           0,
           0,
           0,
           0,
           0,
           0,
           0,
           0,
           0,
           0,
           0,
           0,
           0,
           0,
           0,
           0,
           0,
           0,
           0,
           0,
           0,
           -0.0007199405473820418,
           -0.0017597187237753794,
           -0.004087051114710026,
           -0.00901980350346343,
           -0.018914909899897848,
           -0.03769048017158663,
           -0.07136401188208327,
           -0.12839468213667407,
           -0.2195002449015275,
           -0.3565686648840066,
           -0.5503912661651047,
           -0.8072723648226046,
           -1.1250940569219052,
           -1.489970838994371,
           -1.8749379511313167,
           -2.24189993333323,
           -2.5472158084184566,
           -2.7500174634882137,
           -2.8211446544029455
          ],
          [
           0,
           0,
           0,
           0,
           0,
           0,
           0,
           0,
           0,
           0,
           0,
           0,
           0,
           0,
           0,
           0,
           0,
           0,
           0,
           0,
           0,
           0,
           0,
           0,
           0,
           0,
           0,
           0,
           0,
           0,
           0,
           0,
           0,
           0,
           0,
           0,
           0,
           0,
           0,
           0,
           0,
           -0.0009534228847885069,
           -0.0023304092374560456,
           -0.005412513683573803,
           -0.011944996163598627,
           -0.025049162778583527,
           -0.04991379700022506,
           -0.09450791780809527,
           -0.17003407945196763,
           -0.290685887142767,
           -0.47220666530745253,
           -0.7288874486340988,
           -1.0690770920987946,
           -1.489970838994371,
           -1.9731800087249813,
           -2.4829949593302527,
           -2.96896557586367,
           -3.373297771701241,
           -3.641869586026189,
           -3.736063879979244
          ],
          [
           0,
           0,
           0,
           0,
           0,
           0,
           0,
           0,
           0,
           0,
           0,
           0,
           0,
           0,
           0,
           0,
           0,
           0,
           0,
           0,
           0,
           0,
           0,
           0,
           0,
           0,
           0,
           0,
           0,
           0,
           0,
           0,
           0,
           0,
           0,
           0,
           0,
           0,
           0,
           0,
           0,
           -0.0011997608969136517,
           -0.0029325223062233634,
           -0.006810957000473498,
           -0.015031251650780569,
           -0.03152117122596228,
           -0.06281013683727538,
           -0.11892614079641492,
           -0.21396616645554106,
           -0.36579105268268125,
           -0.5942117619964047,
           -0.9172117358147257,
           -1.3452969415253857,
           -1.8749379511313167,
           -2.4829949593302527,
           -3.124531943764867,
           -3.736063879979244,
           -4.244864293383165,
           -4.582827610586007,
           -4.701359095827557
          ],
          [
           0,
           0,
           0,
           0,
           0,
           0,
           0,
           0,
           0,
           0,
           0,
           0,
           0,
           0,
           0,
           0,
           0,
           0,
           0,
           0,
           0,
           0,
           0,
           0,
           0,
           0,
           0,
           0,
           0,
           0,
           0,
           0,
           0,
           0,
           0,
           0,
           0,
           0,
           0,
           0,
           0,
           -0.0014345775406506493,
           -0.0035064742056415436,
           -0.00814399433116365,
           -0.01797316122033085,
           -0.03769048017158663,
           -0.07510330755381696,
           -0.14220230966159975,
           -0.25584352486054496,
           -0.4373835070799947,
           -0.710510611192092,
           -1.096727989390125,
           -1.6085978321038976,
           -2.24189993333323,
           -2.96896557586367,
           -3.736063879979244,
           -4.467284561817228,
           -5.075667155066191,
           -5.479776495244064,
           -5.621506907549483
          ],
          [
           0,
           0,
           0,
           0,
           0,
           0,
           0,
           0,
           0,
           0,
           0,
           0,
           0,
           0,
           0,
           0,
           0,
           0,
           0,
           0,
           0,
           0,
           0,
           0,
           0,
           0,
           0,
           0,
           0,
           0,
           0,
           0,
           0,
           0,
           0,
           0,
           0,
           0,
           0,
           0,
           0,
           -0.0016299472316386645,
           -0.003984007669397659,
           -0.009253094125912948,
           -0.02042085808870732,
           -0.042823404154889104,
           -0.08533134303687089,
           -0.16156830453404722,
           -0.2906858871427671,
           -0.496949113120862,
           -0.8072723648226046,
           -1.2460872274330372,
           -1.82766668859777,
           -2.5472158084184566,
           -3.373297771701241,
           -4.244864293383165,
           -5.075667155066191,
           -5.766903073337676,
           -6.226046536578783,
           -6.387078677840001
          ],
          [
           0,
           0,
           0,
           0,
           0,
           0,
           0,
           0,
           0,
           0,
           0,
           0,
           0,
           0,
           0,
           0,
           0,
           0,
           0,
           0,
           0,
           0,
           0,
           0,
           0,
           0,
           0,
           0,
           0,
           0,
           0,
           0,
           0,
           0,
           0,
           0,
           0,
           0,
           0,
           0,
           0,
           -0.0017597187237753788,
           -0.004301202367426055,
           -0.009989797626672282,
           -0.022046705339123777,
           -0.04623287468723667,
           -0.09212516770614669,
           -0.17443188659019962,
           -0.31382942245812634,
           -0.5365147055976666,
           -0.8715449604688097,
           -1.3452969415253855,
           -1.9731800087249822,
           -2.7500174634882137,
           -3.641869586026189,
           -4.582827610586007,
           -5.479776495244064,
           -6.226046536578783,
           -6.721745620255356,
           -6.895598655866894
          ],
          [
           0,
           0,
           0,
           0,
           0,
           0,
           0,
           0,
           0,
           0,
           0,
           0,
           0,
           0,
           0,
           0,
           0,
           0,
           0,
           0,
           0,
           0,
           0,
           0,
           0,
           0,
           0,
           0,
           0,
           0,
           0,
           0,
           0,
           0,
           0,
           0,
           0,
           0,
           0,
           0,
           0,
           -0.0018052325618814968,
           -0.00441244982167413,
           -0.010248176437871022,
           -0.022616927252444883,
           -0.04742865418612205,
           -0.09450791780809523,
           -0.17894343979444027,
           -0.32194639100185535,
           -0.5503912661651046,
           -0.8940868336085559,
           -1.3800920632536338,
           -2.0242148668860986,
           -2.8211446544029455,
           -3.736063879979244,
           -4.701359095827557,
           -5.621506907549483,
           -6.387078677840001,
           -6.895598655866894,
           -7.073948273125358
          ],
          [
           0,
           0,
           0,
           0,
           0,
           0,
           0,
           0,
           0,
           0,
           0,
           0,
           0,
           0,
           0,
           0,
           0,
           0,
           0,
           0,
           0,
           0,
           0,
           0,
           0,
           0,
           0,
           0,
           0,
           0,
           0,
           0,
           0,
           0,
           0,
           0,
           0,
           0,
           0,
           0,
           0,
           -0.0017597187237753788,
           -0.004301202367426055,
           -0.009989797626672282,
           -0.022046705339123777,
           -0.04623287468723667,
           -0.09212516770614669,
           -0.17443188659019962,
           -0.31382942245812634,
           -0.5365147055976666,
           -0.8715449604688097,
           -1.3452969415253855,
           -1.9731800087249822,
           -2.7500174634882137,
           -3.641869586026189,
           -4.582827610586007,
           -5.479776495244064,
           -6.226046536578783,
           -6.721745620255356,
           -6.895598655866894
          ],
          [
           0,
           0,
           0,
           0,
           0,
           0,
           0,
           0,
           0,
           0,
           0,
           0,
           0,
           0,
           0,
           0,
           0,
           0,
           0,
           0,
           0,
           0,
           0,
           0,
           0,
           0,
           0,
           0,
           0,
           0,
           0,
           0,
           0,
           0,
           0,
           0,
           0,
           0,
           0,
           0,
           0,
           -0.0016299472316386645,
           -0.003984007669397659,
           -0.009253094125912948,
           -0.02042085808870732,
           -0.042823404154889104,
           -0.08533134303687089,
           -0.16156830453404722,
           -0.2906858871427671,
           -0.496949113120862,
           -0.8072723648226046,
           -1.2460872274330372,
           -1.82766668859777,
           -2.5472158084184566,
           -3.373297771701241,
           -4.244864293383165,
           -5.075667155066191,
           -5.766903073337676,
           -6.226046536578783,
           -6.387078677840001
          ],
          [
           0,
           0,
           0,
           0,
           0,
           0,
           0,
           0,
           0,
           0,
           0,
           0,
           0,
           0,
           0,
           0,
           0,
           0,
           0,
           0,
           0,
           0,
           0,
           0,
           0,
           0,
           0,
           0,
           0,
           0,
           0,
           0,
           0,
           0,
           0,
           0,
           0,
           0,
           0,
           0,
           0,
           -0.0014345775406506493,
           -0.0035064742056415436,
           -0.00814399433116365,
           -0.01797316122033085,
           -0.03769048017158663,
           -0.07510330755381696,
           -0.14220230966159975,
           -0.25584352486054496,
           -0.4373835070799947,
           -0.710510611192092,
           -1.096727989390125,
           -1.6085978321038976,
           -2.24189993333323,
           -2.96896557586367,
           -3.736063879979244,
           -4.467284561817228,
           -5.075667155066191,
           -5.479776495244064,
           -5.621506907549483
          ],
          [
           0,
           0,
           0,
           0,
           0,
           0,
           0,
           0,
           0,
           0,
           0,
           0,
           0,
           0,
           0,
           0,
           0,
           0,
           0,
           0,
           0,
           0,
           0,
           0,
           0,
           0,
           0,
           0,
           0,
           0,
           0,
           0,
           0,
           0,
           0,
           0,
           0,
           0,
           0,
           0,
           0,
           -0.0011997608969136517,
           -0.0029325223062233634,
           -0.006810957000473498,
           -0.015031251650780569,
           -0.03152117122596228,
           -0.06281013683727538,
           -0.11892614079641492,
           -0.21396616645554106,
           -0.36579105268268125,
           -0.5942117619964047,
           -0.9172117358147257,
           -1.3452969415253857,
           -1.8749379511313167,
           -2.4829949593302527,
           -3.124531943764867,
           -3.736063879979244,
           -4.244864293383165,
           -4.582827610586007,
           -4.701359095827557
          ],
          [
           0,
           0,
           0,
           0,
           0,
           0,
           0,
           0,
           0,
           0,
           0,
           0,
           0,
           0,
           0,
           0,
           0,
           0,
           0,
           0,
           0,
           0,
           0,
           0,
           0,
           0,
           0,
           0,
           0,
           0,
           0,
           0,
           0,
           0,
           0,
           0,
           0,
           0,
           0,
           0,
           0,
           -0.0009534228847885069,
           -0.0023304092374560456,
           -0.005412513683573803,
           -0.011944996163598627,
           -0.025049162778583527,
           -0.04991379700022506,
           -0.09450791780809527,
           -0.17003407945196763,
           -0.290685887142767,
           -0.47220666530745253,
           -0.7288874486340988,
           -1.0690770920987946,
           -1.489970838994371,
           -1.9731800087249813,
           -2.4829949593302527,
           -2.96896557586367,
           -3.373297771701241,
           -3.641869586026189,
           -3.736063879979244
          ],
          [
           0,
           0,
           0,
           0,
           0,
           0,
           0,
           0,
           0,
           0,
           0,
           0,
           0,
           0,
           0,
           0,
           0,
           0,
           0,
           0,
           0,
           0,
           0,
           0,
           0,
           0,
           0,
           0,
           0,
           0,
           0,
           0,
           0,
           0,
           0,
           0,
           0,
           0,
           0,
           0,
           0,
           -0.0007199405473820418,
           -0.0017597187237753794,
           -0.004087051114710026,
           -0.00901980350346343,
           -0.018914909899897848,
           -0.03769048017158663,
           -0.07136401188208327,
           -0.12839468213667407,
           -0.2195002449015275,
           -0.3565686648840066,
           -0.5503912661651047,
           -0.8072723648226046,
           -1.1250940569219052,
           -1.489970838994371,
           -1.8749379511313167,
           -2.24189993333323,
           -2.5472158084184566,
           -2.7500174634882137,
           -2.8211446544029455
          ],
          [
           0,
           0,
           0,
           0,
           0,
           0,
           0,
           0,
           0,
           0,
           0,
           0,
           0,
           0,
           0,
           0,
           0,
           0,
           0,
           0,
           0,
           0,
           0,
           0,
           0,
           0,
           0,
           0,
           0,
           0,
           0,
           0,
           0,
           0,
           0,
           0,
           0,
           0,
           0,
           0,
           0,
           -0.0005165684634463611,
           -0.0012626253661416065,
           -0.002932522306223362,
           -0.006471848339859779,
           -0.013571740025960255,
           -0.027043501716344218,
           -0.051204780863291534,
           -0.09212516770614672,
           -0.15749481626947787,
           -0.25584352486054496,
           -0.3949142351977177,
           -0.5792303914476328,
           -0.8072723648226046,
           -1.0690770920987946,
           -1.3452969415253857,
           -1.6085978321038976,
           -1.82766668859777,
           -1.9731800087249822,
           -2.0242148668860986
          ],
          [
           0,
           0,
           0,
           0,
           0,
           0,
           0,
           0,
           0,
           0,
           0,
           0,
           0,
           0,
           0,
           0,
           0,
           0,
           0,
           0,
           0,
           0,
           0,
           0,
           0,
           0,
           0,
           0,
           0,
           0,
           0,
           0,
           0,
           0,
           0,
           0,
           0,
           0,
           0,
           0,
           0,
           -0.0003521918785361648,
           -0.0008608469758723475,
           -0.001999368163103623,
           -0.0044124498216741295,
           -0.009253094125912947,
           -0.018438023893543907,
           -0.03491097354639013,
           -0.0628101368372754,
           -0.10737859379101493,
           -0.17443188659019954,
           -0.2692490854494434,
           -0.3949142351977177,
           -0.5503912661651047,
           -0.7288874486340988,
           -0.9172117358147257,
           -1.096727989390125,
           -1.2460872274330372,
           -1.3452969415253855,
           -1.3800920632536338
          ],
          [
           0,
           0,
           0,
           0,
           0,
           0,
           0,
           0,
           0,
           0,
           0,
           0,
           0,
           0,
           0,
           0,
           0,
           0,
           0,
           0,
           0,
           0,
           0,
           0,
           0,
           0,
           0,
           0,
           0,
           0,
           0,
           0,
           0,
           0,
           0,
           0,
           0,
           0,
           0,
           0,
           0,
           -0.00022816602593937096,
           -0.000557696089538164,
           -0.0012952822480209753,
           -0.002858587042531397,
           -0.005994578078085074,
           -0.011944996163598625,
           -0.022616927252444886,
           -0.04069128274744595,
           -0.0695647699716565,
           -0.11300496344723658,
           -0.17443188659019954,
           -0.25584352486054496,
           -0.3565686648840066,
           -0.47220666530745253,
           -0.5942117619964047,
           -0.710510611192092,
           -0.8072723648226046,
           -0.8715449604688097,
           -0.8940868336085559
          ],
          [
           0,
           0,
           0,
           0,
           0,
           0,
           0,
           0,
           0,
           0,
           0,
           0,
           0,
           0,
           0,
           0,
           0,
           0,
           0,
           0,
           0,
           0,
           0,
           0,
           0,
           0,
           0,
           0,
           0,
           0,
           0,
           0,
           0,
           0,
           0,
           0,
           0,
           0,
           0,
           0,
           0,
           -0.0001404568138038497,
           -0.00034331235548719114,
           -0.0007973633093914578,
           -0.0017597187237753788,
           -0.0036902046809105934,
           -0.00735322489459535,
           -0.013922763158245081,
           -0.025049162778583538,
           -0.0428234041548891,
           -0.0695647699716565,
           -0.10737859379101493,
           -0.15749481626947787,
           -0.2195002449015275,
           -0.290685887142767,
           -0.36579105268268125,
           -0.4373835070799947,
           -0.496949113120862,
           -0.5365147055976666,
           -0.5503912661651046
          ],
          [
           0,
           0,
           0,
           0,
           0,
           0,
           0,
           0,
           0,
           0,
           0,
           0,
           0,
           0,
           0,
           0,
           0,
           0,
           0,
           0,
           0,
           0,
           0,
           0,
           0,
           0,
           0,
           0,
           0,
           0,
           0,
           0,
           0,
           0,
           0,
           0,
           0,
           0,
           0,
           0,
           0,
           -0.00008215894232995363,
           -0.00020081745592651047,
           -0.00046641045299376007,
           -0.0010293315448939675,
           -0.0021585518377774037,
           -0.0043012023674260545,
           -0.008143994331163652,
           -0.014652281113348585,
           -0.025049162778583538,
           -0.04069128274744595,
           -0.0628101368372754,
           -0.09212516770614672,
           -0.12839468213667407,
           -0.17003407945196763,
           -0.21396616645554106,
           -0.25584352486054496,
           -0.2906858871427671,
           -0.31382942245812634,
           -0.32194639100185535
          ],
          [
           0,
           0,
           0,
           0,
           0,
           0,
           0,
           0,
           0,
           0,
           0,
           0,
           0,
           0,
           0,
           0,
           0,
           0,
           0,
           0,
           0,
           0,
           0,
           0,
           0,
           0,
           0,
           0,
           0,
           0,
           0,
           0,
           0,
           0,
           0,
           0,
           0,
           0,
           0,
           0,
           0,
           -0.0000461260637279613,
           -0.00011274389016052598,
           -0.00026185437236737625,
           -0.0005778922061374933,
           -0.001211864427728018,
           -0.0024148014675016097,
           -0.004572239988323888,
           -0.008226153273493608,
           -0.01406321997204893,
           -0.022845093278384257,
           -0.035263165424926295,
           -0.051721349326737893,
           -0.07208395242946532,
           -0.09546134069288377,
           -0.12012590169332857,
           -0.1436368872022504,
           -0.1631982517656859,
           -0.17619160531397499,
           -0.18074867235632175
          ],
          [
           0,
           0,
           0,
           0,
           0,
           0,
           0,
           0,
           0,
           0,
           0,
           0,
           0,
           0,
           0,
           0,
           0,
           0,
           0,
           0,
           0,
           0,
           0,
           0,
           0,
           0,
           0,
           0,
           0,
           0,
           0,
           0,
           0,
           0,
           0,
           0,
           0,
           0,
           0,
           0,
           0,
           -0.000025243931929354035,
           -0.00006170262230587,
           -0.0001433080002323869,
           -0.00031626959543473477,
           -0.000663230734397717,
           -0.0013215756763472078,
           -0.0025023014257327817,
           -0.004502019823352564,
           -0.007696537250082541,
           -0.01250269225313679,
           -0.019298870869416253,
           -0.02830612708248583,
           -0.03945019889536201,
           -0.05224420623768111,
           -0.06574265914349875,
           -0.07860978175945851,
           -0.08931535070626856,
           -0.09642637007357274,
           -0.09892036762976937
          ],
          [
           0,
           0,
           0,
           0,
           0,
           0,
           0,
           0,
           0,
           0,
           0,
           0,
           0,
           0,
           0,
           0,
           0,
           0,
           0,
           0,
           0,
           0,
           0,
           0,
           0,
           0,
           0,
           0,
           0,
           0,
           0,
           0,
           0,
           0,
           0,
           0,
           0,
           0,
           0,
           0,
           0,
           -0.000014718808886985917,
           -0.00003597653123481602,
           -0.00008355762776177838,
           -0.00018440517685579635,
           -0.00038670546469917974,
           -0.0007705622033952879,
           -0.0014589999912084084,
           -0.002624962290771164,
           -0.004487567990302051,
           -0.00728986032610605,
           -0.011252462289016572,
           -0.01650426233218362,
           -0.023001961014607875,
           -0.030461676462157333,
           -0.03833212822643578,
           -0.04583447450275028,
           -0.052076498280802054,
           -0.05622267231390896,
           -0.05767683062399308
          ],
          [
           0,
           0,
           0,
           0,
           0,
           0,
           0,
           0,
           0,
           0,
           0,
           0,
           0,
           0,
           0,
           0,
           0,
           0,
           0,
           0,
           0,
           0,
           0,
           0,
           0,
           0,
           0,
           0,
           0,
           0,
           0,
           0,
           0,
           0,
           0,
           0,
           0,
           0,
           0,
           0,
           0,
           -0.000011543430047666958,
           -0.0000282150936842449,
           -0.0000655312286763851,
           -0.00014462231800187758,
           -0.0003032791250352075,
           -0.0006043240971852245,
           -0.00114424098222732,
           -0.002058663089787935,
           -0.0035194374475507576,
           -0.005717174085062794,
           -0.008824899643348259,
           -0.012943696679719558,
           -0.01803960700692686,
           -0.023889992327197254,
           -0.030062503301561138,
           -0.0359463224406617,
           -0.04084171617741464,
           -0.044093410678247555,
           -0.045233854504889766
          ],
          [
           0,
           0,
           0,
           0,
           0,
           0,
           0,
           0,
           0,
           0,
           0,
           0,
           0,
           0,
           0,
           0,
           0,
           0,
           0,
           0,
           0,
           0,
           0,
           0,
           0,
           0,
           0,
           0,
           0,
           0,
           0,
           0,
           0,
           0,
           0,
           0,
           0,
           0,
           0,
           0,
           0,
           -0.000014718808886985917,
           -0.00003597653123481602,
           -0.00008355762776177838,
           -0.00018440517685579635,
           -0.00038670546469917974,
           -0.0007705622033952879,
           -0.0014589999912084084,
           -0.002624962290771164,
           -0.004487567990302051,
           -0.00728986032610605,
           -0.011252462289016572,
           -0.01650426233218362,
           -0.023001961014607875,
           -0.030461676462157333,
           -0.03833212822643578,
           -0.04583447450275028,
           -0.052076498280802054,
           -0.05622267231390896,
           -0.05767683062399308
          ],
          [
           0,
           0,
           0,
           0,
           0,
           0,
           0,
           0,
           0,
           0,
           0,
           0,
           0,
           0,
           0,
           0,
           0,
           0,
           0,
           0,
           0,
           0,
           0,
           0,
           0,
           0,
           0,
           0,
           0,
           0,
           0,
           0,
           0,
           0,
           0,
           0,
           0,
           0,
           0,
           0,
           0,
           -0.000025243931929354035,
           -0.00006170262230587,
           -0.0001433080002323869,
           -0.00031626959543473477,
           -0.000663230734397717,
           -0.0013215756763472078,
           -0.0025023014257327817,
           -0.004502019823352564,
           -0.007696537250082541,
           -0.01250269225313679,
           -0.019298870869416253,
           -0.02830612708248583,
           -0.03945019889536201,
           -0.05224420623768111,
           -0.06574265914349875,
           -0.07860978175945851,
           -0.08931535070626856,
           -0.09642637007357274,
           -0.09892036762976937
          ],
          [
           0,
           0,
           0,
           0,
           0,
           0,
           0,
           0,
           0,
           0,
           0,
           0,
           0,
           0,
           0,
           0,
           0,
           0,
           0,
           0,
           0,
           0,
           0,
           0,
           0,
           0,
           0,
           0,
           0,
           0,
           0,
           0,
           0,
           0,
           0,
           0,
           0,
           0,
           0,
           0,
           0,
           -0.0000461260637279613,
           -0.00011274389016052598,
           -0.00026185437236737625,
           -0.0005778922061374933,
           -0.001211864427728018,
           -0.0024148014675016097,
           -0.004572239988323888,
           -0.008226153273493608,
           -0.01406321997204893,
           -0.022845093278384257,
           -0.035263165424926295,
           -0.051721349326737893,
           -0.07208395242946532,
           -0.09546134069288377,
           -0.12012590169332857,
           -0.1436368872022504,
           -0.1631982517656859,
           -0.17619160531397499,
           -0.18074867235632175
          ],
          [
           0,
           0,
           0,
           0,
           0,
           0,
           0,
           0,
           0,
           0,
           0,
           0,
           0,
           0,
           0,
           0,
           0,
           0,
           0,
           0,
           0,
           0,
           0,
           0,
           0,
           0,
           0,
           0,
           0,
           0,
           0,
           0,
           0,
           0,
           0,
           0,
           0,
           0,
           0,
           0,
           0,
           -0.00008215894232995363,
           -0.00020081745592651047,
           -0.00046641045299376007,
           -0.0010293315448939675,
           -0.0021585518377774037,
           -0.0043012023674260545,
           -0.008143994331163652,
           -0.014652281113348585,
           -0.025049162778583538,
           -0.04069128274744595,
           -0.0628101368372754,
           -0.09212516770614672,
           -0.12839468213667407,
           -0.17003407945196763,
           -0.21396616645554106,
           -0.25584352486054496,
           -0.2906858871427671,
           -0.31382942245812634,
           -0.32194639100185535
          ],
          [
           0,
           0,
           0,
           0,
           0,
           0,
           0,
           0,
           0,
           0,
           0,
           0,
           0,
           0,
           0,
           0,
           0,
           0,
           0,
           0,
           0,
           0,
           0,
           0,
           0,
           0,
           0,
           0,
           0,
           0,
           0,
           0,
           0,
           0,
           0,
           0,
           0,
           0,
           0,
           0,
           0,
           -0.0001404568138038497,
           -0.00034331235548719114,
           -0.0007973633093914578,
           -0.0017597187237753788,
           -0.0036902046809105934,
           -0.00735322489459535,
           -0.013922763158245081,
           -0.025049162778583538,
           -0.0428234041548891,
           -0.0695647699716565,
           -0.10737859379101493,
           -0.15749481626947787,
           -0.2195002449015275,
           -0.290685887142767,
           -0.36579105268268125,
           -0.4373835070799947,
           -0.496949113120862,
           -0.5365147055976666,
           -0.5503912661651046
          ],
          [
           0,
           0,
           0,
           0,
           0,
           0,
           0,
           0,
           0,
           0,
           0,
           0,
           0,
           0,
           0,
           0,
           0,
           0,
           0,
           0,
           0,
           0,
           0,
           0,
           0,
           0,
           0,
           0,
           0,
           0,
           0,
           0,
           0,
           0,
           0,
           0,
           0,
           0,
           0,
           0,
           0,
           -0.00022816602593937096,
           -0.000557696089538164,
           -0.0012952822480209753,
           -0.002858587042531397,
           -0.005994578078085074,
           -0.011944996163598625,
           -0.022616927252444886,
           -0.04069128274744595,
           -0.0695647699716565,
           -0.11300496344723658,
           -0.17443188659019954,
           -0.25584352486054496,
           -0.3565686648840066,
           -0.47220666530745253,
           -0.5942117619964047,
           -0.710510611192092,
           -0.8072723648226046,
           -0.8715449604688097,
           -0.8940868336085559
          ],
          [
           0,
           0,
           0,
           0,
           0,
           0,
           0,
           0,
           0,
           0,
           0,
           0,
           0,
           0,
           0,
           0,
           0,
           0,
           0,
           0,
           0,
           0,
           0,
           0,
           0,
           0,
           0,
           0,
           0,
           0,
           0,
           0,
           0,
           0,
           0,
           0,
           0,
           0,
           0,
           0,
           0,
           -0.0003521918785361648,
           -0.0008608469758723475,
           -0.001999368163103623,
           -0.0044124498216741295,
           -0.009253094125912947,
           -0.018438023893543907,
           -0.03491097354639013,
           -0.0628101368372754,
           -0.10737859379101493,
           -0.17443188659019954,
           -0.2692490854494434,
           -0.3949142351977177,
           -0.5503912661651047,
           -0.7288874486340988,
           -0.9172117358147257,
           -1.096727989390125,
           -1.2460872274330372,
           -1.3452969415253855,
           -1.3800920632536338
          ],
          [
           0,
           0,
           0,
           0,
           0,
           0,
           0,
           0,
           0,
           0,
           0,
           0,
           0,
           0,
           0,
           0,
           0,
           0,
           0,
           0,
           0,
           0,
           0,
           0,
           0,
           0,
           0,
           0,
           0,
           0,
           0,
           0,
           0,
           0,
           0,
           0,
           0,
           0,
           0,
           0,
           0,
           -0.0005165684634463611,
           -0.0012626253661416065,
           -0.002932522306223362,
           -0.006471848339859779,
           -0.013571740025960255,
           -0.027043501716344218,
           -0.051204780863291534,
           -0.09212516770614672,
           -0.15749481626947787,
           -0.25584352486054496,
           -0.3949142351977177,
           -0.5792303914476328,
           -0.8072723648226046,
           -1.0690770920987946,
           -1.3452969415253857,
           -1.6085978321038976,
           -1.82766668859777,
           -1.9731800087249822,
           -2.0242148668860986
          ],
          [
           0,
           0,
           0,
           0,
           0,
           0,
           0,
           0,
           0,
           0,
           0,
           0,
           0,
           0,
           0,
           0,
           0,
           0,
           0,
           0,
           0,
           0,
           0,
           0,
           0,
           0,
           0,
           0,
           0,
           0,
           0,
           0,
           0,
           0,
           0,
           0,
           0,
           0,
           0,
           0,
           0,
           -0.0007199405473820418,
           -0.0017597187237753794,
           -0.004087051114710026,
           -0.00901980350346343,
           -0.018914909899897848,
           -0.03769048017158663,
           -0.07136401188208327,
           -0.12839468213667407,
           -0.2195002449015275,
           -0.3565686648840066,
           -0.5503912661651047,
           -0.8072723648226046,
           -1.1250940569219052,
           -1.489970838994371,
           -1.8749379511313167,
           -2.24189993333323,
           -2.5472158084184566,
           -2.7500174634882137,
           -2.8211446544029455
          ],
          [
           0,
           0,
           0,
           0,
           0,
           0,
           0,
           0,
           0,
           0,
           0,
           0,
           0,
           0,
           0,
           0,
           0,
           0,
           0,
           0,
           0,
           0,
           0,
           0,
           0,
           0,
           0,
           0,
           0,
           0,
           0,
           0,
           0,
           0,
           0,
           0,
           0,
           0,
           0,
           0,
           0,
           -0.0009534228847885069,
           -0.0023304092374560456,
           -0.005412513683573803,
           -0.011944996163598627,
           -0.025049162778583527,
           -0.04991379700022506,
           -0.09450791780809527,
           -0.17003407945196763,
           -0.290685887142767,
           -0.47220666530745253,
           -0.7288874486340988,
           -1.0690770920987946,
           -1.489970838994371,
           -1.9731800087249813,
           -2.4829949593302527,
           -2.96896557586367,
           -3.373297771701241,
           -3.641869586026189,
           -3.736063879979244
          ],
          [
           0,
           0,
           0,
           0,
           0,
           0,
           0,
           0,
           0,
           0,
           0,
           0,
           0,
           0,
           0,
           0,
           0,
           0,
           0,
           0,
           0,
           0,
           0,
           0,
           0,
           0,
           0,
           0,
           0,
           0,
           0,
           0,
           0,
           0,
           0,
           0,
           0,
           0,
           0,
           0,
           0,
           -0.0011997608969136517,
           -0.0029325223062233634,
           -0.006810957000473498,
           -0.015031251650780569,
           -0.03152117122596228,
           -0.06281013683727538,
           -0.11892614079641492,
           -0.21396616645554106,
           -0.36579105268268125,
           -0.5942117619964047,
           -0.9172117358147257,
           -1.3452969415253857,
           -1.8749379511313167,
           -2.4829949593302527,
           -3.124531943764867,
           -3.736063879979244,
           -4.244864293383165,
           -4.582827610586007,
           -4.701359095827557
          ],
          [
           0,
           0,
           0,
           0,
           0,
           0,
           0,
           0,
           0,
           0,
           0,
           0,
           0,
           0,
           0,
           0,
           0,
           0,
           0,
           0,
           0,
           0,
           0,
           0,
           0,
           0,
           0,
           0,
           0,
           0,
           0,
           0,
           0,
           0,
           0,
           0,
           0,
           0,
           0,
           0,
           0,
           -0.0014345775406506493,
           -0.0035064742056415436,
           -0.00814399433116365,
           -0.01797316122033085,
           -0.03769048017158663,
           -0.07510330755381696,
           -0.14220230966159975,
           -0.25584352486054496,
           -0.4373835070799947,
           -0.710510611192092,
           -1.096727989390125,
           -1.6085978321038976,
           -2.24189993333323,
           -2.96896557586367,
           -3.736063879979244,
           -4.467284561817228,
           -5.075667155066191,
           -5.479776495244064,
           -5.621506907549483
          ],
          [
           0,
           0,
           0,
           0,
           0,
           0,
           0,
           0,
           0,
           0,
           0,
           0,
           0,
           0,
           0,
           0,
           0,
           0,
           0,
           0,
           0,
           0,
           0,
           0,
           0,
           0,
           0,
           0,
           0,
           0,
           0,
           0,
           0,
           0,
           0,
           0,
           0,
           0,
           0,
           0,
           0,
           -0.0016299472316386645,
           -0.003984007669397659,
           -0.009253094125912948,
           -0.02042085808870732,
           -0.042823404154889104,
           -0.08533134303687089,
           -0.16156830453404722,
           -0.2906858871427671,
           -0.496949113120862,
           -0.8072723648226046,
           -1.2460872274330372,
           -1.82766668859777,
           -2.5472158084184566,
           -3.373297771701241,
           -4.244864293383165,
           -5.075667155066191,
           -5.766903073337676,
           -6.226046536578783,
           -6.387078677840001
          ],
          [
           0,
           0,
           0,
           0,
           0,
           0,
           0,
           0,
           0,
           0,
           0,
           0,
           0,
           0,
           0,
           0,
           0,
           0,
           0,
           0,
           0,
           0,
           0,
           0,
           0,
           0,
           0,
           0,
           0,
           0,
           0,
           0,
           0,
           0,
           0,
           0,
           0,
           0,
           0,
           0,
           0,
           -0.0017597187237753788,
           -0.004301202367426055,
           -0.009989797626672282,
           -0.022046705339123777,
           -0.04623287468723667,
           -0.09212516770614669,
           -0.17443188659019962,
           -0.31382942245812634,
           -0.5365147055976666,
           -0.8715449604688097,
           -1.3452969415253855,
           -1.9731800087249822,
           -2.7500174634882137,
           -3.641869586026189,
           -4.582827610586007,
           -5.479776495244064,
           -6.226046536578783,
           -6.721745620255356,
           -6.895598655866894
          ],
          [
           0,
           0,
           0,
           0,
           0,
           0,
           0,
           0,
           0,
           0,
           0,
           0,
           0,
           0,
           0,
           0,
           0,
           0,
           0,
           0,
           0,
           0,
           0,
           0,
           0,
           0,
           0,
           0,
           0,
           0,
           0,
           0,
           0,
           0,
           0,
           0,
           0,
           0,
           0,
           0,
           0,
           -0.0018052325618814968,
           -0.00441244982167413,
           -0.010248176437871022,
           -0.022616927252444883,
           -0.04742865418612205,
           -0.09450791780809523,
           -0.17894343979444027,
           -0.32194639100185535,
           -0.5503912661651046,
           -0.8940868336085559,
           -1.3800920632536338,
           -2.0242148668860986,
           -2.8211446544029455,
           -3.736063879979244,
           -4.701359095827557,
           -5.621506907549483,
           -6.387078677840001,
           -6.895598655866894,
           -7.073948273125358
          ]
         ]
        }
       ],
       "layout": {
        "plot_bgcolor": "white",
        "template": {
         "data": {
          "bar": [
           {
            "error_x": {
             "color": "#2a3f5f"
            },
            "error_y": {
             "color": "#2a3f5f"
            },
            "marker": {
             "line": {
              "color": "#E5ECF6",
              "width": 0.5
             },
             "pattern": {
              "fillmode": "overlay",
              "size": 10,
              "solidity": 0.2
             }
            },
            "type": "bar"
           }
          ],
          "barpolar": [
           {
            "marker": {
             "line": {
              "color": "#E5ECF6",
              "width": 0.5
             },
             "pattern": {
              "fillmode": "overlay",
              "size": 10,
              "solidity": 0.2
             }
            },
            "type": "barpolar"
           }
          ],
          "carpet": [
           {
            "aaxis": {
             "endlinecolor": "#2a3f5f",
             "gridcolor": "white",
             "linecolor": "white",
             "minorgridcolor": "white",
             "startlinecolor": "#2a3f5f"
            },
            "baxis": {
             "endlinecolor": "#2a3f5f",
             "gridcolor": "white",
             "linecolor": "white",
             "minorgridcolor": "white",
             "startlinecolor": "#2a3f5f"
            },
            "type": "carpet"
           }
          ],
          "choropleth": [
           {
            "colorbar": {
             "outlinewidth": 0,
             "ticks": ""
            },
            "type": "choropleth"
           }
          ],
          "contour": [
           {
            "colorbar": {
             "outlinewidth": 0,
             "ticks": ""
            },
            "colorscale": [
             [
              0,
              "#0d0887"
             ],
             [
              0.1111111111111111,
              "#46039f"
             ],
             [
              0.2222222222222222,
              "#7201a8"
             ],
             [
              0.3333333333333333,
              "#9c179e"
             ],
             [
              0.4444444444444444,
              "#bd3786"
             ],
             [
              0.5555555555555556,
              "#d8576b"
             ],
             [
              0.6666666666666666,
              "#ed7953"
             ],
             [
              0.7777777777777778,
              "#fb9f3a"
             ],
             [
              0.8888888888888888,
              "#fdca26"
             ],
             [
              1,
              "#f0f921"
             ]
            ],
            "type": "contour"
           }
          ],
          "contourcarpet": [
           {
            "colorbar": {
             "outlinewidth": 0,
             "ticks": ""
            },
            "type": "contourcarpet"
           }
          ],
          "heatmap": [
           {
            "colorbar": {
             "outlinewidth": 0,
             "ticks": ""
            },
            "colorscale": [
             [
              0,
              "#0d0887"
             ],
             [
              0.1111111111111111,
              "#46039f"
             ],
             [
              0.2222222222222222,
              "#7201a8"
             ],
             [
              0.3333333333333333,
              "#9c179e"
             ],
             [
              0.4444444444444444,
              "#bd3786"
             ],
             [
              0.5555555555555556,
              "#d8576b"
             ],
             [
              0.6666666666666666,
              "#ed7953"
             ],
             [
              0.7777777777777778,
              "#fb9f3a"
             ],
             [
              0.8888888888888888,
              "#fdca26"
             ],
             [
              1,
              "#f0f921"
             ]
            ],
            "type": "heatmap"
           }
          ],
          "heatmapgl": [
           {
            "colorbar": {
             "outlinewidth": 0,
             "ticks": ""
            },
            "colorscale": [
             [
              0,
              "#0d0887"
             ],
             [
              0.1111111111111111,
              "#46039f"
             ],
             [
              0.2222222222222222,
              "#7201a8"
             ],
             [
              0.3333333333333333,
              "#9c179e"
             ],
             [
              0.4444444444444444,
              "#bd3786"
             ],
             [
              0.5555555555555556,
              "#d8576b"
             ],
             [
              0.6666666666666666,
              "#ed7953"
             ],
             [
              0.7777777777777778,
              "#fb9f3a"
             ],
             [
              0.8888888888888888,
              "#fdca26"
             ],
             [
              1,
              "#f0f921"
             ]
            ],
            "type": "heatmapgl"
           }
          ],
          "histogram": [
           {
            "marker": {
             "pattern": {
              "fillmode": "overlay",
              "size": 10,
              "solidity": 0.2
             }
            },
            "type": "histogram"
           }
          ],
          "histogram2d": [
           {
            "colorbar": {
             "outlinewidth": 0,
             "ticks": ""
            },
            "colorscale": [
             [
              0,
              "#0d0887"
             ],
             [
              0.1111111111111111,
              "#46039f"
             ],
             [
              0.2222222222222222,
              "#7201a8"
             ],
             [
              0.3333333333333333,
              "#9c179e"
             ],
             [
              0.4444444444444444,
              "#bd3786"
             ],
             [
              0.5555555555555556,
              "#d8576b"
             ],
             [
              0.6666666666666666,
              "#ed7953"
             ],
             [
              0.7777777777777778,
              "#fb9f3a"
             ],
             [
              0.8888888888888888,
              "#fdca26"
             ],
             [
              1,
              "#f0f921"
             ]
            ],
            "type": "histogram2d"
           }
          ],
          "histogram2dcontour": [
           {
            "colorbar": {
             "outlinewidth": 0,
             "ticks": ""
            },
            "colorscale": [
             [
              0,
              "#0d0887"
             ],
             [
              0.1111111111111111,
              "#46039f"
             ],
             [
              0.2222222222222222,
              "#7201a8"
             ],
             [
              0.3333333333333333,
              "#9c179e"
             ],
             [
              0.4444444444444444,
              "#bd3786"
             ],
             [
              0.5555555555555556,
              "#d8576b"
             ],
             [
              0.6666666666666666,
              "#ed7953"
             ],
             [
              0.7777777777777778,
              "#fb9f3a"
             ],
             [
              0.8888888888888888,
              "#fdca26"
             ],
             [
              1,
              "#f0f921"
             ]
            ],
            "type": "histogram2dcontour"
           }
          ],
          "mesh3d": [
           {
            "colorbar": {
             "outlinewidth": 0,
             "ticks": ""
            },
            "type": "mesh3d"
           }
          ],
          "parcoords": [
           {
            "line": {
             "colorbar": {
              "outlinewidth": 0,
              "ticks": ""
             }
            },
            "type": "parcoords"
           }
          ],
          "pie": [
           {
            "automargin": true,
            "type": "pie"
           }
          ],
          "scatter": [
           {
            "marker": {
             "colorbar": {
              "outlinewidth": 0,
              "ticks": ""
             }
            },
            "type": "scatter"
           }
          ],
          "scatter3d": [
           {
            "line": {
             "colorbar": {
              "outlinewidth": 0,
              "ticks": ""
             }
            },
            "marker": {
             "colorbar": {
              "outlinewidth": 0,
              "ticks": ""
             }
            },
            "type": "scatter3d"
           }
          ],
          "scattercarpet": [
           {
            "marker": {
             "colorbar": {
              "outlinewidth": 0,
              "ticks": ""
             }
            },
            "type": "scattercarpet"
           }
          ],
          "scattergeo": [
           {
            "marker": {
             "colorbar": {
              "outlinewidth": 0,
              "ticks": ""
             }
            },
            "type": "scattergeo"
           }
          ],
          "scattergl": [
           {
            "marker": {
             "colorbar": {
              "outlinewidth": 0,
              "ticks": ""
             }
            },
            "type": "scattergl"
           }
          ],
          "scattermapbox": [
           {
            "marker": {
             "colorbar": {
              "outlinewidth": 0,
              "ticks": ""
             }
            },
            "type": "scattermapbox"
           }
          ],
          "scatterpolar": [
           {
            "marker": {
             "colorbar": {
              "outlinewidth": 0,
              "ticks": ""
             }
            },
            "type": "scatterpolar"
           }
          ],
          "scatterpolargl": [
           {
            "marker": {
             "colorbar": {
              "outlinewidth": 0,
              "ticks": ""
             }
            },
            "type": "scatterpolargl"
           }
          ],
          "scatterternary": [
           {
            "marker": {
             "colorbar": {
              "outlinewidth": 0,
              "ticks": ""
             }
            },
            "type": "scatterternary"
           }
          ],
          "surface": [
           {
            "colorbar": {
             "outlinewidth": 0,
             "ticks": ""
            },
            "colorscale": [
             [
              0,
              "#0d0887"
             ],
             [
              0.1111111111111111,
              "#46039f"
             ],
             [
              0.2222222222222222,
              "#7201a8"
             ],
             [
              0.3333333333333333,
              "#9c179e"
             ],
             [
              0.4444444444444444,
              "#bd3786"
             ],
             [
              0.5555555555555556,
              "#d8576b"
             ],
             [
              0.6666666666666666,
              "#ed7953"
             ],
             [
              0.7777777777777778,
              "#fb9f3a"
             ],
             [
              0.8888888888888888,
              "#fdca26"
             ],
             [
              1,
              "#f0f921"
             ]
            ],
            "type": "surface"
           }
          ],
          "table": [
           {
            "cells": {
             "fill": {
              "color": "#EBF0F8"
             },
             "line": {
              "color": "white"
             }
            },
            "header": {
             "fill": {
              "color": "#C8D4E3"
             },
             "line": {
              "color": "white"
             }
            },
            "type": "table"
           }
          ]
         },
         "layout": {
          "annotationdefaults": {
           "arrowcolor": "#2a3f5f",
           "arrowhead": 0,
           "arrowwidth": 1
          },
          "autotypenumbers": "strict",
          "coloraxis": {
           "colorbar": {
            "outlinewidth": 0,
            "ticks": ""
           }
          },
          "colorscale": {
           "diverging": [
            [
             0,
             "#8e0152"
            ],
            [
             0.1,
             "#c51b7d"
            ],
            [
             0.2,
             "#de77ae"
            ],
            [
             0.3,
             "#f1b6da"
            ],
            [
             0.4,
             "#fde0ef"
            ],
            [
             0.5,
             "#f7f7f7"
            ],
            [
             0.6,
             "#e6f5d0"
            ],
            [
             0.7,
             "#b8e186"
            ],
            [
             0.8,
             "#7fbc41"
            ],
            [
             0.9,
             "#4d9221"
            ],
            [
             1,
             "#276419"
            ]
           ],
           "sequential": [
            [
             0,
             "#0d0887"
            ],
            [
             0.1111111111111111,
             "#46039f"
            ],
            [
             0.2222222222222222,
             "#7201a8"
            ],
            [
             0.3333333333333333,
             "#9c179e"
            ],
            [
             0.4444444444444444,
             "#bd3786"
            ],
            [
             0.5555555555555556,
             "#d8576b"
            ],
            [
             0.6666666666666666,
             "#ed7953"
            ],
            [
             0.7777777777777778,
             "#fb9f3a"
            ],
            [
             0.8888888888888888,
             "#fdca26"
            ],
            [
             1,
             "#f0f921"
            ]
           ],
           "sequentialminus": [
            [
             0,
             "#0d0887"
            ],
            [
             0.1111111111111111,
             "#46039f"
            ],
            [
             0.2222222222222222,
             "#7201a8"
            ],
            [
             0.3333333333333333,
             "#9c179e"
            ],
            [
             0.4444444444444444,
             "#bd3786"
            ],
            [
             0.5555555555555556,
             "#d8576b"
            ],
            [
             0.6666666666666666,
             "#ed7953"
            ],
            [
             0.7777777777777778,
             "#fb9f3a"
            ],
            [
             0.8888888888888888,
             "#fdca26"
            ],
            [
             1,
             "#f0f921"
            ]
           ]
          },
          "colorway": [
           "#636efa",
           "#EF553B",
           "#00cc96",
           "#ab63fa",
           "#FFA15A",
           "#19d3f3",
           "#FF6692",
           "#B6E880",
           "#FF97FF",
           "#FECB52"
          ],
          "font": {
           "color": "#2a3f5f"
          },
          "geo": {
           "bgcolor": "white",
           "lakecolor": "white",
           "landcolor": "#E5ECF6",
           "showlakes": true,
           "showland": true,
           "subunitcolor": "white"
          },
          "hoverlabel": {
           "align": "left"
          },
          "hovermode": "closest",
          "mapbox": {
           "style": "light"
          },
          "paper_bgcolor": "white",
          "plot_bgcolor": "#E5ECF6",
          "polar": {
           "angularaxis": {
            "gridcolor": "white",
            "linecolor": "white",
            "ticks": ""
           },
           "bgcolor": "#E5ECF6",
           "radialaxis": {
            "gridcolor": "white",
            "linecolor": "white",
            "ticks": ""
           }
          },
          "scene": {
           "xaxis": {
            "backgroundcolor": "#E5ECF6",
            "gridcolor": "white",
            "gridwidth": 2,
            "linecolor": "white",
            "showbackground": true,
            "ticks": "",
            "zerolinecolor": "white"
           },
           "yaxis": {
            "backgroundcolor": "#E5ECF6",
            "gridcolor": "white",
            "gridwidth": 2,
            "linecolor": "white",
            "showbackground": true,
            "ticks": "",
            "zerolinecolor": "white"
           },
           "zaxis": {
            "backgroundcolor": "#E5ECF6",
            "gridcolor": "white",
            "gridwidth": 2,
            "linecolor": "white",
            "showbackground": true,
            "ticks": "",
            "zerolinecolor": "white"
           }
          },
          "shapedefaults": {
           "line": {
            "color": "#2a3f5f"
           }
          },
          "ternary": {
           "aaxis": {
            "gridcolor": "white",
            "linecolor": "white",
            "ticks": ""
           },
           "baxis": {
            "gridcolor": "white",
            "linecolor": "white",
            "ticks": ""
           },
           "bgcolor": "#E5ECF6",
           "caxis": {
            "gridcolor": "white",
            "linecolor": "white",
            "ticks": ""
           }
          },
          "title": {
           "x": 0.05
          },
          "xaxis": {
           "automargin": true,
           "gridcolor": "white",
           "linecolor": "white",
           "ticks": "",
           "title": {
            "standoff": 15
           },
           "zerolinecolor": "white",
           "zerolinewidth": 2
          },
          "yaxis": {
           "automargin": true,
           "gridcolor": "white",
           "linecolor": "white",
           "ticks": "",
           "title": {
            "standoff": 15
           },
           "zerolinecolor": "white",
           "zerolinewidth": 2
          }
         }
        },
        "title": {
         "text": "Heat kernel representation of diagram 0 in homology dimension 1"
        },
        "xaxis": {
         "constrain": "domain",
         "scaleanchor": "y"
        },
        "yaxis": {
         "autorange": true,
         "constrain": "domain"
        }
       }
      }
     },
     "metadata": {},
     "output_type": "display_data"
    }
   ],
   "source": [
    "from gtda.diagrams import HeatKernel\n",
    "\n",
    "heat = HeatKernel(sigma=.15, n_bins=60, n_jobs=-1)\n",
    "im8_heat = heat.fit_transform(im8_scaled)\n",
    "# Visualize the heat kernel for H1\n",
    "heat.plot(im8_heat, homology_dimension_idx=1, colorscale='jet')"
   ]
  },
  {
   "cell_type": "code",
   "execution_count": 27,
   "metadata": {},
   "outputs": [],
   "source": [
    "# giotto-tda의 변환기들은 sklearn을 기반으로 만들어졌기에, sklearn의 pipeline 기능과도 호환이 됩니다.\n",
    "\n",
    "from sklearn.pipeline import Pipeline\n",
    "from gtda.diagrams import Amplitude\n",
    "\n",
    "steps = [\n",
    "    (\"binarizer\", Binarizer(threshold=0.4)),\n",
    "    (\"filtration\", RadialFiltration(center=np.array([20, 6]))),\n",
    "    (\"diagram\", CubicalPersistence()),\n",
    "    (\"rescaling\", Scaler()),\n",
    "    (\"amplitude\", Amplitude(metric=\"heat\", metric_params={'sigma':0.15, 'n_bins':60}))\n",
    "]\n",
    "\n",
    "heat_pipeline = Pipeline(steps)"
   ]
  },
  {
   "cell_type": "code",
   "execution_count": 28,
   "metadata": {},
   "outputs": [
    {
     "data": {
      "text/plain": [
       "array([[1.34528408e-04, 2.49730871e+00]])"
      ]
     },
     "execution_count": 28,
     "metadata": {},
     "output_type": "execute_result"
    }
   ],
   "source": [
    "im8_pipeline = heat_pipeline.fit_transform(im8)\n",
    "im8_pipeline"
   ]
  },
  {
   "cell_type": "code",
   "execution_count": 31,
   "metadata": {},
   "outputs": [],
   "source": [
    "from sklearn.pipeline import make_pipeline, make_union\n",
    "from gtda.diagrams import PersistenceEntropy\n",
    "from gtda.images import HeightFiltration\n",
    "\n",
    "direction_list =[[1,0],[1,1],[0,1],[-1,1],[-1,0],[-1,-1],[0,-1],[1,-1]]\n",
    "\n",
    "center_list=[\n",
    "    [13,6],\n",
    "    [6,13],\n",
    "    [13,13],\n",
    "    [20,13],\n",
    "    [13,20],\n",
    "    [6,6],\n",
    "    [6,20],\n",
    "    [20,6],\n",
    "    [20,20],\n",
    "]\n",
    "\n",
    "# Creating a list of all filtration transformer\n",
    "filtration_list=(\n",
    "    [HeightFiltration(direction=np.array(direction), n_jobs=-1)\n",
    "     for direction in direction_list\n",
    "    ]\n",
    "    +[RadialFiltration(center=np.array(center), n_jobs=-1) for center in center_list]\n",
    ")\n",
    "\n",
    "#Creating the diagram generation pipeline\n",
    "diagram_steps = [[\n",
    "    Binarizer(threshold=0.4, n_jobs=-1),\n",
    "    filtration,\n",
    "    CubicalPersistence(n_jobs=-1),\n",
    "    Scaler(n_jobs=-1),\n",
    "]\n",
    "for filtration in filtration_list\n",
    "]\n",
    "\n",
    "metric_list = [\n",
    "    {\"metric\": \"bottleneck\", \"metric_params\": {}},\n",
    "    {\"metric\": \"wasserstein\", \"metric_params\": {\"p\": 1}},\n",
    "    {\"metric\": \"wasserstein\", \"metric_params\": {\"p\": 2}},\n",
    "    {\"metric\": \"landscape\", \"metric_params\": {\"p\": 1, \"n_layers\": 1, \"n_bins\": 100}},\n",
    "    {\"metric\": \"landscape\", \"metric_params\": {\"p\": 1, \"n_layers\": 2, \"n_bins\": 100}},\n",
    "    {\"metric\": \"landscape\", \"metric_params\": {\"p\": 2, \"n_layers\": 1, \"n_bins\": 100}},\n",
    "    {\"metric\": \"landscape\", \"metric_params\": {\"p\": 2, \"n_layers\": 2, \"n_bins\": 100}},\n",
    "    {\"metric\": \"betti\", \"metric_params\": {\"p\": 1, \"n_bins\": 100}},\n",
    "    {\"metric\": \"betti\", \"metric_params\": {\"p\": 2, \"n_bins\": 100}},\n",
    "    {\"metric\": \"heat\", \"metric_params\": {\"p\": 1, \"sigma\": 1.6, \"n_bins\": 100}},\n",
    "    {\"metric\": \"heat\", \"metric_params\": {\"p\": 1, \"sigma\": 3.2, \"n_bins\": 100}},\n",
    "    {\"metric\": \"heat\", \"metric_params\": {\"p\": 2, \"sigma\": 1.6, \"n_bins\": 100}},\n",
    "    {\"metric\": \"heat\", \"metric_params\": {\"p\": 2, \"sigma\": 3.2, \"n_bins\": 100}},\n",
    "]\n",
    "\n",
    "feature_union =make_union(*[PersistenceEntropy(nan_fill_value=-1)]\n",
    "+[Amplitude(**metric, n_jobs=-1) for metric in metric_list]\n",
    ")\n",
    "\n",
    "tda_union=make_union(\n",
    "    *[make_pipeline(*diagram_step, feature_union) for diagram_step in diagram_steps],\n",
    "    n_jobs=-1\n",
    ")"
   ]
  },
  {
   "cell_type": "code",
   "execution_count": 32,
   "metadata": {},
   "outputs": [
    {
     "data": {
      "text/html": [
       "<style>div.sk-top-container {color: black;background-color: white;}div.sk-toggleable {background-color: white;}label.sk-toggleable__label {cursor: pointer;display: block;width: 100%;margin-bottom: 0;padding: 0.2em 0.3em;box-sizing: border-box;text-align: center;}div.sk-toggleable__content {max-height: 0;max-width: 0;overflow: hidden;text-align: left;background-color: #f0f8ff;}div.sk-toggleable__content pre {margin: 0.2em;color: black;border-radius: 0.25em;background-color: #f0f8ff;}input.sk-toggleable__control:checked~div.sk-toggleable__content {max-height: 200px;max-width: 100%;overflow: auto;}div.sk-estimator input.sk-toggleable__control:checked~label.sk-toggleable__label {background-color: #d4ebff;}div.sk-label input.sk-toggleable__control:checked~label.sk-toggleable__label {background-color: #d4ebff;}input.sk-hidden--visually {border: 0;clip: rect(1px 1px 1px 1px);clip: rect(1px, 1px, 1px, 1px);height: 1px;margin: -1px;overflow: hidden;padding: 0;position: absolute;width: 1px;}div.sk-estimator {font-family: monospace;background-color: #f0f8ff;margin: 0.25em 0.25em;border: 1px dotted black;border-radius: 0.25em;box-sizing: border-box;}div.sk-estimator:hover {background-color: #d4ebff;}div.sk-parallel-item::after {content: \"\";width: 100%;border-bottom: 1px solid gray;flex-grow: 1;}div.sk-label:hover label.sk-toggleable__label {background-color: #d4ebff;}div.sk-serial::before {content: \"\";position: absolute;border-left: 1px solid gray;box-sizing: border-box;top: 2em;bottom: 0;left: 50%;}div.sk-serial {display: flex;flex-direction: column;align-items: center;background-color: white;}div.sk-item {z-index: 1;}div.sk-parallel {display: flex;align-items: stretch;justify-content: center;background-color: white;}div.sk-parallel-item {display: flex;flex-direction: column;position: relative;background-color: white;}div.sk-parallel-item:first-child::after {align-self: flex-end;width: 50%;}div.sk-parallel-item:last-child::after {align-self: flex-start;width: 50%;}div.sk-parallel-item:only-child::after {width: 0;}div.sk-dashed-wrapped {border: 1px dashed gray;margin: 0.2em;box-sizing: border-box;padding-bottom: 0.1em;background-color: white;position: relative;}div.sk-label label {font-family: monospace;font-weight: bold;background-color: white;display: inline-block;line-height: 1.2em;}div.sk-label-container {position: relative;z-index: 2;text-align: center;}div.sk-container {display: inline-block;position: relative;}</style><div class=\"sk-top-container\"><div class=\"sk-container\"><div class=\"sk-item sk-dashed-wrapped\"><div class=\"sk-label-container\"><div class=\"sk-label sk-toggleable\"><input class=\"sk-toggleable__control sk-hidden--visually\" id=\"ea7853cd-2b21-4f5f-bc2f-d2915eed534f\" type=\"checkbox\" ><label class=\"sk-toggleable__label\" for=\"ea7853cd-2b21-4f5f-bc2f-d2915eed534f\">FeatureUnion</label><div class=\"sk-toggleable__content\"><pre>FeatureUnion(n_jobs=-1,\n",
       "             transformer_list=[('pipeline-1',\n",
       "                                Pipeline(steps=[('binarizer',\n",
       "                                                 Binarizer(n_jobs=-1,\n",
       "                                                           threshold=0.4)),\n",
       "                                                ('heightfiltration',\n",
       "                                                 HeightFiltration(direction=array([1, 0]),\n",
       "                                                                  n_jobs=-1)),\n",
       "                                                ('cubicalpersistence',\n",
       "                                                 CubicalPersistence(n_jobs=-1)),\n",
       "                                                ('scaler', Scaler(n_jobs=-1)),\n",
       "                                                ('featureunion',\n",
       "                                                 FeatureUnion(transformer_list=[('persistenceentropy',\n",
       "                                                                                 Persist...\n",
       "                                                                                           metric_params={'n_bins': 100,\n",
       "                                                                                                          'p': 1,\n",
       "                                                                                                          'sigma': 1.6},\n",
       "                                                                                           n_jobs=-1)),\n",
       "                                                                                ('amplitude-11',\n",
       "                                                                                 Amplitude(metric='heat',\n",
       "                                                                                           metric_params={'n_bins': 100,\n",
       "                                                                                                          'p': 1,\n",
       "                                                                                                          'sigma': 3.2},\n",
       "                                                                                           n_jobs=-1)),\n",
       "                                                                                ('amplitude-12',\n",
       "                                                                                 Amplitude(metric='heat',\n",
       "                                                                                           metric_params={'n_bins': 100,\n",
       "                                                                                                          'p': 2,\n",
       "                                                                                                          'sigma': 1.6},\n",
       "                                                                                           n_jobs=-1)),\n",
       "                                                                                ('amplitude-13',\n",
       "                                                                                 Amplitude(metric='heat',\n",
       "                                                                                           metric_params={'n_bins': 100,\n",
       "                                                                                                          'p': 2,\n",
       "                                                                                                          'sigma': 3.2},\n",
       "                                                                                           n_jobs=-1))]))]))])</pre></div></div></div><div class=\"sk-parallel\"><div class=\"sk-parallel-item\"><div class=\"sk-item\"><div class=\"sk-label-container\"><div class=\"sk-label sk-toggleable\"><label>pipeline-1</label></div></div><div class=\"sk-serial\"><div class=\"sk-item\"><div class=\"sk-serial\"><div class=\"sk-item\"><div class=\"sk-estimator sk-toggleable\"><input class=\"sk-toggleable__control sk-hidden--visually\" id=\"df4e9294-92c7-4011-a180-07476ec5e968\" type=\"checkbox\" ><label class=\"sk-toggleable__label\" for=\"df4e9294-92c7-4011-a180-07476ec5e968\">Binarizer</label><div class=\"sk-toggleable__content\"><pre>Binarizer(n_jobs=-1, threshold=0.4)</pre></div></div></div><div class=\"sk-item\"><div class=\"sk-estimator sk-toggleable\"><input class=\"sk-toggleable__control sk-hidden--visually\" id=\"ecb78281-21b3-4db0-aea6-7b6a6dce488f\" type=\"checkbox\" ><label class=\"sk-toggleable__label\" for=\"ecb78281-21b3-4db0-aea6-7b6a6dce488f\">HeightFiltration</label><div class=\"sk-toggleable__content\"><pre>HeightFiltration(direction=array([1, 0]), n_jobs=-1)</pre></div></div></div><div class=\"sk-item\"><div class=\"sk-estimator sk-toggleable\"><input class=\"sk-toggleable__control sk-hidden--visually\" id=\"d76f0b4c-ad18-4466-91ef-8483b01cd77a\" type=\"checkbox\" ><label class=\"sk-toggleable__label\" for=\"d76f0b4c-ad18-4466-91ef-8483b01cd77a\">CubicalPersistence</label><div class=\"sk-toggleable__content\"><pre>CubicalPersistence(n_jobs=-1)</pre></div></div></div><div class=\"sk-item\"><div class=\"sk-estimator sk-toggleable\"><input class=\"sk-toggleable__control sk-hidden--visually\" id=\"11a3ca6c-12e1-449b-8282-b6ba23368487\" type=\"checkbox\" ><label class=\"sk-toggleable__label\" for=\"11a3ca6c-12e1-449b-8282-b6ba23368487\">Scaler</label><div class=\"sk-toggleable__content\"><pre>Scaler(n_jobs=-1)</pre></div></div></div><div class=\"sk-item sk-dashed-wrapped\"><div class=\"sk-label-container\"><div class=\"sk-label sk-toggleable\"><input class=\"sk-toggleable__control sk-hidden--visually\" id=\"31faecb5-c39b-46db-b488-06976e4f558c\" type=\"checkbox\" ><label class=\"sk-toggleable__label\" for=\"31faecb5-c39b-46db-b488-06976e4f558c\">featureunion: FeatureUnion</label><div class=\"sk-toggleable__content\"><pre>FeatureUnion(transformer_list=[('persistenceentropy',\n",
       "                                PersistenceEntropy(nan_fill_value=-1)),\n",
       "                               ('amplitude-1',\n",
       "                                Amplitude(metric='bottleneck', metric_params={},\n",
       "                                          n_jobs=-1)),\n",
       "                               ('amplitude-2',\n",
       "                                Amplitude(metric='wasserstein',\n",
       "                                          metric_params={'p': 1}, n_jobs=-1)),\n",
       "                               ('amplitude-3',\n",
       "                                Amplitude(metric='wasserstein',\n",
       "                                          metric_params={'p': 2}, n_jobs=-1)),\n",
       "                               ('amplitude-4',\n",
       "                                Amplitude...\n",
       "                                          metric_params={'n_bins': 100, 'p': 1,\n",
       "                                                         'sigma': 1.6},\n",
       "                                          n_jobs=-1)),\n",
       "                               ('amplitude-11',\n",
       "                                Amplitude(metric='heat',\n",
       "                                          metric_params={'n_bins': 100, 'p': 1,\n",
       "                                                         'sigma': 3.2},\n",
       "                                          n_jobs=-1)),\n",
       "                               ('amplitude-12',\n",
       "                                Amplitude(metric='heat',\n",
       "                                          metric_params={'n_bins': 100, 'p': 2,\n",
       "                                                         'sigma': 1.6},\n",
       "                                          n_jobs=-1)),\n",
       "                               ('amplitude-13',\n",
       "                                Amplitude(metric='heat',\n",
       "                                          metric_params={'n_bins': 100, 'p': 2,\n",
       "                                                         'sigma': 3.2},\n",
       "                                          n_jobs=-1))])</pre></div></div></div><div class=\"sk-parallel\"><div class=\"sk-parallel-item\"><div class=\"sk-item\"><div class=\"sk-label-container\"><div class=\"sk-label sk-toggleable\"><label>persistenceentropy</label></div></div><div class=\"sk-serial\"><div class=\"sk-item\"><div class=\"sk-estimator sk-toggleable\"><input class=\"sk-toggleable__control sk-hidden--visually\" id=\"0c35251b-a8ec-405e-9fb0-a9def491556a\" type=\"checkbox\" ><label class=\"sk-toggleable__label\" for=\"0c35251b-a8ec-405e-9fb0-a9def491556a\">PersistenceEntropy</label><div class=\"sk-toggleable__content\"><pre>PersistenceEntropy(nan_fill_value=-1)</pre></div></div></div></div></div></div><div class=\"sk-parallel-item\"><div class=\"sk-item\"><div class=\"sk-label-container\"><div class=\"sk-label sk-toggleable\"><label>amplitude-1</label></div></div><div class=\"sk-serial\"><div class=\"sk-item\"><div class=\"sk-estimator sk-toggleable\"><input class=\"sk-toggleable__control sk-hidden--visually\" id=\"e68e3e2d-bac5-4ace-b81b-bf840356c960\" type=\"checkbox\" ><label class=\"sk-toggleable__label\" for=\"e68e3e2d-bac5-4ace-b81b-bf840356c960\">Amplitude</label><div class=\"sk-toggleable__content\"><pre>Amplitude(metric='bottleneck', metric_params={}, n_jobs=-1)</pre></div></div></div></div></div></div><div class=\"sk-parallel-item\"><div class=\"sk-item\"><div class=\"sk-label-container\"><div class=\"sk-label sk-toggleable\"><label>amplitude-2</label></div></div><div class=\"sk-serial\"><div class=\"sk-item\"><div class=\"sk-estimator sk-toggleable\"><input class=\"sk-toggleable__control sk-hidden--visually\" id=\"8bbd1690-ec83-43a9-9024-6fc0ecd2997e\" type=\"checkbox\" ><label class=\"sk-toggleable__label\" for=\"8bbd1690-ec83-43a9-9024-6fc0ecd2997e\">Amplitude</label><div class=\"sk-toggleable__content\"><pre>Amplitude(metric='wasserstein', metric_params={'p': 1}, n_jobs=-1)</pre></div></div></div></div></div></div><div class=\"sk-parallel-item\"><div class=\"sk-item\"><div class=\"sk-label-container\"><div class=\"sk-label sk-toggleable\"><label>amplitude-3</label></div></div><div class=\"sk-serial\"><div class=\"sk-item\"><div class=\"sk-estimator sk-toggleable\"><input class=\"sk-toggleable__control sk-hidden--visually\" id=\"7b460186-3d73-436e-b4dd-538f11b2fccf\" type=\"checkbox\" ><label class=\"sk-toggleable__label\" for=\"7b460186-3d73-436e-b4dd-538f11b2fccf\">Amplitude</label><div class=\"sk-toggleable__content\"><pre>Amplitude(metric='wasserstein', metric_params={'p': 2}, n_jobs=-1)</pre></div></div></div></div></div></div><div class=\"sk-parallel-item\"><div class=\"sk-item\"><div class=\"sk-label-container\"><div class=\"sk-label sk-toggleable\"><label>amplitude-4</label></div></div><div class=\"sk-serial\"><div class=\"sk-item\"><div class=\"sk-estimator sk-toggleable\"><input class=\"sk-toggleable__control sk-hidden--visually\" id=\"dd4a76e4-769b-4640-bd49-ea90c770c801\" type=\"checkbox\" ><label class=\"sk-toggleable__label\" for=\"dd4a76e4-769b-4640-bd49-ea90c770c801\">Amplitude</label><div class=\"sk-toggleable__content\"><pre>Amplitude(metric_params={'n_bins': 100, 'n_layers': 1, 'p': 1}, n_jobs=-1)</pre></div></div></div></div></div></div><div class=\"sk-parallel-item\"><div class=\"sk-item\"><div class=\"sk-label-container\"><div class=\"sk-label sk-toggleable\"><label>amplitude-5</label></div></div><div class=\"sk-serial\"><div class=\"sk-item\"><div class=\"sk-estimator sk-toggleable\"><input class=\"sk-toggleable__control sk-hidden--visually\" id=\"19cfc3db-f32a-410b-ad59-1a6b125b4b97\" type=\"checkbox\" ><label class=\"sk-toggleable__label\" for=\"19cfc3db-f32a-410b-ad59-1a6b125b4b97\">Amplitude</label><div class=\"sk-toggleable__content\"><pre>Amplitude(metric_params={'n_bins': 100, 'n_layers': 2, 'p': 1}, n_jobs=-1)</pre></div></div></div></div></div></div><div class=\"sk-parallel-item\"><div class=\"sk-item\"><div class=\"sk-label-container\"><div class=\"sk-label sk-toggleable\"><label>amplitude-6</label></div></div><div class=\"sk-serial\"><div class=\"sk-item\"><div class=\"sk-estimator sk-toggleable\"><input class=\"sk-toggleable__control sk-hidden--visually\" id=\"b88ff330-ffc8-457d-b8f3-9fdd791f3f34\" type=\"checkbox\" ><label class=\"sk-toggleable__label\" for=\"b88ff330-ffc8-457d-b8f3-9fdd791f3f34\">Amplitude</label><div class=\"sk-toggleable__content\"><pre>Amplitude(metric_params={'n_bins': 100, 'n_layers': 1, 'p': 2}, n_jobs=-1)</pre></div></div></div></div></div></div><div class=\"sk-parallel-item\"><div class=\"sk-item\"><div class=\"sk-label-container\"><div class=\"sk-label sk-toggleable\"><label>amplitude-7</label></div></div><div class=\"sk-serial\"><div class=\"sk-item\"><div class=\"sk-estimator sk-toggleable\"><input class=\"sk-toggleable__control sk-hidden--visually\" id=\"586d4fa2-ae3d-4cde-bf0c-6308e8004da1\" type=\"checkbox\" ><label class=\"sk-toggleable__label\" for=\"586d4fa2-ae3d-4cde-bf0c-6308e8004da1\">Amplitude</label><div class=\"sk-toggleable__content\"><pre>Amplitude(metric_params={'n_bins': 100, 'n_layers': 2, 'p': 2}, n_jobs=-1)</pre></div></div></div></div></div></div><div class=\"sk-parallel-item\"><div class=\"sk-item\"><div class=\"sk-label-container\"><div class=\"sk-label sk-toggleable\"><label>amplitude-8</label></div></div><div class=\"sk-serial\"><div class=\"sk-item\"><div class=\"sk-estimator sk-toggleable\"><input class=\"sk-toggleable__control sk-hidden--visually\" id=\"9d97ef6d-94c8-4725-9661-a1e10277e26d\" type=\"checkbox\" ><label class=\"sk-toggleable__label\" for=\"9d97ef6d-94c8-4725-9661-a1e10277e26d\">Amplitude</label><div class=\"sk-toggleable__content\"><pre>Amplitude(metric='betti', metric_params={'n_bins': 100, 'p': 1}, n_jobs=-1)</pre></div></div></div></div></div></div><div class=\"sk-parallel-item\"><div class=\"sk-item\"><div class=\"sk-label-container\"><div class=\"sk-label sk-toggleable\"><label>amplitude-9</label></div></div><div class=\"sk-serial\"><div class=\"sk-item\"><div class=\"sk-estimator sk-toggleable\"><input class=\"sk-toggleable__control sk-hidden--visually\" id=\"b68d2d7d-1562-44bd-be91-175e427552fe\" type=\"checkbox\" ><label class=\"sk-toggleable__label\" for=\"b68d2d7d-1562-44bd-be91-175e427552fe\">Amplitude</label><div class=\"sk-toggleable__content\"><pre>Amplitude(metric='betti', metric_params={'n_bins': 100, 'p': 2}, n_jobs=-1)</pre></div></div></div></div></div></div><div class=\"sk-parallel-item\"><div class=\"sk-item\"><div class=\"sk-label-container\"><div class=\"sk-label sk-toggleable\"><label>amplitude-10</label></div></div><div class=\"sk-serial\"><div class=\"sk-item\"><div class=\"sk-estimator sk-toggleable\"><input class=\"sk-toggleable__control sk-hidden--visually\" id=\"d8711bad-ce48-4e37-b4ea-5487463e6e95\" type=\"checkbox\" ><label class=\"sk-toggleable__label\" for=\"d8711bad-ce48-4e37-b4ea-5487463e6e95\">Amplitude</label><div class=\"sk-toggleable__content\"><pre>Amplitude(metric='heat', metric_params={'n_bins': 100, 'p': 1, 'sigma': 1.6},\n",
       "          n_jobs=-1)</pre></div></div></div></div></div></div><div class=\"sk-parallel-item\"><div class=\"sk-item\"><div class=\"sk-label-container\"><div class=\"sk-label sk-toggleable\"><label>amplitude-11</label></div></div><div class=\"sk-serial\"><div class=\"sk-item\"><div class=\"sk-estimator sk-toggleable\"><input class=\"sk-toggleable__control sk-hidden--visually\" id=\"e3e219f2-b8eb-4f90-b4ab-186032283263\" type=\"checkbox\" ><label class=\"sk-toggleable__label\" for=\"e3e219f2-b8eb-4f90-b4ab-186032283263\">Amplitude</label><div class=\"sk-toggleable__content\"><pre>Amplitude(metric='heat', metric_params={'n_bins': 100, 'p': 1, 'sigma': 3.2},\n",
       "          n_jobs=-1)</pre></div></div></div></div></div></div><div class=\"sk-parallel-item\"><div class=\"sk-item\"><div class=\"sk-label-container\"><div class=\"sk-label sk-toggleable\"><label>amplitude-12</label></div></div><div class=\"sk-serial\"><div class=\"sk-item\"><div class=\"sk-estimator sk-toggleable\"><input class=\"sk-toggleable__control sk-hidden--visually\" id=\"65c08495-dcf2-4f0e-8961-c804c2afe977\" type=\"checkbox\" ><label class=\"sk-toggleable__label\" for=\"65c08495-dcf2-4f0e-8961-c804c2afe977\">Amplitude</label><div class=\"sk-toggleable__content\"><pre>Amplitude(metric='heat', metric_params={'n_bins': 100, 'p': 2, 'sigma': 1.6},\n",
       "          n_jobs=-1)</pre></div></div></div></div></div></div><div class=\"sk-parallel-item\"><div class=\"sk-item\"><div class=\"sk-label-container\"><div class=\"sk-label sk-toggleable\"><label>amplitude-13</label></div></div><div class=\"sk-serial\"><div class=\"sk-item\"><div class=\"sk-estimator sk-toggleable\"><input class=\"sk-toggleable__control sk-hidden--visually\" id=\"2c3544d9-cab3-4422-848c-2ad7038479de\" type=\"checkbox\" ><label class=\"sk-toggleable__label\" for=\"2c3544d9-cab3-4422-848c-2ad7038479de\">Amplitude</label><div class=\"sk-toggleable__content\"><pre>Amplitude(metric='heat', metric_params={'n_bins': 100, 'p': 2, 'sigma': 3.2},\n",
       "          n_jobs=-1)</pre></div></div></div></div></div></div></div></div></div></div></div></div></div><div class=\"sk-parallel-item\"><div class=\"sk-item\"><div class=\"sk-label-container\"><div class=\"sk-label sk-toggleable\"><label>pipeline-2</label></div></div><div class=\"sk-serial\"><div class=\"sk-item\"><div class=\"sk-serial\"><div class=\"sk-item\"><div class=\"sk-estimator sk-toggleable\"><input class=\"sk-toggleable__control sk-hidden--visually\" id=\"a1f5cc11-e592-441f-aa0d-3a6d6fcfe43f\" type=\"checkbox\" ><label class=\"sk-toggleable__label\" for=\"a1f5cc11-e592-441f-aa0d-3a6d6fcfe43f\">Binarizer</label><div class=\"sk-toggleable__content\"><pre>Binarizer(n_jobs=-1, threshold=0.4)</pre></div></div></div><div class=\"sk-item\"><div class=\"sk-estimator sk-toggleable\"><input class=\"sk-toggleable__control sk-hidden--visually\" id=\"bdbc49f3-1f3f-4357-8d69-a09795928b4d\" type=\"checkbox\" ><label class=\"sk-toggleable__label\" for=\"bdbc49f3-1f3f-4357-8d69-a09795928b4d\">HeightFiltration</label><div class=\"sk-toggleable__content\"><pre>HeightFiltration(direction=array([1, 1]), n_jobs=-1)</pre></div></div></div><div class=\"sk-item\"><div class=\"sk-estimator sk-toggleable\"><input class=\"sk-toggleable__control sk-hidden--visually\" id=\"0116ad57-6f3a-417d-97fc-0cf35fbb84ca\" type=\"checkbox\" ><label class=\"sk-toggleable__label\" for=\"0116ad57-6f3a-417d-97fc-0cf35fbb84ca\">CubicalPersistence</label><div class=\"sk-toggleable__content\"><pre>CubicalPersistence(n_jobs=-1)</pre></div></div></div><div class=\"sk-item\"><div class=\"sk-estimator sk-toggleable\"><input class=\"sk-toggleable__control sk-hidden--visually\" id=\"cb7c3a74-70d6-492d-a7f0-bd457e01f929\" type=\"checkbox\" ><label class=\"sk-toggleable__label\" for=\"cb7c3a74-70d6-492d-a7f0-bd457e01f929\">Scaler</label><div class=\"sk-toggleable__content\"><pre>Scaler(n_jobs=-1)</pre></div></div></div><div class=\"sk-item sk-dashed-wrapped\"><div class=\"sk-label-container\"><div class=\"sk-label sk-toggleable\"><input class=\"sk-toggleable__control sk-hidden--visually\" id=\"5aef9609-5877-4ec0-be19-5ad44999f48a\" type=\"checkbox\" ><label class=\"sk-toggleable__label\" for=\"5aef9609-5877-4ec0-be19-5ad44999f48a\">featureunion: FeatureUnion</label><div class=\"sk-toggleable__content\"><pre>FeatureUnion(transformer_list=[('persistenceentropy',\n",
       "                                PersistenceEntropy(nan_fill_value=-1)),\n",
       "                               ('amplitude-1',\n",
       "                                Amplitude(metric='bottleneck', metric_params={},\n",
       "                                          n_jobs=-1)),\n",
       "                               ('amplitude-2',\n",
       "                                Amplitude(metric='wasserstein',\n",
       "                                          metric_params={'p': 1}, n_jobs=-1)),\n",
       "                               ('amplitude-3',\n",
       "                                Amplitude(metric='wasserstein',\n",
       "                                          metric_params={'p': 2}, n_jobs=-1)),\n",
       "                               ('amplitude-4',\n",
       "                                Amplitude...\n",
       "                                          metric_params={'n_bins': 100, 'p': 1,\n",
       "                                                         'sigma': 1.6},\n",
       "                                          n_jobs=-1)),\n",
       "                               ('amplitude-11',\n",
       "                                Amplitude(metric='heat',\n",
       "                                          metric_params={'n_bins': 100, 'p': 1,\n",
       "                                                         'sigma': 3.2},\n",
       "                                          n_jobs=-1)),\n",
       "                               ('amplitude-12',\n",
       "                                Amplitude(metric='heat',\n",
       "                                          metric_params={'n_bins': 100, 'p': 2,\n",
       "                                                         'sigma': 1.6},\n",
       "                                          n_jobs=-1)),\n",
       "                               ('amplitude-13',\n",
       "                                Amplitude(metric='heat',\n",
       "                                          metric_params={'n_bins': 100, 'p': 2,\n",
       "                                                         'sigma': 3.2},\n",
       "                                          n_jobs=-1))])</pre></div></div></div><div class=\"sk-parallel\"><div class=\"sk-parallel-item\"><div class=\"sk-item\"><div class=\"sk-label-container\"><div class=\"sk-label sk-toggleable\"><label>persistenceentropy</label></div></div><div class=\"sk-serial\"><div class=\"sk-item\"><div class=\"sk-estimator sk-toggleable\"><input class=\"sk-toggleable__control sk-hidden--visually\" id=\"c9fdea03-a2f7-45b8-9af9-89ada9103e0e\" type=\"checkbox\" ><label class=\"sk-toggleable__label\" for=\"c9fdea03-a2f7-45b8-9af9-89ada9103e0e\">PersistenceEntropy</label><div class=\"sk-toggleable__content\"><pre>PersistenceEntropy(nan_fill_value=-1)</pre></div></div></div></div></div></div><div class=\"sk-parallel-item\"><div class=\"sk-item\"><div class=\"sk-label-container\"><div class=\"sk-label sk-toggleable\"><label>amplitude-1</label></div></div><div class=\"sk-serial\"><div class=\"sk-item\"><div class=\"sk-estimator sk-toggleable\"><input class=\"sk-toggleable__control sk-hidden--visually\" id=\"9e4d554c-d36b-4170-b071-ab33ff00080a\" type=\"checkbox\" ><label class=\"sk-toggleable__label\" for=\"9e4d554c-d36b-4170-b071-ab33ff00080a\">Amplitude</label><div class=\"sk-toggleable__content\"><pre>Amplitude(metric='bottleneck', metric_params={}, n_jobs=-1)</pre></div></div></div></div></div></div><div class=\"sk-parallel-item\"><div class=\"sk-item\"><div class=\"sk-label-container\"><div class=\"sk-label sk-toggleable\"><label>amplitude-2</label></div></div><div class=\"sk-serial\"><div class=\"sk-item\"><div class=\"sk-estimator sk-toggleable\"><input class=\"sk-toggleable__control sk-hidden--visually\" id=\"2490e5f5-5a64-4e22-8ddd-00cd450d8428\" type=\"checkbox\" ><label class=\"sk-toggleable__label\" for=\"2490e5f5-5a64-4e22-8ddd-00cd450d8428\">Amplitude</label><div class=\"sk-toggleable__content\"><pre>Amplitude(metric='wasserstein', metric_params={'p': 1}, n_jobs=-1)</pre></div></div></div></div></div></div><div class=\"sk-parallel-item\"><div class=\"sk-item\"><div class=\"sk-label-container\"><div class=\"sk-label sk-toggleable\"><label>amplitude-3</label></div></div><div class=\"sk-serial\"><div class=\"sk-item\"><div class=\"sk-estimator sk-toggleable\"><input class=\"sk-toggleable__control sk-hidden--visually\" id=\"1b7a87ac-3cee-4d53-9458-416adba00067\" type=\"checkbox\" ><label class=\"sk-toggleable__label\" for=\"1b7a87ac-3cee-4d53-9458-416adba00067\">Amplitude</label><div class=\"sk-toggleable__content\"><pre>Amplitude(metric='wasserstein', metric_params={'p': 2}, n_jobs=-1)</pre></div></div></div></div></div></div><div class=\"sk-parallel-item\"><div class=\"sk-item\"><div class=\"sk-label-container\"><div class=\"sk-label sk-toggleable\"><label>amplitude-4</label></div></div><div class=\"sk-serial\"><div class=\"sk-item\"><div class=\"sk-estimator sk-toggleable\"><input class=\"sk-toggleable__control sk-hidden--visually\" id=\"65297320-80d7-437c-b1c2-ad5b81c667e0\" type=\"checkbox\" ><label class=\"sk-toggleable__label\" for=\"65297320-80d7-437c-b1c2-ad5b81c667e0\">Amplitude</label><div class=\"sk-toggleable__content\"><pre>Amplitude(metric_params={'n_bins': 100, 'n_layers': 1, 'p': 1}, n_jobs=-1)</pre></div></div></div></div></div></div><div class=\"sk-parallel-item\"><div class=\"sk-item\"><div class=\"sk-label-container\"><div class=\"sk-label sk-toggleable\"><label>amplitude-5</label></div></div><div class=\"sk-serial\"><div class=\"sk-item\"><div class=\"sk-estimator sk-toggleable\"><input class=\"sk-toggleable__control sk-hidden--visually\" id=\"5f7aeb5f-6301-4018-8ce1-c905705e32ec\" type=\"checkbox\" ><label class=\"sk-toggleable__label\" for=\"5f7aeb5f-6301-4018-8ce1-c905705e32ec\">Amplitude</label><div class=\"sk-toggleable__content\"><pre>Amplitude(metric_params={'n_bins': 100, 'n_layers': 2, 'p': 1}, n_jobs=-1)</pre></div></div></div></div></div></div><div class=\"sk-parallel-item\"><div class=\"sk-item\"><div class=\"sk-label-container\"><div class=\"sk-label sk-toggleable\"><label>amplitude-6</label></div></div><div class=\"sk-serial\"><div class=\"sk-item\"><div class=\"sk-estimator sk-toggleable\"><input class=\"sk-toggleable__control sk-hidden--visually\" id=\"08e1a086-17eb-4a06-81bb-f93a5b5f91a1\" type=\"checkbox\" ><label class=\"sk-toggleable__label\" for=\"08e1a086-17eb-4a06-81bb-f93a5b5f91a1\">Amplitude</label><div class=\"sk-toggleable__content\"><pre>Amplitude(metric_params={'n_bins': 100, 'n_layers': 1, 'p': 2}, n_jobs=-1)</pre></div></div></div></div></div></div><div class=\"sk-parallel-item\"><div class=\"sk-item\"><div class=\"sk-label-container\"><div class=\"sk-label sk-toggleable\"><label>amplitude-7</label></div></div><div class=\"sk-serial\"><div class=\"sk-item\"><div class=\"sk-estimator sk-toggleable\"><input class=\"sk-toggleable__control sk-hidden--visually\" id=\"61f3d65a-94d3-4bb9-9119-343eb30a294f\" type=\"checkbox\" ><label class=\"sk-toggleable__label\" for=\"61f3d65a-94d3-4bb9-9119-343eb30a294f\">Amplitude</label><div class=\"sk-toggleable__content\"><pre>Amplitude(metric_params={'n_bins': 100, 'n_layers': 2, 'p': 2}, n_jobs=-1)</pre></div></div></div></div></div></div><div class=\"sk-parallel-item\"><div class=\"sk-item\"><div class=\"sk-label-container\"><div class=\"sk-label sk-toggleable\"><label>amplitude-8</label></div></div><div class=\"sk-serial\"><div class=\"sk-item\"><div class=\"sk-estimator sk-toggleable\"><input class=\"sk-toggleable__control sk-hidden--visually\" id=\"210b6690-cb5a-4ffd-a39c-94fe3bc1e12b\" type=\"checkbox\" ><label class=\"sk-toggleable__label\" for=\"210b6690-cb5a-4ffd-a39c-94fe3bc1e12b\">Amplitude</label><div class=\"sk-toggleable__content\"><pre>Amplitude(metric='betti', metric_params={'n_bins': 100, 'p': 1}, n_jobs=-1)</pre></div></div></div></div></div></div><div class=\"sk-parallel-item\"><div class=\"sk-item\"><div class=\"sk-label-container\"><div class=\"sk-label sk-toggleable\"><label>amplitude-9</label></div></div><div class=\"sk-serial\"><div class=\"sk-item\"><div class=\"sk-estimator sk-toggleable\"><input class=\"sk-toggleable__control sk-hidden--visually\" id=\"a2c7721a-cf43-4b2e-a787-bad55618d75e\" type=\"checkbox\" ><label class=\"sk-toggleable__label\" for=\"a2c7721a-cf43-4b2e-a787-bad55618d75e\">Amplitude</label><div class=\"sk-toggleable__content\"><pre>Amplitude(metric='betti', metric_params={'n_bins': 100, 'p': 2}, n_jobs=-1)</pre></div></div></div></div></div></div><div class=\"sk-parallel-item\"><div class=\"sk-item\"><div class=\"sk-label-container\"><div class=\"sk-label sk-toggleable\"><label>amplitude-10</label></div></div><div class=\"sk-serial\"><div class=\"sk-item\"><div class=\"sk-estimator sk-toggleable\"><input class=\"sk-toggleable__control sk-hidden--visually\" id=\"10acfd24-6ebc-47f6-86cd-69a60d08464d\" type=\"checkbox\" ><label class=\"sk-toggleable__label\" for=\"10acfd24-6ebc-47f6-86cd-69a60d08464d\">Amplitude</label><div class=\"sk-toggleable__content\"><pre>Amplitude(metric='heat', metric_params={'n_bins': 100, 'p': 1, 'sigma': 1.6},\n",
       "          n_jobs=-1)</pre></div></div></div></div></div></div><div class=\"sk-parallel-item\"><div class=\"sk-item\"><div class=\"sk-label-container\"><div class=\"sk-label sk-toggleable\"><label>amplitude-11</label></div></div><div class=\"sk-serial\"><div class=\"sk-item\"><div class=\"sk-estimator sk-toggleable\"><input class=\"sk-toggleable__control sk-hidden--visually\" id=\"da6a77d1-a777-4b87-8aab-5dda3ea5144e\" type=\"checkbox\" ><label class=\"sk-toggleable__label\" for=\"da6a77d1-a777-4b87-8aab-5dda3ea5144e\">Amplitude</label><div class=\"sk-toggleable__content\"><pre>Amplitude(metric='heat', metric_params={'n_bins': 100, 'p': 1, 'sigma': 3.2},\n",
       "          n_jobs=-1)</pre></div></div></div></div></div></div><div class=\"sk-parallel-item\"><div class=\"sk-item\"><div class=\"sk-label-container\"><div class=\"sk-label sk-toggleable\"><label>amplitude-12</label></div></div><div class=\"sk-serial\"><div class=\"sk-item\"><div class=\"sk-estimator sk-toggleable\"><input class=\"sk-toggleable__control sk-hidden--visually\" id=\"1080358a-388a-4828-bc1c-f265c37a7538\" type=\"checkbox\" ><label class=\"sk-toggleable__label\" for=\"1080358a-388a-4828-bc1c-f265c37a7538\">Amplitude</label><div class=\"sk-toggleable__content\"><pre>Amplitude(metric='heat', metric_params={'n_bins': 100, 'p': 2, 'sigma': 1.6},\n",
       "          n_jobs=-1)</pre></div></div></div></div></div></div><div class=\"sk-parallel-item\"><div class=\"sk-item\"><div class=\"sk-label-container\"><div class=\"sk-label sk-toggleable\"><label>amplitude-13</label></div></div><div class=\"sk-serial\"><div class=\"sk-item\"><div class=\"sk-estimator sk-toggleable\"><input class=\"sk-toggleable__control sk-hidden--visually\" id=\"72683197-79fc-4374-b5dc-2814db84341f\" type=\"checkbox\" ><label class=\"sk-toggleable__label\" for=\"72683197-79fc-4374-b5dc-2814db84341f\">Amplitude</label><div class=\"sk-toggleable__content\"><pre>Amplitude(metric='heat', metric_params={'n_bins': 100, 'p': 2, 'sigma': 3.2},\n",
       "          n_jobs=-1)</pre></div></div></div></div></div></div></div></div></div></div></div></div></div><div class=\"sk-parallel-item\"><div class=\"sk-item\"><div class=\"sk-label-container\"><div class=\"sk-label sk-toggleable\"><label>pipeline-3</label></div></div><div class=\"sk-serial\"><div class=\"sk-item\"><div class=\"sk-serial\"><div class=\"sk-item\"><div class=\"sk-estimator sk-toggleable\"><input class=\"sk-toggleable__control sk-hidden--visually\" id=\"9e62f687-6d7a-481b-9498-825e0c8a685d\" type=\"checkbox\" ><label class=\"sk-toggleable__label\" for=\"9e62f687-6d7a-481b-9498-825e0c8a685d\">Binarizer</label><div class=\"sk-toggleable__content\"><pre>Binarizer(n_jobs=-1, threshold=0.4)</pre></div></div></div><div class=\"sk-item\"><div class=\"sk-estimator sk-toggleable\"><input class=\"sk-toggleable__control sk-hidden--visually\" id=\"0ccdc7bd-5d72-471a-b94f-9306b25def5d\" type=\"checkbox\" ><label class=\"sk-toggleable__label\" for=\"0ccdc7bd-5d72-471a-b94f-9306b25def5d\">HeightFiltration</label><div class=\"sk-toggleable__content\"><pre>HeightFiltration(direction=array([0, 1]), n_jobs=-1)</pre></div></div></div><div class=\"sk-item\"><div class=\"sk-estimator sk-toggleable\"><input class=\"sk-toggleable__control sk-hidden--visually\" id=\"4e9a1dfa-a579-4253-ba24-548b6badabf4\" type=\"checkbox\" ><label class=\"sk-toggleable__label\" for=\"4e9a1dfa-a579-4253-ba24-548b6badabf4\">CubicalPersistence</label><div class=\"sk-toggleable__content\"><pre>CubicalPersistence(n_jobs=-1)</pre></div></div></div><div class=\"sk-item\"><div class=\"sk-estimator sk-toggleable\"><input class=\"sk-toggleable__control sk-hidden--visually\" id=\"d0a543b9-d21e-40c7-91e7-ff05aed5624e\" type=\"checkbox\" ><label class=\"sk-toggleable__label\" for=\"d0a543b9-d21e-40c7-91e7-ff05aed5624e\">Scaler</label><div class=\"sk-toggleable__content\"><pre>Scaler(n_jobs=-1)</pre></div></div></div><div class=\"sk-item sk-dashed-wrapped\"><div class=\"sk-label-container\"><div class=\"sk-label sk-toggleable\"><input class=\"sk-toggleable__control sk-hidden--visually\" id=\"3ababdb1-be4e-4cc4-8ee7-418e0be53016\" type=\"checkbox\" ><label class=\"sk-toggleable__label\" for=\"3ababdb1-be4e-4cc4-8ee7-418e0be53016\">featureunion: FeatureUnion</label><div class=\"sk-toggleable__content\"><pre>FeatureUnion(transformer_list=[('persistenceentropy',\n",
       "                                PersistenceEntropy(nan_fill_value=-1)),\n",
       "                               ('amplitude-1',\n",
       "                                Amplitude(metric='bottleneck', metric_params={},\n",
       "                                          n_jobs=-1)),\n",
       "                               ('amplitude-2',\n",
       "                                Amplitude(metric='wasserstein',\n",
       "                                          metric_params={'p': 1}, n_jobs=-1)),\n",
       "                               ('amplitude-3',\n",
       "                                Amplitude(metric='wasserstein',\n",
       "                                          metric_params={'p': 2}, n_jobs=-1)),\n",
       "                               ('amplitude-4',\n",
       "                                Amplitude...\n",
       "                                          metric_params={'n_bins': 100, 'p': 1,\n",
       "                                                         'sigma': 1.6},\n",
       "                                          n_jobs=-1)),\n",
       "                               ('amplitude-11',\n",
       "                                Amplitude(metric='heat',\n",
       "                                          metric_params={'n_bins': 100, 'p': 1,\n",
       "                                                         'sigma': 3.2},\n",
       "                                          n_jobs=-1)),\n",
       "                               ('amplitude-12',\n",
       "                                Amplitude(metric='heat',\n",
       "                                          metric_params={'n_bins': 100, 'p': 2,\n",
       "                                                         'sigma': 1.6},\n",
       "                                          n_jobs=-1)),\n",
       "                               ('amplitude-13',\n",
       "                                Amplitude(metric='heat',\n",
       "                                          metric_params={'n_bins': 100, 'p': 2,\n",
       "                                                         'sigma': 3.2},\n",
       "                                          n_jobs=-1))])</pre></div></div></div><div class=\"sk-parallel\"><div class=\"sk-parallel-item\"><div class=\"sk-item\"><div class=\"sk-label-container\"><div class=\"sk-label sk-toggleable\"><label>persistenceentropy</label></div></div><div class=\"sk-serial\"><div class=\"sk-item\"><div class=\"sk-estimator sk-toggleable\"><input class=\"sk-toggleable__control sk-hidden--visually\" id=\"22d764d6-7480-410e-8736-d9284d782661\" type=\"checkbox\" ><label class=\"sk-toggleable__label\" for=\"22d764d6-7480-410e-8736-d9284d782661\">PersistenceEntropy</label><div class=\"sk-toggleable__content\"><pre>PersistenceEntropy(nan_fill_value=-1)</pre></div></div></div></div></div></div><div class=\"sk-parallel-item\"><div class=\"sk-item\"><div class=\"sk-label-container\"><div class=\"sk-label sk-toggleable\"><label>amplitude-1</label></div></div><div class=\"sk-serial\"><div class=\"sk-item\"><div class=\"sk-estimator sk-toggleable\"><input class=\"sk-toggleable__control sk-hidden--visually\" id=\"96968f11-53c2-4888-a6de-aef796873f9d\" type=\"checkbox\" ><label class=\"sk-toggleable__label\" for=\"96968f11-53c2-4888-a6de-aef796873f9d\">Amplitude</label><div class=\"sk-toggleable__content\"><pre>Amplitude(metric='bottleneck', metric_params={}, n_jobs=-1)</pre></div></div></div></div></div></div><div class=\"sk-parallel-item\"><div class=\"sk-item\"><div class=\"sk-label-container\"><div class=\"sk-label sk-toggleable\"><label>amplitude-2</label></div></div><div class=\"sk-serial\"><div class=\"sk-item\"><div class=\"sk-estimator sk-toggleable\"><input class=\"sk-toggleable__control sk-hidden--visually\" id=\"708e3f44-da59-4b5d-9cca-85d39fd1bd77\" type=\"checkbox\" ><label class=\"sk-toggleable__label\" for=\"708e3f44-da59-4b5d-9cca-85d39fd1bd77\">Amplitude</label><div class=\"sk-toggleable__content\"><pre>Amplitude(metric='wasserstein', metric_params={'p': 1}, n_jobs=-1)</pre></div></div></div></div></div></div><div class=\"sk-parallel-item\"><div class=\"sk-item\"><div class=\"sk-label-container\"><div class=\"sk-label sk-toggleable\"><label>amplitude-3</label></div></div><div class=\"sk-serial\"><div class=\"sk-item\"><div class=\"sk-estimator sk-toggleable\"><input class=\"sk-toggleable__control sk-hidden--visually\" id=\"80eadaee-3224-4b22-87a5-c1cb28b7ca9a\" type=\"checkbox\" ><label class=\"sk-toggleable__label\" for=\"80eadaee-3224-4b22-87a5-c1cb28b7ca9a\">Amplitude</label><div class=\"sk-toggleable__content\"><pre>Amplitude(metric='wasserstein', metric_params={'p': 2}, n_jobs=-1)</pre></div></div></div></div></div></div><div class=\"sk-parallel-item\"><div class=\"sk-item\"><div class=\"sk-label-container\"><div class=\"sk-label sk-toggleable\"><label>amplitude-4</label></div></div><div class=\"sk-serial\"><div class=\"sk-item\"><div class=\"sk-estimator sk-toggleable\"><input class=\"sk-toggleable__control sk-hidden--visually\" id=\"a3e9f41d-4019-4da4-bf3b-e27a5f7b1f32\" type=\"checkbox\" ><label class=\"sk-toggleable__label\" for=\"a3e9f41d-4019-4da4-bf3b-e27a5f7b1f32\">Amplitude</label><div class=\"sk-toggleable__content\"><pre>Amplitude(metric_params={'n_bins': 100, 'n_layers': 1, 'p': 1}, n_jobs=-1)</pre></div></div></div></div></div></div><div class=\"sk-parallel-item\"><div class=\"sk-item\"><div class=\"sk-label-container\"><div class=\"sk-label sk-toggleable\"><label>amplitude-5</label></div></div><div class=\"sk-serial\"><div class=\"sk-item\"><div class=\"sk-estimator sk-toggleable\"><input class=\"sk-toggleable__control sk-hidden--visually\" id=\"93c237a7-7583-4558-bb6b-14c072ffe9d8\" type=\"checkbox\" ><label class=\"sk-toggleable__label\" for=\"93c237a7-7583-4558-bb6b-14c072ffe9d8\">Amplitude</label><div class=\"sk-toggleable__content\"><pre>Amplitude(metric_params={'n_bins': 100, 'n_layers': 2, 'p': 1}, n_jobs=-1)</pre></div></div></div></div></div></div><div class=\"sk-parallel-item\"><div class=\"sk-item\"><div class=\"sk-label-container\"><div class=\"sk-label sk-toggleable\"><label>amplitude-6</label></div></div><div class=\"sk-serial\"><div class=\"sk-item\"><div class=\"sk-estimator sk-toggleable\"><input class=\"sk-toggleable__control sk-hidden--visually\" id=\"7141491c-1d2e-4727-bb06-fde34b41c5b5\" type=\"checkbox\" ><label class=\"sk-toggleable__label\" for=\"7141491c-1d2e-4727-bb06-fde34b41c5b5\">Amplitude</label><div class=\"sk-toggleable__content\"><pre>Amplitude(metric_params={'n_bins': 100, 'n_layers': 1, 'p': 2}, n_jobs=-1)</pre></div></div></div></div></div></div><div class=\"sk-parallel-item\"><div class=\"sk-item\"><div class=\"sk-label-container\"><div class=\"sk-label sk-toggleable\"><label>amplitude-7</label></div></div><div class=\"sk-serial\"><div class=\"sk-item\"><div class=\"sk-estimator sk-toggleable\"><input class=\"sk-toggleable__control sk-hidden--visually\" id=\"2adcb4fc-a642-4c5d-91fa-88f54607b18b\" type=\"checkbox\" ><label class=\"sk-toggleable__label\" for=\"2adcb4fc-a642-4c5d-91fa-88f54607b18b\">Amplitude</label><div class=\"sk-toggleable__content\"><pre>Amplitude(metric_params={'n_bins': 100, 'n_layers': 2, 'p': 2}, n_jobs=-1)</pre></div></div></div></div></div></div><div class=\"sk-parallel-item\"><div class=\"sk-item\"><div class=\"sk-label-container\"><div class=\"sk-label sk-toggleable\"><label>amplitude-8</label></div></div><div class=\"sk-serial\"><div class=\"sk-item\"><div class=\"sk-estimator sk-toggleable\"><input class=\"sk-toggleable__control sk-hidden--visually\" id=\"56b964c0-f906-4e37-bbd0-14bde0a6fbcd\" type=\"checkbox\" ><label class=\"sk-toggleable__label\" for=\"56b964c0-f906-4e37-bbd0-14bde0a6fbcd\">Amplitude</label><div class=\"sk-toggleable__content\"><pre>Amplitude(metric='betti', metric_params={'n_bins': 100, 'p': 1}, n_jobs=-1)</pre></div></div></div></div></div></div><div class=\"sk-parallel-item\"><div class=\"sk-item\"><div class=\"sk-label-container\"><div class=\"sk-label sk-toggleable\"><label>amplitude-9</label></div></div><div class=\"sk-serial\"><div class=\"sk-item\"><div class=\"sk-estimator sk-toggleable\"><input class=\"sk-toggleable__control sk-hidden--visually\" id=\"4abc60ea-2da0-409c-8b64-adc7fd2e6c2d\" type=\"checkbox\" ><label class=\"sk-toggleable__label\" for=\"4abc60ea-2da0-409c-8b64-adc7fd2e6c2d\">Amplitude</label><div class=\"sk-toggleable__content\"><pre>Amplitude(metric='betti', metric_params={'n_bins': 100, 'p': 2}, n_jobs=-1)</pre></div></div></div></div></div></div><div class=\"sk-parallel-item\"><div class=\"sk-item\"><div class=\"sk-label-container\"><div class=\"sk-label sk-toggleable\"><label>amplitude-10</label></div></div><div class=\"sk-serial\"><div class=\"sk-item\"><div class=\"sk-estimator sk-toggleable\"><input class=\"sk-toggleable__control sk-hidden--visually\" id=\"0ebea725-8b57-4394-8f73-d5326e75b7fe\" type=\"checkbox\" ><label class=\"sk-toggleable__label\" for=\"0ebea725-8b57-4394-8f73-d5326e75b7fe\">Amplitude</label><div class=\"sk-toggleable__content\"><pre>Amplitude(metric='heat', metric_params={'n_bins': 100, 'p': 1, 'sigma': 1.6},\n",
       "          n_jobs=-1)</pre></div></div></div></div></div></div><div class=\"sk-parallel-item\"><div class=\"sk-item\"><div class=\"sk-label-container\"><div class=\"sk-label sk-toggleable\"><label>amplitude-11</label></div></div><div class=\"sk-serial\"><div class=\"sk-item\"><div class=\"sk-estimator sk-toggleable\"><input class=\"sk-toggleable__control sk-hidden--visually\" id=\"c5647cce-974a-4909-9d29-85795d569e46\" type=\"checkbox\" ><label class=\"sk-toggleable__label\" for=\"c5647cce-974a-4909-9d29-85795d569e46\">Amplitude</label><div class=\"sk-toggleable__content\"><pre>Amplitude(metric='heat', metric_params={'n_bins': 100, 'p': 1, 'sigma': 3.2},\n",
       "          n_jobs=-1)</pre></div></div></div></div></div></div><div class=\"sk-parallel-item\"><div class=\"sk-item\"><div class=\"sk-label-container\"><div class=\"sk-label sk-toggleable\"><label>amplitude-12</label></div></div><div class=\"sk-serial\"><div class=\"sk-item\"><div class=\"sk-estimator sk-toggleable\"><input class=\"sk-toggleable__control sk-hidden--visually\" id=\"79b71a9c-34f1-4050-bfa4-0b508aa8ba30\" type=\"checkbox\" ><label class=\"sk-toggleable__label\" for=\"79b71a9c-34f1-4050-bfa4-0b508aa8ba30\">Amplitude</label><div class=\"sk-toggleable__content\"><pre>Amplitude(metric='heat', metric_params={'n_bins': 100, 'p': 2, 'sigma': 1.6},\n",
       "          n_jobs=-1)</pre></div></div></div></div></div></div><div class=\"sk-parallel-item\"><div class=\"sk-item\"><div class=\"sk-label-container\"><div class=\"sk-label sk-toggleable\"><label>amplitude-13</label></div></div><div class=\"sk-serial\"><div class=\"sk-item\"><div class=\"sk-estimator sk-toggleable\"><input class=\"sk-toggleable__control sk-hidden--visually\" id=\"d8df0888-7cca-4089-8242-b13b542947de\" type=\"checkbox\" ><label class=\"sk-toggleable__label\" for=\"d8df0888-7cca-4089-8242-b13b542947de\">Amplitude</label><div class=\"sk-toggleable__content\"><pre>Amplitude(metric='heat', metric_params={'n_bins': 100, 'p': 2, 'sigma': 3.2},\n",
       "          n_jobs=-1)</pre></div></div></div></div></div></div></div></div></div></div></div></div></div><div class=\"sk-parallel-item\"><div class=\"sk-item\"><div class=\"sk-label-container\"><div class=\"sk-label sk-toggleable\"><label>pipeline-4</label></div></div><div class=\"sk-serial\"><div class=\"sk-item\"><div class=\"sk-serial\"><div class=\"sk-item\"><div class=\"sk-estimator sk-toggleable\"><input class=\"sk-toggleable__control sk-hidden--visually\" id=\"877321ab-13dd-4b84-9a76-9d5d6b89b450\" type=\"checkbox\" ><label class=\"sk-toggleable__label\" for=\"877321ab-13dd-4b84-9a76-9d5d6b89b450\">Binarizer</label><div class=\"sk-toggleable__content\"><pre>Binarizer(n_jobs=-1, threshold=0.4)</pre></div></div></div><div class=\"sk-item\"><div class=\"sk-estimator sk-toggleable\"><input class=\"sk-toggleable__control sk-hidden--visually\" id=\"05be3c31-8b11-4679-9bb3-043c26c36f49\" type=\"checkbox\" ><label class=\"sk-toggleable__label\" for=\"05be3c31-8b11-4679-9bb3-043c26c36f49\">HeightFiltration</label><div class=\"sk-toggleable__content\"><pre>HeightFiltration(direction=array([-1,  1]), n_jobs=-1)</pre></div></div></div><div class=\"sk-item\"><div class=\"sk-estimator sk-toggleable\"><input class=\"sk-toggleable__control sk-hidden--visually\" id=\"859a442c-c59b-4c93-b83f-8da1851aa52e\" type=\"checkbox\" ><label class=\"sk-toggleable__label\" for=\"859a442c-c59b-4c93-b83f-8da1851aa52e\">CubicalPersistence</label><div class=\"sk-toggleable__content\"><pre>CubicalPersistence(n_jobs=-1)</pre></div></div></div><div class=\"sk-item\"><div class=\"sk-estimator sk-toggleable\"><input class=\"sk-toggleable__control sk-hidden--visually\" id=\"130151a8-6fc4-4802-8781-ee0fa81d50d4\" type=\"checkbox\" ><label class=\"sk-toggleable__label\" for=\"130151a8-6fc4-4802-8781-ee0fa81d50d4\">Scaler</label><div class=\"sk-toggleable__content\"><pre>Scaler(n_jobs=-1)</pre></div></div></div><div class=\"sk-item sk-dashed-wrapped\"><div class=\"sk-label-container\"><div class=\"sk-label sk-toggleable\"><input class=\"sk-toggleable__control sk-hidden--visually\" id=\"1bdbed1f-fb8a-42fa-b937-ade5f22148b5\" type=\"checkbox\" ><label class=\"sk-toggleable__label\" for=\"1bdbed1f-fb8a-42fa-b937-ade5f22148b5\">featureunion: FeatureUnion</label><div class=\"sk-toggleable__content\"><pre>FeatureUnion(transformer_list=[('persistenceentropy',\n",
       "                                PersistenceEntropy(nan_fill_value=-1)),\n",
       "                               ('amplitude-1',\n",
       "                                Amplitude(metric='bottleneck', metric_params={},\n",
       "                                          n_jobs=-1)),\n",
       "                               ('amplitude-2',\n",
       "                                Amplitude(metric='wasserstein',\n",
       "                                          metric_params={'p': 1}, n_jobs=-1)),\n",
       "                               ('amplitude-3',\n",
       "                                Amplitude(metric='wasserstein',\n",
       "                                          metric_params={'p': 2}, n_jobs=-1)),\n",
       "                               ('amplitude-4',\n",
       "                                Amplitude...\n",
       "                                          metric_params={'n_bins': 100, 'p': 1,\n",
       "                                                         'sigma': 1.6},\n",
       "                                          n_jobs=-1)),\n",
       "                               ('amplitude-11',\n",
       "                                Amplitude(metric='heat',\n",
       "                                          metric_params={'n_bins': 100, 'p': 1,\n",
       "                                                         'sigma': 3.2},\n",
       "                                          n_jobs=-1)),\n",
       "                               ('amplitude-12',\n",
       "                                Amplitude(metric='heat',\n",
       "                                          metric_params={'n_bins': 100, 'p': 2,\n",
       "                                                         'sigma': 1.6},\n",
       "                                          n_jobs=-1)),\n",
       "                               ('amplitude-13',\n",
       "                                Amplitude(metric='heat',\n",
       "                                          metric_params={'n_bins': 100, 'p': 2,\n",
       "                                                         'sigma': 3.2},\n",
       "                                          n_jobs=-1))])</pre></div></div></div><div class=\"sk-parallel\"><div class=\"sk-parallel-item\"><div class=\"sk-item\"><div class=\"sk-label-container\"><div class=\"sk-label sk-toggleable\"><label>persistenceentropy</label></div></div><div class=\"sk-serial\"><div class=\"sk-item\"><div class=\"sk-estimator sk-toggleable\"><input class=\"sk-toggleable__control sk-hidden--visually\" id=\"ce306cc3-2ac0-4d04-bf79-f32b61120785\" type=\"checkbox\" ><label class=\"sk-toggleable__label\" for=\"ce306cc3-2ac0-4d04-bf79-f32b61120785\">PersistenceEntropy</label><div class=\"sk-toggleable__content\"><pre>PersistenceEntropy(nan_fill_value=-1)</pre></div></div></div></div></div></div><div class=\"sk-parallel-item\"><div class=\"sk-item\"><div class=\"sk-label-container\"><div class=\"sk-label sk-toggleable\"><label>amplitude-1</label></div></div><div class=\"sk-serial\"><div class=\"sk-item\"><div class=\"sk-estimator sk-toggleable\"><input class=\"sk-toggleable__control sk-hidden--visually\" id=\"fe65afa3-1fb3-40c2-b48a-5ec97df10efd\" type=\"checkbox\" ><label class=\"sk-toggleable__label\" for=\"fe65afa3-1fb3-40c2-b48a-5ec97df10efd\">Amplitude</label><div class=\"sk-toggleable__content\"><pre>Amplitude(metric='bottleneck', metric_params={}, n_jobs=-1)</pre></div></div></div></div></div></div><div class=\"sk-parallel-item\"><div class=\"sk-item\"><div class=\"sk-label-container\"><div class=\"sk-label sk-toggleable\"><label>amplitude-2</label></div></div><div class=\"sk-serial\"><div class=\"sk-item\"><div class=\"sk-estimator sk-toggleable\"><input class=\"sk-toggleable__control sk-hidden--visually\" id=\"098c1332-ed40-46e3-81e4-e74ae2f41b89\" type=\"checkbox\" ><label class=\"sk-toggleable__label\" for=\"098c1332-ed40-46e3-81e4-e74ae2f41b89\">Amplitude</label><div class=\"sk-toggleable__content\"><pre>Amplitude(metric='wasserstein', metric_params={'p': 1}, n_jobs=-1)</pre></div></div></div></div></div></div><div class=\"sk-parallel-item\"><div class=\"sk-item\"><div class=\"sk-label-container\"><div class=\"sk-label sk-toggleable\"><label>amplitude-3</label></div></div><div class=\"sk-serial\"><div class=\"sk-item\"><div class=\"sk-estimator sk-toggleable\"><input class=\"sk-toggleable__control sk-hidden--visually\" id=\"d5b81fbe-3a32-4e6e-91a8-ec12025ef2b3\" type=\"checkbox\" ><label class=\"sk-toggleable__label\" for=\"d5b81fbe-3a32-4e6e-91a8-ec12025ef2b3\">Amplitude</label><div class=\"sk-toggleable__content\"><pre>Amplitude(metric='wasserstein', metric_params={'p': 2}, n_jobs=-1)</pre></div></div></div></div></div></div><div class=\"sk-parallel-item\"><div class=\"sk-item\"><div class=\"sk-label-container\"><div class=\"sk-label sk-toggleable\"><label>amplitude-4</label></div></div><div class=\"sk-serial\"><div class=\"sk-item\"><div class=\"sk-estimator sk-toggleable\"><input class=\"sk-toggleable__control sk-hidden--visually\" id=\"102a2f70-efb8-40ab-8bf7-0bf0411ef5c6\" type=\"checkbox\" ><label class=\"sk-toggleable__label\" for=\"102a2f70-efb8-40ab-8bf7-0bf0411ef5c6\">Amplitude</label><div class=\"sk-toggleable__content\"><pre>Amplitude(metric_params={'n_bins': 100, 'n_layers': 1, 'p': 1}, n_jobs=-1)</pre></div></div></div></div></div></div><div class=\"sk-parallel-item\"><div class=\"sk-item\"><div class=\"sk-label-container\"><div class=\"sk-label sk-toggleable\"><label>amplitude-5</label></div></div><div class=\"sk-serial\"><div class=\"sk-item\"><div class=\"sk-estimator sk-toggleable\"><input class=\"sk-toggleable__control sk-hidden--visually\" id=\"5936fb59-a7cd-4be3-b1b7-e2566233aba1\" type=\"checkbox\" ><label class=\"sk-toggleable__label\" for=\"5936fb59-a7cd-4be3-b1b7-e2566233aba1\">Amplitude</label><div class=\"sk-toggleable__content\"><pre>Amplitude(metric_params={'n_bins': 100, 'n_layers': 2, 'p': 1}, n_jobs=-1)</pre></div></div></div></div></div></div><div class=\"sk-parallel-item\"><div class=\"sk-item\"><div class=\"sk-label-container\"><div class=\"sk-label sk-toggleable\"><label>amplitude-6</label></div></div><div class=\"sk-serial\"><div class=\"sk-item\"><div class=\"sk-estimator sk-toggleable\"><input class=\"sk-toggleable__control sk-hidden--visually\" id=\"ba99fa0f-fb08-4f03-8e98-713e3f0e32a3\" type=\"checkbox\" ><label class=\"sk-toggleable__label\" for=\"ba99fa0f-fb08-4f03-8e98-713e3f0e32a3\">Amplitude</label><div class=\"sk-toggleable__content\"><pre>Amplitude(metric_params={'n_bins': 100, 'n_layers': 1, 'p': 2}, n_jobs=-1)</pre></div></div></div></div></div></div><div class=\"sk-parallel-item\"><div class=\"sk-item\"><div class=\"sk-label-container\"><div class=\"sk-label sk-toggleable\"><label>amplitude-7</label></div></div><div class=\"sk-serial\"><div class=\"sk-item\"><div class=\"sk-estimator sk-toggleable\"><input class=\"sk-toggleable__control sk-hidden--visually\" id=\"98ba39ba-d20f-4e20-a427-3b6f4158b7e5\" type=\"checkbox\" ><label class=\"sk-toggleable__label\" for=\"98ba39ba-d20f-4e20-a427-3b6f4158b7e5\">Amplitude</label><div class=\"sk-toggleable__content\"><pre>Amplitude(metric_params={'n_bins': 100, 'n_layers': 2, 'p': 2}, n_jobs=-1)</pre></div></div></div></div></div></div><div class=\"sk-parallel-item\"><div class=\"sk-item\"><div class=\"sk-label-container\"><div class=\"sk-label sk-toggleable\"><label>amplitude-8</label></div></div><div class=\"sk-serial\"><div class=\"sk-item\"><div class=\"sk-estimator sk-toggleable\"><input class=\"sk-toggleable__control sk-hidden--visually\" id=\"d8e240d5-18e7-410b-9a83-a844b67c725c\" type=\"checkbox\" ><label class=\"sk-toggleable__label\" for=\"d8e240d5-18e7-410b-9a83-a844b67c725c\">Amplitude</label><div class=\"sk-toggleable__content\"><pre>Amplitude(metric='betti', metric_params={'n_bins': 100, 'p': 1}, n_jobs=-1)</pre></div></div></div></div></div></div><div class=\"sk-parallel-item\"><div class=\"sk-item\"><div class=\"sk-label-container\"><div class=\"sk-label sk-toggleable\"><label>amplitude-9</label></div></div><div class=\"sk-serial\"><div class=\"sk-item\"><div class=\"sk-estimator sk-toggleable\"><input class=\"sk-toggleable__control sk-hidden--visually\" id=\"99e2dce8-8e03-437d-9617-bff4da3afff8\" type=\"checkbox\" ><label class=\"sk-toggleable__label\" for=\"99e2dce8-8e03-437d-9617-bff4da3afff8\">Amplitude</label><div class=\"sk-toggleable__content\"><pre>Amplitude(metric='betti', metric_params={'n_bins': 100, 'p': 2}, n_jobs=-1)</pre></div></div></div></div></div></div><div class=\"sk-parallel-item\"><div class=\"sk-item\"><div class=\"sk-label-container\"><div class=\"sk-label sk-toggleable\"><label>amplitude-10</label></div></div><div class=\"sk-serial\"><div class=\"sk-item\"><div class=\"sk-estimator sk-toggleable\"><input class=\"sk-toggleable__control sk-hidden--visually\" id=\"44627a97-8023-4d42-8a57-03db127eef3e\" type=\"checkbox\" ><label class=\"sk-toggleable__label\" for=\"44627a97-8023-4d42-8a57-03db127eef3e\">Amplitude</label><div class=\"sk-toggleable__content\"><pre>Amplitude(metric='heat', metric_params={'n_bins': 100, 'p': 1, 'sigma': 1.6},\n",
       "          n_jobs=-1)</pre></div></div></div></div></div></div><div class=\"sk-parallel-item\"><div class=\"sk-item\"><div class=\"sk-label-container\"><div class=\"sk-label sk-toggleable\"><label>amplitude-11</label></div></div><div class=\"sk-serial\"><div class=\"sk-item\"><div class=\"sk-estimator sk-toggleable\"><input class=\"sk-toggleable__control sk-hidden--visually\" id=\"b8e7ce7f-3414-4f5f-9d9a-1a6347376289\" type=\"checkbox\" ><label class=\"sk-toggleable__label\" for=\"b8e7ce7f-3414-4f5f-9d9a-1a6347376289\">Amplitude</label><div class=\"sk-toggleable__content\"><pre>Amplitude(metric='heat', metric_params={'n_bins': 100, 'p': 1, 'sigma': 3.2},\n",
       "          n_jobs=-1)</pre></div></div></div></div></div></div><div class=\"sk-parallel-item\"><div class=\"sk-item\"><div class=\"sk-label-container\"><div class=\"sk-label sk-toggleable\"><label>amplitude-12</label></div></div><div class=\"sk-serial\"><div class=\"sk-item\"><div class=\"sk-estimator sk-toggleable\"><input class=\"sk-toggleable__control sk-hidden--visually\" id=\"2f396199-b5ac-4ab9-949a-9831a2a95db0\" type=\"checkbox\" ><label class=\"sk-toggleable__label\" for=\"2f396199-b5ac-4ab9-949a-9831a2a95db0\">Amplitude</label><div class=\"sk-toggleable__content\"><pre>Amplitude(metric='heat', metric_params={'n_bins': 100, 'p': 2, 'sigma': 1.6},\n",
       "          n_jobs=-1)</pre></div></div></div></div></div></div><div class=\"sk-parallel-item\"><div class=\"sk-item\"><div class=\"sk-label-container\"><div class=\"sk-label sk-toggleable\"><label>amplitude-13</label></div></div><div class=\"sk-serial\"><div class=\"sk-item\"><div class=\"sk-estimator sk-toggleable\"><input class=\"sk-toggleable__control sk-hidden--visually\" id=\"30f486f2-0e93-4193-a609-2d762c4bd8e9\" type=\"checkbox\" ><label class=\"sk-toggleable__label\" for=\"30f486f2-0e93-4193-a609-2d762c4bd8e9\">Amplitude</label><div class=\"sk-toggleable__content\"><pre>Amplitude(metric='heat', metric_params={'n_bins': 100, 'p': 2, 'sigma': 3.2},\n",
       "          n_jobs=-1)</pre></div></div></div></div></div></div></div></div></div></div></div></div></div><div class=\"sk-parallel-item\"><div class=\"sk-item\"><div class=\"sk-label-container\"><div class=\"sk-label sk-toggleable\"><label>pipeline-5</label></div></div><div class=\"sk-serial\"><div class=\"sk-item\"><div class=\"sk-serial\"><div class=\"sk-item\"><div class=\"sk-estimator sk-toggleable\"><input class=\"sk-toggleable__control sk-hidden--visually\" id=\"4eedcd3a-211f-44ad-9c5f-d9267ae0b3de\" type=\"checkbox\" ><label class=\"sk-toggleable__label\" for=\"4eedcd3a-211f-44ad-9c5f-d9267ae0b3de\">Binarizer</label><div class=\"sk-toggleable__content\"><pre>Binarizer(n_jobs=-1, threshold=0.4)</pre></div></div></div><div class=\"sk-item\"><div class=\"sk-estimator sk-toggleable\"><input class=\"sk-toggleable__control sk-hidden--visually\" id=\"8c6303a5-931d-430a-ac52-f2afd9cdfbed\" type=\"checkbox\" ><label class=\"sk-toggleable__label\" for=\"8c6303a5-931d-430a-ac52-f2afd9cdfbed\">HeightFiltration</label><div class=\"sk-toggleable__content\"><pre>HeightFiltration(direction=array([-1,  0]), n_jobs=-1)</pre></div></div></div><div class=\"sk-item\"><div class=\"sk-estimator sk-toggleable\"><input class=\"sk-toggleable__control sk-hidden--visually\" id=\"91e92477-3aec-4cb6-aff1-bd12ef3995fe\" type=\"checkbox\" ><label class=\"sk-toggleable__label\" for=\"91e92477-3aec-4cb6-aff1-bd12ef3995fe\">CubicalPersistence</label><div class=\"sk-toggleable__content\"><pre>CubicalPersistence(n_jobs=-1)</pre></div></div></div><div class=\"sk-item\"><div class=\"sk-estimator sk-toggleable\"><input class=\"sk-toggleable__control sk-hidden--visually\" id=\"ba2600e0-d397-4ea5-aedd-9ee54b72350c\" type=\"checkbox\" ><label class=\"sk-toggleable__label\" for=\"ba2600e0-d397-4ea5-aedd-9ee54b72350c\">Scaler</label><div class=\"sk-toggleable__content\"><pre>Scaler(n_jobs=-1)</pre></div></div></div><div class=\"sk-item sk-dashed-wrapped\"><div class=\"sk-label-container\"><div class=\"sk-label sk-toggleable\"><input class=\"sk-toggleable__control sk-hidden--visually\" id=\"bd231715-539f-42fe-a4f1-bf7a95e7b022\" type=\"checkbox\" ><label class=\"sk-toggleable__label\" for=\"bd231715-539f-42fe-a4f1-bf7a95e7b022\">featureunion: FeatureUnion</label><div class=\"sk-toggleable__content\"><pre>FeatureUnion(transformer_list=[('persistenceentropy',\n",
       "                                PersistenceEntropy(nan_fill_value=-1)),\n",
       "                               ('amplitude-1',\n",
       "                                Amplitude(metric='bottleneck', metric_params={},\n",
       "                                          n_jobs=-1)),\n",
       "                               ('amplitude-2',\n",
       "                                Amplitude(metric='wasserstein',\n",
       "                                          metric_params={'p': 1}, n_jobs=-1)),\n",
       "                               ('amplitude-3',\n",
       "                                Amplitude(metric='wasserstein',\n",
       "                                          metric_params={'p': 2}, n_jobs=-1)),\n",
       "                               ('amplitude-4',\n",
       "                                Amplitude...\n",
       "                                          metric_params={'n_bins': 100, 'p': 1,\n",
       "                                                         'sigma': 1.6},\n",
       "                                          n_jobs=-1)),\n",
       "                               ('amplitude-11',\n",
       "                                Amplitude(metric='heat',\n",
       "                                          metric_params={'n_bins': 100, 'p': 1,\n",
       "                                                         'sigma': 3.2},\n",
       "                                          n_jobs=-1)),\n",
       "                               ('amplitude-12',\n",
       "                                Amplitude(metric='heat',\n",
       "                                          metric_params={'n_bins': 100, 'p': 2,\n",
       "                                                         'sigma': 1.6},\n",
       "                                          n_jobs=-1)),\n",
       "                               ('amplitude-13',\n",
       "                                Amplitude(metric='heat',\n",
       "                                          metric_params={'n_bins': 100, 'p': 2,\n",
       "                                                         'sigma': 3.2},\n",
       "                                          n_jobs=-1))])</pre></div></div></div><div class=\"sk-parallel\"><div class=\"sk-parallel-item\"><div class=\"sk-item\"><div class=\"sk-label-container\"><div class=\"sk-label sk-toggleable\"><label>persistenceentropy</label></div></div><div class=\"sk-serial\"><div class=\"sk-item\"><div class=\"sk-estimator sk-toggleable\"><input class=\"sk-toggleable__control sk-hidden--visually\" id=\"5160e78e-1896-4f06-a84b-d386e8ee7ed7\" type=\"checkbox\" ><label class=\"sk-toggleable__label\" for=\"5160e78e-1896-4f06-a84b-d386e8ee7ed7\">PersistenceEntropy</label><div class=\"sk-toggleable__content\"><pre>PersistenceEntropy(nan_fill_value=-1)</pre></div></div></div></div></div></div><div class=\"sk-parallel-item\"><div class=\"sk-item\"><div class=\"sk-label-container\"><div class=\"sk-label sk-toggleable\"><label>amplitude-1</label></div></div><div class=\"sk-serial\"><div class=\"sk-item\"><div class=\"sk-estimator sk-toggleable\"><input class=\"sk-toggleable__control sk-hidden--visually\" id=\"dcf2e677-4b53-4be8-aa39-722164126cd2\" type=\"checkbox\" ><label class=\"sk-toggleable__label\" for=\"dcf2e677-4b53-4be8-aa39-722164126cd2\">Amplitude</label><div class=\"sk-toggleable__content\"><pre>Amplitude(metric='bottleneck', metric_params={}, n_jobs=-1)</pre></div></div></div></div></div></div><div class=\"sk-parallel-item\"><div class=\"sk-item\"><div class=\"sk-label-container\"><div class=\"sk-label sk-toggleable\"><label>amplitude-2</label></div></div><div class=\"sk-serial\"><div class=\"sk-item\"><div class=\"sk-estimator sk-toggleable\"><input class=\"sk-toggleable__control sk-hidden--visually\" id=\"f2e61a18-94ca-42f0-beeb-1b75e4a52a93\" type=\"checkbox\" ><label class=\"sk-toggleable__label\" for=\"f2e61a18-94ca-42f0-beeb-1b75e4a52a93\">Amplitude</label><div class=\"sk-toggleable__content\"><pre>Amplitude(metric='wasserstein', metric_params={'p': 1}, n_jobs=-1)</pre></div></div></div></div></div></div><div class=\"sk-parallel-item\"><div class=\"sk-item\"><div class=\"sk-label-container\"><div class=\"sk-label sk-toggleable\"><label>amplitude-3</label></div></div><div class=\"sk-serial\"><div class=\"sk-item\"><div class=\"sk-estimator sk-toggleable\"><input class=\"sk-toggleable__control sk-hidden--visually\" id=\"94e7bac3-df57-44fb-8e3e-9df026a98224\" type=\"checkbox\" ><label class=\"sk-toggleable__label\" for=\"94e7bac3-df57-44fb-8e3e-9df026a98224\">Amplitude</label><div class=\"sk-toggleable__content\"><pre>Amplitude(metric='wasserstein', metric_params={'p': 2}, n_jobs=-1)</pre></div></div></div></div></div></div><div class=\"sk-parallel-item\"><div class=\"sk-item\"><div class=\"sk-label-container\"><div class=\"sk-label sk-toggleable\"><label>amplitude-4</label></div></div><div class=\"sk-serial\"><div class=\"sk-item\"><div class=\"sk-estimator sk-toggleable\"><input class=\"sk-toggleable__control sk-hidden--visually\" id=\"4d26109f-0c9a-46c8-80a9-13f101ce0659\" type=\"checkbox\" ><label class=\"sk-toggleable__label\" for=\"4d26109f-0c9a-46c8-80a9-13f101ce0659\">Amplitude</label><div class=\"sk-toggleable__content\"><pre>Amplitude(metric_params={'n_bins': 100, 'n_layers': 1, 'p': 1}, n_jobs=-1)</pre></div></div></div></div></div></div><div class=\"sk-parallel-item\"><div class=\"sk-item\"><div class=\"sk-label-container\"><div class=\"sk-label sk-toggleable\"><label>amplitude-5</label></div></div><div class=\"sk-serial\"><div class=\"sk-item\"><div class=\"sk-estimator sk-toggleable\"><input class=\"sk-toggleable__control sk-hidden--visually\" id=\"66b4c700-47f4-4655-a890-b233fade01b0\" type=\"checkbox\" ><label class=\"sk-toggleable__label\" for=\"66b4c700-47f4-4655-a890-b233fade01b0\">Amplitude</label><div class=\"sk-toggleable__content\"><pre>Amplitude(metric_params={'n_bins': 100, 'n_layers': 2, 'p': 1}, n_jobs=-1)</pre></div></div></div></div></div></div><div class=\"sk-parallel-item\"><div class=\"sk-item\"><div class=\"sk-label-container\"><div class=\"sk-label sk-toggleable\"><label>amplitude-6</label></div></div><div class=\"sk-serial\"><div class=\"sk-item\"><div class=\"sk-estimator sk-toggleable\"><input class=\"sk-toggleable__control sk-hidden--visually\" id=\"f36ab882-ae5b-455a-ada8-764d106045b6\" type=\"checkbox\" ><label class=\"sk-toggleable__label\" for=\"f36ab882-ae5b-455a-ada8-764d106045b6\">Amplitude</label><div class=\"sk-toggleable__content\"><pre>Amplitude(metric_params={'n_bins': 100, 'n_layers': 1, 'p': 2}, n_jobs=-1)</pre></div></div></div></div></div></div><div class=\"sk-parallel-item\"><div class=\"sk-item\"><div class=\"sk-label-container\"><div class=\"sk-label sk-toggleable\"><label>amplitude-7</label></div></div><div class=\"sk-serial\"><div class=\"sk-item\"><div class=\"sk-estimator sk-toggleable\"><input class=\"sk-toggleable__control sk-hidden--visually\" id=\"6b87a0c2-377f-44e2-a7ee-d2a9ed287d7d\" type=\"checkbox\" ><label class=\"sk-toggleable__label\" for=\"6b87a0c2-377f-44e2-a7ee-d2a9ed287d7d\">Amplitude</label><div class=\"sk-toggleable__content\"><pre>Amplitude(metric_params={'n_bins': 100, 'n_layers': 2, 'p': 2}, n_jobs=-1)</pre></div></div></div></div></div></div><div class=\"sk-parallel-item\"><div class=\"sk-item\"><div class=\"sk-label-container\"><div class=\"sk-label sk-toggleable\"><label>amplitude-8</label></div></div><div class=\"sk-serial\"><div class=\"sk-item\"><div class=\"sk-estimator sk-toggleable\"><input class=\"sk-toggleable__control sk-hidden--visually\" id=\"781f32cb-4923-420d-8fb4-54407ed004c6\" type=\"checkbox\" ><label class=\"sk-toggleable__label\" for=\"781f32cb-4923-420d-8fb4-54407ed004c6\">Amplitude</label><div class=\"sk-toggleable__content\"><pre>Amplitude(metric='betti', metric_params={'n_bins': 100, 'p': 1}, n_jobs=-1)</pre></div></div></div></div></div></div><div class=\"sk-parallel-item\"><div class=\"sk-item\"><div class=\"sk-label-container\"><div class=\"sk-label sk-toggleable\"><label>amplitude-9</label></div></div><div class=\"sk-serial\"><div class=\"sk-item\"><div class=\"sk-estimator sk-toggleable\"><input class=\"sk-toggleable__control sk-hidden--visually\" id=\"e903598d-3c0d-4749-a85b-9b5c8f6d66b8\" type=\"checkbox\" ><label class=\"sk-toggleable__label\" for=\"e903598d-3c0d-4749-a85b-9b5c8f6d66b8\">Amplitude</label><div class=\"sk-toggleable__content\"><pre>Amplitude(metric='betti', metric_params={'n_bins': 100, 'p': 2}, n_jobs=-1)</pre></div></div></div></div></div></div><div class=\"sk-parallel-item\"><div class=\"sk-item\"><div class=\"sk-label-container\"><div class=\"sk-label sk-toggleable\"><label>amplitude-10</label></div></div><div class=\"sk-serial\"><div class=\"sk-item\"><div class=\"sk-estimator sk-toggleable\"><input class=\"sk-toggleable__control sk-hidden--visually\" id=\"26da5c28-c8b6-45a2-817a-911f8ffb8ba6\" type=\"checkbox\" ><label class=\"sk-toggleable__label\" for=\"26da5c28-c8b6-45a2-817a-911f8ffb8ba6\">Amplitude</label><div class=\"sk-toggleable__content\"><pre>Amplitude(metric='heat', metric_params={'n_bins': 100, 'p': 1, 'sigma': 1.6},\n",
       "          n_jobs=-1)</pre></div></div></div></div></div></div><div class=\"sk-parallel-item\"><div class=\"sk-item\"><div class=\"sk-label-container\"><div class=\"sk-label sk-toggleable\"><label>amplitude-11</label></div></div><div class=\"sk-serial\"><div class=\"sk-item\"><div class=\"sk-estimator sk-toggleable\"><input class=\"sk-toggleable__control sk-hidden--visually\" id=\"84634e9f-9408-4215-9feb-b18fd9fdbf48\" type=\"checkbox\" ><label class=\"sk-toggleable__label\" for=\"84634e9f-9408-4215-9feb-b18fd9fdbf48\">Amplitude</label><div class=\"sk-toggleable__content\"><pre>Amplitude(metric='heat', metric_params={'n_bins': 100, 'p': 1, 'sigma': 3.2},\n",
       "          n_jobs=-1)</pre></div></div></div></div></div></div><div class=\"sk-parallel-item\"><div class=\"sk-item\"><div class=\"sk-label-container\"><div class=\"sk-label sk-toggleable\"><label>amplitude-12</label></div></div><div class=\"sk-serial\"><div class=\"sk-item\"><div class=\"sk-estimator sk-toggleable\"><input class=\"sk-toggleable__control sk-hidden--visually\" id=\"130787d6-ac5c-4a6b-8b1b-a4755ea9dc84\" type=\"checkbox\" ><label class=\"sk-toggleable__label\" for=\"130787d6-ac5c-4a6b-8b1b-a4755ea9dc84\">Amplitude</label><div class=\"sk-toggleable__content\"><pre>Amplitude(metric='heat', metric_params={'n_bins': 100, 'p': 2, 'sigma': 1.6},\n",
       "          n_jobs=-1)</pre></div></div></div></div></div></div><div class=\"sk-parallel-item\"><div class=\"sk-item\"><div class=\"sk-label-container\"><div class=\"sk-label sk-toggleable\"><label>amplitude-13</label></div></div><div class=\"sk-serial\"><div class=\"sk-item\"><div class=\"sk-estimator sk-toggleable\"><input class=\"sk-toggleable__control sk-hidden--visually\" id=\"a23599a1-c8ab-4f58-928a-aa0138f9ed70\" type=\"checkbox\" ><label class=\"sk-toggleable__label\" for=\"a23599a1-c8ab-4f58-928a-aa0138f9ed70\">Amplitude</label><div class=\"sk-toggleable__content\"><pre>Amplitude(metric='heat', metric_params={'n_bins': 100, 'p': 2, 'sigma': 3.2},\n",
       "          n_jobs=-1)</pre></div></div></div></div></div></div></div></div></div></div></div></div></div><div class=\"sk-parallel-item\"><div class=\"sk-item\"><div class=\"sk-label-container\"><div class=\"sk-label sk-toggleable\"><label>pipeline-6</label></div></div><div class=\"sk-serial\"><div class=\"sk-item\"><div class=\"sk-serial\"><div class=\"sk-item\"><div class=\"sk-estimator sk-toggleable\"><input class=\"sk-toggleable__control sk-hidden--visually\" id=\"aa3d06ae-ad41-4c4e-b3ed-6e4f052603b6\" type=\"checkbox\" ><label class=\"sk-toggleable__label\" for=\"aa3d06ae-ad41-4c4e-b3ed-6e4f052603b6\">Binarizer</label><div class=\"sk-toggleable__content\"><pre>Binarizer(n_jobs=-1, threshold=0.4)</pre></div></div></div><div class=\"sk-item\"><div class=\"sk-estimator sk-toggleable\"><input class=\"sk-toggleable__control sk-hidden--visually\" id=\"e5edc9e5-6476-4da6-a424-19232db89911\" type=\"checkbox\" ><label class=\"sk-toggleable__label\" for=\"e5edc9e5-6476-4da6-a424-19232db89911\">HeightFiltration</label><div class=\"sk-toggleable__content\"><pre>HeightFiltration(direction=array([-1, -1]), n_jobs=-1)</pre></div></div></div><div class=\"sk-item\"><div class=\"sk-estimator sk-toggleable\"><input class=\"sk-toggleable__control sk-hidden--visually\" id=\"5fcba748-7994-4a1d-a5f7-a9f15e81d23b\" type=\"checkbox\" ><label class=\"sk-toggleable__label\" for=\"5fcba748-7994-4a1d-a5f7-a9f15e81d23b\">CubicalPersistence</label><div class=\"sk-toggleable__content\"><pre>CubicalPersistence(n_jobs=-1)</pre></div></div></div><div class=\"sk-item\"><div class=\"sk-estimator sk-toggleable\"><input class=\"sk-toggleable__control sk-hidden--visually\" id=\"ea30f618-61e9-444a-bbe8-02a09de0da14\" type=\"checkbox\" ><label class=\"sk-toggleable__label\" for=\"ea30f618-61e9-444a-bbe8-02a09de0da14\">Scaler</label><div class=\"sk-toggleable__content\"><pre>Scaler(n_jobs=-1)</pre></div></div></div><div class=\"sk-item sk-dashed-wrapped\"><div class=\"sk-label-container\"><div class=\"sk-label sk-toggleable\"><input class=\"sk-toggleable__control sk-hidden--visually\" id=\"959f576e-7c24-4d8b-a964-a1e893a0d83e\" type=\"checkbox\" ><label class=\"sk-toggleable__label\" for=\"959f576e-7c24-4d8b-a964-a1e893a0d83e\">featureunion: FeatureUnion</label><div class=\"sk-toggleable__content\"><pre>FeatureUnion(transformer_list=[('persistenceentropy',\n",
       "                                PersistenceEntropy(nan_fill_value=-1)),\n",
       "                               ('amplitude-1',\n",
       "                                Amplitude(metric='bottleneck', metric_params={},\n",
       "                                          n_jobs=-1)),\n",
       "                               ('amplitude-2',\n",
       "                                Amplitude(metric='wasserstein',\n",
       "                                          metric_params={'p': 1}, n_jobs=-1)),\n",
       "                               ('amplitude-3',\n",
       "                                Amplitude(metric='wasserstein',\n",
       "                                          metric_params={'p': 2}, n_jobs=-1)),\n",
       "                               ('amplitude-4',\n",
       "                                Amplitude...\n",
       "                                          metric_params={'n_bins': 100, 'p': 1,\n",
       "                                                         'sigma': 1.6},\n",
       "                                          n_jobs=-1)),\n",
       "                               ('amplitude-11',\n",
       "                                Amplitude(metric='heat',\n",
       "                                          metric_params={'n_bins': 100, 'p': 1,\n",
       "                                                         'sigma': 3.2},\n",
       "                                          n_jobs=-1)),\n",
       "                               ('amplitude-12',\n",
       "                                Amplitude(metric='heat',\n",
       "                                          metric_params={'n_bins': 100, 'p': 2,\n",
       "                                                         'sigma': 1.6},\n",
       "                                          n_jobs=-1)),\n",
       "                               ('amplitude-13',\n",
       "                                Amplitude(metric='heat',\n",
       "                                          metric_params={'n_bins': 100, 'p': 2,\n",
       "                                                         'sigma': 3.2},\n",
       "                                          n_jobs=-1))])</pre></div></div></div><div class=\"sk-parallel\"><div class=\"sk-parallel-item\"><div class=\"sk-item\"><div class=\"sk-label-container\"><div class=\"sk-label sk-toggleable\"><label>persistenceentropy</label></div></div><div class=\"sk-serial\"><div class=\"sk-item\"><div class=\"sk-estimator sk-toggleable\"><input class=\"sk-toggleable__control sk-hidden--visually\" id=\"b1718687-b2d9-40ba-930d-289e7ddac9df\" type=\"checkbox\" ><label class=\"sk-toggleable__label\" for=\"b1718687-b2d9-40ba-930d-289e7ddac9df\">PersistenceEntropy</label><div class=\"sk-toggleable__content\"><pre>PersistenceEntropy(nan_fill_value=-1)</pre></div></div></div></div></div></div><div class=\"sk-parallel-item\"><div class=\"sk-item\"><div class=\"sk-label-container\"><div class=\"sk-label sk-toggleable\"><label>amplitude-1</label></div></div><div class=\"sk-serial\"><div class=\"sk-item\"><div class=\"sk-estimator sk-toggleable\"><input class=\"sk-toggleable__control sk-hidden--visually\" id=\"3cb55478-46fa-4429-b35c-1937c0350686\" type=\"checkbox\" ><label class=\"sk-toggleable__label\" for=\"3cb55478-46fa-4429-b35c-1937c0350686\">Amplitude</label><div class=\"sk-toggleable__content\"><pre>Amplitude(metric='bottleneck', metric_params={}, n_jobs=-1)</pre></div></div></div></div></div></div><div class=\"sk-parallel-item\"><div class=\"sk-item\"><div class=\"sk-label-container\"><div class=\"sk-label sk-toggleable\"><label>amplitude-2</label></div></div><div class=\"sk-serial\"><div class=\"sk-item\"><div class=\"sk-estimator sk-toggleable\"><input class=\"sk-toggleable__control sk-hidden--visually\" id=\"124252e7-2866-499a-96dc-5a4541442ab4\" type=\"checkbox\" ><label class=\"sk-toggleable__label\" for=\"124252e7-2866-499a-96dc-5a4541442ab4\">Amplitude</label><div class=\"sk-toggleable__content\"><pre>Amplitude(metric='wasserstein', metric_params={'p': 1}, n_jobs=-1)</pre></div></div></div></div></div></div><div class=\"sk-parallel-item\"><div class=\"sk-item\"><div class=\"sk-label-container\"><div class=\"sk-label sk-toggleable\"><label>amplitude-3</label></div></div><div class=\"sk-serial\"><div class=\"sk-item\"><div class=\"sk-estimator sk-toggleable\"><input class=\"sk-toggleable__control sk-hidden--visually\" id=\"9b883ed5-789b-4a64-a0c1-8aa2d56568b2\" type=\"checkbox\" ><label class=\"sk-toggleable__label\" for=\"9b883ed5-789b-4a64-a0c1-8aa2d56568b2\">Amplitude</label><div class=\"sk-toggleable__content\"><pre>Amplitude(metric='wasserstein', metric_params={'p': 2}, n_jobs=-1)</pre></div></div></div></div></div></div><div class=\"sk-parallel-item\"><div class=\"sk-item\"><div class=\"sk-label-container\"><div class=\"sk-label sk-toggleable\"><label>amplitude-4</label></div></div><div class=\"sk-serial\"><div class=\"sk-item\"><div class=\"sk-estimator sk-toggleable\"><input class=\"sk-toggleable__control sk-hidden--visually\" id=\"2f1bbc63-0593-4203-926a-7054664c9e5f\" type=\"checkbox\" ><label class=\"sk-toggleable__label\" for=\"2f1bbc63-0593-4203-926a-7054664c9e5f\">Amplitude</label><div class=\"sk-toggleable__content\"><pre>Amplitude(metric_params={'n_bins': 100, 'n_layers': 1, 'p': 1}, n_jobs=-1)</pre></div></div></div></div></div></div><div class=\"sk-parallel-item\"><div class=\"sk-item\"><div class=\"sk-label-container\"><div class=\"sk-label sk-toggleable\"><label>amplitude-5</label></div></div><div class=\"sk-serial\"><div class=\"sk-item\"><div class=\"sk-estimator sk-toggleable\"><input class=\"sk-toggleable__control sk-hidden--visually\" id=\"0ec19b7b-500b-4564-a326-ead26e27e399\" type=\"checkbox\" ><label class=\"sk-toggleable__label\" for=\"0ec19b7b-500b-4564-a326-ead26e27e399\">Amplitude</label><div class=\"sk-toggleable__content\"><pre>Amplitude(metric_params={'n_bins': 100, 'n_layers': 2, 'p': 1}, n_jobs=-1)</pre></div></div></div></div></div></div><div class=\"sk-parallel-item\"><div class=\"sk-item\"><div class=\"sk-label-container\"><div class=\"sk-label sk-toggleable\"><label>amplitude-6</label></div></div><div class=\"sk-serial\"><div class=\"sk-item\"><div class=\"sk-estimator sk-toggleable\"><input class=\"sk-toggleable__control sk-hidden--visually\" id=\"62c125fe-30dd-44d7-9de0-8f66c74bc61e\" type=\"checkbox\" ><label class=\"sk-toggleable__label\" for=\"62c125fe-30dd-44d7-9de0-8f66c74bc61e\">Amplitude</label><div class=\"sk-toggleable__content\"><pre>Amplitude(metric_params={'n_bins': 100, 'n_layers': 1, 'p': 2}, n_jobs=-1)</pre></div></div></div></div></div></div><div class=\"sk-parallel-item\"><div class=\"sk-item\"><div class=\"sk-label-container\"><div class=\"sk-label sk-toggleable\"><label>amplitude-7</label></div></div><div class=\"sk-serial\"><div class=\"sk-item\"><div class=\"sk-estimator sk-toggleable\"><input class=\"sk-toggleable__control sk-hidden--visually\" id=\"0bfeba03-fe3f-4423-8ba2-edcf48b62cce\" type=\"checkbox\" ><label class=\"sk-toggleable__label\" for=\"0bfeba03-fe3f-4423-8ba2-edcf48b62cce\">Amplitude</label><div class=\"sk-toggleable__content\"><pre>Amplitude(metric_params={'n_bins': 100, 'n_layers': 2, 'p': 2}, n_jobs=-1)</pre></div></div></div></div></div></div><div class=\"sk-parallel-item\"><div class=\"sk-item\"><div class=\"sk-label-container\"><div class=\"sk-label sk-toggleable\"><label>amplitude-8</label></div></div><div class=\"sk-serial\"><div class=\"sk-item\"><div class=\"sk-estimator sk-toggleable\"><input class=\"sk-toggleable__control sk-hidden--visually\" id=\"a6a6af84-fc1b-45f6-9aa7-4f456bf0ecc1\" type=\"checkbox\" ><label class=\"sk-toggleable__label\" for=\"a6a6af84-fc1b-45f6-9aa7-4f456bf0ecc1\">Amplitude</label><div class=\"sk-toggleable__content\"><pre>Amplitude(metric='betti', metric_params={'n_bins': 100, 'p': 1}, n_jobs=-1)</pre></div></div></div></div></div></div><div class=\"sk-parallel-item\"><div class=\"sk-item\"><div class=\"sk-label-container\"><div class=\"sk-label sk-toggleable\"><label>amplitude-9</label></div></div><div class=\"sk-serial\"><div class=\"sk-item\"><div class=\"sk-estimator sk-toggleable\"><input class=\"sk-toggleable__control sk-hidden--visually\" id=\"294dc78e-2c3f-4f22-8228-87ebc2d7bcf8\" type=\"checkbox\" ><label class=\"sk-toggleable__label\" for=\"294dc78e-2c3f-4f22-8228-87ebc2d7bcf8\">Amplitude</label><div class=\"sk-toggleable__content\"><pre>Amplitude(metric='betti', metric_params={'n_bins': 100, 'p': 2}, n_jobs=-1)</pre></div></div></div></div></div></div><div class=\"sk-parallel-item\"><div class=\"sk-item\"><div class=\"sk-label-container\"><div class=\"sk-label sk-toggleable\"><label>amplitude-10</label></div></div><div class=\"sk-serial\"><div class=\"sk-item\"><div class=\"sk-estimator sk-toggleable\"><input class=\"sk-toggleable__control sk-hidden--visually\" id=\"87008437-6c83-4f8d-b924-22d29466c44b\" type=\"checkbox\" ><label class=\"sk-toggleable__label\" for=\"87008437-6c83-4f8d-b924-22d29466c44b\">Amplitude</label><div class=\"sk-toggleable__content\"><pre>Amplitude(metric='heat', metric_params={'n_bins': 100, 'p': 1, 'sigma': 1.6},\n",
       "          n_jobs=-1)</pre></div></div></div></div></div></div><div class=\"sk-parallel-item\"><div class=\"sk-item\"><div class=\"sk-label-container\"><div class=\"sk-label sk-toggleable\"><label>amplitude-11</label></div></div><div class=\"sk-serial\"><div class=\"sk-item\"><div class=\"sk-estimator sk-toggleable\"><input class=\"sk-toggleable__control sk-hidden--visually\" id=\"3629a986-7be4-4c13-9b7d-9c5489d1e8ab\" type=\"checkbox\" ><label class=\"sk-toggleable__label\" for=\"3629a986-7be4-4c13-9b7d-9c5489d1e8ab\">Amplitude</label><div class=\"sk-toggleable__content\"><pre>Amplitude(metric='heat', metric_params={'n_bins': 100, 'p': 1, 'sigma': 3.2},\n",
       "          n_jobs=-1)</pre></div></div></div></div></div></div><div class=\"sk-parallel-item\"><div class=\"sk-item\"><div class=\"sk-label-container\"><div class=\"sk-label sk-toggleable\"><label>amplitude-12</label></div></div><div class=\"sk-serial\"><div class=\"sk-item\"><div class=\"sk-estimator sk-toggleable\"><input class=\"sk-toggleable__control sk-hidden--visually\" id=\"56361ad6-34ec-4da8-9faa-5a7a78d0a9af\" type=\"checkbox\" ><label class=\"sk-toggleable__label\" for=\"56361ad6-34ec-4da8-9faa-5a7a78d0a9af\">Amplitude</label><div class=\"sk-toggleable__content\"><pre>Amplitude(metric='heat', metric_params={'n_bins': 100, 'p': 2, 'sigma': 1.6},\n",
       "          n_jobs=-1)</pre></div></div></div></div></div></div><div class=\"sk-parallel-item\"><div class=\"sk-item\"><div class=\"sk-label-container\"><div class=\"sk-label sk-toggleable\"><label>amplitude-13</label></div></div><div class=\"sk-serial\"><div class=\"sk-item\"><div class=\"sk-estimator sk-toggleable\"><input class=\"sk-toggleable__control sk-hidden--visually\" id=\"4b072dc4-60b4-4486-b194-5617295e9ccf\" type=\"checkbox\" ><label class=\"sk-toggleable__label\" for=\"4b072dc4-60b4-4486-b194-5617295e9ccf\">Amplitude</label><div class=\"sk-toggleable__content\"><pre>Amplitude(metric='heat', metric_params={'n_bins': 100, 'p': 2, 'sigma': 3.2},\n",
       "          n_jobs=-1)</pre></div></div></div></div></div></div></div></div></div></div></div></div></div><div class=\"sk-parallel-item\"><div class=\"sk-item\"><div class=\"sk-label-container\"><div class=\"sk-label sk-toggleable\"><label>pipeline-7</label></div></div><div class=\"sk-serial\"><div class=\"sk-item\"><div class=\"sk-serial\"><div class=\"sk-item\"><div class=\"sk-estimator sk-toggleable\"><input class=\"sk-toggleable__control sk-hidden--visually\" id=\"839c5a70-b888-4d7b-bb92-ab86d95d3e6b\" type=\"checkbox\" ><label class=\"sk-toggleable__label\" for=\"839c5a70-b888-4d7b-bb92-ab86d95d3e6b\">Binarizer</label><div class=\"sk-toggleable__content\"><pre>Binarizer(n_jobs=-1, threshold=0.4)</pre></div></div></div><div class=\"sk-item\"><div class=\"sk-estimator sk-toggleable\"><input class=\"sk-toggleable__control sk-hidden--visually\" id=\"ca62e155-f584-4011-bb1b-1daae180d419\" type=\"checkbox\" ><label class=\"sk-toggleable__label\" for=\"ca62e155-f584-4011-bb1b-1daae180d419\">HeightFiltration</label><div class=\"sk-toggleable__content\"><pre>HeightFiltration(direction=array([ 0, -1]), n_jobs=-1)</pre></div></div></div><div class=\"sk-item\"><div class=\"sk-estimator sk-toggleable\"><input class=\"sk-toggleable__control sk-hidden--visually\" id=\"75060f3d-2f97-468b-97cb-84bcc66d39a7\" type=\"checkbox\" ><label class=\"sk-toggleable__label\" for=\"75060f3d-2f97-468b-97cb-84bcc66d39a7\">CubicalPersistence</label><div class=\"sk-toggleable__content\"><pre>CubicalPersistence(n_jobs=-1)</pre></div></div></div><div class=\"sk-item\"><div class=\"sk-estimator sk-toggleable\"><input class=\"sk-toggleable__control sk-hidden--visually\" id=\"7d2b701a-a444-428a-b861-4ecdb0fc0c83\" type=\"checkbox\" ><label class=\"sk-toggleable__label\" for=\"7d2b701a-a444-428a-b861-4ecdb0fc0c83\">Scaler</label><div class=\"sk-toggleable__content\"><pre>Scaler(n_jobs=-1)</pre></div></div></div><div class=\"sk-item sk-dashed-wrapped\"><div class=\"sk-label-container\"><div class=\"sk-label sk-toggleable\"><input class=\"sk-toggleable__control sk-hidden--visually\" id=\"a1bbab18-c7d0-43d8-8441-0513251e0df9\" type=\"checkbox\" ><label class=\"sk-toggleable__label\" for=\"a1bbab18-c7d0-43d8-8441-0513251e0df9\">featureunion: FeatureUnion</label><div class=\"sk-toggleable__content\"><pre>FeatureUnion(transformer_list=[('persistenceentropy',\n",
       "                                PersistenceEntropy(nan_fill_value=-1)),\n",
       "                               ('amplitude-1',\n",
       "                                Amplitude(metric='bottleneck', metric_params={},\n",
       "                                          n_jobs=-1)),\n",
       "                               ('amplitude-2',\n",
       "                                Amplitude(metric='wasserstein',\n",
       "                                          metric_params={'p': 1}, n_jobs=-1)),\n",
       "                               ('amplitude-3',\n",
       "                                Amplitude(metric='wasserstein',\n",
       "                                          metric_params={'p': 2}, n_jobs=-1)),\n",
       "                               ('amplitude-4',\n",
       "                                Amplitude...\n",
       "                                          metric_params={'n_bins': 100, 'p': 1,\n",
       "                                                         'sigma': 1.6},\n",
       "                                          n_jobs=-1)),\n",
       "                               ('amplitude-11',\n",
       "                                Amplitude(metric='heat',\n",
       "                                          metric_params={'n_bins': 100, 'p': 1,\n",
       "                                                         'sigma': 3.2},\n",
       "                                          n_jobs=-1)),\n",
       "                               ('amplitude-12',\n",
       "                                Amplitude(metric='heat',\n",
       "                                          metric_params={'n_bins': 100, 'p': 2,\n",
       "                                                         'sigma': 1.6},\n",
       "                                          n_jobs=-1)),\n",
       "                               ('amplitude-13',\n",
       "                                Amplitude(metric='heat',\n",
       "                                          metric_params={'n_bins': 100, 'p': 2,\n",
       "                                                         'sigma': 3.2},\n",
       "                                          n_jobs=-1))])</pre></div></div></div><div class=\"sk-parallel\"><div class=\"sk-parallel-item\"><div class=\"sk-item\"><div class=\"sk-label-container\"><div class=\"sk-label sk-toggleable\"><label>persistenceentropy</label></div></div><div class=\"sk-serial\"><div class=\"sk-item\"><div class=\"sk-estimator sk-toggleable\"><input class=\"sk-toggleable__control sk-hidden--visually\" id=\"dec197cf-837a-4b28-bca0-7404d718fcab\" type=\"checkbox\" ><label class=\"sk-toggleable__label\" for=\"dec197cf-837a-4b28-bca0-7404d718fcab\">PersistenceEntropy</label><div class=\"sk-toggleable__content\"><pre>PersistenceEntropy(nan_fill_value=-1)</pre></div></div></div></div></div></div><div class=\"sk-parallel-item\"><div class=\"sk-item\"><div class=\"sk-label-container\"><div class=\"sk-label sk-toggleable\"><label>amplitude-1</label></div></div><div class=\"sk-serial\"><div class=\"sk-item\"><div class=\"sk-estimator sk-toggleable\"><input class=\"sk-toggleable__control sk-hidden--visually\" id=\"5dfa7108-5128-4633-880a-5fae48e38a23\" type=\"checkbox\" ><label class=\"sk-toggleable__label\" for=\"5dfa7108-5128-4633-880a-5fae48e38a23\">Amplitude</label><div class=\"sk-toggleable__content\"><pre>Amplitude(metric='bottleneck', metric_params={}, n_jobs=-1)</pre></div></div></div></div></div></div><div class=\"sk-parallel-item\"><div class=\"sk-item\"><div class=\"sk-label-container\"><div class=\"sk-label sk-toggleable\"><label>amplitude-2</label></div></div><div class=\"sk-serial\"><div class=\"sk-item\"><div class=\"sk-estimator sk-toggleable\"><input class=\"sk-toggleable__control sk-hidden--visually\" id=\"b631126d-10f5-4029-8125-c0009e0aa6e2\" type=\"checkbox\" ><label class=\"sk-toggleable__label\" for=\"b631126d-10f5-4029-8125-c0009e0aa6e2\">Amplitude</label><div class=\"sk-toggleable__content\"><pre>Amplitude(metric='wasserstein', metric_params={'p': 1}, n_jobs=-1)</pre></div></div></div></div></div></div><div class=\"sk-parallel-item\"><div class=\"sk-item\"><div class=\"sk-label-container\"><div class=\"sk-label sk-toggleable\"><label>amplitude-3</label></div></div><div class=\"sk-serial\"><div class=\"sk-item\"><div class=\"sk-estimator sk-toggleable\"><input class=\"sk-toggleable__control sk-hidden--visually\" id=\"64b5d912-81f0-4d64-ba23-d6ad40538d28\" type=\"checkbox\" ><label class=\"sk-toggleable__label\" for=\"64b5d912-81f0-4d64-ba23-d6ad40538d28\">Amplitude</label><div class=\"sk-toggleable__content\"><pre>Amplitude(metric='wasserstein', metric_params={'p': 2}, n_jobs=-1)</pre></div></div></div></div></div></div><div class=\"sk-parallel-item\"><div class=\"sk-item\"><div class=\"sk-label-container\"><div class=\"sk-label sk-toggleable\"><label>amplitude-4</label></div></div><div class=\"sk-serial\"><div class=\"sk-item\"><div class=\"sk-estimator sk-toggleable\"><input class=\"sk-toggleable__control sk-hidden--visually\" id=\"48c3daed-e6f6-4d8e-a085-d690c02d881f\" type=\"checkbox\" ><label class=\"sk-toggleable__label\" for=\"48c3daed-e6f6-4d8e-a085-d690c02d881f\">Amplitude</label><div class=\"sk-toggleable__content\"><pre>Amplitude(metric_params={'n_bins': 100, 'n_layers': 1, 'p': 1}, n_jobs=-1)</pre></div></div></div></div></div></div><div class=\"sk-parallel-item\"><div class=\"sk-item\"><div class=\"sk-label-container\"><div class=\"sk-label sk-toggleable\"><label>amplitude-5</label></div></div><div class=\"sk-serial\"><div class=\"sk-item\"><div class=\"sk-estimator sk-toggleable\"><input class=\"sk-toggleable__control sk-hidden--visually\" id=\"edd4fcee-b7f1-46a8-8c97-bada94f63bfe\" type=\"checkbox\" ><label class=\"sk-toggleable__label\" for=\"edd4fcee-b7f1-46a8-8c97-bada94f63bfe\">Amplitude</label><div class=\"sk-toggleable__content\"><pre>Amplitude(metric_params={'n_bins': 100, 'n_layers': 2, 'p': 1}, n_jobs=-1)</pre></div></div></div></div></div></div><div class=\"sk-parallel-item\"><div class=\"sk-item\"><div class=\"sk-label-container\"><div class=\"sk-label sk-toggleable\"><label>amplitude-6</label></div></div><div class=\"sk-serial\"><div class=\"sk-item\"><div class=\"sk-estimator sk-toggleable\"><input class=\"sk-toggleable__control sk-hidden--visually\" id=\"3e51108c-9c09-4505-90b9-ad51fa419dce\" type=\"checkbox\" ><label class=\"sk-toggleable__label\" for=\"3e51108c-9c09-4505-90b9-ad51fa419dce\">Amplitude</label><div class=\"sk-toggleable__content\"><pre>Amplitude(metric_params={'n_bins': 100, 'n_layers': 1, 'p': 2}, n_jobs=-1)</pre></div></div></div></div></div></div><div class=\"sk-parallel-item\"><div class=\"sk-item\"><div class=\"sk-label-container\"><div class=\"sk-label sk-toggleable\"><label>amplitude-7</label></div></div><div class=\"sk-serial\"><div class=\"sk-item\"><div class=\"sk-estimator sk-toggleable\"><input class=\"sk-toggleable__control sk-hidden--visually\" id=\"bbb58a2e-7665-4e44-961a-96f37e26b8ba\" type=\"checkbox\" ><label class=\"sk-toggleable__label\" for=\"bbb58a2e-7665-4e44-961a-96f37e26b8ba\">Amplitude</label><div class=\"sk-toggleable__content\"><pre>Amplitude(metric_params={'n_bins': 100, 'n_layers': 2, 'p': 2}, n_jobs=-1)</pre></div></div></div></div></div></div><div class=\"sk-parallel-item\"><div class=\"sk-item\"><div class=\"sk-label-container\"><div class=\"sk-label sk-toggleable\"><label>amplitude-8</label></div></div><div class=\"sk-serial\"><div class=\"sk-item\"><div class=\"sk-estimator sk-toggleable\"><input class=\"sk-toggleable__control sk-hidden--visually\" id=\"8f467eac-181d-4a8e-bb55-824d9bcb8d43\" type=\"checkbox\" ><label class=\"sk-toggleable__label\" for=\"8f467eac-181d-4a8e-bb55-824d9bcb8d43\">Amplitude</label><div class=\"sk-toggleable__content\"><pre>Amplitude(metric='betti', metric_params={'n_bins': 100, 'p': 1}, n_jobs=-1)</pre></div></div></div></div></div></div><div class=\"sk-parallel-item\"><div class=\"sk-item\"><div class=\"sk-label-container\"><div class=\"sk-label sk-toggleable\"><label>amplitude-9</label></div></div><div class=\"sk-serial\"><div class=\"sk-item\"><div class=\"sk-estimator sk-toggleable\"><input class=\"sk-toggleable__control sk-hidden--visually\" id=\"d571ea0a-8926-4497-be15-ee9cf964c6ac\" type=\"checkbox\" ><label class=\"sk-toggleable__label\" for=\"d571ea0a-8926-4497-be15-ee9cf964c6ac\">Amplitude</label><div class=\"sk-toggleable__content\"><pre>Amplitude(metric='betti', metric_params={'n_bins': 100, 'p': 2}, n_jobs=-1)</pre></div></div></div></div></div></div><div class=\"sk-parallel-item\"><div class=\"sk-item\"><div class=\"sk-label-container\"><div class=\"sk-label sk-toggleable\"><label>amplitude-10</label></div></div><div class=\"sk-serial\"><div class=\"sk-item\"><div class=\"sk-estimator sk-toggleable\"><input class=\"sk-toggleable__control sk-hidden--visually\" id=\"b53d467c-308a-4801-ba6f-c5cfeccbe335\" type=\"checkbox\" ><label class=\"sk-toggleable__label\" for=\"b53d467c-308a-4801-ba6f-c5cfeccbe335\">Amplitude</label><div class=\"sk-toggleable__content\"><pre>Amplitude(metric='heat', metric_params={'n_bins': 100, 'p': 1, 'sigma': 1.6},\n",
       "          n_jobs=-1)</pre></div></div></div></div></div></div><div class=\"sk-parallel-item\"><div class=\"sk-item\"><div class=\"sk-label-container\"><div class=\"sk-label sk-toggleable\"><label>amplitude-11</label></div></div><div class=\"sk-serial\"><div class=\"sk-item\"><div class=\"sk-estimator sk-toggleable\"><input class=\"sk-toggleable__control sk-hidden--visually\" id=\"2fd08de4-af26-42c6-a341-f4960a2f7e38\" type=\"checkbox\" ><label class=\"sk-toggleable__label\" for=\"2fd08de4-af26-42c6-a341-f4960a2f7e38\">Amplitude</label><div class=\"sk-toggleable__content\"><pre>Amplitude(metric='heat', metric_params={'n_bins': 100, 'p': 1, 'sigma': 3.2},\n",
       "          n_jobs=-1)</pre></div></div></div></div></div></div><div class=\"sk-parallel-item\"><div class=\"sk-item\"><div class=\"sk-label-container\"><div class=\"sk-label sk-toggleable\"><label>amplitude-12</label></div></div><div class=\"sk-serial\"><div class=\"sk-item\"><div class=\"sk-estimator sk-toggleable\"><input class=\"sk-toggleable__control sk-hidden--visually\" id=\"11fbf4e6-5b8c-4a42-8576-ad7d072c12e7\" type=\"checkbox\" ><label class=\"sk-toggleable__label\" for=\"11fbf4e6-5b8c-4a42-8576-ad7d072c12e7\">Amplitude</label><div class=\"sk-toggleable__content\"><pre>Amplitude(metric='heat', metric_params={'n_bins': 100, 'p': 2, 'sigma': 1.6},\n",
       "          n_jobs=-1)</pre></div></div></div></div></div></div><div class=\"sk-parallel-item\"><div class=\"sk-item\"><div class=\"sk-label-container\"><div class=\"sk-label sk-toggleable\"><label>amplitude-13</label></div></div><div class=\"sk-serial\"><div class=\"sk-item\"><div class=\"sk-estimator sk-toggleable\"><input class=\"sk-toggleable__control sk-hidden--visually\" id=\"a00da448-58b3-4ea3-81e4-276c3e1d171f\" type=\"checkbox\" ><label class=\"sk-toggleable__label\" for=\"a00da448-58b3-4ea3-81e4-276c3e1d171f\">Amplitude</label><div class=\"sk-toggleable__content\"><pre>Amplitude(metric='heat', metric_params={'n_bins': 100, 'p': 2, 'sigma': 3.2},\n",
       "          n_jobs=-1)</pre></div></div></div></div></div></div></div></div></div></div></div></div></div><div class=\"sk-parallel-item\"><div class=\"sk-item\"><div class=\"sk-label-container\"><div class=\"sk-label sk-toggleable\"><label>pipeline-8</label></div></div><div class=\"sk-serial\"><div class=\"sk-item\"><div class=\"sk-serial\"><div class=\"sk-item\"><div class=\"sk-estimator sk-toggleable\"><input class=\"sk-toggleable__control sk-hidden--visually\" id=\"db4e3f14-40b2-49de-ab1c-fe52dd11d809\" type=\"checkbox\" ><label class=\"sk-toggleable__label\" for=\"db4e3f14-40b2-49de-ab1c-fe52dd11d809\">Binarizer</label><div class=\"sk-toggleable__content\"><pre>Binarizer(n_jobs=-1, threshold=0.4)</pre></div></div></div><div class=\"sk-item\"><div class=\"sk-estimator sk-toggleable\"><input class=\"sk-toggleable__control sk-hidden--visually\" id=\"5f39c9fb-e140-4d76-be48-bf7dc7c85a07\" type=\"checkbox\" ><label class=\"sk-toggleable__label\" for=\"5f39c9fb-e140-4d76-be48-bf7dc7c85a07\">HeightFiltration</label><div class=\"sk-toggleable__content\"><pre>HeightFiltration(direction=array([ 1, -1]), n_jobs=-1)</pre></div></div></div><div class=\"sk-item\"><div class=\"sk-estimator sk-toggleable\"><input class=\"sk-toggleable__control sk-hidden--visually\" id=\"b404d9eb-957b-4a0d-898a-22f3852fa430\" type=\"checkbox\" ><label class=\"sk-toggleable__label\" for=\"b404d9eb-957b-4a0d-898a-22f3852fa430\">CubicalPersistence</label><div class=\"sk-toggleable__content\"><pre>CubicalPersistence(n_jobs=-1)</pre></div></div></div><div class=\"sk-item\"><div class=\"sk-estimator sk-toggleable\"><input class=\"sk-toggleable__control sk-hidden--visually\" id=\"cf15cd82-3e6b-4268-b9b4-17d3b92e652a\" type=\"checkbox\" ><label class=\"sk-toggleable__label\" for=\"cf15cd82-3e6b-4268-b9b4-17d3b92e652a\">Scaler</label><div class=\"sk-toggleable__content\"><pre>Scaler(n_jobs=-1)</pre></div></div></div><div class=\"sk-item sk-dashed-wrapped\"><div class=\"sk-label-container\"><div class=\"sk-label sk-toggleable\"><input class=\"sk-toggleable__control sk-hidden--visually\" id=\"72486ccf-e231-4e8f-bcde-a7854da05d12\" type=\"checkbox\" ><label class=\"sk-toggleable__label\" for=\"72486ccf-e231-4e8f-bcde-a7854da05d12\">featureunion: FeatureUnion</label><div class=\"sk-toggleable__content\"><pre>FeatureUnion(transformer_list=[('persistenceentropy',\n",
       "                                PersistenceEntropy(nan_fill_value=-1)),\n",
       "                               ('amplitude-1',\n",
       "                                Amplitude(metric='bottleneck', metric_params={},\n",
       "                                          n_jobs=-1)),\n",
       "                               ('amplitude-2',\n",
       "                                Amplitude(metric='wasserstein',\n",
       "                                          metric_params={'p': 1}, n_jobs=-1)),\n",
       "                               ('amplitude-3',\n",
       "                                Amplitude(metric='wasserstein',\n",
       "                                          metric_params={'p': 2}, n_jobs=-1)),\n",
       "                               ('amplitude-4',\n",
       "                                Amplitude...\n",
       "                                          metric_params={'n_bins': 100, 'p': 1,\n",
       "                                                         'sigma': 1.6},\n",
       "                                          n_jobs=-1)),\n",
       "                               ('amplitude-11',\n",
       "                                Amplitude(metric='heat',\n",
       "                                          metric_params={'n_bins': 100, 'p': 1,\n",
       "                                                         'sigma': 3.2},\n",
       "                                          n_jobs=-1)),\n",
       "                               ('amplitude-12',\n",
       "                                Amplitude(metric='heat',\n",
       "                                          metric_params={'n_bins': 100, 'p': 2,\n",
       "                                                         'sigma': 1.6},\n",
       "                                          n_jobs=-1)),\n",
       "                               ('amplitude-13',\n",
       "                                Amplitude(metric='heat',\n",
       "                                          metric_params={'n_bins': 100, 'p': 2,\n",
       "                                                         'sigma': 3.2},\n",
       "                                          n_jobs=-1))])</pre></div></div></div><div class=\"sk-parallel\"><div class=\"sk-parallel-item\"><div class=\"sk-item\"><div class=\"sk-label-container\"><div class=\"sk-label sk-toggleable\"><label>persistenceentropy</label></div></div><div class=\"sk-serial\"><div class=\"sk-item\"><div class=\"sk-estimator sk-toggleable\"><input class=\"sk-toggleable__control sk-hidden--visually\" id=\"e4a6e0ec-79d5-4aef-97cb-eab567ad1cff\" type=\"checkbox\" ><label class=\"sk-toggleable__label\" for=\"e4a6e0ec-79d5-4aef-97cb-eab567ad1cff\">PersistenceEntropy</label><div class=\"sk-toggleable__content\"><pre>PersistenceEntropy(nan_fill_value=-1)</pre></div></div></div></div></div></div><div class=\"sk-parallel-item\"><div class=\"sk-item\"><div class=\"sk-label-container\"><div class=\"sk-label sk-toggleable\"><label>amplitude-1</label></div></div><div class=\"sk-serial\"><div class=\"sk-item\"><div class=\"sk-estimator sk-toggleable\"><input class=\"sk-toggleable__control sk-hidden--visually\" id=\"edc44540-8fea-40a0-958e-cfe8818dc5e7\" type=\"checkbox\" ><label class=\"sk-toggleable__label\" for=\"edc44540-8fea-40a0-958e-cfe8818dc5e7\">Amplitude</label><div class=\"sk-toggleable__content\"><pre>Amplitude(metric='bottleneck', metric_params={}, n_jobs=-1)</pre></div></div></div></div></div></div><div class=\"sk-parallel-item\"><div class=\"sk-item\"><div class=\"sk-label-container\"><div class=\"sk-label sk-toggleable\"><label>amplitude-2</label></div></div><div class=\"sk-serial\"><div class=\"sk-item\"><div class=\"sk-estimator sk-toggleable\"><input class=\"sk-toggleable__control sk-hidden--visually\" id=\"3c4a6e03-2850-4774-8349-bfd8acae77e1\" type=\"checkbox\" ><label class=\"sk-toggleable__label\" for=\"3c4a6e03-2850-4774-8349-bfd8acae77e1\">Amplitude</label><div class=\"sk-toggleable__content\"><pre>Amplitude(metric='wasserstein', metric_params={'p': 1}, n_jobs=-1)</pre></div></div></div></div></div></div><div class=\"sk-parallel-item\"><div class=\"sk-item\"><div class=\"sk-label-container\"><div class=\"sk-label sk-toggleable\"><label>amplitude-3</label></div></div><div class=\"sk-serial\"><div class=\"sk-item\"><div class=\"sk-estimator sk-toggleable\"><input class=\"sk-toggleable__control sk-hidden--visually\" id=\"3b9352e4-e57a-49c6-bcf9-4bd674f99ecc\" type=\"checkbox\" ><label class=\"sk-toggleable__label\" for=\"3b9352e4-e57a-49c6-bcf9-4bd674f99ecc\">Amplitude</label><div class=\"sk-toggleable__content\"><pre>Amplitude(metric='wasserstein', metric_params={'p': 2}, n_jobs=-1)</pre></div></div></div></div></div></div><div class=\"sk-parallel-item\"><div class=\"sk-item\"><div class=\"sk-label-container\"><div class=\"sk-label sk-toggleable\"><label>amplitude-4</label></div></div><div class=\"sk-serial\"><div class=\"sk-item\"><div class=\"sk-estimator sk-toggleable\"><input class=\"sk-toggleable__control sk-hidden--visually\" id=\"308aa91f-16e6-4d8b-9b93-c2df75c111c0\" type=\"checkbox\" ><label class=\"sk-toggleable__label\" for=\"308aa91f-16e6-4d8b-9b93-c2df75c111c0\">Amplitude</label><div class=\"sk-toggleable__content\"><pre>Amplitude(metric_params={'n_bins': 100, 'n_layers': 1, 'p': 1}, n_jobs=-1)</pre></div></div></div></div></div></div><div class=\"sk-parallel-item\"><div class=\"sk-item\"><div class=\"sk-label-container\"><div class=\"sk-label sk-toggleable\"><label>amplitude-5</label></div></div><div class=\"sk-serial\"><div class=\"sk-item\"><div class=\"sk-estimator sk-toggleable\"><input class=\"sk-toggleable__control sk-hidden--visually\" id=\"1f81221f-87f3-4a81-8f50-366cd5ff123d\" type=\"checkbox\" ><label class=\"sk-toggleable__label\" for=\"1f81221f-87f3-4a81-8f50-366cd5ff123d\">Amplitude</label><div class=\"sk-toggleable__content\"><pre>Amplitude(metric_params={'n_bins': 100, 'n_layers': 2, 'p': 1}, n_jobs=-1)</pre></div></div></div></div></div></div><div class=\"sk-parallel-item\"><div class=\"sk-item\"><div class=\"sk-label-container\"><div class=\"sk-label sk-toggleable\"><label>amplitude-6</label></div></div><div class=\"sk-serial\"><div class=\"sk-item\"><div class=\"sk-estimator sk-toggleable\"><input class=\"sk-toggleable__control sk-hidden--visually\" id=\"395205ca-3678-4f5c-93c1-1d4d7dfd0e16\" type=\"checkbox\" ><label class=\"sk-toggleable__label\" for=\"395205ca-3678-4f5c-93c1-1d4d7dfd0e16\">Amplitude</label><div class=\"sk-toggleable__content\"><pre>Amplitude(metric_params={'n_bins': 100, 'n_layers': 1, 'p': 2}, n_jobs=-1)</pre></div></div></div></div></div></div><div class=\"sk-parallel-item\"><div class=\"sk-item\"><div class=\"sk-label-container\"><div class=\"sk-label sk-toggleable\"><label>amplitude-7</label></div></div><div class=\"sk-serial\"><div class=\"sk-item\"><div class=\"sk-estimator sk-toggleable\"><input class=\"sk-toggleable__control sk-hidden--visually\" id=\"b22673b1-f10d-4bdc-88ce-acfdf2c5a193\" type=\"checkbox\" ><label class=\"sk-toggleable__label\" for=\"b22673b1-f10d-4bdc-88ce-acfdf2c5a193\">Amplitude</label><div class=\"sk-toggleable__content\"><pre>Amplitude(metric_params={'n_bins': 100, 'n_layers': 2, 'p': 2}, n_jobs=-1)</pre></div></div></div></div></div></div><div class=\"sk-parallel-item\"><div class=\"sk-item\"><div class=\"sk-label-container\"><div class=\"sk-label sk-toggleable\"><label>amplitude-8</label></div></div><div class=\"sk-serial\"><div class=\"sk-item\"><div class=\"sk-estimator sk-toggleable\"><input class=\"sk-toggleable__control sk-hidden--visually\" id=\"e67403d7-72c3-4ef2-888c-6dfc16ae8984\" type=\"checkbox\" ><label class=\"sk-toggleable__label\" for=\"e67403d7-72c3-4ef2-888c-6dfc16ae8984\">Amplitude</label><div class=\"sk-toggleable__content\"><pre>Amplitude(metric='betti', metric_params={'n_bins': 100, 'p': 1}, n_jobs=-1)</pre></div></div></div></div></div></div><div class=\"sk-parallel-item\"><div class=\"sk-item\"><div class=\"sk-label-container\"><div class=\"sk-label sk-toggleable\"><label>amplitude-9</label></div></div><div class=\"sk-serial\"><div class=\"sk-item\"><div class=\"sk-estimator sk-toggleable\"><input class=\"sk-toggleable__control sk-hidden--visually\" id=\"7b2b308c-8367-4806-a62f-80326ac3d134\" type=\"checkbox\" ><label class=\"sk-toggleable__label\" for=\"7b2b308c-8367-4806-a62f-80326ac3d134\">Amplitude</label><div class=\"sk-toggleable__content\"><pre>Amplitude(metric='betti', metric_params={'n_bins': 100, 'p': 2}, n_jobs=-1)</pre></div></div></div></div></div></div><div class=\"sk-parallel-item\"><div class=\"sk-item\"><div class=\"sk-label-container\"><div class=\"sk-label sk-toggleable\"><label>amplitude-10</label></div></div><div class=\"sk-serial\"><div class=\"sk-item\"><div class=\"sk-estimator sk-toggleable\"><input class=\"sk-toggleable__control sk-hidden--visually\" id=\"b7d78d48-a172-42b3-a783-10fa3ed6fa03\" type=\"checkbox\" ><label class=\"sk-toggleable__label\" for=\"b7d78d48-a172-42b3-a783-10fa3ed6fa03\">Amplitude</label><div class=\"sk-toggleable__content\"><pre>Amplitude(metric='heat', metric_params={'n_bins': 100, 'p': 1, 'sigma': 1.6},\n",
       "          n_jobs=-1)</pre></div></div></div></div></div></div><div class=\"sk-parallel-item\"><div class=\"sk-item\"><div class=\"sk-label-container\"><div class=\"sk-label sk-toggleable\"><label>amplitude-11</label></div></div><div class=\"sk-serial\"><div class=\"sk-item\"><div class=\"sk-estimator sk-toggleable\"><input class=\"sk-toggleable__control sk-hidden--visually\" id=\"b9c5b074-8339-4dc5-87ab-c07ff65b9115\" type=\"checkbox\" ><label class=\"sk-toggleable__label\" for=\"b9c5b074-8339-4dc5-87ab-c07ff65b9115\">Amplitude</label><div class=\"sk-toggleable__content\"><pre>Amplitude(metric='heat', metric_params={'n_bins': 100, 'p': 1, 'sigma': 3.2},\n",
       "          n_jobs=-1)</pre></div></div></div></div></div></div><div class=\"sk-parallel-item\"><div class=\"sk-item\"><div class=\"sk-label-container\"><div class=\"sk-label sk-toggleable\"><label>amplitude-12</label></div></div><div class=\"sk-serial\"><div class=\"sk-item\"><div class=\"sk-estimator sk-toggleable\"><input class=\"sk-toggleable__control sk-hidden--visually\" id=\"ba6e8103-dabe-430a-8a30-199047a97028\" type=\"checkbox\" ><label class=\"sk-toggleable__label\" for=\"ba6e8103-dabe-430a-8a30-199047a97028\">Amplitude</label><div class=\"sk-toggleable__content\"><pre>Amplitude(metric='heat', metric_params={'n_bins': 100, 'p': 2, 'sigma': 1.6},\n",
       "          n_jobs=-1)</pre></div></div></div></div></div></div><div class=\"sk-parallel-item\"><div class=\"sk-item\"><div class=\"sk-label-container\"><div class=\"sk-label sk-toggleable\"><label>amplitude-13</label></div></div><div class=\"sk-serial\"><div class=\"sk-item\"><div class=\"sk-estimator sk-toggleable\"><input class=\"sk-toggleable__control sk-hidden--visually\" id=\"48770e7c-76d0-433c-b1d2-ec66bbaa46c2\" type=\"checkbox\" ><label class=\"sk-toggleable__label\" for=\"48770e7c-76d0-433c-b1d2-ec66bbaa46c2\">Amplitude</label><div class=\"sk-toggleable__content\"><pre>Amplitude(metric='heat', metric_params={'n_bins': 100, 'p': 2, 'sigma': 3.2},\n",
       "          n_jobs=-1)</pre></div></div></div></div></div></div></div></div></div></div></div></div></div><div class=\"sk-parallel-item\"><div class=\"sk-item\"><div class=\"sk-label-container\"><div class=\"sk-label sk-toggleable\"><label>pipeline-9</label></div></div><div class=\"sk-serial\"><div class=\"sk-item\"><div class=\"sk-serial\"><div class=\"sk-item\"><div class=\"sk-estimator sk-toggleable\"><input class=\"sk-toggleable__control sk-hidden--visually\" id=\"32990f0f-323a-4425-a881-d36e8952c14e\" type=\"checkbox\" ><label class=\"sk-toggleable__label\" for=\"32990f0f-323a-4425-a881-d36e8952c14e\">Binarizer</label><div class=\"sk-toggleable__content\"><pre>Binarizer(n_jobs=-1, threshold=0.4)</pre></div></div></div><div class=\"sk-item\"><div class=\"sk-estimator sk-toggleable\"><input class=\"sk-toggleable__control sk-hidden--visually\" id=\"f98d7395-f570-49c8-8f7d-934f51ccb18d\" type=\"checkbox\" ><label class=\"sk-toggleable__label\" for=\"f98d7395-f570-49c8-8f7d-934f51ccb18d\">RadialFiltration</label><div class=\"sk-toggleable__content\"><pre>RadialFiltration(center=array([13,  6]), n_jobs=-1)</pre></div></div></div><div class=\"sk-item\"><div class=\"sk-estimator sk-toggleable\"><input class=\"sk-toggleable__control sk-hidden--visually\" id=\"1cf12f0e-1951-4abd-9e22-50499a278a59\" type=\"checkbox\" ><label class=\"sk-toggleable__label\" for=\"1cf12f0e-1951-4abd-9e22-50499a278a59\">CubicalPersistence</label><div class=\"sk-toggleable__content\"><pre>CubicalPersistence(n_jobs=-1)</pre></div></div></div><div class=\"sk-item\"><div class=\"sk-estimator sk-toggleable\"><input class=\"sk-toggleable__control sk-hidden--visually\" id=\"1a30f653-4c7b-482c-a007-de4e0d5b6551\" type=\"checkbox\" ><label class=\"sk-toggleable__label\" for=\"1a30f653-4c7b-482c-a007-de4e0d5b6551\">Scaler</label><div class=\"sk-toggleable__content\"><pre>Scaler(n_jobs=-1)</pre></div></div></div><div class=\"sk-item sk-dashed-wrapped\"><div class=\"sk-label-container\"><div class=\"sk-label sk-toggleable\"><input class=\"sk-toggleable__control sk-hidden--visually\" id=\"893dd7d6-c8d4-4079-8654-bd26e51dbf71\" type=\"checkbox\" ><label class=\"sk-toggleable__label\" for=\"893dd7d6-c8d4-4079-8654-bd26e51dbf71\">featureunion: FeatureUnion</label><div class=\"sk-toggleable__content\"><pre>FeatureUnion(transformer_list=[('persistenceentropy',\n",
       "                                PersistenceEntropy(nan_fill_value=-1)),\n",
       "                               ('amplitude-1',\n",
       "                                Amplitude(metric='bottleneck', metric_params={},\n",
       "                                          n_jobs=-1)),\n",
       "                               ('amplitude-2',\n",
       "                                Amplitude(metric='wasserstein',\n",
       "                                          metric_params={'p': 1}, n_jobs=-1)),\n",
       "                               ('amplitude-3',\n",
       "                                Amplitude(metric='wasserstein',\n",
       "                                          metric_params={'p': 2}, n_jobs=-1)),\n",
       "                               ('amplitude-4',\n",
       "                                Amplitude...\n",
       "                                          metric_params={'n_bins': 100, 'p': 1,\n",
       "                                                         'sigma': 1.6},\n",
       "                                          n_jobs=-1)),\n",
       "                               ('amplitude-11',\n",
       "                                Amplitude(metric='heat',\n",
       "                                          metric_params={'n_bins': 100, 'p': 1,\n",
       "                                                         'sigma': 3.2},\n",
       "                                          n_jobs=-1)),\n",
       "                               ('amplitude-12',\n",
       "                                Amplitude(metric='heat',\n",
       "                                          metric_params={'n_bins': 100, 'p': 2,\n",
       "                                                         'sigma': 1.6},\n",
       "                                          n_jobs=-1)),\n",
       "                               ('amplitude-13',\n",
       "                                Amplitude(metric='heat',\n",
       "                                          metric_params={'n_bins': 100, 'p': 2,\n",
       "                                                         'sigma': 3.2},\n",
       "                                          n_jobs=-1))])</pre></div></div></div><div class=\"sk-parallel\"><div class=\"sk-parallel-item\"><div class=\"sk-item\"><div class=\"sk-label-container\"><div class=\"sk-label sk-toggleable\"><label>persistenceentropy</label></div></div><div class=\"sk-serial\"><div class=\"sk-item\"><div class=\"sk-estimator sk-toggleable\"><input class=\"sk-toggleable__control sk-hidden--visually\" id=\"63f60d71-c01e-4028-bc58-200baa958640\" type=\"checkbox\" ><label class=\"sk-toggleable__label\" for=\"63f60d71-c01e-4028-bc58-200baa958640\">PersistenceEntropy</label><div class=\"sk-toggleable__content\"><pre>PersistenceEntropy(nan_fill_value=-1)</pre></div></div></div></div></div></div><div class=\"sk-parallel-item\"><div class=\"sk-item\"><div class=\"sk-label-container\"><div class=\"sk-label sk-toggleable\"><label>amplitude-1</label></div></div><div class=\"sk-serial\"><div class=\"sk-item\"><div class=\"sk-estimator sk-toggleable\"><input class=\"sk-toggleable__control sk-hidden--visually\" id=\"066cef37-a6a2-445c-9794-a4709481af43\" type=\"checkbox\" ><label class=\"sk-toggleable__label\" for=\"066cef37-a6a2-445c-9794-a4709481af43\">Amplitude</label><div class=\"sk-toggleable__content\"><pre>Amplitude(metric='bottleneck', metric_params={}, n_jobs=-1)</pre></div></div></div></div></div></div><div class=\"sk-parallel-item\"><div class=\"sk-item\"><div class=\"sk-label-container\"><div class=\"sk-label sk-toggleable\"><label>amplitude-2</label></div></div><div class=\"sk-serial\"><div class=\"sk-item\"><div class=\"sk-estimator sk-toggleable\"><input class=\"sk-toggleable__control sk-hidden--visually\" id=\"2f5c6154-c368-4878-a9c9-8849d43486c2\" type=\"checkbox\" ><label class=\"sk-toggleable__label\" for=\"2f5c6154-c368-4878-a9c9-8849d43486c2\">Amplitude</label><div class=\"sk-toggleable__content\"><pre>Amplitude(metric='wasserstein', metric_params={'p': 1}, n_jobs=-1)</pre></div></div></div></div></div></div><div class=\"sk-parallel-item\"><div class=\"sk-item\"><div class=\"sk-label-container\"><div class=\"sk-label sk-toggleable\"><label>amplitude-3</label></div></div><div class=\"sk-serial\"><div class=\"sk-item\"><div class=\"sk-estimator sk-toggleable\"><input class=\"sk-toggleable__control sk-hidden--visually\" id=\"6658bf82-9b9b-4e0d-910e-1b7bf3d74f61\" type=\"checkbox\" ><label class=\"sk-toggleable__label\" for=\"6658bf82-9b9b-4e0d-910e-1b7bf3d74f61\">Amplitude</label><div class=\"sk-toggleable__content\"><pre>Amplitude(metric='wasserstein', metric_params={'p': 2}, n_jobs=-1)</pre></div></div></div></div></div></div><div class=\"sk-parallel-item\"><div class=\"sk-item\"><div class=\"sk-label-container\"><div class=\"sk-label sk-toggleable\"><label>amplitude-4</label></div></div><div class=\"sk-serial\"><div class=\"sk-item\"><div class=\"sk-estimator sk-toggleable\"><input class=\"sk-toggleable__control sk-hidden--visually\" id=\"e6a63940-8a0f-4190-9b0e-170e13192913\" type=\"checkbox\" ><label class=\"sk-toggleable__label\" for=\"e6a63940-8a0f-4190-9b0e-170e13192913\">Amplitude</label><div class=\"sk-toggleable__content\"><pre>Amplitude(metric_params={'n_bins': 100, 'n_layers': 1, 'p': 1}, n_jobs=-1)</pre></div></div></div></div></div></div><div class=\"sk-parallel-item\"><div class=\"sk-item\"><div class=\"sk-label-container\"><div class=\"sk-label sk-toggleable\"><label>amplitude-5</label></div></div><div class=\"sk-serial\"><div class=\"sk-item\"><div class=\"sk-estimator sk-toggleable\"><input class=\"sk-toggleable__control sk-hidden--visually\" id=\"fa851158-e4df-468d-8717-4b7617cec62c\" type=\"checkbox\" ><label class=\"sk-toggleable__label\" for=\"fa851158-e4df-468d-8717-4b7617cec62c\">Amplitude</label><div class=\"sk-toggleable__content\"><pre>Amplitude(metric_params={'n_bins': 100, 'n_layers': 2, 'p': 1}, n_jobs=-1)</pre></div></div></div></div></div></div><div class=\"sk-parallel-item\"><div class=\"sk-item\"><div class=\"sk-label-container\"><div class=\"sk-label sk-toggleable\"><label>amplitude-6</label></div></div><div class=\"sk-serial\"><div class=\"sk-item\"><div class=\"sk-estimator sk-toggleable\"><input class=\"sk-toggleable__control sk-hidden--visually\" id=\"956cd17a-8c2f-4454-b6c5-534172eea7c2\" type=\"checkbox\" ><label class=\"sk-toggleable__label\" for=\"956cd17a-8c2f-4454-b6c5-534172eea7c2\">Amplitude</label><div class=\"sk-toggleable__content\"><pre>Amplitude(metric_params={'n_bins': 100, 'n_layers': 1, 'p': 2}, n_jobs=-1)</pre></div></div></div></div></div></div><div class=\"sk-parallel-item\"><div class=\"sk-item\"><div class=\"sk-label-container\"><div class=\"sk-label sk-toggleable\"><label>amplitude-7</label></div></div><div class=\"sk-serial\"><div class=\"sk-item\"><div class=\"sk-estimator sk-toggleable\"><input class=\"sk-toggleable__control sk-hidden--visually\" id=\"a19ed448-d899-4842-8ef2-45237fb790ab\" type=\"checkbox\" ><label class=\"sk-toggleable__label\" for=\"a19ed448-d899-4842-8ef2-45237fb790ab\">Amplitude</label><div class=\"sk-toggleable__content\"><pre>Amplitude(metric_params={'n_bins': 100, 'n_layers': 2, 'p': 2}, n_jobs=-1)</pre></div></div></div></div></div></div><div class=\"sk-parallel-item\"><div class=\"sk-item\"><div class=\"sk-label-container\"><div class=\"sk-label sk-toggleable\"><label>amplitude-8</label></div></div><div class=\"sk-serial\"><div class=\"sk-item\"><div class=\"sk-estimator sk-toggleable\"><input class=\"sk-toggleable__control sk-hidden--visually\" id=\"1565da77-d4d5-48eb-a17d-0fcb2e4e47d6\" type=\"checkbox\" ><label class=\"sk-toggleable__label\" for=\"1565da77-d4d5-48eb-a17d-0fcb2e4e47d6\">Amplitude</label><div class=\"sk-toggleable__content\"><pre>Amplitude(metric='betti', metric_params={'n_bins': 100, 'p': 1}, n_jobs=-1)</pre></div></div></div></div></div></div><div class=\"sk-parallel-item\"><div class=\"sk-item\"><div class=\"sk-label-container\"><div class=\"sk-label sk-toggleable\"><label>amplitude-9</label></div></div><div class=\"sk-serial\"><div class=\"sk-item\"><div class=\"sk-estimator sk-toggleable\"><input class=\"sk-toggleable__control sk-hidden--visually\" id=\"1e314480-e841-404c-9707-be6016037d80\" type=\"checkbox\" ><label class=\"sk-toggleable__label\" for=\"1e314480-e841-404c-9707-be6016037d80\">Amplitude</label><div class=\"sk-toggleable__content\"><pre>Amplitude(metric='betti', metric_params={'n_bins': 100, 'p': 2}, n_jobs=-1)</pre></div></div></div></div></div></div><div class=\"sk-parallel-item\"><div class=\"sk-item\"><div class=\"sk-label-container\"><div class=\"sk-label sk-toggleable\"><label>amplitude-10</label></div></div><div class=\"sk-serial\"><div class=\"sk-item\"><div class=\"sk-estimator sk-toggleable\"><input class=\"sk-toggleable__control sk-hidden--visually\" id=\"32d804c8-046f-4e85-8d05-ffbc3bab7e84\" type=\"checkbox\" ><label class=\"sk-toggleable__label\" for=\"32d804c8-046f-4e85-8d05-ffbc3bab7e84\">Amplitude</label><div class=\"sk-toggleable__content\"><pre>Amplitude(metric='heat', metric_params={'n_bins': 100, 'p': 1, 'sigma': 1.6},\n",
       "          n_jobs=-1)</pre></div></div></div></div></div></div><div class=\"sk-parallel-item\"><div class=\"sk-item\"><div class=\"sk-label-container\"><div class=\"sk-label sk-toggleable\"><label>amplitude-11</label></div></div><div class=\"sk-serial\"><div class=\"sk-item\"><div class=\"sk-estimator sk-toggleable\"><input class=\"sk-toggleable__control sk-hidden--visually\" id=\"40e57aee-e13a-4b85-b0fc-bef7beeca8b8\" type=\"checkbox\" ><label class=\"sk-toggleable__label\" for=\"40e57aee-e13a-4b85-b0fc-bef7beeca8b8\">Amplitude</label><div class=\"sk-toggleable__content\"><pre>Amplitude(metric='heat', metric_params={'n_bins': 100, 'p': 1, 'sigma': 3.2},\n",
       "          n_jobs=-1)</pre></div></div></div></div></div></div><div class=\"sk-parallel-item\"><div class=\"sk-item\"><div class=\"sk-label-container\"><div class=\"sk-label sk-toggleable\"><label>amplitude-12</label></div></div><div class=\"sk-serial\"><div class=\"sk-item\"><div class=\"sk-estimator sk-toggleable\"><input class=\"sk-toggleable__control sk-hidden--visually\" id=\"2aa54db3-8117-4e66-a8bf-3102cf16c8ed\" type=\"checkbox\" ><label class=\"sk-toggleable__label\" for=\"2aa54db3-8117-4e66-a8bf-3102cf16c8ed\">Amplitude</label><div class=\"sk-toggleable__content\"><pre>Amplitude(metric='heat', metric_params={'n_bins': 100, 'p': 2, 'sigma': 1.6},\n",
       "          n_jobs=-1)</pre></div></div></div></div></div></div><div class=\"sk-parallel-item\"><div class=\"sk-item\"><div class=\"sk-label-container\"><div class=\"sk-label sk-toggleable\"><label>amplitude-13</label></div></div><div class=\"sk-serial\"><div class=\"sk-item\"><div class=\"sk-estimator sk-toggleable\"><input class=\"sk-toggleable__control sk-hidden--visually\" id=\"37da23a4-1cd8-4911-8354-b1fc60656283\" type=\"checkbox\" ><label class=\"sk-toggleable__label\" for=\"37da23a4-1cd8-4911-8354-b1fc60656283\">Amplitude</label><div class=\"sk-toggleable__content\"><pre>Amplitude(metric='heat', metric_params={'n_bins': 100, 'p': 2, 'sigma': 3.2},\n",
       "          n_jobs=-1)</pre></div></div></div></div></div></div></div></div></div></div></div></div></div><div class=\"sk-parallel-item\"><div class=\"sk-item\"><div class=\"sk-label-container\"><div class=\"sk-label sk-toggleable\"><label>pipeline-10</label></div></div><div class=\"sk-serial\"><div class=\"sk-item\"><div class=\"sk-serial\"><div class=\"sk-item\"><div class=\"sk-estimator sk-toggleable\"><input class=\"sk-toggleable__control sk-hidden--visually\" id=\"01b35e88-86e4-410a-aa51-cdf789d5a377\" type=\"checkbox\" ><label class=\"sk-toggleable__label\" for=\"01b35e88-86e4-410a-aa51-cdf789d5a377\">Binarizer</label><div class=\"sk-toggleable__content\"><pre>Binarizer(n_jobs=-1, threshold=0.4)</pre></div></div></div><div class=\"sk-item\"><div class=\"sk-estimator sk-toggleable\"><input class=\"sk-toggleable__control sk-hidden--visually\" id=\"c19f94fb-61dd-4230-9b74-4726f1de2d79\" type=\"checkbox\" ><label class=\"sk-toggleable__label\" for=\"c19f94fb-61dd-4230-9b74-4726f1de2d79\">RadialFiltration</label><div class=\"sk-toggleable__content\"><pre>RadialFiltration(center=array([ 6, 13]), n_jobs=-1)</pre></div></div></div><div class=\"sk-item\"><div class=\"sk-estimator sk-toggleable\"><input class=\"sk-toggleable__control sk-hidden--visually\" id=\"6ed08ae3-51cf-44b7-a787-ecd12dff41c2\" type=\"checkbox\" ><label class=\"sk-toggleable__label\" for=\"6ed08ae3-51cf-44b7-a787-ecd12dff41c2\">CubicalPersistence</label><div class=\"sk-toggleable__content\"><pre>CubicalPersistence(n_jobs=-1)</pre></div></div></div><div class=\"sk-item\"><div class=\"sk-estimator sk-toggleable\"><input class=\"sk-toggleable__control sk-hidden--visually\" id=\"f5c98858-0e87-4dcc-90c9-564d13afb2c6\" type=\"checkbox\" ><label class=\"sk-toggleable__label\" for=\"f5c98858-0e87-4dcc-90c9-564d13afb2c6\">Scaler</label><div class=\"sk-toggleable__content\"><pre>Scaler(n_jobs=-1)</pre></div></div></div><div class=\"sk-item sk-dashed-wrapped\"><div class=\"sk-label-container\"><div class=\"sk-label sk-toggleable\"><input class=\"sk-toggleable__control sk-hidden--visually\" id=\"1155093f-27f7-44a1-a516-7874a1dbe729\" type=\"checkbox\" ><label class=\"sk-toggleable__label\" for=\"1155093f-27f7-44a1-a516-7874a1dbe729\">featureunion: FeatureUnion</label><div class=\"sk-toggleable__content\"><pre>FeatureUnion(transformer_list=[('persistenceentropy',\n",
       "                                PersistenceEntropy(nan_fill_value=-1)),\n",
       "                               ('amplitude-1',\n",
       "                                Amplitude(metric='bottleneck', metric_params={},\n",
       "                                          n_jobs=-1)),\n",
       "                               ('amplitude-2',\n",
       "                                Amplitude(metric='wasserstein',\n",
       "                                          metric_params={'p': 1}, n_jobs=-1)),\n",
       "                               ('amplitude-3',\n",
       "                                Amplitude(metric='wasserstein',\n",
       "                                          metric_params={'p': 2}, n_jobs=-1)),\n",
       "                               ('amplitude-4',\n",
       "                                Amplitude...\n",
       "                                          metric_params={'n_bins': 100, 'p': 1,\n",
       "                                                         'sigma': 1.6},\n",
       "                                          n_jobs=-1)),\n",
       "                               ('amplitude-11',\n",
       "                                Amplitude(metric='heat',\n",
       "                                          metric_params={'n_bins': 100, 'p': 1,\n",
       "                                                         'sigma': 3.2},\n",
       "                                          n_jobs=-1)),\n",
       "                               ('amplitude-12',\n",
       "                                Amplitude(metric='heat',\n",
       "                                          metric_params={'n_bins': 100, 'p': 2,\n",
       "                                                         'sigma': 1.6},\n",
       "                                          n_jobs=-1)),\n",
       "                               ('amplitude-13',\n",
       "                                Amplitude(metric='heat',\n",
       "                                          metric_params={'n_bins': 100, 'p': 2,\n",
       "                                                         'sigma': 3.2},\n",
       "                                          n_jobs=-1))])</pre></div></div></div><div class=\"sk-parallel\"><div class=\"sk-parallel-item\"><div class=\"sk-item\"><div class=\"sk-label-container\"><div class=\"sk-label sk-toggleable\"><label>persistenceentropy</label></div></div><div class=\"sk-serial\"><div class=\"sk-item\"><div class=\"sk-estimator sk-toggleable\"><input class=\"sk-toggleable__control sk-hidden--visually\" id=\"a9fffb4a-31b0-4914-8a7a-4d58beb21ac6\" type=\"checkbox\" ><label class=\"sk-toggleable__label\" for=\"a9fffb4a-31b0-4914-8a7a-4d58beb21ac6\">PersistenceEntropy</label><div class=\"sk-toggleable__content\"><pre>PersistenceEntropy(nan_fill_value=-1)</pre></div></div></div></div></div></div><div class=\"sk-parallel-item\"><div class=\"sk-item\"><div class=\"sk-label-container\"><div class=\"sk-label sk-toggleable\"><label>amplitude-1</label></div></div><div class=\"sk-serial\"><div class=\"sk-item\"><div class=\"sk-estimator sk-toggleable\"><input class=\"sk-toggleable__control sk-hidden--visually\" id=\"dc9c92d4-4c76-49b5-a992-05b4b9fe3b61\" type=\"checkbox\" ><label class=\"sk-toggleable__label\" for=\"dc9c92d4-4c76-49b5-a992-05b4b9fe3b61\">Amplitude</label><div class=\"sk-toggleable__content\"><pre>Amplitude(metric='bottleneck', metric_params={}, n_jobs=-1)</pre></div></div></div></div></div></div><div class=\"sk-parallel-item\"><div class=\"sk-item\"><div class=\"sk-label-container\"><div class=\"sk-label sk-toggleable\"><label>amplitude-2</label></div></div><div class=\"sk-serial\"><div class=\"sk-item\"><div class=\"sk-estimator sk-toggleable\"><input class=\"sk-toggleable__control sk-hidden--visually\" id=\"b7fcddb8-a0be-40ec-8525-08b032143794\" type=\"checkbox\" ><label class=\"sk-toggleable__label\" for=\"b7fcddb8-a0be-40ec-8525-08b032143794\">Amplitude</label><div class=\"sk-toggleable__content\"><pre>Amplitude(metric='wasserstein', metric_params={'p': 1}, n_jobs=-1)</pre></div></div></div></div></div></div><div class=\"sk-parallel-item\"><div class=\"sk-item\"><div class=\"sk-label-container\"><div class=\"sk-label sk-toggleable\"><label>amplitude-3</label></div></div><div class=\"sk-serial\"><div class=\"sk-item\"><div class=\"sk-estimator sk-toggleable\"><input class=\"sk-toggleable__control sk-hidden--visually\" id=\"66889035-2d69-494b-a22e-fd35440546c5\" type=\"checkbox\" ><label class=\"sk-toggleable__label\" for=\"66889035-2d69-494b-a22e-fd35440546c5\">Amplitude</label><div class=\"sk-toggleable__content\"><pre>Amplitude(metric='wasserstein', metric_params={'p': 2}, n_jobs=-1)</pre></div></div></div></div></div></div><div class=\"sk-parallel-item\"><div class=\"sk-item\"><div class=\"sk-label-container\"><div class=\"sk-label sk-toggleable\"><label>amplitude-4</label></div></div><div class=\"sk-serial\"><div class=\"sk-item\"><div class=\"sk-estimator sk-toggleable\"><input class=\"sk-toggleable__control sk-hidden--visually\" id=\"441961a5-3cac-492e-be1c-57d14c1a346c\" type=\"checkbox\" ><label class=\"sk-toggleable__label\" for=\"441961a5-3cac-492e-be1c-57d14c1a346c\">Amplitude</label><div class=\"sk-toggleable__content\"><pre>Amplitude(metric_params={'n_bins': 100, 'n_layers': 1, 'p': 1}, n_jobs=-1)</pre></div></div></div></div></div></div><div class=\"sk-parallel-item\"><div class=\"sk-item\"><div class=\"sk-label-container\"><div class=\"sk-label sk-toggleable\"><label>amplitude-5</label></div></div><div class=\"sk-serial\"><div class=\"sk-item\"><div class=\"sk-estimator sk-toggleable\"><input class=\"sk-toggleable__control sk-hidden--visually\" id=\"4f5ad71c-0e20-48ff-8387-883e86076a4b\" type=\"checkbox\" ><label class=\"sk-toggleable__label\" for=\"4f5ad71c-0e20-48ff-8387-883e86076a4b\">Amplitude</label><div class=\"sk-toggleable__content\"><pre>Amplitude(metric_params={'n_bins': 100, 'n_layers': 2, 'p': 1}, n_jobs=-1)</pre></div></div></div></div></div></div><div class=\"sk-parallel-item\"><div class=\"sk-item\"><div class=\"sk-label-container\"><div class=\"sk-label sk-toggleable\"><label>amplitude-6</label></div></div><div class=\"sk-serial\"><div class=\"sk-item\"><div class=\"sk-estimator sk-toggleable\"><input class=\"sk-toggleable__control sk-hidden--visually\" id=\"3fcb18fb-39df-422b-9798-9a95bbf8fa50\" type=\"checkbox\" ><label class=\"sk-toggleable__label\" for=\"3fcb18fb-39df-422b-9798-9a95bbf8fa50\">Amplitude</label><div class=\"sk-toggleable__content\"><pre>Amplitude(metric_params={'n_bins': 100, 'n_layers': 1, 'p': 2}, n_jobs=-1)</pre></div></div></div></div></div></div><div class=\"sk-parallel-item\"><div class=\"sk-item\"><div class=\"sk-label-container\"><div class=\"sk-label sk-toggleable\"><label>amplitude-7</label></div></div><div class=\"sk-serial\"><div class=\"sk-item\"><div class=\"sk-estimator sk-toggleable\"><input class=\"sk-toggleable__control sk-hidden--visually\" id=\"85569580-c17d-44d8-b497-8f0030765ad3\" type=\"checkbox\" ><label class=\"sk-toggleable__label\" for=\"85569580-c17d-44d8-b497-8f0030765ad3\">Amplitude</label><div class=\"sk-toggleable__content\"><pre>Amplitude(metric_params={'n_bins': 100, 'n_layers': 2, 'p': 2}, n_jobs=-1)</pre></div></div></div></div></div></div><div class=\"sk-parallel-item\"><div class=\"sk-item\"><div class=\"sk-label-container\"><div class=\"sk-label sk-toggleable\"><label>amplitude-8</label></div></div><div class=\"sk-serial\"><div class=\"sk-item\"><div class=\"sk-estimator sk-toggleable\"><input class=\"sk-toggleable__control sk-hidden--visually\" id=\"0d212e8f-58e6-4756-82df-2781c5663141\" type=\"checkbox\" ><label class=\"sk-toggleable__label\" for=\"0d212e8f-58e6-4756-82df-2781c5663141\">Amplitude</label><div class=\"sk-toggleable__content\"><pre>Amplitude(metric='betti', metric_params={'n_bins': 100, 'p': 1}, n_jobs=-1)</pre></div></div></div></div></div></div><div class=\"sk-parallel-item\"><div class=\"sk-item\"><div class=\"sk-label-container\"><div class=\"sk-label sk-toggleable\"><label>amplitude-9</label></div></div><div class=\"sk-serial\"><div class=\"sk-item\"><div class=\"sk-estimator sk-toggleable\"><input class=\"sk-toggleable__control sk-hidden--visually\" id=\"d9ec8732-14eb-4149-8b6a-bf8cf0d8b5ec\" type=\"checkbox\" ><label class=\"sk-toggleable__label\" for=\"d9ec8732-14eb-4149-8b6a-bf8cf0d8b5ec\">Amplitude</label><div class=\"sk-toggleable__content\"><pre>Amplitude(metric='betti', metric_params={'n_bins': 100, 'p': 2}, n_jobs=-1)</pre></div></div></div></div></div></div><div class=\"sk-parallel-item\"><div class=\"sk-item\"><div class=\"sk-label-container\"><div class=\"sk-label sk-toggleable\"><label>amplitude-10</label></div></div><div class=\"sk-serial\"><div class=\"sk-item\"><div class=\"sk-estimator sk-toggleable\"><input class=\"sk-toggleable__control sk-hidden--visually\" id=\"862874e1-8b60-4952-8153-01a85fb59aa0\" type=\"checkbox\" ><label class=\"sk-toggleable__label\" for=\"862874e1-8b60-4952-8153-01a85fb59aa0\">Amplitude</label><div class=\"sk-toggleable__content\"><pre>Amplitude(metric='heat', metric_params={'n_bins': 100, 'p': 1, 'sigma': 1.6},\n",
       "          n_jobs=-1)</pre></div></div></div></div></div></div><div class=\"sk-parallel-item\"><div class=\"sk-item\"><div class=\"sk-label-container\"><div class=\"sk-label sk-toggleable\"><label>amplitude-11</label></div></div><div class=\"sk-serial\"><div class=\"sk-item\"><div class=\"sk-estimator sk-toggleable\"><input class=\"sk-toggleable__control sk-hidden--visually\" id=\"22a2c88b-25a0-4021-b7c1-4e015c2fb421\" type=\"checkbox\" ><label class=\"sk-toggleable__label\" for=\"22a2c88b-25a0-4021-b7c1-4e015c2fb421\">Amplitude</label><div class=\"sk-toggleable__content\"><pre>Amplitude(metric='heat', metric_params={'n_bins': 100, 'p': 1, 'sigma': 3.2},\n",
       "          n_jobs=-1)</pre></div></div></div></div></div></div><div class=\"sk-parallel-item\"><div class=\"sk-item\"><div class=\"sk-label-container\"><div class=\"sk-label sk-toggleable\"><label>amplitude-12</label></div></div><div class=\"sk-serial\"><div class=\"sk-item\"><div class=\"sk-estimator sk-toggleable\"><input class=\"sk-toggleable__control sk-hidden--visually\" id=\"a63ea1a8-4726-485a-b9dd-5775e9d34f38\" type=\"checkbox\" ><label class=\"sk-toggleable__label\" for=\"a63ea1a8-4726-485a-b9dd-5775e9d34f38\">Amplitude</label><div class=\"sk-toggleable__content\"><pre>Amplitude(metric='heat', metric_params={'n_bins': 100, 'p': 2, 'sigma': 1.6},\n",
       "          n_jobs=-1)</pre></div></div></div></div></div></div><div class=\"sk-parallel-item\"><div class=\"sk-item\"><div class=\"sk-label-container\"><div class=\"sk-label sk-toggleable\"><label>amplitude-13</label></div></div><div class=\"sk-serial\"><div class=\"sk-item\"><div class=\"sk-estimator sk-toggleable\"><input class=\"sk-toggleable__control sk-hidden--visually\" id=\"b145865f-84f4-475a-8612-16b5fa91517d\" type=\"checkbox\" ><label class=\"sk-toggleable__label\" for=\"b145865f-84f4-475a-8612-16b5fa91517d\">Amplitude</label><div class=\"sk-toggleable__content\"><pre>Amplitude(metric='heat', metric_params={'n_bins': 100, 'p': 2, 'sigma': 3.2},\n",
       "          n_jobs=-1)</pre></div></div></div></div></div></div></div></div></div></div></div></div></div><div class=\"sk-parallel-item\"><div class=\"sk-item\"><div class=\"sk-label-container\"><div class=\"sk-label sk-toggleable\"><label>pipeline-11</label></div></div><div class=\"sk-serial\"><div class=\"sk-item\"><div class=\"sk-serial\"><div class=\"sk-item\"><div class=\"sk-estimator sk-toggleable\"><input class=\"sk-toggleable__control sk-hidden--visually\" id=\"e045efa0-16b4-40ff-8f2e-b45430e82745\" type=\"checkbox\" ><label class=\"sk-toggleable__label\" for=\"e045efa0-16b4-40ff-8f2e-b45430e82745\">Binarizer</label><div class=\"sk-toggleable__content\"><pre>Binarizer(n_jobs=-1, threshold=0.4)</pre></div></div></div><div class=\"sk-item\"><div class=\"sk-estimator sk-toggleable\"><input class=\"sk-toggleable__control sk-hidden--visually\" id=\"092080a1-7b21-4c87-9a36-3b31c7927cd5\" type=\"checkbox\" ><label class=\"sk-toggleable__label\" for=\"092080a1-7b21-4c87-9a36-3b31c7927cd5\">RadialFiltration</label><div class=\"sk-toggleable__content\"><pre>RadialFiltration(center=array([13, 13]), n_jobs=-1)</pre></div></div></div><div class=\"sk-item\"><div class=\"sk-estimator sk-toggleable\"><input class=\"sk-toggleable__control sk-hidden--visually\" id=\"1f886a91-5fc1-4934-a2ef-d1a87ada3476\" type=\"checkbox\" ><label class=\"sk-toggleable__label\" for=\"1f886a91-5fc1-4934-a2ef-d1a87ada3476\">CubicalPersistence</label><div class=\"sk-toggleable__content\"><pre>CubicalPersistence(n_jobs=-1)</pre></div></div></div><div class=\"sk-item\"><div class=\"sk-estimator sk-toggleable\"><input class=\"sk-toggleable__control sk-hidden--visually\" id=\"ffe16cd2-5c61-4b3b-9a12-e41b6abafe30\" type=\"checkbox\" ><label class=\"sk-toggleable__label\" for=\"ffe16cd2-5c61-4b3b-9a12-e41b6abafe30\">Scaler</label><div class=\"sk-toggleable__content\"><pre>Scaler(n_jobs=-1)</pre></div></div></div><div class=\"sk-item sk-dashed-wrapped\"><div class=\"sk-label-container\"><div class=\"sk-label sk-toggleable\"><input class=\"sk-toggleable__control sk-hidden--visually\" id=\"fd9d1cdf-eb16-4e1f-9855-091d27095bdc\" type=\"checkbox\" ><label class=\"sk-toggleable__label\" for=\"fd9d1cdf-eb16-4e1f-9855-091d27095bdc\">featureunion: FeatureUnion</label><div class=\"sk-toggleable__content\"><pre>FeatureUnion(transformer_list=[('persistenceentropy',\n",
       "                                PersistenceEntropy(nan_fill_value=-1)),\n",
       "                               ('amplitude-1',\n",
       "                                Amplitude(metric='bottleneck', metric_params={},\n",
       "                                          n_jobs=-1)),\n",
       "                               ('amplitude-2',\n",
       "                                Amplitude(metric='wasserstein',\n",
       "                                          metric_params={'p': 1}, n_jobs=-1)),\n",
       "                               ('amplitude-3',\n",
       "                                Amplitude(metric='wasserstein',\n",
       "                                          metric_params={'p': 2}, n_jobs=-1)),\n",
       "                               ('amplitude-4',\n",
       "                                Amplitude...\n",
       "                                          metric_params={'n_bins': 100, 'p': 1,\n",
       "                                                         'sigma': 1.6},\n",
       "                                          n_jobs=-1)),\n",
       "                               ('amplitude-11',\n",
       "                                Amplitude(metric='heat',\n",
       "                                          metric_params={'n_bins': 100, 'p': 1,\n",
       "                                                         'sigma': 3.2},\n",
       "                                          n_jobs=-1)),\n",
       "                               ('amplitude-12',\n",
       "                                Amplitude(metric='heat',\n",
       "                                          metric_params={'n_bins': 100, 'p': 2,\n",
       "                                                         'sigma': 1.6},\n",
       "                                          n_jobs=-1)),\n",
       "                               ('amplitude-13',\n",
       "                                Amplitude(metric='heat',\n",
       "                                          metric_params={'n_bins': 100, 'p': 2,\n",
       "                                                         'sigma': 3.2},\n",
       "                                          n_jobs=-1))])</pre></div></div></div><div class=\"sk-parallel\"><div class=\"sk-parallel-item\"><div class=\"sk-item\"><div class=\"sk-label-container\"><div class=\"sk-label sk-toggleable\"><label>persistenceentropy</label></div></div><div class=\"sk-serial\"><div class=\"sk-item\"><div class=\"sk-estimator sk-toggleable\"><input class=\"sk-toggleable__control sk-hidden--visually\" id=\"18f5559e-0298-41ed-b71c-197248c6ff62\" type=\"checkbox\" ><label class=\"sk-toggleable__label\" for=\"18f5559e-0298-41ed-b71c-197248c6ff62\">PersistenceEntropy</label><div class=\"sk-toggleable__content\"><pre>PersistenceEntropy(nan_fill_value=-1)</pre></div></div></div></div></div></div><div class=\"sk-parallel-item\"><div class=\"sk-item\"><div class=\"sk-label-container\"><div class=\"sk-label sk-toggleable\"><label>amplitude-1</label></div></div><div class=\"sk-serial\"><div class=\"sk-item\"><div class=\"sk-estimator sk-toggleable\"><input class=\"sk-toggleable__control sk-hidden--visually\" id=\"036b4ee1-ee38-4bd6-9d89-7ea328a3f7c9\" type=\"checkbox\" ><label class=\"sk-toggleable__label\" for=\"036b4ee1-ee38-4bd6-9d89-7ea328a3f7c9\">Amplitude</label><div class=\"sk-toggleable__content\"><pre>Amplitude(metric='bottleneck', metric_params={}, n_jobs=-1)</pre></div></div></div></div></div></div><div class=\"sk-parallel-item\"><div class=\"sk-item\"><div class=\"sk-label-container\"><div class=\"sk-label sk-toggleable\"><label>amplitude-2</label></div></div><div class=\"sk-serial\"><div class=\"sk-item\"><div class=\"sk-estimator sk-toggleable\"><input class=\"sk-toggleable__control sk-hidden--visually\" id=\"d6cd56fb-a6f5-4fb6-b72a-899ee0214e59\" type=\"checkbox\" ><label class=\"sk-toggleable__label\" for=\"d6cd56fb-a6f5-4fb6-b72a-899ee0214e59\">Amplitude</label><div class=\"sk-toggleable__content\"><pre>Amplitude(metric='wasserstein', metric_params={'p': 1}, n_jobs=-1)</pre></div></div></div></div></div></div><div class=\"sk-parallel-item\"><div class=\"sk-item\"><div class=\"sk-label-container\"><div class=\"sk-label sk-toggleable\"><label>amplitude-3</label></div></div><div class=\"sk-serial\"><div class=\"sk-item\"><div class=\"sk-estimator sk-toggleable\"><input class=\"sk-toggleable__control sk-hidden--visually\" id=\"66ed316d-891d-409e-a276-07a83ed071bd\" type=\"checkbox\" ><label class=\"sk-toggleable__label\" for=\"66ed316d-891d-409e-a276-07a83ed071bd\">Amplitude</label><div class=\"sk-toggleable__content\"><pre>Amplitude(metric='wasserstein', metric_params={'p': 2}, n_jobs=-1)</pre></div></div></div></div></div></div><div class=\"sk-parallel-item\"><div class=\"sk-item\"><div class=\"sk-label-container\"><div class=\"sk-label sk-toggleable\"><label>amplitude-4</label></div></div><div class=\"sk-serial\"><div class=\"sk-item\"><div class=\"sk-estimator sk-toggleable\"><input class=\"sk-toggleable__control sk-hidden--visually\" id=\"40e5d2d0-61c7-4bd7-b36b-504911731fe0\" type=\"checkbox\" ><label class=\"sk-toggleable__label\" for=\"40e5d2d0-61c7-4bd7-b36b-504911731fe0\">Amplitude</label><div class=\"sk-toggleable__content\"><pre>Amplitude(metric_params={'n_bins': 100, 'n_layers': 1, 'p': 1}, n_jobs=-1)</pre></div></div></div></div></div></div><div class=\"sk-parallel-item\"><div class=\"sk-item\"><div class=\"sk-label-container\"><div class=\"sk-label sk-toggleable\"><label>amplitude-5</label></div></div><div class=\"sk-serial\"><div class=\"sk-item\"><div class=\"sk-estimator sk-toggleable\"><input class=\"sk-toggleable__control sk-hidden--visually\" id=\"1974d29b-bb0d-4152-bc60-edf67ec552ac\" type=\"checkbox\" ><label class=\"sk-toggleable__label\" for=\"1974d29b-bb0d-4152-bc60-edf67ec552ac\">Amplitude</label><div class=\"sk-toggleable__content\"><pre>Amplitude(metric_params={'n_bins': 100, 'n_layers': 2, 'p': 1}, n_jobs=-1)</pre></div></div></div></div></div></div><div class=\"sk-parallel-item\"><div class=\"sk-item\"><div class=\"sk-label-container\"><div class=\"sk-label sk-toggleable\"><label>amplitude-6</label></div></div><div class=\"sk-serial\"><div class=\"sk-item\"><div class=\"sk-estimator sk-toggleable\"><input class=\"sk-toggleable__control sk-hidden--visually\" id=\"b9d52266-5155-4ae5-ad01-379c7dee3ee6\" type=\"checkbox\" ><label class=\"sk-toggleable__label\" for=\"b9d52266-5155-4ae5-ad01-379c7dee3ee6\">Amplitude</label><div class=\"sk-toggleable__content\"><pre>Amplitude(metric_params={'n_bins': 100, 'n_layers': 1, 'p': 2}, n_jobs=-1)</pre></div></div></div></div></div></div><div class=\"sk-parallel-item\"><div class=\"sk-item\"><div class=\"sk-label-container\"><div class=\"sk-label sk-toggleable\"><label>amplitude-7</label></div></div><div class=\"sk-serial\"><div class=\"sk-item\"><div class=\"sk-estimator sk-toggleable\"><input class=\"sk-toggleable__control sk-hidden--visually\" id=\"e6a2a0eb-ea8c-44ab-a85e-bceb6bc400a8\" type=\"checkbox\" ><label class=\"sk-toggleable__label\" for=\"e6a2a0eb-ea8c-44ab-a85e-bceb6bc400a8\">Amplitude</label><div class=\"sk-toggleable__content\"><pre>Amplitude(metric_params={'n_bins': 100, 'n_layers': 2, 'p': 2}, n_jobs=-1)</pre></div></div></div></div></div></div><div class=\"sk-parallel-item\"><div class=\"sk-item\"><div class=\"sk-label-container\"><div class=\"sk-label sk-toggleable\"><label>amplitude-8</label></div></div><div class=\"sk-serial\"><div class=\"sk-item\"><div class=\"sk-estimator sk-toggleable\"><input class=\"sk-toggleable__control sk-hidden--visually\" id=\"e75005ee-e04e-4096-a5d0-4905516de3fc\" type=\"checkbox\" ><label class=\"sk-toggleable__label\" for=\"e75005ee-e04e-4096-a5d0-4905516de3fc\">Amplitude</label><div class=\"sk-toggleable__content\"><pre>Amplitude(metric='betti', metric_params={'n_bins': 100, 'p': 1}, n_jobs=-1)</pre></div></div></div></div></div></div><div class=\"sk-parallel-item\"><div class=\"sk-item\"><div class=\"sk-label-container\"><div class=\"sk-label sk-toggleable\"><label>amplitude-9</label></div></div><div class=\"sk-serial\"><div class=\"sk-item\"><div class=\"sk-estimator sk-toggleable\"><input class=\"sk-toggleable__control sk-hidden--visually\" id=\"46182cbd-739e-4898-9f9b-d5335af7b3dc\" type=\"checkbox\" ><label class=\"sk-toggleable__label\" for=\"46182cbd-739e-4898-9f9b-d5335af7b3dc\">Amplitude</label><div class=\"sk-toggleable__content\"><pre>Amplitude(metric='betti', metric_params={'n_bins': 100, 'p': 2}, n_jobs=-1)</pre></div></div></div></div></div></div><div class=\"sk-parallel-item\"><div class=\"sk-item\"><div class=\"sk-label-container\"><div class=\"sk-label sk-toggleable\"><label>amplitude-10</label></div></div><div class=\"sk-serial\"><div class=\"sk-item\"><div class=\"sk-estimator sk-toggleable\"><input class=\"sk-toggleable__control sk-hidden--visually\" id=\"8ccb1410-6204-4c5d-8c02-00bce479b6f7\" type=\"checkbox\" ><label class=\"sk-toggleable__label\" for=\"8ccb1410-6204-4c5d-8c02-00bce479b6f7\">Amplitude</label><div class=\"sk-toggleable__content\"><pre>Amplitude(metric='heat', metric_params={'n_bins': 100, 'p': 1, 'sigma': 1.6},\n",
       "          n_jobs=-1)</pre></div></div></div></div></div></div><div class=\"sk-parallel-item\"><div class=\"sk-item\"><div class=\"sk-label-container\"><div class=\"sk-label sk-toggleable\"><label>amplitude-11</label></div></div><div class=\"sk-serial\"><div class=\"sk-item\"><div class=\"sk-estimator sk-toggleable\"><input class=\"sk-toggleable__control sk-hidden--visually\" id=\"e4c838a2-21d5-4100-957c-dcaddd42c8e3\" type=\"checkbox\" ><label class=\"sk-toggleable__label\" for=\"e4c838a2-21d5-4100-957c-dcaddd42c8e3\">Amplitude</label><div class=\"sk-toggleable__content\"><pre>Amplitude(metric='heat', metric_params={'n_bins': 100, 'p': 1, 'sigma': 3.2},\n",
       "          n_jobs=-1)</pre></div></div></div></div></div></div><div class=\"sk-parallel-item\"><div class=\"sk-item\"><div class=\"sk-label-container\"><div class=\"sk-label sk-toggleable\"><label>amplitude-12</label></div></div><div class=\"sk-serial\"><div class=\"sk-item\"><div class=\"sk-estimator sk-toggleable\"><input class=\"sk-toggleable__control sk-hidden--visually\" id=\"03f2ce12-f716-4371-87a1-7b4dcb17072a\" type=\"checkbox\" ><label class=\"sk-toggleable__label\" for=\"03f2ce12-f716-4371-87a1-7b4dcb17072a\">Amplitude</label><div class=\"sk-toggleable__content\"><pre>Amplitude(metric='heat', metric_params={'n_bins': 100, 'p': 2, 'sigma': 1.6},\n",
       "          n_jobs=-1)</pre></div></div></div></div></div></div><div class=\"sk-parallel-item\"><div class=\"sk-item\"><div class=\"sk-label-container\"><div class=\"sk-label sk-toggleable\"><label>amplitude-13</label></div></div><div class=\"sk-serial\"><div class=\"sk-item\"><div class=\"sk-estimator sk-toggleable\"><input class=\"sk-toggleable__control sk-hidden--visually\" id=\"15ecb6ea-9b7c-4d97-9019-e9e6f7e9ad71\" type=\"checkbox\" ><label class=\"sk-toggleable__label\" for=\"15ecb6ea-9b7c-4d97-9019-e9e6f7e9ad71\">Amplitude</label><div class=\"sk-toggleable__content\"><pre>Amplitude(metric='heat', metric_params={'n_bins': 100, 'p': 2, 'sigma': 3.2},\n",
       "          n_jobs=-1)</pre></div></div></div></div></div></div></div></div></div></div></div></div></div><div class=\"sk-parallel-item\"><div class=\"sk-item\"><div class=\"sk-label-container\"><div class=\"sk-label sk-toggleable\"><label>pipeline-12</label></div></div><div class=\"sk-serial\"><div class=\"sk-item\"><div class=\"sk-serial\"><div class=\"sk-item\"><div class=\"sk-estimator sk-toggleable\"><input class=\"sk-toggleable__control sk-hidden--visually\" id=\"5904e22d-5598-4788-9ad2-1e28dedc6499\" type=\"checkbox\" ><label class=\"sk-toggleable__label\" for=\"5904e22d-5598-4788-9ad2-1e28dedc6499\">Binarizer</label><div class=\"sk-toggleable__content\"><pre>Binarizer(n_jobs=-1, threshold=0.4)</pre></div></div></div><div class=\"sk-item\"><div class=\"sk-estimator sk-toggleable\"><input class=\"sk-toggleable__control sk-hidden--visually\" id=\"32ade435-1b2c-4c20-9d83-26e9f9ce3cec\" type=\"checkbox\" ><label class=\"sk-toggleable__label\" for=\"32ade435-1b2c-4c20-9d83-26e9f9ce3cec\">RadialFiltration</label><div class=\"sk-toggleable__content\"><pre>RadialFiltration(center=array([20, 13]), n_jobs=-1)</pre></div></div></div><div class=\"sk-item\"><div class=\"sk-estimator sk-toggleable\"><input class=\"sk-toggleable__control sk-hidden--visually\" id=\"56979540-b9ac-4e4f-8ce5-fe833dc1449b\" type=\"checkbox\" ><label class=\"sk-toggleable__label\" for=\"56979540-b9ac-4e4f-8ce5-fe833dc1449b\">CubicalPersistence</label><div class=\"sk-toggleable__content\"><pre>CubicalPersistence(n_jobs=-1)</pre></div></div></div><div class=\"sk-item\"><div class=\"sk-estimator sk-toggleable\"><input class=\"sk-toggleable__control sk-hidden--visually\" id=\"f3413347-f167-41ed-9256-de41c228b805\" type=\"checkbox\" ><label class=\"sk-toggleable__label\" for=\"f3413347-f167-41ed-9256-de41c228b805\">Scaler</label><div class=\"sk-toggleable__content\"><pre>Scaler(n_jobs=-1)</pre></div></div></div><div class=\"sk-item sk-dashed-wrapped\"><div class=\"sk-label-container\"><div class=\"sk-label sk-toggleable\"><input class=\"sk-toggleable__control sk-hidden--visually\" id=\"c12f33ee-000c-4322-8e63-c36f62df4123\" type=\"checkbox\" ><label class=\"sk-toggleable__label\" for=\"c12f33ee-000c-4322-8e63-c36f62df4123\">featureunion: FeatureUnion</label><div class=\"sk-toggleable__content\"><pre>FeatureUnion(transformer_list=[('persistenceentropy',\n",
       "                                PersistenceEntropy(nan_fill_value=-1)),\n",
       "                               ('amplitude-1',\n",
       "                                Amplitude(metric='bottleneck', metric_params={},\n",
       "                                          n_jobs=-1)),\n",
       "                               ('amplitude-2',\n",
       "                                Amplitude(metric='wasserstein',\n",
       "                                          metric_params={'p': 1}, n_jobs=-1)),\n",
       "                               ('amplitude-3',\n",
       "                                Amplitude(metric='wasserstein',\n",
       "                                          metric_params={'p': 2}, n_jobs=-1)),\n",
       "                               ('amplitude-4',\n",
       "                                Amplitude...\n",
       "                                          metric_params={'n_bins': 100, 'p': 1,\n",
       "                                                         'sigma': 1.6},\n",
       "                                          n_jobs=-1)),\n",
       "                               ('amplitude-11',\n",
       "                                Amplitude(metric='heat',\n",
       "                                          metric_params={'n_bins': 100, 'p': 1,\n",
       "                                                         'sigma': 3.2},\n",
       "                                          n_jobs=-1)),\n",
       "                               ('amplitude-12',\n",
       "                                Amplitude(metric='heat',\n",
       "                                          metric_params={'n_bins': 100, 'p': 2,\n",
       "                                                         'sigma': 1.6},\n",
       "                                          n_jobs=-1)),\n",
       "                               ('amplitude-13',\n",
       "                                Amplitude(metric='heat',\n",
       "                                          metric_params={'n_bins': 100, 'p': 2,\n",
       "                                                         'sigma': 3.2},\n",
       "                                          n_jobs=-1))])</pre></div></div></div><div class=\"sk-parallel\"><div class=\"sk-parallel-item\"><div class=\"sk-item\"><div class=\"sk-label-container\"><div class=\"sk-label sk-toggleable\"><label>persistenceentropy</label></div></div><div class=\"sk-serial\"><div class=\"sk-item\"><div class=\"sk-estimator sk-toggleable\"><input class=\"sk-toggleable__control sk-hidden--visually\" id=\"f125be08-e112-4e44-be51-7cf6d20809b4\" type=\"checkbox\" ><label class=\"sk-toggleable__label\" for=\"f125be08-e112-4e44-be51-7cf6d20809b4\">PersistenceEntropy</label><div class=\"sk-toggleable__content\"><pre>PersistenceEntropy(nan_fill_value=-1)</pre></div></div></div></div></div></div><div class=\"sk-parallel-item\"><div class=\"sk-item\"><div class=\"sk-label-container\"><div class=\"sk-label sk-toggleable\"><label>amplitude-1</label></div></div><div class=\"sk-serial\"><div class=\"sk-item\"><div class=\"sk-estimator sk-toggleable\"><input class=\"sk-toggleable__control sk-hidden--visually\" id=\"c724b98b-860a-4d1d-ac6a-73d85eeb9f27\" type=\"checkbox\" ><label class=\"sk-toggleable__label\" for=\"c724b98b-860a-4d1d-ac6a-73d85eeb9f27\">Amplitude</label><div class=\"sk-toggleable__content\"><pre>Amplitude(metric='bottleneck', metric_params={}, n_jobs=-1)</pre></div></div></div></div></div></div><div class=\"sk-parallel-item\"><div class=\"sk-item\"><div class=\"sk-label-container\"><div class=\"sk-label sk-toggleable\"><label>amplitude-2</label></div></div><div class=\"sk-serial\"><div class=\"sk-item\"><div class=\"sk-estimator sk-toggleable\"><input class=\"sk-toggleable__control sk-hidden--visually\" id=\"a7c07d30-3555-4c51-ad8a-b66dce93d278\" type=\"checkbox\" ><label class=\"sk-toggleable__label\" for=\"a7c07d30-3555-4c51-ad8a-b66dce93d278\">Amplitude</label><div class=\"sk-toggleable__content\"><pre>Amplitude(metric='wasserstein', metric_params={'p': 1}, n_jobs=-1)</pre></div></div></div></div></div></div><div class=\"sk-parallel-item\"><div class=\"sk-item\"><div class=\"sk-label-container\"><div class=\"sk-label sk-toggleable\"><label>amplitude-3</label></div></div><div class=\"sk-serial\"><div class=\"sk-item\"><div class=\"sk-estimator sk-toggleable\"><input class=\"sk-toggleable__control sk-hidden--visually\" id=\"06b5fee4-2628-41f8-acc8-cdd8926b3c77\" type=\"checkbox\" ><label class=\"sk-toggleable__label\" for=\"06b5fee4-2628-41f8-acc8-cdd8926b3c77\">Amplitude</label><div class=\"sk-toggleable__content\"><pre>Amplitude(metric='wasserstein', metric_params={'p': 2}, n_jobs=-1)</pre></div></div></div></div></div></div><div class=\"sk-parallel-item\"><div class=\"sk-item\"><div class=\"sk-label-container\"><div class=\"sk-label sk-toggleable\"><label>amplitude-4</label></div></div><div class=\"sk-serial\"><div class=\"sk-item\"><div class=\"sk-estimator sk-toggleable\"><input class=\"sk-toggleable__control sk-hidden--visually\" id=\"6d37bcaa-b8c7-4502-9cf1-1fb8ca0d950d\" type=\"checkbox\" ><label class=\"sk-toggleable__label\" for=\"6d37bcaa-b8c7-4502-9cf1-1fb8ca0d950d\">Amplitude</label><div class=\"sk-toggleable__content\"><pre>Amplitude(metric_params={'n_bins': 100, 'n_layers': 1, 'p': 1}, n_jobs=-1)</pre></div></div></div></div></div></div><div class=\"sk-parallel-item\"><div class=\"sk-item\"><div class=\"sk-label-container\"><div class=\"sk-label sk-toggleable\"><label>amplitude-5</label></div></div><div class=\"sk-serial\"><div class=\"sk-item\"><div class=\"sk-estimator sk-toggleable\"><input class=\"sk-toggleable__control sk-hidden--visually\" id=\"c23b0702-5811-4f81-a61c-b39a3b023c05\" type=\"checkbox\" ><label class=\"sk-toggleable__label\" for=\"c23b0702-5811-4f81-a61c-b39a3b023c05\">Amplitude</label><div class=\"sk-toggleable__content\"><pre>Amplitude(metric_params={'n_bins': 100, 'n_layers': 2, 'p': 1}, n_jobs=-1)</pre></div></div></div></div></div></div><div class=\"sk-parallel-item\"><div class=\"sk-item\"><div class=\"sk-label-container\"><div class=\"sk-label sk-toggleable\"><label>amplitude-6</label></div></div><div class=\"sk-serial\"><div class=\"sk-item\"><div class=\"sk-estimator sk-toggleable\"><input class=\"sk-toggleable__control sk-hidden--visually\" id=\"339a559e-2455-4d1b-8f6b-9fcc939ea927\" type=\"checkbox\" ><label class=\"sk-toggleable__label\" for=\"339a559e-2455-4d1b-8f6b-9fcc939ea927\">Amplitude</label><div class=\"sk-toggleable__content\"><pre>Amplitude(metric_params={'n_bins': 100, 'n_layers': 1, 'p': 2}, n_jobs=-1)</pre></div></div></div></div></div></div><div class=\"sk-parallel-item\"><div class=\"sk-item\"><div class=\"sk-label-container\"><div class=\"sk-label sk-toggleable\"><label>amplitude-7</label></div></div><div class=\"sk-serial\"><div class=\"sk-item\"><div class=\"sk-estimator sk-toggleable\"><input class=\"sk-toggleable__control sk-hidden--visually\" id=\"8ba191eb-20d2-4012-b71f-8513adfd2764\" type=\"checkbox\" ><label class=\"sk-toggleable__label\" for=\"8ba191eb-20d2-4012-b71f-8513adfd2764\">Amplitude</label><div class=\"sk-toggleable__content\"><pre>Amplitude(metric_params={'n_bins': 100, 'n_layers': 2, 'p': 2}, n_jobs=-1)</pre></div></div></div></div></div></div><div class=\"sk-parallel-item\"><div class=\"sk-item\"><div class=\"sk-label-container\"><div class=\"sk-label sk-toggleable\"><label>amplitude-8</label></div></div><div class=\"sk-serial\"><div class=\"sk-item\"><div class=\"sk-estimator sk-toggleable\"><input class=\"sk-toggleable__control sk-hidden--visually\" id=\"984ff8c1-8e72-4078-834e-625a3cc29955\" type=\"checkbox\" ><label class=\"sk-toggleable__label\" for=\"984ff8c1-8e72-4078-834e-625a3cc29955\">Amplitude</label><div class=\"sk-toggleable__content\"><pre>Amplitude(metric='betti', metric_params={'n_bins': 100, 'p': 1}, n_jobs=-1)</pre></div></div></div></div></div></div><div class=\"sk-parallel-item\"><div class=\"sk-item\"><div class=\"sk-label-container\"><div class=\"sk-label sk-toggleable\"><label>amplitude-9</label></div></div><div class=\"sk-serial\"><div class=\"sk-item\"><div class=\"sk-estimator sk-toggleable\"><input class=\"sk-toggleable__control sk-hidden--visually\" id=\"1a81855a-bda9-4db6-94a7-494c916b506e\" type=\"checkbox\" ><label class=\"sk-toggleable__label\" for=\"1a81855a-bda9-4db6-94a7-494c916b506e\">Amplitude</label><div class=\"sk-toggleable__content\"><pre>Amplitude(metric='betti', metric_params={'n_bins': 100, 'p': 2}, n_jobs=-1)</pre></div></div></div></div></div></div><div class=\"sk-parallel-item\"><div class=\"sk-item\"><div class=\"sk-label-container\"><div class=\"sk-label sk-toggleable\"><label>amplitude-10</label></div></div><div class=\"sk-serial\"><div class=\"sk-item\"><div class=\"sk-estimator sk-toggleable\"><input class=\"sk-toggleable__control sk-hidden--visually\" id=\"3816dbd5-24bf-4a15-805b-495a376d3a50\" type=\"checkbox\" ><label class=\"sk-toggleable__label\" for=\"3816dbd5-24bf-4a15-805b-495a376d3a50\">Amplitude</label><div class=\"sk-toggleable__content\"><pre>Amplitude(metric='heat', metric_params={'n_bins': 100, 'p': 1, 'sigma': 1.6},\n",
       "          n_jobs=-1)</pre></div></div></div></div></div></div><div class=\"sk-parallel-item\"><div class=\"sk-item\"><div class=\"sk-label-container\"><div class=\"sk-label sk-toggleable\"><label>amplitude-11</label></div></div><div class=\"sk-serial\"><div class=\"sk-item\"><div class=\"sk-estimator sk-toggleable\"><input class=\"sk-toggleable__control sk-hidden--visually\" id=\"8b610b70-e907-4ed0-b1c1-a7c34e3f20d7\" type=\"checkbox\" ><label class=\"sk-toggleable__label\" for=\"8b610b70-e907-4ed0-b1c1-a7c34e3f20d7\">Amplitude</label><div class=\"sk-toggleable__content\"><pre>Amplitude(metric='heat', metric_params={'n_bins': 100, 'p': 1, 'sigma': 3.2},\n",
       "          n_jobs=-1)</pre></div></div></div></div></div></div><div class=\"sk-parallel-item\"><div class=\"sk-item\"><div class=\"sk-label-container\"><div class=\"sk-label sk-toggleable\"><label>amplitude-12</label></div></div><div class=\"sk-serial\"><div class=\"sk-item\"><div class=\"sk-estimator sk-toggleable\"><input class=\"sk-toggleable__control sk-hidden--visually\" id=\"463dc671-09df-4fb4-aa46-ec5d163833fe\" type=\"checkbox\" ><label class=\"sk-toggleable__label\" for=\"463dc671-09df-4fb4-aa46-ec5d163833fe\">Amplitude</label><div class=\"sk-toggleable__content\"><pre>Amplitude(metric='heat', metric_params={'n_bins': 100, 'p': 2, 'sigma': 1.6},\n",
       "          n_jobs=-1)</pre></div></div></div></div></div></div><div class=\"sk-parallel-item\"><div class=\"sk-item\"><div class=\"sk-label-container\"><div class=\"sk-label sk-toggleable\"><label>amplitude-13</label></div></div><div class=\"sk-serial\"><div class=\"sk-item\"><div class=\"sk-estimator sk-toggleable\"><input class=\"sk-toggleable__control sk-hidden--visually\" id=\"f6448568-8750-4036-8904-d07db68600ed\" type=\"checkbox\" ><label class=\"sk-toggleable__label\" for=\"f6448568-8750-4036-8904-d07db68600ed\">Amplitude</label><div class=\"sk-toggleable__content\"><pre>Amplitude(metric='heat', metric_params={'n_bins': 100, 'p': 2, 'sigma': 3.2},\n",
       "          n_jobs=-1)</pre></div></div></div></div></div></div></div></div></div></div></div></div></div><div class=\"sk-parallel-item\"><div class=\"sk-item\"><div class=\"sk-label-container\"><div class=\"sk-label sk-toggleable\"><label>pipeline-13</label></div></div><div class=\"sk-serial\"><div class=\"sk-item\"><div class=\"sk-serial\"><div class=\"sk-item\"><div class=\"sk-estimator sk-toggleable\"><input class=\"sk-toggleable__control sk-hidden--visually\" id=\"cecb23fc-3359-4866-bd33-9ded2048bbe7\" type=\"checkbox\" ><label class=\"sk-toggleable__label\" for=\"cecb23fc-3359-4866-bd33-9ded2048bbe7\">Binarizer</label><div class=\"sk-toggleable__content\"><pre>Binarizer(n_jobs=-1, threshold=0.4)</pre></div></div></div><div class=\"sk-item\"><div class=\"sk-estimator sk-toggleable\"><input class=\"sk-toggleable__control sk-hidden--visually\" id=\"b617fd79-578a-473a-afae-45eadcb83468\" type=\"checkbox\" ><label class=\"sk-toggleable__label\" for=\"b617fd79-578a-473a-afae-45eadcb83468\">RadialFiltration</label><div class=\"sk-toggleable__content\"><pre>RadialFiltration(center=array([13, 20]), n_jobs=-1)</pre></div></div></div><div class=\"sk-item\"><div class=\"sk-estimator sk-toggleable\"><input class=\"sk-toggleable__control sk-hidden--visually\" id=\"2696b2e2-9443-472e-835e-90d5ae2a2f82\" type=\"checkbox\" ><label class=\"sk-toggleable__label\" for=\"2696b2e2-9443-472e-835e-90d5ae2a2f82\">CubicalPersistence</label><div class=\"sk-toggleable__content\"><pre>CubicalPersistence(n_jobs=-1)</pre></div></div></div><div class=\"sk-item\"><div class=\"sk-estimator sk-toggleable\"><input class=\"sk-toggleable__control sk-hidden--visually\" id=\"cee2523d-9be6-419d-9972-4cf0ababe593\" type=\"checkbox\" ><label class=\"sk-toggleable__label\" for=\"cee2523d-9be6-419d-9972-4cf0ababe593\">Scaler</label><div class=\"sk-toggleable__content\"><pre>Scaler(n_jobs=-1)</pre></div></div></div><div class=\"sk-item sk-dashed-wrapped\"><div class=\"sk-label-container\"><div class=\"sk-label sk-toggleable\"><input class=\"sk-toggleable__control sk-hidden--visually\" id=\"5f87e472-15d1-48ce-8e1a-c0ff67ab5a97\" type=\"checkbox\" ><label class=\"sk-toggleable__label\" for=\"5f87e472-15d1-48ce-8e1a-c0ff67ab5a97\">featureunion: FeatureUnion</label><div class=\"sk-toggleable__content\"><pre>FeatureUnion(transformer_list=[('persistenceentropy',\n",
       "                                PersistenceEntropy(nan_fill_value=-1)),\n",
       "                               ('amplitude-1',\n",
       "                                Amplitude(metric='bottleneck', metric_params={},\n",
       "                                          n_jobs=-1)),\n",
       "                               ('amplitude-2',\n",
       "                                Amplitude(metric='wasserstein',\n",
       "                                          metric_params={'p': 1}, n_jobs=-1)),\n",
       "                               ('amplitude-3',\n",
       "                                Amplitude(metric='wasserstein',\n",
       "                                          metric_params={'p': 2}, n_jobs=-1)),\n",
       "                               ('amplitude-4',\n",
       "                                Amplitude...\n",
       "                                          metric_params={'n_bins': 100, 'p': 1,\n",
       "                                                         'sigma': 1.6},\n",
       "                                          n_jobs=-1)),\n",
       "                               ('amplitude-11',\n",
       "                                Amplitude(metric='heat',\n",
       "                                          metric_params={'n_bins': 100, 'p': 1,\n",
       "                                                         'sigma': 3.2},\n",
       "                                          n_jobs=-1)),\n",
       "                               ('amplitude-12',\n",
       "                                Amplitude(metric='heat',\n",
       "                                          metric_params={'n_bins': 100, 'p': 2,\n",
       "                                                         'sigma': 1.6},\n",
       "                                          n_jobs=-1)),\n",
       "                               ('amplitude-13',\n",
       "                                Amplitude(metric='heat',\n",
       "                                          metric_params={'n_bins': 100, 'p': 2,\n",
       "                                                         'sigma': 3.2},\n",
       "                                          n_jobs=-1))])</pre></div></div></div><div class=\"sk-parallel\"><div class=\"sk-parallel-item\"><div class=\"sk-item\"><div class=\"sk-label-container\"><div class=\"sk-label sk-toggleable\"><label>persistenceentropy</label></div></div><div class=\"sk-serial\"><div class=\"sk-item\"><div class=\"sk-estimator sk-toggleable\"><input class=\"sk-toggleable__control sk-hidden--visually\" id=\"1452ef33-6018-4d4e-b2f0-cabbcf8d257f\" type=\"checkbox\" ><label class=\"sk-toggleable__label\" for=\"1452ef33-6018-4d4e-b2f0-cabbcf8d257f\">PersistenceEntropy</label><div class=\"sk-toggleable__content\"><pre>PersistenceEntropy(nan_fill_value=-1)</pre></div></div></div></div></div></div><div class=\"sk-parallel-item\"><div class=\"sk-item\"><div class=\"sk-label-container\"><div class=\"sk-label sk-toggleable\"><label>amplitude-1</label></div></div><div class=\"sk-serial\"><div class=\"sk-item\"><div class=\"sk-estimator sk-toggleable\"><input class=\"sk-toggleable__control sk-hidden--visually\" id=\"b9db2857-56ac-4167-bd9e-00e7a4ad5205\" type=\"checkbox\" ><label class=\"sk-toggleable__label\" for=\"b9db2857-56ac-4167-bd9e-00e7a4ad5205\">Amplitude</label><div class=\"sk-toggleable__content\"><pre>Amplitude(metric='bottleneck', metric_params={}, n_jobs=-1)</pre></div></div></div></div></div></div><div class=\"sk-parallel-item\"><div class=\"sk-item\"><div class=\"sk-label-container\"><div class=\"sk-label sk-toggleable\"><label>amplitude-2</label></div></div><div class=\"sk-serial\"><div class=\"sk-item\"><div class=\"sk-estimator sk-toggleable\"><input class=\"sk-toggleable__control sk-hidden--visually\" id=\"01a88d3f-7e5d-42e1-a5d7-1fa255afea38\" type=\"checkbox\" ><label class=\"sk-toggleable__label\" for=\"01a88d3f-7e5d-42e1-a5d7-1fa255afea38\">Amplitude</label><div class=\"sk-toggleable__content\"><pre>Amplitude(metric='wasserstein', metric_params={'p': 1}, n_jobs=-1)</pre></div></div></div></div></div></div><div class=\"sk-parallel-item\"><div class=\"sk-item\"><div class=\"sk-label-container\"><div class=\"sk-label sk-toggleable\"><label>amplitude-3</label></div></div><div class=\"sk-serial\"><div class=\"sk-item\"><div class=\"sk-estimator sk-toggleable\"><input class=\"sk-toggleable__control sk-hidden--visually\" id=\"cf3d7016-939d-4b01-aaac-c3aa1c3f2b4d\" type=\"checkbox\" ><label class=\"sk-toggleable__label\" for=\"cf3d7016-939d-4b01-aaac-c3aa1c3f2b4d\">Amplitude</label><div class=\"sk-toggleable__content\"><pre>Amplitude(metric='wasserstein', metric_params={'p': 2}, n_jobs=-1)</pre></div></div></div></div></div></div><div class=\"sk-parallel-item\"><div class=\"sk-item\"><div class=\"sk-label-container\"><div class=\"sk-label sk-toggleable\"><label>amplitude-4</label></div></div><div class=\"sk-serial\"><div class=\"sk-item\"><div class=\"sk-estimator sk-toggleable\"><input class=\"sk-toggleable__control sk-hidden--visually\" id=\"f886c670-e4a7-4009-ae9e-6fac05393c9b\" type=\"checkbox\" ><label class=\"sk-toggleable__label\" for=\"f886c670-e4a7-4009-ae9e-6fac05393c9b\">Amplitude</label><div class=\"sk-toggleable__content\"><pre>Amplitude(metric_params={'n_bins': 100, 'n_layers': 1, 'p': 1}, n_jobs=-1)</pre></div></div></div></div></div></div><div class=\"sk-parallel-item\"><div class=\"sk-item\"><div class=\"sk-label-container\"><div class=\"sk-label sk-toggleable\"><label>amplitude-5</label></div></div><div class=\"sk-serial\"><div class=\"sk-item\"><div class=\"sk-estimator sk-toggleable\"><input class=\"sk-toggleable__control sk-hidden--visually\" id=\"6cd6be8c-6ef1-4eac-aaf0-3f5c0570cb0c\" type=\"checkbox\" ><label class=\"sk-toggleable__label\" for=\"6cd6be8c-6ef1-4eac-aaf0-3f5c0570cb0c\">Amplitude</label><div class=\"sk-toggleable__content\"><pre>Amplitude(metric_params={'n_bins': 100, 'n_layers': 2, 'p': 1}, n_jobs=-1)</pre></div></div></div></div></div></div><div class=\"sk-parallel-item\"><div class=\"sk-item\"><div class=\"sk-label-container\"><div class=\"sk-label sk-toggleable\"><label>amplitude-6</label></div></div><div class=\"sk-serial\"><div class=\"sk-item\"><div class=\"sk-estimator sk-toggleable\"><input class=\"sk-toggleable__control sk-hidden--visually\" id=\"36aa0734-e4cd-41ef-949f-0623aad2d47e\" type=\"checkbox\" ><label class=\"sk-toggleable__label\" for=\"36aa0734-e4cd-41ef-949f-0623aad2d47e\">Amplitude</label><div class=\"sk-toggleable__content\"><pre>Amplitude(metric_params={'n_bins': 100, 'n_layers': 1, 'p': 2}, n_jobs=-1)</pre></div></div></div></div></div></div><div class=\"sk-parallel-item\"><div class=\"sk-item\"><div class=\"sk-label-container\"><div class=\"sk-label sk-toggleable\"><label>amplitude-7</label></div></div><div class=\"sk-serial\"><div class=\"sk-item\"><div class=\"sk-estimator sk-toggleable\"><input class=\"sk-toggleable__control sk-hidden--visually\" id=\"d7a9f2c1-f463-4863-af05-a7037ae777a5\" type=\"checkbox\" ><label class=\"sk-toggleable__label\" for=\"d7a9f2c1-f463-4863-af05-a7037ae777a5\">Amplitude</label><div class=\"sk-toggleable__content\"><pre>Amplitude(metric_params={'n_bins': 100, 'n_layers': 2, 'p': 2}, n_jobs=-1)</pre></div></div></div></div></div></div><div class=\"sk-parallel-item\"><div class=\"sk-item\"><div class=\"sk-label-container\"><div class=\"sk-label sk-toggleable\"><label>amplitude-8</label></div></div><div class=\"sk-serial\"><div class=\"sk-item\"><div class=\"sk-estimator sk-toggleable\"><input class=\"sk-toggleable__control sk-hidden--visually\" id=\"b98c9577-e735-4f40-904e-4ee5d5d832d6\" type=\"checkbox\" ><label class=\"sk-toggleable__label\" for=\"b98c9577-e735-4f40-904e-4ee5d5d832d6\">Amplitude</label><div class=\"sk-toggleable__content\"><pre>Amplitude(metric='betti', metric_params={'n_bins': 100, 'p': 1}, n_jobs=-1)</pre></div></div></div></div></div></div><div class=\"sk-parallel-item\"><div class=\"sk-item\"><div class=\"sk-label-container\"><div class=\"sk-label sk-toggleable\"><label>amplitude-9</label></div></div><div class=\"sk-serial\"><div class=\"sk-item\"><div class=\"sk-estimator sk-toggleable\"><input class=\"sk-toggleable__control sk-hidden--visually\" id=\"2bd022bf-667d-4099-ae56-e270989f223e\" type=\"checkbox\" ><label class=\"sk-toggleable__label\" for=\"2bd022bf-667d-4099-ae56-e270989f223e\">Amplitude</label><div class=\"sk-toggleable__content\"><pre>Amplitude(metric='betti', metric_params={'n_bins': 100, 'p': 2}, n_jobs=-1)</pre></div></div></div></div></div></div><div class=\"sk-parallel-item\"><div class=\"sk-item\"><div class=\"sk-label-container\"><div class=\"sk-label sk-toggleable\"><label>amplitude-10</label></div></div><div class=\"sk-serial\"><div class=\"sk-item\"><div class=\"sk-estimator sk-toggleable\"><input class=\"sk-toggleable__control sk-hidden--visually\" id=\"31837e17-6b88-4e6b-8c3a-ef1282584e91\" type=\"checkbox\" ><label class=\"sk-toggleable__label\" for=\"31837e17-6b88-4e6b-8c3a-ef1282584e91\">Amplitude</label><div class=\"sk-toggleable__content\"><pre>Amplitude(metric='heat', metric_params={'n_bins': 100, 'p': 1, 'sigma': 1.6},\n",
       "          n_jobs=-1)</pre></div></div></div></div></div></div><div class=\"sk-parallel-item\"><div class=\"sk-item\"><div class=\"sk-label-container\"><div class=\"sk-label sk-toggleable\"><label>amplitude-11</label></div></div><div class=\"sk-serial\"><div class=\"sk-item\"><div class=\"sk-estimator sk-toggleable\"><input class=\"sk-toggleable__control sk-hidden--visually\" id=\"28feb1fa-617f-4c58-929a-fccbda669205\" type=\"checkbox\" ><label class=\"sk-toggleable__label\" for=\"28feb1fa-617f-4c58-929a-fccbda669205\">Amplitude</label><div class=\"sk-toggleable__content\"><pre>Amplitude(metric='heat', metric_params={'n_bins': 100, 'p': 1, 'sigma': 3.2},\n",
       "          n_jobs=-1)</pre></div></div></div></div></div></div><div class=\"sk-parallel-item\"><div class=\"sk-item\"><div class=\"sk-label-container\"><div class=\"sk-label sk-toggleable\"><label>amplitude-12</label></div></div><div class=\"sk-serial\"><div class=\"sk-item\"><div class=\"sk-estimator sk-toggleable\"><input class=\"sk-toggleable__control sk-hidden--visually\" id=\"e719040f-01ef-4850-8b70-cea7373830dd\" type=\"checkbox\" ><label class=\"sk-toggleable__label\" for=\"e719040f-01ef-4850-8b70-cea7373830dd\">Amplitude</label><div class=\"sk-toggleable__content\"><pre>Amplitude(metric='heat', metric_params={'n_bins': 100, 'p': 2, 'sigma': 1.6},\n",
       "          n_jobs=-1)</pre></div></div></div></div></div></div><div class=\"sk-parallel-item\"><div class=\"sk-item\"><div class=\"sk-label-container\"><div class=\"sk-label sk-toggleable\"><label>amplitude-13</label></div></div><div class=\"sk-serial\"><div class=\"sk-item\"><div class=\"sk-estimator sk-toggleable\"><input class=\"sk-toggleable__control sk-hidden--visually\" id=\"faa08f5d-1fca-4268-8d84-0c2a6d45091b\" type=\"checkbox\" ><label class=\"sk-toggleable__label\" for=\"faa08f5d-1fca-4268-8d84-0c2a6d45091b\">Amplitude</label><div class=\"sk-toggleable__content\"><pre>Amplitude(metric='heat', metric_params={'n_bins': 100, 'p': 2, 'sigma': 3.2},\n",
       "          n_jobs=-1)</pre></div></div></div></div></div></div></div></div></div></div></div></div></div><div class=\"sk-parallel-item\"><div class=\"sk-item\"><div class=\"sk-label-container\"><div class=\"sk-label sk-toggleable\"><label>pipeline-14</label></div></div><div class=\"sk-serial\"><div class=\"sk-item\"><div class=\"sk-serial\"><div class=\"sk-item\"><div class=\"sk-estimator sk-toggleable\"><input class=\"sk-toggleable__control sk-hidden--visually\" id=\"74491534-d67f-4077-b0a1-98213097fb6b\" type=\"checkbox\" ><label class=\"sk-toggleable__label\" for=\"74491534-d67f-4077-b0a1-98213097fb6b\">Binarizer</label><div class=\"sk-toggleable__content\"><pre>Binarizer(n_jobs=-1, threshold=0.4)</pre></div></div></div><div class=\"sk-item\"><div class=\"sk-estimator sk-toggleable\"><input class=\"sk-toggleable__control sk-hidden--visually\" id=\"6a2d57a7-7921-4d91-9de3-31ef5b212b72\" type=\"checkbox\" ><label class=\"sk-toggleable__label\" for=\"6a2d57a7-7921-4d91-9de3-31ef5b212b72\">RadialFiltration</label><div class=\"sk-toggleable__content\"><pre>RadialFiltration(center=array([6, 6]), n_jobs=-1)</pre></div></div></div><div class=\"sk-item\"><div class=\"sk-estimator sk-toggleable\"><input class=\"sk-toggleable__control sk-hidden--visually\" id=\"6a6e922e-ef0b-4e41-bce2-457d89ff9d20\" type=\"checkbox\" ><label class=\"sk-toggleable__label\" for=\"6a6e922e-ef0b-4e41-bce2-457d89ff9d20\">CubicalPersistence</label><div class=\"sk-toggleable__content\"><pre>CubicalPersistence(n_jobs=-1)</pre></div></div></div><div class=\"sk-item\"><div class=\"sk-estimator sk-toggleable\"><input class=\"sk-toggleable__control sk-hidden--visually\" id=\"d6550b03-5211-4f1a-b3f0-42ad07126acc\" type=\"checkbox\" ><label class=\"sk-toggleable__label\" for=\"d6550b03-5211-4f1a-b3f0-42ad07126acc\">Scaler</label><div class=\"sk-toggleable__content\"><pre>Scaler(n_jobs=-1)</pre></div></div></div><div class=\"sk-item sk-dashed-wrapped\"><div class=\"sk-label-container\"><div class=\"sk-label sk-toggleable\"><input class=\"sk-toggleable__control sk-hidden--visually\" id=\"21e78eb7-4c35-4a9d-be3e-88b6d580570c\" type=\"checkbox\" ><label class=\"sk-toggleable__label\" for=\"21e78eb7-4c35-4a9d-be3e-88b6d580570c\">featureunion: FeatureUnion</label><div class=\"sk-toggleable__content\"><pre>FeatureUnion(transformer_list=[('persistenceentropy',\n",
       "                                PersistenceEntropy(nan_fill_value=-1)),\n",
       "                               ('amplitude-1',\n",
       "                                Amplitude(metric='bottleneck', metric_params={},\n",
       "                                          n_jobs=-1)),\n",
       "                               ('amplitude-2',\n",
       "                                Amplitude(metric='wasserstein',\n",
       "                                          metric_params={'p': 1}, n_jobs=-1)),\n",
       "                               ('amplitude-3',\n",
       "                                Amplitude(metric='wasserstein',\n",
       "                                          metric_params={'p': 2}, n_jobs=-1)),\n",
       "                               ('amplitude-4',\n",
       "                                Amplitude...\n",
       "                                          metric_params={'n_bins': 100, 'p': 1,\n",
       "                                                         'sigma': 1.6},\n",
       "                                          n_jobs=-1)),\n",
       "                               ('amplitude-11',\n",
       "                                Amplitude(metric='heat',\n",
       "                                          metric_params={'n_bins': 100, 'p': 1,\n",
       "                                                         'sigma': 3.2},\n",
       "                                          n_jobs=-1)),\n",
       "                               ('amplitude-12',\n",
       "                                Amplitude(metric='heat',\n",
       "                                          metric_params={'n_bins': 100, 'p': 2,\n",
       "                                                         'sigma': 1.6},\n",
       "                                          n_jobs=-1)),\n",
       "                               ('amplitude-13',\n",
       "                                Amplitude(metric='heat',\n",
       "                                          metric_params={'n_bins': 100, 'p': 2,\n",
       "                                                         'sigma': 3.2},\n",
       "                                          n_jobs=-1))])</pre></div></div></div><div class=\"sk-parallel\"><div class=\"sk-parallel-item\"><div class=\"sk-item\"><div class=\"sk-label-container\"><div class=\"sk-label sk-toggleable\"><label>persistenceentropy</label></div></div><div class=\"sk-serial\"><div class=\"sk-item\"><div class=\"sk-estimator sk-toggleable\"><input class=\"sk-toggleable__control sk-hidden--visually\" id=\"7d5efba5-a790-4cd8-a111-5d6a7403ad99\" type=\"checkbox\" ><label class=\"sk-toggleable__label\" for=\"7d5efba5-a790-4cd8-a111-5d6a7403ad99\">PersistenceEntropy</label><div class=\"sk-toggleable__content\"><pre>PersistenceEntropy(nan_fill_value=-1)</pre></div></div></div></div></div></div><div class=\"sk-parallel-item\"><div class=\"sk-item\"><div class=\"sk-label-container\"><div class=\"sk-label sk-toggleable\"><label>amplitude-1</label></div></div><div class=\"sk-serial\"><div class=\"sk-item\"><div class=\"sk-estimator sk-toggleable\"><input class=\"sk-toggleable__control sk-hidden--visually\" id=\"2ab53268-691c-472b-9193-5df4dd7b879e\" type=\"checkbox\" ><label class=\"sk-toggleable__label\" for=\"2ab53268-691c-472b-9193-5df4dd7b879e\">Amplitude</label><div class=\"sk-toggleable__content\"><pre>Amplitude(metric='bottleneck', metric_params={}, n_jobs=-1)</pre></div></div></div></div></div></div><div class=\"sk-parallel-item\"><div class=\"sk-item\"><div class=\"sk-label-container\"><div class=\"sk-label sk-toggleable\"><label>amplitude-2</label></div></div><div class=\"sk-serial\"><div class=\"sk-item\"><div class=\"sk-estimator sk-toggleable\"><input class=\"sk-toggleable__control sk-hidden--visually\" id=\"9eed3ec2-e4c8-4312-aa10-184435a32ea7\" type=\"checkbox\" ><label class=\"sk-toggleable__label\" for=\"9eed3ec2-e4c8-4312-aa10-184435a32ea7\">Amplitude</label><div class=\"sk-toggleable__content\"><pre>Amplitude(metric='wasserstein', metric_params={'p': 1}, n_jobs=-1)</pre></div></div></div></div></div></div><div class=\"sk-parallel-item\"><div class=\"sk-item\"><div class=\"sk-label-container\"><div class=\"sk-label sk-toggleable\"><label>amplitude-3</label></div></div><div class=\"sk-serial\"><div class=\"sk-item\"><div class=\"sk-estimator sk-toggleable\"><input class=\"sk-toggleable__control sk-hidden--visually\" id=\"481a9dbf-fe77-4918-9ccf-91e38e4b59cf\" type=\"checkbox\" ><label class=\"sk-toggleable__label\" for=\"481a9dbf-fe77-4918-9ccf-91e38e4b59cf\">Amplitude</label><div class=\"sk-toggleable__content\"><pre>Amplitude(metric='wasserstein', metric_params={'p': 2}, n_jobs=-1)</pre></div></div></div></div></div></div><div class=\"sk-parallel-item\"><div class=\"sk-item\"><div class=\"sk-label-container\"><div class=\"sk-label sk-toggleable\"><label>amplitude-4</label></div></div><div class=\"sk-serial\"><div class=\"sk-item\"><div class=\"sk-estimator sk-toggleable\"><input class=\"sk-toggleable__control sk-hidden--visually\" id=\"d06eb3dc-6c38-4d94-a84b-a05031e99eb2\" type=\"checkbox\" ><label class=\"sk-toggleable__label\" for=\"d06eb3dc-6c38-4d94-a84b-a05031e99eb2\">Amplitude</label><div class=\"sk-toggleable__content\"><pre>Amplitude(metric_params={'n_bins': 100, 'n_layers': 1, 'p': 1}, n_jobs=-1)</pre></div></div></div></div></div></div><div class=\"sk-parallel-item\"><div class=\"sk-item\"><div class=\"sk-label-container\"><div class=\"sk-label sk-toggleable\"><label>amplitude-5</label></div></div><div class=\"sk-serial\"><div class=\"sk-item\"><div class=\"sk-estimator sk-toggleable\"><input class=\"sk-toggleable__control sk-hidden--visually\" id=\"804c0796-565d-42ce-9ba4-ce9796b60bd2\" type=\"checkbox\" ><label class=\"sk-toggleable__label\" for=\"804c0796-565d-42ce-9ba4-ce9796b60bd2\">Amplitude</label><div class=\"sk-toggleable__content\"><pre>Amplitude(metric_params={'n_bins': 100, 'n_layers': 2, 'p': 1}, n_jobs=-1)</pre></div></div></div></div></div></div><div class=\"sk-parallel-item\"><div class=\"sk-item\"><div class=\"sk-label-container\"><div class=\"sk-label sk-toggleable\"><label>amplitude-6</label></div></div><div class=\"sk-serial\"><div class=\"sk-item\"><div class=\"sk-estimator sk-toggleable\"><input class=\"sk-toggleable__control sk-hidden--visually\" id=\"7e145882-3092-452b-891c-aec99151cf98\" type=\"checkbox\" ><label class=\"sk-toggleable__label\" for=\"7e145882-3092-452b-891c-aec99151cf98\">Amplitude</label><div class=\"sk-toggleable__content\"><pre>Amplitude(metric_params={'n_bins': 100, 'n_layers': 1, 'p': 2}, n_jobs=-1)</pre></div></div></div></div></div></div><div class=\"sk-parallel-item\"><div class=\"sk-item\"><div class=\"sk-label-container\"><div class=\"sk-label sk-toggleable\"><label>amplitude-7</label></div></div><div class=\"sk-serial\"><div class=\"sk-item\"><div class=\"sk-estimator sk-toggleable\"><input class=\"sk-toggleable__control sk-hidden--visually\" id=\"36f614bb-62b0-453e-953d-2d038a0b8cf5\" type=\"checkbox\" ><label class=\"sk-toggleable__label\" for=\"36f614bb-62b0-453e-953d-2d038a0b8cf5\">Amplitude</label><div class=\"sk-toggleable__content\"><pre>Amplitude(metric_params={'n_bins': 100, 'n_layers': 2, 'p': 2}, n_jobs=-1)</pre></div></div></div></div></div></div><div class=\"sk-parallel-item\"><div class=\"sk-item\"><div class=\"sk-label-container\"><div class=\"sk-label sk-toggleable\"><label>amplitude-8</label></div></div><div class=\"sk-serial\"><div class=\"sk-item\"><div class=\"sk-estimator sk-toggleable\"><input class=\"sk-toggleable__control sk-hidden--visually\" id=\"b923e285-6402-497f-ae45-b7395710af83\" type=\"checkbox\" ><label class=\"sk-toggleable__label\" for=\"b923e285-6402-497f-ae45-b7395710af83\">Amplitude</label><div class=\"sk-toggleable__content\"><pre>Amplitude(metric='betti', metric_params={'n_bins': 100, 'p': 1}, n_jobs=-1)</pre></div></div></div></div></div></div><div class=\"sk-parallel-item\"><div class=\"sk-item\"><div class=\"sk-label-container\"><div class=\"sk-label sk-toggleable\"><label>amplitude-9</label></div></div><div class=\"sk-serial\"><div class=\"sk-item\"><div class=\"sk-estimator sk-toggleable\"><input class=\"sk-toggleable__control sk-hidden--visually\" id=\"cc2ddcbf-f6d8-4d9f-a9fa-f3487db0cc64\" type=\"checkbox\" ><label class=\"sk-toggleable__label\" for=\"cc2ddcbf-f6d8-4d9f-a9fa-f3487db0cc64\">Amplitude</label><div class=\"sk-toggleable__content\"><pre>Amplitude(metric='betti', metric_params={'n_bins': 100, 'p': 2}, n_jobs=-1)</pre></div></div></div></div></div></div><div class=\"sk-parallel-item\"><div class=\"sk-item\"><div class=\"sk-label-container\"><div class=\"sk-label sk-toggleable\"><label>amplitude-10</label></div></div><div class=\"sk-serial\"><div class=\"sk-item\"><div class=\"sk-estimator sk-toggleable\"><input class=\"sk-toggleable__control sk-hidden--visually\" id=\"aba9bc91-ae41-48d9-888d-b42d33cb1409\" type=\"checkbox\" ><label class=\"sk-toggleable__label\" for=\"aba9bc91-ae41-48d9-888d-b42d33cb1409\">Amplitude</label><div class=\"sk-toggleable__content\"><pre>Amplitude(metric='heat', metric_params={'n_bins': 100, 'p': 1, 'sigma': 1.6},\n",
       "          n_jobs=-1)</pre></div></div></div></div></div></div><div class=\"sk-parallel-item\"><div class=\"sk-item\"><div class=\"sk-label-container\"><div class=\"sk-label sk-toggleable\"><label>amplitude-11</label></div></div><div class=\"sk-serial\"><div class=\"sk-item\"><div class=\"sk-estimator sk-toggleable\"><input class=\"sk-toggleable__control sk-hidden--visually\" id=\"cd1777a5-e8f5-48b6-9d5b-026dceeecf56\" type=\"checkbox\" ><label class=\"sk-toggleable__label\" for=\"cd1777a5-e8f5-48b6-9d5b-026dceeecf56\">Amplitude</label><div class=\"sk-toggleable__content\"><pre>Amplitude(metric='heat', metric_params={'n_bins': 100, 'p': 1, 'sigma': 3.2},\n",
       "          n_jobs=-1)</pre></div></div></div></div></div></div><div class=\"sk-parallel-item\"><div class=\"sk-item\"><div class=\"sk-label-container\"><div class=\"sk-label sk-toggleable\"><label>amplitude-12</label></div></div><div class=\"sk-serial\"><div class=\"sk-item\"><div class=\"sk-estimator sk-toggleable\"><input class=\"sk-toggleable__control sk-hidden--visually\" id=\"17557486-0e0c-4071-a62e-8398e717641d\" type=\"checkbox\" ><label class=\"sk-toggleable__label\" for=\"17557486-0e0c-4071-a62e-8398e717641d\">Amplitude</label><div class=\"sk-toggleable__content\"><pre>Amplitude(metric='heat', metric_params={'n_bins': 100, 'p': 2, 'sigma': 1.6},\n",
       "          n_jobs=-1)</pre></div></div></div></div></div></div><div class=\"sk-parallel-item\"><div class=\"sk-item\"><div class=\"sk-label-container\"><div class=\"sk-label sk-toggleable\"><label>amplitude-13</label></div></div><div class=\"sk-serial\"><div class=\"sk-item\"><div class=\"sk-estimator sk-toggleable\"><input class=\"sk-toggleable__control sk-hidden--visually\" id=\"bb0e9dc4-9708-4d15-8719-434f65480b13\" type=\"checkbox\" ><label class=\"sk-toggleable__label\" for=\"bb0e9dc4-9708-4d15-8719-434f65480b13\">Amplitude</label><div class=\"sk-toggleable__content\"><pre>Amplitude(metric='heat', metric_params={'n_bins': 100, 'p': 2, 'sigma': 3.2},\n",
       "          n_jobs=-1)</pre></div></div></div></div></div></div></div></div></div></div></div></div></div><div class=\"sk-parallel-item\"><div class=\"sk-item\"><div class=\"sk-label-container\"><div class=\"sk-label sk-toggleable\"><label>pipeline-15</label></div></div><div class=\"sk-serial\"><div class=\"sk-item\"><div class=\"sk-serial\"><div class=\"sk-item\"><div class=\"sk-estimator sk-toggleable\"><input class=\"sk-toggleable__control sk-hidden--visually\" id=\"1c3e6170-616a-4cdb-8eaa-9c0d4eb83616\" type=\"checkbox\" ><label class=\"sk-toggleable__label\" for=\"1c3e6170-616a-4cdb-8eaa-9c0d4eb83616\">Binarizer</label><div class=\"sk-toggleable__content\"><pre>Binarizer(n_jobs=-1, threshold=0.4)</pre></div></div></div><div class=\"sk-item\"><div class=\"sk-estimator sk-toggleable\"><input class=\"sk-toggleable__control sk-hidden--visually\" id=\"0a80fa96-774d-43dd-bdbd-87c3fd1abc9c\" type=\"checkbox\" ><label class=\"sk-toggleable__label\" for=\"0a80fa96-774d-43dd-bdbd-87c3fd1abc9c\">RadialFiltration</label><div class=\"sk-toggleable__content\"><pre>RadialFiltration(center=array([ 6, 20]), n_jobs=-1)</pre></div></div></div><div class=\"sk-item\"><div class=\"sk-estimator sk-toggleable\"><input class=\"sk-toggleable__control sk-hidden--visually\" id=\"0da0a289-284c-4a0a-aec9-2064bb465e02\" type=\"checkbox\" ><label class=\"sk-toggleable__label\" for=\"0da0a289-284c-4a0a-aec9-2064bb465e02\">CubicalPersistence</label><div class=\"sk-toggleable__content\"><pre>CubicalPersistence(n_jobs=-1)</pre></div></div></div><div class=\"sk-item\"><div class=\"sk-estimator sk-toggleable\"><input class=\"sk-toggleable__control sk-hidden--visually\" id=\"1f02c914-344a-4267-a188-8ff12c5f0708\" type=\"checkbox\" ><label class=\"sk-toggleable__label\" for=\"1f02c914-344a-4267-a188-8ff12c5f0708\">Scaler</label><div class=\"sk-toggleable__content\"><pre>Scaler(n_jobs=-1)</pre></div></div></div><div class=\"sk-item sk-dashed-wrapped\"><div class=\"sk-label-container\"><div class=\"sk-label sk-toggleable\"><input class=\"sk-toggleable__control sk-hidden--visually\" id=\"a864949c-aebe-4ea4-9c62-cfdc5a294279\" type=\"checkbox\" ><label class=\"sk-toggleable__label\" for=\"a864949c-aebe-4ea4-9c62-cfdc5a294279\">featureunion: FeatureUnion</label><div class=\"sk-toggleable__content\"><pre>FeatureUnion(transformer_list=[('persistenceentropy',\n",
       "                                PersistenceEntropy(nan_fill_value=-1)),\n",
       "                               ('amplitude-1',\n",
       "                                Amplitude(metric='bottleneck', metric_params={},\n",
       "                                          n_jobs=-1)),\n",
       "                               ('amplitude-2',\n",
       "                                Amplitude(metric='wasserstein',\n",
       "                                          metric_params={'p': 1}, n_jobs=-1)),\n",
       "                               ('amplitude-3',\n",
       "                                Amplitude(metric='wasserstein',\n",
       "                                          metric_params={'p': 2}, n_jobs=-1)),\n",
       "                               ('amplitude-4',\n",
       "                                Amplitude...\n",
       "                                          metric_params={'n_bins': 100, 'p': 1,\n",
       "                                                         'sigma': 1.6},\n",
       "                                          n_jobs=-1)),\n",
       "                               ('amplitude-11',\n",
       "                                Amplitude(metric='heat',\n",
       "                                          metric_params={'n_bins': 100, 'p': 1,\n",
       "                                                         'sigma': 3.2},\n",
       "                                          n_jobs=-1)),\n",
       "                               ('amplitude-12',\n",
       "                                Amplitude(metric='heat',\n",
       "                                          metric_params={'n_bins': 100, 'p': 2,\n",
       "                                                         'sigma': 1.6},\n",
       "                                          n_jobs=-1)),\n",
       "                               ('amplitude-13',\n",
       "                                Amplitude(metric='heat',\n",
       "                                          metric_params={'n_bins': 100, 'p': 2,\n",
       "                                                         'sigma': 3.2},\n",
       "                                          n_jobs=-1))])</pre></div></div></div><div class=\"sk-parallel\"><div class=\"sk-parallel-item\"><div class=\"sk-item\"><div class=\"sk-label-container\"><div class=\"sk-label sk-toggleable\"><label>persistenceentropy</label></div></div><div class=\"sk-serial\"><div class=\"sk-item\"><div class=\"sk-estimator sk-toggleable\"><input class=\"sk-toggleable__control sk-hidden--visually\" id=\"667463ad-c4d2-4acc-91ec-251b5ae8e62f\" type=\"checkbox\" ><label class=\"sk-toggleable__label\" for=\"667463ad-c4d2-4acc-91ec-251b5ae8e62f\">PersistenceEntropy</label><div class=\"sk-toggleable__content\"><pre>PersistenceEntropy(nan_fill_value=-1)</pre></div></div></div></div></div></div><div class=\"sk-parallel-item\"><div class=\"sk-item\"><div class=\"sk-label-container\"><div class=\"sk-label sk-toggleable\"><label>amplitude-1</label></div></div><div class=\"sk-serial\"><div class=\"sk-item\"><div class=\"sk-estimator sk-toggleable\"><input class=\"sk-toggleable__control sk-hidden--visually\" id=\"1f7e4634-a584-4458-a0d9-a32be0ebf3f8\" type=\"checkbox\" ><label class=\"sk-toggleable__label\" for=\"1f7e4634-a584-4458-a0d9-a32be0ebf3f8\">Amplitude</label><div class=\"sk-toggleable__content\"><pre>Amplitude(metric='bottleneck', metric_params={}, n_jobs=-1)</pre></div></div></div></div></div></div><div class=\"sk-parallel-item\"><div class=\"sk-item\"><div class=\"sk-label-container\"><div class=\"sk-label sk-toggleable\"><label>amplitude-2</label></div></div><div class=\"sk-serial\"><div class=\"sk-item\"><div class=\"sk-estimator sk-toggleable\"><input class=\"sk-toggleable__control sk-hidden--visually\" id=\"0b1d9a1f-86ca-4b8b-86c0-5189db20266a\" type=\"checkbox\" ><label class=\"sk-toggleable__label\" for=\"0b1d9a1f-86ca-4b8b-86c0-5189db20266a\">Amplitude</label><div class=\"sk-toggleable__content\"><pre>Amplitude(metric='wasserstein', metric_params={'p': 1}, n_jobs=-1)</pre></div></div></div></div></div></div><div class=\"sk-parallel-item\"><div class=\"sk-item\"><div class=\"sk-label-container\"><div class=\"sk-label sk-toggleable\"><label>amplitude-3</label></div></div><div class=\"sk-serial\"><div class=\"sk-item\"><div class=\"sk-estimator sk-toggleable\"><input class=\"sk-toggleable__control sk-hidden--visually\" id=\"d268064f-2aa4-428f-baac-b42a714958d0\" type=\"checkbox\" ><label class=\"sk-toggleable__label\" for=\"d268064f-2aa4-428f-baac-b42a714958d0\">Amplitude</label><div class=\"sk-toggleable__content\"><pre>Amplitude(metric='wasserstein', metric_params={'p': 2}, n_jobs=-1)</pre></div></div></div></div></div></div><div class=\"sk-parallel-item\"><div class=\"sk-item\"><div class=\"sk-label-container\"><div class=\"sk-label sk-toggleable\"><label>amplitude-4</label></div></div><div class=\"sk-serial\"><div class=\"sk-item\"><div class=\"sk-estimator sk-toggleable\"><input class=\"sk-toggleable__control sk-hidden--visually\" id=\"cfde7e40-27b4-4f8c-9b4c-26d9e283991d\" type=\"checkbox\" ><label class=\"sk-toggleable__label\" for=\"cfde7e40-27b4-4f8c-9b4c-26d9e283991d\">Amplitude</label><div class=\"sk-toggleable__content\"><pre>Amplitude(metric_params={'n_bins': 100, 'n_layers': 1, 'p': 1}, n_jobs=-1)</pre></div></div></div></div></div></div><div class=\"sk-parallel-item\"><div class=\"sk-item\"><div class=\"sk-label-container\"><div class=\"sk-label sk-toggleable\"><label>amplitude-5</label></div></div><div class=\"sk-serial\"><div class=\"sk-item\"><div class=\"sk-estimator sk-toggleable\"><input class=\"sk-toggleable__control sk-hidden--visually\" id=\"9497034d-0c50-49e1-952b-3271c7ed5d8c\" type=\"checkbox\" ><label class=\"sk-toggleable__label\" for=\"9497034d-0c50-49e1-952b-3271c7ed5d8c\">Amplitude</label><div class=\"sk-toggleable__content\"><pre>Amplitude(metric_params={'n_bins': 100, 'n_layers': 2, 'p': 1}, n_jobs=-1)</pre></div></div></div></div></div></div><div class=\"sk-parallel-item\"><div class=\"sk-item\"><div class=\"sk-label-container\"><div class=\"sk-label sk-toggleable\"><label>amplitude-6</label></div></div><div class=\"sk-serial\"><div class=\"sk-item\"><div class=\"sk-estimator sk-toggleable\"><input class=\"sk-toggleable__control sk-hidden--visually\" id=\"48904ea3-2667-406f-802f-d95565e057e1\" type=\"checkbox\" ><label class=\"sk-toggleable__label\" for=\"48904ea3-2667-406f-802f-d95565e057e1\">Amplitude</label><div class=\"sk-toggleable__content\"><pre>Amplitude(metric_params={'n_bins': 100, 'n_layers': 1, 'p': 2}, n_jobs=-1)</pre></div></div></div></div></div></div><div class=\"sk-parallel-item\"><div class=\"sk-item\"><div class=\"sk-label-container\"><div class=\"sk-label sk-toggleable\"><label>amplitude-7</label></div></div><div class=\"sk-serial\"><div class=\"sk-item\"><div class=\"sk-estimator sk-toggleable\"><input class=\"sk-toggleable__control sk-hidden--visually\" id=\"7eafe6c0-e19b-4eae-ae91-dbea5ed5ee44\" type=\"checkbox\" ><label class=\"sk-toggleable__label\" for=\"7eafe6c0-e19b-4eae-ae91-dbea5ed5ee44\">Amplitude</label><div class=\"sk-toggleable__content\"><pre>Amplitude(metric_params={'n_bins': 100, 'n_layers': 2, 'p': 2}, n_jobs=-1)</pre></div></div></div></div></div></div><div class=\"sk-parallel-item\"><div class=\"sk-item\"><div class=\"sk-label-container\"><div class=\"sk-label sk-toggleable\"><label>amplitude-8</label></div></div><div class=\"sk-serial\"><div class=\"sk-item\"><div class=\"sk-estimator sk-toggleable\"><input class=\"sk-toggleable__control sk-hidden--visually\" id=\"68dd0650-2513-4232-9897-58e4d5ebf47d\" type=\"checkbox\" ><label class=\"sk-toggleable__label\" for=\"68dd0650-2513-4232-9897-58e4d5ebf47d\">Amplitude</label><div class=\"sk-toggleable__content\"><pre>Amplitude(metric='betti', metric_params={'n_bins': 100, 'p': 1}, n_jobs=-1)</pre></div></div></div></div></div></div><div class=\"sk-parallel-item\"><div class=\"sk-item\"><div class=\"sk-label-container\"><div class=\"sk-label sk-toggleable\"><label>amplitude-9</label></div></div><div class=\"sk-serial\"><div class=\"sk-item\"><div class=\"sk-estimator sk-toggleable\"><input class=\"sk-toggleable__control sk-hidden--visually\" id=\"20029968-9798-4bb3-bd5e-2bc85770442d\" type=\"checkbox\" ><label class=\"sk-toggleable__label\" for=\"20029968-9798-4bb3-bd5e-2bc85770442d\">Amplitude</label><div class=\"sk-toggleable__content\"><pre>Amplitude(metric='betti', metric_params={'n_bins': 100, 'p': 2}, n_jobs=-1)</pre></div></div></div></div></div></div><div class=\"sk-parallel-item\"><div class=\"sk-item\"><div class=\"sk-label-container\"><div class=\"sk-label sk-toggleable\"><label>amplitude-10</label></div></div><div class=\"sk-serial\"><div class=\"sk-item\"><div class=\"sk-estimator sk-toggleable\"><input class=\"sk-toggleable__control sk-hidden--visually\" id=\"839543a7-177a-4559-90fe-2c8a149960bf\" type=\"checkbox\" ><label class=\"sk-toggleable__label\" for=\"839543a7-177a-4559-90fe-2c8a149960bf\">Amplitude</label><div class=\"sk-toggleable__content\"><pre>Amplitude(metric='heat', metric_params={'n_bins': 100, 'p': 1, 'sigma': 1.6},\n",
       "          n_jobs=-1)</pre></div></div></div></div></div></div><div class=\"sk-parallel-item\"><div class=\"sk-item\"><div class=\"sk-label-container\"><div class=\"sk-label sk-toggleable\"><label>amplitude-11</label></div></div><div class=\"sk-serial\"><div class=\"sk-item\"><div class=\"sk-estimator sk-toggleable\"><input class=\"sk-toggleable__control sk-hidden--visually\" id=\"fb222ec1-a139-46e7-86f8-e25dfb7b3d64\" type=\"checkbox\" ><label class=\"sk-toggleable__label\" for=\"fb222ec1-a139-46e7-86f8-e25dfb7b3d64\">Amplitude</label><div class=\"sk-toggleable__content\"><pre>Amplitude(metric='heat', metric_params={'n_bins': 100, 'p': 1, 'sigma': 3.2},\n",
       "          n_jobs=-1)</pre></div></div></div></div></div></div><div class=\"sk-parallel-item\"><div class=\"sk-item\"><div class=\"sk-label-container\"><div class=\"sk-label sk-toggleable\"><label>amplitude-12</label></div></div><div class=\"sk-serial\"><div class=\"sk-item\"><div class=\"sk-estimator sk-toggleable\"><input class=\"sk-toggleable__control sk-hidden--visually\" id=\"4ca3d1ff-e98d-4884-8aa0-2d3f7f2828f2\" type=\"checkbox\" ><label class=\"sk-toggleable__label\" for=\"4ca3d1ff-e98d-4884-8aa0-2d3f7f2828f2\">Amplitude</label><div class=\"sk-toggleable__content\"><pre>Amplitude(metric='heat', metric_params={'n_bins': 100, 'p': 2, 'sigma': 1.6},\n",
       "          n_jobs=-1)</pre></div></div></div></div></div></div><div class=\"sk-parallel-item\"><div class=\"sk-item\"><div class=\"sk-label-container\"><div class=\"sk-label sk-toggleable\"><label>amplitude-13</label></div></div><div class=\"sk-serial\"><div class=\"sk-item\"><div class=\"sk-estimator sk-toggleable\"><input class=\"sk-toggleable__control sk-hidden--visually\" id=\"8edcddf9-07cd-41a8-91b2-c7069a167e04\" type=\"checkbox\" ><label class=\"sk-toggleable__label\" for=\"8edcddf9-07cd-41a8-91b2-c7069a167e04\">Amplitude</label><div class=\"sk-toggleable__content\"><pre>Amplitude(metric='heat', metric_params={'n_bins': 100, 'p': 2, 'sigma': 3.2},\n",
       "          n_jobs=-1)</pre></div></div></div></div></div></div></div></div></div></div></div></div></div><div class=\"sk-parallel-item\"><div class=\"sk-item\"><div class=\"sk-label-container\"><div class=\"sk-label sk-toggleable\"><label>pipeline-16</label></div></div><div class=\"sk-serial\"><div class=\"sk-item\"><div class=\"sk-serial\"><div class=\"sk-item\"><div class=\"sk-estimator sk-toggleable\"><input class=\"sk-toggleable__control sk-hidden--visually\" id=\"a9dba660-bf64-4dff-99fa-8faae985dcfe\" type=\"checkbox\" ><label class=\"sk-toggleable__label\" for=\"a9dba660-bf64-4dff-99fa-8faae985dcfe\">Binarizer</label><div class=\"sk-toggleable__content\"><pre>Binarizer(n_jobs=-1, threshold=0.4)</pre></div></div></div><div class=\"sk-item\"><div class=\"sk-estimator sk-toggleable\"><input class=\"sk-toggleable__control sk-hidden--visually\" id=\"4f1ccffd-6375-4f46-afa5-57ea338a98eb\" type=\"checkbox\" ><label class=\"sk-toggleable__label\" for=\"4f1ccffd-6375-4f46-afa5-57ea338a98eb\">RadialFiltration</label><div class=\"sk-toggleable__content\"><pre>RadialFiltration(center=array([20,  6]), n_jobs=-1)</pre></div></div></div><div class=\"sk-item\"><div class=\"sk-estimator sk-toggleable\"><input class=\"sk-toggleable__control sk-hidden--visually\" id=\"669ff419-41bb-4cba-89ba-4f2a425ff315\" type=\"checkbox\" ><label class=\"sk-toggleable__label\" for=\"669ff419-41bb-4cba-89ba-4f2a425ff315\">CubicalPersistence</label><div class=\"sk-toggleable__content\"><pre>CubicalPersistence(n_jobs=-1)</pre></div></div></div><div class=\"sk-item\"><div class=\"sk-estimator sk-toggleable\"><input class=\"sk-toggleable__control sk-hidden--visually\" id=\"a47645eb-f6ed-458c-9a08-5f8a4fde5328\" type=\"checkbox\" ><label class=\"sk-toggleable__label\" for=\"a47645eb-f6ed-458c-9a08-5f8a4fde5328\">Scaler</label><div class=\"sk-toggleable__content\"><pre>Scaler(n_jobs=-1)</pre></div></div></div><div class=\"sk-item sk-dashed-wrapped\"><div class=\"sk-label-container\"><div class=\"sk-label sk-toggleable\"><input class=\"sk-toggleable__control sk-hidden--visually\" id=\"ceadb4a6-dc15-4c7b-bdb9-f3abe1e9be97\" type=\"checkbox\" ><label class=\"sk-toggleable__label\" for=\"ceadb4a6-dc15-4c7b-bdb9-f3abe1e9be97\">featureunion: FeatureUnion</label><div class=\"sk-toggleable__content\"><pre>FeatureUnion(transformer_list=[('persistenceentropy',\n",
       "                                PersistenceEntropy(nan_fill_value=-1)),\n",
       "                               ('amplitude-1',\n",
       "                                Amplitude(metric='bottleneck', metric_params={},\n",
       "                                          n_jobs=-1)),\n",
       "                               ('amplitude-2',\n",
       "                                Amplitude(metric='wasserstein',\n",
       "                                          metric_params={'p': 1}, n_jobs=-1)),\n",
       "                               ('amplitude-3',\n",
       "                                Amplitude(metric='wasserstein',\n",
       "                                          metric_params={'p': 2}, n_jobs=-1)),\n",
       "                               ('amplitude-4',\n",
       "                                Amplitude...\n",
       "                                          metric_params={'n_bins': 100, 'p': 1,\n",
       "                                                         'sigma': 1.6},\n",
       "                                          n_jobs=-1)),\n",
       "                               ('amplitude-11',\n",
       "                                Amplitude(metric='heat',\n",
       "                                          metric_params={'n_bins': 100, 'p': 1,\n",
       "                                                         'sigma': 3.2},\n",
       "                                          n_jobs=-1)),\n",
       "                               ('amplitude-12',\n",
       "                                Amplitude(metric='heat',\n",
       "                                          metric_params={'n_bins': 100, 'p': 2,\n",
       "                                                         'sigma': 1.6},\n",
       "                                          n_jobs=-1)),\n",
       "                               ('amplitude-13',\n",
       "                                Amplitude(metric='heat',\n",
       "                                          metric_params={'n_bins': 100, 'p': 2,\n",
       "                                                         'sigma': 3.2},\n",
       "                                          n_jobs=-1))])</pre></div></div></div><div class=\"sk-parallel\"><div class=\"sk-parallel-item\"><div class=\"sk-item\"><div class=\"sk-label-container\"><div class=\"sk-label sk-toggleable\"><label>persistenceentropy</label></div></div><div class=\"sk-serial\"><div class=\"sk-item\"><div class=\"sk-estimator sk-toggleable\"><input class=\"sk-toggleable__control sk-hidden--visually\" id=\"999fd29c-beed-4eea-abb4-b2bf5b5e2bc6\" type=\"checkbox\" ><label class=\"sk-toggleable__label\" for=\"999fd29c-beed-4eea-abb4-b2bf5b5e2bc6\">PersistenceEntropy</label><div class=\"sk-toggleable__content\"><pre>PersistenceEntropy(nan_fill_value=-1)</pre></div></div></div></div></div></div><div class=\"sk-parallel-item\"><div class=\"sk-item\"><div class=\"sk-label-container\"><div class=\"sk-label sk-toggleable\"><label>amplitude-1</label></div></div><div class=\"sk-serial\"><div class=\"sk-item\"><div class=\"sk-estimator sk-toggleable\"><input class=\"sk-toggleable__control sk-hidden--visually\" id=\"6d23db30-e8ef-493c-9265-932f6b66a81a\" type=\"checkbox\" ><label class=\"sk-toggleable__label\" for=\"6d23db30-e8ef-493c-9265-932f6b66a81a\">Amplitude</label><div class=\"sk-toggleable__content\"><pre>Amplitude(metric='bottleneck', metric_params={}, n_jobs=-1)</pre></div></div></div></div></div></div><div class=\"sk-parallel-item\"><div class=\"sk-item\"><div class=\"sk-label-container\"><div class=\"sk-label sk-toggleable\"><label>amplitude-2</label></div></div><div class=\"sk-serial\"><div class=\"sk-item\"><div class=\"sk-estimator sk-toggleable\"><input class=\"sk-toggleable__control sk-hidden--visually\" id=\"054bf16c-ffaf-4d80-bd61-aa257891e3aa\" type=\"checkbox\" ><label class=\"sk-toggleable__label\" for=\"054bf16c-ffaf-4d80-bd61-aa257891e3aa\">Amplitude</label><div class=\"sk-toggleable__content\"><pre>Amplitude(metric='wasserstein', metric_params={'p': 1}, n_jobs=-1)</pre></div></div></div></div></div></div><div class=\"sk-parallel-item\"><div class=\"sk-item\"><div class=\"sk-label-container\"><div class=\"sk-label sk-toggleable\"><label>amplitude-3</label></div></div><div class=\"sk-serial\"><div class=\"sk-item\"><div class=\"sk-estimator sk-toggleable\"><input class=\"sk-toggleable__control sk-hidden--visually\" id=\"633a3147-913e-4544-8758-6706c3acaf86\" type=\"checkbox\" ><label class=\"sk-toggleable__label\" for=\"633a3147-913e-4544-8758-6706c3acaf86\">Amplitude</label><div class=\"sk-toggleable__content\"><pre>Amplitude(metric='wasserstein', metric_params={'p': 2}, n_jobs=-1)</pre></div></div></div></div></div></div><div class=\"sk-parallel-item\"><div class=\"sk-item\"><div class=\"sk-label-container\"><div class=\"sk-label sk-toggleable\"><label>amplitude-4</label></div></div><div class=\"sk-serial\"><div class=\"sk-item\"><div class=\"sk-estimator sk-toggleable\"><input class=\"sk-toggleable__control sk-hidden--visually\" id=\"a26ef540-1c76-4912-90d8-f9af989f4c4c\" type=\"checkbox\" ><label class=\"sk-toggleable__label\" for=\"a26ef540-1c76-4912-90d8-f9af989f4c4c\">Amplitude</label><div class=\"sk-toggleable__content\"><pre>Amplitude(metric_params={'n_bins': 100, 'n_layers': 1, 'p': 1}, n_jobs=-1)</pre></div></div></div></div></div></div><div class=\"sk-parallel-item\"><div class=\"sk-item\"><div class=\"sk-label-container\"><div class=\"sk-label sk-toggleable\"><label>amplitude-5</label></div></div><div class=\"sk-serial\"><div class=\"sk-item\"><div class=\"sk-estimator sk-toggleable\"><input class=\"sk-toggleable__control sk-hidden--visually\" id=\"2ea1e9c0-a42f-4cfc-b172-ae9762e8a903\" type=\"checkbox\" ><label class=\"sk-toggleable__label\" for=\"2ea1e9c0-a42f-4cfc-b172-ae9762e8a903\">Amplitude</label><div class=\"sk-toggleable__content\"><pre>Amplitude(metric_params={'n_bins': 100, 'n_layers': 2, 'p': 1}, n_jobs=-1)</pre></div></div></div></div></div></div><div class=\"sk-parallel-item\"><div class=\"sk-item\"><div class=\"sk-label-container\"><div class=\"sk-label sk-toggleable\"><label>amplitude-6</label></div></div><div class=\"sk-serial\"><div class=\"sk-item\"><div class=\"sk-estimator sk-toggleable\"><input class=\"sk-toggleable__control sk-hidden--visually\" id=\"461b972e-71df-43a0-8317-66409a9dbbc7\" type=\"checkbox\" ><label class=\"sk-toggleable__label\" for=\"461b972e-71df-43a0-8317-66409a9dbbc7\">Amplitude</label><div class=\"sk-toggleable__content\"><pre>Amplitude(metric_params={'n_bins': 100, 'n_layers': 1, 'p': 2}, n_jobs=-1)</pre></div></div></div></div></div></div><div class=\"sk-parallel-item\"><div class=\"sk-item\"><div class=\"sk-label-container\"><div class=\"sk-label sk-toggleable\"><label>amplitude-7</label></div></div><div class=\"sk-serial\"><div class=\"sk-item\"><div class=\"sk-estimator sk-toggleable\"><input class=\"sk-toggleable__control sk-hidden--visually\" id=\"6d447c1a-c6a4-4067-ace3-cea02067e491\" type=\"checkbox\" ><label class=\"sk-toggleable__label\" for=\"6d447c1a-c6a4-4067-ace3-cea02067e491\">Amplitude</label><div class=\"sk-toggleable__content\"><pre>Amplitude(metric_params={'n_bins': 100, 'n_layers': 2, 'p': 2}, n_jobs=-1)</pre></div></div></div></div></div></div><div class=\"sk-parallel-item\"><div class=\"sk-item\"><div class=\"sk-label-container\"><div class=\"sk-label sk-toggleable\"><label>amplitude-8</label></div></div><div class=\"sk-serial\"><div class=\"sk-item\"><div class=\"sk-estimator sk-toggleable\"><input class=\"sk-toggleable__control sk-hidden--visually\" id=\"b6e341a4-c838-4385-b1bd-aff1b0b2aa1f\" type=\"checkbox\" ><label class=\"sk-toggleable__label\" for=\"b6e341a4-c838-4385-b1bd-aff1b0b2aa1f\">Amplitude</label><div class=\"sk-toggleable__content\"><pre>Amplitude(metric='betti', metric_params={'n_bins': 100, 'p': 1}, n_jobs=-1)</pre></div></div></div></div></div></div><div class=\"sk-parallel-item\"><div class=\"sk-item\"><div class=\"sk-label-container\"><div class=\"sk-label sk-toggleable\"><label>amplitude-9</label></div></div><div class=\"sk-serial\"><div class=\"sk-item\"><div class=\"sk-estimator sk-toggleable\"><input class=\"sk-toggleable__control sk-hidden--visually\" id=\"0d936251-1d7d-4d57-8885-dd5588180289\" type=\"checkbox\" ><label class=\"sk-toggleable__label\" for=\"0d936251-1d7d-4d57-8885-dd5588180289\">Amplitude</label><div class=\"sk-toggleable__content\"><pre>Amplitude(metric='betti', metric_params={'n_bins': 100, 'p': 2}, n_jobs=-1)</pre></div></div></div></div></div></div><div class=\"sk-parallel-item\"><div class=\"sk-item\"><div class=\"sk-label-container\"><div class=\"sk-label sk-toggleable\"><label>amplitude-10</label></div></div><div class=\"sk-serial\"><div class=\"sk-item\"><div class=\"sk-estimator sk-toggleable\"><input class=\"sk-toggleable__control sk-hidden--visually\" id=\"ce1b7dd0-a238-4052-80c1-a81d8967f5ee\" type=\"checkbox\" ><label class=\"sk-toggleable__label\" for=\"ce1b7dd0-a238-4052-80c1-a81d8967f5ee\">Amplitude</label><div class=\"sk-toggleable__content\"><pre>Amplitude(metric='heat', metric_params={'n_bins': 100, 'p': 1, 'sigma': 1.6},\n",
       "          n_jobs=-1)</pre></div></div></div></div></div></div><div class=\"sk-parallel-item\"><div class=\"sk-item\"><div class=\"sk-label-container\"><div class=\"sk-label sk-toggleable\"><label>amplitude-11</label></div></div><div class=\"sk-serial\"><div class=\"sk-item\"><div class=\"sk-estimator sk-toggleable\"><input class=\"sk-toggleable__control sk-hidden--visually\" id=\"0261dd77-9ec6-49b0-9864-0191769e349a\" type=\"checkbox\" ><label class=\"sk-toggleable__label\" for=\"0261dd77-9ec6-49b0-9864-0191769e349a\">Amplitude</label><div class=\"sk-toggleable__content\"><pre>Amplitude(metric='heat', metric_params={'n_bins': 100, 'p': 1, 'sigma': 3.2},\n",
       "          n_jobs=-1)</pre></div></div></div></div></div></div><div class=\"sk-parallel-item\"><div class=\"sk-item\"><div class=\"sk-label-container\"><div class=\"sk-label sk-toggleable\"><label>amplitude-12</label></div></div><div class=\"sk-serial\"><div class=\"sk-item\"><div class=\"sk-estimator sk-toggleable\"><input class=\"sk-toggleable__control sk-hidden--visually\" id=\"6d279dd7-9e2a-40e4-b1ac-b3ff7879a4d6\" type=\"checkbox\" ><label class=\"sk-toggleable__label\" for=\"6d279dd7-9e2a-40e4-b1ac-b3ff7879a4d6\">Amplitude</label><div class=\"sk-toggleable__content\"><pre>Amplitude(metric='heat', metric_params={'n_bins': 100, 'p': 2, 'sigma': 1.6},\n",
       "          n_jobs=-1)</pre></div></div></div></div></div></div><div class=\"sk-parallel-item\"><div class=\"sk-item\"><div class=\"sk-label-container\"><div class=\"sk-label sk-toggleable\"><label>amplitude-13</label></div></div><div class=\"sk-serial\"><div class=\"sk-item\"><div class=\"sk-estimator sk-toggleable\"><input class=\"sk-toggleable__control sk-hidden--visually\" id=\"e834aee4-4743-4063-9a85-9d05ca796c7c\" type=\"checkbox\" ><label class=\"sk-toggleable__label\" for=\"e834aee4-4743-4063-9a85-9d05ca796c7c\">Amplitude</label><div class=\"sk-toggleable__content\"><pre>Amplitude(metric='heat', metric_params={'n_bins': 100, 'p': 2, 'sigma': 3.2},\n",
       "          n_jobs=-1)</pre></div></div></div></div></div></div></div></div></div></div></div></div></div><div class=\"sk-parallel-item\"><div class=\"sk-item\"><div class=\"sk-label-container\"><div class=\"sk-label sk-toggleable\"><label>pipeline-17</label></div></div><div class=\"sk-serial\"><div class=\"sk-item\"><div class=\"sk-serial\"><div class=\"sk-item\"><div class=\"sk-estimator sk-toggleable\"><input class=\"sk-toggleable__control sk-hidden--visually\" id=\"71523093-1293-4de1-b4fb-87157636102b\" type=\"checkbox\" ><label class=\"sk-toggleable__label\" for=\"71523093-1293-4de1-b4fb-87157636102b\">Binarizer</label><div class=\"sk-toggleable__content\"><pre>Binarizer(n_jobs=-1, threshold=0.4)</pre></div></div></div><div class=\"sk-item\"><div class=\"sk-estimator sk-toggleable\"><input class=\"sk-toggleable__control sk-hidden--visually\" id=\"4ff9d521-f2be-4d66-a440-38ee22d66b3d\" type=\"checkbox\" ><label class=\"sk-toggleable__label\" for=\"4ff9d521-f2be-4d66-a440-38ee22d66b3d\">RadialFiltration</label><div class=\"sk-toggleable__content\"><pre>RadialFiltration(center=array([20, 20]), n_jobs=-1)</pre></div></div></div><div class=\"sk-item\"><div class=\"sk-estimator sk-toggleable\"><input class=\"sk-toggleable__control sk-hidden--visually\" id=\"8ecd2388-7ac2-47e6-b18f-da69129c078a\" type=\"checkbox\" ><label class=\"sk-toggleable__label\" for=\"8ecd2388-7ac2-47e6-b18f-da69129c078a\">CubicalPersistence</label><div class=\"sk-toggleable__content\"><pre>CubicalPersistence(n_jobs=-1)</pre></div></div></div><div class=\"sk-item\"><div class=\"sk-estimator sk-toggleable\"><input class=\"sk-toggleable__control sk-hidden--visually\" id=\"0aaf4b6c-b630-4a54-8c7f-3599e04f445b\" type=\"checkbox\" ><label class=\"sk-toggleable__label\" for=\"0aaf4b6c-b630-4a54-8c7f-3599e04f445b\">Scaler</label><div class=\"sk-toggleable__content\"><pre>Scaler(n_jobs=-1)</pre></div></div></div><div class=\"sk-item sk-dashed-wrapped\"><div class=\"sk-label-container\"><div class=\"sk-label sk-toggleable\"><input class=\"sk-toggleable__control sk-hidden--visually\" id=\"b6c01ea2-5df1-4ece-a37b-ece3dbdcdd56\" type=\"checkbox\" ><label class=\"sk-toggleable__label\" for=\"b6c01ea2-5df1-4ece-a37b-ece3dbdcdd56\">featureunion: FeatureUnion</label><div class=\"sk-toggleable__content\"><pre>FeatureUnion(transformer_list=[('persistenceentropy',\n",
       "                                PersistenceEntropy(nan_fill_value=-1)),\n",
       "                               ('amplitude-1',\n",
       "                                Amplitude(metric='bottleneck', metric_params={},\n",
       "                                          n_jobs=-1)),\n",
       "                               ('amplitude-2',\n",
       "                                Amplitude(metric='wasserstein',\n",
       "                                          metric_params={'p': 1}, n_jobs=-1)),\n",
       "                               ('amplitude-3',\n",
       "                                Amplitude(metric='wasserstein',\n",
       "                                          metric_params={'p': 2}, n_jobs=-1)),\n",
       "                               ('amplitude-4',\n",
       "                                Amplitude...\n",
       "                                          metric_params={'n_bins': 100, 'p': 1,\n",
       "                                                         'sigma': 1.6},\n",
       "                                          n_jobs=-1)),\n",
       "                               ('amplitude-11',\n",
       "                                Amplitude(metric='heat',\n",
       "                                          metric_params={'n_bins': 100, 'p': 1,\n",
       "                                                         'sigma': 3.2},\n",
       "                                          n_jobs=-1)),\n",
       "                               ('amplitude-12',\n",
       "                                Amplitude(metric='heat',\n",
       "                                          metric_params={'n_bins': 100, 'p': 2,\n",
       "                                                         'sigma': 1.6},\n",
       "                                          n_jobs=-1)),\n",
       "                               ('amplitude-13',\n",
       "                                Amplitude(metric='heat',\n",
       "                                          metric_params={'n_bins': 100, 'p': 2,\n",
       "                                                         'sigma': 3.2},\n",
       "                                          n_jobs=-1))])</pre></div></div></div><div class=\"sk-parallel\"><div class=\"sk-parallel-item\"><div class=\"sk-item\"><div class=\"sk-label-container\"><div class=\"sk-label sk-toggleable\"><label>persistenceentropy</label></div></div><div class=\"sk-serial\"><div class=\"sk-item\"><div class=\"sk-estimator sk-toggleable\"><input class=\"sk-toggleable__control sk-hidden--visually\" id=\"9f55358a-d58e-410a-85cc-872c33ceacd9\" type=\"checkbox\" ><label class=\"sk-toggleable__label\" for=\"9f55358a-d58e-410a-85cc-872c33ceacd9\">PersistenceEntropy</label><div class=\"sk-toggleable__content\"><pre>PersistenceEntropy(nan_fill_value=-1)</pre></div></div></div></div></div></div><div class=\"sk-parallel-item\"><div class=\"sk-item\"><div class=\"sk-label-container\"><div class=\"sk-label sk-toggleable\"><label>amplitude-1</label></div></div><div class=\"sk-serial\"><div class=\"sk-item\"><div class=\"sk-estimator sk-toggleable\"><input class=\"sk-toggleable__control sk-hidden--visually\" id=\"c2e395ec-96b8-4e9d-acc2-18fb8e7f6aa5\" type=\"checkbox\" ><label class=\"sk-toggleable__label\" for=\"c2e395ec-96b8-4e9d-acc2-18fb8e7f6aa5\">Amplitude</label><div class=\"sk-toggleable__content\"><pre>Amplitude(metric='bottleneck', metric_params={}, n_jobs=-1)</pre></div></div></div></div></div></div><div class=\"sk-parallel-item\"><div class=\"sk-item\"><div class=\"sk-label-container\"><div class=\"sk-label sk-toggleable\"><label>amplitude-2</label></div></div><div class=\"sk-serial\"><div class=\"sk-item\"><div class=\"sk-estimator sk-toggleable\"><input class=\"sk-toggleable__control sk-hidden--visually\" id=\"58feea6e-a8a1-4061-80db-fb26721b2be0\" type=\"checkbox\" ><label class=\"sk-toggleable__label\" for=\"58feea6e-a8a1-4061-80db-fb26721b2be0\">Amplitude</label><div class=\"sk-toggleable__content\"><pre>Amplitude(metric='wasserstein', metric_params={'p': 1}, n_jobs=-1)</pre></div></div></div></div></div></div><div class=\"sk-parallel-item\"><div class=\"sk-item\"><div class=\"sk-label-container\"><div class=\"sk-label sk-toggleable\"><label>amplitude-3</label></div></div><div class=\"sk-serial\"><div class=\"sk-item\"><div class=\"sk-estimator sk-toggleable\"><input class=\"sk-toggleable__control sk-hidden--visually\" id=\"92195080-964a-47f5-92a4-e1e40393f66b\" type=\"checkbox\" ><label class=\"sk-toggleable__label\" for=\"92195080-964a-47f5-92a4-e1e40393f66b\">Amplitude</label><div class=\"sk-toggleable__content\"><pre>Amplitude(metric='wasserstein', metric_params={'p': 2}, n_jobs=-1)</pre></div></div></div></div></div></div><div class=\"sk-parallel-item\"><div class=\"sk-item\"><div class=\"sk-label-container\"><div class=\"sk-label sk-toggleable\"><label>amplitude-4</label></div></div><div class=\"sk-serial\"><div class=\"sk-item\"><div class=\"sk-estimator sk-toggleable\"><input class=\"sk-toggleable__control sk-hidden--visually\" id=\"0420f1fd-ecf0-4dda-b5a1-a47bdacfdfa8\" type=\"checkbox\" ><label class=\"sk-toggleable__label\" for=\"0420f1fd-ecf0-4dda-b5a1-a47bdacfdfa8\">Amplitude</label><div class=\"sk-toggleable__content\"><pre>Amplitude(metric_params={'n_bins': 100, 'n_layers': 1, 'p': 1}, n_jobs=-1)</pre></div></div></div></div></div></div><div class=\"sk-parallel-item\"><div class=\"sk-item\"><div class=\"sk-label-container\"><div class=\"sk-label sk-toggleable\"><label>amplitude-5</label></div></div><div class=\"sk-serial\"><div class=\"sk-item\"><div class=\"sk-estimator sk-toggleable\"><input class=\"sk-toggleable__control sk-hidden--visually\" id=\"6e3885b6-a92c-4cb3-b682-98d648314d84\" type=\"checkbox\" ><label class=\"sk-toggleable__label\" for=\"6e3885b6-a92c-4cb3-b682-98d648314d84\">Amplitude</label><div class=\"sk-toggleable__content\"><pre>Amplitude(metric_params={'n_bins': 100, 'n_layers': 2, 'p': 1}, n_jobs=-1)</pre></div></div></div></div></div></div><div class=\"sk-parallel-item\"><div class=\"sk-item\"><div class=\"sk-label-container\"><div class=\"sk-label sk-toggleable\"><label>amplitude-6</label></div></div><div class=\"sk-serial\"><div class=\"sk-item\"><div class=\"sk-estimator sk-toggleable\"><input class=\"sk-toggleable__control sk-hidden--visually\" id=\"ac27ae9c-1165-4c92-aa04-a499d4eb4bad\" type=\"checkbox\" ><label class=\"sk-toggleable__label\" for=\"ac27ae9c-1165-4c92-aa04-a499d4eb4bad\">Amplitude</label><div class=\"sk-toggleable__content\"><pre>Amplitude(metric_params={'n_bins': 100, 'n_layers': 1, 'p': 2}, n_jobs=-1)</pre></div></div></div></div></div></div><div class=\"sk-parallel-item\"><div class=\"sk-item\"><div class=\"sk-label-container\"><div class=\"sk-label sk-toggleable\"><label>amplitude-7</label></div></div><div class=\"sk-serial\"><div class=\"sk-item\"><div class=\"sk-estimator sk-toggleable\"><input class=\"sk-toggleable__control sk-hidden--visually\" id=\"86bd0f62-3760-4b1b-93b7-9eb0a32fdcc0\" type=\"checkbox\" ><label class=\"sk-toggleable__label\" for=\"86bd0f62-3760-4b1b-93b7-9eb0a32fdcc0\">Amplitude</label><div class=\"sk-toggleable__content\"><pre>Amplitude(metric_params={'n_bins': 100, 'n_layers': 2, 'p': 2}, n_jobs=-1)</pre></div></div></div></div></div></div><div class=\"sk-parallel-item\"><div class=\"sk-item\"><div class=\"sk-label-container\"><div class=\"sk-label sk-toggleable\"><label>amplitude-8</label></div></div><div class=\"sk-serial\"><div class=\"sk-item\"><div class=\"sk-estimator sk-toggleable\"><input class=\"sk-toggleable__control sk-hidden--visually\" id=\"8d815ede-df13-46dd-8ced-2c4aaac20077\" type=\"checkbox\" ><label class=\"sk-toggleable__label\" for=\"8d815ede-df13-46dd-8ced-2c4aaac20077\">Amplitude</label><div class=\"sk-toggleable__content\"><pre>Amplitude(metric='betti', metric_params={'n_bins': 100, 'p': 1}, n_jobs=-1)</pre></div></div></div></div></div></div><div class=\"sk-parallel-item\"><div class=\"sk-item\"><div class=\"sk-label-container\"><div class=\"sk-label sk-toggleable\"><label>amplitude-9</label></div></div><div class=\"sk-serial\"><div class=\"sk-item\"><div class=\"sk-estimator sk-toggleable\"><input class=\"sk-toggleable__control sk-hidden--visually\" id=\"87748ea1-68e9-45fe-bf63-ee019c24f585\" type=\"checkbox\" ><label class=\"sk-toggleable__label\" for=\"87748ea1-68e9-45fe-bf63-ee019c24f585\">Amplitude</label><div class=\"sk-toggleable__content\"><pre>Amplitude(metric='betti', metric_params={'n_bins': 100, 'p': 2}, n_jobs=-1)</pre></div></div></div></div></div></div><div class=\"sk-parallel-item\"><div class=\"sk-item\"><div class=\"sk-label-container\"><div class=\"sk-label sk-toggleable\"><label>amplitude-10</label></div></div><div class=\"sk-serial\"><div class=\"sk-item\"><div class=\"sk-estimator sk-toggleable\"><input class=\"sk-toggleable__control sk-hidden--visually\" id=\"de057778-748d-4340-b0d5-1ed7d9092e17\" type=\"checkbox\" ><label class=\"sk-toggleable__label\" for=\"de057778-748d-4340-b0d5-1ed7d9092e17\">Amplitude</label><div class=\"sk-toggleable__content\"><pre>Amplitude(metric='heat', metric_params={'n_bins': 100, 'p': 1, 'sigma': 1.6},\n",
       "          n_jobs=-1)</pre></div></div></div></div></div></div><div class=\"sk-parallel-item\"><div class=\"sk-item\"><div class=\"sk-label-container\"><div class=\"sk-label sk-toggleable\"><label>amplitude-11</label></div></div><div class=\"sk-serial\"><div class=\"sk-item\"><div class=\"sk-estimator sk-toggleable\"><input class=\"sk-toggleable__control sk-hidden--visually\" id=\"aadfa4a6-d316-4907-b550-1cad82bcd103\" type=\"checkbox\" ><label class=\"sk-toggleable__label\" for=\"aadfa4a6-d316-4907-b550-1cad82bcd103\">Amplitude</label><div class=\"sk-toggleable__content\"><pre>Amplitude(metric='heat', metric_params={'n_bins': 100, 'p': 1, 'sigma': 3.2},\n",
       "          n_jobs=-1)</pre></div></div></div></div></div></div><div class=\"sk-parallel-item\"><div class=\"sk-item\"><div class=\"sk-label-container\"><div class=\"sk-label sk-toggleable\"><label>amplitude-12</label></div></div><div class=\"sk-serial\"><div class=\"sk-item\"><div class=\"sk-estimator sk-toggleable\"><input class=\"sk-toggleable__control sk-hidden--visually\" id=\"fd115c3a-8f04-4e7b-8f34-e4b89b3f9eaf\" type=\"checkbox\" ><label class=\"sk-toggleable__label\" for=\"fd115c3a-8f04-4e7b-8f34-e4b89b3f9eaf\">Amplitude</label><div class=\"sk-toggleable__content\"><pre>Amplitude(metric='heat', metric_params={'n_bins': 100, 'p': 2, 'sigma': 1.6},\n",
       "          n_jobs=-1)</pre></div></div></div></div></div></div><div class=\"sk-parallel-item\"><div class=\"sk-item\"><div class=\"sk-label-container\"><div class=\"sk-label sk-toggleable\"><label>amplitude-13</label></div></div><div class=\"sk-serial\"><div class=\"sk-item\"><div class=\"sk-estimator sk-toggleable\"><input class=\"sk-toggleable__control sk-hidden--visually\" id=\"b5d407ba-d335-408e-bb2a-3f75aaf56265\" type=\"checkbox\" ><label class=\"sk-toggleable__label\" for=\"b5d407ba-d335-408e-bb2a-3f75aaf56265\">Amplitude</label><div class=\"sk-toggleable__content\"><pre>Amplitude(metric='heat', metric_params={'n_bins': 100, 'p': 2, 'sigma': 3.2},\n",
       "          n_jobs=-1)</pre></div></div></div></div></div></div></div></div></div></div></div></div></div></div></div></div></div>"
      ],
      "text/plain": [
       "FeatureUnion(n_jobs=-1,\n",
       "             transformer_list=[('pipeline-1',\n",
       "                                Pipeline(steps=[('binarizer',\n",
       "                                                 Binarizer(n_jobs=-1,\n",
       "                                                           threshold=0.4)),\n",
       "                                                ('heightfiltration',\n",
       "                                                 HeightFiltration(direction=array([1, 0]),\n",
       "                                                                  n_jobs=-1)),\n",
       "                                                ('cubicalpersistence',\n",
       "                                                 CubicalPersistence(n_jobs=-1)),\n",
       "                                                ('scaler', Scaler(n_jobs=-1)),\n",
       "                                                ('featureunion',\n",
       "                                                 FeatureUnion(transformer_list=[('persistenceentropy',\n",
       "                                                                                 Persist...\n",
       "                                                                                           metric_params={'n_bins': 100,\n",
       "                                                                                                          'p': 1,\n",
       "                                                                                                          'sigma': 1.6},\n",
       "                                                                                           n_jobs=-1)),\n",
       "                                                                                ('amplitude-11',\n",
       "                                                                                 Amplitude(metric='heat',\n",
       "                                                                                           metric_params={'n_bins': 100,\n",
       "                                                                                                          'p': 1,\n",
       "                                                                                                          'sigma': 3.2},\n",
       "                                                                                           n_jobs=-1)),\n",
       "                                                                                ('amplitude-12',\n",
       "                                                                                 Amplitude(metric='heat',\n",
       "                                                                                           metric_params={'n_bins': 100,\n",
       "                                                                                                          'p': 2,\n",
       "                                                                                                          'sigma': 1.6},\n",
       "                                                                                           n_jobs=-1)),\n",
       "                                                                                ('amplitude-13',\n",
       "                                                                                 Amplitude(metric='heat',\n",
       "                                                                                           metric_params={'n_bins': 100,\n",
       "                                                                                                          'p': 2,\n",
       "                                                                                                          'sigma': 3.2},\n",
       "                                                                                           n_jobs=-1))]))]))])"
      ]
     },
     "execution_count": 32,
     "metadata": {},
     "output_type": "execute_result"
    }
   ],
   "source": [
    "from sklearn import set_config\n",
    "set_config(display='diagram')\n",
    "\n",
    "tda_union"
   ]
  },
  {
   "cell_type": "code",
   "execution_count": 34,
   "metadata": {},
   "outputs": [
    {
     "data": {
      "text/plain": [
       "(5000, 476)"
      ]
     },
     "execution_count": 34,
     "metadata": {},
     "output_type": "execute_result"
    }
   ],
   "source": [
    "X_train_tda = tda_union.fit_transform(X_train)\n",
    "X_train_tda.shape"
   ]
  },
  {
   "cell_type": "code",
   "execution_count": 35,
   "metadata": {},
   "outputs": [],
   "source": [
    "import pickle\n",
    "\n",
    "# save\n",
    "with open('X_train_tda.pickle', 'wb') as f:\n",
    "    pickle.dump(X_train_tda, f)"
   ]
  },
  {
   "cell_type": "code",
   "execution_count": null,
   "metadata": {},
   "outputs": [],
   "source": []
  }
 ],
 "metadata": {
  "interpreter": {
   "hash": "a4fd1451840babbb37e6226633a71627e1f918595ad990aa0f1a715d0e292c9f"
  },
  "kernelspec": {
   "display_name": "Python 3.8.8 64-bit ('base': conda)",
   "language": "python",
   "name": "python3"
  },
  "language_info": {
   "codemirror_mode": {
    "name": "ipython",
    "version": 3
   },
   "file_extension": ".py",
   "mimetype": "text/x-python",
   "name": "python",
   "nbconvert_exporter": "python",
   "pygments_lexer": "ipython3",
   "version": "3.8.8"
  },
  "orig_nbformat": 4
 },
 "nbformat": 4,
 "nbformat_minor": 2
}
