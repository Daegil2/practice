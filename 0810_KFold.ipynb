{
  "nbformat": 4,
  "nbformat_minor": 0,
  "metadata": {
    "colab": {
      "name": "0810 KFold",
      "provenance": [],
      "collapsed_sections": [],
      "authorship_tag": "ABX9TyMVHhNg6tvFZCiD4AdYkAVY",
      "include_colab_link": true
    },
    "kernelspec": {
      "name": "python3",
      "display_name": "Python 3"
    },
    "language_info": {
      "name": "python"
    }
  },
  "cells": [
    {
      "cell_type": "markdown",
      "metadata": {
        "id": "view-in-github",
        "colab_type": "text"
      },
      "source": [
        "<a href=\"https://colab.research.google.com/github/Daegil2/practice/blob/main/0810_KFold.ipynb\" target=\"_parent\"><img src=\"https://colab.research.google.com/assets/colab-badge.svg\" alt=\"Open In Colab\"/></a>"
      ]
    },
    {
      "cell_type": "code",
      "metadata": {
        "id": "9wudMtER7pAQ"
      },
      "source": [
        "# KFold API를 이용한 Cross Validation\n",
        "from sklearn.model_selection import KFold\n",
        "from sklearn.datasets import load_iris\n",
        "import numpy as np\n",
        "iris = load_iris()\n",
        "features = iris.data\n",
        "label = iris.target\n",
        "kfold = KFold(n_splits=5)"
      ],
      "execution_count": 22,
      "outputs": []
    },
    {
      "cell_type": "code",
      "metadata": {
        "id": "8j4XDdMN7rAi"
      },
      "source": [
        "# KFold API를 이용한 Cross Validation\n",
        "from sklearn.tree import DecisionTreeClassifier\n",
        "from sklearn.metrics import accuracy_score\n",
        "dt_clf = DecisionTreeClassifier(random_state=156)\n",
        "cv_accuracy = []"
      ],
      "execution_count": 29,
      "outputs": []
    },
    {
      "cell_type": "code",
      "metadata": {
        "id": "BCV4zaSj7rD7"
      },
      "source": [
        "# KFold API를 이용한 Cross Validation\n",
        "for train_index, test_index in kfold.split(features):\n",
        "  x_train, x_test = features[train_index], features[test_index]\n",
        "  y_train, y_test = label[train_index], label[test_index]\n"
      ],
      "execution_count": 31,
      "outputs": []
    },
    {
      "cell_type": "code",
      "metadata": {
        "id": "19-IJMl89FDQ"
      },
      "source": [
        "# KFold API를 이용한 Cross Validation\n",
        "\n",
        "dt_clf.fit(x_train , y_train)\n",
        "pred = dt_clf.predict(x_test)\n",
        "fold_index= 1"
      ],
      "execution_count": 33,
      "outputs": []
    },
    {
      "cell_type": "code",
      "metadata": {
        "colab": {
          "base_uri": "https://localhost:8080/"
        },
        "id": "Qyd6BkTV7rGy",
        "outputId": "a7405fdf-5a59-4a40-8bb5-6a0eca351f4d"
      },
      "source": [
        "# KFold API를 이용한 Cross Validation\n",
        "accuracy = np.round(accuracy_score(y_test,pred), 4)\n",
        "train_size = x_train.shape[0]\n",
        "test_size = x_test.shape[0]\n",
        "print('\\n#{0} fold accuracy :{1}, train size: {2}, val size: {3}'\n",
        ".format(fold_index, accuracy, train_size, test_size))\n",
        "print('#{0} val index:{1}'.format(fold_index,test_index))\n",
        "cv_accuracy.append(accuracy)\n"
      ],
      "execution_count": 34,
      "outputs": [
        {
          "output_type": "stream",
          "text": [
            "\n",
            "#1 fold accuracy :0.7333, train size: 120, val size: 30\n",
            "#1 val index:[120 121 122 123 124 125 126 127 128 129 130 131 132 133 134 135 136 137\n",
            " 138 139 140 141 142 143 144 145 146 147 148 149]\n"
          ],
          "name": "stdout"
        }
      ]
    },
    {
      "cell_type": "code",
      "metadata": {
        "colab": {
          "base_uri": "https://localhost:8080/"
        },
        "id": "2J30aqBr81tB",
        "outputId": "231beb98-c23d-499d-9718-58c869c2c029"
      },
      "source": [
        "# KFold 평가 지표 출력\n",
        "print('\\n## avg val accuracy:', np.mean(cv_accuracy)) "
      ],
      "execution_count": 35,
      "outputs": [
        {
          "output_type": "stream",
          "text": [
            "\n",
            "## avg val accuracy: 0.7333\n"
          ],
          "name": "stdout"
        }
      ]
    },
    {
      "cell_type": "code",
      "metadata": {
        "colab": {
          "base_uri": "https://localhost:8080/"
        },
        "id": "3W604wGz81wh",
        "outputId": "857f5e63-5bcd-441f-a7b6-9ac03b92e127"
      },
      "source": [
        "# KFold API를 이용하여 Fold 생성 시 데이터의 분포 확인\n",
        "from sklearn.datasets import load_iris\n",
        "import pandas as pd\n",
        "iris = load_iris()\n",
        "df_iris = pd.DataFrame(data=iris.data, columns=iris.feature_names) \n",
        "df_iris['label']=iris.target\n",
        "df_iris['label'].value_counts()\n"
      ],
      "execution_count": 52,
      "outputs": [
        {
          "output_type": "execute_result",
          "data": {
            "text/plain": [
              "2    50\n",
              "1    50\n",
              "0    50\n",
              "Name: label, dtype: int64"
            ]
          },
          "metadata": {
            "tags": []
          },
          "execution_count": 52
        }
      ]
    },
    {
      "cell_type": "code",
      "metadata": {
        "id": "97EC_X9PCJ4G"
      },
      "source": [
        "# KFold API를 이용하여 Fold 생성 시 데이터의 분포 확인\n",
        "\n",
        "kfold = KFold(n_splits=3)\n",
        "fold_index =0\n",
        "for train_index, test_index in kfold.split(df_iris):\n",
        "  fold_index +=1\n",
        "  label_train=df_iris['label'].iloc[train_index]\n",
        "  label_test= df_iris['label'].iloc[test_index]\n"
      ],
      "execution_count": 53,
      "outputs": []
    },
    {
      "cell_type": "code",
      "metadata": {
        "colab": {
          "base_uri": "https://localhost:8080/"
        },
        "id": "NAG5TMVOCMBu",
        "outputId": "f9d52e37-1440-4f7e-f70d-482bdfab10c9"
      },
      "source": [
        "# KFold API를 이용하여 Fold 생성 시 데이터의 분포 확인\n",
        "\n",
        "print('## Cross validation: {0}'.format(fold_index))\n",
        "print('Train label distribution:')\n",
        "print(label_train.value_counts(), end='\\n\\n')\n",
        "print('Val label distributioin:')\n",
        "print(label_test.value_counts(), end='\\n\\n')"
      ],
      "execution_count": 54,
      "outputs": [
        {
          "output_type": "stream",
          "text": [
            "## Cross validation: 3\n",
            "Train label distribution:\n",
            "1    50\n",
            "0    50\n",
            "Name: label, dtype: int64\n",
            "\n",
            "Val label distributioin:\n",
            "2    50\n",
            "Name: label, dtype: int64\n",
            "\n"
          ],
          "name": "stdout"
        }
      ]
    },
    {
      "cell_type": "code",
      "metadata": {
        "id": "OfNi44OsCMEu"
      },
      "source": [
        "# StratifiedKFold API를 이용하여 Fold 생성 하여 데이터의 분포 확인\n",
        "from sklearn.model_selection import StratifiedKFold\n",
        "skf = StratifiedKFold(n_splits=3)\n",
        "fold_index = 0\n"
      ],
      "execution_count": 55,
      "outputs": []
    },
    {
      "cell_type": "code",
      "metadata": {
        "id": "2cNbjqa5CMH2"
      },
      "source": [
        "# StratifiedKFold API를 이용하여 Fold 생성 하여 데이터의 분포 확인\n",
        "for train_index, test_index in skf.split(df_iris, df_iris['label']):\n",
        "  fold_index += 1\n",
        "  label_train = df_iris['label'].iloc[train_index]\n",
        "  label_test = df_iris['label'].iloc[test_index]"
      ],
      "execution_count": 56,
      "outputs": []
    },
    {
      "cell_type": "code",
      "metadata": {
        "colab": {
          "base_uri": "https://localhost:8080/"
        },
        "id": "-cktAwefCJ7O",
        "outputId": "0989852b-c242-4709-a6ec-7f925103ed28"
      },
      "source": [
        "# StratifiedKFold API를 이용하여 Fold 생성 하여 데이터의 분포 확인\n",
        "\n",
        "print('## Cross validation: {0}'.format(fold_index))\n",
        "print('Train label distribution:')\n",
        "print(label_train.value_counts(), end='\\n\\n')\n",
        "print('Val label distributioin:')\n",
        "print(label_test.value_counts(), end='\\n\\n')"
      ],
      "execution_count": 57,
      "outputs": [
        {
          "output_type": "stream",
          "text": [
            "## Cross validation: 3\n",
            "Train label distribution:\n",
            "0    34\n",
            "2    33\n",
            "1    33\n",
            "Name: label, dtype: int64\n",
            "\n",
            "Val label distributioin:\n",
            "2    17\n",
            "1    17\n",
            "0    16\n",
            "Name: label, dtype: int64\n",
            "\n"
          ],
          "name": "stdout"
        }
      ]
    },
    {
      "cell_type": "code",
      "metadata": {
        "id": "iomulTayCJ93"
      },
      "source": [
        "# StratifiedKFold API를 이용한 Cross Validation\n",
        "from sklearn.datasets import load_iris\n",
        "from sklearn.tree import DecisionTreeClassifier\n",
        "import numpy as np\n",
        "iris = load_iris()\n",
        "features = iris.data \n",
        "label = iris.target\n",
        "dt_clf = DecisionTreeClassifier(random_state=156)\n",
        "skfold = StratifiedKFold(n_splits=3)\n"
      ],
      "execution_count": 59,
      "outputs": []
    },
    {
      "cell_type": "code",
      "metadata": {
        "id": "9xTnxwLBFm5c"
      },
      "source": [
        "# StratifiedKFold API를 이용한 Cross Validation\n",
        "fold_index=0\n",
        "lst_accuracy=[]\n",
        "for train_index, test_index in skfold.split(features, label):\n",
        "  x_train, x_test = features[train_index], features[test_index]\n",
        "  y_train, y_test = label[train_index], label[test_index]\n",
        "dt_clf.fit(x_train , y_train)\n",
        "pred = dt_clf.predict(x_test)"
      ],
      "execution_count": 60,
      "outputs": []
    },
    {
      "cell_type": "code",
      "metadata": {
        "colab": {
          "base_uri": "https://localhost:8080/"
        },
        "id": "TxOW2z21Fm9d",
        "outputId": "1b39adf0-dcec-4e0f-d90a-12b4d2251dde"
      },
      "source": [
        "# StratifiedKFold API를 이용한 Cross Validation\n",
        "fold_index = 1\n",
        "accuracy = np.round(accuracy_score(y_test,pred), 4)\n",
        "train_size = x_train.shape[0]\n",
        "test_size = x_test.shape[0]\n",
        "print('\\n#{0} Cross val accuracy :{1}, train size: {2}, test size: {3}'.format(fold_index, accuracy, train_size, test_size))\n",
        "print('#{0} Val index:{1}'.format(fold_index,test_index))\n",
        "lst_accuracy.append(accuracy)\n"
      ],
      "execution_count": 62,
      "outputs": [
        {
          "output_type": "stream",
          "text": [
            "\n",
            "#1 Cross val accuracy :0.98, train size: 100, test size: 50\n",
            "#1 Val index:[ 34  35  36  37  38  39  40  41  42  43  44  45  46  47  48  49  83  84\n",
            "  85  86  87  88  89  90  91  92  93  94  95  96  97  98  99 133 134 135\n",
            " 136 137 138 139 140 141 142 143 144 145 146 147 148 149]\n"
          ],
          "name": "stdout"
        }
      ]
    },
    {
      "cell_type": "code",
      "metadata": {
        "colab": {
          "base_uri": "https://localhost:8080/"
        },
        "id": "6kkMm5p_FnAk",
        "outputId": "ba5ff828-914c-4125-cd62-2f25ddaede58"
      },
      "source": [
        "print('\\n ## fold val accuracy:', np.round(lst_accuracy, 4))\n",
        "print('## avg val accuracy:', np.mean(lst_accuracy))\n"
      ],
      "execution_count": 65,
      "outputs": [
        {
          "output_type": "stream",
          "text": [
            "\n",
            " ## fold val accuracy: [0.98]\n",
            "## avg val accuracy: 0.98\n"
          ],
          "name": "stdout"
        }
      ]
    },
    {
      "cell_type": "code",
      "metadata": {
        "id": "33Nc1E-uFnDi"
      },
      "source": [
        "# cross_val_score() API를 이용하여 교차검증 성능 지표 계산\n",
        "from sklearn.tree import DecisionTreeClassifier\n",
        "from sklearn.datasets import load_iris\n",
        "iris = load_iris()\n",
        "data = iris.data\n",
        "label = iris.target\n",
        "dt_clf = DecisionTreeClassifier(random_state=156)"
      ],
      "execution_count": 66,
      "outputs": []
    },
    {
      "cell_type": "code",
      "metadata": {
        "colab": {
          "base_uri": "https://localhost:8080/"
        },
        "id": "P6zsUkE6FnGE",
        "outputId": "2def9860-7f97-45e1-e197-6e6b7db99941"
      },
      "source": [
        "# cross_val_score() API를 이용하여 교차검증 성능 지표 계산\n",
        "from sklearn.model_selection import cross_val_score\n",
        "import numpy as np\n",
        "scores = cross_val_score(estimator=dt_clf,\n",
        "X=data, y=label,\n",
        "scoring='accuracy',\n",
        "cv=3)\n",
        "print('Fold val accuracy:',np.round(scores, 4))\n",
        "print('Avg val accuracy:', np.round(np.mean(scores), 4))\n"
      ],
      "execution_count": 67,
      "outputs": [
        {
          "output_type": "stream",
          "text": [
            "Fold val accuracy: [0.98 0.94 0.98]\n",
            "Avg val accuracy: 0.9667\n"
          ],
          "name": "stdout"
        }
      ]
    }
  ]
}