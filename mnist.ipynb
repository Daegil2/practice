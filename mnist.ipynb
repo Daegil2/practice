{
  "nbformat": 4,
  "nbformat_minor": 0,
  "metadata": {
    "colab": {
      "name": "mnist",
      "provenance": [],
      "collapsed_sections": [],
      "authorship_tag": "ABX9TyPT6X/S8qdqADp2+VGOcNAV",
      "include_colab_link": true
    },
    "kernelspec": {
      "name": "python3",
      "display_name": "Python 3"
    },
    "language_info": {
      "name": "python"
    },
    "accelerator": "GPU"
  },
  "cells": [
    {
      "cell_type": "markdown",
      "metadata": {
        "id": "view-in-github",
        "colab_type": "text"
      },
      "source": [
        "<a href=\"https://colab.research.google.com/github/Daegil2/practice/blob/main/mnist.ipynb\" target=\"_parent\"><img src=\"https://colab.research.google.com/assets/colab-badge.svg\" alt=\"Open In Colab\"/></a>"
      ]
    },
    {
      "cell_type": "code",
      "metadata": {
        "id": "N0dV-ajJQ_-x"
      },
      "source": [
        "import tensorflow as tf"
      ],
      "execution_count": null,
      "outputs": []
    },
    {
      "cell_type": "code",
      "metadata": {
        "id": "wlB7Jef9Qm94"
      },
      "source": [
        "mnist = tf.keras.datasets.mnist \n",
        "(x_train, y_train), (x_test, y_test)= mnist.load_data()"
      ],
      "execution_count": null,
      "outputs": []
    },
    {
      "cell_type": "code",
      "metadata": {
        "id": "MABJ8SdWRABn"
      },
      "source": [
        "x_train, x_test =x_train /255.0, x_test/255.0 #0~255사이의 값을 0~1으로 nomalize"
      ],
      "execution_count": null,
      "outputs": []
    },
    {
      "cell_type": "code",
      "metadata": {
        "colab": {
          "base_uri": "https://localhost:8080/"
        },
        "id": "HYJHzWViRAEg",
        "outputId": "86d8ab0f-86f8-4873-d9df-5355b7594c7c"
      },
      "source": [
        "print(\"training set의 이미지 개수 : %d \" %x_train.shape[0])\n",
        "print(\"Test set 의 이미지 개수: %d\" %x_test.shape[0])\n",
        "print(\"이미지의 크기 : %d x %d\" %(x_train.shape[1], x_train.shape[2]))"
      ],
      "execution_count": null,
      "outputs": [
        {
          "output_type": "stream",
          "text": [
            "training set의 이미지 개수 : 60000 \n",
            "Test set 의 이미지 개수: 10000\n",
            "이미지의 크기 : 28 x 28\n"
          ],
          "name": "stdout"
        }
      ]
    },
    {
      "cell_type": "code",
      "metadata": {
        "id": "_6qdeGUbRAHP"
      },
      "source": [
        "model = tf.keras.models.Sequential([\n",
        "                                    tf.keras.layers.Flatten(input_shape=(28, 28)), #입력 데이터의 크기\n",
        "                                    tf.keras.layers.Dense(128, activation ='relu'), #Denlayer를 통해\n",
        "                                    tf.keras.layers.Dropout(0.2), # dropout (p=0.2)\n",
        "                                    tf.keras.layers.Dense(10, activation ='softmax') # Dense layer를 통해\n",
        "])"
      ],
      "execution_count": null,
      "outputs": []
    },
    {
      "cell_type": "code",
      "metadata": {
        "id": "rg3Q28lCRAJ_"
      },
      "source": [
        "model.compile(optimizer='adam',\n",
        "              loss='sparse_categorical_crossentropy',\n",
        "              metrics=['accuracy'])"
      ],
      "execution_count": null,
      "outputs": []
    },
    {
      "cell_type": "code",
      "metadata": {
        "colab": {
          "base_uri": "https://localhost:8080/"
        },
        "id": "as4ULaAMRAMw",
        "outputId": "190180ca-a1be-459d-8847-ffc1b41c55eb"
      },
      "source": [
        "model.summary()"
      ],
      "execution_count": null,
      "outputs": [
        {
          "output_type": "stream",
          "text": [
            "Model: \"sequential_3\"\n",
            "_________________________________________________________________\n",
            "Layer (type)                 Output Shape              Param #   \n",
            "=================================================================\n",
            "flatten_3 (Flatten)          (None, 784)               0         \n",
            "_________________________________________________________________\n",
            "dense_6 (Dense)              (None, 128)               100480    \n",
            "_________________________________________________________________\n",
            "dropout_3 (Dropout)          (None, 128)               0         \n",
            "_________________________________________________________________\n",
            "dense_7 (Dense)              (None, 10)                1290      \n",
            "=================================================================\n",
            "Total params: 101,770\n",
            "Trainable params: 101,770\n",
            "Non-trainable params: 0\n",
            "_________________________________________________________________\n"
          ],
          "name": "stdout"
        }
      ]
    },
    {
      "cell_type": "code",
      "metadata": {
        "colab": {
          "base_uri": "https://localhost:8080/"
        },
        "id": "qlbr4SdmRAPf",
        "outputId": "f0026bf6-af36-49fa-a12f-084c0b453c3f"
      },
      "source": [
        "model.fit(x_train, y_train, epochs=5) #학습셋으로 모델 학습, 에폭 바꿔가며 실험하기\n",
        "model.evaluate(x_test, y_test, verbose =2)"
      ],
      "execution_count": null,
      "outputs": [
        {
          "output_type": "stream",
          "text": [
            "Epoch 1/5\n",
            "1875/1875 [==============================] - 7s 2ms/step - loss: 0.2946 - accuracy: 0.9144\n",
            "Epoch 2/5\n",
            "1875/1875 [==============================] - 4s 2ms/step - loss: 0.1434 - accuracy: 0.9577\n",
            "Epoch 3/5\n",
            "1875/1875 [==============================] - 4s 2ms/step - loss: 0.1076 - accuracy: 0.9676\n",
            "Epoch 4/5\n",
            "1875/1875 [==============================] - 4s 2ms/step - loss: 0.0872 - accuracy: 0.9735\n",
            "Epoch 5/5\n",
            "1875/1875 [==============================] - 4s 2ms/step - loss: 0.0753 - accuracy: 0.9768\n",
            "313/313 - 1s - loss: 0.0718 - accuracy: 0.9774\n"
          ],
          "name": "stdout"
        },
        {
          "output_type": "execute_result",
          "data": {
            "text/plain": [
              "[0.07183631509542465, 0.977400004863739]"
            ]
          },
          "metadata": {
            "tags": []
          },
          "execution_count": 37
        }
      ]
    },
    {
      "cell_type": "code",
      "metadata": {
        "id": "I34M-mLkRASQ"
      },
      "source": [
        "model2= tf.keras.models.Sequential([\n",
        "                                    tf.keras.layers.Conv2D(filters=32, kernel_size=(3,3), padding= 'same', activation='relu', input_shape=(28,28,1)),\n",
        "                                    tf.keras.layers.MaxPooling2D(pool_size=(2,2), strides=1, padding='same'), #2,2 max-polling\n",
        "                                    tf.keras.layers.Conv2D(filters=32, kernel_size=(3,3), padding= 'same', activation='relu'),\n",
        "                                    tf.keras.layers.MaxPooling2D(pool_size=(2,2), strides=1, padding='same'), #2,2 max-polling\n",
        "                                    tf.keras.layers.Conv2D(filters=32, kernel_size=(3,3), padding= 'same', activation='relu'),\n",
        "                                    tf.keras.layers.MaxPooling2D(pool_size=(2,2), strides=1, padding='same'), #2,2 max-polling\n",
        "                                    tf.keras.layers.Conv2D(filters=32, kernel_size=(3,3), padding= 'same', activation='relu'),\n",
        "                                    tf.keras.layers.MaxPooling2D(pool_size=(2,2), strides=1, padding='same'), #2,2 max-polling\n",
        "                                    tf.keras.layers.Conv2D(filters=32, kernel_size=(3,3), padding= 'same', activation='relu'),\n",
        "                                    tf.keras.layers.Flatten(),\n",
        "                                    tf.keras.layers.Dense(128, activation ='relu'),\n",
        "                                    tf.keras.layers.Dropout(0.2),\n",
        "                                    tf.keras.layers.Dense(128, activation ='softmax')\n",
        "])"
      ],
      "execution_count": null,
      "outputs": []
    },
    {
      "cell_type": "code",
      "metadata": {
        "id": "PQW8tEjch3BF"
      },
      "source": [
        "model2.compile(optimizer ='adam',\n",
        "                loss ='sparse_categorical_crossentropy',\n",
        "                metrics= ['accuracy']) # 정확도 성능평가"
      ],
      "execution_count": null,
      "outputs": []
    },
    {
      "cell_type": "code",
      "metadata": {
        "colab": {
          "base_uri": "https://localhost:8080/"
        },
        "id": "YMPdGyhzO8IC",
        "outputId": "cb43fbfe-f3a7-4b3d-df28-f1cb2417d1f3"
      },
      "source": [
        "expanded_x_train = tf.expand_dims(x_train, axis =-1) #(28,28)을 (28,28,1)로 바꿔준다\n",
        "expanded_x_test =tf.expand_dims(x_test, axis=-1) #(28,28)을 (28,28,1)로 바꿔준다\n",
        "print(x_train.shape)\n",
        "print(expanded_x_train.shape)\n",
        "model2.fit(expanded_x_train, y_train, epochs=5) #학습셋으로 모델 학습, 에폭 바꿔가며\n",
        "model2.evaluate(expanded_x_test,y_test, verbose =2) "
      ],
      "execution_count": null,
      "outputs": [
        {
          "output_type": "stream",
          "text": [
            "(60000, 28, 28)\n",
            "(60000, 28, 28, 1)\n",
            "Epoch 1/5\n",
            "1875/1875 [==============================] - 37s 19ms/step - loss: 0.1693 - accuracy: 0.9494\n",
            "Epoch 2/5\n",
            "1875/1875 [==============================] - 37s 20ms/step - loss: 0.0624 - accuracy: 0.9811\n",
            "Epoch 3/5\n",
            "1875/1875 [==============================] - 37s 20ms/step - loss: 0.0451 - accuracy: 0.9865\n",
            "Epoch 4/5\n",
            "1875/1875 [==============================] - 37s 20ms/step - loss: 0.0374 - accuracy: 0.9889\n",
            "Epoch 5/5\n",
            "1875/1875 [==============================] - 36s 19ms/step - loss: 0.0323 - accuracy: 0.9905\n",
            "313/313 - 2s - loss: 0.0309 - accuracy: 0.9905\n"
          ],
          "name": "stdout"
        },
        {
          "output_type": "execute_result",
          "data": {
            "text/plain": [
              "[0.030931662768125534, 0.9904999732971191]"
            ]
          },
          "metadata": {
            "tags": []
          },
          "execution_count": 16
        }
      ]
    },
    {
      "cell_type": "code",
      "metadata": {
        "id": "ggTk9aLqUAzp"
      },
      "source": [
        ""
      ],
      "execution_count": null,
      "outputs": []
    }
  ]
}