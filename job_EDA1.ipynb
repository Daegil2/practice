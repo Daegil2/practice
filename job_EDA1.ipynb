{
 "cells": [
  {
   "cell_type": "code",
   "execution_count": 83,
   "metadata": {},
   "outputs": [],
   "source": [
    "import numpy as np\n",
    "import pandas as pd\n",
    "import seaborn as sns\n",
    "import matplotlib.pyplot as plt\n",
    "import warnings\n",
    "import warnings\n",
    "\n",
    "from datetime import datetime"
   ]
  },
  {
   "cell_type": "code",
   "execution_count": 84,
   "metadata": {},
   "outputs": [],
   "source": [
    "train= pd.read_csv('train.csv')\n",
    "test= pd.read_csv('test.csv')\n",
    "\n",
    "d_code = pd.read_csv('속성_D_코드.csv',index_col=0).T.to_dict()\n",
    "h_code= pd.read_csv('속성_H_코드.csv',index_col=0).T.to_dict()\n",
    "l_code= pd.read_csv('속성_L_코드.csv',index_col=0).T.to_dict()"
   ]
  },
  {
   "cell_type": "code",
   "execution_count": 85,
   "metadata": {},
   "outputs": [
    {
     "data": {
      "text/plain": [
       "((501951, 35), (46404, 34))"
      ]
     },
     "execution_count": 85,
     "metadata": {},
     "output_type": "execute_result"
    }
   ],
   "source": [
    "train.shape, test.shape"
   ]
  },
  {
   "cell_type": "code",
   "execution_count": 86,
   "metadata": {},
   "outputs": [
    {
     "data": {
      "text/html": [
       "<div>\n",
       "<style scoped>\n",
       "    .dataframe tbody tr th:only-of-type {\n",
       "        vertical-align: middle;\n",
       "    }\n",
       "\n",
       "    .dataframe tbody tr th {\n",
       "        vertical-align: top;\n",
       "    }\n",
       "\n",
       "    .dataframe thead th {\n",
       "        text-align: right;\n",
       "    }\n",
       "</style>\n",
       "<table border=\"1\" class=\"dataframe\">\n",
       "  <thead>\n",
       "    <tr style=\"text-align: right;\">\n",
       "      <th></th>\n",
       "      <th>id</th>\n",
       "      <th>d_l_match_yn</th>\n",
       "      <th>d_m_match_yn</th>\n",
       "      <th>d_s_match_yn</th>\n",
       "      <th>h_l_match_yn</th>\n",
       "      <th>h_m_match_yn</th>\n",
       "      <th>h_s_match_yn</th>\n",
       "      <th>person_attribute_a</th>\n",
       "      <th>person_attribute_a_1</th>\n",
       "      <th>person_attribute_b</th>\n",
       "      <th>...</th>\n",
       "      <th>contents_attribute_k</th>\n",
       "      <th>contents_attribute_l</th>\n",
       "      <th>contents_attribute_d</th>\n",
       "      <th>contents_attribute_m</th>\n",
       "      <th>contents_attribute_e</th>\n",
       "      <th>contents_attribute_h</th>\n",
       "      <th>person_rn</th>\n",
       "      <th>contents_rn</th>\n",
       "      <th>contents_open_dt</th>\n",
       "      <th>target</th>\n",
       "    </tr>\n",
       "  </thead>\n",
       "  <tbody>\n",
       "    <tr>\n",
       "      <th>0</th>\n",
       "      <td>0</td>\n",
       "      <td>True</td>\n",
       "      <td>True</td>\n",
       "      <td>True</td>\n",
       "      <td>False</td>\n",
       "      <td>False</td>\n",
       "      <td>False</td>\n",
       "      <td>1</td>\n",
       "      <td>4</td>\n",
       "      <td>3</td>\n",
       "      <td>...</td>\n",
       "      <td>2</td>\n",
       "      <td>1608</td>\n",
       "      <td>275</td>\n",
       "      <td>1</td>\n",
       "      <td>4</td>\n",
       "      <td>139</td>\n",
       "      <td>618822</td>\n",
       "      <td>354805</td>\n",
       "      <td>2020-01-17 12:09:36</td>\n",
       "      <td>1</td>\n",
       "    </tr>\n",
       "    <tr>\n",
       "      <th>1</th>\n",
       "      <td>1</td>\n",
       "      <td>False</td>\n",
       "      <td>False</td>\n",
       "      <td>False</td>\n",
       "      <td>True</td>\n",
       "      <td>True</td>\n",
       "      <td>False</td>\n",
       "      <td>1</td>\n",
       "      <td>3</td>\n",
       "      <td>4</td>\n",
       "      <td>...</td>\n",
       "      <td>2</td>\n",
       "      <td>1608</td>\n",
       "      <td>275</td>\n",
       "      <td>1</td>\n",
       "      <td>4</td>\n",
       "      <td>133</td>\n",
       "      <td>571659</td>\n",
       "      <td>346213</td>\n",
       "      <td>2020-06-18 17:48:52</td>\n",
       "      <td>0</td>\n",
       "    </tr>\n",
       "    <tr>\n",
       "      <th>2</th>\n",
       "      <td>2</td>\n",
       "      <td>False</td>\n",
       "      <td>False</td>\n",
       "      <td>False</td>\n",
       "      <td>True</td>\n",
       "      <td>False</td>\n",
       "      <td>False</td>\n",
       "      <td>2</td>\n",
       "      <td>0</td>\n",
       "      <td>3</td>\n",
       "      <td>...</td>\n",
       "      <td>1</td>\n",
       "      <td>1600</td>\n",
       "      <td>94</td>\n",
       "      <td>1</td>\n",
       "      <td>4</td>\n",
       "      <td>53</td>\n",
       "      <td>399816</td>\n",
       "      <td>206408</td>\n",
       "      <td>2020-07-08 20:00:10</td>\n",
       "      <td>0</td>\n",
       "    </tr>\n",
       "    <tr>\n",
       "      <th>3</th>\n",
       "      <td>3</td>\n",
       "      <td>False</td>\n",
       "      <td>False</td>\n",
       "      <td>False</td>\n",
       "      <td>True</td>\n",
       "      <td>False</td>\n",
       "      <td>False</td>\n",
       "      <td>2</td>\n",
       "      <td>0</td>\n",
       "      <td>2</td>\n",
       "      <td>...</td>\n",
       "      <td>2</td>\n",
       "      <td>1608</td>\n",
       "      <td>275</td>\n",
       "      <td>5</td>\n",
       "      <td>3</td>\n",
       "      <td>74</td>\n",
       "      <td>827967</td>\n",
       "      <td>572323</td>\n",
       "      <td>2020-01-13 18:09:34</td>\n",
       "      <td>0</td>\n",
       "    </tr>\n",
       "    <tr>\n",
       "      <th>4</th>\n",
       "      <td>4</td>\n",
       "      <td>True</td>\n",
       "      <td>True</td>\n",
       "      <td>True</td>\n",
       "      <td>False</td>\n",
       "      <td>False</td>\n",
       "      <td>False</td>\n",
       "      <td>1</td>\n",
       "      <td>3</td>\n",
       "      <td>4</td>\n",
       "      <td>...</td>\n",
       "      <td>2</td>\n",
       "      <td>1608</td>\n",
       "      <td>275</td>\n",
       "      <td>1</td>\n",
       "      <td>4</td>\n",
       "      <td>74</td>\n",
       "      <td>831614</td>\n",
       "      <td>573899</td>\n",
       "      <td>2020-03-09 20:39:22</td>\n",
       "      <td>0</td>\n",
       "    </tr>\n",
       "  </tbody>\n",
       "</table>\n",
       "<p>5 rows × 35 columns</p>\n",
       "</div>"
      ],
      "text/plain": [
       "   id  d_l_match_yn  d_m_match_yn  d_s_match_yn  h_l_match_yn  h_m_match_yn  \\\n",
       "0   0          True          True          True         False         False   \n",
       "1   1         False         False         False          True          True   \n",
       "2   2         False         False         False          True         False   \n",
       "3   3         False         False         False          True         False   \n",
       "4   4          True          True          True         False         False   \n",
       "\n",
       "   h_s_match_yn  person_attribute_a  person_attribute_a_1  person_attribute_b  \\\n",
       "0         False                   1                     4                   3   \n",
       "1         False                   1                     3                   4   \n",
       "2         False                   2                     0                   3   \n",
       "3         False                   2                     0                   2   \n",
       "4         False                   1                     3                   4   \n",
       "\n",
       "   ...  contents_attribute_k  contents_attribute_l  contents_attribute_d  \\\n",
       "0  ...                     2                  1608                   275   \n",
       "1  ...                     2                  1608                   275   \n",
       "2  ...                     1                  1600                    94   \n",
       "3  ...                     2                  1608                   275   \n",
       "4  ...                     2                  1608                   275   \n",
       "\n",
       "   contents_attribute_m  contents_attribute_e  contents_attribute_h  \\\n",
       "0                     1                     4                   139   \n",
       "1                     1                     4                   133   \n",
       "2                     1                     4                    53   \n",
       "3                     5                     3                    74   \n",
       "4                     1                     4                    74   \n",
       "\n",
       "   person_rn  contents_rn     contents_open_dt  target  \n",
       "0     618822       354805  2020-01-17 12:09:36       1  \n",
       "1     571659       346213  2020-06-18 17:48:52       0  \n",
       "2     399816       206408  2020-07-08 20:00:10       0  \n",
       "3     827967       572323  2020-01-13 18:09:34       0  \n",
       "4     831614       573899  2020-03-09 20:39:22       0  \n",
       "\n",
       "[5 rows x 35 columns]"
      ]
     },
     "execution_count": 86,
     "metadata": {},
     "output_type": "execute_result"
    }
   ],
   "source": [
    "train.head()"
   ]
  },
  {
   "cell_type": "code",
   "execution_count": 87,
   "metadata": {},
   "outputs": [
    {
     "data": {
      "text/html": [
       "<div>\n",
       "<style scoped>\n",
       "    .dataframe tbody tr th:only-of-type {\n",
       "        vertical-align: middle;\n",
       "    }\n",
       "\n",
       "    .dataframe tbody tr th {\n",
       "        vertical-align: top;\n",
       "    }\n",
       "\n",
       "    .dataframe thead th {\n",
       "        text-align: right;\n",
       "    }\n",
       "</style>\n",
       "<table border=\"1\" class=\"dataframe\">\n",
       "  <thead>\n",
       "    <tr style=\"text-align: right;\">\n",
       "      <th></th>\n",
       "      <th>id</th>\n",
       "      <th>d_l_match_yn</th>\n",
       "      <th>d_m_match_yn</th>\n",
       "      <th>d_s_match_yn</th>\n",
       "      <th>h_l_match_yn</th>\n",
       "      <th>h_m_match_yn</th>\n",
       "      <th>h_s_match_yn</th>\n",
       "      <th>person_attribute_a</th>\n",
       "      <th>person_attribute_a_1</th>\n",
       "      <th>person_attribute_b</th>\n",
       "      <th>...</th>\n",
       "      <th>contents_attribute_c</th>\n",
       "      <th>contents_attribute_k</th>\n",
       "      <th>contents_attribute_l</th>\n",
       "      <th>contents_attribute_d</th>\n",
       "      <th>contents_attribute_m</th>\n",
       "      <th>contents_attribute_e</th>\n",
       "      <th>contents_attribute_h</th>\n",
       "      <th>person_rn</th>\n",
       "      <th>contents_rn</th>\n",
       "      <th>contents_open_dt</th>\n",
       "    </tr>\n",
       "  </thead>\n",
       "  <tbody>\n",
       "    <tr>\n",
       "      <th>0</th>\n",
       "      <td>0</td>\n",
       "      <td>True</td>\n",
       "      <td>False</td>\n",
       "      <td>False</td>\n",
       "      <td>True</td>\n",
       "      <td>True</td>\n",
       "      <td>True</td>\n",
       "      <td>1</td>\n",
       "      <td>1</td>\n",
       "      <td>2</td>\n",
       "      <td>...</td>\n",
       "      <td>1</td>\n",
       "      <td>2</td>\n",
       "      <td>1147</td>\n",
       "      <td>839</td>\n",
       "      <td>1</td>\n",
       "      <td>5</td>\n",
       "      <td>263</td>\n",
       "      <td>393790</td>\n",
       "      <td>236865</td>\n",
       "      <td>2020-12-01 02:24:18</td>\n",
       "    </tr>\n",
       "    <tr>\n",
       "      <th>1</th>\n",
       "      <td>1</td>\n",
       "      <td>False</td>\n",
       "      <td>False</td>\n",
       "      <td>False</td>\n",
       "      <td>True</td>\n",
       "      <td>False</td>\n",
       "      <td>False</td>\n",
       "      <td>2</td>\n",
       "      <td>0</td>\n",
       "      <td>2</td>\n",
       "      <td>...</td>\n",
       "      <td>1</td>\n",
       "      <td>2</td>\n",
       "      <td>1611</td>\n",
       "      <td>278</td>\n",
       "      <td>1</td>\n",
       "      <td>4</td>\n",
       "      <td>263</td>\n",
       "      <td>394058</td>\n",
       "      <td>236572</td>\n",
       "      <td>2020-12-17 05:42:53</td>\n",
       "    </tr>\n",
       "    <tr>\n",
       "      <th>2</th>\n",
       "      <td>2</td>\n",
       "      <td>True</td>\n",
       "      <td>False</td>\n",
       "      <td>False</td>\n",
       "      <td>True</td>\n",
       "      <td>True</td>\n",
       "      <td>True</td>\n",
       "      <td>2</td>\n",
       "      <td>3</td>\n",
       "      <td>2</td>\n",
       "      <td>...</td>\n",
       "      <td>1</td>\n",
       "      <td>2</td>\n",
       "      <td>1817</td>\n",
       "      <td>490</td>\n",
       "      <td>3</td>\n",
       "      <td>4</td>\n",
       "      <td>177</td>\n",
       "      <td>1002061</td>\n",
       "      <td>704612</td>\n",
       "      <td>2020-12-10 23:33:41</td>\n",
       "    </tr>\n",
       "    <tr>\n",
       "      <th>3</th>\n",
       "      <td>3</td>\n",
       "      <td>True</td>\n",
       "      <td>False</td>\n",
       "      <td>False</td>\n",
       "      <td>True</td>\n",
       "      <td>True</td>\n",
       "      <td>True</td>\n",
       "      <td>1</td>\n",
       "      <td>2</td>\n",
       "      <td>2</td>\n",
       "      <td>...</td>\n",
       "      <td>1</td>\n",
       "      <td>2</td>\n",
       "      <td>101</td>\n",
       "      <td>150</td>\n",
       "      <td>5</td>\n",
       "      <td>3</td>\n",
       "      <td>177</td>\n",
       "      <td>1000813</td>\n",
       "      <td>704652</td>\n",
       "      <td>2020-12-03 19:44:55</td>\n",
       "    </tr>\n",
       "    <tr>\n",
       "      <th>4</th>\n",
       "      <td>4</td>\n",
       "      <td>True</td>\n",
       "      <td>False</td>\n",
       "      <td>False</td>\n",
       "      <td>True</td>\n",
       "      <td>False</td>\n",
       "      <td>False</td>\n",
       "      <td>1</td>\n",
       "      <td>6</td>\n",
       "      <td>4</td>\n",
       "      <td>...</td>\n",
       "      <td>1</td>\n",
       "      <td>1</td>\n",
       "      <td>985</td>\n",
       "      <td>1097</td>\n",
       "      <td>1</td>\n",
       "      <td>4</td>\n",
       "      <td>177</td>\n",
       "      <td>111146</td>\n",
       "      <td>704413</td>\n",
       "      <td>2020-12-11 21:24:34</td>\n",
       "    </tr>\n",
       "  </tbody>\n",
       "</table>\n",
       "<p>5 rows × 34 columns</p>\n",
       "</div>"
      ],
      "text/plain": [
       "   id  d_l_match_yn  d_m_match_yn  d_s_match_yn  h_l_match_yn  h_m_match_yn  \\\n",
       "0   0          True         False         False          True          True   \n",
       "1   1         False         False         False          True         False   \n",
       "2   2          True         False         False          True          True   \n",
       "3   3          True         False         False          True          True   \n",
       "4   4          True         False         False          True         False   \n",
       "\n",
       "   h_s_match_yn  person_attribute_a  person_attribute_a_1  person_attribute_b  \\\n",
       "0          True                   1                     1                   2   \n",
       "1         False                   2                     0                   2   \n",
       "2          True                   2                     3                   2   \n",
       "3          True                   1                     2                   2   \n",
       "4         False                   1                     6                   4   \n",
       "\n",
       "   ...  contents_attribute_c  contents_attribute_k  contents_attribute_l  \\\n",
       "0  ...                     1                     2                  1147   \n",
       "1  ...                     1                     2                  1611   \n",
       "2  ...                     1                     2                  1817   \n",
       "3  ...                     1                     2                   101   \n",
       "4  ...                     1                     1                   985   \n",
       "\n",
       "   contents_attribute_d  contents_attribute_m  contents_attribute_e  \\\n",
       "0                   839                     1                     5   \n",
       "1                   278                     1                     4   \n",
       "2                   490                     3                     4   \n",
       "3                   150                     5                     3   \n",
       "4                  1097                     1                     4   \n",
       "\n",
       "   contents_attribute_h  person_rn  contents_rn     contents_open_dt  \n",
       "0                   263     393790       236865  2020-12-01 02:24:18  \n",
       "1                   263     394058       236572  2020-12-17 05:42:53  \n",
       "2                   177    1002061       704612  2020-12-10 23:33:41  \n",
       "3                   177    1000813       704652  2020-12-03 19:44:55  \n",
       "4                   177     111146       704413  2020-12-11 21:24:34  \n",
       "\n",
       "[5 rows x 34 columns]"
      ]
     },
     "execution_count": 87,
     "metadata": {},
     "output_type": "execute_result"
    }
   ],
   "source": [
    "test.head()"
   ]
  },
  {
   "cell_type": "code",
   "execution_count": 88,
   "metadata": {},
   "outputs": [
    {
     "name": "stdout",
     "output_type": "stream",
     "text": [
      "train.shape:  (501951, 59)\n",
      "test.shape:  (46404, 58)\n"
     ]
    }
   ],
   "source": [
    "def add_code(df, d_code, h_code, l_code):\n",
    "    df = df.copy()   \n",
    "\n",
    "    # D Code\n",
    "    df['person_prefer_d_1_n'] = df['person_prefer_d_1'].apply(lambda x: d_code[x]['속성 D 세분류코드'])\n",
    "    df['person_prefer_d_1_s'] = df['person_prefer_d_1'].apply(lambda x: d_code[x]['속성 D 소분류코드'])\n",
    "    df['person_prefer_d_1_m'] = df['person_prefer_d_1'].apply(lambda x: d_code[x]['속성 D 중분류코드'])\n",
    "    df['person_prefer_d_1_l'] = df['person_prefer_d_1'].apply(lambda x: d_code[x]['속성 D 대분류코드'])\n",
    "\n",
    "    df['person_prefer_d_2_n'] = df['person_prefer_d_2'].apply(lambda x: d_code[x]['속성 D 세분류코드'])\n",
    "    df['person_prefer_d_2_s'] = df['person_prefer_d_2'].apply(lambda x: d_code[x]['속성 D 소분류코드'])\n",
    "    df['person_prefer_d_2_m'] = df['person_prefer_d_2'].apply(lambda x: d_code[x]['속성 D 중분류코드'])\n",
    "    df['person_prefer_d_2_l'] = df['person_prefer_d_2'].apply(lambda x: d_code[x]['속성 D 대분류코드'])\n",
    "\n",
    "    df['person_prefer_d_3_n'] = df['person_prefer_d_3'].apply(lambda x: d_code[x]['속성 D 세분류코드'])\n",
    "    df['person_prefer_d_3_s'] = df['person_prefer_d_3'].apply(lambda x: d_code[x]['속성 D 소분류코드'])\n",
    "    df['person_prefer_d_3_m'] = df['person_prefer_d_3'].apply(lambda x: d_code[x]['속성 D 중분류코드'])\n",
    "    df['person_prefer_d_3_l'] = df['person_prefer_d_3'].apply(lambda x: d_code[x]['속성 D 대분류코드'])\n",
    "\n",
    "    df['contents_attribute_d_n'] = df['contents_attribute_d'].apply(lambda x: d_code[x]['속성 D 세분류코드'])\n",
    "    df['contents_attribute_d_s'] = df['contents_attribute_d'].apply(lambda x: d_code[x]['속성 D 소분류코드'])\n",
    "    df['contents_attribute_d_m'] = df['contents_attribute_d'].apply(lambda x: d_code[x]['속성 D 중분류코드'])\n",
    "    df['contents_attribute_d_l'] = df['contents_attribute_d'].apply(lambda x: d_code[x]['속성 D 대분류코드'])\n",
    "\n",
    "    # H Code\n",
    "    df['person_prefer_h_1_u'] = df['person_prefer_h_1'].apply(lambda x: h_code[x]['속성 H 상위코드'])\n",
    "    df['person_prefer_h_2_u'] = df['person_prefer_h_2'].apply(lambda x: h_code[x]['속성 H 상위코드'])\n",
    "    df['person_prefer_h_3_u'] = df['person_prefer_h_3'].apply(lambda x: h_code[x]['속성 H 상위코드'])\n",
    "    df['contents_attribute_h_u'] = df['contents_attribute_h'].apply(lambda x: h_code[x]['속성 H 상위코드'])\n",
    "\n",
    "    # L Code\n",
    "    df['contents_attribute_l_n'] = df['contents_attribute_l'].apply(lambda x: l_code[x]['속성 L 세분류코드'])\n",
    "    df['contents_attribute_l_s'] = df['contents_attribute_l'].apply(lambda x: l_code[x]['속성 L 소분류코드'])\n",
    "    df['contents_attribute_l_m'] = df['contents_attribute_l'].apply(lambda x: l_code[x]['속성 L 중분류코드'])\n",
    "    df['contents_attribute_l_l'] = df['contents_attribute_l'].apply(lambda x: l_code[x]['속성 L 대분류코드'])\n",
    "    return df\n",
    "\n",
    "train = add_code(train, d_code, h_code, l_code)\n",
    "test = add_code(test, d_code, h_code, l_code)\n",
    "print(\"train.shape: \", train.shape)\n",
    "print(\"test.shape: \", test.shape)"
   ]
  },
  {
   "cell_type": "code",
   "execution_count": 89,
   "metadata": {},
   "outputs": [
    {
     "data": {
      "text/html": [
       "<div>\n",
       "<style scoped>\n",
       "    .dataframe tbody tr th:only-of-type {\n",
       "        vertical-align: middle;\n",
       "    }\n",
       "\n",
       "    .dataframe tbody tr th {\n",
       "        vertical-align: top;\n",
       "    }\n",
       "\n",
       "    .dataframe thead th {\n",
       "        text-align: right;\n",
       "    }\n",
       "</style>\n",
       "<table border=\"1\" class=\"dataframe\">\n",
       "  <thead>\n",
       "    <tr style=\"text-align: right;\">\n",
       "      <th></th>\n",
       "      <th>id</th>\n",
       "      <th>d_l_match_yn</th>\n",
       "      <th>d_m_match_yn</th>\n",
       "      <th>d_s_match_yn</th>\n",
       "      <th>h_l_match_yn</th>\n",
       "      <th>h_m_match_yn</th>\n",
       "      <th>h_s_match_yn</th>\n",
       "      <th>person_attribute_a</th>\n",
       "      <th>person_attribute_a_1</th>\n",
       "      <th>person_attribute_b</th>\n",
       "      <th>...</th>\n",
       "      <th>contents_attribute_d_m</th>\n",
       "      <th>contents_attribute_d_l</th>\n",
       "      <th>person_prefer_h_1_u</th>\n",
       "      <th>person_prefer_h_2_u</th>\n",
       "      <th>person_prefer_h_3_u</th>\n",
       "      <th>contents_attribute_h_u</th>\n",
       "      <th>contents_attribute_l_n</th>\n",
       "      <th>contents_attribute_l_s</th>\n",
       "      <th>contents_attribute_l_m</th>\n",
       "      <th>contents_attribute_l_l</th>\n",
       "    </tr>\n",
       "  </thead>\n",
       "  <tbody>\n",
       "    <tr>\n",
       "      <th>0</th>\n",
       "      <td>0</td>\n",
       "      <td>True</td>\n",
       "      <td>True</td>\n",
       "      <td>True</td>\n",
       "      <td>False</td>\n",
       "      <td>False</td>\n",
       "      <td>False</td>\n",
       "      <td>1</td>\n",
       "      <td>4</td>\n",
       "      <td>3</td>\n",
       "      <td>...</td>\n",
       "      <td>274.0</td>\n",
       "      <td>216.0</td>\n",
       "      <td>3</td>\n",
       "      <td>94</td>\n",
       "      <td>58</td>\n",
       "      <td>94</td>\n",
       "      <td>1607</td>\n",
       "      <td>1606</td>\n",
       "      <td>1605</td>\n",
       "      <td>2016</td>\n",
       "    </tr>\n",
       "    <tr>\n",
       "      <th>1</th>\n",
       "      <td>1</td>\n",
       "      <td>False</td>\n",
       "      <td>False</td>\n",
       "      <td>False</td>\n",
       "      <td>True</td>\n",
       "      <td>True</td>\n",
       "      <td>False</td>\n",
       "      <td>1</td>\n",
       "      <td>3</td>\n",
       "      <td>4</td>\n",
       "      <td>...</td>\n",
       "      <td>274.0</td>\n",
       "      <td>216.0</td>\n",
       "      <td>94</td>\n",
       "      <td>94</td>\n",
       "      <td>94</td>\n",
       "      <td>94</td>\n",
       "      <td>1607</td>\n",
       "      <td>1606</td>\n",
       "      <td>1605</td>\n",
       "      <td>2016</td>\n",
       "    </tr>\n",
       "    <tr>\n",
       "      <th>2</th>\n",
       "      <td>2</td>\n",
       "      <td>False</td>\n",
       "      <td>False</td>\n",
       "      <td>False</td>\n",
       "      <td>True</td>\n",
       "      <td>False</td>\n",
       "      <td>False</td>\n",
       "      <td>2</td>\n",
       "      <td>0</td>\n",
       "      <td>3</td>\n",
       "      <td>...</td>\n",
       "      <td>91.0</td>\n",
       "      <td>1.0</td>\n",
       "      <td>48</td>\n",
       "      <td>250</td>\n",
       "      <td>48</td>\n",
       "      <td>48</td>\n",
       "      <td>1599</td>\n",
       "      <td>1595</td>\n",
       "      <td>1572</td>\n",
       "      <td>2016</td>\n",
       "    </tr>\n",
       "    <tr>\n",
       "      <th>3</th>\n",
       "      <td>3</td>\n",
       "      <td>False</td>\n",
       "      <td>False</td>\n",
       "      <td>False</td>\n",
       "      <td>True</td>\n",
       "      <td>False</td>\n",
       "      <td>False</td>\n",
       "      <td>2</td>\n",
       "      <td>0</td>\n",
       "      <td>2</td>\n",
       "      <td>...</td>\n",
       "      <td>274.0</td>\n",
       "      <td>216.0</td>\n",
       "      <td>71</td>\n",
       "      <td>226</td>\n",
       "      <td>1</td>\n",
       "      <td>71</td>\n",
       "      <td>1607</td>\n",
       "      <td>1606</td>\n",
       "      <td>1605</td>\n",
       "      <td>2016</td>\n",
       "    </tr>\n",
       "    <tr>\n",
       "      <th>4</th>\n",
       "      <td>4</td>\n",
       "      <td>True</td>\n",
       "      <td>True</td>\n",
       "      <td>True</td>\n",
       "      <td>False</td>\n",
       "      <td>False</td>\n",
       "      <td>False</td>\n",
       "      <td>1</td>\n",
       "      <td>3</td>\n",
       "      <td>4</td>\n",
       "      <td>...</td>\n",
       "      <td>274.0</td>\n",
       "      <td>216.0</td>\n",
       "      <td>208</td>\n",
       "      <td>208</td>\n",
       "      <td>208</td>\n",
       "      <td>71</td>\n",
       "      <td>1607</td>\n",
       "      <td>1606</td>\n",
       "      <td>1605</td>\n",
       "      <td>2016</td>\n",
       "    </tr>\n",
       "  </tbody>\n",
       "</table>\n",
       "<p>5 rows × 59 columns</p>\n",
       "</div>"
      ],
      "text/plain": [
       "   id  d_l_match_yn  d_m_match_yn  d_s_match_yn  h_l_match_yn  h_m_match_yn  \\\n",
       "0   0          True          True          True         False         False   \n",
       "1   1         False         False         False          True          True   \n",
       "2   2         False         False         False          True         False   \n",
       "3   3         False         False         False          True         False   \n",
       "4   4          True          True          True         False         False   \n",
       "\n",
       "   h_s_match_yn  person_attribute_a  person_attribute_a_1  person_attribute_b  \\\n",
       "0         False                   1                     4                   3   \n",
       "1         False                   1                     3                   4   \n",
       "2         False                   2                     0                   3   \n",
       "3         False                   2                     0                   2   \n",
       "4         False                   1                     3                   4   \n",
       "\n",
       "   ...  contents_attribute_d_m  contents_attribute_d_l  person_prefer_h_1_u  \\\n",
       "0  ...                   274.0                   216.0                    3   \n",
       "1  ...                   274.0                   216.0                   94   \n",
       "2  ...                    91.0                     1.0                   48   \n",
       "3  ...                   274.0                   216.0                   71   \n",
       "4  ...                   274.0                   216.0                  208   \n",
       "\n",
       "   person_prefer_h_2_u  person_prefer_h_3_u  contents_attribute_h_u  \\\n",
       "0                   94                   58                      94   \n",
       "1                   94                   94                      94   \n",
       "2                  250                   48                      48   \n",
       "3                  226                    1                      71   \n",
       "4                  208                  208                      71   \n",
       "\n",
       "   contents_attribute_l_n  contents_attribute_l_s  contents_attribute_l_m  \\\n",
       "0                    1607                    1606                    1605   \n",
       "1                    1607                    1606                    1605   \n",
       "2                    1599                    1595                    1572   \n",
       "3                    1607                    1606                    1605   \n",
       "4                    1607                    1606                    1605   \n",
       "\n",
       "   contents_attribute_l_l  \n",
       "0                    2016  \n",
       "1                    2016  \n",
       "2                    2016  \n",
       "3                    2016  \n",
       "4                    2016  \n",
       "\n",
       "[5 rows x 59 columns]"
      ]
     },
     "execution_count": 89,
     "metadata": {},
     "output_type": "execute_result"
    }
   ],
   "source": [
    "train.head()"
   ]
  },
  {
   "cell_type": "markdown",
   "metadata": {},
   "source": []
  },
  {
   "cell_type": "code",
   "execution_count": 90,
   "metadata": {},
   "outputs": [
    {
     "name": "stdout",
     "output_type": "stream",
     "text": [
      "train_data.shape:  (501951, 61)\n",
      "test_data.shape:  (46404, 60)\n"
     ]
    }
   ],
   "source": [
    "def preprocessing_contents_open_dt(data):\n",
    "    data['contents_open_dt'] = data['contents_open_dt'].astype('str')\n",
    "    DATE = data['contents_open_dt'].apply(lambda x: datetime.strptime(x, '%Y-%m-%d %H:%M:%S'))\n",
    "    \n",
    "    DATE = pd.DataFrame(DATE)\n",
    "    DATE = DATE.rename(columns = {'contents_open_dt': 'date'})\n",
    "    \n",
    "    DATE['Y'] = DATE['date'].apply(lambda x: x.timetuple()[0])\n",
    "    DATE['M'] = DATE['date'].apply(lambda x: x.timetuple()[1])\n",
    "    DATE['D'] = DATE['date'].apply(lambda x: x.timetuple()[2])\n",
    "    DATE['id'] = data['id']\n",
    "    \n",
    "    data = data.merge(DATE, on = 'id', how = 'left')\n",
    "    data = data.drop(columns = ['date', 'contents_open_dt'])\n",
    "    return data\n",
    "\n",
    "train = preprocessing_contents_open_dt(train)\n",
    "test = preprocessing_contents_open_dt(test)\n",
    "\n",
    "# 안전하게 확인하고 넘어 갑시다. \n",
    "train_labels = train['target']\n",
    "train, test = train.align(test, join = 'inner', axis = 1)\n",
    "train['target'] = train_labels\n",
    "print(\"train_data.shape: \", train.shape)\n",
    "print(\"test_data.shape: \", test.shape)"
   ]
  },
  {
   "cell_type": "code",
   "execution_count": 91,
   "metadata": {},
   "outputs": [],
   "source": [
    "plt.style.use('fivethirtyeight')\n",
    "sns.set_theme(style=\"whitegrid\")\n",
    "warnings.filterwarnings('ignore')"
   ]
  },
  {
   "cell_type": "code",
   "execution_count": 95,
   "metadata": {},
   "outputs": [],
   "source": [
    "job= train.copy()\n",
    "job_test = test.copy()"
   ]
  },
  {
   "cell_type": "code",
   "execution_count": 96,
   "metadata": {},
   "outputs": [
    {
     "name": "stdout",
     "output_type": "stream",
     "text": [
      "0    251106\n",
      "1    250845\n",
      "Name: target, dtype: int64\n"
     ]
    },
    {
     "data": {
      "text/plain": [
       "<AxesSubplot:title={'center':'Distribution of target'}, ylabel='Frequency'>"
      ]
     },
     "execution_count": 96,
     "metadata": {},
     "output_type": "execute_result"
    },
    {
     "data": {
      "image/png": "[encoded data removed]",
      "text/plain": [
       "<Figure size 432x288 with 1 Axes>"
      ]
     },
     "metadata": {},
     "output_type": "display_data"
    }
   ],
   "source": [
    "print(job['target'].value_counts())\n",
    "job['target'].plot.hist(title='Distribution of target')"
   ]
  },
  {
   "cell_type": "code",
   "execution_count": 99,
   "metadata": {},
   "outputs": [
    {
     "name": "stdout",
     "output_type": "stream",
     "text": [
      "데이터 결측치값:\n",
      "False    61\n",
      "Name: val_mis_bool, dtype: int64\n"
     ]
    },
    {
     "data": {
      "text/plain": [
       "<AxesSubplot:title={'center':'Distribution of missing values'}, ylabel='Frequency'>"
      ]
     },
     "execution_count": 99,
     "metadata": {},
     "output_type": "execute_result"
    },
    {
     "data": {
      "image/png": "[encoded data removed]",
      "text/plain": [
       "<Figure size 432x288 with 1 Axes>"
      ]
     },
     "metadata": {},
     "output_type": "display_data"
    }
   ],
   "source": [
    "val_mis = job.isnull().sum()\n",
    "val_mis_bool = val_mis>=1\n",
    "\n",
    "val_mis_df=pd.concat([val_mis, val_mis_bool], axis=1)\n",
    "val_mis_df= val_mis_df.rename(columns ={0:'val_mis', 1:'val_mis_bool'})\n",
    "\n",
    "print('데이터 결측치값:')\n",
    "print(val_mis_df['val_mis_bool'].value_counts())\n",
    "\n",
    "val_mis_df['val_mis_bool'].astype(int).plot.hist(title = 'Distribution of missing values')"
   ]
  },
  {
   "cell_type": "code",
   "execution_count": 100,
   "metadata": {},
   "outputs": [
    {
     "data": {
      "text/plain": [
       "int64      39\n",
       "float64    16\n",
       "bool        6\n",
       "dtype: int64"
      ]
     },
     "execution_count": 100,
     "metadata": {},
     "output_type": "execute_result"
    }
   ],
   "source": [
    "job.dtypes.value_counts()"
   ]
  },
  {
   "cell_type": "code",
   "execution_count": 101,
   "metadata": {},
   "outputs": [
    {
     "data": {
      "text/plain": [
       "id                        501951\n",
       "person_attribute_a             2\n",
       "person_attribute_a_1           8\n",
       "person_attribute_b             6\n",
       "person_prefer_c                5\n",
       "person_prefer_d_1           1093\n",
       "person_prefer_d_2           1081\n",
       "person_prefer_d_3           1043\n",
       "person_prefer_e               12\n",
       "person_prefer_f                1\n",
       "person_prefer_g                1\n",
       "person_prefer_h_1            279\n",
       "person_prefer_h_2            279\n",
       "person_prefer_h_3            279\n",
       "contents_attribute_i           3\n",
       "contents_attribute_a           3\n",
       "contents_attribute_j_1         9\n",
       "contents_attribute_j           2\n",
       "contents_attribute_c           4\n",
       "contents_attribute_k           2\n",
       "contents_attribute_l        1752\n",
       "contents_attribute_d        1065\n",
       "contents_attribute_m           5\n",
       "contents_attribute_e          12\n",
       "contents_attribute_h         250\n",
       "person_rn                 300177\n",
       "contents_rn               283359\n",
       "person_prefer_h_1_u           19\n",
       "person_prefer_h_2_u           19\n",
       "person_prefer_h_3_u           19\n",
       "contents_attribute_h_u        17\n",
       "contents_attribute_l_n       736\n",
       "contents_attribute_l_s       305\n",
       "contents_attribute_l_m        79\n",
       "contents_attribute_l_l        21\n",
       "Y                              1\n",
       "M                             11\n",
       "D                             31\n",
       "target                         2\n",
       "dtype: int64"
      ]
     },
     "execution_count": 101,
     "metadata": {},
     "output_type": "execute_result"
    }
   ],
   "source": [
    "job.select_dtypes('int64').apply(pd.Series.nunique, axis=0)"
   ]
  },
  {
   "cell_type": "code",
   "execution_count": 102,
   "metadata": {},
   "outputs": [
    {
     "data": {
      "text/plain": [
       "person_prefer_d_1_n       443\n",
       "person_prefer_d_1_s        36\n",
       "person_prefer_d_1_m       137\n",
       "person_prefer_d_1_l        11\n",
       "person_prefer_d_2_n       435\n",
       "person_prefer_d_2_s        36\n",
       "person_prefer_d_2_m       137\n",
       "person_prefer_d_2_l        11\n",
       "person_prefer_d_3_n       420\n",
       "person_prefer_d_3_s        36\n",
       "person_prefer_d_3_m       136\n",
       "person_prefer_d_3_l        11\n",
       "contents_attribute_d_n    431\n",
       "contents_attribute_d_s     36\n",
       "contents_attribute_d_m    137\n",
       "contents_attribute_d_l     11\n",
       "dtype: int64"
      ]
     },
     "execution_count": 102,
     "metadata": {},
     "output_type": "execute_result"
    }
   ],
   "source": [
    "job.select_dtypes('float64').apply(pd.Series.nunique, axis=0)"
   ]
  },
  {
   "cell_type": "code",
   "execution_count": 110,
   "metadata": {},
   "outputs": [
    {
     "data": {
      "text/html": [
       "<style type=\"text/css\">\n",
       "#T_b3cdc_row0_col0, #T_b3cdc_row3_col1, #T_b3cdc_row4_col0, #T_b3cdc_row7_col1, #T_b3cdc_row8_col0, #T_b3cdc_row11_col1, #T_b3cdc_row12_col0, #T_b3cdc_row15_col1 {\n",
       "  background-color: #fcbba1;\n",
       "  color: #000000;\n",
       "}\n",
       "#T_b3cdc_row0_col1, #T_b3cdc_row0_col2, #T_b3cdc_row0_col3, #T_b3cdc_row0_col4, #T_b3cdc_row0_col5, #T_b3cdc_row0_col6, #T_b3cdc_row0_col7, #T_b3cdc_row0_col8, #T_b3cdc_row1_col0, #T_b3cdc_row1_col1, #T_b3cdc_row1_col2, #T_b3cdc_row1_col4, #T_b3cdc_row1_col5, #T_b3cdc_row1_col6, #T_b3cdc_row1_col7, #T_b3cdc_row1_col8, #T_b3cdc_row2_col0, #T_b3cdc_row2_col1, #T_b3cdc_row2_col2, #T_b3cdc_row2_col3, #T_b3cdc_row2_col4, #T_b3cdc_row2_col6, #T_b3cdc_row2_col7, #T_b3cdc_row2_col8, #T_b3cdc_row3_col0, #T_b3cdc_row3_col2, #T_b3cdc_row3_col3, #T_b3cdc_row3_col4, #T_b3cdc_row3_col5, #T_b3cdc_row3_col6, #T_b3cdc_row3_col7, #T_b3cdc_row3_col8, #T_b3cdc_row4_col1, #T_b3cdc_row4_col2, #T_b3cdc_row4_col3, #T_b3cdc_row4_col4, #T_b3cdc_row4_col5, #T_b3cdc_row4_col6, #T_b3cdc_row4_col7, #T_b3cdc_row4_col8, #T_b3cdc_row5_col0, #T_b3cdc_row5_col1, #T_b3cdc_row5_col2, #T_b3cdc_row5_col4, #T_b3cdc_row5_col5, #T_b3cdc_row5_col6, #T_b3cdc_row5_col7, #T_b3cdc_row5_col8, #T_b3cdc_row6_col0, #T_b3cdc_row6_col1, #T_b3cdc_row6_col2, #T_b3cdc_row6_col3, #T_b3cdc_row6_col4, #T_b3cdc_row6_col5, #T_b3cdc_row6_col6, #T_b3cdc_row6_col8, #T_b3cdc_row7_col0, #T_b3cdc_row7_col2, #T_b3cdc_row7_col3, #T_b3cdc_row7_col4, #T_b3cdc_row7_col5, #T_b3cdc_row7_col6, #T_b3cdc_row7_col7, #T_b3cdc_row7_col8, #T_b3cdc_row8_col1, #T_b3cdc_row8_col2, #T_b3cdc_row8_col3, #T_b3cdc_row8_col4, #T_b3cdc_row8_col5, #T_b3cdc_row8_col6, #T_b3cdc_row8_col7, #T_b3cdc_row8_col8, #T_b3cdc_row9_col0, #T_b3cdc_row9_col1, #T_b3cdc_row9_col2, #T_b3cdc_row9_col4, #T_b3cdc_row9_col5, #T_b3cdc_row9_col6, #T_b3cdc_row9_col7, #T_b3cdc_row9_col8, #T_b3cdc_row10_col0, #T_b3cdc_row10_col1, #T_b3cdc_row10_col2, #T_b3cdc_row10_col3, #T_b3cdc_row10_col4, #T_b3cdc_row10_col5, #T_b3cdc_row10_col7, #T_b3cdc_row10_col8, #T_b3cdc_row11_col0, #T_b3cdc_row11_col2, #T_b3cdc_row11_col3, #T_b3cdc_row11_col4, #T_b3cdc_row11_col5, #T_b3cdc_row11_col6, #T_b3cdc_row11_col7, #T_b3cdc_row11_col8, #T_b3cdc_row12_col1, #T_b3cdc_row12_col2, #T_b3cdc_row12_col3, #T_b3cdc_row12_col4, #T_b3cdc_row12_col5, #T_b3cdc_row12_col6, #T_b3cdc_row12_col7, #T_b3cdc_row12_col8, #T_b3cdc_row13_col0, #T_b3cdc_row13_col1, #T_b3cdc_row13_col3, #T_b3cdc_row13_col4, #T_b3cdc_row13_col5, #T_b3cdc_row13_col6, #T_b3cdc_row13_col7, #T_b3cdc_row13_col8, #T_b3cdc_row14_col0, #T_b3cdc_row14_col1, #T_b3cdc_row14_col2, #T_b3cdc_row14_col3, #T_b3cdc_row14_col5, #T_b3cdc_row14_col6, #T_b3cdc_row14_col7, #T_b3cdc_row14_col8, #T_b3cdc_row15_col0, #T_b3cdc_row15_col2, #T_b3cdc_row15_col3, #T_b3cdc_row15_col4, #T_b3cdc_row15_col5, #T_b3cdc_row15_col6, #T_b3cdc_row15_col7, #T_b3cdc_row15_col8 {\n",
       "  background-color: #fff5f0;\n",
       "  color: #000000;\n",
       "}\n",
       "#T_b3cdc_row1_col3, #T_b3cdc_row5_col3, #T_b3cdc_row9_col3 {\n",
       "  background-color: #fca082;\n",
       "  color: #000000;\n",
       "}\n",
       "#T_b3cdc_row2_col5, #T_b3cdc_row6_col7, #T_b3cdc_row10_col6, #T_b3cdc_row13_col2, #T_b3cdc_row14_col4, #T_b3cdc_row16_col0, #T_b3cdc_row16_col1, #T_b3cdc_row16_col2, #T_b3cdc_row16_col3, #T_b3cdc_row16_col4, #T_b3cdc_row16_col5, #T_b3cdc_row16_col6, #T_b3cdc_row16_col7, #T_b3cdc_row16_col8 {\n",
       "  background-color: #67000d;\n",
       "  color: #f1f1f1;\n",
       "}\n",
       "</style>\n",
       "<table id=\"T_b3cdc_\">\n",
       "  <thead>\n",
       "    <tr>\n",
       "      <th class=\"index_name level0\" >col_0</th>\n",
       "      <th class=\"col_heading level0 col0\" >11</th>\n",
       "      <th class=\"col_heading level0 col1\" >36</th>\n",
       "      <th class=\"col_heading level0 col2\" >136</th>\n",
       "      <th class=\"col_heading level0 col3\" >137</th>\n",
       "      <th class=\"col_heading level0 col4\" >420</th>\n",
       "      <th class=\"col_heading level0 col5\" >431</th>\n",
       "      <th class=\"col_heading level0 col6\" >435</th>\n",
       "      <th class=\"col_heading level0 col7\" >443</th>\n",
       "      <th class=\"col_heading level0 col8\" >All</th>\n",
       "    </tr>\n",
       "    <tr>\n",
       "      <th class=\"index_name level0\" >row_0</th>\n",
       "      <th class=\"blank col0\" >&nbsp;</th>\n",
       "      <th class=\"blank col1\" >&nbsp;</th>\n",
       "      <th class=\"blank col2\" >&nbsp;</th>\n",
       "      <th class=\"blank col3\" >&nbsp;</th>\n",
       "      <th class=\"blank col4\" >&nbsp;</th>\n",
       "      <th class=\"blank col5\" >&nbsp;</th>\n",
       "      <th class=\"blank col6\" >&nbsp;</th>\n",
       "      <th class=\"blank col7\" >&nbsp;</th>\n",
       "      <th class=\"blank col8\" >&nbsp;</th>\n",
       "    </tr>\n",
       "  </thead>\n",
       "  <tbody>\n",
       "    <tr>\n",
       "      <th id=\"T_b3cdc_level0_row0\" class=\"row_heading level0 row0\" >contents_attribute_d_l</th>\n",
       "      <td id=\"T_b3cdc_row0_col0\" class=\"data row0 col0\" >1</td>\n",
       "      <td id=\"T_b3cdc_row0_col1\" class=\"data row0 col1\" >0</td>\n",
       "      <td id=\"T_b3cdc_row0_col2\" class=\"data row0 col2\" >0</td>\n",
       "      <td id=\"T_b3cdc_row0_col3\" class=\"data row0 col3\" >0</td>\n",
       "      <td id=\"T_b3cdc_row0_col4\" class=\"data row0 col4\" >0</td>\n",
       "      <td id=\"T_b3cdc_row0_col5\" class=\"data row0 col5\" >0</td>\n",
       "      <td id=\"T_b3cdc_row0_col6\" class=\"data row0 col6\" >0</td>\n",
       "      <td id=\"T_b3cdc_row0_col7\" class=\"data row0 col7\" >0</td>\n",
       "      <td id=\"T_b3cdc_row0_col8\" class=\"data row0 col8\" >1</td>\n",
       "    </tr>\n",
       "    <tr>\n",
       "      <th id=\"T_b3cdc_level0_row1\" class=\"row_heading level0 row1\" >contents_attribute_d_m</th>\n",
       "      <td id=\"T_b3cdc_row1_col0\" class=\"data row1 col0\" >0</td>\n",
       "      <td id=\"T_b3cdc_row1_col1\" class=\"data row1 col1\" >0</td>\n",
       "      <td id=\"T_b3cdc_row1_col2\" class=\"data row1 col2\" >0</td>\n",
       "      <td id=\"T_b3cdc_row1_col3\" class=\"data row1 col3\" >1</td>\n",
       "      <td id=\"T_b3cdc_row1_col4\" class=\"data row1 col4\" >0</td>\n",
       "      <td id=\"T_b3cdc_row1_col5\" class=\"data row1 col5\" >0</td>\n",
       "      <td id=\"T_b3cdc_row1_col6\" class=\"data row1 col6\" >0</td>\n",
       "      <td id=\"T_b3cdc_row1_col7\" class=\"data row1 col7\" >0</td>\n",
       "      <td id=\"T_b3cdc_row1_col8\" class=\"data row1 col8\" >1</td>\n",
       "    </tr>\n",
       "    <tr>\n",
       "      <th id=\"T_b3cdc_level0_row2\" class=\"row_heading level0 row2\" >contents_attribute_d_n</th>\n",
       "      <td id=\"T_b3cdc_row2_col0\" class=\"data row2 col0\" >0</td>\n",
       "      <td id=\"T_b3cdc_row2_col1\" class=\"data row2 col1\" >0</td>\n",
       "      <td id=\"T_b3cdc_row2_col2\" class=\"data row2 col2\" >0</td>\n",
       "      <td id=\"T_b3cdc_row2_col3\" class=\"data row2 col3\" >0</td>\n",
       "      <td id=\"T_b3cdc_row2_col4\" class=\"data row2 col4\" >0</td>\n",
       "      <td id=\"T_b3cdc_row2_col5\" class=\"data row2 col5\" >1</td>\n",
       "      <td id=\"T_b3cdc_row2_col6\" class=\"data row2 col6\" >0</td>\n",
       "      <td id=\"T_b3cdc_row2_col7\" class=\"data row2 col7\" >0</td>\n",
       "      <td id=\"T_b3cdc_row2_col8\" class=\"data row2 col8\" >1</td>\n",
       "    </tr>\n",
       "    <tr>\n",
       "      <th id=\"T_b3cdc_level0_row3\" class=\"row_heading level0 row3\" >contents_attribute_d_s</th>\n",
       "      <td id=\"T_b3cdc_row3_col0\" class=\"data row3 col0\" >0</td>\n",
       "      <td id=\"T_b3cdc_row3_col1\" class=\"data row3 col1\" >1</td>\n",
       "      <td id=\"T_b3cdc_row3_col2\" class=\"data row3 col2\" >0</td>\n",
       "      <td id=\"T_b3cdc_row3_col3\" class=\"data row3 col3\" >0</td>\n",
       "      <td id=\"T_b3cdc_row3_col4\" class=\"data row3 col4\" >0</td>\n",
       "      <td id=\"T_b3cdc_row3_col5\" class=\"data row3 col5\" >0</td>\n",
       "      <td id=\"T_b3cdc_row3_col6\" class=\"data row3 col6\" >0</td>\n",
       "      <td id=\"T_b3cdc_row3_col7\" class=\"data row3 col7\" >0</td>\n",
       "      <td id=\"T_b3cdc_row3_col8\" class=\"data row3 col8\" >1</td>\n",
       "    </tr>\n",
       "    <tr>\n",
       "      <th id=\"T_b3cdc_level0_row4\" class=\"row_heading level0 row4\" >person_prefer_d_1_l</th>\n",
       "      <td id=\"T_b3cdc_row4_col0\" class=\"data row4 col0\" >1</td>\n",
       "      <td id=\"T_b3cdc_row4_col1\" class=\"data row4 col1\" >0</td>\n",
       "      <td id=\"T_b3cdc_row4_col2\" class=\"data row4 col2\" >0</td>\n",
       "      <td id=\"T_b3cdc_row4_col3\" class=\"data row4 col3\" >0</td>\n",
       "      <td id=\"T_b3cdc_row4_col4\" class=\"data row4 col4\" >0</td>\n",
       "      <td id=\"T_b3cdc_row4_col5\" class=\"data row4 col5\" >0</td>\n",
       "      <td id=\"T_b3cdc_row4_col6\" class=\"data row4 col6\" >0</td>\n",
       "      <td id=\"T_b3cdc_row4_col7\" class=\"data row4 col7\" >0</td>\n",
       "      <td id=\"T_b3cdc_row4_col8\" class=\"data row4 col8\" >1</td>\n",
       "    </tr>\n",
       "    <tr>\n",
       "      <th id=\"T_b3cdc_level0_row5\" class=\"row_heading level0 row5\" >person_prefer_d_1_m</th>\n",
       "      <td id=\"T_b3cdc_row5_col0\" class=\"data row5 col0\" >0</td>\n",
       "      <td id=\"T_b3cdc_row5_col1\" class=\"data row5 col1\" >0</td>\n",
       "      <td id=\"T_b3cdc_row5_col2\" class=\"data row5 col2\" >0</td>\n",
       "      <td id=\"T_b3cdc_row5_col3\" class=\"data row5 col3\" >1</td>\n",
       "      <td id=\"T_b3cdc_row5_col4\" class=\"data row5 col4\" >0</td>\n",
       "      <td id=\"T_b3cdc_row5_col5\" class=\"data row5 col5\" >0</td>\n",
       "      <td id=\"T_b3cdc_row5_col6\" class=\"data row5 col6\" >0</td>\n",
       "      <td id=\"T_b3cdc_row5_col7\" class=\"data row5 col7\" >0</td>\n",
       "      <td id=\"T_b3cdc_row5_col8\" class=\"data row5 col8\" >1</td>\n",
       "    </tr>\n",
       "    <tr>\n",
       "      <th id=\"T_b3cdc_level0_row6\" class=\"row_heading level0 row6\" >person_prefer_d_1_n</th>\n",
       "      <td id=\"T_b3cdc_row6_col0\" class=\"data row6 col0\" >0</td>\n",
       "      <td id=\"T_b3cdc_row6_col1\" class=\"data row6 col1\" >0</td>\n",
       "      <td id=\"T_b3cdc_row6_col2\" class=\"data row6 col2\" >0</td>\n",
       "      <td id=\"T_b3cdc_row6_col3\" class=\"data row6 col3\" >0</td>\n",
       "      <td id=\"T_b3cdc_row6_col4\" class=\"data row6 col4\" >0</td>\n",
       "      <td id=\"T_b3cdc_row6_col5\" class=\"data row6 col5\" >0</td>\n",
       "      <td id=\"T_b3cdc_row6_col6\" class=\"data row6 col6\" >0</td>\n",
       "      <td id=\"T_b3cdc_row6_col7\" class=\"data row6 col7\" >1</td>\n",
       "      <td id=\"T_b3cdc_row6_col8\" class=\"data row6 col8\" >1</td>\n",
       "    </tr>\n",
       "    <tr>\n",
       "      <th id=\"T_b3cdc_level0_row7\" class=\"row_heading level0 row7\" >person_prefer_d_1_s</th>\n",
       "      <td id=\"T_b3cdc_row7_col0\" class=\"data row7 col0\" >0</td>\n",
       "      <td id=\"T_b3cdc_row7_col1\" class=\"data row7 col1\" >1</td>\n",
       "      <td id=\"T_b3cdc_row7_col2\" class=\"data row7 col2\" >0</td>\n",
       "      <td id=\"T_b3cdc_row7_col3\" class=\"data row7 col3\" >0</td>\n",
       "      <td id=\"T_b3cdc_row7_col4\" class=\"data row7 col4\" >0</td>\n",
       "      <td id=\"T_b3cdc_row7_col5\" class=\"data row7 col5\" >0</td>\n",
       "      <td id=\"T_b3cdc_row7_col6\" class=\"data row7 col6\" >0</td>\n",
       "      <td id=\"T_b3cdc_row7_col7\" class=\"data row7 col7\" >0</td>\n",
       "      <td id=\"T_b3cdc_row7_col8\" class=\"data row7 col8\" >1</td>\n",
       "    </tr>\n",
       "    <tr>\n",
       "      <th id=\"T_b3cdc_level0_row8\" class=\"row_heading level0 row8\" >person_prefer_d_2_l</th>\n",
       "      <td id=\"T_b3cdc_row8_col0\" class=\"data row8 col0\" >1</td>\n",
       "      <td id=\"T_b3cdc_row8_col1\" class=\"data row8 col1\" >0</td>\n",
       "      <td id=\"T_b3cdc_row8_col2\" class=\"data row8 col2\" >0</td>\n",
       "      <td id=\"T_b3cdc_row8_col3\" class=\"data row8 col3\" >0</td>\n",
       "      <td id=\"T_b3cdc_row8_col4\" class=\"data row8 col4\" >0</td>\n",
       "      <td id=\"T_b3cdc_row8_col5\" class=\"data row8 col5\" >0</td>\n",
       "      <td id=\"T_b3cdc_row8_col6\" class=\"data row8 col6\" >0</td>\n",
       "      <td id=\"T_b3cdc_row8_col7\" class=\"data row8 col7\" >0</td>\n",
       "      <td id=\"T_b3cdc_row8_col8\" class=\"data row8 col8\" >1</td>\n",
       "    </tr>\n",
       "    <tr>\n",
       "      <th id=\"T_b3cdc_level0_row9\" class=\"row_heading level0 row9\" >person_prefer_d_2_m</th>\n",
       "      <td id=\"T_b3cdc_row9_col0\" class=\"data row9 col0\" >0</td>\n",
       "      <td id=\"T_b3cdc_row9_col1\" class=\"data row9 col1\" >0</td>\n",
       "      <td id=\"T_b3cdc_row9_col2\" class=\"data row9 col2\" >0</td>\n",
       "      <td id=\"T_b3cdc_row9_col3\" class=\"data row9 col3\" >1</td>\n",
       "      <td id=\"T_b3cdc_row9_col4\" class=\"data row9 col4\" >0</td>\n",
       "      <td id=\"T_b3cdc_row9_col5\" class=\"data row9 col5\" >0</td>\n",
       "      <td id=\"T_b3cdc_row9_col6\" class=\"data row9 col6\" >0</td>\n",
       "      <td id=\"T_b3cdc_row9_col7\" class=\"data row9 col7\" >0</td>\n",
       "      <td id=\"T_b3cdc_row9_col8\" class=\"data row9 col8\" >1</td>\n",
       "    </tr>\n",
       "    <tr>\n",
       "      <th id=\"T_b3cdc_level0_row10\" class=\"row_heading level0 row10\" >person_prefer_d_2_n</th>\n",
       "      <td id=\"T_b3cdc_row10_col0\" class=\"data row10 col0\" >0</td>\n",
       "      <td id=\"T_b3cdc_row10_col1\" class=\"data row10 col1\" >0</td>\n",
       "      <td id=\"T_b3cdc_row10_col2\" class=\"data row10 col2\" >0</td>\n",
       "      <td id=\"T_b3cdc_row10_col3\" class=\"data row10 col3\" >0</td>\n",
       "      <td id=\"T_b3cdc_row10_col4\" class=\"data row10 col4\" >0</td>\n",
       "      <td id=\"T_b3cdc_row10_col5\" class=\"data row10 col5\" >0</td>\n",
       "      <td id=\"T_b3cdc_row10_col6\" class=\"data row10 col6\" >1</td>\n",
       "      <td id=\"T_b3cdc_row10_col7\" class=\"data row10 col7\" >0</td>\n",
       "      <td id=\"T_b3cdc_row10_col8\" class=\"data row10 col8\" >1</td>\n",
       "    </tr>\n",
       "    <tr>\n",
       "      <th id=\"T_b3cdc_level0_row11\" class=\"row_heading level0 row11\" >person_prefer_d_2_s</th>\n",
       "      <td id=\"T_b3cdc_row11_col0\" class=\"data row11 col0\" >0</td>\n",
       "      <td id=\"T_b3cdc_row11_col1\" class=\"data row11 col1\" >1</td>\n",
       "      <td id=\"T_b3cdc_row11_col2\" class=\"data row11 col2\" >0</td>\n",
       "      <td id=\"T_b3cdc_row11_col3\" class=\"data row11 col3\" >0</td>\n",
       "      <td id=\"T_b3cdc_row11_col4\" class=\"data row11 col4\" >0</td>\n",
       "      <td id=\"T_b3cdc_row11_col5\" class=\"data row11 col5\" >0</td>\n",
       "      <td id=\"T_b3cdc_row11_col6\" class=\"data row11 col6\" >0</td>\n",
       "      <td id=\"T_b3cdc_row11_col7\" class=\"data row11 col7\" >0</td>\n",
       "      <td id=\"T_b3cdc_row11_col8\" class=\"data row11 col8\" >1</td>\n",
       "    </tr>\n",
       "    <tr>\n",
       "      <th id=\"T_b3cdc_level0_row12\" class=\"row_heading level0 row12\" >person_prefer_d_3_l</th>\n",
       "      <td id=\"T_b3cdc_row12_col0\" class=\"data row12 col0\" >1</td>\n",
       "      <td id=\"T_b3cdc_row12_col1\" class=\"data row12 col1\" >0</td>\n",
       "      <td id=\"T_b3cdc_row12_col2\" class=\"data row12 col2\" >0</td>\n",
       "      <td id=\"T_b3cdc_row12_col3\" class=\"data row12 col3\" >0</td>\n",
       "      <td id=\"T_b3cdc_row12_col4\" class=\"data row12 col4\" >0</td>\n",
       "      <td id=\"T_b3cdc_row12_col5\" class=\"data row12 col5\" >0</td>\n",
       "      <td id=\"T_b3cdc_row12_col6\" class=\"data row12 col6\" >0</td>\n",
       "      <td id=\"T_b3cdc_row12_col7\" class=\"data row12 col7\" >0</td>\n",
       "      <td id=\"T_b3cdc_row12_col8\" class=\"data row12 col8\" >1</td>\n",
       "    </tr>\n",
       "    <tr>\n",
       "      <th id=\"T_b3cdc_level0_row13\" class=\"row_heading level0 row13\" >person_prefer_d_3_m</th>\n",
       "      <td id=\"T_b3cdc_row13_col0\" class=\"data row13 col0\" >0</td>\n",
       "      <td id=\"T_b3cdc_row13_col1\" class=\"data row13 col1\" >0</td>\n",
       "      <td id=\"T_b3cdc_row13_col2\" class=\"data row13 col2\" >1</td>\n",
       "      <td id=\"T_b3cdc_row13_col3\" class=\"data row13 col3\" >0</td>\n",
       "      <td id=\"T_b3cdc_row13_col4\" class=\"data row13 col4\" >0</td>\n",
       "      <td id=\"T_b3cdc_row13_col5\" class=\"data row13 col5\" >0</td>\n",
       "      <td id=\"T_b3cdc_row13_col6\" class=\"data row13 col6\" >0</td>\n",
       "      <td id=\"T_b3cdc_row13_col7\" class=\"data row13 col7\" >0</td>\n",
       "      <td id=\"T_b3cdc_row13_col8\" class=\"data row13 col8\" >1</td>\n",
       "    </tr>\n",
       "    <tr>\n",
       "      <th id=\"T_b3cdc_level0_row14\" class=\"row_heading level0 row14\" >person_prefer_d_3_n</th>\n",
       "      <td id=\"T_b3cdc_row14_col0\" class=\"data row14 col0\" >0</td>\n",
       "      <td id=\"T_b3cdc_row14_col1\" class=\"data row14 col1\" >0</td>\n",
       "      <td id=\"T_b3cdc_row14_col2\" class=\"data row14 col2\" >0</td>\n",
       "      <td id=\"T_b3cdc_row14_col3\" class=\"data row14 col3\" >0</td>\n",
       "      <td id=\"T_b3cdc_row14_col4\" class=\"data row14 col4\" >1</td>\n",
       "      <td id=\"T_b3cdc_row14_col5\" class=\"data row14 col5\" >0</td>\n",
       "      <td id=\"T_b3cdc_row14_col6\" class=\"data row14 col6\" >0</td>\n",
       "      <td id=\"T_b3cdc_row14_col7\" class=\"data row14 col7\" >0</td>\n",
       "      <td id=\"T_b3cdc_row14_col8\" class=\"data row14 col8\" >1</td>\n",
       "    </tr>\n",
       "    <tr>\n",
       "      <th id=\"T_b3cdc_level0_row15\" class=\"row_heading level0 row15\" >person_prefer_d_3_s</th>\n",
       "      <td id=\"T_b3cdc_row15_col0\" class=\"data row15 col0\" >0</td>\n",
       "      <td id=\"T_b3cdc_row15_col1\" class=\"data row15 col1\" >1</td>\n",
       "      <td id=\"T_b3cdc_row15_col2\" class=\"data row15 col2\" >0</td>\n",
       "      <td id=\"T_b3cdc_row15_col3\" class=\"data row15 col3\" >0</td>\n",
       "      <td id=\"T_b3cdc_row15_col4\" class=\"data row15 col4\" >0</td>\n",
       "      <td id=\"T_b3cdc_row15_col5\" class=\"data row15 col5\" >0</td>\n",
       "      <td id=\"T_b3cdc_row15_col6\" class=\"data row15 col6\" >0</td>\n",
       "      <td id=\"T_b3cdc_row15_col7\" class=\"data row15 col7\" >0</td>\n",
       "      <td id=\"T_b3cdc_row15_col8\" class=\"data row15 col8\" >1</td>\n",
       "    </tr>\n",
       "    <tr>\n",
       "      <th id=\"T_b3cdc_level0_row16\" class=\"row_heading level0 row16\" >All</th>\n",
       "      <td id=\"T_b3cdc_row16_col0\" class=\"data row16 col0\" >4</td>\n",
       "      <td id=\"T_b3cdc_row16_col1\" class=\"data row16 col1\" >4</td>\n",
       "      <td id=\"T_b3cdc_row16_col2\" class=\"data row16 col2\" >1</td>\n",
       "      <td id=\"T_b3cdc_row16_col3\" class=\"data row16 col3\" >3</td>\n",
       "      <td id=\"T_b3cdc_row16_col4\" class=\"data row16 col4\" >1</td>\n",
       "      <td id=\"T_b3cdc_row16_col5\" class=\"data row16 col5\" >1</td>\n",
       "      <td id=\"T_b3cdc_row16_col6\" class=\"data row16 col6\" >1</td>\n",
       "      <td id=\"T_b3cdc_row16_col7\" class=\"data row16 col7\" >1</td>\n",
       "      <td id=\"T_b3cdc_row16_col8\" class=\"data row16 col8\" >16</td>\n",
       "    </tr>\n",
       "  </tbody>\n",
       "</table>\n"
      ],
      "text/plain": [
       "<pandas.io.formats.style.Styler at 0x2064232dc70>"
      ]
     },
     "execution_count": 110,
     "metadata": {},
     "output_type": "execute_result"
    }
   ],
   "source": [
    "index= job.select_dtypes('float64').apply(pd.Series.nunique,axis=0).index\n",
    "values= job.select_dtypes('float64').apply(pd.Series.nunique, axis=0).values\n",
    "pd.crosstab(index, values, margins =True).style.background_gradient(cmap='Reds')"
   ]
  },
  {
   "cell_type": "code",
   "execution_count": 111,
   "metadata": {},
   "outputs": [
    {
     "data": {
      "text/plain": [
       "<AxesSubplot:title={'center':'person_attribute_a'}>"
      ]
     },
     "execution_count": 111,
     "metadata": {},
     "output_type": "execute_result"
    },
    {
     "data": {
      "image/png": "[encoded data removed]",
      "text/plain": [
       "<Figure size 432x288 with 1 Axes>"
      ]
     },
     "metadata": {},
     "output_type": "display_data"
    }
   ],
   "source": [
    "job['person_attribute_a'].value_counts().plot.bar(title ='person_attribute_a')"
   ]
  },
  {
   "cell_type": "code",
   "execution_count": 115,
   "metadata": {},
   "outputs": [
    {
     "data": {
      "image/png": "[encoded data removed]",
      "text/plain": [
       "<Figure size 576x576 with 2 Axes>"
      ]
     },
     "metadata": {},
     "output_type": "display_data"
    }
   ],
   "source": [
    "f, ax = plt.subplots(1,2, figsize=(8,8))\n",
    "\n",
    "x='person_attribute_a'\n",
    "y='target'\n",
    "\n",
    "sns.countplot('person_attribute_a', hue='target', data=job, ax=ax[0])\n",
    "\n",
    "sns.histplot(job,\n",
    "    x ='person_attribute_a',\n",
    "    hue='target',\n",
    "    multiple='stack',\n",
    "    palette='pastel',\n",
    "    edgecolor='.10',\n",
    "    linewidth='.20',\n",
    "    bins=2,\n",
    "    ax=ax[1])\n",
    "\n",
    "plt.tight_layout(h_pad =2.5)"
   ]
  },
  {
   "cell_type": "code",
   "execution_count": 116,
   "metadata": {},
   "outputs": [
    {
     "data": {
      "text/plain": [
       "<seaborn.axisgrid.FacetGrid at 0x20642331b80>"
      ]
     },
     "execution_count": 116,
     "metadata": {},
     "output_type": "execute_result"
    },
    {
     "data": {
      "image/png": "[encoded data removed]",
      "text/plain": [
       "<Figure size 360x360 with 1 Axes>"
      ]
     },
     "metadata": {},
     "output_type": "display_data"
    }
   ],
   "source": [
    "sns.factorplot(x,y,data=job)"
   ]
  },
  {
   "cell_type": "code",
   "execution_count": 117,
   "metadata": {},
   "outputs": [
    {
     "name": "stdout",
     "output_type": "stream",
     "text": [
      "person_attribute_a_1:\n",
      "0    158626\n",
      "1     61195\n",
      "5     57783\n",
      "2     51895\n",
      "6     49820\n",
      "3     46340\n",
      "4     44325\n",
      "7     31967\n",
      "Name: person_attribute_a_1, dtype: int64\n"
     ]
    },
    {
     "data": {
      "text/plain": [
       "<AxesSubplot:xlabel='person_attribute_a_1', ylabel='count'>"
      ]
     },
     "execution_count": 117,
     "metadata": {},
     "output_type": "execute_result"
    },
    {
     "data": {
      "image/png": "[encoded data removed]",
      "text/plain": [
       "<Figure size 432x288 with 1 Axes>"
      ]
     },
     "metadata": {},
     "output_type": "display_data"
    }
   ],
   "source": [
    "print('person_attribute_a_1:')\n",
    "print(job['person_attribute_a_1'].value_counts())\n",
    "\n",
    "sns.countplot('person_attribute_a_1', data=job)"
   ]
  },
  {
   "cell_type": "code",
   "execution_count": 118,
   "metadata": {},
   "outputs": [
    {
     "data": {
      "text/html": [
       "<div>\n",
       "<style scoped>\n",
       "    .dataframe tbody tr th:only-of-type {\n",
       "        vertical-align: middle;\n",
       "    }\n",
       "\n",
       "    .dataframe tbody tr th {\n",
       "        vertical-align: top;\n",
       "    }\n",
       "\n",
       "    .dataframe thead th {\n",
       "        text-align: right;\n",
       "    }\n",
       "</style>\n",
       "<table border=\"1\" class=\"dataframe\">\n",
       "  <thead>\n",
       "    <tr style=\"text-align: right;\">\n",
       "      <th></th>\n",
       "      <th>number of value</th>\n",
       "      <th>% of total value</th>\n",
       "    </tr>\n",
       "  </thead>\n",
       "  <tbody>\n",
       "    <tr>\n",
       "      <th>0</th>\n",
       "      <td>158626</td>\n",
       "      <td>31.601889</td>\n",
       "    </tr>\n",
       "    <tr>\n",
       "      <th>1</th>\n",
       "      <td>61195</td>\n",
       "      <td>12.191429</td>\n",
       "    </tr>\n",
       "    <tr>\n",
       "      <th>5</th>\n",
       "      <td>57783</td>\n",
       "      <td>11.511681</td>\n",
       "    </tr>\n",
       "    <tr>\n",
       "      <th>2</th>\n",
       "      <td>51895</td>\n",
       "      <td>10.338659</td>\n",
       "    </tr>\n",
       "    <tr>\n",
       "      <th>6</th>\n",
       "      <td>49820</td>\n",
       "      <td>9.925272</td>\n",
       "    </tr>\n",
       "    <tr>\n",
       "      <th>3</th>\n",
       "      <td>46340</td>\n",
       "      <td>9.231977</td>\n",
       "    </tr>\n",
       "    <tr>\n",
       "      <th>4</th>\n",
       "      <td>44325</td>\n",
       "      <td>8.830543</td>\n",
       "    </tr>\n",
       "    <tr>\n",
       "      <th>7</th>\n",
       "      <td>31967</td>\n",
       "      <td>6.368550</td>\n",
       "    </tr>\n",
       "  </tbody>\n",
       "</table>\n",
       "</div>"
      ],
      "text/plain": [
       "   number of value  % of total value\n",
       "0           158626         31.601889\n",
       "1            61195         12.191429\n",
       "5            57783         11.511681\n",
       "2            51895         10.338659\n",
       "6            49820          9.925272\n",
       "3            46340          9.231977\n",
       "4            44325          8.830543\n",
       "7            31967          6.368550"
      ]
     },
     "execution_count": 118,
     "metadata": {},
     "output_type": "execute_result"
    }
   ],
   "source": [
    "value = job['person_attribute_a_1'].value_counts()\n",
    "value_percent=job['person_attribute_a_1'].value_counts()/len(job) *100\n",
    "\n",
    "value_table=pd.concat([value, value_percent], axis=1)\n",
    "value_table.columns =['number of value', '% of total value']\n",
    "\n",
    "value_table"
   ]
  },
  {
   "cell_type": "code",
   "execution_count": 119,
   "metadata": {},
   "outputs": [
    {
     "data": {
      "image/png": "[encoded data removed]",
      "text/plain": [
       "<Figure size 1080x1080 with 4 Axes>"
      ]
     },
     "metadata": {},
     "output_type": "display_data"
    }
   ],
   "source": [
    "f, ax = plt.subplots(2,2, figsize=(15,15))\n",
    "\n",
    "sns.countplot('person_attribute_a_1', hue = 'target', data =job, ax=ax[0][0])\n",
    "sns.histplot(job,\n",
    "            x = \"person_attribute_a_1\",\n",
    "            hue=\"target\",\n",
    "            multiple=\"stack\", \n",
    "            palette=\"Pastel1\",\n",
    "            edgecolor=\".10\",\n",
    "            linewidth=\".20\",\n",
    "            bins = 8,\n",
    "            ax = ax[0][1])\n",
    "sns.kdeplot(data=job, x=\"person_attribute_a_1\", hue='target', ax=ax[1][0])\n",
    "sns.violinplot(data=job, x=\"target\", y=\"person_attribute_a_1\", ax=ax[1][1])\n",
    "plt.show()"
   ]
  },
  {
   "cell_type": "code",
   "execution_count": 120,
   "metadata": {},
   "outputs": [
    {
     "data": {
      "text/plain": [
       "<seaborn.axisgrid.FacetGrid at 0x2063ffeefa0>"
      ]
     },
     "execution_count": 120,
     "metadata": {},
     "output_type": "execute_result"
    },
    {
     "data": {
      "image/png": "[encoded data removed]",
      "text/plain": [
       "<Figure size 765.725x360 with 2 Axes>"
      ]
     },
     "metadata": {},
     "output_type": "display_data"
    }
   ],
   "source": [
    "sns.catplot('person_attribute_a_1',col = 'person_attribute_a', \n",
    "            hue = 'target', kind='count', palette='pastel', \n",
    "            data =job)"
   ]
  },
  {
   "cell_type": "code",
   "execution_count": 121,
   "metadata": {},
   "outputs": [
    {
     "data": {
      "text/plain": [
       "<seaborn.axisgrid.FacetGrid at 0x2063ffc7c70>"
      ]
     },
     "execution_count": 121,
     "metadata": {},
     "output_type": "execute_result"
    },
    {
     "data": {
      "image/png": "[encoded data removed]",
      "text/plain": [
       "<Figure size 360x360 with 1 Axes>"
      ]
     },
     "metadata": {},
     "output_type": "display_data"
    }
   ],
   "source": [
    "sns.catplot(x=\"person_attribute_a_1\", y=\"target\", kind=\"bar\", data=job)"
   ]
  },
  {
   "cell_type": "code",
   "execution_count": 122,
   "metadata": {},
   "outputs": [
    {
     "data": {
      "text/plain": [
       "<seaborn.axisgrid.FacetGrid at 0x206cc3d5d90>"
      ]
     },
     "execution_count": 122,
     "metadata": {},
     "output_type": "execute_result"
    },
    {
     "data": {
      "image/png": "[encoded data removed]",
      "text/plain": [
       "<Figure size 360x360 with 1 Axes>"
      ]
     },
     "metadata": {},
     "output_type": "display_data"
    }
   ],
   "source": [
    "sns.catplot(x=\"person_attribute_a_1\", y=\"target\", kind=\"bar\", data=job)"
   ]
  },
  {
   "cell_type": "code",
   "execution_count": 123,
   "metadata": {},
   "outputs": [
    {
     "data": {
      "text/plain": [
       "<seaborn.axisgrid.FacetGrid at 0x2063fd34ee0>"
      ]
     },
     "execution_count": 123,
     "metadata": {},
     "output_type": "execute_result"
    },
    {
     "data": {
      "image/png": "[encoded data removed]",
      "text/plain": [
       "<Figure size 720x360 with 2 Axes>"
      ]
     },
     "metadata": {},
     "output_type": "display_data"
    }
   ],
   "source": [
    "sns.catplot(x=\"person_attribute_a_1\", y=\"target\", col = \"person_attribute_a\" , kind=\"bar\", data=job)"
   ]
  },
  {
   "cell_type": "code",
   "execution_count": 124,
   "metadata": {},
   "outputs": [
    {
     "data": {
      "text/plain": [
       "<seaborn.axisgrid.FacetGrid at 0x206b62fcfa0>"
      ]
     },
     "execution_count": 124,
     "metadata": {},
     "output_type": "execute_result"
    },
    {
     "data": {
      "image/png": "[encoded data removed]",
      "text/plain": [
       "<Figure size 360x360 with 1 Axes>"
      ]
     },
     "metadata": {},
     "output_type": "display_data"
    }
   ],
   "source": [
    "sns.lmplot(x = 'person_attribute_a_1', y = 'target', data = job)"
   ]
  },
  {
   "cell_type": "code",
   "execution_count": 127,
   "metadata": {},
   "outputs": [
    {
     "data": {
      "text/html": [
       "<style type=\"text/css\">\n",
       "#T_7b5f0_row0_col0 {\n",
       "  background-color: #c50000;\n",
       "  color: #f1f1f1;\n",
       "}\n",
       "#T_7b5f0_row0_col1 {\n",
       "  background-color: #b80000;\n",
       "  color: #f1f1f1;\n",
       "}\n",
       "#T_7b5f0_row0_col2 {\n",
       "  background-color: #bd0000;\n",
       "  color: #f1f1f1;\n",
       "}\n",
       "#T_7b5f0_row1_col0 {\n",
       "  background-color: #3a0000;\n",
       "  color: #f1f1f1;\n",
       "}\n",
       "#T_7b5f0_row1_col1, #T_7b5f0_row2_col0 {\n",
       "  background-color: #2d0000;\n",
       "  color: #f1f1f1;\n",
       "}\n",
       "#T_7b5f0_row1_col2 {\n",
       "  background-color: #320000;\n",
       "  color: #f1f1f1;\n",
       "}\n",
       "#T_7b5f0_row2_col1, #T_7b5f0_row6_col1 {\n",
       "  background-color: #200000;\n",
       "  color: #f1f1f1;\n",
       "}\n",
       "#T_7b5f0_row2_col2, #T_7b5f0_row3_col0 {\n",
       "  background-color: #250000;\n",
       "  color: #f1f1f1;\n",
       "}\n",
       "#T_7b5f0_row3_col1 {\n",
       "  background-color: #150000;\n",
       "  color: #f1f1f1;\n",
       "}\n",
       "#T_7b5f0_row3_col2 {\n",
       "  background-color: #1d0000;\n",
       "  color: #f1f1f1;\n",
       "}\n",
       "#T_7b5f0_row4_col0, #T_7b5f0_row6_col2 {\n",
       "  background-color: #220000;\n",
       "  color: #f1f1f1;\n",
       "}\n",
       "#T_7b5f0_row4_col1 {\n",
       "  background-color: #120000;\n",
       "  color: #f1f1f1;\n",
       "}\n",
       "#T_7b5f0_row4_col2 {\n",
       "  background-color: #1a0000;\n",
       "  color: #f1f1f1;\n",
       "}\n",
       "#T_7b5f0_row5_col0 {\n",
       "  background-color: #350000;\n",
       "  color: #f1f1f1;\n",
       "}\n",
       "#T_7b5f0_row5_col1, #T_7b5f0_row6_col0 {\n",
       "  background-color: #270000;\n",
       "  color: #f1f1f1;\n",
       "}\n",
       "#T_7b5f0_row5_col2 {\n",
       "  background-color: #2f0000;\n",
       "  color: #f1f1f1;\n",
       "}\n",
       "#T_7b5f0_row7_col0, #T_7b5f0_row7_col1, #T_7b5f0_row7_col2 {\n",
       "  background-color: #0b0000;\n",
       "  color: #f1f1f1;\n",
       "}\n",
       "#T_7b5f0_row8_col0, #T_7b5f0_row8_col1, #T_7b5f0_row8_col2 {\n",
       "  background-color: #ffffff;\n",
       "  color: #000000;\n",
       "}\n",
       "</style>\n",
       "<table id=\"T_7b5f0_\">\n",
       "  <thead>\n",
       "    <tr>\n",
       "      <th class=\"index_name level0\" >target</th>\n",
       "      <th class=\"col_heading level0 col0\" >0</th>\n",
       "      <th class=\"col_heading level0 col1\" >1</th>\n",
       "      <th class=\"col_heading level0 col2\" >All</th>\n",
       "    </tr>\n",
       "    <tr>\n",
       "      <th class=\"index_name level0\" >person_attribute_a_1</th>\n",
       "      <th class=\"blank col0\" >&nbsp;</th>\n",
       "      <th class=\"blank col1\" >&nbsp;</th>\n",
       "      <th class=\"blank col2\" >&nbsp;</th>\n",
       "    </tr>\n",
       "  </thead>\n",
       "  <tbody>\n",
       "    <tr>\n",
       "      <th id=\"T_7b5f0_level0_row0\" class=\"row_heading level0 row0\" >0</th>\n",
       "      <td id=\"T_7b5f0_row0_col0\" class=\"data row0 col0\" >80423</td>\n",
       "      <td id=\"T_7b5f0_row0_col1\" class=\"data row0 col1\" >78203</td>\n",
       "      <td id=\"T_7b5f0_row0_col2\" class=\"data row0 col2\" >158626</td>\n",
       "    </tr>\n",
       "    <tr>\n",
       "      <th id=\"T_7b5f0_level0_row1\" class=\"row_heading level0 row1\" >1</th>\n",
       "      <td id=\"T_7b5f0_row1_col0\" class=\"data row1 col0\" >30739</td>\n",
       "      <td id=\"T_7b5f0_row1_col1\" class=\"data row1 col1\" >30456</td>\n",
       "      <td id=\"T_7b5f0_row1_col2\" class=\"data row1 col2\" >61195</td>\n",
       "    </tr>\n",
       "    <tr>\n",
       "      <th id=\"T_7b5f0_level0_row2\" class=\"row_heading level0 row2\" >2</th>\n",
       "      <td id=\"T_7b5f0_row2_col0\" class=\"data row2 col0\" >26135</td>\n",
       "      <td id=\"T_7b5f0_row2_col1\" class=\"data row2 col1\" >25760</td>\n",
       "      <td id=\"T_7b5f0_row2_col2\" class=\"data row2 col2\" >51895</td>\n",
       "    </tr>\n",
       "    <tr>\n",
       "      <th id=\"T_7b5f0_level0_row3\" class=\"row_heading level0 row3\" >3</th>\n",
       "      <td id=\"T_7b5f0_row3_col0\" class=\"data row3 col0\" >23779</td>\n",
       "      <td id=\"T_7b5f0_row3_col1\" class=\"data row3 col1\" >22561</td>\n",
       "      <td id=\"T_7b5f0_row3_col2\" class=\"data row3 col2\" >46340</td>\n",
       "    </tr>\n",
       "    <tr>\n",
       "      <th id=\"T_7b5f0_level0_row4\" class=\"row_heading level0 row4\" >4</th>\n",
       "      <td id=\"T_7b5f0_row4_col0\" class=\"data row4 col0\" >22889</td>\n",
       "      <td id=\"T_7b5f0_row4_col1\" class=\"data row4 col1\" >21436</td>\n",
       "      <td id=\"T_7b5f0_row4_col2\" class=\"data row4 col2\" >44325</td>\n",
       "    </tr>\n",
       "    <tr>\n",
       "      <th id=\"T_7b5f0_level0_row5\" class=\"row_heading level0 row5\" >5</th>\n",
       "      <td id=\"T_7b5f0_row5_col0\" class=\"data row5 col0\" >29101</td>\n",
       "      <td id=\"T_7b5f0_row5_col1\" class=\"data row5 col1\" >28682</td>\n",
       "      <td id=\"T_7b5f0_row5_col2\" class=\"data row5 col2\" >57783</td>\n",
       "    </tr>\n",
       "    <tr>\n",
       "      <th id=\"T_7b5f0_level0_row6\" class=\"row_heading level0 row6\" >6</th>\n",
       "      <td id=\"T_7b5f0_row6_col0\" class=\"data row6 col0\" >24159</td>\n",
       "      <td id=\"T_7b5f0_row6_col1\" class=\"data row6 col1\" >25661</td>\n",
       "      <td id=\"T_7b5f0_row6_col2\" class=\"data row6 col2\" >49820</td>\n",
       "    </tr>\n",
       "    <tr>\n",
       "      <th id=\"T_7b5f0_level0_row7\" class=\"row_heading level0 row7\" >7</th>\n",
       "      <td id=\"T_7b5f0_row7_col0\" class=\"data row7 col0\" >13881</td>\n",
       "      <td id=\"T_7b5f0_row7_col1\" class=\"data row7 col1\" >18086</td>\n",
       "      <td id=\"T_7b5f0_row7_col2\" class=\"data row7 col2\" >31967</td>\n",
       "    </tr>\n",
       "    <tr>\n",
       "      <th id=\"T_7b5f0_level0_row8\" class=\"row_heading level0 row8\" >All</th>\n",
       "      <td id=\"T_7b5f0_row8_col0\" class=\"data row8 col0\" >251106</td>\n",
       "      <td id=\"T_7b5f0_row8_col1\" class=\"data row8 col1\" >250845</td>\n",
       "      <td id=\"T_7b5f0_row8_col2\" class=\"data row8 col2\" >501951</td>\n",
       "    </tr>\n",
       "  </tbody>\n",
       "</table>\n"
      ],
      "text/plain": [
       "<pandas.io.formats.style.Styler at 0x206b62fceb0>"
      ]
     },
     "execution_count": 127,
     "metadata": {},
     "output_type": "execute_result"
    }
   ],
   "source": [
    "pd.crosstab(job.person_attribute_a_1,job.target,margins=True).style.background_gradient(cmap='hot')"
   ]
  },
  {
   "cell_type": "code",
   "execution_count": null,
   "metadata": {},
   "outputs": [],
   "source": []
  }
 ],
 "metadata": {
  "interpreter": {
   "hash": "a4fd1451840babbb37e6226633a71627e1f918595ad990aa0f1a715d0e292c9f"
  },
  "kernelspec": {
   "display_name": "Python 3.8.8 64-bit ('base': conda)",
   "language": "python",
   "name": "python3"
  },
  "language_info": {
   "codemirror_mode": {
    "name": "ipython",
    "version": 3
   },
   "file_extension": ".py",
   "mimetype": "text/x-python",
   "name": "python",
   "nbconvert_exporter": "python",
   "pygments_lexer": "ipython3",
   "version": "3.8.8"
  },
  "orig_nbformat": 4
 },
 "nbformat": 4,
 "nbformat_minor": 2
}
