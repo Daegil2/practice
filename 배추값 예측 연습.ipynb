{
 "cells": [
  {
   "cell_type": "code",
   "execution_count": 42,
   "id": "e1aa14fa",
   "metadata": {},
   "outputs": [],
   "source": [
    "import tensorflow as tf\n",
    "import numpy as np\n",
    "from pandas.io.parsers import read_csv\n",
    "import tensorflow.compat.v1 as tf\n",
    "\n"
   ]
  },
  {
   "cell_type": "code",
   "execution_count": null,
   "id": "622cbf64",
   "metadata": {},
   "outputs": [],
   "source": [
    "#tensorflow v1버전으로 사용하기 위한 코드\n",
    "tf.disable_v2_behavior()\n",
    "model =tf.global_variables_initializer()"
   ]
  },
  {
   "cell_type": "code",
   "execution_count": 43,
   "id": "83c9a2c8",
   "metadata": {},
   "outputs": [],
   "source": [
    "X = tf.placeholder(tf.float32, shape=[None, 4])\n",
    "Y = tf.placeholder(tf.float32, shape=[None, 1])\n",
    "W=tf.Variable(tf.random_normal([4,1]), name =\"weight\")\n",
    "b=tf.Variable(tf.random_normal([1]),name=\"bias\")"
   ]
  },
  {
   "cell_type": "code",
   "execution_count": 44,
   "id": "e7de0dad",
   "metadata": {},
   "outputs": [],
   "source": [
    "hypothesis =tf.matmul(X,W) +b"
   ]
  },
  {
   "cell_type": "code",
   "execution_count": 45,
   "id": "4beeb88b",
   "metadata": {},
   "outputs": [],
   "source": [
    "saver = tf.train.Saver()\n",
    "model =tf.global_variables_initializer()"
   ]
  },
  {
   "cell_type": "code",
   "execution_count": 46,
   "id": "ff0af81e",
   "metadata": {},
   "outputs": [
    {
     "name": "stdout",
     "output_type": "stream",
     "text": [
      "평균온도:15.5\n",
      "최저온도:3.5\n",
      "최고온도:20.5\n",
      "강수량:5\n"
     ]
    }
   ],
   "source": [
    "avg_temp =float(input('평균온도:'))\n",
    "min_temp =float(input('최저온도:'))\n",
    "max_temp =float(input('최고온도:'))\n",
    "rain_fall = float(input('강수량:'))\n",
    "                    "
   ]
  },
  {
   "cell_type": "code",
   "execution_count": 49,
   "id": "2e54eb32",
   "metadata": {},
   "outputs": [
    {
     "name": "stdout",
     "output_type": "stream",
     "text": [
      "INFO:tensorflow:Restoring parameters from ./saved.cpkt\n",
      "[152.46994]\n"
     ]
    }
   ],
   "source": [
    "with tf.Session() as sess:\n",
    "    sess.run(model)\n",
    "    \n",
    "    save_path = \"./saved.cpkt\"\n",
    "    saver.restore(sess, save_path)\n",
    "    \n",
    "    data =((avg_temp, min_temp, max_temp, rain_fall),)\n",
    "    arr= np.array(data, dtype=np.float32)\n",
    "    \n",
    "    x_data =arr[0:4]\n",
    "    dict =sess.run(hypothesis, feed_dict ={X:x_data})\n",
    "    print(dict[0])"
   ]
  },
  {
   "cell_type": "code",
   "execution_count": null,
   "id": "4b82eae8",
   "metadata": {},
   "outputs": [],
   "source": []
  },
  {
   "cell_type": "code",
   "execution_count": null,
   "id": "58799411",
   "metadata": {},
   "outputs": [],
   "source": []
  }
 ],
 "metadata": {
  "kernelspec": {
   "display_name": "Python 3",
   "language": "python",
   "name": "python3"
  },
  "language_info": {
   "codemirror_mode": {
    "name": "ipython",
    "version": 3
   },
   "file_extension": ".py",
   "mimetype": "text/x-python",
   "name": "python",
   "nbconvert_exporter": "python",
   "pygments_lexer": "ipython3",
   "version": "3.8.8"
  }
 },
 "nbformat": 4,
 "nbformat_minor": 5
}
